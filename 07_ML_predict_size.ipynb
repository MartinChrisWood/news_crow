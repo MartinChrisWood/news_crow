{
 "cells": [
  {
   "cell_type": "markdown",
   "metadata": {},
   "source": [
    "# Predict size of cluster from text content"
   ]
  },
  {
   "cell_type": "code",
   "execution_count": 26,
   "metadata": {},
   "outputs": [],
   "source": [
    "import numpy as np\n",
    "import pandas as pd\n",
    "import seaborn as sns\n",
    "\n",
    "import matplotlib.pyplot as plt\n",
    "\n",
    "import scikitplot as skplt\n",
    "\n",
    "from sklearn.metrics import roc_curve\n",
    "from sklearn.metrics import roc_auc_score\n",
    "from sklearn.metrics import plot_confusion_matrix\n",
    "\n",
    "from sklearn.utils import shuffle\n",
    "\n",
    "%matplotlib inline\n",
    "\n",
    "import lib.helper as helper"
   ]
  },
  {
   "cell_type": "code",
   "execution_count": 27,
   "metadata": {},
   "outputs": [],
   "source": [
    "from sklearn.preprocessing import StandardScaler\n",
    "from sklearn.feature_extraction.text import TfidfVectorizer"
   ]
  },
  {
   "cell_type": "code",
   "execution_count": 28,
   "metadata": {},
   "outputs": [],
   "source": [
    "# Import various metrics by which to judge a model's performance\n",
    "from sklearn.metrics import make_scorer\n",
    "from sklearn.metrics import accuracy_score              # Evaluate a model\n",
    "from sklearn.metrics import f1_score                    # Evaluate a model\n",
    "from sklearn.metrics import precision_score             # Evaluate a model\n",
    "from sklearn.metrics import recall_score                # Evaluate a model\n",
    "\n",
    "# Regression type measurements\n",
    "from sklearn.metrics import mean_squared_error\n",
    "from sklearn.metrics import mean_absolute_error\n",
    "\n",
    "# Import the ML models to try\n",
    "from sklearn.ensemble import RandomForestRegressor\n",
    "from sklearn.linear_model import LinearRegression\n",
    "\n",
    "# Tools for evaluating the model by running it repeatedly with variants of the data\n",
    "from sklearn.model_selection import train_test_split\n",
    "from sklearn.model_selection import cross_validate\n",
    "from sklearn.model_selection import cross_val_predict"
   ]
  },
  {
   "cell_type": "markdown",
   "metadata": {},
   "source": [
    "## 01.  Create features, labels, train-val-test split"
   ]
  },
  {
   "cell_type": "code",
   "execution_count": 29,
   "metadata": {
    "scrolled": true
   },
   "outputs": [],
   "source": [
    "# Load the corpus\n",
    "df = pd.read_csv(\"working/RSS_clustered_louvain.csv\")"
   ]
  },
  {
   "cell_type": "code",
   "execution_count": 30,
   "metadata": {
    "scrolled": true
   },
   "outputs": [
    {
     "data": {
      "text/html": [
       "<div>\n",
       "<style scoped>\n",
       "    .dataframe tbody tr th:only-of-type {\n",
       "        vertical-align: middle;\n",
       "    }\n",
       "\n",
       "    .dataframe tbody tr th {\n",
       "        vertical-align: top;\n",
       "    }\n",
       "\n",
       "    .dataframe thead th {\n",
       "        text-align: right;\n",
       "    }\n",
       "</style>\n",
       "<table border=\"1\" class=\"dataframe\">\n",
       "  <thead>\n",
       "    <tr style=\"text-align: right;\">\n",
       "      <th></th>\n",
       "      <th>cluster_size</th>\n",
       "      <th>tokens</th>\n",
       "      <th>phrased_tokens</th>\n",
       "    </tr>\n",
       "  </thead>\n",
       "  <tbody>\n",
       "    <tr>\n",
       "      <th>4</th>\n",
       "      <td>863</td>\n",
       "      <td>[syria, war, turkey, warn, europ, new, migrant...</td>\n",
       "      <td>[syria_turkey, europ, presid_erdogan, syria]</td>\n",
       "    </tr>\n",
       "    <tr>\n",
       "      <th>29</th>\n",
       "      <td>82</td>\n",
       "      <td>[trump, news, presid, lash, amid, widespread, ...</td>\n",
       "      <td>[presid, afghan, donald_trump, oval_offic, hur...</td>\n",
       "    </tr>\n",
       "    <tr>\n",
       "      <th>33</th>\n",
       "      <td>59</td>\n",
       "      <td>[berni, sander, take, victori, lap, iowa, stat...</td>\n",
       "      <td>[berni_sander, iowa, state, fair, soapbox, iow...</td>\n",
       "    </tr>\n",
       "    <tr>\n",
       "      <th>34</th>\n",
       "      <td>6</td>\n",
       "      <td>[itali, success, eject, far, right, leader, sa...</td>\n",
       "      <td>[itali_salvini, matteo_salvini, leagu, europ]</td>\n",
       "    </tr>\n",
       "    <tr>\n",
       "      <th>44</th>\n",
       "      <td>82</td>\n",
       "      <td>[trump, launch, angri, attack, grace, star, hu...</td>\n",
       "      <td>[grace, hurrican_dorian, ms, mess, american, m...</td>\n",
       "    </tr>\n",
       "    <tr>\n",
       "      <th>...</th>\n",
       "      <td>...</td>\n",
       "      <td>...</td>\n",
       "      <td>...</td>\n",
       "    </tr>\n",
       "    <tr>\n",
       "      <th>31379</th>\n",
       "      <td>20</td>\n",
       "      <td>[trump, coward, complicit, russia, bounti, cla...</td>\n",
       "      <td>[russia, ex, navi_seal, donald_trump]</td>\n",
       "    </tr>\n",
       "    <tr>\n",
       "      <th>31383</th>\n",
       "      <td>505</td>\n",
       "      <td>[insid, amsterdam, red, light, district, sex, ...</td>\n",
       "      <td>[amsterdam, pm, mark, rutt, amsterdam, red, li...</td>\n",
       "    </tr>\n",
       "    <tr>\n",
       "      <th>31385</th>\n",
       "      <td>291</td>\n",
       "      <td>[kim, jong, threaten, ww, south, korea, dirti,...</td>\n",
       "      <td>[kim_jong, ww, south_korea, north_korea, kim_j...</td>\n",
       "    </tr>\n",
       "    <tr>\n",
       "      <th>31391</th>\n",
       "      <td>584</td>\n",
       "      <td>[far, bank, england, predict, quick, econom, b...</td>\n",
       "      <td>[bank_england, quick, econom, uk, gdp]</td>\n",
       "    </tr>\n",
       "    <tr>\n",
       "      <th>31392</th>\n",
       "      <td>584</td>\n",
       "      <td>[faulti, mask, sent, uk, care, home, recal, sp...</td>\n",
       "      <td>[faulti, mask, uk, care_home, fear, uk_covid]</td>\n",
       "    </tr>\n",
       "  </tbody>\n",
       "</table>\n",
       "<p>6131 rows × 3 columns</p>\n",
       "</div>"
      ],
      "text/plain": [
       "       cluster_size                                             tokens  \\\n",
       "4               863  [syria, war, turkey, warn, europ, new, migrant...   \n",
       "29               82  [trump, news, presid, lash, amid, widespread, ...   \n",
       "33               59  [berni, sander, take, victori, lap, iowa, stat...   \n",
       "34                6  [itali, success, eject, far, right, leader, sa...   \n",
       "44               82  [trump, launch, angri, attack, grace, star, hu...   \n",
       "...             ...                                                ...   \n",
       "31379            20  [trump, coward, complicit, russia, bounti, cla...   \n",
       "31383           505  [insid, amsterdam, red, light, district, sex, ...   \n",
       "31385           291  [kim, jong, threaten, ww, south, korea, dirti,...   \n",
       "31391           584  [far, bank, england, predict, quick, econom, b...   \n",
       "31392           584  [faulti, mask, sent, uk, care, home, recal, sp...   \n",
       "\n",
       "                                          phrased_tokens  \n",
       "4           [syria_turkey, europ, presid_erdogan, syria]  \n",
       "29     [presid, afghan, donald_trump, oval_offic, hur...  \n",
       "33     [berni_sander, iowa, state, fair, soapbox, iow...  \n",
       "34         [itali_salvini, matteo_salvini, leagu, europ]  \n",
       "44     [grace, hurrican_dorian, ms, mess, american, m...  \n",
       "...                                                  ...  \n",
       "31379              [russia, ex, navi_seal, donald_trump]  \n",
       "31383  [amsterdam, pm, mark, rutt, amsterdam, red, li...  \n",
       "31385  [kim_jong, ww, south_korea, north_korea, kim_j...  \n",
       "31391             [bank_england, quick, econom, uk, gdp]  \n",
       "31392      [faulti, mask, uk, care_home, fear, uk_covid]  \n",
       "\n",
       "[6131 rows x 3 columns]"
      ]
     },
     "execution_count": 30,
     "metadata": {},
     "output_type": "execute_result"
    }
   ],
   "source": [
    "# A quick utility function to pre-process the text\n",
    "df[\"tokens\"] = df[\"clean_text\"].apply(helper.preprocess_description)\n",
    "df['phrased_tokens'] = helper.get_phrased_nouns(df['clean_text'])\n",
    "\n",
    "# Create variable for cluster size\n",
    "df_size = pd.DataFrame(df['cluster'].value_counts())\n",
    "df_size['cluster_label'] = df_size.index\n",
    "df_size.columns = ['cluster_size', 'cluster']\n",
    "df_size.head()\n",
    "\n",
    "df = df.merge(df_size, on=\"cluster\", how=\"left\")\n",
    "\n",
    "df = df[df['cluster'] != -1]\n",
    "#df['cluster_size'] = np.where(df['cluster']==-1, 0.0, df['cluster_size'])\n",
    "\n",
    "# Take a look at the features and labels\n",
    "df[['cluster_size', 'tokens', 'phrased_tokens']]"
   ]
  },
  {
   "cell_type": "code",
   "execution_count": 31,
   "metadata": {},
   "outputs": [
    {
     "name": "stdout",
     "output_type": "stream",
     "text": [
      "(6131, 5000) (6131,)\n"
     ]
    }
   ],
   "source": [
    "vectorizer = TfidfVectorizer(decode_error=\"ignore\",\n",
    "                             max_features=5000)\n",
    "\n",
    "# Create feature vectors\n",
    "X = vectorizer.fit_transform(df['tokens'].apply(\" \".join))\n",
    "\n",
    "# Create Labels\n",
    "y = np.asarray(df['cluster_size'].astype(float))\n",
    "\n",
    "# Check that worked\n",
    "print(X.shape, y.shape)\n",
    "\n",
    "# Split the data, save 'test' for final pass\n",
    "X_train, X_test, y_train, y_test = train_test_split(X, y, test_size=0.33, random_state=42)"
   ]
  },
  {
   "cell_type": "code",
   "execution_count": 32,
   "metadata": {},
   "outputs": [],
   "source": [
    "# Define the measurements we want to make\n",
    "scoring = {'MSE': make_scorer(mean_squared_error),\n",
    "           'MAE': make_scorer(mean_absolute_error)}\n",
    "\n",
    "#algo = RandomForestRegressor(n_estimators=50, max_depth=10, n_jobs=-1)\n",
    "algo = LinearRegression()\n",
    "\n",
    "results = cross_validate(algo,\n",
    "                         X_train,\n",
    "                         y_train,\n",
    "                         cv=10,\n",
    "                         return_train_score=True,\n",
    "                         return_estimator=True,\n",
    "                         n_jobs=-1)\n",
    "\n",
    "y_pred = cross_val_predict(algo, X_train, y_train, cv=10)"
   ]
  },
  {
   "cell_type": "code",
   "execution_count": 33,
   "metadata": {
    "scrolled": true
   },
   "outputs": [
    {
     "data": {
      "text/plain": [
       "{'fit_time': 2.1186694860458375,\n",
       " 'score_time': 0.001561117172241211,\n",
       " 'test_score': -0.9240338048104075,\n",
       " 'train_score': 0.9999999999764965}"
      ]
     },
     "execution_count": 33,
     "metadata": {},
     "output_type": "execute_result"
    }
   ],
   "source": [
    "{key: np.mean(value) for key, value in results.items() if key != 'estimator'}"
   ]
  },
  {
   "cell_type": "raw",
   "metadata": {},
   "source": [
    "Random Forest Stats\n",
    "\n",
    "phrases+outliers OLD\n",
    "{'fit_time': 2.4845514059066773,\n",
    " 'score_time': 0.009376335144042968,\n",
    " 'test_score': 0.25303649077248497,\n",
    " 'train_score': 0.36247151740917466}\n",
    " \n",
    "phrases-outliers OLD\n",
    "{'fit_time': 1.2548431158065796,\n",
    " 'score_time': 0.004804301261901856,\n",
    " 'test_score': 0.25730414085081976,\n",
    " 'train_score': 0.3795431395174842}\n",
    "\n",
    "phrases-outliers fixed cleaning\n",
    "{'fit_time': 1.2533418893814088,\n",
    " 'score_time': 0.004904794692993164,\n",
    " 'test_score': 0.22930668823223144,\n",
    " 'train_score': 0.35730096286405927}"
   ]
  },
  {
   "cell_type": "markdown",
   "metadata": {},
   "source": [
    "## Diagnostic training plots here"
   ]
  },
  {
   "cell_type": "code",
   "execution_count": 34,
   "metadata": {},
   "outputs": [
    {
     "data": {
      "text/plain": [
       "<seaborn.axisgrid.FacetGrid at 0x210e21b6808>"
      ]
     },
     "execution_count": 34,
     "metadata": {},
     "output_type": "execute_result"
    },
    {
     "data": {
      "image/png": "[encoded data removed]",
      "text/plain": [
       "<Figure size 360x360 with 1 Axes>"
      ]
     },
     "metadata": {
      "needs_background": "light"
     },
     "output_type": "display_data"
    }
   ],
   "source": [
    "temp_df = pd.DataFrame({\"train\": y_train,\n",
    "                        \"pred\": y_pred})\n",
    "\n",
    "# Note this isn't the line of the actual regression model.\n",
    "sns.lmplot(x=\"train\", y=\"pred\", data=temp_df, scatter_kws={\"alpha\":0.05})"
   ]
  },
  {
   "cell_type": "markdown",
   "metadata": {},
   "source": [
    "## Examine features using simple linear regression"
   ]
  },
  {
   "cell_type": "raw",
   "metadata": {},
   "source": [
    "# Fit a traditional Linear Regression Model so that we can examine the p-values and r2 values\n",
    "# of different features\n",
    "\n",
    "import statsmodels.api as sm\n",
    "from patsy import dmatrices"
   ]
  },
  {
   "cell_type": "raw",
   "metadata": {},
   "source": [
    "df_stats = pd.DataFrame(data=X_train.todense(), columns=list(vectorizer.get_feature_names()))\n",
    "df_stats.head()\n",
    "\n",
    "df_stats['StorySize'] = y_train"
   ]
  },
  {
   "cell_type": "raw",
   "metadata": {
    "scrolled": true
   },
   "source": [
    "formula = \"StorySize ~ \" + \" + \".join(vectorizer.get_feature_names())\n",
    "\n",
    "y, X_explore = dmatrices(formula, data=df_stats, return_type='dataframe')"
   ]
  },
  {
   "cell_type": "raw",
   "metadata": {},
   "source": [
    "model = sm.OLS(y, X_explore)\n",
    "results = model.fit()\n",
    "print(results.summary())"
   ]
  }
 ],
 "metadata": {
  "kernelspec": {
   "display_name": "Python 3",
   "language": "python",
   "name": "python3"
  },
  "language_info": {
   "codemirror_mode": {
    "name": "ipython",
    "version": 3
   },
   "file_extension": ".py",
   "mimetype": "text/x-python",
   "name": "python",
   "nbconvert_exporter": "python",
   "pygments_lexer": "ipython3",
   "version": "3.7.6"
  }
 },
 "nbformat": 4,
 "nbformat_minor": 4
}
