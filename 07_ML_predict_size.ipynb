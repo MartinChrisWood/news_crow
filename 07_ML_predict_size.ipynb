{
 "cells": [
  {
   "cell_type": "markdown",
   "metadata": {},
   "source": [
    "# Predict size of cluster from text content"
   ]
  },
  {
   "cell_type": "code",
   "execution_count": 1,
   "metadata": {},
   "outputs": [],
   "source": [
    "import numpy as np\n",
    "import pandas as pd\n",
    "import seaborn as sns\n",
    "\n",
    "import matplotlib.pyplot as plt\n",
    "\n",
    "import scikitplot as skplt\n",
    "\n",
    "from sklearn.utils import shuffle\n",
    "\n",
    "%matplotlib inline\n",
    "\n",
    "import lib.helper as helper"
   ]
  },
  {
   "cell_type": "code",
   "execution_count": 2,
   "metadata": {},
   "outputs": [],
   "source": [
    "from sklearn.preprocessing import StandardScaler\n",
    "from sklearn.feature_extraction.text import TfidfVectorizer\n",
    "from sklearn.feature_extraction.text import CountVectorizer"
   ]
  },
  {
   "cell_type": "code",
   "execution_count": 3,
   "metadata": {},
   "outputs": [],
   "source": [
    "# Import various metrics by which to judge a model's performance\n",
    "from sklearn.metrics import make_scorer\n",
    "from sklearn.metrics import accuracy_score\n",
    "from sklearn.metrics import f1_score\n",
    "from sklearn.metrics import precision_score\n",
    "from sklearn.metrics import recall_score\n",
    "\n",
    "# Regression type measurements\n",
    "from sklearn.metrics import mean_squared_error\n",
    "from sklearn.metrics import r2_score\n",
    "\n",
    "# Import the ML models to try\n",
    "from sklearn.ensemble import RandomForestRegressor\n",
    "from sklearn.linear_model import LinearRegression\n",
    "from sklearn.linear_model import ElasticNet\n",
    "from sklearn.model_selection import GridSearchCV\n",
    "\n",
    "# Tools for evaluating the model by running it repeatedly\n",
    "# with variants of the data\n",
    "from sklearn.model_selection import train_test_split\n",
    "from sklearn.model_selection import cross_validate\n",
    "from sklearn.model_selection import cross_val_predict"
   ]
  },
  {
   "cell_type": "markdown",
   "metadata": {},
   "source": [
    "## 01.  Create features, labels, train-val-test split"
   ]
  },
  {
   "cell_type": "code",
   "execution_count": 4,
   "metadata": {
    "scrolled": true
   },
   "outputs": [],
   "source": [
    "# Load the corpus\n",
    "df = pd.read_csv(\"working/RSS_clustered_louvain_3lim.csv\")"
   ]
  },
  {
   "cell_type": "code",
   "execution_count": 5,
   "metadata": {
    "scrolled": false
   },
   "outputs": [
    {
     "name": "stderr",
     "output_type": "stream",
     "text": [
      "C:\\ProgramData\\Anaconda3\\lib\\site-packages\\dateutil\\parser\\_parser.py:1218: UnknownTimezoneWarning: tzname EST identified but not understood.  Pass `tzinfos` argument in order to correctly return a timezone-aware datetime.  In a future version, this will raise an exception.\n",
      "  category=UnknownTimezoneWarning)\n"
     ]
    },
    {
     "data": {
      "text/html": [
       "<div>\n",
       "<style scoped>\n",
       "    .dataframe tbody tr th:only-of-type {\n",
       "        vertical-align: middle;\n",
       "    }\n",
       "\n",
       "    .dataframe tbody tr th {\n",
       "        vertical-align: top;\n",
       "    }\n",
       "\n",
       "    .dataframe thead th {\n",
       "        text-align: right;\n",
       "    }\n",
       "</style>\n",
       "<table border=\"1\" class=\"dataframe\">\n",
       "  <thead>\n",
       "    <tr style=\"text-align: right;\">\n",
       "      <th></th>\n",
       "      <th>cluster_size</th>\n",
       "      <th>tokens</th>\n",
       "      <th>phrased_tokens</th>\n",
       "    </tr>\n",
       "  </thead>\n",
       "  <tbody>\n",
       "    <tr>\n",
       "      <th>15704</th>\n",
       "      <td>39</td>\n",
       "      <td>[jamal, khashoggi, timelin, saudi, journalist,...</td>\n",
       "      <td>[jamal_khashoggi, timelin, turkey, mr, khashog...</td>\n",
       "    </tr>\n",
       "    <tr>\n",
       "      <th>11938</th>\n",
       "      <td>68</td>\n",
       "      <td>[julian, assang, spi, ecuador, diplomat, staff...</td>\n",
       "      <td>[julian_assang, ecuador, london, wikileak]</td>\n",
       "    </tr>\n",
       "    <tr>\n",
       "      <th>958</th>\n",
       "      <td>7</td>\n",
       "      <td>[trump, news, presid, attack, immigr, el, paso...</td>\n",
       "      <td>[el_paso, california, donald_trump, el_paso, t...</td>\n",
       "    </tr>\n",
       "    <tr>\n",
       "      <th>939</th>\n",
       "      <td>150</td>\n",
       "      <td>[trump, syria, withdraw, hurt, fight, isi, pen...</td>\n",
       "      <td>[trump_syria, isi, pentagon, report, isi_syria...</td>\n",
       "    </tr>\n",
       "    <tr>\n",
       "      <th>938</th>\n",
       "      <td>5</td>\n",
       "      <td>[ebola, crisi, acceler, viru, kill, children, ...</td>\n",
       "      <td>[ebola, democrat_republ, congo]</td>\n",
       "    </tr>\n",
       "  </tbody>\n",
       "</table>\n",
       "</div>"
      ],
      "text/plain": [
       "       cluster_size                                             tokens  \\\n",
       "15704            39  [jamal, khashoggi, timelin, saudi, journalist,...   \n",
       "11938            68  [julian, assang, spi, ecuador, diplomat, staff...   \n",
       "958               7  [trump, news, presid, attack, immigr, el, paso...   \n",
       "939             150  [trump, syria, withdraw, hurt, fight, isi, pen...   \n",
       "938               5  [ebola, crisi, acceler, viru, kill, children, ...   \n",
       "\n",
       "                                          phrased_tokens  \n",
       "15704  [jamal_khashoggi, timelin, turkey, mr, khashog...  \n",
       "11938         [julian_assang, ecuador, london, wikileak]  \n",
       "958    [el_paso, california, donald_trump, el_paso, t...  \n",
       "939    [trump_syria, isi, pentagon, report, isi_syria...  \n",
       "938                      [ebola, democrat_republ, congo]  "
      ]
     },
     "execution_count": 5,
     "metadata": {},
     "output_type": "execute_result"
    }
   ],
   "source": [
    "# A quick utility function to pre-process the text\n",
    "df[\"tokens\"] = df[\"clean_text\"].apply(helper.preprocess_description)\n",
    "df['phrased_tokens'] = helper.get_phrased_nouns(df['clean_text'])\n",
    "\n",
    "# Create variable for cluster size\n",
    "df_size = pd.DataFrame(df['cluster'].value_counts())\n",
    "df_size['cluster_label'] = df_size.index\n",
    "df_size.columns = ['cluster_size', 'cluster']\n",
    "df_size.head()\n",
    "\n",
    "df = df.merge(df_size, on=\"cluster\", how=\"left\")\n",
    "\n",
    "df = df[df['cluster'] != -1]\n",
    "#df['cluster_size'] = np.where(df['cluster']==-1, 1.0, df['cluster_size'])\n",
    "\n",
    "# Sort by date-order, latest last!\n",
    "df['date_clean'] = pd.to_datetime(df['date'], errors='coerce', utc=True)\n",
    "df = df.sort_values(\"date_clean\")\n",
    "\n",
    "# Take a look at the features and labels\n",
    "df[['cluster_size', 'tokens', 'phrased_tokens']].head()"
   ]
  },
  {
   "cell_type": "code",
   "execution_count": 6,
   "metadata": {},
   "outputs": [
    {
     "name": "stdout",
     "output_type": "stream",
     "text": [
      "(4934, 6090) (4934,)\n"
     ]
    }
   ],
   "source": [
    "# vectorizer = TfidfVectorizer(decode_error=\"ignore\", max_features=1000)\n",
    "vectorizer = CountVectorizer(decode_error=\"ignore\", max_features=7000)\n",
    "\n",
    "# Create feature vectors\n",
    "X = vectorizer.fit_transform(df['phrased_tokens'].apply(\" \".join))\n",
    "\n",
    "# Create Labels\n",
    "y = np.asarray(df['cluster_size'].astype(float))\n",
    "\n",
    "# Check that worked\n",
    "print(X.shape, y.shape)\n",
    "\n",
    "# Split the data randomly, save 'test' for final pass\n",
    "#X_train, X_test, y_train, y_test = train_test_split(X, y, test_size=0.2, random_state=42)\n",
    "\n",
    "# Split the data time-wise, save 'test' for final pass\n",
    "X_train, X_test, y_train, y_test = train_test_split(X, y, test_size=0.2, shuffle=False)\n",
    "\n",
    "# Ensure that the training data is shuffled at random\n",
    "X_train, y_train = shuffle(X_train, y_train, random_state=42)"
   ]
  },
  {
   "cell_type": "code",
   "execution_count": 7,
   "metadata": {},
   "outputs": [],
   "source": [
    "# Define the measurements we want to make (GridSearch will default to MSE)\n",
    "scoring = {'MSE': make_scorer(mean_squared_error),\n",
    "           'R2': make_scorer(r2_score)}\n",
    "\n",
    "parameters = {'alpha':[0.01, 0.03, 0.05, 0.07, 0.1, 0.5, 1.0, 2.0],\n",
    "              'l1_ratio': [1.0]}\n",
    "\n",
    "model = ElasticNet()\n",
    "\n",
    "# Perform cross-validated grid-search\n",
    "clf = GridSearchCV(estimator=model,\n",
    "                   cv=5,\n",
    "                   param_grid=parameters,\n",
    "                   return_train_score=True,\n",
    "                   scoring=scoring,\n",
    "                   refit=\"R2\",\n",
    "                   n_jobs=5)\n",
    "\n",
    "clf.fit(X_train, y_train)\n",
    "\n",
    "y_pred = clf.predict(X_train)"
   ]
  },
  {
   "cell_type": "code",
   "execution_count": 8,
   "metadata": {
    "scrolled": false
   },
   "outputs": [
    {
     "data": {
      "text/html": [
       "<div>\n",
       "<style scoped>\n",
       "    .dataframe tbody tr th:only-of-type {\n",
       "        vertical-align: middle;\n",
       "    }\n",
       "\n",
       "    .dataframe tbody tr th {\n",
       "        vertical-align: top;\n",
       "    }\n",
       "\n",
       "    .dataframe thead th {\n",
       "        text-align: right;\n",
       "    }\n",
       "</style>\n",
       "<table border=\"1\" class=\"dataframe\">\n",
       "  <thead>\n",
       "    <tr style=\"text-align: right;\">\n",
       "      <th></th>\n",
       "      <th>params</th>\n",
       "      <th>mean_test_R2</th>\n",
       "      <th>mean_test_MSE</th>\n",
       "    </tr>\n",
       "  </thead>\n",
       "  <tbody>\n",
       "    <tr>\n",
       "      <th>2</th>\n",
       "      <td>{'alpha': 0.05, 'l1_ratio': 1.0}</td>\n",
       "      <td>0.572502</td>\n",
       "      <td>13328.424976</td>\n",
       "    </tr>\n",
       "    <tr>\n",
       "      <th>3</th>\n",
       "      <td>{'alpha': 0.07, 'l1_ratio': 1.0}</td>\n",
       "      <td>0.569873</td>\n",
       "      <td>13409.125784</td>\n",
       "    </tr>\n",
       "    <tr>\n",
       "      <th>1</th>\n",
       "      <td>{'alpha': 0.03, 'l1_ratio': 1.0}</td>\n",
       "      <td>0.557581</td>\n",
       "      <td>13799.256647</td>\n",
       "    </tr>\n",
       "    <tr>\n",
       "      <th>4</th>\n",
       "      <td>{'alpha': 0.1, 'l1_ratio': 1.0}</td>\n",
       "      <td>0.554979</td>\n",
       "      <td>13873.057958</td>\n",
       "    </tr>\n",
       "    <tr>\n",
       "      <th>0</th>\n",
       "      <td>{'alpha': 0.01, 'l1_ratio': 1.0}</td>\n",
       "      <td>0.438764</td>\n",
       "      <td>17522.683098</td>\n",
       "    </tr>\n",
       "    <tr>\n",
       "      <th>5</th>\n",
       "      <td>{'alpha': 0.5, 'l1_ratio': 1.0}</td>\n",
       "      <td>0.391796</td>\n",
       "      <td>19008.701048</td>\n",
       "    </tr>\n",
       "    <tr>\n",
       "      <th>6</th>\n",
       "      <td>{'alpha': 1.0, 'l1_ratio': 1.0}</td>\n",
       "      <td>0.311349</td>\n",
       "      <td>21546.418041</td>\n",
       "    </tr>\n",
       "    <tr>\n",
       "      <th>7</th>\n",
       "      <td>{'alpha': 2.0, 'l1_ratio': 1.0}</td>\n",
       "      <td>0.233209</td>\n",
       "      <td>24002.400818</td>\n",
       "    </tr>\n",
       "  </tbody>\n",
       "</table>\n",
       "</div>"
      ],
      "text/plain": [
       "                             params  mean_test_R2  mean_test_MSE\n",
       "2  {'alpha': 0.05, 'l1_ratio': 1.0}      0.572502   13328.424976\n",
       "3  {'alpha': 0.07, 'l1_ratio': 1.0}      0.569873   13409.125784\n",
       "1  {'alpha': 0.03, 'l1_ratio': 1.0}      0.557581   13799.256647\n",
       "4   {'alpha': 0.1, 'l1_ratio': 1.0}      0.554979   13873.057958\n",
       "0  {'alpha': 0.01, 'l1_ratio': 1.0}      0.438764   17522.683098\n",
       "5   {'alpha': 0.5, 'l1_ratio': 1.0}      0.391796   19008.701048\n",
       "6   {'alpha': 1.0, 'l1_ratio': 1.0}      0.311349   21546.418041\n",
       "7   {'alpha': 2.0, 'l1_ratio': 1.0}      0.233209   24002.400818"
      ]
     },
     "execution_count": 8,
     "metadata": {},
     "output_type": "execute_result"
    }
   ],
   "source": [
    "# Look at the performance of each hyperparameter combination\n",
    "pd.DataFrame(clf.cv_results_)\\\n",
    "  [['params', 'mean_test_R2', 'mean_test_MSE']]\\\n",
    "  .sort_values(\"mean_test_R2\", ascending=False)"
   ]
  },
  {
   "cell_type": "code",
   "execution_count": 9,
   "metadata": {},
   "outputs": [
    {
     "name": "stdout",
     "output_type": "stream",
     "text": [
      "** VALIDATION RESULTS **\n",
      "MSE 21217.265429525407\n",
      "R2 0.48722616544974207\n"
     ]
    }
   ],
   "source": [
    "print(\"** VALIDATION RESULTS **\")\n",
    "for method_name, scorer in scoring.items():\n",
    "    print(method_name, scorer(X=X_test, y_true=y_test, estimator=clf))"
   ]
  },
  {
   "cell_type": "markdown",
   "metadata": {},
   "source": [
    "With all words; cv R2 = 0.24, val R2 = 0.36 (???)\n",
    "\n",
    "With all non-nouns; cv R2 = 0.057, val R2 = 0.09\n",
    "\n",
    "With nouns only; cv R2 = 0.31, val R2 = 0.45\n",
    "\n",
    "With nouns only after remembering to shuffle the damn training data; cv R2 = 0.45, val R2 = 0.45\n",
    "With nouns only after dropping outliers; cv R2 = 0.57, val R2 = 0.45"
   ]
  },
  {
   "cell_type": "code",
   "execution_count": 10,
   "metadata": {},
   "outputs": [
    {
     "data": {
      "text/html": [
       "<div>\n",
       "<style scoped>\n",
       "    .dataframe tbody tr th:only-of-type {\n",
       "        vertical-align: middle;\n",
       "    }\n",
       "\n",
       "    .dataframe tbody tr th {\n",
       "        vertical-align: top;\n",
       "    }\n",
       "\n",
       "    .dataframe thead th {\n",
       "        text-align: right;\n",
       "    }\n",
       "</style>\n",
       "<table border=\"1\" class=\"dataframe\">\n",
       "  <thead>\n",
       "    <tr style=\"text-align: right;\">\n",
       "      <th></th>\n",
       "      <th>name</th>\n",
       "      <th>coefficient</th>\n",
       "      <th>abs_value</th>\n",
       "    </tr>\n",
       "  </thead>\n",
       "  <tbody>\n",
       "    <tr>\n",
       "      <th>2239</th>\n",
       "      <td>guayaquil</td>\n",
       "      <td>271.945228</td>\n",
       "      <td>271.945228</td>\n",
       "    </tr>\n",
       "    <tr>\n",
       "      <th>5448</th>\n",
       "      <td>tougher</td>\n",
       "      <td>-243.630107</td>\n",
       "      <td>243.630107</td>\n",
       "    </tr>\n",
       "    <tr>\n",
       "      <th>4246</th>\n",
       "      <td>pm_scott</td>\n",
       "      <td>238.438617</td>\n",
       "      <td>238.438617</td>\n",
       "    </tr>\n",
       "    <tr>\n",
       "      <th>1237</th>\n",
       "      <td>coronaviru_prime</td>\n",
       "      <td>220.061532</td>\n",
       "      <td>220.061532</td>\n",
       "    </tr>\n",
       "    <tr>\n",
       "      <th>2378</th>\n",
       "      <td>hermit</td>\n",
       "      <td>216.477143</td>\n",
       "      <td>216.477143</td>\n",
       "    </tr>\n",
       "    <tr>\n",
       "      <th>...</th>\n",
       "      <td>...</td>\n",
       "      <td>...</td>\n",
       "      <td>...</td>\n",
       "    </tr>\n",
       "    <tr>\n",
       "      <th>2233</th>\n",
       "      <td>guam</td>\n",
       "      <td>-0.000000</td>\n",
       "      <td>0.000000</td>\n",
       "    </tr>\n",
       "    <tr>\n",
       "      <th>2232</th>\n",
       "      <td>guaido</td>\n",
       "      <td>-0.000000</td>\n",
       "      <td>0.000000</td>\n",
       "    </tr>\n",
       "    <tr>\n",
       "      <th>2231</th>\n",
       "      <td>guadalajara</td>\n",
       "      <td>-0.000000</td>\n",
       "      <td>0.000000</td>\n",
       "    </tr>\n",
       "    <tr>\n",
       "      <th>2230</th>\n",
       "      <td>grégoir</td>\n",
       "      <td>0.000000</td>\n",
       "      <td>0.000000</td>\n",
       "    </tr>\n",
       "    <tr>\n",
       "      <th>6089</th>\n",
       "      <td>łańcut</td>\n",
       "      <td>0.000000</td>\n",
       "      <td>0.000000</td>\n",
       "    </tr>\n",
       "  </tbody>\n",
       "</table>\n",
       "<p>6090 rows × 3 columns</p>\n",
       "</div>"
      ],
      "text/plain": [
       "                  name  coefficient   abs_value\n",
       "2239         guayaquil   271.945228  271.945228\n",
       "5448           tougher  -243.630107  243.630107\n",
       "4246          pm_scott   238.438617  238.438617\n",
       "1237  coronaviru_prime   220.061532  220.061532\n",
       "2378            hermit   216.477143  216.477143\n",
       "...                ...          ...         ...\n",
       "2233              guam    -0.000000    0.000000\n",
       "2232            guaido    -0.000000    0.000000\n",
       "2231       guadalajara    -0.000000    0.000000\n",
       "2230           grégoir     0.000000    0.000000\n",
       "6089            łańcut     0.000000    0.000000\n",
       "\n",
       "[6090 rows x 3 columns]"
      ]
     },
     "execution_count": 10,
     "metadata": {},
     "output_type": "execute_result"
    }
   ],
   "source": [
    "def help_get_coefs(fitted_model, feature_names):\n",
    "    \"\"\"\n",
    "    Gets ordered table of coefficient names and magnitudes\n",
    "    \"\"\"\n",
    "    df = pd.DataFrame({\"name\": feature_names,\n",
    "                       \"coefficient\": fitted_model.coef_})\n",
    "    \n",
    "    # MAGNITUDES rather than VALUE determine importance\n",
    "    df['abs_value'] = df['coefficient'].apply(abs)\n",
    "    \n",
    "    return df.sort_values(\"abs_value\", ascending=False)\n",
    "\n",
    "\n",
    "# In this call, retrieving final (selected and retrained)\n",
    "# estimator from the grid search\n",
    "coef_table = help_get_coefs(clf.best_estimator_, list(vectorizer.get_feature_names()))\n",
    "\n",
    "coef_table"
   ]
  },
  {
   "cell_type": "code",
   "execution_count": 11,
   "metadata": {},
   "outputs": [
    {
     "data": {
      "text/html": [
       "<div>\n",
       "<style scoped>\n",
       "    .dataframe tbody tr th:only-of-type {\n",
       "        vertical-align: middle;\n",
       "    }\n",
       "\n",
       "    .dataframe tbody tr th {\n",
       "        vertical-align: top;\n",
       "    }\n",
       "\n",
       "    .dataframe thead th {\n",
       "        text-align: right;\n",
       "    }\n",
       "</style>\n",
       "<table border=\"1\" class=\"dataframe\">\n",
       "  <thead>\n",
       "    <tr style=\"text-align: right;\">\n",
       "      <th></th>\n",
       "      <th>name</th>\n",
       "      <th>coefficient</th>\n",
       "      <th>abs_value</th>\n",
       "    </tr>\n",
       "  </thead>\n",
       "  <tbody>\n",
       "    <tr>\n",
       "      <th>2239</th>\n",
       "      <td>guayaquil</td>\n",
       "      <td>271.945228</td>\n",
       "      <td>271.945228</td>\n",
       "    </tr>\n",
       "    <tr>\n",
       "      <th>5448</th>\n",
       "      <td>tougher</td>\n",
       "      <td>-243.630107</td>\n",
       "      <td>243.630107</td>\n",
       "    </tr>\n",
       "    <tr>\n",
       "      <th>4246</th>\n",
       "      <td>pm_scott</td>\n",
       "      <td>238.438617</td>\n",
       "      <td>238.438617</td>\n",
       "    </tr>\n",
       "    <tr>\n",
       "      <th>1237</th>\n",
       "      <td>coronaviru_prime</td>\n",
       "      <td>220.061532</td>\n",
       "      <td>220.061532</td>\n",
       "    </tr>\n",
       "    <tr>\n",
       "      <th>2378</th>\n",
       "      <td>hermit</td>\n",
       "      <td>216.477143</td>\n",
       "      <td>216.477143</td>\n",
       "    </tr>\n",
       "    <tr>\n",
       "      <th>1945</th>\n",
       "      <td>foreign</td>\n",
       "      <td>202.543594</td>\n",
       "      <td>202.543594</td>\n",
       "    </tr>\n",
       "    <tr>\n",
       "      <th>4929</th>\n",
       "      <td>shinzo_abe</td>\n",
       "      <td>198.449519</td>\n",
       "      <td>198.449519</td>\n",
       "    </tr>\n",
       "    <tr>\n",
       "      <th>4328</th>\n",
       "      <td>prevent_day</td>\n",
       "      <td>197.021112</td>\n",
       "      <td>197.021112</td>\n",
       "    </tr>\n",
       "    <tr>\n",
       "      <th>4554</th>\n",
       "      <td>report_uk</td>\n",
       "      <td>195.791723</td>\n",
       "      <td>195.791723</td>\n",
       "    </tr>\n",
       "    <tr>\n",
       "      <th>4957</th>\n",
       "      <td>singapor</td>\n",
       "      <td>191.473415</td>\n",
       "      <td>191.473415</td>\n",
       "    </tr>\n",
       "    <tr>\n",
       "      <th>1194</th>\n",
       "      <td>coronaviru_april</td>\n",
       "      <td>-189.165636</td>\n",
       "      <td>189.165636</td>\n",
       "    </tr>\n",
       "    <tr>\n",
       "      <th>3489</th>\n",
       "      <td>mcgee</td>\n",
       "      <td>186.779939</td>\n",
       "      <td>186.779939</td>\n",
       "    </tr>\n",
       "    <tr>\n",
       "      <th>5625</th>\n",
       "      <td>uk_nh</td>\n",
       "      <td>176.856484</td>\n",
       "      <td>176.856484</td>\n",
       "    </tr>\n",
       "    <tr>\n",
       "      <th>2521</th>\n",
       "      <td>hurrican_lorenzo</td>\n",
       "      <td>-173.570560</td>\n",
       "      <td>173.570560</td>\n",
       "    </tr>\n",
       "    <tr>\n",
       "      <th>1972</th>\n",
       "      <td>franc_uk</td>\n",
       "      <td>173.060005</td>\n",
       "      <td>173.060005</td>\n",
       "    </tr>\n",
       "    <tr>\n",
       "      <th>2562</th>\n",
       "      <td>imf</td>\n",
       "      <td>169.797915</td>\n",
       "      <td>169.797915</td>\n",
       "    </tr>\n",
       "    <tr>\n",
       "      <th>5618</th>\n",
       "      <td>uk_govern</td>\n",
       "      <td>166.195836</td>\n",
       "      <td>166.195836</td>\n",
       "    </tr>\n",
       "    <tr>\n",
       "      <th>520</th>\n",
       "      <td>becki</td>\n",
       "      <td>164.392849</td>\n",
       "      <td>164.392849</td>\n",
       "    </tr>\n",
       "    <tr>\n",
       "      <th>1838</th>\n",
       "      <td>fail</td>\n",
       "      <td>160.220700</td>\n",
       "      <td>160.220700</td>\n",
       "    </tr>\n",
       "    <tr>\n",
       "      <th>1022</th>\n",
       "      <td>china_foreign</td>\n",
       "      <td>159.569871</td>\n",
       "      <td>159.569871</td>\n",
       "    </tr>\n",
       "    <tr>\n",
       "      <th>3245</th>\n",
       "      <td>login</td>\n",
       "      <td>-158.899893</td>\n",
       "      <td>158.899893</td>\n",
       "    </tr>\n",
       "    <tr>\n",
       "      <th>5660</th>\n",
       "      <td>unit_kingdom</td>\n",
       "      <td>157.607246</td>\n",
       "      <td>157.607246</td>\n",
       "    </tr>\n",
       "    <tr>\n",
       "      <th>2718</th>\n",
       "      <td>italian</td>\n",
       "      <td>156.798881</td>\n",
       "      <td>156.798881</td>\n",
       "    </tr>\n",
       "    <tr>\n",
       "      <th>1900</th>\n",
       "      <td>fight</td>\n",
       "      <td>155.413563</td>\n",
       "      <td>155.413563</td>\n",
       "    </tr>\n",
       "    <tr>\n",
       "      <th>5617</th>\n",
       "      <td>uk_gov</td>\n",
       "      <td>147.998080</td>\n",
       "      <td>147.998080</td>\n",
       "    </tr>\n",
       "    <tr>\n",
       "      <th>2203</th>\n",
       "      <td>greec_turkey</td>\n",
       "      <td>-147.699756</td>\n",
       "      <td>147.699756</td>\n",
       "    </tr>\n",
       "    <tr>\n",
       "      <th>193</th>\n",
       "      <td>ami_klobuchar</td>\n",
       "      <td>-146.989996</td>\n",
       "      <td>146.989996</td>\n",
       "    </tr>\n",
       "    <tr>\n",
       "      <th>4978</th>\n",
       "      <td>skripal_novichok</td>\n",
       "      <td>-146.922777</td>\n",
       "      <td>146.922777</td>\n",
       "    </tr>\n",
       "    <tr>\n",
       "      <th>5611</th>\n",
       "      <td>uk_covid</td>\n",
       "      <td>146.680279</td>\n",
       "      <td>146.680279</td>\n",
       "    </tr>\n",
       "    <tr>\n",
       "      <th>3179</th>\n",
       "      <td>leyen</td>\n",
       "      <td>145.958787</td>\n",
       "      <td>145.958787</td>\n",
       "    </tr>\n",
       "  </tbody>\n",
       "</table>\n",
       "</div>"
      ],
      "text/plain": [
       "                  name  coefficient   abs_value\n",
       "2239         guayaquil   271.945228  271.945228\n",
       "5448           tougher  -243.630107  243.630107\n",
       "4246          pm_scott   238.438617  238.438617\n",
       "1237  coronaviru_prime   220.061532  220.061532\n",
       "2378            hermit   216.477143  216.477143\n",
       "1945           foreign   202.543594  202.543594\n",
       "4929        shinzo_abe   198.449519  198.449519\n",
       "4328       prevent_day   197.021112  197.021112\n",
       "4554         report_uk   195.791723  195.791723\n",
       "4957          singapor   191.473415  191.473415\n",
       "1194  coronaviru_april  -189.165636  189.165636\n",
       "3489             mcgee   186.779939  186.779939\n",
       "5625             uk_nh   176.856484  176.856484\n",
       "2521  hurrican_lorenzo  -173.570560  173.570560\n",
       "1972          franc_uk   173.060005  173.060005\n",
       "2562               imf   169.797915  169.797915\n",
       "5618         uk_govern   166.195836  166.195836\n",
       "520              becki   164.392849  164.392849\n",
       "1838              fail   160.220700  160.220700\n",
       "1022     china_foreign   159.569871  159.569871\n",
       "3245             login  -158.899893  158.899893\n",
       "5660      unit_kingdom   157.607246  157.607246\n",
       "2718           italian   156.798881  156.798881\n",
       "1900             fight   155.413563  155.413563\n",
       "5617            uk_gov   147.998080  147.998080\n",
       "2203      greec_turkey  -147.699756  147.699756\n",
       "193      ami_klobuchar  -146.989996  146.989996\n",
       "4978  skripal_novichok  -146.922777  146.922777\n",
       "5611          uk_covid   146.680279  146.680279\n",
       "3179             leyen   145.958787  145.958787"
      ]
     },
     "execution_count": 11,
     "metadata": {},
     "output_type": "execute_result"
    }
   ],
   "source": [
    "coef_table.head(30)"
   ]
  },
  {
   "cell_type": "code",
   "execution_count": 12,
   "metadata": {},
   "outputs": [
    {
     "data": {
      "text/html": [
       "<div>\n",
       "<style scoped>\n",
       "    .dataframe tbody tr th:only-of-type {\n",
       "        vertical-align: middle;\n",
       "    }\n",
       "\n",
       "    .dataframe tbody tr th {\n",
       "        vertical-align: top;\n",
       "    }\n",
       "\n",
       "    .dataframe thead th {\n",
       "        text-align: right;\n",
       "    }\n",
       "</style>\n",
       "<table border=\"1\" class=\"dataframe\">\n",
       "  <thead>\n",
       "    <tr style=\"text-align: right;\">\n",
       "      <th></th>\n",
       "      <th>name</th>\n",
       "      <th>coefficient</th>\n",
       "      <th>abs_value</th>\n",
       "    </tr>\n",
       "  </thead>\n",
       "  <tbody>\n",
       "    <tr>\n",
       "      <th>2239</th>\n",
       "      <td>guayaquil</td>\n",
       "      <td>271.945228</td>\n",
       "      <td>271.945228</td>\n",
       "    </tr>\n",
       "    <tr>\n",
       "      <th>5448</th>\n",
       "      <td>tougher</td>\n",
       "      <td>-243.630107</td>\n",
       "      <td>243.630107</td>\n",
       "    </tr>\n",
       "    <tr>\n",
       "      <th>4246</th>\n",
       "      <td>pm_scott</td>\n",
       "      <td>238.438617</td>\n",
       "      <td>238.438617</td>\n",
       "    </tr>\n",
       "    <tr>\n",
       "      <th>1237</th>\n",
       "      <td>coronaviru_prime</td>\n",
       "      <td>220.061532</td>\n",
       "      <td>220.061532</td>\n",
       "    </tr>\n",
       "    <tr>\n",
       "      <th>2378</th>\n",
       "      <td>hermit</td>\n",
       "      <td>216.477143</td>\n",
       "      <td>216.477143</td>\n",
       "    </tr>\n",
       "    <tr>\n",
       "      <th>...</th>\n",
       "      <td>...</td>\n",
       "      <td>...</td>\n",
       "      <td>...</td>\n",
       "    </tr>\n",
       "    <tr>\n",
       "      <th>2842</th>\n",
       "      <td>john_bolton</td>\n",
       "      <td>2.181191</td>\n",
       "      <td>2.181191</td>\n",
       "    </tr>\n",
       "    <tr>\n",
       "      <th>212</th>\n",
       "      <td>andrew</td>\n",
       "      <td>-2.112936</td>\n",
       "      <td>2.112936</td>\n",
       "    </tr>\n",
       "    <tr>\n",
       "      <th>1169</th>\n",
       "      <td>content</td>\n",
       "      <td>2.090256</td>\n",
       "      <td>2.090256</td>\n",
       "    </tr>\n",
       "    <tr>\n",
       "      <th>1965</th>\n",
       "      <td>franc</td>\n",
       "      <td>2.080116</td>\n",
       "      <td>2.080116</td>\n",
       "    </tr>\n",
       "    <tr>\n",
       "      <th>2408</th>\n",
       "      <td>hindu_navratri</td>\n",
       "      <td>-2.029020</td>\n",
       "      <td>2.029020</td>\n",
       "    </tr>\n",
       "  </tbody>\n",
       "</table>\n",
       "<p>1028 rows × 3 columns</p>\n",
       "</div>"
      ],
      "text/plain": [
       "                  name  coefficient   abs_value\n",
       "2239         guayaquil   271.945228  271.945228\n",
       "5448           tougher  -243.630107  243.630107\n",
       "4246          pm_scott   238.438617  238.438617\n",
       "1237  coronaviru_prime   220.061532  220.061532\n",
       "2378            hermit   216.477143  216.477143\n",
       "...                ...          ...         ...\n",
       "2842       john_bolton     2.181191    2.181191\n",
       "212             andrew    -2.112936    2.112936\n",
       "1169           content     2.090256    2.090256\n",
       "1965             franc     2.080116    2.080116\n",
       "2408    hindu_navratri    -2.029020    2.029020\n",
       "\n",
       "[1028 rows x 3 columns]"
      ]
     },
     "execution_count": 12,
     "metadata": {},
     "output_type": "execute_result"
    }
   ],
   "source": [
    "# How many features ultimately selected?\n",
    "# (they're regularised to NEAR zero, so need a tolerance)\n",
    "coef_table[coef_table['abs_value'] >= 2.0]"
   ]
  },
  {
   "cell_type": "code",
   "execution_count": 13,
   "metadata": {},
   "outputs": [
    {
     "data": {
      "text/html": [
       "<div>\n",
       "<style scoped>\n",
       "    .dataframe tbody tr th:only-of-type {\n",
       "        vertical-align: middle;\n",
       "    }\n",
       "\n",
       "    .dataframe tbody tr th {\n",
       "        vertical-align: top;\n",
       "    }\n",
       "\n",
       "    .dataframe thead th {\n",
       "        text-align: right;\n",
       "    }\n",
       "</style>\n",
       "<table border=\"1\" class=\"dataframe\">\n",
       "  <thead>\n",
       "    <tr style=\"text-align: right;\">\n",
       "      <th></th>\n",
       "      <th>name</th>\n",
       "      <th>coefficient</th>\n",
       "      <th>abs_value</th>\n",
       "    </tr>\n",
       "  </thead>\n",
       "  <tbody>\n",
       "    <tr>\n",
       "      <th>2451</th>\n",
       "      <td>hope</td>\n",
       "      <td>0.008145</td>\n",
       "      <td>0.008145</td>\n",
       "    </tr>\n",
       "    <tr>\n",
       "      <th>2484</th>\n",
       "      <td>http</td>\n",
       "      <td>0.007948</td>\n",
       "      <td>0.007948</td>\n",
       "    </tr>\n",
       "    <tr>\n",
       "      <th>5956</th>\n",
       "      <td>wu</td>\n",
       "      <td>-0.000540</td>\n",
       "      <td>0.000540</td>\n",
       "    </tr>\n",
       "    <tr>\n",
       "      <th>6068</th>\n",
       "      <td>zhou</td>\n",
       "      <td>0.000341</td>\n",
       "      <td>0.000341</td>\n",
       "    </tr>\n",
       "    <tr>\n",
       "      <th>1897</th>\n",
       "      <td>fianna</td>\n",
       "      <td>0.000050</td>\n",
       "      <td>0.000050</td>\n",
       "    </tr>\n",
       "    <tr>\n",
       "      <th>...</th>\n",
       "      <td>...</td>\n",
       "      <td>...</td>\n",
       "      <td>...</td>\n",
       "    </tr>\n",
       "    <tr>\n",
       "      <th>2233</th>\n",
       "      <td>guam</td>\n",
       "      <td>-0.000000</td>\n",
       "      <td>0.000000</td>\n",
       "    </tr>\n",
       "    <tr>\n",
       "      <th>2232</th>\n",
       "      <td>guaido</td>\n",
       "      <td>-0.000000</td>\n",
       "      <td>0.000000</td>\n",
       "    </tr>\n",
       "    <tr>\n",
       "      <th>2231</th>\n",
       "      <td>guadalajara</td>\n",
       "      <td>-0.000000</td>\n",
       "      <td>0.000000</td>\n",
       "    </tr>\n",
       "    <tr>\n",
       "      <th>2230</th>\n",
       "      <td>grégoir</td>\n",
       "      <td>0.000000</td>\n",
       "      <td>0.000000</td>\n",
       "    </tr>\n",
       "    <tr>\n",
       "      <th>6089</th>\n",
       "      <td>łańcut</td>\n",
       "      <td>0.000000</td>\n",
       "      <td>0.000000</td>\n",
       "    </tr>\n",
       "  </tbody>\n",
       "</table>\n",
       "<p>5001 rows × 3 columns</p>\n",
       "</div>"
      ],
      "text/plain": [
       "             name  coefficient  abs_value\n",
       "2451         hope     0.008145   0.008145\n",
       "2484         http     0.007948   0.007948\n",
       "5956           wu    -0.000540   0.000540\n",
       "6068         zhou     0.000341   0.000341\n",
       "1897       fianna     0.000050   0.000050\n",
       "...           ...          ...        ...\n",
       "2233         guam    -0.000000   0.000000\n",
       "2232       guaido    -0.000000   0.000000\n",
       "2231  guadalajara    -0.000000   0.000000\n",
       "2230      grégoir     0.000000   0.000000\n",
       "6089       łańcut     0.000000   0.000000\n",
       "\n",
       "[5001 rows x 3 columns]"
      ]
     },
     "execution_count": 13,
     "metadata": {},
     "output_type": "execute_result"
    }
   ],
   "source": [
    "# What features suck?\n",
    "coef_table[coef_table['abs_value'] <= 0.01]"
   ]
  },
  {
   "cell_type": "code",
   "execution_count": 14,
   "metadata": {},
   "outputs": [
    {
     "data": {
      "text/plain": [
       "<matplotlib.axes._subplots.AxesSubplot at 0x22ab3b27308>"
      ]
     },
     "execution_count": 14,
     "metadata": {},
     "output_type": "execute_result"
    },
    {
     "data": {
      "image/png": "[encoded data removed]",
      "text/plain": [
       "<Figure size 432x288 with 1 Axes>"
      ]
     },
     "metadata": {
      "needs_background": "light"
     },
     "output_type": "display_data"
    }
   ],
   "source": [
    "coef_table['abs_value'].hist(bins=30)"
   ]
  },
  {
   "cell_type": "markdown",
   "metadata": {},
   "source": [
    "## Diagnostic Plots\n",
    "I'm, to some degree, improvising my own because no single python package quite does everything I'd expect R to do for a linear regression..."
   ]
  },
  {
   "cell_type": "code",
   "execution_count": 15,
   "metadata": {},
   "outputs": [
    {
     "data": {
      "text/plain": [
       "<seaborn.axisgrid.FacetGrid at 0x22ab3b61748>"
      ]
     },
     "execution_count": 15,
     "metadata": {},
     "output_type": "execute_result"
    },
    {
     "data": {
      "image/png": "[encoded data removed]",
      "text/plain": [
       "<Figure size 360x360 with 1 Axes>"
      ]
     },
     "metadata": {
      "needs_background": "light"
     },
     "output_type": "display_data"
    }
   ],
   "source": [
    "temp_df = pd.DataFrame({\"train\": y_train,\n",
    "                        \"pred\": y_pred})\n",
    "\n",
    "# Note this isn't the line of the actual regression model.\n",
    "sns.lmplot(x=\"train\", y=\"pred\", data=temp_df, scatter_kws={\"alpha\":0.05})"
   ]
  },
  {
   "cell_type": "code",
   "execution_count": 16,
   "metadata": {},
   "outputs": [
    {
     "data": {
      "text/plain": [
       "<seaborn.axisgrid.FacetGrid at 0x22ab3b41b88>"
      ]
     },
     "execution_count": 16,
     "metadata": {},
     "output_type": "execute_result"
    },
    {
     "data": {
      "image/png": "[encoded data removed]",
      "text/plain": [
       "<Figure size 360x360 with 1 Axes>"
      ]
     },
     "metadata": {
      "needs_background": "light"
     },
     "output_type": "display_data"
    }
   ],
   "source": [
    "temp_df = pd.DataFrame({\"train\": y_test,\n",
    "                        \"pred\": clf.best_estimator_.predict(X_test)})\n",
    "\n",
    "# Note this isn't the line of the actual regression model.\n",
    "sns.lmplot(x=\"train\", y=\"pred\", data=temp_df, scatter_kws={\"alpha\":0.05})"
   ]
  },
  {
   "cell_type": "code",
   "execution_count": 17,
   "metadata": {
    "scrolled": true
   },
   "outputs": [
    {
     "data": {
      "image/png": "[encoded data removed]",
      "text/plain": [
       "<Figure size 432x288 with 2 Axes>"
      ]
     },
     "metadata": {
      "needs_background": "light"
     },
     "output_type": "display_data"
    }
   ],
   "source": [
    "def help_plot_residuals(fitted_model, X, y):\n",
    "    \"\"\"\n",
    "    Utility function:  Plot residual values for a given model\n",
    "    and features + predictions\n",
    "    \"\"\"\n",
    "    predicted = fitted_model.predict(X)\n",
    "    residuals = predicted - y\n",
    "    \n",
    "    f = plt.figure(constrained_layout=True)\n",
    "    gs = f.add_gridspec(3, 3)\n",
    "    f_ax0 = f.add_subplot(gs[:, :-1])\n",
    "    f_ax1 = f.add_subplot(gs[:, -1])\n",
    "    \n",
    "    # Residuals vs predicted\n",
    "    sns.scatterplot(x=predicted, y=residuals, alpha=0.2, ax=f_ax0)\n",
    "    \n",
    "    # Hist of residuals\n",
    "    sns.distplot(a=residuals, hist=True, vertical=True, ax=f_ax1)\n",
    "\n",
    "\n",
    "help_plot_residuals(clf.best_estimator_, X_train, y_train)"
   ]
  },
  {
   "cell_type": "code",
   "execution_count": 18,
   "metadata": {},
   "outputs": [],
   "source": [
    "# Fit a traditional Linear Regression Model so that we can examine the p-values and r2 values\n",
    "# of different features\n",
    "\n",
    "import scipy.stats as stats\n",
    "import statsmodels.api as sm\n",
    "from patsy import dmatrices"
   ]
  },
  {
   "cell_type": "code",
   "execution_count": 19,
   "metadata": {},
   "outputs": [
    {
     "data": {
      "image/png": "[encoded data removed]",
      "text/plain": [
       "<Figure size 432x288 with 1 Axes>"
      ]
     },
     "metadata": {
      "needs_background": "light"
     },
     "output_type": "display_data"
    }
   ],
   "source": [
    "# Q-Q plot to gauge suitability of normality assumption\n",
    "res = clf.best_estimator_.predict(X_train) - y_train\n",
    "\n",
    "fig = sm.qqplot(res, stats.t, fit=True, line='45', alpha=0.2)\n",
    "plt.show()"
   ]
  },
  {
   "cell_type": "code",
   "execution_count": 20,
   "metadata": {},
   "outputs": [
    {
     "data": {
      "image/png": "[encoded data removed]",
      "text/plain": [
       "<Figure size 432x288 with 1 Axes>"
      ]
     },
     "metadata": {
      "needs_background": "light"
     },
     "output_type": "display_data"
    }
   ],
   "source": [
    "# Q-Q plot to gauge suitability of normality assumption\n",
    "res = clf.best_estimator_.predict(X_train) - y_train\n",
    "\n",
    "fig = sm.qqplot(res, stats.t, fit=True, line='45', alpha=0.02)\n",
    "fig.axes[0].set_xlim(-15, 15)\n",
    "fig.axes[0].set_ylim(-15, 15)\n",
    "plt.show()"
   ]
  },
  {
   "cell_type": "markdown",
   "metadata": {},
   "source": [
    "## Examine feature significance using an equivalent model in StatsModels"
   ]
  },
  {
   "cell_type": "code",
   "execution_count": 21,
   "metadata": {},
   "outputs": [],
   "source": [
    "df_stats = pd.DataFrame(data=X_train.todense(), columns=list(vectorizer.get_feature_names()))\n",
    "df_stats.head()\n",
    "\n",
    "df_stats['StorySize'] = y_train"
   ]
  },
  {
   "cell_type": "raw",
   "metadata": {},
   "source": [
    "Xk = df_stats[list(vectorizer.get_feature_names())]\n",
    "Ym = df_stats['StorySize']\n",
    "\n",
    "Xm = sm.add_constant(Xk)\n",
    "\n",
    "# fitting the the model for multiple regression \n",
    "Km = sm.OLS(Ym,Xm).fit()\n",
    "Km.summary()"
   ]
  }
 ],
 "metadata": {
  "kernelspec": {
   "display_name": "Python 3",
   "language": "python",
   "name": "python3"
  },
  "language_info": {
   "codemirror_mode": {
    "name": "ipython",
    "version": 3
   },
   "file_extension": ".py",
   "mimetype": "text/x-python",
   "name": "python",
   "nbconvert_exporter": "python",
   "pygments_lexer": "ipython3",
   "version": "3.7.6"
  }
 },
 "nbformat": 4,
 "nbformat_minor": 4
}
