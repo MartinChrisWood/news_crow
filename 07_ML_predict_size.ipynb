{
 "cells": [
  {
   "cell_type": "markdown",
   "metadata": {},
   "source": [
    "# Predict size of cluster from text content"
   ]
  },
  {
   "cell_type": "code",
   "execution_count": 59,
   "metadata": {},
   "outputs": [],
   "source": [
    "import numpy as np\n",
    "import pandas as pd\n",
    "import seaborn as sns\n",
    "\n",
    "import matplotlib.pyplot as plt\n",
    "\n",
    "import scikitplot as skplt\n",
    "\n",
    "from sklearn.metrics import roc_curve\n",
    "from sklearn.metrics import roc_auc_score\n",
    "from sklearn.metrics import plot_confusion_matrix\n",
    "\n",
    "from sklearn.utils import shuffle\n",
    "\n",
    "%matplotlib inline"
   ]
  },
  {
   "cell_type": "code",
   "execution_count": 60,
   "metadata": {},
   "outputs": [],
   "source": [
    "# Creating features\n",
    "from gensim.utils import simple_preprocess\n",
    "from gensim.parsing.preprocessing import STOPWORDS\n",
    "\n",
    "import lib.helper as helper\n",
    "\n",
    "from nltk.stem.porter import *\n",
    "\n",
    "# Define which stemmer to use in the pipeline later\n",
    "stemmer = PorterStemmer()\n",
    "\n",
    "import spacy\n",
    "nlp = spacy.load('en_core_web_sm')\n",
    "from gensim.models.phrases import Phrases, Phraser\n",
    "\n",
    "from sklearn.preprocessing import StandardScaler\n",
    "from sklearn.feature_extraction.text import TfidfVectorizer"
   ]
  },
  {
   "cell_type": "code",
   "execution_count": 61,
   "metadata": {},
   "outputs": [],
   "source": [
    "# Import various metrics by which to judge a model's performance\n",
    "from sklearn.metrics import make_scorer\n",
    "from sklearn.metrics import accuracy_score              # Evaluate a model\n",
    "from sklearn.metrics import f1_score                    # Evaluate a model\n",
    "from sklearn.metrics import precision_score             # Evaluate a model\n",
    "from sklearn.metrics import recall_score                # Evaluate a model\n",
    "\n",
    "# Regression type measurements\n",
    "from sklearn.metrics import mean_squared_error\n",
    "from sklearn.metrics import mean_absolute_error\n",
    "\n",
    "# Import the ML models to try\n",
    "from sklearn.ensemble import RandomForestRegressor\n",
    "\n",
    "# Tools for evaluating the model by running it repeatedly with variants of the data\n",
    "from sklearn.model_selection import train_test_split\n",
    "from sklearn.model_selection import cross_validate\n",
    "from sklearn.model_selection import cross_val_predict"
   ]
  },
  {
   "cell_type": "code",
   "execution_count": 62,
   "metadata": {},
   "outputs": [],
   "source": [
    "def preprocess_desc(description):\n",
    "    return( [stemmer.stem(token) for token in simple_preprocess(str(description)) if token not in STOPWORDS] )\n",
    "\n",
    "\n",
    "def get_phrased_nouns(sentences):\n",
    "    \"\"\" Use spacy to get all of the actual entities, conjoin bigram nouns. \"\"\"\n",
    "\n",
    "    # Get the lists of nouns\n",
    "    noun_lists = []\n",
    "    for doc in sentences:\n",
    "        parsed = nlp(doc)\n",
    "        noun_lists.append([token.lemma_ for token in parsed if token.pos_ == 'PROPN'])\n",
    "\n",
    "    # Build the phrase model\n",
    "    phrases = Phrases(noun_lists, min_count=5, threshold=0.5)\n",
    "\n",
    "    # Get the set of phrases present in the model\n",
    "    results = []\n",
    "    for nouns in noun_lists:\n",
    "        results.append(phrases[nouns])\n",
    "\n",
    "    return results"
   ]
  },
  {
   "cell_type": "markdown",
   "metadata": {},
   "source": [
    "## 01.  Create features, labels, train-val-test split"
   ]
  },
  {
   "cell_type": "code",
   "execution_count": 92,
   "metadata": {
    "scrolled": true
   },
   "outputs": [
    {
     "data": {
      "text/html": [
       "<div>\n",
       "<style scoped>\n",
       "    .dataframe tbody tr th:only-of-type {\n",
       "        vertical-align: middle;\n",
       "    }\n",
       "\n",
       "    .dataframe tbody tr th {\n",
       "        vertical-align: top;\n",
       "    }\n",
       "\n",
       "    .dataframe thead th {\n",
       "        text-align: right;\n",
       "    }\n",
       "</style>\n",
       "<table border=\"1\" class=\"dataframe\">\n",
       "  <thead>\n",
       "    <tr style=\"text-align: right;\">\n",
       "      <th></th>\n",
       "      <th>cluster_size</th>\n",
       "      <th>tokens</th>\n",
       "      <th>phrased_tokens</th>\n",
       "    </tr>\n",
       "  </thead>\n",
       "  <tbody>\n",
       "    <tr>\n",
       "      <th>0</th>\n",
       "      <td>0.001</td>\n",
       "      <td>[hurrican, dorian, lash, bahama, count, cost, ...</td>\n",
       "      <td>[Hurricane_Dorian, US_Bahamas, US_Bahamas]</td>\n",
       "    </tr>\n",
       "    <tr>\n",
       "      <th>1</th>\n",
       "      <td>0.001</td>\n",
       "      <td>[kohistan, video, murder, guilti, honour, kill...</td>\n",
       "      <td>[Kohistan]</td>\n",
       "    </tr>\n",
       "    <tr>\n",
       "      <th>2</th>\n",
       "      <td>0.001</td>\n",
       "      <td>[mh, ukrain, plane, crash, key, wit, releas, u...</td>\n",
       "      <td>[MH17, Ukraine, MH17]</td>\n",
       "    </tr>\n",
       "    <tr>\n",
       "      <th>3</th>\n",
       "      <td>0.001</td>\n",
       "      <td>[articl, wed, ruin, kashmir, lockdown, indian,...</td>\n",
       "      <td>[Kashmir, Indian, Kashmir]</td>\n",
       "    </tr>\n",
       "    <tr>\n",
       "      <th>4</th>\n",
       "      <td>863.000</td>\n",
       "      <td>[syria, war, turkey, warn, europ, new, migrant...</td>\n",
       "      <td>[Syria_Turkey, Europe, President_Erdogan, Syria]</td>\n",
       "    </tr>\n",
       "    <tr>\n",
       "      <th>...</th>\n",
       "      <td>...</td>\n",
       "      <td>...</td>\n",
       "      <td>...</td>\n",
       "    </tr>\n",
       "    <tr>\n",
       "      <th>31388</th>\n",
       "      <td>0.001</td>\n",
       "      <td>[brit, woman, rape, park, stalk, predat, costa...</td>\n",
       "      <td>[park, a.m., Costa, Brava, Costa, Brava, Llore...</td>\n",
       "    </tr>\n",
       "    <tr>\n",
       "      <th>31389</th>\n",
       "      <td>0.001</td>\n",
       "      <td>[babi, girl, born, arm, leg, rare, genet, diso...</td>\n",
       "      <td>[India, BABY, India8217;s, Madhya_Pradesh, Sak...</td>\n",
       "    </tr>\n",
       "    <tr>\n",
       "      <th>31390</th>\n",
       "      <td>0.001</td>\n",
       "      <td>[coronaviru, second, wave, australia, forc, ro...</td>\n",
       "      <td>[Coronavirus_Australia, glimpse, Britain, HUND...</td>\n",
       "    </tr>\n",
       "    <tr>\n",
       "      <th>31391</th>\n",
       "      <td>584.000</td>\n",
       "      <td>[far, bank, england, predict, quick, econom, b...</td>\n",
       "      <td>[Bank_England, Quick, Economic, UK, GDP]</td>\n",
       "    </tr>\n",
       "    <tr>\n",
       "      <th>31392</th>\n",
       "      <td>584.000</td>\n",
       "      <td>[faulti, mask, sent, uk, care, home, recal, sp...</td>\n",
       "      <td>[Faulty, Masks, UK, Care, Homes, Fears, UK_COV...</td>\n",
       "    </tr>\n",
       "  </tbody>\n",
       "</table>\n",
       "<p>31393 rows × 3 columns</p>\n",
       "</div>"
      ],
      "text/plain": [
       "       cluster_size                                             tokens  \\\n",
       "0             0.001  [hurrican, dorian, lash, bahama, count, cost, ...   \n",
       "1             0.001  [kohistan, video, murder, guilti, honour, kill...   \n",
       "2             0.001  [mh, ukrain, plane, crash, key, wit, releas, u...   \n",
       "3             0.001  [articl, wed, ruin, kashmir, lockdown, indian,...   \n",
       "4           863.000  [syria, war, turkey, warn, europ, new, migrant...   \n",
       "...             ...                                                ...   \n",
       "31388         0.001  [brit, woman, rape, park, stalk, predat, costa...   \n",
       "31389         0.001  [babi, girl, born, arm, leg, rare, genet, diso...   \n",
       "31390         0.001  [coronaviru, second, wave, australia, forc, ro...   \n",
       "31391       584.000  [far, bank, england, predict, quick, econom, b...   \n",
       "31392       584.000  [faulti, mask, sent, uk, care, home, recal, sp...   \n",
       "\n",
       "                                          phrased_tokens  \n",
       "0             [Hurricane_Dorian, US_Bahamas, US_Bahamas]  \n",
       "1                                             [Kohistan]  \n",
       "2                                  [MH17, Ukraine, MH17]  \n",
       "3                             [Kashmir, Indian, Kashmir]  \n",
       "4       [Syria_Turkey, Europe, President_Erdogan, Syria]  \n",
       "...                                                  ...  \n",
       "31388  [park, a.m., Costa, Brava, Costa, Brava, Llore...  \n",
       "31389  [India, BABY, India8217;s, Madhya_Pradesh, Sak...  \n",
       "31390  [Coronavirus_Australia, glimpse, Britain, HUND...  \n",
       "31391           [Bank_England, Quick, Economic, UK, GDP]  \n",
       "31392  [Faulty, Masks, UK, Care, Homes, Fears, UK_COV...  \n",
       "\n",
       "[31393 rows x 3 columns]"
      ]
     },
     "execution_count": 92,
     "metadata": {},
     "output_type": "execute_result"
    }
   ],
   "source": [
    "# Load the corpus\n",
    "df = pd.read_csv(\"working/RSS_clustered_louvain.csv\")\n",
    "\n",
    "# A quick utility function to pre-process the text\n",
    "df[\"tokens\"] = df[\"clean_text\"].apply(preprocess_desc)\n",
    "df['phrased_tokens'] = get_phrased_nouns(df['clean_text'])\n",
    "\n",
    "# Create variable for cluster size\n",
    "df_size = pd.DataFrame(df['cluster'].value_counts())\n",
    "df_size['cluster_label'] = df_size.index\n",
    "df_size.columns = ['cluster_size', 'cluster']\n",
    "df_size.head()\n",
    "\n",
    "df = df.merge(df_size, on=\"cluster\", how=\"left\")\n",
    "\n",
    "df['cluster_size'] = np.where(df['cluster']==-1, 0.001, df['cluster_size'])\n",
    "\n",
    "# Take a look at the features and labels\n",
    "df[['cluster_size', 'tokens', 'phrased_tokens']]"
   ]
  },
  {
   "cell_type": "code",
   "execution_count": 93,
   "metadata": {},
   "outputs": [
    {
     "name": "stdout",
     "output_type": "stream",
     "text": [
      "(31393, 5000) (31393,)\n"
     ]
    }
   ],
   "source": [
    "vectorizer = TfidfVectorizer(decode_error=\"ignore\",\n",
    "                             max_features=5000)\n",
    "\n",
    "# Create feature vectors\n",
    "X = vectorizer.fit_transform(df['tokens'].apply(\" \".join))\n",
    "\n",
    "# Create Labels\n",
    "y = np.asarray(np.log(df['cluster_size'].astype(float)))\n",
    "\n",
    "# Check that worked\n",
    "print(X.shape, y.shape)\n",
    "\n",
    "# Split the data, save 'test' for final pass\n",
    "X_train, X_test, y_train, y_test = train_test_split(X, y, test_size=0.33, random_state=42)"
   ]
  },
  {
   "cell_type": "code",
   "execution_count": 94,
   "metadata": {},
   "outputs": [],
   "source": [
    "# Define the measurements we want to make\n",
    "scoring = {'MSE': make_scorer(mean_squared_error),\n",
    "           'MAE': make_scorer(mean_absolute_error)}\n",
    "\n",
    "algo = RandomForestRegressor(n_estimators=50,\n",
    "                             max_depth=10)\n",
    "\n",
    "results = cross_validate(algo,\n",
    "                         X_train,\n",
    "                         y_train,\n",
    "                         cv=10,\n",
    "                         return_train_score=True,\n",
    "                         return_estimator=True,\n",
    "                         n_jobs=-1)\n",
    "\n",
    "y_pred = cross_val_predict(algo, X_train, y_train, cv=10)"
   ]
  },
  {
   "cell_type": "code",
   "execution_count": 95,
   "metadata": {
    "scrolled": true
   },
   "outputs": [
    {
     "data": {
      "text/plain": [
       "{'fit_time': 13.065126824378968,\n",
       " 'score_time': 0.010094332695007324,\n",
       " 'test_score': 0.21795299714359703,\n",
       " 'train_score': 0.2998339672064332}"
      ]
     },
     "execution_count": 95,
     "metadata": {},
     "output_type": "execute_result"
    }
   ],
   "source": [
    "{key: np.mean(value) for key, value in results.items() if key != 'estimator'}"
   ]
  },
  {
   "cell_type": "markdown",
   "metadata": {},
   "source": [
    "## Diagnostic training plots here"
   ]
  },
  {
   "cell_type": "code",
   "execution_count": 96,
   "metadata": {},
   "outputs": [
    {
     "name": "stderr",
     "output_type": "stream",
     "text": [
      "C:\\ProgramData\\Anaconda3\\lib\\site-packages\\ipykernel_launcher.py:1: RuntimeWarning: invalid value encountered in log\n",
      "  \"\"\"Entry point for launching an IPython kernel.\n"
     ]
    },
    {
     "data": {
      "text/plain": [
       "<seaborn.axisgrid.FacetGrid at 0x278cf01fd48>"
      ]
     },
     "execution_count": 96,
     "metadata": {},
     "output_type": "execute_result"
    },
    {
     "data": {
      "image/png": "[encoded data removed]",
      "text/plain": [
       "<Figure size 360x360 with 1 Axes>"
      ]
     },
     "metadata": {
      "needs_background": "light"
     },
     "output_type": "display_data"
    }
   ],
   "source": [
    "temp_df = pd.DataFrame({\"train\": np.log(y_train),\n",
    "                        \"pred\": y_pred})\n",
    "\n",
    "sns.lmplot(x=\"train\", y=\"pred\", data=temp_df, scatter_kws={\"alpha\":0.05})"
   ]
  },
  {
   "cell_type": "markdown",
   "metadata": {},
   "source": [
    "## Examine features using simple linear regression"
   ]
  },
  {
   "cell_type": "code",
   "execution_count": 37,
   "metadata": {},
   "outputs": [],
   "source": [
    "# Fit a traditional Linear Regression Model so that we can examine the p-values and r2 values\n",
    "# of different features\n",
    "\n",
    "import statsmodels.api as sm\n",
    "from patsy import dmatrices"
   ]
  },
  {
   "cell_type": "code",
   "execution_count": 38,
   "metadata": {},
   "outputs": [],
   "source": [
    "df_stats = pd.DataFrame(data=X_train.todense(), columns=list(vectorizer.get_feature_names()))\n",
    "df_stats.head()\n",
    "\n",
    "df_stats['StorySize'] = y_train"
   ]
  },
  {
   "cell_type": "code",
   "execution_count": 39,
   "metadata": {
    "scrolled": true
   },
   "outputs": [
    {
     "ename": "SyntaxError",
     "evalue": "invalid syntax (<unknown>, line 1)",
     "output_type": "error",
     "traceback": [
      "Traceback \u001b[1;36m(most recent call last)\u001b[0m:\n",
      "  File \u001b[0;32m\"C:\\ProgramData\\Anaconda3\\lib\\site-packages\\IPython\\core\\interactiveshell.py\"\u001b[0m, line \u001b[0;32m3331\u001b[0m, in \u001b[0;35mrun_code\u001b[0m\n    exec(code_obj, self.user_global_ns, self.user_ns)\n",
      "  File \u001b[0;32m\"<ipython-input-39-ddedaf8f1b77>\"\u001b[0m, line \u001b[0;32m3\u001b[0m, in \u001b[0;35m<module>\u001b[0m\n    y, X_explore = dmatrices(formula, data=df_stats, return_type='dataframe')\n",
      "  File \u001b[0;32m\"C:\\ProgramData\\Anaconda3\\lib\\site-packages\\patsy\\highlevel.py\"\u001b[0m, line \u001b[0;32m310\u001b[0m, in \u001b[0;35mdmatrices\u001b[0m\n    NA_action, return_type)\n",
      "  File \u001b[0;32m\"C:\\ProgramData\\Anaconda3\\lib\\site-packages\\patsy\\highlevel.py\"\u001b[0m, line \u001b[0;32m165\u001b[0m, in \u001b[0;35m_do_highlevel_design\u001b[0m\n    NA_action)\n",
      "  File \u001b[0;32m\"C:\\ProgramData\\Anaconda3\\lib\\site-packages\\patsy\\highlevel.py\"\u001b[0m, line \u001b[0;32m70\u001b[0m, in \u001b[0;35m_try_incr_builders\u001b[0m\n    NA_action)\n",
      "  File \u001b[0;32m\"C:\\ProgramData\\Anaconda3\\lib\\site-packages\\patsy\\build.py\"\u001b[0m, line \u001b[0;32m689\u001b[0m, in \u001b[0;35mdesign_matrix_builders\u001b[0m\n    factor_states = _factors_memorize(all_factors, data_iter_maker, eval_env)\n",
      "  File \u001b[0;32m\"C:\\ProgramData\\Anaconda3\\lib\\site-packages\\patsy\\build.py\"\u001b[0m, line \u001b[0;32m354\u001b[0m, in \u001b[0;35m_factors_memorize\u001b[0m\n    which_pass = factor.memorize_passes_needed(state, eval_env)\n",
      "  File \u001b[0;32m\"C:\\ProgramData\\Anaconda3\\lib\\site-packages\\patsy\\eval.py\"\u001b[0m, line \u001b[0;32m474\u001b[0m, in \u001b[0;35mmemorize_passes_needed\u001b[0m\n    subset_names = [name for name in ast_names(self.code)\n",
      "  File \u001b[0;32m\"C:\\ProgramData\\Anaconda3\\lib\\site-packages\\patsy\\eval.py\"\u001b[0m, line \u001b[0;32m474\u001b[0m, in \u001b[0;35m<listcomp>\u001b[0m\n    subset_names = [name for name in ast_names(self.code)\n",
      "  File \u001b[0;32m\"C:\\ProgramData\\Anaconda3\\lib\\site-packages\\patsy\\eval.py\"\u001b[0m, line \u001b[0;32m105\u001b[0m, in \u001b[0;35mast_names\u001b[0m\n    for node in ast.walk(ast.parse(code)):\n",
      "\u001b[1;36m  File \u001b[1;32m\"C:\\ProgramData\\Anaconda3\\lib\\ast.py\"\u001b[1;36m, line \u001b[1;32m35\u001b[1;36m, in \u001b[1;35mparse\u001b[1;36m\u001b[0m\n\u001b[1;33m    return compile(source, filename, mode, PyCF_ONLY_AST)\u001b[0m\n",
      "\u001b[1;36m  File \u001b[1;32m\"<unknown>\"\u001b[1;36m, line \u001b[1;32m1\u001b[0m\n\u001b[1;33m    global\u001b[0m\n\u001b[1;37m          ^\u001b[0m\n\u001b[1;31mSyntaxError\u001b[0m\u001b[1;31m:\u001b[0m invalid syntax\n"
     ]
    }
   ],
   "source": [
    "formula = \"StorySize ~ \" + \" + \".join(vectorizer.get_feature_names())\n",
    "\n",
    "y, X_explore = dmatrices(formula, data=df_stats, return_type='dataframe')"
   ]
  },
  {
   "cell_type": "code",
   "execution_count": null,
   "metadata": {},
   "outputs": [],
   "source": [
    "model = sm.OLS(y, X_explore)\n",
    "results = model.fit()\n",
    "print(results.summary())"
   ]
  }
 ],
 "metadata": {
  "kernelspec": {
   "display_name": "Python 3",
   "language": "python",
   "name": "python3"
  },
  "language_info": {
   "codemirror_mode": {
    "name": "ipython",
    "version": 3
   },
   "file_extension": ".py",
   "mimetype": "text/x-python",
   "name": "python",
   "nbconvert_exporter": "python",
   "pygments_lexer": "ipython3",
   "version": "3.7.6"
  }
 },
 "nbformat": 4,
 "nbformat_minor": 4
}
