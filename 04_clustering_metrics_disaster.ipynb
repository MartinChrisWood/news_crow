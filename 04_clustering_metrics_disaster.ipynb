{
 "cells": [
  {
   "cell_type": "markdown",
   "metadata": {},
   "source": [
    "# Gauge the quality of the clusters produced - disaster corpus"
   ]
  },
  {
   "cell_type": "code",
   "execution_count": null,
   "metadata": {},
   "outputs": [],
   "source": [
    "import lib.reporter as reporter"
   ]
  },
  {
   "cell_type": "code",
   "execution_count": null,
   "metadata": {
    "scrolled": false
   },
   "outputs": [],
   "source": [
    "w2v_stats, w2v_coherences, w2v_topics_results = reporter.report_corpus_model_coherence(\"working/disaster_clustered_w2v_pca.csv\")\n",
    "\n",
    "for key, value in w2v_stats.items():\n",
    "    if \"examples\" not in key:\n",
    "        print (key, value)"
   ]
  },
  {
   "cell_type": "code",
   "execution_count": null,
   "metadata": {},
   "outputs": [],
   "source": [
    "# OUTPUT EXAMPLE OF BEST-PERFORMANT"
   ]
  },
  {
   "cell_type": "code",
   "execution_count": null,
   "metadata": {},
   "outputs": [],
   "source": [
    "for key, value in w2v_stats.items():\n",
    "    if \"examples\" in key:\n",
    "        print (key, value)"
   ]
  },
  {
   "cell_type": "code",
   "execution_count": null,
   "metadata": {},
   "outputs": [],
   "source": [
    "kmp_stats, kmp_coherences, kmp_topics_results = reporter.report_corpus_model_coherence(\"working/disaster_kmeans_w2v_direct.csv\")\n",
    "\n",
    "for key, value in kmp_stats.items():\n",
    "    if \"examples\" not in key:\n",
    "        print (key, value)"
   ]
  },
  {
   "cell_type": "code",
   "execution_count": null,
   "metadata": {},
   "outputs": [],
   "source": [
    "w2v_stats, w2v_coherences, w2v_topics_results = reporter.report_corpus_model_coherence(\"working/disaster_clustered_w2v_direct.csv\")\n",
    "\n",
    "for key, value in w2v_stats.items():\n",
    "    if \"examples\" not in key:\n",
    "        print (key, value)"
   ]
  },
  {
   "cell_type": "code",
   "execution_count": null,
   "metadata": {
    "scrolled": false
   },
   "outputs": [],
   "source": [
    "kmp_stats, kmp_coherences, kmp_topics_results = reporter.report_corpus_model_coherence(\"working/disaster_kmeans_w2v_pca.csv\")\n",
    "\n",
    "for key, value in kmp_stats.items():\n",
    "    if \"examples\" not in key:\n",
    "        print (key, value)"
   ]
  },
  {
   "cell_type": "code",
   "execution_count": null,
   "metadata": {},
   "outputs": [],
   "source": [
    "# OUTPUT EXAMPLE OF BEST-PERFORMANT"
   ]
  },
  {
   "cell_type": "code",
   "execution_count": null,
   "metadata": {
    "scrolled": true
   },
   "outputs": [],
   "source": [
    "for key, value in kmp_stats.items():\n",
    "    if \"examples\" in key:\n",
    "        print (key, value)"
   ]
  },
  {
   "cell_type": "markdown",
   "metadata": {},
   "source": [
    "## KEY MODEL"
   ]
  },
  {
   "cell_type": "markdown",
   "metadata": {},
   "source": [
    "## KEY MODEL"
   ]
  },
  {
   "cell_type": "code",
   "execution_count": null,
   "metadata": {
    "scrolled": false
   },
   "outputs": [],
   "source": [
    "from importlib import reload\n",
    "reload(reporter)\n",
    "net3_stats, net3_coherences, net3_topics_results = reporter.report_corpus_model_coherence(\"working/disaster_clustered_louvain_3lim.csv\")\n",
    "\n",
    "for key, value in net3_stats.items():\n",
    "    if \"examples\" not in key:\n",
    "        print (key, value)"
   ]
  },
  {
   "cell_type": "code",
   "execution_count": null,
   "metadata": {
    "scrolled": true
   },
   "outputs": [],
   "source": [
    "for key, value in net3_stats.items():\n",
    "    if \"examples\" in key:\n",
    "        print (key, value)"
   ]
  }
 ],
 "metadata": {
  "kernelspec": {
   "display_name": "Python 3",
   "language": "python",
   "name": "python3"
  },
  "language_info": {
   "codemirror_mode": {
    "name": "ipython",
    "version": 3
   },
   "file_extension": ".py",
   "mimetype": "text/x-python",
   "name": "python",
   "nbconvert_exporter": "python",
   "pygments_lexer": "ipython3",
   "version": "3.7.6"
  }
 },
 "nbformat": 4,
 "nbformat_minor": 2
}
