{
 "cells": [
  {
   "cell_type": "markdown",
   "metadata": {},
   "source": [
    "# Experimenting with Cleaning, Clustering & Summarization Pipelines\n",
    "\n",
    "### To do (technical)\n",
    "- Implement date windows on my corpus loader function"
   ]
  },
  {
   "cell_type": "code",
   "execution_count": 1,
   "metadata": {},
   "outputs": [
    {
     "name": "stderr",
     "output_type": "stream",
     "text": [
      "C:\\Users\\Martin\\Anaconda3\\lib\\site-packages\\sklearn\\externals\\six.py:31: DeprecationWarning: The module is deprecated in version 0.21 and will be removed in version 0.23 since we've dropped support for Python 2.7. Please rely on the official version of six (https://pypi.org/project/six/).\n",
      "  \"(https://pypi.org/project/six/).\", DeprecationWarning)\n",
      "C:\\Users\\Martin\\Anaconda3\\lib\\site-packages\\sklearn\\externals\\joblib\\__init__.py:15: DeprecationWarning: sklearn.externals.joblib is deprecated in 0.21 and will be removed in 0.23. Please import this functionality directly from joblib, which can be installed with: pip install joblib. If this warning is raised when loading pickled models, you may need to re-serialize those models with scikit-learn 0.21+.\n",
      "  warnings.warn(msg, category=DeprecationWarning)\n"
     ]
    }
   ],
   "source": [
    "import os\n",
    "import re\n",
    "import json\n",
    "import hdbscan\n",
    "\n",
    "import numpy as np\n",
    "import pandas as pd\n",
    "\n",
    "from sklearn.decomposition import PCA\n",
    "\n",
    "from lib.helper import *\n",
    "import lib.embedding_models as reps\n",
    "\n",
    "from importlib import reload"
   ]
  },
  {
   "cell_type": "code",
   "execution_count": 2,
   "metadata": {},
   "outputs": [],
   "source": [
    "# Should be same path for all my PC's, it's where each scrape goes as a separate json file.\n",
    "storage_path = \"C:/Users/Martin/Dropbox/news_crow/scrape_results\"\n",
    "\n",
    "# \"bing\" is targeted news search corpus, \"RSS\" is from specific world and local news feeds.\n",
    "corpus_type = \"bing\""
   ]
  },
  {
   "cell_type": "markdown",
   "metadata": {},
   "source": [
    "## 0.  Build Corpus\n",
    "\n",
    "The corpus is being scraped by the \"run_news_scrapes.py\" script (and windows task scheduler) every 12 hours, a bit past midday and a bit past midnight.\n",
    "\n",
    "The \"bing\" corpus are news titles and text extracts gotten from the bing news search API, using a few Home Office - related keywords.\n",
    "\n",
    "The \"RSS\" corpus is plugged directly into a number of RSS feeds for world news sites and local british news sites, with no filters for news story types or subjects applied."
   ]
  },
  {
   "cell_type": "markdown",
   "metadata": {},
   "source": [
    "### First, get a list of all the news dumps created so far"
   ]
  },
  {
   "cell_type": "code",
   "execution_count": 3,
   "metadata": {
    "scrolled": true
   },
   "outputs": [
    {
     "name": "stdout",
     "output_type": "stream",
     "text": [
      "Total files: 34\n",
      "Loading file: bing_corpus_2019-09-05_2135.json\n",
      "Loading file: bing_corpus_2019-09-06_0019.json\n",
      "Loading file: bing_corpus_2019-09-06_1221.json\n",
      "Loading file: bing_corpus_2019-09-07_0019.json\n",
      "Loading file: bing_corpus_2019-09-07_1221.json\n",
      "Loading file: bing_corpus_2019-09-08_0019.json\n",
      "Loading file: bing_corpus_2019-09-08_1221.json\n",
      "Loading file: bing_corpus_2019-09-09_0019.json\n",
      "Loading file: bing_corpus_2019-09-09_1221.json\n",
      "Loading file: bing_corpus_2019-09-10_0019.json\n",
      "Loading file: bing_corpus_2019-09-10_1221.json\n",
      "Loading file: bing_corpus_2019-09-11_0019.json\n",
      "Loading file: bing_corpus_2019-09-11_1221.json\n",
      "Loading file: bing_corpus_2019-09-12_0019.json\n",
      "Loading file: bing_corpus_2019-09-12_1221.json\n",
      "Loading file: bing_corpus_2019-09-13_0019.json\n",
      "Loading file: bing_corpus_2019-09-13_1221.json\n",
      "Loading file: bing_corpus_2019-09-14_0019.json\n",
      "Loading file: bing_corpus_2019-09-14_1221.json\n",
      "Loading file: bing_corpus_2019-09-15_0019.json\n",
      "Loading file: bing_corpus_2019-09-15_2059.json\n",
      "Loading file: bing_corpus_2019-09-16_1221.json\n",
      "Loading file: bing_corpus_2019-09-17_0019.json\n",
      "Loading file: bing_corpus_2019-09-17_1221.json\n",
      "Loading file: bing_corpus_2019-09-18_0019.json\n",
      "Loading file: bing_corpus_2019-09-18_1221.json\n",
      "Loading file: bing_corpus_2019-09-19_0019.json\n",
      "Loading file: bing_corpus_2019-09-19_1221.json\n",
      "Loading file: bing_corpus_2019-09-20_0019.json\n",
      "Loading file: bing_corpus_2019-09-20_1221.json\n",
      "Loading file: bing_corpus_2019-09-21_0019.json\n",
      "Loading file: bing_corpus_2019-09-21_1221.json\n",
      "Loading file: bing_corpus_2019-09-22_0019.json\n",
      "Loading file: bing_corpus_2019-09-22_1221.json\n"
     ]
    }
   ],
   "source": [
    "corpus = corpus_loader(storage_path, corpus_type)"
   ]
  },
  {
   "cell_type": "code",
   "execution_count": 4,
   "metadata": {
    "scrolled": true
   },
   "outputs": [
    {
     "data": {
      "text/html": [
       "<div>\n",
       "<style scoped>\n",
       "    .dataframe tbody tr th:only-of-type {\n",
       "        vertical-align: middle;\n",
       "    }\n",
       "\n",
       "    .dataframe tbody tr th {\n",
       "        vertical-align: top;\n",
       "    }\n",
       "\n",
       "    .dataframe thead th {\n",
       "        text-align: right;\n",
       "    }\n",
       "</style>\n",
       "<table border=\"1\" class=\"dataframe\">\n",
       "  <thead>\n",
       "    <tr style=\"text-align: right;\">\n",
       "      <th></th>\n",
       "      <th>date</th>\n",
       "      <th>link</th>\n",
       "      <th>origin</th>\n",
       "      <th>retrieval_timestamp</th>\n",
       "      <th>source_url</th>\n",
       "      <th>summary</th>\n",
       "      <th>title</th>\n",
       "    </tr>\n",
       "  </thead>\n",
       "  <tbody>\n",
       "    <tr>\n",
       "      <th>0</th>\n",
       "      <td>2019-09-05T17:32:00.0000000Z</td>\n",
       "      <td>https://www.desmoinesregister.com/story/opinio...</td>\n",
       "      <td>bing_news_api</td>\n",
       "      <td>2019-09-05 21:35:05.105002</td>\n",
       "      <td>www.desmoinesregister.com</td>\n",
       "      <td>&lt;b&gt;Immigration&lt;/b&gt; raids are as devastating to...</td>\n",
       "      <td>&lt;b&gt;Immigration&lt;/b&gt; raids are as devastating to...</td>\n",
       "    </tr>\n",
       "    <tr>\n",
       "      <th>1</th>\n",
       "      <td>2019-09-05T20:06:00.0000000Z</td>\n",
       "      <td>https://www.philstar.com/the-freeman/cebu-news...</td>\n",
       "      <td>bing_news_api</td>\n",
       "      <td>2019-09-05 21:35:05.105002</td>\n",
       "      <td>www.philstar.com</td>\n",
       "      <td>CEBU, Philippines — The Department of Justice ...</td>\n",
       "      <td>&lt;b&gt;Immigration&lt;/b&gt; told to monitor convicts: L...</td>\n",
       "    </tr>\n",
       "    <tr>\n",
       "      <th>2</th>\n",
       "      <td>2019-09-05T17:21:00.0000000Z</td>\n",
       "      <td>https://www.irishtimes.com/news/crime-and-law/...</td>\n",
       "      <td>bing_news_api</td>\n",
       "      <td>2019-09-05 21:35:05.106001</td>\n",
       "      <td>www.irishtimes.com</td>\n",
       "      <td>Three members of an organised crime gang were ...</td>\n",
       "      <td>Three people jailed for assisting illegal &lt;b&gt;i...</td>\n",
       "    </tr>\n",
       "    <tr>\n",
       "      <th>3</th>\n",
       "      <td>2019-09-05T20:12:00.0000000Z</td>\n",
       "      <td>https://www.correctionsone.com/immigration-det...</td>\n",
       "      <td>bing_news_api</td>\n",
       "      <td>2019-09-05 21:35:05.106001</td>\n",
       "      <td>www.correctionsone.com</td>\n",
       "      <td>NATCHEZ, Miss. — A privately run prison in Mis...</td>\n",
       "      <td>&lt;b&gt;Immigration&lt;/b&gt; agency sets new contract wi...</td>\n",
       "    </tr>\n",
       "    <tr>\n",
       "      <th>4</th>\n",
       "      <td>2019-09-05T19:27:00.0000000Z</td>\n",
       "      <td>https://www.nzherald.co.nz/nz/news/article.cfm...</td>\n",
       "      <td>bing_news_api</td>\n",
       "      <td>2019-09-05 21:35:05.106001</td>\n",
       "      <td>www.nzherald.co.nz</td>\n",
       "      <td>A licensed &lt;b&gt;immigration&lt;/b&gt; adviser has been...</td>\n",
       "      <td>&lt;b&gt;Immigration&lt;/b&gt; adviser censured and fined ...</td>\n",
       "    </tr>\n",
       "  </tbody>\n",
       "</table>\n",
       "</div>"
      ],
      "text/plain": [
       "                           date  \\\n",
       "0  2019-09-05T17:32:00.0000000Z   \n",
       "1  2019-09-05T20:06:00.0000000Z   \n",
       "2  2019-09-05T17:21:00.0000000Z   \n",
       "3  2019-09-05T20:12:00.0000000Z   \n",
       "4  2019-09-05T19:27:00.0000000Z   \n",
       "\n",
       "                                                link         origin  \\\n",
       "0  https://www.desmoinesregister.com/story/opinio...  bing_news_api   \n",
       "1  https://www.philstar.com/the-freeman/cebu-news...  bing_news_api   \n",
       "2  https://www.irishtimes.com/news/crime-and-law/...  bing_news_api   \n",
       "3  https://www.correctionsone.com/immigration-det...  bing_news_api   \n",
       "4  https://www.nzherald.co.nz/nz/news/article.cfm...  bing_news_api   \n",
       "\n",
       "          retrieval_timestamp                 source_url  \\\n",
       "0  2019-09-05 21:35:05.105002  www.desmoinesregister.com   \n",
       "1  2019-09-05 21:35:05.105002           www.philstar.com   \n",
       "2  2019-09-05 21:35:05.106001         www.irishtimes.com   \n",
       "3  2019-09-05 21:35:05.106001     www.correctionsone.com   \n",
       "4  2019-09-05 21:35:05.106001         www.nzherald.co.nz   \n",
       "\n",
       "                                             summary  \\\n",
       "0  <b>Immigration</b> raids are as devastating to...   \n",
       "1  CEBU, Philippines — The Department of Justice ...   \n",
       "2  Three members of an organised crime gang were ...   \n",
       "3  NATCHEZ, Miss. — A privately run prison in Mis...   \n",
       "4  A licensed <b>immigration</b> adviser has been...   \n",
       "\n",
       "                                               title  \n",
       "0  <b>Immigration</b> raids are as devastating to...  \n",
       "1  <b>Immigration</b> told to monitor convicts: L...  \n",
       "2  Three people jailed for assisting illegal <b>i...  \n",
       "3  <b>Immigration</b> agency sets new contract wi...  \n",
       "4  <b>Immigration</b> adviser censured and fined ...  "
      ]
     },
     "execution_count": 4,
     "metadata": {},
     "output_type": "execute_result"
    }
   ],
   "source": [
    "corpus.head()"
   ]
  },
  {
   "cell_type": "markdown",
   "metadata": {},
   "source": [
    "## 1. Clean Text\n",
    "\n",
    "By default, I'm not going to clean out all punctuation because I think it informs the POS tagger to some degree."
   ]
  },
  {
   "cell_type": "code",
   "execution_count": 5,
   "metadata": {},
   "outputs": [],
   "source": [
    "corpus['clean_text'] = corpus[['title', 'summary']].apply(lambda x: clean_text('.  '.join(x)), axis=1)"
   ]
  },
  {
   "cell_type": "code",
   "execution_count": 6,
   "metadata": {},
   "outputs": [],
   "source": [
    "# Filter to only the .uk vendors\n",
    "corpus = corpus[corpus['link'].str.contains(\".uk/\")]"
   ]
  },
  {
   "cell_type": "code",
   "execution_count": 7,
   "metadata": {},
   "outputs": [],
   "source": [
    "corpus = corpus.drop_duplicates(\"clean_text\")"
   ]
  },
  {
   "cell_type": "code",
   "execution_count": 8,
   "metadata": {},
   "outputs": [
    {
     "data": {
      "text/plain": [
       "14    Government announces immigration plans for no ...\n",
       "16    Home Secretary Priti Patel admits No Deal Brex...\n",
       "28    Student film on immigration focuses on those m...\n",
       "30    No deal immigration arrangements for EU citize...\n",
       "31    AP EXPLAINS: What changed in 0 days of immigra...\n",
       "Name: clean_text, dtype: object"
      ]
     },
     "execution_count": 8,
     "metadata": {},
     "output_type": "execute_result"
    }
   ],
   "source": [
    "corpus['clean_text'].head()"
   ]
  },
  {
   "cell_type": "code",
   "execution_count": 9,
   "metadata": {},
   "outputs": [
    {
     "data": {
      "text/plain": [
       "(357, 8)"
      ]
     },
     "execution_count": 9,
     "metadata": {},
     "output_type": "execute_result"
    }
   ],
   "source": [
    "corpus.shape"
   ]
  },
  {
   "cell_type": "markdown",
   "metadata": {},
   "source": [
    "## 2.  Build Text Model (Representation, eg; word2vec, entities list...)\n",
    "\n",
    "- Trying with the world corpus and with the bing corpus, neither worked with InferSent.  Suspect the problem lies in the PCA step, which may not be working well on this high-dimensional (vector length = 4096) form.\n",
    "- Summed keywords works rather better with the world corpus.\n",
    "- Summed keywords still fail the bing/home office corpus, giving me a cluster about \"immigration\" and a cluster for the American Supreme Court."
   ]
  },
  {
   "cell_type": "code",
   "execution_count": null,
   "metadata": {},
   "outputs": [],
   "source": [
    "# Windows didn't play nicely with the vector datasets, Some obscure encoding problem (python in Conda\n",
    "# kept trying to decode using cp1252 regardless of whatever other options I specified!)\n",
    "# Solution; rewrite file and drop any characters the Windows encoder refuses to recognise.\n",
    "# I shouldn't loose too much info.\n",
    "#with open('./lib/InferSent/dataset/fastText/crawl-300d-2M.vec', \"r\", encoding=\"cp1252\", errors=\"ignore\") as infile:\n",
    "#    with open('./lib/InferSent/dataset/fastText/crawl-300d-2M_win.vec', \"wb\") as outfile:\n",
    "#        for line in infile:\n",
    "#            outfile.write(line.encode('cp1252'))"
   ]
  },
  {
   "cell_type": "code",
   "execution_count": null,
   "metadata": {},
   "outputs": [],
   "source": [
    "#infersent = reps.InferSentModel(list(corpus['clean_text']),\n",
    "#                                list(corpus['clean_text']),\n",
    "#                                W2V_PATH = './lib/InferSent/dataset/fastText/crawl-300d-2M_win.vec')\n",
    "#\n",
    "#embeddings = infersent.get_embeddings()"
   ]
  },
  {
   "cell_type": "code",
   "execution_count": null,
   "metadata": {
    "scrolled": true
   },
   "outputs": [],
   "source": [
    "# Whereas this worked first time!\n",
    "glove = reps.GloveWordModel(list(corpus['clean_text']), list(corpus['clean_text']))\n",
    "\n",
    "embeddings = glove.get_embeddings()"
   ]
  },
  {
   "cell_type": "code",
   "execution_count": null,
   "metadata": {},
   "outputs": [],
   "source": [
    "# Turn that into a DF for me\n",
    "embeddings_df = pd.DataFrame({\"clean_text\": list(embeddings.keys()),\n",
    "                              \"embeddings\": list(embeddings.values())})"
   ]
  },
  {
   "cell_type": "markdown",
   "metadata": {},
   "source": [
    "## 3. Cluster Text\n",
    "\n",
    "This is the part where the pipelines get a little more experimental"
   ]
  },
  {
   "cell_type": "code",
   "execution_count": null,
   "metadata": {},
   "outputs": [],
   "source": [
    "embeddings_array = np.vstack(embeddings_df['embeddings'])"
   ]
  },
  {
   "cell_type": "code",
   "execution_count": null,
   "metadata": {},
   "outputs": [],
   "source": [
    "# First, PCA the data\n",
    "new_dims = 20\n",
    "\n",
    "pca = PCA(n_components=20, svd_solver='full')\n",
    "\n",
    "embeddings_pca = pca.fit_transform(embeddings_array)"
   ]
  },
  {
   "cell_type": "code",
   "execution_count": null,
   "metadata": {},
   "outputs": [],
   "source": [
    "print(pca.explained_variance_ratio_)\n",
    "print(pca.singular_values_) "
   ]
  },
  {
   "cell_type": "code",
   "execution_count": null,
   "metadata": {},
   "outputs": [],
   "source": [
    "clusterer = hdbscan.HDBSCAN()"
   ]
  },
  {
   "cell_type": "code",
   "execution_count": null,
   "metadata": {},
   "outputs": [],
   "source": [
    "clusterer.fit(embeddings_array)"
   ]
  },
  {
   "cell_type": "code",
   "execution_count": null,
   "metadata": {},
   "outputs": [],
   "source": [
    "pd.unique(clusterer.labels_)"
   ]
  },
  {
   "cell_type": "markdown",
   "metadata": {},
   "source": [
    "# Clustering using Entity Detection And Network Analytics"
   ]
  },
  {
   "cell_type": "code",
   "execution_count": 11,
   "metadata": {},
   "outputs": [],
   "source": [
    "test = reps.NounAdjacencyModel(corpus['clean_text'], corpus['clean_text'])"
   ]
  },
  {
   "cell_type": "code",
   "execution_count": 14,
   "metadata": {},
   "outputs": [
    {
     "data": {
      "text/html": [
       "<div>\n",
       "<style scoped>\n",
       "    .dataframe tbody tr th:only-of-type {\n",
       "        vertical-align: middle;\n",
       "    }\n",
       "\n",
       "    .dataframe tbody tr th {\n",
       "        vertical-align: top;\n",
       "    }\n",
       "\n",
       "    .dataframe thead th {\n",
       "        text-align: right;\n",
       "    }\n",
       "</style>\n",
       "<table border=\"1\" class=\"dataframe\">\n",
       "  <thead>\n",
       "    <tr style=\"text-align: right;\">\n",
       "      <th></th>\n",
       "      <th>october</th>\n",
       "      <th>clements</th>\n",
       "      <th>farmers</th>\n",
       "      <th>remain</th>\n",
       "      <th>gove</th>\n",
       "      <th>bolton</th>\n",
       "      <th>serious</th>\n",
       "      <th>islamophobia</th>\n",
       "      <th>dates</th>\n",
       "      <th>independent</th>\n",
       "      <th>...</th>\n",
       "      <th>queensland</th>\n",
       "      <th>ibm</th>\n",
       "      <th>barn</th>\n",
       "      <th>islamic</th>\n",
       "      <th>west</th>\n",
       "      <th>dems</th>\n",
       "      <th>bali</th>\n",
       "      <th>philostrate</th>\n",
       "      <th>committee</th>\n",
       "      <th>grunshaw</th>\n",
       "    </tr>\n",
       "    <tr>\n",
       "      <th>clean_text</th>\n",
       "      <th></th>\n",
       "      <th></th>\n",
       "      <th></th>\n",
       "      <th></th>\n",
       "      <th></th>\n",
       "      <th></th>\n",
       "      <th></th>\n",
       "      <th></th>\n",
       "      <th></th>\n",
       "      <th></th>\n",
       "      <th></th>\n",
       "      <th></th>\n",
       "      <th></th>\n",
       "      <th></th>\n",
       "      <th></th>\n",
       "      <th></th>\n",
       "      <th></th>\n",
       "      <th></th>\n",
       "      <th></th>\n",
       "      <th></th>\n",
       "      <th></th>\n",
       "    </tr>\n",
       "  </thead>\n",
       "  <tbody>\n",
       "    <tr>\n",
       "      <th>Government announces immigration plans for no deal Brexit. New border controls that will make it harder for serious criminals to enter the UK will be introduced in the event of a no deal Brexit, the government has announced today (4 September). In a move signalling the end of free movement in its current form, a ...</th>\n",
       "      <td>0</td>\n",
       "      <td>0</td>\n",
       "      <td>0</td>\n",
       "      <td>0</td>\n",
       "      <td>0</td>\n",
       "      <td>0</td>\n",
       "      <td>0</td>\n",
       "      <td>0</td>\n",
       "      <td>0</td>\n",
       "      <td>0</td>\n",
       "      <td>...</td>\n",
       "      <td>0</td>\n",
       "      <td>0</td>\n",
       "      <td>0</td>\n",
       "      <td>0</td>\n",
       "      <td>0</td>\n",
       "      <td>0</td>\n",
       "      <td>0</td>\n",
       "      <td>0</td>\n",
       "      <td>0</td>\n",
       "      <td>0</td>\n",
       "    </tr>\n",
       "    <tr>\n",
       "      <th>Home Secretary Priti Patel admits No Deal Brexit wouldn’t end unregulated EU immigration until 2021. PRITI PATEL tonight conceded unlimited EU immigration will all-but remain in place until 2021 in a No Deal. Despite promising tougher criminal checks on migrants from October 1, the Home Office said EU citizens would be allowed unfettered access to the UK ...</th>\n",
       "      <td>1</td>\n",
       "      <td>0</td>\n",
       "      <td>0</td>\n",
       "      <td>0</td>\n",
       "      <td>0</td>\n",
       "      <td>0</td>\n",
       "      <td>0</td>\n",
       "      <td>0</td>\n",
       "      <td>0</td>\n",
       "      <td>0</td>\n",
       "      <td>...</td>\n",
       "      <td>0</td>\n",
       "      <td>0</td>\n",
       "      <td>0</td>\n",
       "      <td>0</td>\n",
       "      <td>0</td>\n",
       "      <td>0</td>\n",
       "      <td>0</td>\n",
       "      <td>0</td>\n",
       "      <td>0</td>\n",
       "      <td>0</td>\n",
       "    </tr>\n",
       "    <tr>\n",
       "      <th>Student film on immigration focuses on those making district their home. A STUDENT from Bradford has helped create a short film on immigration, featuring interviews with three people who have made the district their home. Ruby Blake, 22, who studied film and TV production at Northumbria University, was inspired to make the ...</th>\n",
       "      <td>0</td>\n",
       "      <td>0</td>\n",
       "      <td>0</td>\n",
       "      <td>0</td>\n",
       "      <td>0</td>\n",
       "      <td>0</td>\n",
       "      <td>0</td>\n",
       "      <td>0</td>\n",
       "      <td>0</td>\n",
       "      <td>0</td>\n",
       "      <td>...</td>\n",
       "      <td>0</td>\n",
       "      <td>0</td>\n",
       "      <td>0</td>\n",
       "      <td>0</td>\n",
       "      <td>0</td>\n",
       "      <td>0</td>\n",
       "      <td>0</td>\n",
       "      <td>0</td>\n",
       "      <td>0</td>\n",
       "      <td>0</td>\n",
       "    </tr>\n",
       "    <tr>\n",
       "      <th>No deal immigration arrangements for EU citizens moving to the UK after Brexit. The United Kingdom will be leaving the European Union on 1 October 201. This paper sets out the immigration arrangements that will apply to EU citizens and their family members who are moving to the UK after Brexit on 1 October 201 in the event that ...</th>\n",
       "      <td>1</td>\n",
       "      <td>0</td>\n",
       "      <td>0</td>\n",
       "      <td>0</td>\n",
       "      <td>0</td>\n",
       "      <td>0</td>\n",
       "      <td>0</td>\n",
       "      <td>0</td>\n",
       "      <td>0</td>\n",
       "      <td>0</td>\n",
       "      <td>...</td>\n",
       "      <td>0</td>\n",
       "      <td>0</td>\n",
       "      <td>0</td>\n",
       "      <td>0</td>\n",
       "      <td>0</td>\n",
       "      <td>0</td>\n",
       "      <td>0</td>\n",
       "      <td>0</td>\n",
       "      <td>0</td>\n",
       "      <td>0</td>\n",
       "    </tr>\n",
       "    <tr>\n",
       "      <th>AP EXPLAINS: What changed in 0 days of immigration accord?. MEXICO CITY (AP) - Since last year;s caravans of Central American migrants began reaching the U.S. border, the Trump administration had been increasing pressure on Mexico President Andrés Manuel López Obrador to stop the flow of migrants. But it was the ...</th>\n",
       "      <td>0</td>\n",
       "      <td>0</td>\n",
       "      <td>0</td>\n",
       "      <td>0</td>\n",
       "      <td>0</td>\n",
       "      <td>0</td>\n",
       "      <td>0</td>\n",
       "      <td>0</td>\n",
       "      <td>0</td>\n",
       "      <td>0</td>\n",
       "      <td>...</td>\n",
       "      <td>0</td>\n",
       "      <td>0</td>\n",
       "      <td>0</td>\n",
       "      <td>0</td>\n",
       "      <td>0</td>\n",
       "      <td>0</td>\n",
       "      <td>0</td>\n",
       "      <td>0</td>\n",
       "      <td>0</td>\n",
       "      <td>0</td>\n",
       "    </tr>\n",
       "  </tbody>\n",
       "</table>\n",
       "<p>5 rows × 954 columns</p>\n",
       "</div>"
      ],
      "text/plain": [
       "                                                    october  clements  \\\n",
       "clean_text                                                              \n",
       "Government announces immigration plans for no d...        0         0   \n",
       "Home Secretary Priti Patel admits No Deal Brexi...        1         0   \n",
       "Student film on immigration focuses on those ma...        0         0   \n",
       "No deal immigration arrangements for EU citizen...        1         0   \n",
       "AP EXPLAINS: What changed in 0 days of immigrat...        0         0   \n",
       "\n",
       "                                                    farmers  remain  gove  \\\n",
       "clean_text                                                                  \n",
       "Government announces immigration plans for no d...        0       0     0   \n",
       "Home Secretary Priti Patel admits No Deal Brexi...        0       0     0   \n",
       "Student film on immigration focuses on those ma...        0       0     0   \n",
       "No deal immigration arrangements for EU citizen...        0       0     0   \n",
       "AP EXPLAINS: What changed in 0 days of immigrat...        0       0     0   \n",
       "\n",
       "                                                    bolton  serious  \\\n",
       "clean_text                                                            \n",
       "Government announces immigration plans for no d...       0        0   \n",
       "Home Secretary Priti Patel admits No Deal Brexi...       0        0   \n",
       "Student film on immigration focuses on those ma...       0        0   \n",
       "No deal immigration arrangements for EU citizen...       0        0   \n",
       "AP EXPLAINS: What changed in 0 days of immigrat...       0        0   \n",
       "\n",
       "                                                    islamophobia  dates  \\\n",
       "clean_text                                                                \n",
       "Government announces immigration plans for no d...             0      0   \n",
       "Home Secretary Priti Patel admits No Deal Brexi...             0      0   \n",
       "Student film on immigration focuses on those ma...             0      0   \n",
       "No deal immigration arrangements for EU citizen...             0      0   \n",
       "AP EXPLAINS: What changed in 0 days of immigrat...             0      0   \n",
       "\n",
       "                                                    independent    ...     \\\n",
       "clean_text                                                         ...      \n",
       "Government announces immigration plans for no d...            0    ...      \n",
       "Home Secretary Priti Patel admits No Deal Brexi...            0    ...      \n",
       "Student film on immigration focuses on those ma...            0    ...      \n",
       "No deal immigration arrangements for EU citizen...            0    ...      \n",
       "AP EXPLAINS: What changed in 0 days of immigrat...            0    ...      \n",
       "\n",
       "                                                    queensland  ibm  barn  \\\n",
       "clean_text                                                                  \n",
       "Government announces immigration plans for no d...           0    0     0   \n",
       "Home Secretary Priti Patel admits No Deal Brexi...           0    0     0   \n",
       "Student film on immigration focuses on those ma...           0    0     0   \n",
       "No deal immigration arrangements for EU citizen...           0    0     0   \n",
       "AP EXPLAINS: What changed in 0 days of immigrat...           0    0     0   \n",
       "\n",
       "                                                    islamic  west  dems  bali  \\\n",
       "clean_text                                                                      \n",
       "Government announces immigration plans for no d...        0     0     0     0   \n",
       "Home Secretary Priti Patel admits No Deal Brexi...        0     0     0     0   \n",
       "Student film on immigration focuses on those ma...        0     0     0     0   \n",
       "No deal immigration arrangements for EU citizen...        0     0     0     0   \n",
       "AP EXPLAINS: What changed in 0 days of immigrat...        0     0     0     0   \n",
       "\n",
       "                                                    philostrate  committee  \\\n",
       "clean_text                                                                   \n",
       "Government announces immigration plans for no d...            0          0   \n",
       "Home Secretary Priti Patel admits No Deal Brexi...            0          0   \n",
       "Student film on immigration focuses on those ma...            0          0   \n",
       "No deal immigration arrangements for EU citizen...            0          0   \n",
       "AP EXPLAINS: What changed in 0 days of immigrat...            0          0   \n",
       "\n",
       "                                                    grunshaw  \n",
       "clean_text                                                    \n",
       "Government announces immigration plans for no d...         0  \n",
       "Home Secretary Priti Patel admits No Deal Brexi...         0  \n",
       "Student film on immigration focuses on those ma...         0  \n",
       "No deal immigration arrangements for EU citizen...         0  \n",
       "AP EXPLAINS: What changed in 0 days of immigrat...         0  \n",
       "\n",
       "[5 rows x 954 columns]"
      ]
     },
     "execution_count": 14,
     "metadata": {},
     "output_type": "execute_result"
    }
   ],
   "source": [
    "nouns_df = test.table"
   ]
  },
  {
   "cell_type": "code",
   "execution_count": 20,
   "metadata": {},
   "outputs": [],
   "source": [
    "embeddings = test.get_embeddings(labels=False)"
   ]
  },
  {
   "cell_type": "code",
   "execution_count": 30,
   "metadata": {},
   "outputs": [],
   "source": [
    "adjacency = np.dot(embeddings, embeddings.T)"
   ]
  },
  {
   "cell_type": "code",
   "execution_count": 26,
   "metadata": {},
   "outputs": [],
   "source": [
    "import networkx as nx"
   ]
  },
  {
   "cell_type": "code",
   "execution_count": 57,
   "metadata": {},
   "outputs": [],
   "source": [
    "G = nx.Graph()\n",
    "rows, cols = np.where(adjacency > 9)\n",
    "edges = zip(rows.tolist(), cols.tolist())\n",
    "G.add_edges_from(edges)"
   ]
  },
  {
   "cell_type": "code",
   "execution_count": 58,
   "metadata": {},
   "outputs": [
    {
     "data": {
      "text/plain": [
       "110"
      ]
     },
     "execution_count": 58,
     "metadata": {},
     "output_type": "execute_result"
    }
   ],
   "source": [
    "len(G.edges)"
   ]
  },
  {
   "cell_type": "code",
   "execution_count": null,
   "metadata": {},
   "outputs": [],
   "source": []
  }
 ],
 "metadata": {
  "kernelspec": {
   "display_name": "Python 3",
   "language": "python",
   "name": "python3"
  },
  "language_info": {
   "codemirror_mode": {
    "name": "ipython",
    "version": 3
   },
   "file_extension": ".py",
   "mimetype": "text/x-python",
   "name": "python",
   "nbconvert_exporter": "python",
   "pygments_lexer": "ipython3",
   "version": "3.7.3"
  }
 },
 "nbformat": 4,
 "nbformat_minor": 2
}
