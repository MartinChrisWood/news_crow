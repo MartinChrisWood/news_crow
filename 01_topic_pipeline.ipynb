{
 "cells": [
  {
   "cell_type": "markdown",
   "metadata": {},
   "source": [
    "# Experimenting with Cleaning, Clustering & Summarization Pipelines\n",
    "\n",
    "### To do (technical)\n",
    "- Implement date windows on my corpus loader function"
   ]
  },
  {
   "cell_type": "code",
   "execution_count": 1,
   "metadata": {},
   "outputs": [
    {
     "name": "stderr",
     "output_type": "stream",
     "text": [
      "C:\\Users\\Martin\\Anaconda3\\lib\\site-packages\\sklearn\\externals\\six.py:31: DeprecationWarning: The module is deprecated in version 0.21 and will be removed in version 0.23 since we've dropped support for Python 2.7. Please rely on the official version of six (https://pypi.org/project/six/).\n",
      "  \"(https://pypi.org/project/six/).\", DeprecationWarning)\n",
      "C:\\Users\\Martin\\Anaconda3\\lib\\site-packages\\sklearn\\externals\\joblib\\__init__.py:15: DeprecationWarning: sklearn.externals.joblib is deprecated in 0.21 and will be removed in 0.23. Please import this functionality directly from joblib, which can be installed with: pip install joblib. If this warning is raised when loading pickled models, you may need to re-serialize those models with scikit-learn 0.21+.\n",
      "  warnings.warn(msg, category=DeprecationWarning)\n"
     ]
    }
   ],
   "source": [
    "import os\n",
    "import re\n",
    "import json\n",
    "import hdbscan\n",
    "\n",
    "import numpy as np\n",
    "import pandas as pd\n",
    "import networkx as nx\n",
    "\n",
    "from sklearn.decomposition import PCA\n",
    "import matplotlib.pyplot as plt\n",
    "\n",
    "from lib.helper import *\n",
    "import lib.embedding_models as reps\n",
    "\n",
    "from importlib import reload\n",
    "\n",
    "%matplotlib inline"
   ]
  },
  {
   "cell_type": "code",
   "execution_count": 2,
   "metadata": {},
   "outputs": [],
   "source": [
    "# Should be same path for all my PC's, it's where each scrape goes as a separate json file.\n",
    "storage_path = \"C:/Users/Martin/Dropbox/news_crow/scrape_results\"\n",
    "\n",
    "# \"bing\" is targeted news search corpus, \"RSS\" is from specific world and local news feeds.\n",
    "corpus_type = \"bing\""
   ]
  },
  {
   "cell_type": "markdown",
   "metadata": {},
   "source": [
    "## 0.  Build Corpus\n",
    "\n",
    "The corpus is being scraped by the \"run_news_scrapes.py\" script (and windows task scheduler) every 12 hours, a bit past midday and a bit past midnight.\n",
    "\n",
    "The \"bing\" corpus are news titles and text extracts gotten from the bing news search API, using a few Home Office - related keywords.\n",
    "\n",
    "The \"RSS\" corpus is plugged directly into a number of RSS feeds for world news sites and local british news sites, with no filters for news story types or subjects applied."
   ]
  },
  {
   "cell_type": "markdown",
   "metadata": {},
   "source": [
    "### First, get a list of all the news dumps created so far"
   ]
  },
  {
   "cell_type": "code",
   "execution_count": 3,
   "metadata": {
    "scrolled": true
   },
   "outputs": [
    {
     "name": "stdout",
     "output_type": "stream",
     "text": [
      "Total files: 62\n",
      "Loading file: bing_corpus_2019-09-05_2135.json\n",
      "Loading file: bing_corpus_2019-09-06_0019.json\n",
      "Loading file: bing_corpus_2019-09-06_1221.json\n",
      "Loading file: bing_corpus_2019-09-07_0019.json\n",
      "Loading file: bing_corpus_2019-09-07_1221.json\n",
      "Loading file: bing_corpus_2019-09-08_0019.json\n",
      "Loading file: bing_corpus_2019-09-08_1221.json\n",
      "Loading file: bing_corpus_2019-09-09_0019.json\n",
      "Loading file: bing_corpus_2019-09-09_1221.json\n",
      "Loading file: bing_corpus_2019-09-10_0019.json\n",
      "Loading file: bing_corpus_2019-09-10_1221.json\n",
      "Loading file: bing_corpus_2019-09-11_0019.json\n",
      "Loading file: bing_corpus_2019-09-11_1221.json\n",
      "Loading file: bing_corpus_2019-09-12_0019.json\n",
      "Loading file: bing_corpus_2019-09-12_1221.json\n",
      "Loading file: bing_corpus_2019-09-13_0019.json\n",
      "Loading file: bing_corpus_2019-09-13_1221.json\n",
      "Loading file: bing_corpus_2019-09-14_0019.json\n",
      "Loading file: bing_corpus_2019-09-14_1221.json\n",
      "Loading file: bing_corpus_2019-09-15_0019.json\n",
      "Loading file: bing_corpus_2019-09-15_2059.json\n",
      "Loading file: bing_corpus_2019-09-16_1221.json\n",
      "Loading file: bing_corpus_2019-09-17_0019.json\n",
      "Loading file: bing_corpus_2019-09-17_1221.json\n",
      "Loading file: bing_corpus_2019-09-18_0019.json\n",
      "Loading file: bing_corpus_2019-09-18_1221.json\n",
      "Loading file: bing_corpus_2019-09-19_0019.json\n",
      "Loading file: bing_corpus_2019-09-19_1221.json\n",
      "Loading file: bing_corpus_2019-09-20_0019.json\n",
      "Loading file: bing_corpus_2019-09-20_1221.json\n",
      "Loading file: bing_corpus_2019-09-21_0019.json\n",
      "Loading file: bing_corpus_2019-09-21_1221.json\n",
      "Loading file: bing_corpus_2019-09-22_0019.json\n",
      "Loading file: bing_corpus_2019-09-22_1221.json\n",
      "Loading file: bing_corpus_2019-09-23_0019.json\n",
      "Loading file: bing_corpus_2019-09-23_1222.json\n",
      "Loading file: bing_corpus_2019-09-24_0019.json\n",
      "Loading file: bing_corpus_2019-09-24_1222.json\n",
      "Loading file: bing_corpus_2019-09-25_0019.json\n",
      "Loading file: bing_corpus_2019-09-25_1222.json\n",
      "Loading file: bing_corpus_2019-09-26_0019.json\n",
      "Loading file: bing_corpus_2019-09-26_1222.json\n",
      "Loading file: bing_corpus_2019-09-27_0019.json\n",
      "Loading file: bing_corpus_2019-09-27_1222.json\n",
      "Loading file: bing_corpus_2019-09-28_0019.json\n",
      "Loading file: bing_corpus_2019-09-28_1222.json\n",
      "Loading file: bing_corpus_2019-09-29_0019.json\n",
      "Loading file: bing_corpus_2019-09-29_1222.json\n",
      "Loading file: bing_corpus_2019-09-30_0019.json\n",
      "Loading file: bing_corpus_2019-09-30_1222.json\n",
      "Loading file: bing_corpus_2019-10-01_0019.json\n",
      "Loading file: bing_corpus_2019-10-01_1222.json\n",
      "Loading file: bing_corpus_2019-10-02_0019.json\n",
      "Loading file: bing_corpus_2019-10-02_1222.json\n",
      "Loading file: bing_corpus_2019-10-03_0020.json\n",
      "Loading file: bing_corpus_2019-10-03_1222.json\n",
      "Loading file: bing_corpus_2019-10-04_0019.json\n",
      "Loading file: bing_corpus_2019-10-04_1222.json\n",
      "Loading file: bing_corpus_2019-10-06_1222.json\n",
      "Loading file: bing_corpus_2019-10-07_0019.json\n",
      "Loading file: bing_corpus_2019-10-07_0741.json\n",
      "Loading file: bing_corpus_2019-10-07_1222.json\n"
     ]
    }
   ],
   "source": [
    "corpus = corpus_loader(storage_path, corpus_type)"
   ]
  },
  {
   "cell_type": "code",
   "execution_count": 4,
   "metadata": {
    "scrolled": true
   },
   "outputs": [
    {
     "data": {
      "text/html": [
       "<div>\n",
       "<style scoped>\n",
       "    .dataframe tbody tr th:only-of-type {\n",
       "        vertical-align: middle;\n",
       "    }\n",
       "\n",
       "    .dataframe tbody tr th {\n",
       "        vertical-align: top;\n",
       "    }\n",
       "\n",
       "    .dataframe thead th {\n",
       "        text-align: right;\n",
       "    }\n",
       "</style>\n",
       "<table border=\"1\" class=\"dataframe\">\n",
       "  <thead>\n",
       "    <tr style=\"text-align: right;\">\n",
       "      <th></th>\n",
       "      <th>date</th>\n",
       "      <th>link</th>\n",
       "      <th>origin</th>\n",
       "      <th>retrieval_timestamp</th>\n",
       "      <th>source_url</th>\n",
       "      <th>summary</th>\n",
       "      <th>title</th>\n",
       "    </tr>\n",
       "  </thead>\n",
       "  <tbody>\n",
       "    <tr>\n",
       "      <th>0</th>\n",
       "      <td>2019-09-05T17:32:00.0000000Z</td>\n",
       "      <td>https://www.desmoinesregister.com/story/opinio...</td>\n",
       "      <td>bing_news_api</td>\n",
       "      <td>2019-09-05 21:35:05.105002</td>\n",
       "      <td>www.desmoinesregister.com</td>\n",
       "      <td>&lt;b&gt;Immigration&lt;/b&gt; raids are as devastating to...</td>\n",
       "      <td>&lt;b&gt;Immigration&lt;/b&gt; raids are as devastating to...</td>\n",
       "    </tr>\n",
       "    <tr>\n",
       "      <th>1</th>\n",
       "      <td>2019-09-05T20:06:00.0000000Z</td>\n",
       "      <td>https://www.philstar.com/the-freeman/cebu-news...</td>\n",
       "      <td>bing_news_api</td>\n",
       "      <td>2019-09-05 21:35:05.105002</td>\n",
       "      <td>www.philstar.com</td>\n",
       "      <td>CEBU, Philippines — The Department of Justice ...</td>\n",
       "      <td>&lt;b&gt;Immigration&lt;/b&gt; told to monitor convicts: L...</td>\n",
       "    </tr>\n",
       "    <tr>\n",
       "      <th>2</th>\n",
       "      <td>2019-09-05T17:21:00.0000000Z</td>\n",
       "      <td>https://www.irishtimes.com/news/crime-and-law/...</td>\n",
       "      <td>bing_news_api</td>\n",
       "      <td>2019-09-05 21:35:05.106001</td>\n",
       "      <td>www.irishtimes.com</td>\n",
       "      <td>Three members of an organised crime gang were ...</td>\n",
       "      <td>Three people jailed for assisting illegal &lt;b&gt;i...</td>\n",
       "    </tr>\n",
       "    <tr>\n",
       "      <th>3</th>\n",
       "      <td>2019-09-05T20:12:00.0000000Z</td>\n",
       "      <td>https://www.correctionsone.com/immigration-det...</td>\n",
       "      <td>bing_news_api</td>\n",
       "      <td>2019-09-05 21:35:05.106001</td>\n",
       "      <td>www.correctionsone.com</td>\n",
       "      <td>NATCHEZ, Miss. — A privately run prison in Mis...</td>\n",
       "      <td>&lt;b&gt;Immigration&lt;/b&gt; agency sets new contract wi...</td>\n",
       "    </tr>\n",
       "    <tr>\n",
       "      <th>4</th>\n",
       "      <td>2019-09-05T19:27:00.0000000Z</td>\n",
       "      <td>https://www.nzherald.co.nz/nz/news/article.cfm...</td>\n",
       "      <td>bing_news_api</td>\n",
       "      <td>2019-09-05 21:35:05.106001</td>\n",
       "      <td>www.nzherald.co.nz</td>\n",
       "      <td>A licensed &lt;b&gt;immigration&lt;/b&gt; adviser has been...</td>\n",
       "      <td>&lt;b&gt;Immigration&lt;/b&gt; adviser censured and fined ...</td>\n",
       "    </tr>\n",
       "  </tbody>\n",
       "</table>\n",
       "</div>"
      ],
      "text/plain": [
       "                           date  \\\n",
       "0  2019-09-05T17:32:00.0000000Z   \n",
       "1  2019-09-05T20:06:00.0000000Z   \n",
       "2  2019-09-05T17:21:00.0000000Z   \n",
       "3  2019-09-05T20:12:00.0000000Z   \n",
       "4  2019-09-05T19:27:00.0000000Z   \n",
       "\n",
       "                                                link         origin  \\\n",
       "0  https://www.desmoinesregister.com/story/opinio...  bing_news_api   \n",
       "1  https://www.philstar.com/the-freeman/cebu-news...  bing_news_api   \n",
       "2  https://www.irishtimes.com/news/crime-and-law/...  bing_news_api   \n",
       "3  https://www.correctionsone.com/immigration-det...  bing_news_api   \n",
       "4  https://www.nzherald.co.nz/nz/news/article.cfm...  bing_news_api   \n",
       "\n",
       "          retrieval_timestamp                 source_url  \\\n",
       "0  2019-09-05 21:35:05.105002  www.desmoinesregister.com   \n",
       "1  2019-09-05 21:35:05.105002           www.philstar.com   \n",
       "2  2019-09-05 21:35:05.106001         www.irishtimes.com   \n",
       "3  2019-09-05 21:35:05.106001     www.correctionsone.com   \n",
       "4  2019-09-05 21:35:05.106001         www.nzherald.co.nz   \n",
       "\n",
       "                                             summary  \\\n",
       "0  <b>Immigration</b> raids are as devastating to...   \n",
       "1  CEBU, Philippines — The Department of Justice ...   \n",
       "2  Three members of an organised crime gang were ...   \n",
       "3  NATCHEZ, Miss. — A privately run prison in Mis...   \n",
       "4  A licensed <b>immigration</b> adviser has been...   \n",
       "\n",
       "                                               title  \n",
       "0  <b>Immigration</b> raids are as devastating to...  \n",
       "1  <b>Immigration</b> told to monitor convicts: L...  \n",
       "2  Three people jailed for assisting illegal <b>i...  \n",
       "3  <b>Immigration</b> agency sets new contract wi...  \n",
       "4  <b>Immigration</b> adviser censured and fined ...  "
      ]
     },
     "execution_count": 4,
     "metadata": {},
     "output_type": "execute_result"
    }
   ],
   "source": [
    "corpus.head()"
   ]
  },
  {
   "cell_type": "markdown",
   "metadata": {},
   "source": [
    "## 1. Clean Text\n",
    "\n",
    "By default, I'm not going to clean out all punctuation because I think it informs the POS tagger to some degree."
   ]
  },
  {
   "cell_type": "code",
   "execution_count": 5,
   "metadata": {},
   "outputs": [],
   "source": [
    "corpus['clean_text'] = corpus[['title', 'summary']].apply(lambda x: clean_text('.  '.join(x)), axis=1)"
   ]
  },
  {
   "cell_type": "code",
   "execution_count": 6,
   "metadata": {},
   "outputs": [],
   "source": [
    "# Filter to only the .uk vendors\n",
    "corpus = corpus[corpus['link'].str.contains(\".uk/\")]"
   ]
  },
  {
   "cell_type": "code",
   "execution_count": 7,
   "metadata": {},
   "outputs": [],
   "source": [
    "corpus = corpus.drop_duplicates(\"clean_text\")"
   ]
  },
  {
   "cell_type": "code",
   "execution_count": 8,
   "metadata": {},
   "outputs": [
    {
     "data": {
      "text/plain": [
       "14    Government announces immigration plans for no ...\n",
       "16    Home Secretary Priti Patel admits No Deal Brex...\n",
       "28    Student film on immigration focuses on those m...\n",
       "30    No deal immigration arrangements for EU citize...\n",
       "31    AP EXPLAINS: What changed in 0 days of immigra...\n",
       "Name: clean_text, dtype: object"
      ]
     },
     "execution_count": 8,
     "metadata": {},
     "output_type": "execute_result"
    }
   ],
   "source": [
    "corpus['clean_text'].head()"
   ]
  },
  {
   "cell_type": "code",
   "execution_count": 9,
   "metadata": {},
   "outputs": [
    {
     "data": {
      "text/plain": [
       "(1173, 8)"
      ]
     },
     "execution_count": 9,
     "metadata": {},
     "output_type": "execute_result"
    }
   ],
   "source": [
    "corpus.shape"
   ]
  },
  {
   "cell_type": "markdown",
   "metadata": {},
   "source": [
    "## 2.  Build Text Model (Representation, eg; word2vec, entities list...)\n",
    "\n",
    "- Trying with the world corpus and with the bing corpus, neither worked with InferSent.  Suspect the problem lies in the PCA step, which may not be working well on this high-dimensional (vector length = 4096) form.\n",
    "- Summed keywords works rather better with the world corpus.\n",
    "- Summed keywords still fail the bing/home office corpus, giving me a cluster about \"immigration\" and a cluster for the American Supreme Court."
   ]
  },
  {
   "cell_type": "code",
   "execution_count": 10,
   "metadata": {},
   "outputs": [],
   "source": [
    "# Windows didn't play nicely with the vector datasets, Some obscure encoding problem (python in Conda\n",
    "# kept trying to decode using cp1252 regardless of whatever other options I specified!)\n",
    "# Solution; rewrite file and drop any characters the Windows encoder refuses to recognise.\n",
    "# I shouldn't loose too much info.\n",
    "#with open('./lib/InferSent/dataset/fastText/crawl-300d-2M.vec', \"r\", encoding=\"cp1252\", errors=\"ignore\") as infile:\n",
    "#    with open('./lib/InferSent/dataset/fastText/crawl-300d-2M_win.vec', \"wb\") as outfile:\n",
    "#        for line in infile:\n",
    "#            outfile.write(line.encode('cp1252'))"
   ]
  },
  {
   "cell_type": "code",
   "execution_count": 11,
   "metadata": {},
   "outputs": [],
   "source": [
    "#infersent = reps.InferSentModel(list(corpus['clean_text']),\n",
    "#                                list(corpus['clean_text']),\n",
    "#                                W2V_PATH = './lib/InferSent/dataset/fastText/crawl-300d-2M_win.vec')\n",
    "#\n",
    "#embeddings = infersent.get_embeddings()"
   ]
  },
  {
   "cell_type": "code",
   "execution_count": 12,
   "metadata": {
    "scrolled": true
   },
   "outputs": [
    {
     "name": "stderr",
     "output_type": "stream",
     "text": [
      "[nltk_data] Downloading package stopwords to\n",
      "[nltk_data]     C:\\Users\\Martin\\AppData\\Roaming\\nltk_data...\n",
      "[nltk_data]   Package stopwords is already up-to-date!\n"
     ]
    }
   ],
   "source": [
    "# Whereas this worked first time!\n",
    "glove = reps.GloveWordModel(list(corpus['clean_text']), list(corpus['clean_text']))\n",
    "\n",
    "embeddings = glove.get_embeddings()"
   ]
  },
  {
   "cell_type": "code",
   "execution_count": 13,
   "metadata": {},
   "outputs": [],
   "source": [
    "# Turn that into a DF for me\n",
    "embeddings_df = pd.DataFrame({\"clean_text\": list(embeddings.keys()),\n",
    "                              \"embeddings\": list(embeddings.values())})"
   ]
  },
  {
   "cell_type": "markdown",
   "metadata": {},
   "source": [
    "## 3. Cluster Text\n",
    "\n",
    "This is the part where the pipelines get a little more experimental"
   ]
  },
  {
   "cell_type": "code",
   "execution_count": 14,
   "metadata": {},
   "outputs": [],
   "source": [
    "embeddings_array = np.vstack(embeddings_df['embeddings'])"
   ]
  },
  {
   "cell_type": "code",
   "execution_count": 15,
   "metadata": {},
   "outputs": [],
   "source": [
    "# First, PCA the data\n",
    "new_dims = 20\n",
    "\n",
    "pca = PCA(n_components=20, svd_solver='full')\n",
    "\n",
    "embeddings_pca = pca.fit_transform(embeddings_array)"
   ]
  },
  {
   "cell_type": "code",
   "execution_count": 16,
   "metadata": {},
   "outputs": [
    {
     "name": "stdout",
     "output_type": "stream",
     "text": [
      "[0.18399722 0.11698123 0.09125415 0.08029371 0.06275676 0.04302367\n",
      " 0.03518548 0.03217785 0.02568852 0.02513301 0.0208229  0.02005769\n",
      " 0.01771219 0.01701875 0.01594486 0.01519946 0.0139033  0.01258101\n",
      " 0.01235039 0.01204898]\n",
      "[15.69264978 12.51263365 11.05139124 10.36648239  9.16475583  7.58829793\n",
      "  6.86234241  6.56249719  5.86354411  5.79979875  5.27911705  5.18120833\n",
      "  4.86885446  4.77259427  4.61956371  4.51029265  4.31369606  4.10344221\n",
      "  4.06566006  4.01574205]\n"
     ]
    }
   ],
   "source": [
    "print(pca.explained_variance_ratio_)\n",
    "print(pca.singular_values_) "
   ]
  },
  {
   "cell_type": "code",
   "execution_count": 17,
   "metadata": {},
   "outputs": [],
   "source": [
    "clusterer = hdbscan.HDBSCAN()"
   ]
  },
  {
   "cell_type": "code",
   "execution_count": 18,
   "metadata": {},
   "outputs": [
    {
     "data": {
      "text/plain": [
       "HDBSCAN(algorithm='best', allow_single_cluster=False, alpha=1.0,\n",
       "        approx_min_span_tree=True, cluster_selection_method='eom',\n",
       "        core_dist_n_jobs=4, gen_min_span_tree=False, leaf_size=40,\n",
       "        match_reference_implementation=False, memory=Memory(location=None),\n",
       "        metric='euclidean', min_cluster_size=5, min_samples=None, p=None,\n",
       "        prediction_data=False)"
      ]
     },
     "execution_count": 18,
     "metadata": {},
     "output_type": "execute_result"
    }
   ],
   "source": [
    "clusterer.fit(embeddings_array)"
   ]
  },
  {
   "cell_type": "code",
   "execution_count": 19,
   "metadata": {},
   "outputs": [
    {
     "data": {
      "text/plain": [
       "array([ 1, -1,  0], dtype=int64)"
      ]
     },
     "execution_count": 19,
     "metadata": {},
     "output_type": "execute_result"
    }
   ],
   "source": [
    "pd.unique(clusterer.labels_)"
   ]
  },
  {
   "cell_type": "markdown",
   "metadata": {},
   "source": [
    "# Clustering using Entity Detection And Network Analytics\n",
    "\n",
    "This doesn't resolve very well for Bing, because there's a whole bunch of keywords from the original searches in there.  Suspect that's got a lot to do with the failure of the other methods too.  For the network analytics method I'm going to try removing the keywords from the table first."
   ]
  },
  {
   "cell_type": "code",
   "execution_count": 20,
   "metadata": {},
   "outputs": [],
   "source": [
    "with open(\"C:/Users/Martin/Dropbox/news_crow/scrape_settings.json\", \"r\") as f:\n",
    "    scrape_config = json.load(f)\n",
    "\n",
    "search_terms = scrape_config['search_list']\n",
    "search_terms = re.sub(r\"[^0-9A-Za-z ]\", \"\", \" \".join(search_terms)).lower().split()\n",
    "search_terms = set(search_terms)"
   ]
  },
  {
   "cell_type": "code",
   "execution_count": 21,
   "metadata": {},
   "outputs": [
    {
     "data": {
      "text/plain": [
       "{'abuse',\n",
       " 'border',\n",
       " 'child',\n",
       " 'domestic',\n",
       " 'enforcement',\n",
       " 'force',\n",
       " 'home',\n",
       " 'immigration',\n",
       " 'international',\n",
       " 'office',\n",
       " 'patel',\n",
       " 'priti',\n",
       " 'secretary',\n",
       " 'students',\n",
       " 'uk',\n",
       " 'windrush'}"
      ]
     },
     "execution_count": 21,
     "metadata": {},
     "output_type": "execute_result"
    }
   ],
   "source": [
    "search_terms"
   ]
  },
  {
   "cell_type": "code",
   "execution_count": 22,
   "metadata": {},
   "outputs": [],
   "source": [
    "test = reps.NounAdjacencyModel(corpus['clean_text'], corpus['clean_text'])"
   ]
  },
  {
   "cell_type": "code",
   "execution_count": 23,
   "metadata": {},
   "outputs": [
    {
     "data": {
      "text/html": [
       "<div>\n",
       "<style scoped>\n",
       "    .dataframe tbody tr th:only-of-type {\n",
       "        vertical-align: middle;\n",
       "    }\n",
       "\n",
       "    .dataframe tbody tr th {\n",
       "        vertical-align: top;\n",
       "    }\n",
       "\n",
       "    .dataframe thead th {\n",
       "        text-align: right;\n",
       "    }\n",
       "</style>\n",
       "<table border=\"1\" class=\"dataframe\">\n",
       "  <thead>\n",
       "    <tr style=\"text-align: right;\">\n",
       "      <th></th>\n",
       "      <th>thoughtless’</th>\n",
       "      <th>northumberland</th>\n",
       "      <th>higher</th>\n",
       "      <th>rachel</th>\n",
       "      <th>violence</th>\n",
       "      <th>szabo</th>\n",
       "      <th>foster</th>\n",
       "      <th>andrew</th>\n",
       "      <th>safety</th>\n",
       "      <th>victoria</th>\n",
       "      <th>...</th>\n",
       "      <th>banbury</th>\n",
       "      <th>rees</th>\n",
       "      <th>gate</th>\n",
       "      <th>lib</th>\n",
       "      <th>barry</th>\n",
       "      <th>road</th>\n",
       "      <th>frances</th>\n",
       "      <th>cortez</th>\n",
       "      <th>co</th>\n",
       "      <th>australian</th>\n",
       "    </tr>\n",
       "    <tr>\n",
       "      <th>clean_text</th>\n",
       "      <th></th>\n",
       "      <th></th>\n",
       "      <th></th>\n",
       "      <th></th>\n",
       "      <th></th>\n",
       "      <th></th>\n",
       "      <th></th>\n",
       "      <th></th>\n",
       "      <th></th>\n",
       "      <th></th>\n",
       "      <th></th>\n",
       "      <th></th>\n",
       "      <th></th>\n",
       "      <th></th>\n",
       "      <th></th>\n",
       "      <th></th>\n",
       "      <th></th>\n",
       "      <th></th>\n",
       "      <th></th>\n",
       "      <th></th>\n",
       "      <th></th>\n",
       "    </tr>\n",
       "  </thead>\n",
       "  <tbody>\n",
       "    <tr>\n",
       "      <th>Government announces immigration plans for no deal Brexit. New border controls that will make it harder for serious criminals to enter the UK will be introduced in the event of a no deal Brexit, the government has announced today (4 September). In a move signalling the end of free movement in its current form, a ...</th>\n",
       "      <td>0</td>\n",
       "      <td>0</td>\n",
       "      <td>0</td>\n",
       "      <td>0</td>\n",
       "      <td>0</td>\n",
       "      <td>0</td>\n",
       "      <td>0</td>\n",
       "      <td>0</td>\n",
       "      <td>0</td>\n",
       "      <td>0</td>\n",
       "      <td>...</td>\n",
       "      <td>0</td>\n",
       "      <td>0</td>\n",
       "      <td>0</td>\n",
       "      <td>0</td>\n",
       "      <td>0</td>\n",
       "      <td>0</td>\n",
       "      <td>0</td>\n",
       "      <td>0</td>\n",
       "      <td>0</td>\n",
       "      <td>0</td>\n",
       "    </tr>\n",
       "    <tr>\n",
       "      <th>Home Secretary Priti Patel admits No Deal Brexit wouldn’t end unregulated EU immigration until 2021. PRITI PATEL tonight conceded unlimited EU immigration will all-but remain in place until 2021 in a No Deal. Despite promising tougher criminal checks on migrants from October 1, the Home Office said EU citizens would be allowed unfettered access to the UK ...</th>\n",
       "      <td>0</td>\n",
       "      <td>0</td>\n",
       "      <td>0</td>\n",
       "      <td>0</td>\n",
       "      <td>0</td>\n",
       "      <td>0</td>\n",
       "      <td>0</td>\n",
       "      <td>0</td>\n",
       "      <td>0</td>\n",
       "      <td>0</td>\n",
       "      <td>...</td>\n",
       "      <td>0</td>\n",
       "      <td>0</td>\n",
       "      <td>0</td>\n",
       "      <td>0</td>\n",
       "      <td>0</td>\n",
       "      <td>0</td>\n",
       "      <td>0</td>\n",
       "      <td>0</td>\n",
       "      <td>0</td>\n",
       "      <td>0</td>\n",
       "    </tr>\n",
       "    <tr>\n",
       "      <th>Student film on immigration focuses on those making district their home. A STUDENT from Bradford has helped create a short film on immigration, featuring interviews with three people who have made the district their home. Ruby Blake, 22, who studied film and TV production at Northumbria University, was inspired to make the ...</th>\n",
       "      <td>0</td>\n",
       "      <td>0</td>\n",
       "      <td>0</td>\n",
       "      <td>0</td>\n",
       "      <td>0</td>\n",
       "      <td>0</td>\n",
       "      <td>0</td>\n",
       "      <td>0</td>\n",
       "      <td>0</td>\n",
       "      <td>0</td>\n",
       "      <td>...</td>\n",
       "      <td>0</td>\n",
       "      <td>0</td>\n",
       "      <td>0</td>\n",
       "      <td>0</td>\n",
       "      <td>0</td>\n",
       "      <td>0</td>\n",
       "      <td>0</td>\n",
       "      <td>0</td>\n",
       "      <td>0</td>\n",
       "      <td>0</td>\n",
       "    </tr>\n",
       "    <tr>\n",
       "      <th>No deal immigration arrangements for EU citizens moving to the UK after Brexit. The United Kingdom will be leaving the European Union on 1 October 201. This paper sets out the immigration arrangements that will apply to EU citizens and their family members who are moving to the UK after Brexit on 1 October 201 in the event that ...</th>\n",
       "      <td>0</td>\n",
       "      <td>0</td>\n",
       "      <td>0</td>\n",
       "      <td>0</td>\n",
       "      <td>0</td>\n",
       "      <td>0</td>\n",
       "      <td>0</td>\n",
       "      <td>0</td>\n",
       "      <td>0</td>\n",
       "      <td>0</td>\n",
       "      <td>...</td>\n",
       "      <td>0</td>\n",
       "      <td>0</td>\n",
       "      <td>0</td>\n",
       "      <td>0</td>\n",
       "      <td>0</td>\n",
       "      <td>0</td>\n",
       "      <td>0</td>\n",
       "      <td>0</td>\n",
       "      <td>0</td>\n",
       "      <td>0</td>\n",
       "    </tr>\n",
       "    <tr>\n",
       "      <th>AP EXPLAINS: What changed in 0 days of immigration accord?. MEXICO CITY (AP) - Since last year;s caravans of Central American migrants began reaching the U.S. border, the Trump administration had been increasing pressure on Mexico President Andrés Manuel López Obrador to stop the flow of migrants. But it was the ...</th>\n",
       "      <td>0</td>\n",
       "      <td>0</td>\n",
       "      <td>0</td>\n",
       "      <td>0</td>\n",
       "      <td>0</td>\n",
       "      <td>0</td>\n",
       "      <td>0</td>\n",
       "      <td>0</td>\n",
       "      <td>0</td>\n",
       "      <td>0</td>\n",
       "      <td>...</td>\n",
       "      <td>0</td>\n",
       "      <td>0</td>\n",
       "      <td>0</td>\n",
       "      <td>0</td>\n",
       "      <td>0</td>\n",
       "      <td>0</td>\n",
       "      <td>0</td>\n",
       "      <td>0</td>\n",
       "      <td>0</td>\n",
       "      <td>0</td>\n",
       "    </tr>\n",
       "  </tbody>\n",
       "</table>\n",
       "<p>5 rows × 2277 columns</p>\n",
       "</div>"
      ],
      "text/plain": [
       "                                                    thoughtless’  \\\n",
       "clean_text                                                         \n",
       "Government announces immigration plans for no d...             0   \n",
       "Home Secretary Priti Patel admits No Deal Brexi...             0   \n",
       "Student film on immigration focuses on those ma...             0   \n",
       "No deal immigration arrangements for EU citizen...             0   \n",
       "AP EXPLAINS: What changed in 0 days of immigrat...             0   \n",
       "\n",
       "                                                    northumberland  higher  \\\n",
       "clean_text                                                                   \n",
       "Government announces immigration plans for no d...               0       0   \n",
       "Home Secretary Priti Patel admits No Deal Brexi...               0       0   \n",
       "Student film on immigration focuses on those ma...               0       0   \n",
       "No deal immigration arrangements for EU citizen...               0       0   \n",
       "AP EXPLAINS: What changed in 0 days of immigrat...               0       0   \n",
       "\n",
       "                                                    rachel  violence  szabo  \\\n",
       "clean_text                                                                    \n",
       "Government announces immigration plans for no d...       0         0      0   \n",
       "Home Secretary Priti Patel admits No Deal Brexi...       0         0      0   \n",
       "Student film on immigration focuses on those ma...       0         0      0   \n",
       "No deal immigration arrangements for EU citizen...       0         0      0   \n",
       "AP EXPLAINS: What changed in 0 days of immigrat...       0         0      0   \n",
       "\n",
       "                                                    foster  andrew  safety  \\\n",
       "clean_text                                                                   \n",
       "Government announces immigration plans for no d...       0       0       0   \n",
       "Home Secretary Priti Patel admits No Deal Brexi...       0       0       0   \n",
       "Student film on immigration focuses on those ma...       0       0       0   \n",
       "No deal immigration arrangements for EU citizen...       0       0       0   \n",
       "AP EXPLAINS: What changed in 0 days of immigrat...       0       0       0   \n",
       "\n",
       "                                                    victoria     ...      \\\n",
       "clean_text                                                       ...       \n",
       "Government announces immigration plans for no d...         0     ...       \n",
       "Home Secretary Priti Patel admits No Deal Brexi...         0     ...       \n",
       "Student film on immigration focuses on those ma...         0     ...       \n",
       "No deal immigration arrangements for EU citizen...         0     ...       \n",
       "AP EXPLAINS: What changed in 0 days of immigrat...         0     ...       \n",
       "\n",
       "                                                    banbury  rees  gate  lib  \\\n",
       "clean_text                                                                     \n",
       "Government announces immigration plans for no d...        0     0     0    0   \n",
       "Home Secretary Priti Patel admits No Deal Brexi...        0     0     0    0   \n",
       "Student film on immigration focuses on those ma...        0     0     0    0   \n",
       "No deal immigration arrangements for EU citizen...        0     0     0    0   \n",
       "AP EXPLAINS: What changed in 0 days of immigrat...        0     0     0    0   \n",
       "\n",
       "                                                    barry  road  frances  \\\n",
       "clean_text                                                                 \n",
       "Government announces immigration plans for no d...      0     0        0   \n",
       "Home Secretary Priti Patel admits No Deal Brexi...      0     0        0   \n",
       "Student film on immigration focuses on those ma...      0     0        0   \n",
       "No deal immigration arrangements for EU citizen...      0     0        0   \n",
       "AP EXPLAINS: What changed in 0 days of immigrat...      0     0        0   \n",
       "\n",
       "                                                    cortez  co  australian  \n",
       "clean_text                                                                  \n",
       "Government announces immigration plans for no d...       0   0           0  \n",
       "Home Secretary Priti Patel admits No Deal Brexi...       0   0           0  \n",
       "Student film on immigration focuses on those ma...       0   0           0  \n",
       "No deal immigration arrangements for EU citizen...       0   0           0  \n",
       "AP EXPLAINS: What changed in 0 days of immigrat...       0   0           0  \n",
       "\n",
       "[5 rows x 2277 columns]"
      ]
     },
     "execution_count": 23,
     "metadata": {},
     "output_type": "execute_result"
    }
   ],
   "source": [
    "nouns_df = test.table.copy()\n",
    "nouns_df.head()"
   ]
  },
  {
   "cell_type": "code",
   "execution_count": 24,
   "metadata": {},
   "outputs": [
    {
     "name": "stdout",
     "output_type": "stream",
     "text": [
      "(1173, 2277)\n",
      "(1173, 2262)\n",
      "21\n"
     ]
    }
   ],
   "source": [
    "print(nouns_df.shape)\n",
    "for each in search_terms:\n",
    "    try:\n",
    "        nouns_df = nouns_df.drop(each, axis=\"columns\")\n",
    "    except:\n",
    "        pass\n",
    "\n",
    "print(nouns_df.shape)\n",
    "\n",
    "embeddings = np.asarray(nouns_df)\n",
    "adjacency = np.dot(embeddings, embeddings.T)\n",
    "print(np.max(adjacency))"
   ]
  },
  {
   "cell_type": "code",
   "execution_count": 25,
   "metadata": {},
   "outputs": [],
   "source": [
    "# If the \"lower\" limit is 1, the graph has so many edges it eats ALL the memory of my desktop, even\n",
    "# with just 500-ish stories to process.\n",
    "upper = 100\n",
    "lower = 4\n",
    "G = nx.Graph()\n",
    "rows, cols = np.where((upper >= adjacency) & (adjacency >= lower))\n",
    "weights = [float(adjacency[rows[i], cols[i]]) for i in range(len(rows))]\n",
    "edges = zip(rows.tolist(), cols.tolist(), weights)\n",
    "G.add_weighted_edges_from(edges)"
   ]
  },
  {
   "cell_type": "code",
   "execution_count": 26,
   "metadata": {},
   "outputs": [
    {
     "data": {
      "text/plain": [
       "1836"
      ]
     },
     "execution_count": 26,
     "metadata": {},
     "output_type": "execute_result"
    }
   ],
   "source": [
    "G.number_of_edges()"
   ]
  },
  {
   "cell_type": "markdown",
   "metadata": {},
   "source": [
    "### Actually; the below is just the long way around to get the PageRank algorithm\n",
    "\n",
    "Except that I've accounted for edge weights less well.  Oh well, live and learn... :)"
   ]
  },
  {
   "cell_type": "code",
   "execution_count": 27,
   "metadata": {},
   "outputs": [
    {
     "name": "stdout",
     "output_type": "stream",
     "text": [
      "36 Immigration centre Dungavel House issues air fresheners to fight body odour. Detainees at Scotland’s only immigration removal centre have been given air fresheners after complaining that other inmates were “too smelly”. People at Dungavel House in Lanarkshire, which can hold 250 detainees, said they were overwhelmed by ...\n",
      "34 Boris Johnson blow as West Yorkshire police chief criticises use of his officers for speech backdrop. The statement said: quot;Yesterday;s visit by the Prime Minister and Home Secretary was to visit our Carr Gate training facilities, to announce the launch of the national recruitment campaign for an extra 20,000 police officers. Read more of today;s top ...\n",
      "34 How your travel time to Bali to get shorter: New technology to speed up immigration. Passport ;autogate; facilities that allow Indonesian travellers and visitors from 12 countries to electronically verify themselves commenced operations on Tuesday. ;If you use the autogate system, the immigration process won;t take more than a minute.\n",
      "34 Immigration team raids Ayr restaurant Mr Basrai;s World Buffet. Two rogue workers at a well-known restaurant were seized during a raid by immigration officials. A team moved in on Mr Basrai’s World Buffet in Ayr as the restaurant was serving customers. Stunned shoppers and businesspeople in Beresford Terrace watched ...\n",
      "30 UK crime crisis: Campaigner delivers poignant message amid Home Office;s ‘knifefree’ plan. The new initiative which was launched recently planned to replace the packaging at outlets including Chicken Cottage, Dixy Chicken and Morley’s. Moreover, the Home Office also revealed that the real life stories of young people who chose other activities ...\n",
      "28 Spike in self harm at Morton Hall immigration centre. Protesters have called for the centre to be shut down. There has been another spike in self-harm incidents at an immigration centre near Lincoln despite a drop in population, a new independent report has revealed. Inspectors from the Independent Monitoring ...\n",
      "26 Redcar MP Anna Turley: A general election will not end this paralysis. Don’t get me wrong, I would love to see the back of this wretched Tory government with a Chancellor who closed Redcar steelworks, a Home Secretary who advocated the death penalty and a Brexit Secretary who has just discovered that to build cars here in ...\n",
      "25 Migrants - Home Secretary Priti Patel meets French counterpart Christophe Castaner. Home Secretary Priti Patel met her French counterpart to discuss the ongoing migrant crisis. Ms Patel was with Interior Minister Christophe Castaner in Paris yesterday. After they greeted each other M. Castaner announced in a tweet: quot;We will discuss ...\n",
      "25 Immigration judge allegedly once threatened a two-year-old Guatemalan boy with a dog attack. An immigration judge recently promoted by the Trump administration was previously accused of threatening a migrant boy with a dog attack, it has been revealed. Last month, Judge V. Stuart Couch was appointed by Attorney General William Bar to the Board of ...\n",
      "25 Police chief ;disappointed; officers used as ;backdrop; for Boris Johnson;s speech in Wakefield. whilst the Home Secretary would speak to NPAS officers and staff inside. Chief Constable John Robins said: quot;I repeat that I am pleased that we were chosen as the local point of the national recruitment campaign launch, but the good news of extra officers ...\n"
     ]
    }
   ],
   "source": [
    "net_degrees = dict(nx.degree(G))\n",
    "degree_df = pd.DataFrame({\"node\": list(net_degrees.keys()), \"degree\": list(net_degrees.values())})\n",
    "degree_df = degree_df.sort_values(\"degree\", ascending=False)\n",
    "\n",
    "for index, row in degree_df.head(10).iterrows():\n",
    "    article = nouns_df.reset_index().iloc[index]\n",
    "    print(row['degree'], article['clean_text'])"
   ]
  },
  {
   "cell_type": "code",
   "execution_count": 28,
   "metadata": {
    "scrolled": true
   },
   "outputs": [
    {
     "data": {
      "image/png": "[encoded data removed]",
      "text/plain": [
       "<Figure size 432x288 with 1 Axes>"
      ]
     },
     "metadata": {},
     "output_type": "display_data"
    }
   ],
   "source": [
    "G_plot = nx.petersen_graph()\n",
    "#plt.subplot(121)\n",
    "nx.draw(G, with_labels=True, font_weight='bold')\n",
    "#plt.subplot(122)\n",
    "#nx.draw_shell(G, nlist=[range(5, 10), range(5)], with_labels=True, font_weight='bold')"
   ]
  },
  {
   "cell_type": "markdown",
   "metadata": {},
   "source": [
    "### Cliques, worth a look?\n",
    "Idea from the docs, explanation at https://en.wikipedia.org/wiki/Clique_(graph_theory)\n",
    "\n",
    "So, cliques are allowed to overlap - should've thought of that.  Still, good preliminary results and I've found I can disambiguate the cliques to some degree by cutting out weaker links (fewer shared entities).\n",
    "\n",
    "I should add it also appears to merely suffer from the same problems as the other clustering methods, clusters are ultimately hierarchical!"
   ]
  },
  {
   "cell_type": "code",
   "execution_count": 29,
   "metadata": {},
   "outputs": [],
   "source": [
    "cliques = []\n",
    "for x in nx.find_cliques(G):\n",
    "    x.sort()\n",
    "    cliques.append((len(x), x))"
   ]
  },
  {
   "cell_type": "code",
   "execution_count": 30,
   "metadata": {},
   "outputs": [],
   "source": [
    "cliques_df = pd.DataFrame({\"nodes_list\": [x[1] for x in cliques],\n",
    "                           \"clique_size\": [x[0] for x in cliques]}).\\\n",
    "                    sort_values(\"clique_size\", ascending=False).\\\n",
    "                    reset_index()"
   ]
  },
  {
   "cell_type": "code",
   "execution_count": 31,
   "metadata": {},
   "outputs": [
    {
     "data": {
      "text/html": [
       "<div>\n",
       "<style scoped>\n",
       "    .dataframe tbody tr th:only-of-type {\n",
       "        vertical-align: middle;\n",
       "    }\n",
       "\n",
       "    .dataframe tbody tr th {\n",
       "        vertical-align: top;\n",
       "    }\n",
       "\n",
       "    .dataframe thead th {\n",
       "        text-align: right;\n",
       "    }\n",
       "</style>\n",
       "<table border=\"1\" class=\"dataframe\">\n",
       "  <thead>\n",
       "    <tr style=\"text-align: right;\">\n",
       "      <th></th>\n",
       "      <th>index</th>\n",
       "      <th>nodes_list</th>\n",
       "      <th>clique_size</th>\n",
       "    </tr>\n",
       "  </thead>\n",
       "  <tbody>\n",
       "    <tr>\n",
       "      <th>0</th>\n",
       "      <td>93</td>\n",
       "      <td>[83, 94, 99, 107, 139, 147, 158, 218, 251, 308...</td>\n",
       "      <td>21</td>\n",
       "    </tr>\n",
       "    <tr>\n",
       "      <th>1</th>\n",
       "      <td>566</td>\n",
       "      <td>[1003, 1011, 1013, 1014, 1015, 1038, 1041, 104...</td>\n",
       "      <td>11</td>\n",
       "    </tr>\n",
       "    <tr>\n",
       "      <th>2</th>\n",
       "      <td>568</td>\n",
       "      <td>[1003, 1004, 1011, 1013, 1014, 1015, 1038, 104...</td>\n",
       "      <td>11</td>\n",
       "    </tr>\n",
       "    <tr>\n",
       "      <th>3</th>\n",
       "      <td>83</td>\n",
       "      <td>[139, 150, 169, 171, 219, 717, 731, 804, 820, ...</td>\n",
       "      <td>10</td>\n",
       "    </tr>\n",
       "    <tr>\n",
       "      <th>4</th>\n",
       "      <td>37</td>\n",
       "      <td>[61, 84, 134, 160, 239, 415, 532, 625, 645, 649]</td>\n",
       "      <td>10</td>\n",
       "    </tr>\n",
       "    <tr>\n",
       "      <th>5</th>\n",
       "      <td>567</td>\n",
       "      <td>[1003, 1004, 1011, 1015, 1038, 1040, 1041, 104...</td>\n",
       "      <td>10</td>\n",
       "    </tr>\n",
       "    <tr>\n",
       "      <th>6</th>\n",
       "      <td>26</td>\n",
       "      <td>[39, 61, 84, 134, 160, 415, 532, 625, 645, 649]</td>\n",
       "      <td>10</td>\n",
       "    </tr>\n",
       "    <tr>\n",
       "      <th>7</th>\n",
       "      <td>565</td>\n",
       "      <td>[1003, 1004, 1013, 1014, 1015, 1038, 1042, 104...</td>\n",
       "      <td>9</td>\n",
       "    </tr>\n",
       "    <tr>\n",
       "      <th>8</th>\n",
       "      <td>564</td>\n",
       "      <td>[1003, 1004, 1015, 1038, 1040, 1042, 1043, 1101]</td>\n",
       "      <td>8</td>\n",
       "    </tr>\n",
       "    <tr>\n",
       "      <th>9</th>\n",
       "      <td>210</td>\n",
       "      <td>[99, 107, 218, 251, 308, 331, 511]</td>\n",
       "      <td>7</td>\n",
       "    </tr>\n",
       "    <tr>\n",
       "      <th>10</th>\n",
       "      <td>56</td>\n",
       "      <td>[100, 232, 710, 826, 841, 856, 857]</td>\n",
       "      <td>7</td>\n",
       "    </tr>\n",
       "    <tr>\n",
       "      <th>11</th>\n",
       "      <td>477</td>\n",
       "      <td>[818, 824, 826, 827, 840, 856, 859]</td>\n",
       "      <td>7</td>\n",
       "    </tr>\n",
       "    <tr>\n",
       "      <th>12</th>\n",
       "      <td>374</td>\n",
       "      <td>[621, 630, 634, 635, 658, 872, 873]</td>\n",
       "      <td>7</td>\n",
       "    </tr>\n",
       "    <tr>\n",
       "      <th>13</th>\n",
       "      <td>25</td>\n",
       "      <td>[35, 36, 38, 612, 728, 739, 747]</td>\n",
       "      <td>7</td>\n",
       "    </tr>\n",
       "    <tr>\n",
       "      <th>14</th>\n",
       "      <td>87</td>\n",
       "      <td>[139, 150, 169, 219, 731, 787, 842]</td>\n",
       "      <td>7</td>\n",
       "    </tr>\n",
       "    <tr>\n",
       "      <th>15</th>\n",
       "      <td>89</td>\n",
       "      <td>[83, 99, 107, 139, 218, 787, 789]</td>\n",
       "      <td>7</td>\n",
       "    </tr>\n",
       "    <tr>\n",
       "      <th>16</th>\n",
       "      <td>92</td>\n",
       "      <td>[99, 139, 219, 787, 878, 925]</td>\n",
       "      <td>6</td>\n",
       "    </tr>\n",
       "    <tr>\n",
       "      <th>17</th>\n",
       "      <td>91</td>\n",
       "      <td>[139, 150, 169, 219, 787, 925]</td>\n",
       "      <td>6</td>\n",
       "    </tr>\n",
       "    <tr>\n",
       "      <th>18</th>\n",
       "      <td>94</td>\n",
       "      <td>[139, 150, 219, 787, 878, 925]</td>\n",
       "      <td>6</td>\n",
       "    </tr>\n",
       "    <tr>\n",
       "      <th>19</th>\n",
       "      <td>174</td>\n",
       "      <td>[273, 821, 827, 846, 847, 885]</td>\n",
       "      <td>6</td>\n",
       "    </tr>\n",
       "  </tbody>\n",
       "</table>\n",
       "</div>"
      ],
      "text/plain": [
       "    index                                         nodes_list  clique_size\n",
       "0      93  [83, 94, 99, 107, 139, 147, 158, 218, 251, 308...           21\n",
       "1     566  [1003, 1011, 1013, 1014, 1015, 1038, 1041, 104...           11\n",
       "2     568  [1003, 1004, 1011, 1013, 1014, 1015, 1038, 104...           11\n",
       "3      83  [139, 150, 169, 171, 219, 717, 731, 804, 820, ...           10\n",
       "4      37   [61, 84, 134, 160, 239, 415, 532, 625, 645, 649]           10\n",
       "5     567  [1003, 1004, 1011, 1015, 1038, 1040, 1041, 104...           10\n",
       "6      26    [39, 61, 84, 134, 160, 415, 532, 625, 645, 649]           10\n",
       "7     565  [1003, 1004, 1013, 1014, 1015, 1038, 1042, 104...            9\n",
       "8     564   [1003, 1004, 1015, 1038, 1040, 1042, 1043, 1101]            8\n",
       "9     210                 [99, 107, 218, 251, 308, 331, 511]            7\n",
       "10     56                [100, 232, 710, 826, 841, 856, 857]            7\n",
       "11    477                [818, 824, 826, 827, 840, 856, 859]            7\n",
       "12    374                [621, 630, 634, 635, 658, 872, 873]            7\n",
       "13     25                   [35, 36, 38, 612, 728, 739, 747]            7\n",
       "14     87                [139, 150, 169, 219, 731, 787, 842]            7\n",
       "15     89                  [83, 99, 107, 139, 218, 787, 789]            7\n",
       "16     92                      [99, 139, 219, 787, 878, 925]            6\n",
       "17     91                     [139, 150, 169, 219, 787, 925]            6\n",
       "18     94                     [139, 150, 219, 787, 878, 925]            6\n",
       "19    174                     [273, 821, 827, 846, 847, 885]            6"
      ]
     },
     "execution_count": 31,
     "metadata": {},
     "output_type": "execute_result"
    }
   ],
   "source": [
    "cliques_df.head(20)"
   ]
  },
  {
   "cell_type": "code",
   "execution_count": 32,
   "metadata": {},
   "outputs": [
    {
     "name": "stdout",
     "output_type": "stream",
     "text": [
      "Boris Johnson blow as West Yorkshire police chief criticises use of his officers for speech backdrop. The statement said: quot;Yesterday;s visit by the Prime Minister and Home Secretary was to visit our Carr Gate training facilities, to announce the launch of the national recruitment campaign for an extra 20,000 police officers. Read more of today;s top ...\n",
      "Police chief ‘disappointed’ PM used officers as backdrop to political speech. John Robins with Home Secretary Priti Patel and Mr Johnson (Danny Lawson/PA) But shadow policing minister Louise Haigh was among those demanding an apology, adding: “Boris Johnson cannot even be honest with a chief constable.” “The Prime Minister and ...\n",
      "Government to take steps on decision-making powers if Stormont not restored. Prime Minister Boris Johnson with Home Secretary Priti Patel during a visit to West Yorkshire, where he gave a speech about Brexit as he stood in front of lines of new police recruits. Fears were also raised by Tory former Northern Ireland secretary Karen ...\n",
      "Let Labour block no-deal Brexit and then we will oust Boris Johnson from power – Rachel Reeves. THE fact that Boris Johnson this week made his second visit to Yorkshire in under a month tells us he is on the hunt for the votes that could decide the next general election. Even though he has only been Prime Minister for a few weeks, his desperation has ...\n",
      "Newbury MP Richard Benyon will not stand in next election. Mr Benyon follows the likes of former Home Secretary Amber Rudd, Totnes MP Sarah Wollaston, who resigned to join Change UK and then joined the Liberal Democrats, former Education Secretary Justine Greening and even Jo Johnson, Prime Minister Boris Johnson ...\n",
      "Immigration status: Ministers reverse May-era student visa rules. The move reverses a decision made in 2012 by then-Home Secretary Theresa May that forced overseas students to leave four months after finishing a degree. Prime Minister Boris Johnson said the change would see students quot;unlock their potentialquot; and begin ...\n",
      "Boris Johnson rips up Theresa May;s student visa curbs in bid to attract ;brightest and best;. Under rules drawn up by the-then Home Secretary in 2012, overseas students studying in the UK are currently able to stay in the country for just four months after completing a degree in order to try and find work. But Prime Minister Boris Johnson vowed to ...\n",
      "David Cameron admits people will never forgive him for Brexit referendum. Bitter David Cameron has taken brutal revenge on Boris Johnson and Michael Gove for betraying him over Brexit. The former Prime Minister plunged the knife into the Leave-supporting pair now running the Government in a bombshell interview ahead of his ...\n",
      "Brexit news: The Brexiteer Cameron didn;t want to make a ;Brexit martyr; -;She shocked me;. “I was stuck, though: unable to fire her, because that would make her a Brexit martyr.” But Ms Patel, now serving as Home Secretary under Prime Minister Boris Johnson, shrugged off his criticism saying it had been a “privilege” to serve in the ...\n",
      "Who is Priti Patel? New Home Secretary appointed by Prime Minister Boris Johnson. THE revolving doors of Britain;s cabinet have brought Priti Patel back in to the fold. The disgraced international development secretary has now been parachuted in to one of the great offices of state - here;s the latest. Priti Patel was appointed Britain ...\n",
      "Parents urged to take up offer of support after release of Vanessa George. In the weeks leading up to her release, Mp Luke Pollard, who represents Plymouth Sutton and Devonport, met with families and heard their grave concerns before challenging new Prime Minister Boris Johnson and Home Secretary Priti Patel to intervene.\n",
      "Carolyn Harris: Waiting for Boris Johnson to act on Domestic Abuse Bill is killing us. Domestic abuse kills more women than cancer does and yet the Prime Minister has not yet passed vital new legislation\n",
      "Boris Johnson blasts ;outrageous; treatment of crime victims as he unveils domestic abuse crackdown. Boris Johnson has called for a major overhaul of the criminal justice system, as he blasted the quot;outrageousquot; mismatch between the support given to victims and perpetrators. The Prime Minister said victims were too often told: quot;You;re on your own.\n",
      "London knife crime: Sadiq Khan praises Boris Johnson and Priti Patel for ;waking up; to realities of bloodshed in capital. Mayor of London Sadiq Khan has praised Prime Minister Boris Johnson and home secretary Priti Patel for “waking up” to the realities of knife crime in the capital. In an unusual move for a Labour politician, Mr Khan applauded Tories Mr Johnson and Ms ...\n",
      "World;s largest genetics research project to fight deadly diseases and new offer for international students. Prime Minister Boris Johnson has unveiled plans to transform how talented international students are able build successful careers in the UK through a new immigration route, as a new ground-breaking project in the fight against life-threatening illnesses ...\n",
      "Local reporter puts Johnson on spot over child abuse remarks. A weekly newspaper’s editor has urged Boris Johnson to apologise for past remarks about child abuse after the Prime Minister was left “rattled” by a question from one of his reporters. Rotherham Advertiser journalist David Parker, pictured, quizzed ...\n",
      "Border checks would be temporary, Irish deputy premier says. Deputy Irish premier Simon Coveney has said any checks on the Irish border as a a result of Brexit will be temporary. UK Prime Minister Boris Johnson has not tabled any detailed alternatives to the backstop but Mr Coveney said “he is convinced the Prime ...\n",
      "International students to be able to stay in UK for two years after graduating. International students will be able to stay in the UK for two years after graduating, to find work, under new proposals announced by the Prime Minister. Boris Johnson said the changes, due to come into effect for those starting courses next year, would ...\n",
      "Brexit backlash: Shock Tory Remainer plots bid to oust Boris and become new Prime Minister. Ms Rudd was Home Secretary in the premiership of Theresa May. Ms Rudd resigned following the Windrush scandal. Ms Rudd’s resignation came as she criticised the Government for not working hard enough to secure a deal. She wrote to Mr Johnson ...\n",
      "Prime Minister Boris Johnson with Home Secretary Priti Patel (right) at the Conservative Party Conference at the Manchester Convention Centre. We;re a reader-owned co-operative, which means you can become part of the paper too by buying shares in the People’s Press Printing Society.\n",
      "Conservative Party conference agenda: what;s on today;s schedule for the Tory gathering in Manchester. Submitting... Britain;s Prime Minister Boris Johnson spoke about the plans at the Tory party conference in Manchester (Photo: Getty Images) Meanwhile Home Secretary Priti Patel will use her ...\n"
     ]
    }
   ],
   "source": [
    "for node in cliques_df.iloc[0]['nodes_list']:\n",
    "    article = nouns_df.reset_index().iloc[node]\n",
    "    print(article['clean_text'])"
   ]
  },
  {
   "cell_type": "code",
   "execution_count": 33,
   "metadata": {},
   "outputs": [
    {
     "name": "stdout",
     "output_type": "stream",
     "text": [
      "Labour MP Rosie Duffield reveals she was a domestic abuse victim in a ;moving and horrifying account; to Parliament. Labour MP Rosie Duffield has revealed she was a victim of domestic abuse in a moving speech in the House of Commons. The MP for Canterbury told how she had been coercively controlled and psychologically abused as Parliament debated the domestic abuse bill ...\n",
      "Labour MP Rosie Duffield opens up about being victim of domestic abuse in emotional Commons speech. Ms Duffield is comforted by friends and colleagues after giving an emotional speech about being the victim of domestic abuse (Photo: parliament TV) Labour MP Rosie Duffield has revealed she was ...\n",
      "MP shares with Commons her personal experience of domestic abuse. An MP has urged others to come forward if it is safe for them to do so after sharing during a Commons debate her own experience of coercive control. Canterbury MP Rosie Duffield received a standing ovation after she gave an emotional speech about a ...\n",
      "MP shares with Commons her own experience of domestic abuse. An MP has urged others to come forward if it is safe for them to do so after sharing during a Commons debate her own experience of coercive control. Canterbury MP Rosie Duffield received a standing ovation after she gave an emotional speech about a ...\n",
      "WATCH: Labour MP Rosie Duffield shares harrowing experience of domestic abuse. The Canterbury MP received a standing ovation after she laid bare her experience of facing abusive behaviour at the hands of a former partner. Speaking during a Commons debate on the domestic abuse bill, Ms Duffield said abuse was not always noticeable by ...\n",
      "Labour MP reveals she was a domestic abuse victim in a ;moving and horrifying account; to Parliament. Labour MP Rosie Duffield has revealed she was a victim of domestic abuse in a moving speech in the House of Commons. The MP for Canterbury told how she had been coercively controlled and psychologically abused as Parliament debated the domestic abuse bill ...\n",
      "Labour MP Rosie Duffield opens up about being victim of domestic abuse in emotional Commons speech. Labour MP Rosie Duffield has revealed she was the victim of domestic abuse in an emotional speech delivered to Parliament. In an deeply personal and moving address in the House of Commons chamber ...\n",
      "Commons applauds Rosie Duffield speech on domestic abuse torment. A Labour MP received a standing ovation in the Commons after speaking about her experience of an abusive relationship. Rosie Duffield, 48, the MP for Canterbury, used a debate on the Domestic Abuse Bill to talk about a relationship in which she was under ...\n",
      ";Rosie Speaks Truth; – 5 Women Explain Why MP;s Domestic Abuse Speech Was So Powerful. Women who’ve experienced domestic abuse have praised MP Rosie Duffield for sharing her own story of coercive control, saying it made them feel less alone. In what has been described as one of the most powerful speeches delivered in the House Of Commons ...\n",
      "Labour MP Rosie Duffield’s moving speech telling a harrowing story of everyday domestic abuse. IT was described as one of the most moving contributions heard in Parliament as Labour MP Rosie Duffield bravely spoke of her harrowing experience of domestic abuse. The 48-year-old gave the speech on Wednesday during a Commons debate on the Domestic Abuse ...\n",
      "When women speak out on domestic abuse we become more powerful. In every parliament there are standout speeches. Yesterday the Commons heard one of them from Rosie Duffield, Labour MP for Canterbury, in the second reading of the Domestic Abuse Bill. It was delivered quietly and eloquently, but the effect was incredibly ...\n"
     ]
    }
   ],
   "source": [
    "for node in cliques_df.iloc[1]['nodes_list']:\n",
    "    article = nouns_df.reset_index().iloc[node]\n",
    "    print(article['clean_text'])"
   ]
  },
  {
   "cell_type": "code",
   "execution_count": 36,
   "metadata": {},
   "outputs": [
    {
     "name": "stdout",
     "output_type": "stream",
     "text": [
      "Home Secretary Priti Patel meets French counterpart Christophe Castaner to discuss migrant crisis. Home Secretary Priti Patel hasn met her French counterpart to discuss the ongoing migrant crisis. Ms Patel was with Interior Minister Christophe Castaner in Paris yesterday. The pair meet in Paris. Picture: Christophe Castaner @CCastaner After they greeted ...\n",
      "Migrants - Home Secretary Priti Patel meets French counterpart Christophe Castaner. Home Secretary Priti Patel met her French counterpart to discuss the ongoing migrant crisis. Ms Patel was with Interior Minister Christophe Castaner in Paris yesterday. After they greeted each other M. Castaner announced in a tweet: quot;We will discuss ...\n",
      "Border Force intercept 86 UK-bound migrants attempting to cross Channel. It comes after Home Secretary Priti Patel said urgent action was needed to put a stop to the wave of crossings, after she met French interior minister Christophe Castaner in Paris last month. A Home Office spokesman said: quot;We are working closely at all ...\n",
      "Let migrants claim UK asylum in France to stop Channel crossings, says charity. Last month, Home Secretary Priti Patel said urgent action was needed to put a stop to the wave of crossings, after she met French interior minister Christophe Castaner in Paris. More detail on the action plan is yet to be released. The Home Office declared ...\n",
      "Migrant boats intercepted after French camp clearances. Last month, Home Secretary Priti Patel said urgent action was needed to put a stop to the tide of crossings, after she met French interior minister Christophe Castaner in Paris. More detail on the action plan is yet to be released.\n",
      "Fresh migrant camp eviction revives fears of Channel crossing spike. Last month, Home Secretary Priti Patel said urgent action was needed to put a stop to the tide of crossings, after she met French interior minister Christophe Castaner in Paris. More detail on the action plan is yet to be released.\n",
      "Patel accused of ‘dereliction of duty’ over handling of migrant crisis. The Home Secretary has been accused of a “dereliction of duty” over her tackling of the migrant crisis in the English Channel. Priti Patel met French interior minister Christophe Castaner in Paris on Thursday, afterwards saying urgent action was needed ...\n",
      "Border Force intercept 41 migrants in boats as camp closures in France drive desperate efforts to cross Channel. Last month Home Secretary Priti Patel said urgent action was needed to prevent crossings, following a meeting with French interior minister Christophe Castaner in Paris. A Home Office spokesman ...\n",
      "Man arrested in northern Lincolnshire suspected of trying to smuggle migrants across Channel. The Home Office says more than 80 people who came to the UK illegally on boats have been returned to Europe. The arrests come after Home Secretary Priti Patel and French interior minister Christophe Castaner met in Paris last month to agree urgent action ...\n",
      "Man arrested in northern Lincolnshire suspected of trying to smuggle migrants across Channel. The arrests come after Home Secretary Priti Patel and French interior minister Christophe Castaner met in Paris last month to agree urgent action to halt the crisis. So far no more detail on the action plan has been released. The Home Office said more ...\n"
     ]
    }
   ],
   "source": [
    "for node in cliques_df.iloc[4]['nodes_list']:\n",
    "    article = nouns_df.reset_index().iloc[node]\n",
    "    print(article['clean_text'])"
   ]
  },
  {
   "cell_type": "code",
   "execution_count": null,
   "metadata": {},
   "outputs": [],
   "source": []
  }
 ],
 "metadata": {
  "kernelspec": {
   "display_name": "Python 3",
   "language": "python",
   "name": "python3"
  },
  "language_info": {
   "codemirror_mode": {
    "name": "ipython",
    "version": 3
   },
   "file_extension": ".py",
   "mimetype": "text/x-python",
   "name": "python",
   "nbconvert_exporter": "python",
   "pygments_lexer": "ipython3",
   "version": "3.7.3"
  }
 },
 "nbformat": 4,
 "nbformat_minor": 2
}
