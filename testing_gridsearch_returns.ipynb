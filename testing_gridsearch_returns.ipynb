{
 "cells": [
  {
   "cell_type": "code",
   "execution_count": 36,
   "metadata": {
    "scrolled": true
   },
   "outputs": [
    {
     "data": {
      "text/plain": [
       "['mean_fit_time',\n",
       " 'mean_score_time',\n",
       " 'mean_test_Accuracy',\n",
       " 'mean_test_Precision',\n",
       " 'mean_test_Recall',\n",
       " 'mean_train_Accuracy',\n",
       " 'mean_train_Precision',\n",
       " 'mean_train_Recall',\n",
       " 'param_C',\n",
       " 'param_kernel',\n",
       " 'params',\n",
       " 'rank_test_Accuracy',\n",
       " 'rank_test_Precision',\n",
       " 'rank_test_Recall',\n",
       " 'split0_test_Accuracy',\n",
       " 'split0_test_Precision',\n",
       " 'split0_test_Recall',\n",
       " 'split0_train_Accuracy',\n",
       " 'split0_train_Precision',\n",
       " 'split0_train_Recall',\n",
       " 'split1_test_Accuracy',\n",
       " 'split1_test_Precision',\n",
       " 'split1_test_Recall',\n",
       " 'split1_train_Accuracy',\n",
       " 'split1_train_Precision',\n",
       " 'split1_train_Recall',\n",
       " 'split2_test_Accuracy',\n",
       " 'split2_test_Precision',\n",
       " 'split2_test_Recall',\n",
       " 'split2_train_Accuracy',\n",
       " 'split2_train_Precision',\n",
       " 'split2_train_Recall',\n",
       " 'split3_test_Accuracy',\n",
       " 'split3_test_Precision',\n",
       " 'split3_test_Recall',\n",
       " 'split3_train_Accuracy',\n",
       " 'split3_train_Precision',\n",
       " 'split3_train_Recall',\n",
       " 'split4_test_Accuracy',\n",
       " 'split4_test_Precision',\n",
       " 'split4_test_Recall',\n",
       " 'split4_train_Accuracy',\n",
       " 'split4_train_Precision',\n",
       " 'split4_train_Recall',\n",
       " 'std_fit_time',\n",
       " 'std_score_time',\n",
       " 'std_test_Accuracy',\n",
       " 'std_test_Precision',\n",
       " 'std_test_Recall',\n",
       " 'std_train_Accuracy',\n",
       " 'std_train_Precision',\n",
       " 'std_train_Recall']"
      ]
     },
     "execution_count": 36,
     "metadata": {},
     "output_type": "execute_result"
    }
   ],
   "source": [
    "import pandas as pd\n",
    "import json\n",
    "import pickle\n",
    "\n",
    "from sklearn.linear_model import LogisticRegression\n",
    "from sklearn import datasets\n",
    "from sklearn.model_selection import GridSearchCV\n",
    "\n",
    "# Import various metrics by which to judge a model's performance\n",
    "from sklearn.metrics import make_scorer\n",
    "from sklearn.metrics import accuracy_score              # Evaluate a model\n",
    "from sklearn.metrics import f1_score                    # Evaluate a model\n",
    "from sklearn.metrics import precision_score             # Evaluate a model\n",
    "from sklearn.metrics import recall_score                # Evaluate a model"
   ]
  },
  {
   "cell_type": "markdown",
   "metadata": {},
   "source": [
    "## Building a parameter grid search"
   ]
  },
  {
   "cell_type": "code",
   "execution_count": null,
   "metadata": {},
   "outputs": [],
   "source": [
    "# Define the measurements we want to make\n",
    "scoring = {'Accuracy': make_scorer(accuracy_score),\n",
    "           'Precision': make_scorer(precision_score, average=\"macro\"),\n",
    "           'Recall': make_scorer(recall_score, average=\"macro\")}\n",
    "\n",
    "iris = datasets.load_iris()\n",
    "parameters = {'C':[0.1, 1.0]}\n",
    "\n",
    "model = LogisticRegression()\n",
    "\n",
    "clf = GridSearchCV(estimator=svm.SVC(),\n",
    "                   scoring=scoring,\n",
    "                   param_grid={'C': [1, 10], 'kernel': ('linear', 'rbf')},\n",
    "                   return_train_score=True,\n",
    "                   refit=False)\n",
    "\n",
    "clf.fit(iris.data, iris.target)\n",
    "\n",
    "sorted(clf.cv_results_.keys())"
   ]
  },
  {
   "cell_type": "code",
   "execution_count": 37,
   "metadata": {},
   "outputs": [
    {
     "data": {
      "text/html": [
       "<div>\n",
       "<style scoped>\n",
       "    .dataframe tbody tr th:only-of-type {\n",
       "        vertical-align: middle;\n",
       "    }\n",
       "\n",
       "    .dataframe tbody tr th {\n",
       "        vertical-align: top;\n",
       "    }\n",
       "\n",
       "    .dataframe thead th {\n",
       "        text-align: right;\n",
       "    }\n",
       "</style>\n",
       "<table border=\"1\" class=\"dataframe\">\n",
       "  <thead>\n",
       "    <tr style=\"text-align: right;\">\n",
       "      <th></th>\n",
       "      <th>mean_fit_time</th>\n",
       "      <th>std_fit_time</th>\n",
       "      <th>mean_score_time</th>\n",
       "      <th>std_score_time</th>\n",
       "      <th>param_C</th>\n",
       "      <th>param_kernel</th>\n",
       "      <th>params</th>\n",
       "      <th>split0_test_Accuracy</th>\n",
       "      <th>split1_test_Accuracy</th>\n",
       "      <th>split2_test_Accuracy</th>\n",
       "      <th>...</th>\n",
       "      <th>mean_test_Recall</th>\n",
       "      <th>std_test_Recall</th>\n",
       "      <th>rank_test_Recall</th>\n",
       "      <th>split0_train_Recall</th>\n",
       "      <th>split1_train_Recall</th>\n",
       "      <th>split2_train_Recall</th>\n",
       "      <th>split3_train_Recall</th>\n",
       "      <th>split4_train_Recall</th>\n",
       "      <th>mean_train_Recall</th>\n",
       "      <th>std_train_Recall</th>\n",
       "    </tr>\n",
       "  </thead>\n",
       "  <tbody>\n",
       "    <tr>\n",
       "      <th>0</th>\n",
       "      <td>0.000801</td>\n",
       "      <td>0.000401</td>\n",
       "      <td>0.001002</td>\n",
       "      <td>0.000004</td>\n",
       "      <td>1</td>\n",
       "      <td>linear</td>\n",
       "      <td>{'C': 1, 'kernel': 'linear'}</td>\n",
       "      <td>0.966667</td>\n",
       "      <td>1.000000</td>\n",
       "      <td>0.966667</td>\n",
       "      <td>...</td>\n",
       "      <td>0.980000</td>\n",
       "      <td>0.016330</td>\n",
       "      <td>1</td>\n",
       "      <td>0.975000</td>\n",
       "      <td>0.975000</td>\n",
       "      <td>0.991667</td>\n",
       "      <td>0.983333</td>\n",
       "      <td>0.983333</td>\n",
       "      <td>0.981667</td>\n",
       "      <td>0.006236</td>\n",
       "    </tr>\n",
       "    <tr>\n",
       "      <th>1</th>\n",
       "      <td>0.000200</td>\n",
       "      <td>0.000400</td>\n",
       "      <td>0.001201</td>\n",
       "      <td>0.000401</td>\n",
       "      <td>1</td>\n",
       "      <td>rbf</td>\n",
       "      <td>{'C': 1, 'kernel': 'rbf'}</td>\n",
       "      <td>0.966667</td>\n",
       "      <td>0.966667</td>\n",
       "      <td>0.966667</td>\n",
       "      <td>...</td>\n",
       "      <td>0.966667</td>\n",
       "      <td>0.021082</td>\n",
       "      <td>4</td>\n",
       "      <td>0.983333</td>\n",
       "      <td>0.958333</td>\n",
       "      <td>0.983333</td>\n",
       "      <td>0.983333</td>\n",
       "      <td>0.958333</td>\n",
       "      <td>0.973333</td>\n",
       "      <td>0.012247</td>\n",
       "    </tr>\n",
       "    <tr>\n",
       "      <th>2</th>\n",
       "      <td>0.000801</td>\n",
       "      <td>0.000400</td>\n",
       "      <td>0.001201</td>\n",
       "      <td>0.000401</td>\n",
       "      <td>10</td>\n",
       "      <td>linear</td>\n",
       "      <td>{'C': 10, 'kernel': 'linear'}</td>\n",
       "      <td>1.000000</td>\n",
       "      <td>1.000000</td>\n",
       "      <td>0.900000</td>\n",
       "      <td>...</td>\n",
       "      <td>0.973333</td>\n",
       "      <td>0.038873</td>\n",
       "      <td>3</td>\n",
       "      <td>0.966667</td>\n",
       "      <td>0.966667</td>\n",
       "      <td>0.991667</td>\n",
       "      <td>0.991667</td>\n",
       "      <td>0.975000</td>\n",
       "      <td>0.978333</td>\n",
       "      <td>0.011304</td>\n",
       "    </tr>\n",
       "    <tr>\n",
       "      <th>3</th>\n",
       "      <td>0.000401</td>\n",
       "      <td>0.000491</td>\n",
       "      <td>0.001201</td>\n",
       "      <td>0.000400</td>\n",
       "      <td>10</td>\n",
       "      <td>rbf</td>\n",
       "      <td>{'C': 10, 'kernel': 'rbf'}</td>\n",
       "      <td>0.966667</td>\n",
       "      <td>1.000000</td>\n",
       "      <td>0.966667</td>\n",
       "      <td>...</td>\n",
       "      <td>0.980000</td>\n",
       "      <td>0.016330</td>\n",
       "      <td>1</td>\n",
       "      <td>0.975000</td>\n",
       "      <td>0.983333</td>\n",
       "      <td>0.991667</td>\n",
       "      <td>0.991667</td>\n",
       "      <td>0.983333</td>\n",
       "      <td>0.985000</td>\n",
       "      <td>0.006236</td>\n",
       "    </tr>\n",
       "  </tbody>\n",
       "</table>\n",
       "<p>4 rows × 52 columns</p>\n",
       "</div>"
      ],
      "text/plain": [
       "   mean_fit_time  std_fit_time  mean_score_time  std_score_time param_C  \\\n",
       "0       0.000801      0.000401         0.001002        0.000004       1   \n",
       "1       0.000200      0.000400         0.001201        0.000401       1   \n",
       "2       0.000801      0.000400         0.001201        0.000401      10   \n",
       "3       0.000401      0.000491         0.001201        0.000400      10   \n",
       "\n",
       "  param_kernel                         params  split0_test_Accuracy  \\\n",
       "0       linear   {'C': 1, 'kernel': 'linear'}              0.966667   \n",
       "1          rbf      {'C': 1, 'kernel': 'rbf'}              0.966667   \n",
       "2       linear  {'C': 10, 'kernel': 'linear'}              1.000000   \n",
       "3          rbf     {'C': 10, 'kernel': 'rbf'}              0.966667   \n",
       "\n",
       "   split1_test_Accuracy  split2_test_Accuracy  ...  mean_test_Recall  \\\n",
       "0              1.000000              0.966667  ...          0.980000   \n",
       "1              0.966667              0.966667  ...          0.966667   \n",
       "2              1.000000              0.900000  ...          0.973333   \n",
       "3              1.000000              0.966667  ...          0.980000   \n",
       "\n",
       "   std_test_Recall  rank_test_Recall  split0_train_Recall  \\\n",
       "0         0.016330                 1             0.975000   \n",
       "1         0.021082                 4             0.983333   \n",
       "2         0.038873                 3             0.966667   \n",
       "3         0.016330                 1             0.975000   \n",
       "\n",
       "   split1_train_Recall  split2_train_Recall  split3_train_Recall  \\\n",
       "0             0.975000             0.991667             0.983333   \n",
       "1             0.958333             0.983333             0.983333   \n",
       "2             0.966667             0.991667             0.991667   \n",
       "3             0.983333             0.991667             0.991667   \n",
       "\n",
       "   split4_train_Recall  mean_train_Recall  std_train_Recall  \n",
       "0             0.983333           0.981667          0.006236  \n",
       "1             0.958333           0.973333          0.012247  \n",
       "2             0.975000           0.978333          0.011304  \n",
       "3             0.983333           0.985000          0.006236  \n",
       "\n",
       "[4 rows x 52 columns]"
      ]
     },
     "execution_count": 37,
     "metadata": {},
     "output_type": "execute_result"
    }
   ],
   "source": [
    "pd.DataFrame(clf.cv_results_)"
   ]
  },
  {
   "cell_type": "markdown",
   "metadata": {},
   "source": [
    "## Fetching coefficients from a multiclass (OVR) LM"
   ]
  },
  {
   "cell_type": "code",
   "execution_count": 38,
   "metadata": {},
   "outputs": [
    {
     "name": "stderr",
     "output_type": "stream",
     "text": [
      "C:\\ProgramData\\Anaconda3\\lib\\site-packages\\sklearn\\linear_model\\_logistic.py:764: ConvergenceWarning: lbfgs failed to converge (status=1):\n",
      "STOP: TOTAL NO. of ITERATIONS REACHED LIMIT.\n",
      "\n",
      "Increase the number of iterations (max_iter) or scale the data as shown in:\n",
      "    https://scikit-learn.org/stable/modules/preprocessing.html\n",
      "Please also refer to the documentation for alternative solver options:\n",
      "    https://scikit-learn.org/stable/modules/linear_model.html#logistic-regression\n",
      "  extra_warning_msg=_LOGISTIC_SOLVER_CONVERGENCE_MSG)\n"
     ]
    },
    {
     "data": {
      "text/plain": [
       "LogisticRegression()"
      ]
     },
     "execution_count": 38,
     "metadata": {},
     "output_type": "execute_result"
    }
   ],
   "source": [
    "lm = LogisticRegression()\n",
    "lm.fit(iris.data, iris.target)"
   ]
  },
  {
   "cell_type": "code",
   "execution_count": 41,
   "metadata": {
    "scrolled": true
   },
   "outputs": [
    {
     "data": {
      "text/plain": [
       "array([[-0.41889945,  0.96712228, -2.52091953, -1.08420398],\n",
       "       [ 0.53128131, -0.31480095, -0.20023721, -0.94848376],\n",
       "       [-0.11238186, -0.65232134,  2.72115674,  2.03268775]])"
      ]
     },
     "execution_count": 41,
     "metadata": {},
     "output_type": "execute_result"
    }
   ],
   "source": [
    "# The coefficients are presented as an array, one row per class\n",
    "lm.coef_"
   ]
  },
  {
   "cell_type": "code",
   "execution_count": 45,
   "metadata": {},
   "outputs": [
    {
     "data": {
      "text/plain": [
       "array([  9.84060632,   2.21741202, -12.05801834])"
      ]
     },
     "execution_count": 45,
     "metadata": {},
     "output_type": "execute_result"
    }
   ],
   "source": [
    "# Intercepts too!\n",
    "lm.intercept_"
   ]
  }
 ],
 "metadata": {
  "kernelspec": {
   "display_name": "Python 3",
   "language": "python",
   "name": "python3"
  },
  "language_info": {
   "codemirror_mode": {
    "name": "ipython",
    "version": 3
   },
   "file_extension": ".py",
   "mimetype": "text/x-python",
   "name": "python",
   "nbconvert_exporter": "python",
   "pygments_lexer": "ipython3",
   "version": "3.7.6"
  }
 },
 "nbformat": 4,
 "nbformat_minor": 4
}
