{
 "cells": [
  {
   "cell_type": "markdown",
   "metadata": {},
   "source": [
    "# Experimenting with Cleaning, Clustering & Summarization Pipelines\n",
    "\n",
    "### To do (technical)\n",
    "- Implement date windows on my corpus loader function"
   ]
  },
  {
   "cell_type": "code",
   "execution_count": 1,
   "metadata": {},
   "outputs": [],
   "source": [
    "import os\n",
    "import re\n",
    "import json\n",
    "\n",
    "import numpy as np\n",
    "import pandas as pd\n",
    "import networkx as nx\n",
    "\n",
    "from sklearn.decomposition import PCA\n",
    "import matplotlib.pyplot as plt\n",
    "\n",
    "import lib.helper as helper\n",
    "import lib.embedding_models as reps\n",
    "\n",
    "from importlib import reload\n",
    "\n",
    "%matplotlib inline\n",
    "\n",
    "# Useful flatten function from Alex Martelli on https://stackoverflow.com/questions/952914/how-to-make-a-flat-list-out-of-list-of-lists\n",
    "flatten = lambda l: [item for sublist in l for item in sublist]"
   ]
  },
  {
   "cell_type": "markdown",
   "metadata": {},
   "source": [
    "## 1.  Retrieve Corpus\n",
    "\n",
    "The corpus is being scraped by the \"run_news_scrapes.py\" script (and windows task scheduler) every 12 hours, a bit past midday and a bit past midnight.\n",
    "\n",
    "The \"bing\" corpus are news titles and text extracts gotten from the bing news search API, using a few Home Office - related keywords.\n",
    "\n",
    "The \"RSS\" corpus is plugged directly into a number of RSS feeds for world news sites and local british news sites, with no filters for news story types or subjects applied."
   ]
  },
  {
   "cell_type": "code",
   "execution_count": 2,
   "metadata": {
    "scrolled": true
   },
   "outputs": [
    {
     "name": "stdout",
     "output_type": "stream",
     "text": [
      "Total files: 495\n",
      "9.9 percent of files read.\n",
      "19.8 percent of files read.\n",
      "29.7 percent of files read.\n",
      "39.6 percent of files read.\n",
      "49.5 percent of files read.\n",
      "59.4 percent of files read.\n",
      "69.3 percent of files read.\n",
      "79.2 percent of files read.\n",
      "89.1 percent of files read.\n",
      "99.0 percent of files read.\n",
      "(31393, 9)\n"
     ]
    },
    {
     "data": {
      "text/html": [
       "<div>\n",
       "<style scoped>\n",
       "    .dataframe tbody tr th:only-of-type {\n",
       "        vertical-align: middle;\n",
       "    }\n",
       "\n",
       "    .dataframe tbody tr th {\n",
       "        vertical-align: top;\n",
       "    }\n",
       "\n",
       "    .dataframe thead th {\n",
       "        text-align: right;\n",
       "    }\n",
       "</style>\n",
       "<table border=\"1\" class=\"dataframe\">\n",
       "  <thead>\n",
       "    <tr style=\"text-align: right;\">\n",
       "      <th></th>\n",
       "      <th>index</th>\n",
       "      <th>title</th>\n",
       "      <th>summary</th>\n",
       "      <th>date</th>\n",
       "      <th>link</th>\n",
       "      <th>source_url</th>\n",
       "      <th>retrieval_timestamp</th>\n",
       "      <th>origin</th>\n",
       "      <th>clean_text</th>\n",
       "    </tr>\n",
       "    <tr>\n",
       "      <th>node</th>\n",
       "      <th></th>\n",
       "      <th></th>\n",
       "      <th></th>\n",
       "      <th></th>\n",
       "      <th></th>\n",
       "      <th></th>\n",
       "      <th></th>\n",
       "      <th></th>\n",
       "      <th></th>\n",
       "    </tr>\n",
       "  </thead>\n",
       "  <tbody>\n",
       "    <tr>\n",
       "      <th>0</th>\n",
       "      <td>0</td>\n",
       "      <td>Hurricane Dorian lashes US as Bahamas counts cost</td>\n",
       "      <td>Life-threatening US storm surges are feared, a...</td>\n",
       "      <td>Thu, 05 Sep 2019 16:03:44 GMT</td>\n",
       "      <td>https://www.bbc.co.uk/news/world-us-canada-495...</td>\n",
       "      <td>http://feeds.bbci.co.uk/news/world/rss.xml</td>\n",
       "      <td>2019-09-05 21:35:06.925873</td>\n",
       "      <td>rss_feed</td>\n",
       "      <td>Hurricane Dorian lashes US as Bahamas counts c...</td>\n",
       "    </tr>\n",
       "    <tr>\n",
       "      <th>1</th>\n",
       "      <td>1</td>\n",
       "      <td>Kohistan video murders: Three guilty in 'honou...</td>\n",
       "      <td>They are relatives of a group of Pakistani wom...</td>\n",
       "      <td>Thu, 05 Sep 2019 13:53:17 GMT</td>\n",
       "      <td>https://www.bbc.co.uk/news/world-asia-49592540</td>\n",
       "      <td>http://feeds.bbci.co.uk/news/world/rss.xml</td>\n",
       "      <td>2019-09-05 21:35:06.925873</td>\n",
       "      <td>rss_feed</td>\n",
       "      <td>Kohistan video murders: Three guilty in 'honou...</td>\n",
       "    </tr>\n",
       "    <tr>\n",
       "      <th>2</th>\n",
       "      <td>2</td>\n",
       "      <td>MH17 Ukraine plane crash: 'Key witness' released</td>\n",
       "      <td>A Ukrainian court releases a potentially key w...</td>\n",
       "      <td>Thu, 05 Sep 2019 13:46:06 GMT</td>\n",
       "      <td>https://www.bbc.co.uk/news/world-europe-49591148</td>\n",
       "      <td>http://feeds.bbci.co.uk/news/world/rss.xml</td>\n",
       "      <td>2019-09-05 21:35:06.925873</td>\n",
       "      <td>rss_feed</td>\n",
       "      <td>MH17 Ukraine plane crash: 'Key witness' releas...</td>\n",
       "    </tr>\n",
       "    <tr>\n",
       "      <th>3</th>\n",
       "      <td>3</td>\n",
       "      <td>Article 370: The weddings 'ruined' by Kashmir'...</td>\n",
       "      <td>Indian-administered Kashmir is under a securit...</td>\n",
       "      <td>Thu, 05 Sep 2019 07:32:34 GMT</td>\n",
       "      <td>https://www.bbc.co.uk/news/world-asia-india-49...</td>\n",
       "      <td>http://feeds.bbci.co.uk/news/world/rss.xml</td>\n",
       "      <td>2019-09-05 21:35:06.925873</td>\n",
       "      <td>rss_feed</td>\n",
       "      <td>Article 70: The weddings 'ruined' by Kashmir's...</td>\n",
       "    </tr>\n",
       "    <tr>\n",
       "      <th>4</th>\n",
       "      <td>4</td>\n",
       "      <td>Syria war: Turkey warns Europe of new migrant ...</td>\n",
       "      <td>President Erdogan demands international help t...</td>\n",
       "      <td>Thu, 05 Sep 2019 16:11:48 GMT</td>\n",
       "      <td>https://www.bbc.co.uk/news/world-europe-49599297</td>\n",
       "      <td>http://feeds.bbci.co.uk/news/world/rss.xml</td>\n",
       "      <td>2019-09-05 21:35:06.925873</td>\n",
       "      <td>rss_feed</td>\n",
       "      <td>Syria war: Turkey warns Europe of new migrant ...</td>\n",
       "    </tr>\n",
       "  </tbody>\n",
       "</table>\n",
       "</div>"
      ],
      "text/plain": [
       "      index                                              title  \\\n",
       "node                                                             \n",
       "0         0  Hurricane Dorian lashes US as Bahamas counts cost   \n",
       "1         1  Kohistan video murders: Three guilty in 'honou...   \n",
       "2         2   MH17 Ukraine plane crash: 'Key witness' released   \n",
       "3         3  Article 370: The weddings 'ruined' by Kashmir'...   \n",
       "4         4  Syria war: Turkey warns Europe of new migrant ...   \n",
       "\n",
       "                                                summary  \\\n",
       "node                                                      \n",
       "0     Life-threatening US storm surges are feared, a...   \n",
       "1     They are relatives of a group of Pakistani wom...   \n",
       "2     A Ukrainian court releases a potentially key w...   \n",
       "3     Indian-administered Kashmir is under a securit...   \n",
       "4     President Erdogan demands international help t...   \n",
       "\n",
       "                               date  \\\n",
       "node                                  \n",
       "0     Thu, 05 Sep 2019 16:03:44 GMT   \n",
       "1     Thu, 05 Sep 2019 13:53:17 GMT   \n",
       "2     Thu, 05 Sep 2019 13:46:06 GMT   \n",
       "3     Thu, 05 Sep 2019 07:32:34 GMT   \n",
       "4     Thu, 05 Sep 2019 16:11:48 GMT   \n",
       "\n",
       "                                                   link  \\\n",
       "node                                                      \n",
       "0     https://www.bbc.co.uk/news/world-us-canada-495...   \n",
       "1        https://www.bbc.co.uk/news/world-asia-49592540   \n",
       "2      https://www.bbc.co.uk/news/world-europe-49591148   \n",
       "3     https://www.bbc.co.uk/news/world-asia-india-49...   \n",
       "4      https://www.bbc.co.uk/news/world-europe-49599297   \n",
       "\n",
       "                                      source_url         retrieval_timestamp  \\\n",
       "node                                                                           \n",
       "0     http://feeds.bbci.co.uk/news/world/rss.xml  2019-09-05 21:35:06.925873   \n",
       "1     http://feeds.bbci.co.uk/news/world/rss.xml  2019-09-05 21:35:06.925873   \n",
       "2     http://feeds.bbci.co.uk/news/world/rss.xml  2019-09-05 21:35:06.925873   \n",
       "3     http://feeds.bbci.co.uk/news/world/rss.xml  2019-09-05 21:35:06.925873   \n",
       "4     http://feeds.bbci.co.uk/news/world/rss.xml  2019-09-05 21:35:06.925873   \n",
       "\n",
       "        origin                                         clean_text  \n",
       "node                                                               \n",
       "0     rss_feed  Hurricane Dorian lashes US as Bahamas counts c...  \n",
       "1     rss_feed  Kohistan video murders: Three guilty in 'honou...  \n",
       "2     rss_feed  MH17 Ukraine plane crash: 'Key witness' releas...  \n",
       "3     rss_feed  Article 70: The weddings 'ruined' by Kashmir's...  \n",
       "4     rss_feed  Syria war: Turkey warns Europe of new migrant ...  "
      ]
     },
     "execution_count": 2,
     "metadata": {},
     "output_type": "execute_result"
    }
   ],
   "source": [
    "# Should be same path for all my PC's, it's where each scrape goes as a separate json file.\n",
    "storage_path = \"D:/Dropbox/news_crow/scrape_results\"\n",
    "\n",
    "# \"bing\" is targeted news search corpus, \"RSS\" is from specific world and local news feeds.\n",
    "corpus_type = \"RSS\"\n",
    "\n",
    "# There's a helper function to go find and drag out the various JSON files created by the scrapers.\n",
    "corpus = helper.load_clean_world_corpus(storage_path, corpus_type)\n",
    "\n",
    "# Make sure after cleaning etc it's indexed from 0\n",
    "corpus.reset_index(inplace=True)\n",
    "corpus.index.name = \"node\"\n",
    "\n",
    "# See how it turned out\n",
    "print(corpus.shape)\n",
    "corpus.head()"
   ]
  },
  {
   "cell_type": "raw",
   "metadata": {},
   "source": [
    "corpus=corpus.sample(n=30000, replace=False)\n",
    "corpus.shape"
   ]
  },
  {
   "cell_type": "markdown",
   "metadata": {},
   "source": [
    "## 2. Use Detected Nouns to create a Graph Representation"
   ]
  },
  {
   "cell_type": "code",
   "execution_count": 3,
   "metadata": {
    "scrolled": true
   },
   "outputs": [
    {
     "ename": "KeyboardInterrupt",
     "evalue": "",
     "output_type": "error",
     "traceback": [
      "\u001b[1;31m---------------------------------------------------------------------------\u001b[0m",
      "\u001b[1;31mKeyboardInterrupt\u001b[0m                         Traceback (most recent call last)",
      "\u001b[1;32m<ipython-input-3-1826118ff264>\u001b[0m in \u001b[0;36m<module>\u001b[1;34m\u001b[0m\n\u001b[0;32m      1\u001b[0m \u001b[1;31m# Generate the text representation\u001b[0m\u001b[1;33m\u001b[0m\u001b[1;33m\u001b[0m\u001b[1;33m\u001b[0m\u001b[0m\n\u001b[1;32m----> 2\u001b[1;33m \u001b[0mmodel\u001b[0m \u001b[1;33m=\u001b[0m \u001b[0mreps\u001b[0m\u001b[1;33m.\u001b[0m\u001b[0mNounAdjacencyModel\u001b[0m\u001b[1;33m(\u001b[0m\u001b[0mlist\u001b[0m\u001b[1;33m(\u001b[0m\u001b[0mcorpus\u001b[0m\u001b[1;33m[\u001b[0m\u001b[1;34m'clean_text'\u001b[0m\u001b[1;33m]\u001b[0m\u001b[1;33m)\u001b[0m\u001b[1;33m,\u001b[0m \u001b[0mlist\u001b[0m\u001b[1;33m(\u001b[0m\u001b[0mcorpus\u001b[0m\u001b[1;33m[\u001b[0m\u001b[1;34m'clean_text'\u001b[0m\u001b[1;33m]\u001b[0m\u001b[1;33m)\u001b[0m\u001b[1;33m)\u001b[0m\u001b[1;33m\u001b[0m\u001b[1;33m\u001b[0m\u001b[0m\n\u001b[0m\u001b[0;32m      3\u001b[0m \u001b[1;33m\u001b[0m\u001b[0m\n\u001b[0;32m      4\u001b[0m \u001b[1;31m# Tabulate for convenience\u001b[0m\u001b[1;33m\u001b[0m\u001b[1;33m\u001b[0m\u001b[1;33m\u001b[0m\u001b[0m\n\u001b[0;32m      5\u001b[0m \u001b[0mnouns_df\u001b[0m \u001b[1;33m=\u001b[0m \u001b[0mmodel\u001b[0m\u001b[1;33m.\u001b[0m\u001b[0mtable\u001b[0m\u001b[1;33m.\u001b[0m\u001b[0mcopy\u001b[0m\u001b[1;33m(\u001b[0m\u001b[1;33m)\u001b[0m\u001b[1;33m\u001b[0m\u001b[1;33m\u001b[0m\u001b[0m\n",
      "\u001b[1;32mD:\\Martin\\Documents\\GitHub\\news_crow\\lib\\embedding_models.py\u001b[0m in \u001b[0;36m__init__\u001b[1;34m(self, sentences, labels)\u001b[0m\n\u001b[0;32m    238\u001b[0m         \u001b[0mself\u001b[0m\u001b[1;33m.\u001b[0m\u001b[0mall_nouns\u001b[0m \u001b[1;33m=\u001b[0m \u001b[0mself\u001b[0m\u001b[1;33m.\u001b[0m\u001b[0mget_all_nouns\u001b[0m\u001b[1;33m(\u001b[0m\u001b[1;33m)\u001b[0m\u001b[1;33m\u001b[0m\u001b[1;33m\u001b[0m\u001b[0m\n\u001b[0;32m    239\u001b[0m \u001b[1;33m\u001b[0m\u001b[0m\n\u001b[1;32m--> 240\u001b[1;33m         \u001b[0mself\u001b[0m\u001b[1;33m.\u001b[0m\u001b[0mentities\u001b[0m \u001b[1;33m=\u001b[0m \u001b[0mself\u001b[0m\u001b[1;33m.\u001b[0m\u001b[0mget_entities\u001b[0m\u001b[1;33m(\u001b[0m\u001b[0mself\u001b[0m\u001b[1;33m.\u001b[0m\u001b[0mnoun_sets\u001b[0m\u001b[1;33m)\u001b[0m\u001b[1;33m\u001b[0m\u001b[1;33m\u001b[0m\u001b[0m\n\u001b[0m\u001b[0;32m    241\u001b[0m \u001b[1;33m\u001b[0m\u001b[0m\n\u001b[0;32m    242\u001b[0m         \u001b[0mself\u001b[0m\u001b[1;33m.\u001b[0m\u001b[0mtable\u001b[0m \u001b[1;33m=\u001b[0m \u001b[0mpd\u001b[0m\u001b[1;33m.\u001b[0m\u001b[0mDataFrame\u001b[0m\u001b[1;33m(\u001b[0m\u001b[0mdata\u001b[0m\u001b[1;33m=\u001b[0m\u001b[0mself\u001b[0m\u001b[1;33m.\u001b[0m\u001b[0mentities\u001b[0m\u001b[1;33m,\u001b[0m \u001b[0mindex\u001b[0m\u001b[1;33m=\u001b[0m\u001b[0mself\u001b[0m\u001b[1;33m.\u001b[0m\u001b[0msentences\u001b[0m\u001b[1;33m,\u001b[0m \u001b[0mcolumns\u001b[0m\u001b[1;33m=\u001b[0m\u001b[0mself\u001b[0m\u001b[1;33m.\u001b[0m\u001b[0mall_nouns\u001b[0m\u001b[1;33m)\u001b[0m\u001b[1;33m\u001b[0m\u001b[1;33m\u001b[0m\u001b[0m\n",
      "\u001b[1;32mD:\\Martin\\Documents\\GitHub\\news_crow\\lib\\embedding_models.py\u001b[0m in \u001b[0;36mget_entities\u001b[1;34m(self, noun_sets)\u001b[0m\n\u001b[0;32m    303\u001b[0m         \u001b[0mresults\u001b[0m \u001b[1;33m=\u001b[0m \u001b[1;33m[\u001b[0m\u001b[1;33m]\u001b[0m\u001b[1;33m\u001b[0m\u001b[1;33m\u001b[0m\u001b[0m\n\u001b[0;32m    304\u001b[0m         \u001b[1;32mfor\u001b[0m \u001b[0mdoc\u001b[0m \u001b[1;32min\u001b[0m \u001b[0mnoun_sets\u001b[0m\u001b[1;33m:\u001b[0m\u001b[1;33m\u001b[0m\u001b[1;33m\u001b[0m\u001b[0m\n\u001b[1;32m--> 305\u001b[1;33m             \u001b[0mresults\u001b[0m\u001b[1;33m.\u001b[0m\u001b[0mappend\u001b[0m\u001b[1;33m(\u001b[0m \u001b[0mnp\u001b[0m\u001b[1;33m.\u001b[0m\u001b[0masarray\u001b[0m\u001b[1;33m(\u001b[0m\u001b[1;33m[\u001b[0m\u001b[0mint\u001b[0m\u001b[1;33m(\u001b[0m\u001b[0mx\u001b[0m \u001b[1;32min\u001b[0m \u001b[0mdoc\u001b[0m\u001b[1;33m)\u001b[0m \u001b[1;32mfor\u001b[0m \u001b[0mx\u001b[0m \u001b[1;32min\u001b[0m \u001b[0mself\u001b[0m\u001b[1;33m.\u001b[0m\u001b[0mall_nouns\u001b[0m\u001b[1;33m]\u001b[0m\u001b[1;33m)\u001b[0m \u001b[1;33m)\u001b[0m\u001b[1;33m\u001b[0m\u001b[1;33m\u001b[0m\u001b[0m\n\u001b[0m\u001b[0;32m    306\u001b[0m \u001b[1;33m\u001b[0m\u001b[0m\n\u001b[0;32m    307\u001b[0m         \u001b[1;32mreturn\u001b[0m \u001b[0mnp\u001b[0m\u001b[1;33m.\u001b[0m\u001b[0masarray\u001b[0m\u001b[1;33m(\u001b[0m\u001b[0mresults\u001b[0m\u001b[1;33m)\u001b[0m\u001b[1;33m\u001b[0m\u001b[1;33m\u001b[0m\u001b[0m\n",
      "\u001b[1;32mD:\\Martin\\Documents\\GitHub\\news_crow\\lib\\embedding_models.py\u001b[0m in \u001b[0;36m<listcomp>\u001b[1;34m(.0)\u001b[0m\n\u001b[0;32m    303\u001b[0m         \u001b[0mresults\u001b[0m \u001b[1;33m=\u001b[0m \u001b[1;33m[\u001b[0m\u001b[1;33m]\u001b[0m\u001b[1;33m\u001b[0m\u001b[1;33m\u001b[0m\u001b[0m\n\u001b[0;32m    304\u001b[0m         \u001b[1;32mfor\u001b[0m \u001b[0mdoc\u001b[0m \u001b[1;32min\u001b[0m \u001b[0mnoun_sets\u001b[0m\u001b[1;33m:\u001b[0m\u001b[1;33m\u001b[0m\u001b[1;33m\u001b[0m\u001b[0m\n\u001b[1;32m--> 305\u001b[1;33m             \u001b[0mresults\u001b[0m\u001b[1;33m.\u001b[0m\u001b[0mappend\u001b[0m\u001b[1;33m(\u001b[0m \u001b[0mnp\u001b[0m\u001b[1;33m.\u001b[0m\u001b[0masarray\u001b[0m\u001b[1;33m(\u001b[0m\u001b[1;33m[\u001b[0m\u001b[0mint\u001b[0m\u001b[1;33m(\u001b[0m\u001b[0mx\u001b[0m \u001b[1;32min\u001b[0m \u001b[0mdoc\u001b[0m\u001b[1;33m)\u001b[0m \u001b[1;32mfor\u001b[0m \u001b[0mx\u001b[0m \u001b[1;32min\u001b[0m \u001b[0mself\u001b[0m\u001b[1;33m.\u001b[0m\u001b[0mall_nouns\u001b[0m\u001b[1;33m]\u001b[0m\u001b[1;33m)\u001b[0m \u001b[1;33m)\u001b[0m\u001b[1;33m\u001b[0m\u001b[1;33m\u001b[0m\u001b[0m\n\u001b[0m\u001b[0;32m    306\u001b[0m \u001b[1;33m\u001b[0m\u001b[0m\n\u001b[0;32m    307\u001b[0m         \u001b[1;32mreturn\u001b[0m \u001b[0mnp\u001b[0m\u001b[1;33m.\u001b[0m\u001b[0masarray\u001b[0m\u001b[1;33m(\u001b[0m\u001b[0mresults\u001b[0m\u001b[1;33m)\u001b[0m\u001b[1;33m\u001b[0m\u001b[1;33m\u001b[0m\u001b[0m\n",
      "\u001b[1;31mKeyboardInterrupt\u001b[0m: "
     ]
    }
   ],
   "source": [
    "# Generate the text representation\n",
    "model = reps.NounAdjacencyModel(list(corpus['clean_text']), list(corpus['clean_text']))\n",
    "\n",
    "# Tabulate for convenience\n",
    "nouns_df = model.table.copy()\n",
    "nouns_df.head()"
   ]
  },
  {
   "cell_type": "markdown",
   "metadata": {},
   "source": [
    "#### Drop any noun/noun phrase containing one of the search terms, then create an adjacency matrix\n",
    "\n",
    "#### Drop any noun/phrase occuring too infrequently"
   ]
  },
  {
   "cell_type": "code",
   "execution_count": null,
   "metadata": {},
   "outputs": [],
   "source": [
    "# Retrive the set of search terms used for Bing, so we can remove them before\n",
    "# clustering.\n",
    "with open(\"D:/Dropbox/news_crow/scrape_settings.json\", \"r\") as f:\n",
    "    scrape_config = json.load(f)\n",
    "\n",
    "search_terms = scrape_config['disaster_search_list']\n",
    "search_terms = re.sub(r\"[^0-9A-Za-z ]\", \"\", \" \".join(search_terms)).lower().split()\n",
    "search_terms = set(search_terms)"
   ]
  },
  {
   "cell_type": "code",
   "execution_count": null,
   "metadata": {},
   "outputs": [],
   "source": [
    "# Get X most common nouns\n",
    "nouns_to_keep = list(nouns_df.\\\n",
    "                    sum(axis=0).\\\n",
    "                    sort_values(ascending=False).\\\n",
    "                    index)\n",
    "\n",
    "# Cut out any nouns containing the original search terms\n",
    "#nouns_to_keep = [noun for noun in nouns_to_keep if sum([term in noun for term in search_terms]) == 0]\n",
    "\n",
    "# Keep only most common\n",
    "nouns_to_keep = nouns_to_keep[:10000]\n",
    "\n",
    "# Subset nouns dataframe\n",
    "nouns_df = nouns_df[nouns_to_keep]\n",
    "\n",
    "print(nouns_df.shape)"
   ]
  },
  {
   "cell_type": "code",
   "execution_count": 6,
   "metadata": {},
   "outputs": [
    {
     "name": "stdout",
     "output_type": "stream",
     "text": [
      "20\n"
     ]
    }
   ],
   "source": [
    "embeddings = np.asarray(nouns_df)\n",
    "adjacency = np.dot(embeddings, embeddings.T)\n",
    "print(np.max(adjacency))"
   ]
  },
  {
   "cell_type": "code",
   "execution_count": 7,
   "metadata": {},
   "outputs": [],
   "source": [
    "# If the \"lower\" limit is 1, the graph has so many edges it eats ALL the memory of my desktop, even\n",
    "# with just 500-ish stories to process.\n",
    "upper = 100\n",
    "lower = 3\n",
    "G = nx.Graph()\n",
    "rows, cols = np.where((upper >= adjacency) & (adjacency >= lower))\n",
    "weights = [float(adjacency[rows[i], cols[i]]) for i in range(len(rows))]\n",
    "edges = zip(rows.tolist(), cols.tolist(), weights)\n",
    "G.add_weighted_edges_from(edges)\n",
    "\n",
    "# Simplify; remove self-edges - not sure if needed?\n",
    "G.remove_edges_from(nx.selfloop_edges(G))\n",
    "\n",
    "G.number_of_edges()"
   ]
  },
  {
   "cell_type": "code",
   "execution_count": 30,
   "metadata": {},
   "outputs": [],
   "source": [
    "nx.write_gml(G, \"working/RSS_graph_3lim.gml\")"
   ]
  },
  {
   "cell_type": "markdown",
   "metadata": {},
   "source": [
    "12596 to beat"
   ]
  },
  {
   "cell_type": "markdown",
   "metadata": {},
   "source": [
    "## 3c.  Try CDLIB"
   ]
  },
  {
   "cell_type": "code",
   "execution_count": 61,
   "metadata": {},
   "outputs": [],
   "source": [
    "import cdlib\n",
    "from cdlib import algorithms\n",
    "from cdlib import evaluation"
   ]
  },
  {
   "cell_type": "code",
   "execution_count": 59,
   "metadata": {},
   "outputs": [],
   "source": [
    "def assign_cluster_from_model(corpus, model, threshold=5):\n",
    "    \"\"\" Mine the cluster-of-node info from the model instance \"\"\"\n",
    "    community_lookup = {}\n",
    "    for comm_index, members in enumerate(model.communities):\n",
    "        for member in members:\n",
    "            community_lookup[member] = comm_index\n",
    "            \n",
    "    # Add cluster to DF.  If node not in cluster, assign -1 (outlier)\n",
    "    corpus['node'] = corpus.index\n",
    "    corpus['cluster'] = corpus['node'].apply(lambda x: community_lookup.get(str(x), -1))\n",
    "    corpus[['clean_text', 'cluster']].head(10)\n",
    "    \n",
    "    # If cluster is smaller than minimum limit, designate as outlier\n",
    "    cs_lookup = corpus['cluster'].value_counts().to_dict()\n",
    "    corpus['cluster'] = corpus['cluster'].apply(lambda x: -1 if (cs_lookup[x] < threshold) else x)\n",
    "    \n",
    "    return corpus\n",
    "\n",
    "def generate_louvain(G, corpus, resolution=1.0, threshold=5):\n",
    "    \"\"\" Develop a louvain model, assign clusters etc \"\"\"\n",
    "    print(\"\\nLouvain resolution: \", resolution)\n",
    "    \n",
    "    # Find the communities\n",
    "    louvain_coms = algorithms.louvain(G, resolution = resolution)\n",
    "    \n",
    "    corpus = assign_cluster_from_model(corpus, louvain_coms)\n",
    "    \n",
    "    # What percentage are now classed as outliers?\n",
    "    print(\"Percent classed outlier: \", 100.0 * sum(corpus['cluster']==-1) / corpus.shape[0])\n",
    "    \n",
    "    # How many unique clusters after all this?  (minus one for outliers)\n",
    "    print(\"Number of unique clusters: \", len(pd.unique(corpus['cluster'])))\n",
    "    \n",
    "    return corpus"
   ]
  },
  {
   "cell_type": "code",
   "execution_count": 65,
   "metadata": {
    "scrolled": false
   },
   "outputs": [
    {
     "name": "stdout",
     "output_type": "stream",
     "text": [
      "\n",
      "Louvain resolution:  0.1\n",
      "Percent classed outlier:  80.51157901442997\n",
      "Number of unique clusters:  307\n",
      "\n",
      "Louvain resolution:  0.2\n",
      "Percent classed outlier:  80.51476443793203\n",
      "Number of unique clusters:  264\n",
      "\n",
      "Louvain resolution:  0.4\n",
      "Percent classed outlier:  80.50520816742586\n",
      "Number of unique clusters:  235\n",
      "\n",
      "Louvain resolution:  0.6\n",
      "Percent classed outlier:  80.49246647341764\n",
      "Number of unique clusters:  222\n",
      "\n",
      "Louvain resolution:  0.8\n",
      "Percent classed outlier:  80.48291020291148\n",
      "Number of unique clusters:  212\n",
      "\n",
      "Louvain resolution:  1.0\n",
      "Percent classed outlier:  80.47016850890326\n",
      "Number of unique clusters:  208\n",
      "\n",
      "Louvain resolution:  2.0\n",
      "Percent classed outlier:  80.47016850890326\n",
      "Number of unique clusters:  196\n",
      "\n",
      "Louvain resolution:  3.0\n",
      "Percent classed outlier:  80.62306883700188\n",
      "Number of unique clusters:  291\n",
      "\n",
      "Louvain resolution:  5.0\n",
      "Percent classed outlier:  80.62306883700188\n",
      "Number of unique clusters:  292\n",
      "\n",
      "Louvain resolution:  7.0\n",
      "Percent classed outlier:  80.6358105310101\n",
      "Number of unique clusters:  288\n",
      "\n",
      "Louvain resolution:  10.0\n",
      "Percent classed outlier:  80.62306883700188\n",
      "Number of unique clusters:  290\n"
     ]
    }
   ],
   "source": [
    "G = nx.read_gml(\"working/RSS_graph_3lim.gml\")\n",
    "#G = nx.read_gml(\"working/RSS_graph_2lim_permissive.gml\")\n",
    "\n",
    "for res in [0.1, 0.2, 0.4, 0.6, 0.8, 1.0, 2.0, 3.0, 5.0, 7.0, 10.0]:\n",
    "    generate_louvain(G, corpus, resolution=res)"
   ]
  },
  {
   "cell_type": "code",
   "execution_count": 66,
   "metadata": {},
   "outputs": [
    {
     "name": "stdout",
     "output_type": "stream",
     "text": [
      "\n",
      "Louvain resolution:  2.0\n",
      "Percent classed outlier:  80.47016850890326\n",
      "Number of unique clusters:  196\n",
      "c_v: 0.6857\n",
      "c_npmi: 0.1325\n",
      "Average document word count: 39.30287006657535\n",
      "Number of documents: 31393\n",
      "Latest record: Wed, 9 Oct 2019 21:52:38 +0000\n",
      "Earliest record: Fri, 01 May 2020 00:18:25 GMT\n",
      "Number of clusters: 196\n",
      "Median cluster size: 7.0\n",
      "Clustered docs: 19.5%\n",
      "\n",
      "Best Performant (C_v)!\n",
      "1135    Robert Mugabe dead: Final photos show frail di...\n",
      "1138    Robert Mugabe dead – Brutal Zimbabwe president...\n",
      "1147    Who was Robert Mugabe? Former president of Zim...\n",
      "1188    Vladimir Putin's fawning statement after bruta...\n",
      "Name: clean_text, dtype: object\n",
      "4127    Ayia Napa ‘rape lie’ Brit, 1, suffering with P...\n",
      "4210    Gang of 11 Israeli men overheard planning ‘org...\n",
      "6291    Brit’s statement retracting Ayia Napa rape cla...\n",
      "7747    Ayia Napa rape lie Brit ‘suffered hallucinatio...\n",
      "Name: clean_text, dtype: object\n",
      "12796    Australia fires map: Where are the fires in Au...\n",
      "12953    How did the Australia fires start? Causes of t...\n",
      "12957    Australia fires map: Where are the fires in Au...\n",
      "13044    How did the Australia fires start? Causes of t...\n",
      "Name: clean_text, dtype: object\n",
      "16190    Korean mass wedding goes ahead despite coronav...\n",
      "17183    Coronavirus: Half of South Korea’s 4 cases are...\n",
      "17447    Coronavirus: Inside 'doomsday church cult' at ...\n",
      "18169    Coronavirus: South Korea's Shincheonji Church ...\n",
      "Name: clean_text, dtype: object\n",
      "\n",
      "Worst Performant (C_v)!\n",
      "12408    Japan issues arrest warrant for Carlos Ghosn's...\n",
      "12459    Carlos Ghosn: Japan issues arrest warrant for ...\n",
      "12583    Carlos Ghosn: Ex-Nissan boss apos;walked out o...\n",
      "12597    Ex-Nissan boss Carlos Ghosn may not be safe in...\n",
      "Name: clean_text, dtype: object\n",
      "34       Italy successfully ejects far-right leader Sal...\n",
      "864      How Matteo Salvini is manufacturing a politica...\n",
      "10294    Italy's Sardines push back against Salvini's n...\n",
      "15015    Italy's far-right Salvini fails to gain footho...\n",
      "Name: clean_text, dtype: object\n",
      "282     Kashmir: Indiaapos;s top court is asked to rev...\n",
      "768     Kashmir latest: Supplies run low as blockade g...\n",
      "895     Kashmir crisis: Modi claims changes to region ...\n",
      "1264    India PM Modi consoles scientists after Moon s...\n",
      "Name: clean_text, dtype: object\n",
      "27175    Pakistan plane crash: Khan calls for an invest...\n",
      "27346    Shocking footage shows Pakistan plane falling ...\n",
      "27350    Harrowing footage shows mums searching for the...\n",
      "27352    'Final tragic moments' of 'doomed jet descendi...\n",
      "Name: clean_text, dtype: object\n",
      "\n",
      "Most Populated!\n",
      "20897    Prisons in England and Wales Closed to Visitor...\n",
      "20975    Coronavirus: British diplomat, 7, dies after c...\n",
      "21021    Deputy British ambassador to Hungary, 7, dies ...\n",
      "21033    Top British diplomat, 7, dies of coronavirus i...\n",
      "Name: clean_text, dtype: object\n",
      "13786    When is Chinese New Year 2020 and what is the ...\n",
      "14742    Lunar New Year 2020: Five things you may not k...\n",
      "14782    Chinese New Year: Why is 2020 the Year of the ...\n",
      "14786    Chinese New Year 2020: 16 superstitions you mu...\n",
      "Name: clean_text, dtype: object\n",
      "7490    Mum jailed in Costa del Sol for producing and ...\n",
      "9406    Brit shot dead 'in his car' on Costa del Sol a...\n",
      "9440    British man, , shot dead in Audi in Costa Del ...\n",
      "9569    British businessman, , dies after being shot i...\n",
      "Name: clean_text, dtype: object\n",
      "4661     A U.S. diplomat’s wife killed a British teen i...\n",
      "7337     White House and U.S. official's wife sued over...\n",
      "27725    The Cummings scandal shows the gap between the...\n",
      "27768    The Cummings scandal shows the gap between the...\n",
      "Name: clean_text, dtype: object\n"
     ]
    },
    {
     "data": {
      "image/png": "[encoded data removed]",
      "text/plain": [
       "<Figure size 1080x360 with 3 Axes>"
      ]
     },
     "metadata": {
      "needs_background": "light"
     },
     "output_type": "display_data"
    }
   ],
   "source": [
    "G = nx.read_gml(\"working/RSS_graph_3lim.gml\")\n",
    "corpus = generate_louvain(G, corpus, resolution=2.0)\n",
    "corpus.to_csv(\"working/RSS_clustered_louvain.csv\")\n",
    "coherences = helper.report_corpus_model_coherence(\"working/RSS_clustered_louvain.csv\")"
   ]
  },
  {
   "cell_type": "code",
   "execution_count": 67,
   "metadata": {},
   "outputs": [
    {
     "name": "stdout",
     "output_type": "stream",
     "text": [
      "\n",
      "Louvain resolution:  2.0\n",
      "Percent classed outlier:  46.07396553371771\n",
      "Number of unique clusters:  143\n",
      "c_v: 0.6316\n",
      "c_npmi: 0.0958\n",
      "Average document word count: 39.30287006657535\n",
      "Number of documents: 31393\n",
      "Latest record: Wed, 9 Oct 2019 21:52:38 +0000\n",
      "Earliest record: Fri, 01 May 2020 00:18:25 GMT\n",
      "Number of clusters: 143\n",
      "Median cluster size: 14.0\n",
      "Clustered docs: 53.9%\n",
      "\n",
      "Best Performant (C_v)!\n",
      "4381     Gandhi’s ashes stolen on his 150th birthday by...\n",
      "27258    Cyclone Amphan: apos;Most-powerfulapos; storm ...\n",
      "27891    India policeman's TikTok video helps family fi...\n",
      "30866    TikTok star Siya Kakkar suicide at 16 as socia...\n",
      "Name: clean_text, dtype: object\n",
      "922     apos;Be waterapos;: Hong Kong protesters adopt...\n",
      "1031    Mum gives birth to healthy baby girl while in ...\n",
      "3276    Kirsty Maxwell: Five Brits probed over Benidor...\n",
      "3291    Kirsty Maxwell suspects CLEARED as judge says ...\n",
      "Name: clean_text, dtype: object\n",
      "12    In pictures: How Dorian devastated the Bahamas...\n",
      "39    Hurricane Dorian: Millions ordered to evacuate...\n",
      "48    Orphaned in Syriaapos;s civil war, how a refug...\n",
      "57    Hurricane Dorian: Democratic presidential cand...\n",
      "Name: clean_text, dtype: object\n",
      "5808     Letter from Africa: How this teenager risked a...\n",
      "10145    Lisa Smith: Isis recruit and former member of ...\n",
      "10174    Lisa Smith: Isis recruit and former member of ...\n",
      "26217    Africa's Sahel becomes latest al-Qaeda-IS batt...\n",
      "Name: clean_text, dtype: object\n",
      "\n",
      "Worst Performant (C_v)!\n",
      "614     White nationalist arrested over apos;threat to...\n",
      "812     Metal shards from Boeing 787 taking off over R...\n",
      "1015    Mac Miller death – ‘Drug dealer’ Cameron James...\n",
      "1028    Mac Miller death: Man, 28, arrested for ‘selli...\n",
      "Name: clean_text, dtype: object\n",
      "4     Syria war: Turkey warns Europe of new migrant ...\n",
      "29    Trump news: President lashes out amid widespre...\n",
      "36    Sarah Sanders to write book about her stint as...\n",
      "44    Trump launches angry attack on Will and Grace ...\n",
      "Name: clean_text, dtype: object\n",
      "8581     Jimmy Carter in hospital for brain procedure. ...\n",
      "29576    Atlanta police chief resigns over Rayshard Bro...\n",
      "29626    Atlanta police shooting: Rayshard Brooks death...\n",
      "29640    Rayshard Brooks: Atlanta Wendy's restaurant se...\n",
      "Name: clean_text, dtype: object\n",
      "985     Mum left needing plastic surgery after being m...\n",
      "1427    Mum dumps her newborn in plastic bag behind su...\n",
      "1579    Mum ‘drowns baby and son, 5, by tying them to ...\n",
      "5624    Mum, 27, found dead in sewer after 'arranging ...\n",
      "Name: clean_text, dtype: object\n",
      "\n",
      "Most Populated!\n",
      "3885     Inside radioactive ruins of Chernobyl’s nuclea...\n",
      "6228     Former radiation researcher sacrifices career ...\n",
      "6724     Tourist visiting Chernobyl finds bag containin...\n",
      "13422    Oksana Masters: Paralympic champion on Chernob...\n",
      "Name: clean_text, dtype: object\n",
      "43     Kabul attack: Taliban suicide bomb targets for...\n",
      "109    Kabul explosion: At least 16 dead in Taliban a...\n",
      "202    Taliban take patients hostage at hospital duri...\n",
      "613    Kabul wedding attack: Suicide bombing highligh...\n",
      "Name: clean_text, dtype: object\n",
      "2353     Russian research lab containing smallpox, Ebol...\n",
      "2357     Gas explosion tears through Russian bio-weapon...\n",
      "2421     Experiment to genetically modify mosquitoes to...\n",
      "21763    Barack Obama urges climate action in veiled at...\n",
      "Name: clean_text, dtype: object\n",
      "14383    Teen impaled by needlefish after it jumped int...\n",
      "25014    Moment missing fisherman’s head and limbs cut ...\n",
      "25111    Moment missing fisherman’s head and limbs cut ...\n",
      "26416    Moment corpse appears to WAVE through coffin’s...\n",
      "Name: clean_text, dtype: object\n"
     ]
    },
    {
     "data": {
      "image/png": "[encoded data removed]",
      "text/plain": [
       "<Figure size 1080x360 with 3 Axes>"
      ]
     },
     "metadata": {
      "needs_background": "light"
     },
     "output_type": "display_data"
    }
   ],
   "source": [
    "G = nx.read_gml(\"working/RSS_graph_2lim_permissive.gml\")\n",
    "corpus = generate_louvain(G, corpus, resolution=2.0)\n",
    "corpus.to_csv(\"working/RSS_clustered_louvain_permissive.csv\")\n",
    "coherences = helper.report_corpus_model_coherence(\"working/RSS_clustered_louvain_permissive.csv\")"
   ]
  },
  {
   "cell_type": "raw",
   "metadata": {},
   "source": [
    "bigclam_coms.communities"
   ]
  },
  {
   "cell_type": "raw",
   "metadata": {},
   "source": [
    "bigclam_coms.average_internal_degree()"
   ]
  },
  {
   "cell_type": "raw",
   "metadata": {},
   "source": [
    "bigclam_coms.newman_girvan_modularity()"
   ]
  },
  {
   "cell_type": "raw",
   "metadata": {},
   "source": [
    "## 3.  Create (overlapping) clusters using Maximal Cliques\n",
    "Idea from the docs, explanation at https://en.wikipedia.org/wiki/Clique_(graph_theory)\n",
    "Expanded using k-clique-communities REF FIND PAPER"
   ]
  },
  {
   "cell_type": "raw",
   "metadata": {},
   "source": [
    "c = list(nx.algorithms.community.kclique.k_clique_communities(G, 4))\n",
    "cliques = [(len(x), x) for x in c]"
   ]
  },
  {
   "cell_type": "raw",
   "metadata": {},
   "source": [
    "cliques"
   ]
  },
  {
   "cell_type": "raw",
   "metadata": {},
   "source": [
    "cliques_df = pd.DataFrame({\"nodes_list\": [x[1] for x in cliques],\n",
    "                           \"clique_size\": [x[0] for x in cliques]}).\\\n",
    "                    sort_values(\"clique_size\", ascending=False).\\\n",
    "                    reset_index()\n",
    "\n",
    "cliques_df = cliques_df[(cliques_df['clique_size'] >= 3) & (cliques_df['clique_size'] <=100)]"
   ]
  },
  {
   "cell_type": "raw",
   "metadata": {
    "scrolled": true
   },
   "source": [
    "cliques_df"
   ]
  },
  {
   "cell_type": "raw",
   "metadata": {},
   "source": [
    "cliqued = set(flatten(list(cliques_df['nodes_list'])))\n",
    "len(cliqued)"
   ]
  },
  {
   "cell_type": "raw",
   "metadata": {},
   "source": [
    "# Flatten the cliques DF into long format\n",
    "flattened = {\"cluster_index\":[], \"node\":[]}\n",
    "\n",
    "for index, row in cliques_df.iterrows():\n",
    "    for node in row[\"nodes_list\"]:\n",
    "        flattened[\"cluster_index\"].append(index)\n",
    "        flattened[\"node\"].append(node)\n",
    "        \n",
    "\n",
    "partition_df = pd.DataFrame(flattened)\n",
    "\n",
    "# Create a single string variable (\";\" separated) to record all clusters/cliques a single record belongs in\n",
    "partition_df[\"cluster\"] = partition_df.\\\n",
    "                          groupby(\"node\")[\"cluster_index\"].\\\n",
    "                          transform(lambda x: \";\".join([str(i) for i in x if type(i)==int]))\n",
    "\n",
    "# Clean up, set index of this and corpus so the two DF's can be joined with little effort\n",
    "partition_df = partition_df[[\"node\", \"cluster\"]].\\\n",
    "               drop_duplicates([\"node\", \"cluster\"], keep=\"first\").\\\n",
    "               set_index(\"node\")\n",
    "\n",
    "corpus.drop([\"cluster\", \"node\"], axis=1).join(partition_df).\\\n",
    "       to_csv(\"working/RSS_clustered_cliques.csv\")"
   ]
  },
  {
   "cell_type": "raw",
   "metadata": {},
   "source": [
    "### The below attempts overlapping community detection but can only run on connected graphs, think this is an implicit restriction of the algorithm logic."
   ]
  },
  {
   "cell_type": "raw",
   "metadata": {},
   "source": [
    "# Get all connected components (will become less of an issue as graph size increases)\n",
    "ccs = [(len(x), x) for x in nx.connected_components(G)]\n",
    "\n",
    "# Sort by size (largest first)\n",
    "ccs.sort(key = lambda x: x[0], reverse=True)\n",
    "\n",
    "# Extract largest connected sub-graph\n",
    "connected_sub = G.subgraph(ccs[0][1])\n",
    "\n",
    "# re-index nodes from zero to maintain compatibility with CDLIB (sub-dependency, Karate)\n",
    "# Will need to reverse this indexing when matching assigned clusters back to data\n",
    "node_relabel_dict = {val: i for i, val in enumerate(list(connected_sub.nodes))}\n",
    "\n",
    "connected_sub = nx.relabel_nodes(connected_sub, node_relabel_dict)\n",
    "\n",
    "# Fire algo!\n",
    "bigclam_coms = algorithms.big_clam(connected_sub)\n",
    "#leiden_coms = algorithms.leiden(connected_sub)"
   ]
  },
  {
   "cell_type": "raw",
   "metadata": {},
   "source": [
    "bigclam_coms.communities"
   ]
  },
  {
   "cell_type": "raw",
   "metadata": {},
   "source": [
    "# Build dict of node-to-cluster lookup\n",
    "community_lookup = {}\n",
    "for comm_index, members in enumerate(bigclam_coms.communities):\n",
    "    for member in members:\n",
    "        community_lookup[member] = community_lookup.get(member, []) + [comm_index]\n",
    "\n",
    "# Add cluster to DF.  If node not in cluster, assign -1 (outlier)\n",
    "corpus['node'] = corpus.index\n",
    "corpus['cluster'] = corpus['node'].apply(lambda x: community_lookup.get(x, [-1]))\n",
    "corpus[['clean_text', 'cluster']].head(10)\n",
    "\n",
    "# If cluster is smaller than minimum limit, designate as outlier\n",
    "cs_lookup = corpus['cluster'].value_counts().to_dict()\n",
    "corpus['cluster'] = corpus['cluster'].apply(lambda x: -1 if (cs_lookup[x] < 5) else x)"
   ]
  },
  {
   "cell_type": "raw",
   "metadata": {},
   "source": [
    "# What percentage are now classed as outliers?\n",
    "100.0 * sum(corpus['cluster']==-1) / corpus.shape[0]"
   ]
  },
  {
   "cell_type": "raw",
   "metadata": {},
   "source": [
    "# How many unique clusters after all this?  (minus one for outliers)\n",
    "len(pd.unique(corpus['cluster']))"
   ]
  },
  {
   "cell_type": "raw",
   "metadata": {},
   "source": [
    "corpus.to_csv(\"working/disaster_clustered_bigclam.csv\")"
   ]
  }
 ],
 "metadata": {
  "kernelspec": {
   "display_name": "Python 3",
   "language": "python",
   "name": "python3"
  },
  "language_info": {
   "codemirror_mode": {
    "name": "ipython",
    "version": 3
   },
   "file_extension": ".py",
   "mimetype": "text/x-python",
   "name": "python",
   "nbconvert_exporter": "python",
   "pygments_lexer": "ipython3",
   "version": "3.7.6"
  }
 },
 "nbformat": 4,
 "nbformat_minor": 2
}
