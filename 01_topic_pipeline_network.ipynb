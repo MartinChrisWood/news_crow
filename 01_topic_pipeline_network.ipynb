{
 "cells": [
  {
   "cell_type": "markdown",
   "metadata": {},
   "source": [
    "# Experimenting with Cleaning, Clustering & Summarization Pipelines\n",
    "\n",
    "### To do (technical)\n",
    "- Implement date windows on my corpus loader function"
   ]
  },
  {
   "cell_type": "code",
   "execution_count": 1,
   "metadata": {},
   "outputs": [],
   "source": [
    "import os\n",
    "import re\n",
    "import json\n",
    "\n",
    "import numpy as np\n",
    "import pandas as pd\n",
    "import networkx as nx\n",
    "\n",
    "from sklearn.decomposition import PCA\n",
    "import matplotlib.pyplot as plt\n",
    "\n",
    "import lib.helper as helper\n",
    "import lib.embedding_models as reps\n",
    "\n",
    "from importlib import reload\n",
    "\n",
    "%matplotlib inline"
   ]
  },
  {
   "cell_type": "code",
   "execution_count": 23,
   "metadata": {},
   "outputs": [],
   "source": [
    "# Useful flatten function from Alex Martelli on https://stackoverflow.com/questions/952914/how-to-make-a-flat-list-out-of-list-of-lists\n",
    "flatten = lambda l: [item for sublist in l for item in sublist]"
   ]
  },
  {
   "cell_type": "code",
   "execution_count": 2,
   "metadata": {},
   "outputs": [],
   "source": [
    "# Should be same path for all my PC's, it's where each scrape goes as a separate json file.\n",
    "storage_path = \"/home/ozwald/Dropbox/news_crow/scrape_results\"\n",
    "\n",
    "# \"bing\" is targeted news search corpus, \"RSS\" is from specific world and local news feeds.\n",
    "corpus_type = \"disaster\""
   ]
  },
  {
   "cell_type": "markdown",
   "metadata": {},
   "source": [
    "## 1.  Retrieve Corpus\n",
    "\n",
    "The corpus is being scraped by the \"run_news_scrapes.py\" script (and windows task scheduler) every 12 hours, a bit past midday and a bit past midnight.\n",
    "\n",
    "The \"bing\" corpus are news titles and text extracts gotten from the bing news search API, using a few Home Office - related keywords.\n",
    "\n",
    "The \"RSS\" corpus is plugged directly into a number of RSS feeds for world news sites and local british news sites, with no filters for news story types or subjects applied."
   ]
  },
  {
   "cell_type": "markdown",
   "metadata": {},
   "source": [
    "### First, get a list of all the news dumps created so far"
   ]
  },
  {
   "cell_type": "code",
   "execution_count": 3,
   "metadata": {
    "scrolled": true
   },
   "outputs": [
    {
     "name": "stdout",
     "output_type": "stream",
     "text": [
      "Total files: 56\n",
      "Loading file: bing_disaster_corpus_2019-12-17_0022.json\n",
      "Loading file: bing_disaster_corpus_2019-12-27_1803.json\n",
      "Loading file: bing_disaster_corpus_2019-12-19_0022.json\n",
      "Loading file: bing_disaster_corpus_2019-12-08_0023.json\n",
      "Loading file: bing_disaster_corpus_2019-11-17_1952.json\n",
      "Loading file: bing_disaster_corpus_2019-11-25_0022.json\n",
      "Loading file: bing_disaster_corpus_2019-12-01_1222.json\n",
      "Loading file: bing_disaster_corpus_2019-12-06_1222.json\n",
      "Loading file: bing_disaster_corpus_2019-12-12_0022.json\n",
      "Loading file: bing_disaster_corpus_2019-11-19_0022.json\n",
      "Loading file: bing_disaster_corpus_2019-11-17_1956.json\n",
      "Loading file: bing_disaster_corpus_2019-12-18_1222.json\n",
      "Loading file: bing_disaster_corpus_2019-12-04_0022.json\n",
      "Loading file: bing_disaster_corpus_2019-11-23_1223.json\n",
      "Loading file: bing_disaster_corpus_2019-12-03_0022.json\n",
      "Loading file: bing_disaster_corpus_2019-11-30_1222.json\n",
      "Loading file: bing_disaster_corpus_2019-12-10_0022.json\n",
      "Loading file: bing_disaster_corpus_2019-12-13_0856.json\n",
      "Loading file: bing_disaster_corpus_2019-12-05_0022.json\n",
      "Loading file: bing_disaster_corpus_2019-12-23_1222.json\n",
      "Loading file: bing_disaster_corpus_2019-11-18_1222.json\n",
      "Loading file: bing_disaster_corpus_2019-11-18_0022.json\n",
      "Loading file: bing_disaster_corpus_2019-12-11_0022.json\n",
      "Loading file: bing_disaster_corpus_2019-12-03_1222.json\n",
      "Loading file: bing_disaster_corpus_2019-12-16_1222.json\n",
      "Loading file: bing_disaster_corpus_2019-12-15_0022.json\n",
      "Loading file: bing_disaster_corpus_2019-11-19_1222.json\n",
      "Loading file: bing_disaster_corpus_2019-12-12_2324.json\n",
      "Loading file: bing_disaster_corpus_2019-12-15_1222.json\n",
      "Loading file: bing_disaster_corpus_2019-12-20_1720.json\n",
      "Loading file: bing_disaster_corpus_2019-11-22_1540.json\n",
      "Loading file: bing_disaster_corpus_2019-12-08_1222.json\n",
      "Loading file: bing_disaster_corpus_2019-12-28_1803.json\n",
      "Loading file: bing_disaster_corpus_2019-12-06_0022.json\n",
      "Loading file: bing_disaster_corpus_2019-11-29_1735.json\n",
      "Loading file: bing_disaster_corpus_2019-12-16_0022.json\n",
      "Loading file: bing_disaster_corpus_2019-12-18_0022.json\n",
      "Loading file: bing_disaster_corpus_2019-12-14_1222.json\n",
      "Loading file: bing_disaster_corpus_2019-12-10_1222.json\n",
      "Loading file: bing_disaster_corpus_2019-12-01_0022.json\n",
      "Loading file: bing_disaster_corpus_2019-12-19_2327.json\n",
      "Loading file: bing_disaster_corpus_2019-12-07_1222.json\n",
      "Loading file: bing_disaster_corpus_2019-12-07_0022.json\n",
      "Loading file: bing_disaster_corpus_2019-11-23_0022.json\n",
      "Loading file: bing_disaster_corpus_2019-11-25_1222.json\n",
      "Loading file: bing_disaster_corpus_2019-12-12_1222.json\n",
      "Loading file: bing_disaster_corpus_2019-12-09_0022.json\n",
      "Loading file: bing_disaster_corpus_2019-11-30_0022.json\n",
      "Loading file: bing_disaster_corpus_2019-12-09_1222.json\n",
      "Loading file: bing_disaster_corpus_2019-12-17_1222.json\n",
      "Loading file: bing_disaster_corpus_2019-12-13_1222.json\n",
      "Loading file: bing_disaster_corpus_2019-12-05_1222.json\n",
      "Loading file: bing_disaster_corpus_2019-12-11_1222.json\n",
      "Loading file: bing_disaster_corpus_2019-12-23_1031.json\n",
      "Loading file: bing_disaster_corpus_2019-12-04_1222.json\n",
      "Loading file: bing_disaster_corpus_2019-12-02_0022.json\n"
     ]
    }
   ],
   "source": [
    "corpus = helper.load_clean_corpus(storage_path, corpus_type)"
   ]
  },
  {
   "cell_type": "code",
   "execution_count": 4,
   "metadata": {
    "scrolled": true
   },
   "outputs": [
    {
     "data": {
      "text/html": [
       "<div>\n",
       "<style scoped>\n",
       "    .dataframe tbody tr th:only-of-type {\n",
       "        vertical-align: middle;\n",
       "    }\n",
       "\n",
       "    .dataframe tbody tr th {\n",
       "        vertical-align: top;\n",
       "    }\n",
       "\n",
       "    .dataframe thead th {\n",
       "        text-align: right;\n",
       "    }\n",
       "</style>\n",
       "<table border=\"1\" class=\"dataframe\">\n",
       "  <thead>\n",
       "    <tr style=\"text-align: right;\">\n",
       "      <th></th>\n",
       "      <th>title</th>\n",
       "      <th>summary</th>\n",
       "      <th>date</th>\n",
       "      <th>link</th>\n",
       "      <th>source_url</th>\n",
       "      <th>retrieval_timestamp</th>\n",
       "      <th>origin</th>\n",
       "      <th>clean_text</th>\n",
       "    </tr>\n",
       "  </thead>\n",
       "  <tbody>\n",
       "    <tr>\n",
       "      <th>0</th>\n",
       "      <td>Usman vs Covington live stream: Free links to ...</td>\n",
       "      <td>Colby Covington is set to take on Kamaru Usman...</td>\n",
       "      <td>2019-12-17T00:02:00.0000000Z</td>\n",
       "      <td>https://www.independent.co.uk/sport/general/mm...</td>\n",
       "      <td>www.independent.co.uk</td>\n",
       "      <td>2019-12-17 00:21:31.786528</td>\n",
       "      <td>bing_news_api</td>\n",
       "      <td>Usman vs Covington live stream: Free links to ...</td>\n",
       "    </tr>\n",
       "    <tr>\n",
       "      <th>6</th>\n",
       "      <td>&lt;b&gt;Flood&lt;/b&gt; warnings in place across Berkshir...</td>\n",
       "      <td>A number of &lt;b&gt;flood&lt;/b&gt; warnings are in place...</td>\n",
       "      <td>2019-12-16T13:26:00.0000000Z</td>\n",
       "      <td>https://www.getreading.co.uk/news/reading-berk...</td>\n",
       "      <td>www.getreading.co.uk</td>\n",
       "      <td>2019-12-17 00:21:31.787132</td>\n",
       "      <td>bing_news_api</td>\n",
       "      <td>Flood warnings in place across Berkshire after...</td>\n",
       "    </tr>\n",
       "    <tr>\n",
       "      <th>11</th>\n",
       "      <td>&lt;b&gt;Flood&lt;/b&gt; alert issued for Burton after rai...</td>\n",
       "      <td>People across Burton and South Derbyshire are ...</td>\n",
       "      <td>2019-12-16T09:17:00.0000000Z</td>\n",
       "      <td>https://www.derbytelegraph.co.uk/burton/flood-...</td>\n",
       "      <td>www.derbytelegraph.co.uk</td>\n",
       "      <td>2019-12-17 00:21:31.787399</td>\n",
       "      <td>bing_news_api</td>\n",
       "      <td>Flood alert issued for Burton after rainfall. ...</td>\n",
       "    </tr>\n",
       "    <tr>\n",
       "      <th>13</th>\n",
       "      <td>Swindon &lt;b&gt;flood&lt;/b&gt; defence pond overflows an...</td>\n",
       "      <td>Pavements and a park have been left flooded du...</td>\n",
       "      <td>2019-12-16T17:57:00.0000000Z</td>\n",
       "      <td>https://www.bbc.co.uk/news/uk-england-wiltshir...</td>\n",
       "      <td>www.bbc.co.uk</td>\n",
       "      <td>2019-12-17 00:21:31.787503</td>\n",
       "      <td>bing_news_api</td>\n",
       "      <td>Swindon flood defence pond overflows and cause...</td>\n",
       "    </tr>\n",
       "    <tr>\n",
       "      <th>14</th>\n",
       "      <td>&lt;b&gt;Flood&lt;/b&gt; Warnings issued for River Severn ...</td>\n",
       "      <td>Heavy rain has seen the Environment Agency put...</td>\n",
       "      <td>2019-12-16T11:57:00.0000000Z</td>\n",
       "      <td>https://www.gloucestershirelive.co.uk/news/glo...</td>\n",
       "      <td>www.gloucestershirelive.co.uk</td>\n",
       "      <td>2019-12-17 00:21:31.787551</td>\n",
       "      <td>bing_news_api</td>\n",
       "      <td>Flood Warnings issued for River Severn as Envi...</td>\n",
       "    </tr>\n",
       "  </tbody>\n",
       "</table>\n",
       "</div>"
      ],
      "text/plain": [
       "                                                title  \\\n",
       "0   Usman vs Covington live stream: Free links to ...   \n",
       "6   <b>Flood</b> warnings in place across Berkshir...   \n",
       "11  <b>Flood</b> alert issued for Burton after rai...   \n",
       "13  Swindon <b>flood</b> defence pond overflows an...   \n",
       "14  <b>Flood</b> Warnings issued for River Severn ...   \n",
       "\n",
       "                                              summary  \\\n",
       "0   Colby Covington is set to take on Kamaru Usman...   \n",
       "6   A number of <b>flood</b> warnings are in place...   \n",
       "11  People across Burton and South Derbyshire are ...   \n",
       "13  Pavements and a park have been left flooded du...   \n",
       "14  Heavy rain has seen the Environment Agency put...   \n",
       "\n",
       "                            date  \\\n",
       "0   2019-12-17T00:02:00.0000000Z   \n",
       "6   2019-12-16T13:26:00.0000000Z   \n",
       "11  2019-12-16T09:17:00.0000000Z   \n",
       "13  2019-12-16T17:57:00.0000000Z   \n",
       "14  2019-12-16T11:57:00.0000000Z   \n",
       "\n",
       "                                                 link  \\\n",
       "0   https://www.independent.co.uk/sport/general/mm...   \n",
       "6   https://www.getreading.co.uk/news/reading-berk...   \n",
       "11  https://www.derbytelegraph.co.uk/burton/flood-...   \n",
       "13  https://www.bbc.co.uk/news/uk-england-wiltshir...   \n",
       "14  https://www.gloucestershirelive.co.uk/news/glo...   \n",
       "\n",
       "                       source_url         retrieval_timestamp         origin  \\\n",
       "0           www.independent.co.uk  2019-12-17 00:21:31.786528  bing_news_api   \n",
       "6            www.getreading.co.uk  2019-12-17 00:21:31.787132  bing_news_api   \n",
       "11       www.derbytelegraph.co.uk  2019-12-17 00:21:31.787399  bing_news_api   \n",
       "13                  www.bbc.co.uk  2019-12-17 00:21:31.787503  bing_news_api   \n",
       "14  www.gloucestershirelive.co.uk  2019-12-17 00:21:31.787551  bing_news_api   \n",
       "\n",
       "                                           clean_text  \n",
       "0   Usman vs Covington live stream: Free links to ...  \n",
       "6   Flood warnings in place across Berkshire after...  \n",
       "11  Flood alert issued for Burton after rainfall. ...  \n",
       "13  Swindon flood defence pond overflows and cause...  \n",
       "14  Flood Warnings issued for River Severn as Envi...  "
      ]
     },
     "execution_count": 4,
     "metadata": {},
     "output_type": "execute_result"
    }
   ],
   "source": [
    "corpus.head()"
   ]
  },
  {
   "cell_type": "markdown",
   "metadata": {},
   "source": [
    "## 2. Clustering using Entity Detection And Network Analytics\n",
    "\n",
    "This doesn't resolve very well for Bing, because there's a whole bunch of keywords from the original searches in there.  Suspect that's got a lot to do with the failure of the other methods too.  For the network analytics method I'm going to try removing the keywords from the table first."
   ]
  },
  {
   "cell_type": "code",
   "execution_count": 5,
   "metadata": {},
   "outputs": [],
   "source": [
    "with open(\"/home/ozwald/Dropbox/news_crow/scrape_settings.json\", \"r\") as f:\n",
    "    scrape_config = json.load(f)\n",
    "\n",
    "search_terms = scrape_config['disaster_search_list']\n",
    "search_terms = re.sub(r\"[^0-9A-Za-z ]\", \"\", \" \".join(search_terms)).lower().split()\n",
    "search_terms = set(search_terms)"
   ]
  },
  {
   "cell_type": "code",
   "execution_count": 6,
   "metadata": {
    "scrolled": true
   },
   "outputs": [
    {
     "data": {
      "text/plain": [
       "{'disaster',\n",
       " 'drought',\n",
       " 'droughts',\n",
       " 'flash',\n",
       " 'flood',\n",
       " 'flooding',\n",
       " 'floods',\n",
       " 'hurricane',\n",
       " 'mudslide',\n",
       " 'natural',\n",
       " 'snow',\n",
       " 'tsunami',\n",
       " 'typhoon',\n",
       " 'wildfire',\n",
       " 'wildfires'}"
      ]
     },
     "execution_count": 6,
     "metadata": {},
     "output_type": "execute_result"
    }
   ],
   "source": [
    "search_terms"
   ]
  },
  {
   "cell_type": "code",
   "execution_count": 7,
   "metadata": {},
   "outputs": [],
   "source": [
    "model = reps.NounAdjacencyModel(corpus['clean_text'], corpus['clean_text'])"
   ]
  },
  {
   "cell_type": "code",
   "execution_count": 8,
   "metadata": {},
   "outputs": [
    {
     "data": {
      "text/plain": [
       "{'Council',\n",
       " 'Fields',\n",
       " 'Margaret',\n",
       " 'Merton',\n",
       " 'Parish',\n",
       " 'St',\n",
       " 'Stratton',\n",
       " 'Swindon'}"
      ]
     },
     "execution_count": 8,
     "metadata": {},
     "output_type": "execute_result"
    }
   ],
   "source": [
    "model.noun_sets[3]"
   ]
  },
  {
   "cell_type": "code",
   "execution_count": 11,
   "metadata": {},
   "outputs": [
    {
     "data": {
      "text/html": [
       "<div>\n",
       "<style scoped>\n",
       "    .dataframe tbody tr th:only-of-type {\n",
       "        vertical-align: middle;\n",
       "    }\n",
       "\n",
       "    .dataframe tbody tr th {\n",
       "        vertical-align: top;\n",
       "    }\n",
       "\n",
       "    .dataframe thead th {\n",
       "        text-align: right;\n",
       "    }\n",
       "</style>\n",
       "<table border=\"1\" class=\"dataframe\">\n",
       "  <thead>\n",
       "    <tr style=\"text-align: right;\">\n",
       "      <th></th>\n",
       "      <th>Littry</th>\n",
       "      <th>nac</th>\n",
       "      <th>North_Lincolnshire</th>\n",
       "      <th>Peak_District</th>\n",
       "      <th>Rickett</th>\n",
       "      <th>Secretary</th>\n",
       "      <th>Wyke</th>\n",
       "      <th>B-52</th>\n",
       "      <th>Lingard</th>\n",
       "      <th>hammer</th>\n",
       "      <th>...</th>\n",
       "      <th>Barrier</th>\n",
       "      <th>Merthyr</th>\n",
       "      <th>Snowdonia</th>\n",
       "      <th>Burke</th>\n",
       "      <th>Greens</th>\n",
       "      <th>Glatthaar</th>\n",
       "      <th>Experimental</th>\n",
       "      <th>Barlow</th>\n",
       "      <th>Unsworth</th>\n",
       "      <th>WALMART</th>\n",
       "    </tr>\n",
       "    <tr>\n",
       "      <th>clean_text</th>\n",
       "      <th></th>\n",
       "      <th></th>\n",
       "      <th></th>\n",
       "      <th></th>\n",
       "      <th></th>\n",
       "      <th></th>\n",
       "      <th></th>\n",
       "      <th></th>\n",
       "      <th></th>\n",
       "      <th></th>\n",
       "      <th></th>\n",
       "      <th></th>\n",
       "      <th></th>\n",
       "      <th></th>\n",
       "      <th></th>\n",
       "      <th></th>\n",
       "      <th></th>\n",
       "      <th></th>\n",
       "      <th></th>\n",
       "      <th></th>\n",
       "      <th></th>\n",
       "    </tr>\n",
       "  </thead>\n",
       "  <tbody>\n",
       "    <tr>\n",
       "      <th>Usman vs Covington live stream: Free links to watch UFC 245 flood online as piracy hits ;peak levels;. Colby Covington is set to take on Kamaru Usman at the main event of UFC 245, with the Welterweight title on the line. Unusually, UFC has also put two other title fights on a single pay-per-view in the US, as Max Holloway faces Alexander Volkanovski and Amanda Nunes squares off against Germaine de Randamie. Fight fans will be able to watch the ...</th>\n",
       "      <td>0</td>\n",
       "      <td>0</td>\n",
       "      <td>0</td>\n",
       "      <td>0</td>\n",
       "      <td>0</td>\n",
       "      <td>0</td>\n",
       "      <td>0</td>\n",
       "      <td>0</td>\n",
       "      <td>0</td>\n",
       "      <td>0</td>\n",
       "      <td>...</td>\n",
       "      <td>0</td>\n",
       "      <td>0</td>\n",
       "      <td>0</td>\n",
       "      <td>0</td>\n",
       "      <td>0</td>\n",
       "      <td>0</td>\n",
       "      <td>0</td>\n",
       "      <td>0</td>\n",
       "      <td>0</td>\n",
       "      <td>0</td>\n",
       "    </tr>\n",
       "    <tr>\n",
       "      <th>Flood warnings in place across Berkshire after heavy downpours. A number of flood warnings are in place across Berkshire after heavy downpours at the weekend. People have been warned flooding is possible near many of the county;s rivers and those living or working near by have been urged to be prepared. The flood information service on gov.uk has issued a number of flood alerts and experts are monitoring ...</th>\n",
       "      <td>0</td>\n",
       "      <td>0</td>\n",
       "      <td>0</td>\n",
       "      <td>0</td>\n",
       "      <td>0</td>\n",
       "      <td>0</td>\n",
       "      <td>0</td>\n",
       "      <td>0</td>\n",
       "      <td>0</td>\n",
       "      <td>0</td>\n",
       "      <td>...</td>\n",
       "      <td>0</td>\n",
       "      <td>0</td>\n",
       "      <td>0</td>\n",
       "      <td>0</td>\n",
       "      <td>0</td>\n",
       "      <td>0</td>\n",
       "      <td>0</td>\n",
       "      <td>0</td>\n",
       "      <td>0</td>\n",
       "      <td>0</td>\n",
       "    </tr>\n",
       "    <tr>\n",
       "      <th>Flood alert issued for Burton after rainfall. People across Burton and South Derbyshire are being warned to quot;be preparedquot; as a flood alert has been issued across the area. Persistent rainfall has fallen across the last seven days, leading to the warning on the Government website, gov.uk. The flood alert for Burton was issued on the last night, Sunday, December 15, and is still in place today.</th>\n",
       "      <td>0</td>\n",
       "      <td>0</td>\n",
       "      <td>0</td>\n",
       "      <td>0</td>\n",
       "      <td>0</td>\n",
       "      <td>0</td>\n",
       "      <td>0</td>\n",
       "      <td>0</td>\n",
       "      <td>0</td>\n",
       "      <td>0</td>\n",
       "      <td>...</td>\n",
       "      <td>0</td>\n",
       "      <td>0</td>\n",
       "      <td>0</td>\n",
       "      <td>0</td>\n",
       "      <td>0</td>\n",
       "      <td>0</td>\n",
       "      <td>0</td>\n",
       "      <td>0</td>\n",
       "      <td>0</td>\n",
       "      <td>0</td>\n",
       "    </tr>\n",
       "    <tr>\n",
       "      <th>Swindon flood defence pond overflows and causes flooding. Pavements and a park have been left flooded during work to install new drainage. The work, at Merton Fields in Swindon, was for an attenuation pond to divert water during heavy rainfall. However, it immediately overflowed in heavy rain and residents reported water pouring under fences and into gardens. Stratton St Margaret Parish Council ...</th>\n",
       "      <td>0</td>\n",
       "      <td>0</td>\n",
       "      <td>0</td>\n",
       "      <td>0</td>\n",
       "      <td>0</td>\n",
       "      <td>0</td>\n",
       "      <td>0</td>\n",
       "      <td>0</td>\n",
       "      <td>0</td>\n",
       "      <td>0</td>\n",
       "      <td>...</td>\n",
       "      <td>0</td>\n",
       "      <td>0</td>\n",
       "      <td>0</td>\n",
       "      <td>0</td>\n",
       "      <td>0</td>\n",
       "      <td>0</td>\n",
       "      <td>0</td>\n",
       "      <td>0</td>\n",
       "      <td>0</td>\n",
       "      <td>0</td>\n",
       "    </tr>\n",
       "    <tr>\n",
       "      <th>Flood Warnings issued for River Severn as Environment Agency says immediate action required. Heavy rain has seen the Environment Agency put Flood Warnings on stretches of the River Severn in Gloucestershire. It says river levels are expected to remain high until Wednesday and flooding is expected and immediate action required. The Flood Warnings are in place for the River Severn at Apperley and The Leigh and on the River Severn at ...</th>\n",
       "      <td>0</td>\n",
       "      <td>0</td>\n",
       "      <td>0</td>\n",
       "      <td>0</td>\n",
       "      <td>0</td>\n",
       "      <td>0</td>\n",
       "      <td>0</td>\n",
       "      <td>0</td>\n",
       "      <td>0</td>\n",
       "      <td>0</td>\n",
       "      <td>...</td>\n",
       "      <td>0</td>\n",
       "      <td>0</td>\n",
       "      <td>0</td>\n",
       "      <td>0</td>\n",
       "      <td>0</td>\n",
       "      <td>0</td>\n",
       "      <td>0</td>\n",
       "      <td>0</td>\n",
       "      <td>0</td>\n",
       "      <td>0</td>\n",
       "    </tr>\n",
       "  </tbody>\n",
       "</table>\n",
       "<p>5 rows × 5849 columns</p>\n",
       "</div>"
      ],
      "text/plain": [
       "                                                    Littry  nac  \\\n",
       "clean_text                                                        \n",
       "Usman vs Covington live stream: Free links to w...       0    0   \n",
       "Flood warnings in place across Berkshire after ...       0    0   \n",
       "Flood alert issued for Burton after rainfall. P...       0    0   \n",
       "Swindon flood defence pond overflows and causes...       0    0   \n",
       "Flood Warnings issued for River Severn as Envir...       0    0   \n",
       "\n",
       "                                                    North_Lincolnshire  \\\n",
       "clean_text                                                               \n",
       "Usman vs Covington live stream: Free links to w...                   0   \n",
       "Flood warnings in place across Berkshire after ...                   0   \n",
       "Flood alert issued for Burton after rainfall. P...                   0   \n",
       "Swindon flood defence pond overflows and causes...                   0   \n",
       "Flood Warnings issued for River Severn as Envir...                   0   \n",
       "\n",
       "                                                    Peak_District  Rickett  \\\n",
       "clean_text                                                                   \n",
       "Usman vs Covington live stream: Free links to w...              0        0   \n",
       "Flood warnings in place across Berkshire after ...              0        0   \n",
       "Flood alert issued for Burton after rainfall. P...              0        0   \n",
       "Swindon flood defence pond overflows and causes...              0        0   \n",
       "Flood Warnings issued for River Severn as Envir...              0        0   \n",
       "\n",
       "                                                    Secretary  Wyke  B-52  \\\n",
       "clean_text                                                                  \n",
       "Usman vs Covington live stream: Free links to w...          0     0     0   \n",
       "Flood warnings in place across Berkshire after ...          0     0     0   \n",
       "Flood alert issued for Burton after rainfall. P...          0     0     0   \n",
       "Swindon flood defence pond overflows and causes...          0     0     0   \n",
       "Flood Warnings issued for River Severn as Envir...          0     0     0   \n",
       "\n",
       "                                                    Lingard  hammer  ...  \\\n",
       "clean_text                                                           ...   \n",
       "Usman vs Covington live stream: Free links to w...        0       0  ...   \n",
       "Flood warnings in place across Berkshire after ...        0       0  ...   \n",
       "Flood alert issued for Burton after rainfall. P...        0       0  ...   \n",
       "Swindon flood defence pond overflows and causes...        0       0  ...   \n",
       "Flood Warnings issued for River Severn as Envir...        0       0  ...   \n",
       "\n",
       "                                                    Barrier  Merthyr  \\\n",
       "clean_text                                                             \n",
       "Usman vs Covington live stream: Free links to w...        0        0   \n",
       "Flood warnings in place across Berkshire after ...        0        0   \n",
       "Flood alert issued for Burton after rainfall. P...        0        0   \n",
       "Swindon flood defence pond overflows and causes...        0        0   \n",
       "Flood Warnings issued for River Severn as Envir...        0        0   \n",
       "\n",
       "                                                    Snowdonia  Burke  Greens  \\\n",
       "clean_text                                                                     \n",
       "Usman vs Covington live stream: Free links to w...          0      0       0   \n",
       "Flood warnings in place across Berkshire after ...          0      0       0   \n",
       "Flood alert issued for Burton after rainfall. P...          0      0       0   \n",
       "Swindon flood defence pond overflows and causes...          0      0       0   \n",
       "Flood Warnings issued for River Severn as Envir...          0      0       0   \n",
       "\n",
       "                                                    Glatthaar  Experimental  \\\n",
       "clean_text                                                                    \n",
       "Usman vs Covington live stream: Free links to w...          0             0   \n",
       "Flood warnings in place across Berkshire after ...          0             0   \n",
       "Flood alert issued for Burton after rainfall. P...          0             0   \n",
       "Swindon flood defence pond overflows and causes...          0             0   \n",
       "Flood Warnings issued for River Severn as Envir...          0             0   \n",
       "\n",
       "                                                    Barlow  Unsworth  WALMART  \n",
       "clean_text                                                                     \n",
       "Usman vs Covington live stream: Free links to w...       0         0        0  \n",
       "Flood warnings in place across Berkshire after ...       0         0        0  \n",
       "Flood alert issued for Burton after rainfall. P...       0         0        0  \n",
       "Swindon flood defence pond overflows and causes...       0         0        0  \n",
       "Flood Warnings issued for River Severn as Envir...       0         0        0  \n",
       "\n",
       "[5 rows x 5849 columns]"
      ]
     },
     "execution_count": 11,
     "metadata": {},
     "output_type": "execute_result"
    }
   ],
   "source": [
    "nouns_df = model.table.copy()\n",
    "nouns_df.head()"
   ]
  },
  {
   "cell_type": "markdown",
   "metadata": {},
   "source": [
    "### Drop any noun/noun phrase containing one of the search terms, then create an adjacency matrix\n",
    "\n",
    "### Drop any noun/phrase occuring too infrequently"
   ]
  },
  {
   "cell_type": "code",
   "execution_count": 13,
   "metadata": {},
   "outputs": [
    {
     "name": "stdout",
     "output_type": "stream",
     "text": [
      "(3348, 500)\n"
     ]
    }
   ],
   "source": [
    "# Get 500 most common nouns\n",
    "nouns_to_keep = list(nouns_df.\\\n",
    "                    sum(axis=0).\\\n",
    "                    sort_values(ascending=False).\\\n",
    "                    index)\n",
    "\n",
    "# Cut out any nouns containing the original search terms\n",
    "nouns_to_keep = [noun for noun in nouns_to_keep if sum([term in noun for term in search_terms]) == 0]\n",
    "\n",
    "# Keep only top 500 most common\n",
    "nouns_to_keep = nouns_to_keep[:500]\n",
    "\n",
    "# Subset nouns dataframe\n",
    "nouns_df = nouns_df[nouns_to_keep]\n",
    "\n",
    "print(nouns_df.shape)"
   ]
  },
  {
   "cell_type": "code",
   "execution_count": 14,
   "metadata": {},
   "outputs": [
    {
     "name": "stdout",
     "output_type": "stream",
     "text": [
      "13\n"
     ]
    }
   ],
   "source": [
    "embeddings = np.asarray(nouns_df)\n",
    "adjacency = np.dot(embeddings, embeddings.T)\n",
    "print(np.max(adjacency))"
   ]
  },
  {
   "cell_type": "code",
   "execution_count": 15,
   "metadata": {},
   "outputs": [],
   "source": [
    "# If the \"lower\" limit is 1, the graph has so many edges it eats ALL the memory of my desktop, even\n",
    "# with just 500-ish stories to process.\n",
    "upper = 100\n",
    "lower = 3\n",
    "G = nx.Graph()\n",
    "rows, cols = np.where((upper >= adjacency) & (adjacency >= lower))\n",
    "weights = [float(adjacency[rows[i], cols[i]]) for i in range(len(rows))]\n",
    "edges = zip(rows.tolist(), cols.tolist(), weights)\n",
    "G.add_weighted_edges_from(edges)\n",
    "\n",
    "# Simplify; remove self-edges\n",
    "G.remove_edges_from(nx.selfloop_edges(G))"
   ]
  },
  {
   "cell_type": "code",
   "execution_count": 16,
   "metadata": {},
   "outputs": [
    {
     "data": {
      "text/plain": [
       "1873"
      ]
     },
     "execution_count": 16,
     "metadata": {},
     "output_type": "execute_result"
    }
   ],
   "source": [
    "G.number_of_edges()"
   ]
  },
  {
   "cell_type": "code",
   "execution_count": 17,
   "metadata": {
    "scrolled": true
   },
   "outputs": [],
   "source": [
    "#G_plot = nx.petersen_graph()\n",
    "#plt.subplot(121)\n",
    "#nx.draw(G, with_labels=True, font_weight='bold')\n",
    "#plt.subplot(122)\n",
    "#nx.draw_shell(G, nlist=[range(5, 10), range(5)], with_labels=True, font_weight='bold')"
   ]
  },
  {
   "cell_type": "markdown",
   "metadata": {},
   "source": [
    "### Cliques, worth a look?\n",
    "Idea from the docs, explanation at https://en.wikipedia.org/wiki/Clique_(graph_theory)\n",
    "\n",
    "So, cliques are allowed to overlap - should've thought of that.  Still, good preliminary results and I've found I can disambiguate the cliques to some degree by cutting out weaker links (fewer shared entities).\n",
    "\n",
    "I should add it also appears to merely suffer from the same problems as the other clustering methods, clusters are ultimately hierarchical!"
   ]
  },
  {
   "cell_type": "code",
   "execution_count": 18,
   "metadata": {},
   "outputs": [],
   "source": [
    "cliques = []\n",
    "for x in nx.find_cliques(G):\n",
    "    x.sort()\n",
    "    cliques.append((len(x), x))"
   ]
  },
  {
   "cell_type": "code",
   "execution_count": 19,
   "metadata": {},
   "outputs": [],
   "source": [
    "cliques_df = pd.DataFrame({\"nodes_list\": [x[1] for x in cliques],\n",
    "                           \"clique_size\": [x[0] for x in cliques]}).\\\n",
    "                    sort_values(\"clique_size\", ascending=False).\\\n",
    "                    reset_index()"
   ]
  },
  {
   "cell_type": "code",
   "execution_count": 20,
   "metadata": {},
   "outputs": [
    {
     "data": {
      "text/plain": [
       "59"
      ]
     },
     "execution_count": 20,
     "metadata": {},
     "output_type": "execute_result"
    }
   ],
   "source": [
    "len(cliques_df[cliques_df['clique_size'] >= 5])"
   ]
  },
  {
   "cell_type": "code",
   "execution_count": 21,
   "metadata": {
    "scrolled": true
   },
   "outputs": [
    {
     "data": {
      "text/html": [
       "<div>\n",
       "<style scoped>\n",
       "    .dataframe tbody tr th:only-of-type {\n",
       "        vertical-align: middle;\n",
       "    }\n",
       "\n",
       "    .dataframe tbody tr th {\n",
       "        vertical-align: top;\n",
       "    }\n",
       "\n",
       "    .dataframe thead th {\n",
       "        text-align: right;\n",
       "    }\n",
       "</style>\n",
       "<table border=\"1\" class=\"dataframe\">\n",
       "  <thead>\n",
       "    <tr style=\"text-align: right;\">\n",
       "      <th></th>\n",
       "      <th>index</th>\n",
       "      <th>nodes_list</th>\n",
       "      <th>clique_size</th>\n",
       "    </tr>\n",
       "  </thead>\n",
       "  <tbody>\n",
       "    <tr>\n",
       "      <th>0</th>\n",
       "      <td>247</td>\n",
       "      <td>[339, 492, 869, 1104, 2356, 2359, 2458, 2461, ...</td>\n",
       "      <td>11</td>\n",
       "    </tr>\n",
       "    <tr>\n",
       "      <th>1</th>\n",
       "      <td>106</td>\n",
       "      <td>[167, 687, 911, 914, 916, 917, 1128, 1700, 196...</td>\n",
       "      <td>10</td>\n",
       "    </tr>\n",
       "    <tr>\n",
       "      <th>2</th>\n",
       "      <td>885</td>\n",
       "      <td>[546, 1006, 1362, 1464, 1605, 1791, 2541, 2613...</td>\n",
       "      <td>10</td>\n",
       "    </tr>\n",
       "    <tr>\n",
       "      <th>3</th>\n",
       "      <td>84</td>\n",
       "      <td>[141, 145, 146, 151, 672, 1321, 1422, 1423, 2024]</td>\n",
       "      <td>9</td>\n",
       "    </tr>\n",
       "    <tr>\n",
       "      <th>4</th>\n",
       "      <td>673</td>\n",
       "      <td>[1214, 1271, 1495, 1639, 1996, 2230, 2233]</td>\n",
       "      <td>7</td>\n",
       "    </tr>\n",
       "    <tr>\n",
       "      <th>5</th>\n",
       "      <td>20</td>\n",
       "      <td>[28, 354, 1281, 1730, 2458, 2657, 3319]</td>\n",
       "      <td>7</td>\n",
       "    </tr>\n",
       "    <tr>\n",
       "      <th>6</th>\n",
       "      <td>139</td>\n",
       "      <td>[211, 596, 1568, 2112, 2378, 2492, 2686]</td>\n",
       "      <td>7</td>\n",
       "    </tr>\n",
       "    <tr>\n",
       "      <th>7</th>\n",
       "      <td>533</td>\n",
       "      <td>[911, 912, 916, 917, 1128, 1700, 1961]</td>\n",
       "      <td>7</td>\n",
       "    </tr>\n",
       "    <tr>\n",
       "      <th>8</th>\n",
       "      <td>886</td>\n",
       "      <td>[546, 1006, 1362, 1605, 1791, 2588, 2613]</td>\n",
       "      <td>7</td>\n",
       "    </tr>\n",
       "    <tr>\n",
       "      <th>9</th>\n",
       "      <td>83</td>\n",
       "      <td>[141, 145, 672, 1320, 1321, 1422, 2024]</td>\n",
       "      <td>7</td>\n",
       "    </tr>\n",
       "    <tr>\n",
       "      <th>10</th>\n",
       "      <td>87</td>\n",
       "      <td>[144, 148, 150, 680, 2187, 2238, 2239]</td>\n",
       "      <td>7</td>\n",
       "    </tr>\n",
       "    <tr>\n",
       "      <th>11</th>\n",
       "      <td>25</td>\n",
       "      <td>[32, 1214, 1271, 1495, 1996, 2230, 2233]</td>\n",
       "      <td>7</td>\n",
       "    </tr>\n",
       "    <tr>\n",
       "      <th>12</th>\n",
       "      <td>331</td>\n",
       "      <td>[512, 961, 1786, 2698, 2783, 3052, 3240]</td>\n",
       "      <td>7</td>\n",
       "    </tr>\n",
       "    <tr>\n",
       "      <th>13</th>\n",
       "      <td>358</td>\n",
       "      <td>[561, 1005, 2075, 2616, 2755, 3091, 3264]</td>\n",
       "      <td>7</td>\n",
       "    </tr>\n",
       "    <tr>\n",
       "      <th>14</th>\n",
       "      <td>276</td>\n",
       "      <td>[395, 687, 911, 917, 1128, 1961]</td>\n",
       "      <td>6</td>\n",
       "    </tr>\n",
       "    <tr>\n",
       "      <th>15</th>\n",
       "      <td>476</td>\n",
       "      <td>[790, 1487, 1630, 1639, 2105, 2230]</td>\n",
       "      <td>6</td>\n",
       "    </tr>\n",
       "    <tr>\n",
       "      <th>16</th>\n",
       "      <td>350</td>\n",
       "      <td>[545, 1394, 1651, 1888, 2098, 2810]</td>\n",
       "      <td>6</td>\n",
       "    </tr>\n",
       "    <tr>\n",
       "      <th>17</th>\n",
       "      <td>284</td>\n",
       "      <td>[413, 1007, 1612, 2149, 2552, 3102]</td>\n",
       "      <td>6</td>\n",
       "    </tr>\n",
       "    <tr>\n",
       "      <th>18</th>\n",
       "      <td>118</td>\n",
       "      <td>[181, 1343, 2083, 2133, 2246, 3087]</td>\n",
       "      <td>6</td>\n",
       "    </tr>\n",
       "    <tr>\n",
       "      <th>19</th>\n",
       "      <td>404</td>\n",
       "      <td>[641, 646, 1080, 1289, 2122, 2519]</td>\n",
       "      <td>6</td>\n",
       "    </tr>\n",
       "    <tr>\n",
       "      <th>20</th>\n",
       "      <td>85</td>\n",
       "      <td>[142, 148, 673, 680, 1839, 2239]</td>\n",
       "      <td>6</td>\n",
       "    </tr>\n",
       "    <tr>\n",
       "      <th>21</th>\n",
       "      <td>513</td>\n",
       "      <td>[876, 881, 969, 1315, 1317, 1686]</td>\n",
       "      <td>6</td>\n",
       "    </tr>\n",
       "    <tr>\n",
       "      <th>22</th>\n",
       "      <td>477</td>\n",
       "      <td>[790, 1487, 1493, 1630, 2105, 2164]</td>\n",
       "      <td>6</td>\n",
       "    </tr>\n",
       "    <tr>\n",
       "      <th>23</th>\n",
       "      <td>124</td>\n",
       "      <td>[187, 1849, 2251, 2533, 3328, 3344]</td>\n",
       "      <td>6</td>\n",
       "    </tr>\n",
       "    <tr>\n",
       "      <th>24</th>\n",
       "      <td>117</td>\n",
       "      <td>[181, 705, 1343, 2246, 2381, 3087]</td>\n",
       "      <td>6</td>\n",
       "    </tr>\n",
       "    <tr>\n",
       "      <th>25</th>\n",
       "      <td>95</td>\n",
       "      <td>[152, 678, 1422, 1556, 2024, 2572]</td>\n",
       "      <td>6</td>\n",
       "    </tr>\n",
       "    <tr>\n",
       "      <th>26</th>\n",
       "      <td>92</td>\n",
       "      <td>[147, 1320, 1422, 1424, 1455, 2024]</td>\n",
       "      <td>6</td>\n",
       "    </tr>\n",
       "    <tr>\n",
       "      <th>27</th>\n",
       "      <td>421</td>\n",
       "      <td>[681, 1320, 1842, 2025, 3125]</td>\n",
       "      <td>5</td>\n",
       "    </tr>\n",
       "    <tr>\n",
       "      <th>28</th>\n",
       "      <td>413</td>\n",
       "      <td>[667, 872, 1303, 2023, 2071]</td>\n",
       "      <td>5</td>\n",
       "    </tr>\n",
       "    <tr>\n",
       "      <th>29</th>\n",
       "      <td>403</td>\n",
       "      <td>[641, 1080, 1289, 2121, 2519]</td>\n",
       "      <td>5</td>\n",
       "    </tr>\n",
       "    <tr>\n",
       "      <th>30</th>\n",
       "      <td>365</td>\n",
       "      <td>[575, 1036, 1232, 2442, 2475]</td>\n",
       "      <td>5</td>\n",
       "    </tr>\n",
       "    <tr>\n",
       "      <th>31</th>\n",
       "      <td>526</td>\n",
       "      <td>[898, 900, 905, 1121, 1733]</td>\n",
       "      <td>5</td>\n",
       "    </tr>\n",
       "    <tr>\n",
       "      <th>32</th>\n",
       "      <td>545</td>\n",
       "      <td>[937, 1431, 2585, 2706, 3088]</td>\n",
       "      <td>5</td>\n",
       "    </tr>\n",
       "    <tr>\n",
       "      <th>33</th>\n",
       "      <td>527</td>\n",
       "      <td>[898, 900, 906, 1122, 1733]</td>\n",
       "      <td>5</td>\n",
       "    </tr>\n",
       "    <tr>\n",
       "      <th>34</th>\n",
       "      <td>415</td>\n",
       "      <td>[672, 1320, 1422, 1455, 2024]</td>\n",
       "      <td>5</td>\n",
       "    </tr>\n",
       "    <tr>\n",
       "      <th>35</th>\n",
       "      <td>529</td>\n",
       "      <td>[903, 1697, 1734, 2466, 2848]</td>\n",
       "      <td>5</td>\n",
       "    </tr>\n",
       "    <tr>\n",
       "      <th>36</th>\n",
       "      <td>125</td>\n",
       "      <td>[187, 693, 2251, 2533, 3328]</td>\n",
       "      <td>5</td>\n",
       "    </tr>\n",
       "    <tr>\n",
       "      <th>37</th>\n",
       "      <td>345</td>\n",
       "      <td>[541, 728, 1034, 1052, 2094]</td>\n",
       "      <td>5</td>\n",
       "    </tr>\n",
       "    <tr>\n",
       "      <th>38</th>\n",
       "      <td>550</td>\n",
       "      <td>[946, 1595, 2313, 2403, 2404]</td>\n",
       "      <td>5</td>\n",
       "    </tr>\n",
       "    <tr>\n",
       "      <th>39</th>\n",
       "      <td>888</td>\n",
       "      <td>[16, 947, 1791, 2613, 2623]</td>\n",
       "      <td>5</td>\n",
       "    </tr>\n",
       "    <tr>\n",
       "      <th>40</th>\n",
       "      <td>296</td>\n",
       "      <td>[434, 1753, 2557, 2730, 3011]</td>\n",
       "      <td>5</td>\n",
       "    </tr>\n",
       "    <tr>\n",
       "      <th>41</th>\n",
       "      <td>246</td>\n",
       "      <td>[339, 492, 876, 2458, 3319]</td>\n",
       "      <td>5</td>\n",
       "    </tr>\n",
       "    <tr>\n",
       "      <th>42</th>\n",
       "      <td>475</td>\n",
       "      <td>[790, 1385, 1639, 2105, 2230]</td>\n",
       "      <td>5</td>\n",
       "    </tr>\n",
       "    <tr>\n",
       "      <th>43</th>\n",
       "      <td>88</td>\n",
       "      <td>[145, 672, 1320, 1422, 2025]</td>\n",
       "      <td>5</td>\n",
       "    </tr>\n",
       "    <tr>\n",
       "      <th>44</th>\n",
       "      <td>460</td>\n",
       "      <td>[765, 1004, 1719, 2666, 2867]</td>\n",
       "      <td>5</td>\n",
       "    </tr>\n",
       "    <tr>\n",
       "      <th>45</th>\n",
       "      <td>15</td>\n",
       "      <td>[18, 738, 1618, 2732, 3090]</td>\n",
       "      <td>5</td>\n",
       "    </tr>\n",
       "    <tr>\n",
       "      <th>46</th>\n",
       "      <td>93</td>\n",
       "      <td>[147, 1320, 1358, 1424, 1455]</td>\n",
       "      <td>5</td>\n",
       "    </tr>\n",
       "    <tr>\n",
       "      <th>47</th>\n",
       "      <td>778</td>\n",
       "      <td>[1487, 1493, 2105, 2164, 3292]</td>\n",
       "      <td>5</td>\n",
       "    </tr>\n",
       "    <tr>\n",
       "      <th>48</th>\n",
       "      <td>473</td>\n",
       "      <td>[790, 1625, 2105, 2640, 3012]</td>\n",
       "      <td>5</td>\n",
       "    </tr>\n",
       "    <tr>\n",
       "      <th>49</th>\n",
       "      <td>21</td>\n",
       "      <td>[28, 339, 876, 2458, 3319]</td>\n",
       "      <td>5</td>\n",
       "    </tr>\n",
       "    <tr>\n",
       "      <th>50</th>\n",
       "      <td>90</td>\n",
       "      <td>[145, 1320, 1422, 2025, 3125]</td>\n",
       "      <td>5</td>\n",
       "    </tr>\n",
       "    <tr>\n",
       "      <th>51</th>\n",
       "      <td>259</td>\n",
       "      <td>[364, 365, 368, 371, 2941]</td>\n",
       "      <td>5</td>\n",
       "    </tr>\n",
       "    <tr>\n",
       "      <th>52</th>\n",
       "      <td>89</td>\n",
       "      <td>[145, 1320, 1321, 1422, 3125]</td>\n",
       "      <td>5</td>\n",
       "    </tr>\n",
       "    <tr>\n",
       "      <th>53</th>\n",
       "      <td>441</td>\n",
       "      <td>[734, 2405, 2898, 2959, 3226]</td>\n",
       "      <td>5</td>\n",
       "    </tr>\n",
       "    <tr>\n",
       "      <th>54</th>\n",
       "      <td>833</td>\n",
       "      <td>[1625, 1639, 2105, 2640, 3292]</td>\n",
       "      <td>5</td>\n",
       "    </tr>\n",
       "    <tr>\n",
       "      <th>55</th>\n",
       "      <td>215</td>\n",
       "      <td>[290, 1861, 1863, 2920, 3196]</td>\n",
       "      <td>5</td>\n",
       "    </tr>\n",
       "    <tr>\n",
       "      <th>56</th>\n",
       "      <td>992</td>\n",
       "      <td>[2196, 2203, 2210, 2674, 3044]</td>\n",
       "      <td>5</td>\n",
       "    </tr>\n",
       "    <tr>\n",
       "      <th>57</th>\n",
       "      <td>474</td>\n",
       "      <td>[790, 1625, 1639, 2105, 2640]</td>\n",
       "      <td>5</td>\n",
       "    </tr>\n",
       "    <tr>\n",
       "      <th>58</th>\n",
       "      <td>615</td>\n",
       "      <td>[1054, 1169, 1201, 1394, 2828]</td>\n",
       "      <td>5</td>\n",
       "    </tr>\n",
       "  </tbody>\n",
       "</table>\n",
       "</div>"
      ],
      "text/plain": [
       "    index                                         nodes_list  clique_size\n",
       "0     247  [339, 492, 869, 1104, 2356, 2359, 2458, 2461, ...           11\n",
       "1     106  [167, 687, 911, 914, 916, 917, 1128, 1700, 196...           10\n",
       "2     885  [546, 1006, 1362, 1464, 1605, 1791, 2541, 2613...           10\n",
       "3      84  [141, 145, 146, 151, 672, 1321, 1422, 1423, 2024]            9\n",
       "4     673         [1214, 1271, 1495, 1639, 1996, 2230, 2233]            7\n",
       "5      20            [28, 354, 1281, 1730, 2458, 2657, 3319]            7\n",
       "6     139           [211, 596, 1568, 2112, 2378, 2492, 2686]            7\n",
       "7     533             [911, 912, 916, 917, 1128, 1700, 1961]            7\n",
       "8     886          [546, 1006, 1362, 1605, 1791, 2588, 2613]            7\n",
       "9      83            [141, 145, 672, 1320, 1321, 1422, 2024]            7\n",
       "10     87             [144, 148, 150, 680, 2187, 2238, 2239]            7\n",
       "11     25           [32, 1214, 1271, 1495, 1996, 2230, 2233]            7\n",
       "12    331           [512, 961, 1786, 2698, 2783, 3052, 3240]            7\n",
       "13    358          [561, 1005, 2075, 2616, 2755, 3091, 3264]            7\n",
       "14    276                   [395, 687, 911, 917, 1128, 1961]            6\n",
       "15    476                [790, 1487, 1630, 1639, 2105, 2230]            6\n",
       "16    350                [545, 1394, 1651, 1888, 2098, 2810]            6\n",
       "17    284                [413, 1007, 1612, 2149, 2552, 3102]            6\n",
       "18    118                [181, 1343, 2083, 2133, 2246, 3087]            6\n",
       "19    404                 [641, 646, 1080, 1289, 2122, 2519]            6\n",
       "20     85                   [142, 148, 673, 680, 1839, 2239]            6\n",
       "21    513                  [876, 881, 969, 1315, 1317, 1686]            6\n",
       "22    477                [790, 1487, 1493, 1630, 2105, 2164]            6\n",
       "23    124                [187, 1849, 2251, 2533, 3328, 3344]            6\n",
       "24    117                 [181, 705, 1343, 2246, 2381, 3087]            6\n",
       "25     95                 [152, 678, 1422, 1556, 2024, 2572]            6\n",
       "26     92                [147, 1320, 1422, 1424, 1455, 2024]            6\n",
       "27    421                      [681, 1320, 1842, 2025, 3125]            5\n",
       "28    413                       [667, 872, 1303, 2023, 2071]            5\n",
       "29    403                      [641, 1080, 1289, 2121, 2519]            5\n",
       "30    365                      [575, 1036, 1232, 2442, 2475]            5\n",
       "31    526                        [898, 900, 905, 1121, 1733]            5\n",
       "32    545                      [937, 1431, 2585, 2706, 3088]            5\n",
       "33    527                        [898, 900, 906, 1122, 1733]            5\n",
       "34    415                      [672, 1320, 1422, 1455, 2024]            5\n",
       "35    529                      [903, 1697, 1734, 2466, 2848]            5\n",
       "36    125                       [187, 693, 2251, 2533, 3328]            5\n",
       "37    345                       [541, 728, 1034, 1052, 2094]            5\n",
       "38    550                      [946, 1595, 2313, 2403, 2404]            5\n",
       "39    888                        [16, 947, 1791, 2613, 2623]            5\n",
       "40    296                      [434, 1753, 2557, 2730, 3011]            5\n",
       "41    246                        [339, 492, 876, 2458, 3319]            5\n",
       "42    475                      [790, 1385, 1639, 2105, 2230]            5\n",
       "43     88                       [145, 672, 1320, 1422, 2025]            5\n",
       "44    460                      [765, 1004, 1719, 2666, 2867]            5\n",
       "45     15                        [18, 738, 1618, 2732, 3090]            5\n",
       "46     93                      [147, 1320, 1358, 1424, 1455]            5\n",
       "47    778                     [1487, 1493, 2105, 2164, 3292]            5\n",
       "48    473                      [790, 1625, 2105, 2640, 3012]            5\n",
       "49     21                         [28, 339, 876, 2458, 3319]            5\n",
       "50     90                      [145, 1320, 1422, 2025, 3125]            5\n",
       "51    259                         [364, 365, 368, 371, 2941]            5\n",
       "52     89                      [145, 1320, 1321, 1422, 3125]            5\n",
       "53    441                      [734, 2405, 2898, 2959, 3226]            5\n",
       "54    833                     [1625, 1639, 2105, 2640, 3292]            5\n",
       "55    215                      [290, 1861, 1863, 2920, 3196]            5\n",
       "56    992                     [2196, 2203, 2210, 2674, 3044]            5\n",
       "57    474                      [790, 1625, 1639, 2105, 2640]            5\n",
       "58    615                     [1054, 1169, 1201, 1394, 2828]            5"
      ]
     },
     "execution_count": 21,
     "metadata": {},
     "output_type": "execute_result"
    }
   ],
   "source": [
    "cliques_df[cliques_df['clique_size'] >= 5]"
   ]
  },
  {
   "cell_type": "code",
   "execution_count": 24,
   "metadata": {},
   "outputs": [
    {
     "data": {
      "text/plain": [
       "1867"
      ]
     },
     "execution_count": 24,
     "metadata": {},
     "output_type": "execute_result"
    }
   ],
   "source": [
    "cliqued = set(flatten(list(cliques_df['nodes_list'])))\n",
    "len(cliqued)"
   ]
  },
  {
   "cell_type": "code",
   "execution_count": 25,
   "metadata": {
    "scrolled": true
   },
   "outputs": [
    {
     "name": "stdout",
     "output_type": "stream",
     "text": [
      "Wildfire-ravaged areas of Australia get Christmas respite. An emergency vehicle near a fire in Blackheath, New South Wales (Ingleside Rural Fire Brigade/AP) The wildfire crisis forced Mr Morrison to cut short his much-criticised family holiday in Hawaii. He returned to Australia on Saturday night. “To Andrew and Geoffrey’s parents, we know this is going to be a tough Christmas for you, first one ...\n",
      "Why record wildfires and soaring temperatures won;t sway Australia;s government on climate change. The Australian Government is under fire for inaction on climate change while a bush fire crisis and a heatwave sweeps the country. On Tuesday Australia experienced its hottest day on record with the national average temperature reaching a high of 40.C. Late on Wednesday there were 100 bush fires burning in New South Wales alone, with 54 still ...\n",
      "‘National tragedy’: Hundreds of koalas feared dead in Australian wildfire. Hundreds of koalas are feared to have died in wildfires raging along Australia’s east coast. The fire started on Friday after a lightning strike hit a forest in the state of New South Wales. The blaze has since burned through 4,00 acres. Sharing the ...\n",
      "Koala rescued from wildfires by passerby. A badly-burnt koala is rescued by a brave passerby as it crawled through a wildfire in Australia. The koala, named Lewis, is facing a long recovery. Toni Doherty gave him water and wrapped him in a blanket after finding the injured koala on the Oxley Highway west of the New South Wales state town of Wauchope. The 14-year-old animal was taken to ...\n",
      "Water Thieves Steal 00,000 Litres in Australia as Our Mad Max-Style Future Becomes Reality. Thieves stole roughly 00,000 litres of water in a region of Australia that’s suffering from one of the worst droughts in the history of the country. And with record-breaking heat and bushfires getting even larger, it feels like Australia is living in the future. That future, unfortunately, looks a lot like Mad Max. Police in New South Wales ...\n",
      "Australian PM defends government policy on climate change amid wildfire crisis. Australia’s embattled prime minister has defended his government’s climate policy, as authorities warned the wildfires crisis could fester for months. Around 200 wildfires were burning in four states, with New South Wales accounting for more than half of them, including 60 fires which are not contained. The disaster has led to renewed ...\n",
      "Sydney facing ;catastrophic; threat as Australian state declares wildfire emergency. Residents in Sydney;s suburbs are preparing to evacuate after a quot;catastrophicquot; warning was put in place for the city as wildfires continue to rage across Australia. Ferocious infernos were burning at emergency-level intensity across the nation;s most populous state New South Wales on Tuesday as authorities warned most populations in their paths ...\n",
      "‘National tragedy’: Hundreds of koalas feared dead in Australian wildfire. Hundreds of koalas are feared to have died in wildfires raging along Australia’s east coast. The fire started on Friday after a lightning strike hit a forest in the state of New South Wales. The blaze has since burned through 4,00 acres. Sharing the full story, not just the headlines Sue Ashton, the president of Port Macquarie Koala Hospital ...\n",
      "Thousands of koalas feared dead as massive Australian wildfires destroy habitat. The mid-north coast of New South Wales was home to up to 28,000 koalas, but wildfires in the area in recent months have significantly reduced their population. Koalas are native to Australia and are one of the country’s most beloved animals, but they have been under threat due to a loss of habitat. Smoke rises from wildfires in the Blue ...\n",
      "Thousands of koalas feared to have died in Australian wildfires. The mid-north coast of New South Wales was home to up to 28,000 koalas, but wildfires in the area in recent months have significantly reduced their population. Images shared of koalas drinking water after being rescued from the wildfires have gone viral on social media in recent days. Koalas are native to Australia and are one of the country ...\n",
      "Australia wildfires: Firefighters killed as ;catastrophic; blazes encircle Sydney. Catastrophic conditions fuelled massive bushfires across New South Wales in Australia on Saturday, with two blazes around Sydney burning at emergency level. In South Australia one person was found dead in a fire zone, following the deaths of two firefighters in New South Wales on Thursday. Some major roads heading to the south and west from ...\n"
     ]
    }
   ],
   "source": [
    "for node in cliques_df.iloc[0]['nodes_list']:\n",
    "    article = nouns_df.reset_index().iloc[node]\n",
    "    print(article['clean_text'])"
   ]
  },
  {
   "cell_type": "code",
   "execution_count": 26,
   "metadata": {
    "scrolled": true
   },
   "outputs": [
    {
     "name": "stdout",
     "output_type": "stream",
     "text": [
      "Three cows presumed dead after being swept away by Hurricane Dorian are found alive months later. Three cows swept off an island of North Carolina during the raging storm of Hurricane Dorian have been found alive months later, after reportedly swimming for several miles. They were grazing on their home of Cedar Island when the severe weather hit ...\n",
      "Three cows swim five miles to safety after being swept out to sea in hurricane. The cows were swept away from Cedar Island, in North Carolina, US, by a ;mini-tsunami; caused by Hurricane Dorian - and were lucky not to have been dragged to their deaths in the Atlantic\n",
      "Cows swept away by Hurricane Dorian found alive in North Carolina. Three cows swept off an island in North Carolina during Hurricane Dorian have been found alive after apparently swimming for several miles. The cows belong to a herd on the US state;s Cedar Island but were swept away in September by a quot;mini tsunamiquot; generated by Dorian. They were presumed dead until they were spotted at the Cape Lookout ...\n",
      "Cows swept out to sea by hurricane found alive after swimming for several miles. Three cows swept off an island in North Carolina during Hurricane Dorian that were believed to have drowned have turned up safe and well on another island two months later, after apparently swimming several miles to safety. The animals came from a larger herd living on Cedar Island, off the east coast of the US, and were swept away during a ...\n",
      "Cows swept away by Hurricane Dorian found after ‘swimming four miles’ to island. Three cows presumed dead after being swept out to sea by Hurricane Dorian have been found on North Carolina’s Outer Banks having apparently swum several miles to safety. The intrepid bovines were part of a herd living on the sands of Cedar Island when the storm struck in September, creating what has been described as a “mini tsunami” that ...\n",
      "Cows survived Hurricane Dorian by swimming for miles. Three cows swept off an island during Hurricane Dorian have been found alive after apparently swimming for several miles. The cows, part of a herd on the US state;s Cedar Island, were swept away in September by a “mini tsunami” in North Carolina. They were presumed dead until they were discovered in a park. They “certainly have a ...\n",
      "Cows survived Hurricane Dorian by swimming for miles. Three cows swept off an island during Hurricane Dorian have been found alive after apparently swimming for several miles. The cows, part of a herd on the US state;s Cedar Island, were swept away in September by a “mini tsunami” in North Carolina.\n",
      "Three cows presumed dead after being swept away by Hurricane Dorian are found alive months later. Three cows swept off an island of North Carolina during the raging storm of Hurricane Dorian have been found alive months later, after reportedly swimming for several miles. They were grazing on their home of Cedar Island when the severe weather hit, sweeping away wildlife from the island’s herd on September 6. The cows were presumed dead ...\n",
      "Cows swept away by Hurricane Dorian found alive in North Carolina. Three cows swept off an island in North Carolina during Hurricane Dorian have been found alive after apparently swimming for several miles. The cows belong to a herd on the US state;s Cedar Island but were swept away in September by a quot;mini tsunami ...\n",
      "Cows swept away by Hurricane Dorian found after ‘swimming four miles’ to island. Three cows presumed dead after being swept out to sea by Hurricane Dorian have been found on North Carolina’s Outer Banks having apparently swum several miles to safety. The intrepid bovines were part of a herd living on the sands of Cedar Island when ...\n"
     ]
    }
   ],
   "source": [
    "for node in cliques_df.iloc[1]['nodes_list']:\n",
    "    article = nouns_df.reset_index().iloc[node]\n",
    "    print(article['clean_text'])"
   ]
  },
  {
   "cell_type": "code",
   "execution_count": 27,
   "metadata": {
    "scrolled": true
   },
   "outputs": [
    {
     "name": "stdout",
     "output_type": "stream",
     "text": [
      "Typhoon Kammuri slams into Philippines, forcing thousands to flee. Typhoon Kammuri has made landfall in the central Philippines, at the southern end of Luzon island. At least 200,000 residents have been evacuated from coastal and mountainous areas over fears of flooding, storm surges and landslides. Some events at the ...\n",
      "Typhoon Kammuri update: Brutal tropical storm slams into Philippines as heavy rains ensue. JUST IN: Typhoon Kammuri update: Huge storm heading straight for Philippines The Philippines operates a domestic five-level scale when grading typhoons and their severity. Five areas have been placed under Tropical Cyclone Warning Signal No , and the ...\n",
      "Typhoon Kammuri: At least four dead as storm hammers Philippines. At least four people have been killed after Typhoon Kammuri slammed into the Philippines. Hundreds of thousands of people were evacuated from high-risk villages while Manilla;s international airport was shut on Tuesday as fierce winds and rain hit the country.\n",
      "Driver gets stuck in river after Typhoon Kammuri in the Philippines. People in a car have been rescued after the vehicle got stuck in a raging river on its way to deliver aid to the victims of the recent Typhoon Kammuri in the Philippines.\n",
      "Typhoon Kammuri slams into Philippines, forcing thousands to flee. Typhoon Kammuri has made landfall in the central Philippines, at the southern end of Luzon island. At least 200,000 residents have been evacuated from coastal and mountainous areas over fears of flooding, storm surges and landslides. Some events at the Southeast Asian Games, which opened on Saturday, have been cancelled or re-scheduled.\n",
      "Typhoon Kammuri forecast for direct hit on Philippines with 150mph winds and 16in of rain. Typhoon Kammuri is rapidly intensifying and is expected to approach the Philippines through the weekend. The monster storm could deliver dangerous impacts during the first week of December. Metdesk company WXCharts tweeted: “Typhoon Kammuri is headed directly for the Philippines after the weekend, potentially as a super typhoon, just as the ...\n",
      "Typhoon Kammuri update: Brutal tropical storm slams into Philippines as heavy rains ensue. JUST IN: Typhoon Kammuri update: Huge storm heading straight for Philippines The Philippines operates a domestic five-level scale when grading typhoons and their severity. Five areas have been placed under Tropical Cyclone Warning Signal No , and the Metro Manila has been placed under Signal No 2. A number of schools across the Philippines ...\n",
      "Typhoon Kammuri: At least four dead as storm hammers Philippines. At least four people have been killed after Typhoon Kammuri slammed into the Philippines. Hundreds of thousands of people were evacuated from high-risk villages while Manilla;s international airport was shut on Tuesday as fierce winds and rain hit the country. Four people have reportedly died so far and several others have been injured.\n",
      "Typhoon Kammuri slams into Philippines, forcing thousands to flee. Typhoon Kammuri has made landfall in the central Philippines, at the southern end of Luzon island. Some 200,000 residents have been evacuated from coastal and mountainous areas over fears of flooding, storm surges and landslides. Operations at Manila international airport will be suspended for 12 hours from Tuesday morning. Some events at the ...\n"
     ]
    }
   ],
   "source": [
    "for node in cliques_df.iloc[3]['nodes_list']:\n",
    "    article = nouns_df.reset_index().iloc[node]\n",
    "    print(article['clean_text'])"
   ]
  },
  {
   "cell_type": "code",
   "execution_count": 28,
   "metadata": {
    "scrolled": true
   },
   "outputs": [
    {
     "name": "stdout",
     "output_type": "stream",
     "text": [
      "Road closed due to fallen tree as further flood alerts issued. quot;We will organise removal of the tree as soon as possible. Please plan your journey and use alternative routes in the meantime.quot; Meanwhile a number of Environment Agency flood alerts remain in force in Staffordshire - including on the Rivers Sow and Penk in Stafford Borough and the Churnet, Tean and Upper Dove in the Staffordshire Moorlands.\n",
      "Flood alert and weather warning in force for areas of Staffordshire. A flood alert and a weather warning are in force for different areas of Staffordshire as rainfall is expected across the region. The Met Office are currently forecasting rain, which could be heavier in the hills, throughout today (Saturday November 2). The Environment Agency flood alert, which covers the Rivers Sow and Penk in Stafford Borough ...\n",
      "Flood alert remains in force as further rain expected in Staffordshire. A flood alert remains in force for two rivers around Stafford Borough this evening (Wednesday November 1). The alert, which means flooding is possible, has been issued by the Environment Agency for the Rivers Sow and Penk in Stafford Borough. The alert adds that further rainfall is possible on Thursday. The Environment Agency alert states ...\n",
      "Flood alerts in force for rivers across Staffordshire following heavy rain. Flood alerts have been issued for a number of rivers in Staffordshire following heavy rain. As of 7.50am this morning the Environment Agency has the following flood alerts in force across the region. The Rivers Churnet and Tean in the Moorlands The Sow and Penk in Stafford Borough The Upper Dove in the Moorlands The Met Office forecast a ...\n",
      "Flood alerts in force for rivers across Staffordshire following heavy rain. Flood alerts have been issued for a number of rivers in Staffordshire following heavy rain. As of 7.50am this morning the Environment Agency has the following flood alerts in force across the region. The Rivers Churnet and Tean in the Moorlands The Sow and ...\n",
      "Road closed due to fallen tree as further flood alerts issued. Please plan your journey and use alternative routes in the meantime.quot; Meanwhile a number of Environment Agency flood alerts remain in force in Staffordshire - including on the Rivers Sow and Penk in Stafford Borough and the Churnet, Tean and Upper Dove in ...\n"
     ]
    }
   ],
   "source": [
    "for node in cliques_df.iloc[17]['nodes_list']:\n",
    "    article = nouns_df.reset_index().iloc[node]\n",
    "    print(article['clean_text'])"
   ]
  },
  {
   "cell_type": "markdown",
   "metadata": {},
   "source": [
    "### Connected components"
   ]
  },
  {
   "cell_type": "code",
   "execution_count": 32,
   "metadata": {},
   "outputs": [
    {
     "data": {
      "text/plain": [
       "877"
      ]
     },
     "execution_count": 32,
     "metadata": {},
     "output_type": "execute_result"
    }
   ],
   "source": [
    "nx.number_connected_components(G)"
   ]
  },
  {
   "cell_type": "code",
   "execution_count": 33,
   "metadata": {},
   "outputs": [],
   "source": [
    "components = [component for component in nx.connected_components(G)]"
   ]
  },
  {
   "cell_type": "code",
   "execution_count": 34,
   "metadata": {
    "scrolled": true
   },
   "outputs": [
    {
     "data": {
      "text/plain": [
       "1867"
      ]
     },
     "execution_count": 34,
     "metadata": {},
     "output_type": "execute_result"
    }
   ],
   "source": [
    "sum([len(component) for component in components])"
   ]
  },
  {
   "cell_type": "markdown",
   "metadata": {},
   "source": [
    "### Community Detection Algorithm"
   ]
  },
  {
   "cell_type": "code",
   "execution_count": 35,
   "metadata": {},
   "outputs": [],
   "source": [
    "from community import best_partition"
   ]
  },
  {
   "cell_type": "code",
   "execution_count": 36,
   "metadata": {},
   "outputs": [],
   "source": [
    "# Apply Louvain Community Detection\n",
    "# The keys are nodes, the values are the partitions they belong to\n",
    "partition = best_partition(G)\n",
    "\n",
    "number_partitions = max(partition.values())\n",
    "number_partitions"
   ]
  },
  {
   "cell_type": "code",
   "execution_count": 50,
   "metadata": {},
   "outputs": [],
   "source": [
    "# Iterate through and get a list of partitions and their nodes\n",
    "partition_contents = {}\n",
    "for key in partition.keys():\n",
    "    partition_contents[partition[key]] = partition_contents.get(partition[key], []) + [key]\n",
    "\n",
    "# Drop partitions that are too small\n",
    "for key in list(partition_contents.keys()):\n",
    "    if len(partition_contents[key]) < 5:\n",
    "        partition_contents.pop(key)"
   ]
  },
  {
   "cell_type": "code",
   "execution_count": 53,
   "metadata": {},
   "outputs": [
    {
     "name": "stdout",
     "output_type": "stream",
     "text": [
      "[38, 57, 24, 41, 27, 26, 15, 7, 14, 12, 26, 12, 6, 12, 60, 16, 58, 7, 24, 26, 8, 8, 14, 24, 6, 9, 6, 5, 5, 15, 7, 9, 7, 7, 5, 7, 7, 5, 5] 667\n"
     ]
    }
   ],
   "source": [
    "# Let's see how big our \"clusters\" are, and how many there are total after removing the tiny ones\n",
    "partition_lengths = [len(value) for key, value in partition_contents.items()]\n",
    "print(partition_lengths, sum(partition_lengths))"
   ]
  },
  {
   "cell_type": "code",
   "execution_count": 56,
   "metadata": {},
   "outputs": [
    {
     "data": {
      "text/plain": [
       "dict_keys([2, 9, 11, 14, 15, 17, 19, 26, 27, 46, 63, 64, 67, 73, 79, 83, 84, 85, 99, 100, 101, 106, 121, 126, 168, 176, 185, 193, 212, 213, 222, 251, 262, 269, 314, 327, 328, 360, 439])"
      ]
     },
     "execution_count": 56,
     "metadata": {},
     "output_type": "execute_result"
    }
   ],
   "source": [
    "partition_contents.keys()"
   ]
  },
  {
   "cell_type": "code",
   "execution_count": 58,
   "metadata": {},
   "outputs": [
    {
     "name": "stdout",
     "output_type": "stream",
     "text": [
      "Flood Warnings issued for River Severn as Environment Agency says immediate action required. Heavy rain has seen the Environment Agency put Flood Warnings on stretches of the River Severn in Gloucestershire. It says river levels are expected to remain high until Wednesday and flooding is expected and immediate action required. The Flood Warnings are in place for the River Severn at Apperley and The Leigh and on the River Severn at ...\n",
      "Five Flood Warnings on River Severn as Met Office has its say on forecast for rain in Gloucestershire. The Environment Agency has warned of flooding along the River Severn through Gloucestershire after heavy rainfall and high tides. There are five Flood Warnings in force on Tuesday morning, which means flooding is expected and immediate action required. River levels are expected to remain high until Wednesday, when the Met Office says more rain ...\n",
      "Flood Warnings in Gloucestershire: When peak levels are due and how high water will rise. River levels in Gloucestershire are set to rise over the next few days, even though little substantial rain is forecast. It means the Environment Agency has put Flood Warnings on stretches of the River Severn in the county, as well as numerous warnings in the surrounding region. Today, part of the A417 at Maisemore could be closed along with ...\n",
      "Move family, pets and cars to safety: Warning to people in Gloucestershire flood zone. People living in a Flood Warning area in Gloucestershire have been told to take action to protect themselves, their pets, and their property. The Flood Warning from the Environment Agency for the River Severn at Ashleworth, north of Gloucester, was updated at 2.55am on Monday. It says river levels are peaking at the nearby Haw Bridge river ...\n",
      "Updates: Flood Warnings, closed roads, traffic and weather updates. Two Flood Warnings remain in force in Gloucestershire on Friday morning as the county almost completes its recovery from the heavy rain of last week. The warnings - which mean flooding is expected, immediate action required - are in place for the River Severn at Apperley and The Leigh and at Severn Ham, Tewkesbury. Flood Alerts – which mean ...\n",
      "LIVE: Closed roads, flood warnings and the latest weather and traffic for Gloucestershire. Roads are still closed due to flooding and the Environment Agency has Flood Warnings in place in Gloucestershire on Monday. It means we are in to the fifth day of disruption caused by heavy rain that was unleashed on Thursday. This morning, the A417 at Maisemore is reported closed due to flooding between the A40 (Over roundabout) and White Hart ...\n",
      "Flooding On Isle Of Wight Possible Until Thursday. A Flood Alert’s still in place for the Isle of Wight and the next update’s at 4pm today (Wednesday). Yarmouth, East Cowes and Cowes are the areas most at risk. A spokesperson for the Environment Agency said, “Wednesday morning’s tide at 11:07 is higher than normal due to ex Storm Sebastien which brings strong South Westerly Force 7 ...\n",
      "Britain faces carrot shortage after flooding destroys crops. They say that flooding in northern England and the Midlands means producers have been unable to lay down straw to protect their crops from frost. More than half to the UK’s supplies have been affected in areas including Lincolnshire, Nottinghamshire, Yorkshire, Shropshire and Lancashire. Carrot growers are continuing to harvest the vegetable ...\n",
      "Flood warnings still in place as Met Office predicts freezing weather forecast for Sheffield. The Environment Agency has issued 70 flood warnings as of 6.4am on Sunday, meaning flooding is expected and immediate action is required. The rivers Severn and Avon have burst their banks leaving properties waterlogged in Gloucestershire and Worcestershire, while residents in the Midlands and Yorkshire are still battling to clear their homes.\n",
      "Storm Sebastien: Several flood warnings in place across UK due to ;remnants of tropical storm;. Flood-ravaged areas in the UK are bracing for more heavy rain over the next five days as Storm Sebastien gets set to hit. The storm, which formed in the tropical Atlantic last week, is moving northeastwards and looks set to affect the UK by midweek, Sky reports. Sky News weather presenter Isobel Lang said: quot;More rain is forecast this week with ...\n",
      "UK weather forecast – Storm Sebastien to lash Britain triggering 5 flood alerts. STORM Sebastien is set to lash Britain with heavy rain, sparking 5 flood alerts. The Met Office has issued two separate yellow weather warnings for Thursday as the 00-mile-wide storm has continued to wreak havoc on the UK;s today. Parts of Scotland, North East England and Yorkshire are bracing for up to 40mm of rainfall. More than half a ...\n",
      "Growers battle to salvage flood-hit maize crops. See also: Farm flood victims to get business rates relief Tim Russon, who runs a contracting service across Lincolnshire, Nottinghamshire and Yorkshire, says much of the maize in his area has long gone past the foraging stage. There are very few alternative options left, he adds. “One of these is to harvest and crimp the grain which will ...\n",
      "UK weather warnings: Floods expected after arctic air causes COLDEST night of year. The government has implemented 81 flood alerts and 45 flood warnings this Monday morning. The areas of Lincolnshire, Yorkshire and the places surrounding the rivers Severn and Avon in Gloucestershire are particularly at risk. The Met Office tweeted: “It’s the joint coldest night of the season so far, with Tulloch Bridge falling to -8.1 °C ...\n",
      "UK weather: 66 flood warnings in place as ;chaos could continue until Tuesday;. Swathes of the country remain underwater as experts warn the flood chaos could continue until Tuesday. 66 flood warnings and 6 flood alerts remained in place on Sunday morning, meaning flooding is expected and immediate action is required. The rivers Severn and Avon have burst their banks leaving properties waterlogged in Gloucestershire and ...\n",
      "Flood warnings still in effect across England, but relief from rain forecast. Large parts of the country remain mired in floods as experts warn the chaos could continue until Tuesday. The Environment Agency has issued 70 flood warnings as of 6.4am on Sunday, meaning flooding is expected and immediate action is required. The rivers Severn and Avon have burst their banks leaving properties waterlogged in Gloucestershire ...\n",
      "Midlands floods chaos to continue until Tuesday - but there;s some good news too. The rivers Severn and Avon have burst their banks leaving properties waterlogged in Gloucestershire and Worcestershire, while residents in the Midlands and Yorkshire are still battling to clear their homes Large parts of the country remain mired in floods as experts warn the chaos could continue until Tuesday. The rivers Severn and Avon have ...\n",
      "UK weather: Flooding chaos as northern England warned of further misery. The flooding which has brought chaos and misery to large parts of the UK is expected to last until Tuesday, according to the Environment Agency (EA). Homes in Gloucestershire and Worcestershire were left waterlogged over the weekend after the rivers Severn and Avon burst their banks. Drone footage revealed the extent of the flood around the ...\n",
      "Huge swathes of Britain are STILL under water with 14 areas at risk of more flooding. Large parts of the country remain mired in floods as experts warn the chaos could continue until Tuesday. The Environment Agency has issued 56 flood warnings as of pm , meaning flooding is expected and immediate action is required. There are a further 1 alerts, which show that flooding is possible. The rivers Severn and Avon have burst ...\n",
      "RECAP: Snow and flooding hits Gloucestershire with schools and roads closed and rail lines blocked. You can see a dedicated Thursday evening rush-hour traffic blog here, including the closure of the A40 at Highnam. Snow caused long delays for motorists heading out on the A417, especially from the Air Balloon roundabout, through Birdlip and on to Cowley and Cirencester. The white stuff fell in the Cotswolds, Stroud and the Forest of Dean and ...\n",
      "A417 closed near Gloucester and A40 as flood waters rise. A stretch of the A417 on a major commuter route in Gloucestershire is closed due to flooding. Rising flood water means the road from the A40 at Over, on the edge of Gloucester, is closed up to the White Hart Inn at Maisemore. The closure of this part of the A417, north of the city, had been on the cards since heavy rain on Thursday and it was ...\n",
      "LIVE: M5 updates, Met Office forecasts, M6 incident in West Mildands, and flooding latest in Gloucestershire. Road users may wish to consider alternative routes and are advised to allow extra time for their journey. B421 closed, delays due to flooding at Haw Bridge. A8 COLE AVENUE - GLOUCESTER - OUTBOUND - GLOUCESTERSHIRE Queueing traffic on A8 Cole Avenue outbound between A417 Stroud Road / B4072 Stroud Road / Reservoir Road and A40 Bristol Road ...\n",
      "A417 closed near Gloucester and A40 as flood waters rise. A stretch of the A417 on a major commuter route in Gloucestershire is closed due to flooding this morning. Rising flood water means the road from the A40 at Over, on the edge of Gloucester, is closed up to the White Hart Inn at Maisemore for the Monday rush-hour. The closure of this part of the A417, north of the city, had been on the cards ...\n",
      "UK weather forecast – Storm Sebastien to lash Britain with 22ft waves and a month’s rain bringing more floods misery. BRITAIN is braced for more floods as a 00 mile-wide tropical storm brings 22ft waves, three inches; rain and 50mph gales across the country. Storm Sebastien will buffet the South on Tuesday after spinning north from the Azores, with waves up to 22ft on South-West coasts. Storm Sebastien is set to hit the south-west of England and south Wales ...\n",
      "Ex Storm Sebastien Brings Flooding And Force Seven Winds To Isle Of Wight. A Flood Alert’s in place for the Isle of Wight today (Wednesday) due to ex Storm Sebastien’s strong South Westerly Force 7 winds. Following a higher tide than usual yesterday (Tuesday) the ...\n",
      "UK weather forecast – Flood alerts as Storm Sebastien to lash UK with 22ft waves and a month’s rain. UK weather forecast: Storm Sebastien is set to hit the south-west of England and south Wales tomorrow before moving northeastwardsCredit: Ventusky The Met Office forecast gales in the South and up to three inches; rain between today and Wednesday in the South and flood-hit North-East. Storm Sebastien is set to hit the south-west of England and ...\n",
      "Weather forecast MAPPED: ‘Danger to life’ floods to lash Britain as Storm Sebastien hits. The Met Office has issued a series of yellow weather warnings for rain over the coming days as the remnants of post-tropical cyclone Sebastien is forecast to move across the country. By Wednesday, the already hardest hit flooded areas of Britain will face further risks of “danger to life” flooding. According to the NOAA’s National ...\n",
      "RECAP: Flooding, M5, traffic and weather updates for Gloucestershire as A417 finally reopens. On the roundabout. River levels are high but falling at the Haw Bridge river gauge. Consequently, flooding of property, roads and farmland is expected to continue. Flooding is predicted to affect Gabb Lane at Apperley and local caravan parks. Haw Bridge peaked on Sunday and is now falling slowly. No further significant rainfall is expected ...\n",
      "Flood Warning No Longer In Force On Isle Of Wight. A Flood Warning is no longer in force on the Isle of Wight. The Environment Agency says tide levels are lower over the next week- which will result in no further impacts expected. A spokesperson ...\n",
      "Flood Warning No Longer In Force On Isle Of Wight. A Flood Warning is no longer in force on the Isle of Wight. The Environment Agency says tide levels are lower over the next week- which will result in no further impacts expected. A spokesperson said, “The lunchtime tide today at Cowes (11:07 on 27/11/201) came on forecast at 2.7m AOD. Over the next week, tide levels are significantly lower ...\n",
      "UK weather forecast: 8 flood alerts as Storm Sebastien lashes Britain with MORE heavy rain. STORM Sebastien continues to lash the UK with heavy rain today - triggering 8 flood alerts across the country. The Met Office has issued two separate yellow weather warnings for Thursday as the 00-mile-wide storm continues to wreak havoc this week. Parts of Scotland, North East England and Yorkshire are bracing for up to 40mm of rainfall ...\n",
      "Met Office warns of floods and disruption in North East as yellow weather warning is issued. A yellow weather warning has been issued for the North East which could be battered by quot;persistent rainquot;. The Met Office warning is in place from 6am on Wednesday to 6am on Thursday and there is a risk of flooding in the region. There are several more severe flood warnings in place further South in the UK. The North East warning covers ...\n",
      "Flooding On Isle Of Wight Possible Until Thursday. A Flood Alert’s still in place for the Isle of Wight and the next update’s at 4pm today (Wednesday). Yarmouth, East Cowes and Cowes are the areas most at risk. A spokesperson for the ...\n",
      "A40 traffic nightmare with five mile queues and 45 minute delays due to A417 flood closure. There are huge delays heading into Gloucester on the A40 as the A417 closure at the Over roundabout continues to have a big impact on the morning commute. Motorists are facing up to 45 minutes additional journey time as they travel east along the A40 from Birdwood towards the Over roundabout. Queues of up to five miles are being reported ...\n",
      "Monday afternooon update on roads still closed due to flooding in Gloucestershire. Low lying roads near the River Severn and River Avon are still affected by flooding and some roads in South Cerney and Cerney Wick have been affected by the River Churn, the council said. The council said: quot;Teams have been working on clearing drains and culverts and signing locations where roads have been closed. Crews and gully emptying ...\n"
     ]
    },
    {
     "name": "stdout",
     "output_type": "stream",
     "text": [
      "Flooding fear over Gloucester homes plan near River Severn. Plans to build 2,000 homes in a flood risk area near the River Severn are quot;crazyquot; and should be revised, campaigners have said. Outline permission has been granted for land between Innsworth and Twigworth in Gloucester. Chris Witts, of Severn and Avon Valley Combined Flood Group, said developers should cover insurance costs. Developers Bovis ...\n",
      "Tuesday road closures due to flooding: how much longer until these Gloucestershire routes reopen?. River levels are slowly falling in Gloucestershire but there are still a number of roads affected on Tuesday by flooding - most notably the A417 at Maisemore to the Over roundabout. The majority of the highway network across the county is now clear, but there is still flooding of low lying roads near the River Severn and River Avon in the north ...\n",
      "Flooding fear over Gloucester homes plan near River Severn. Plans to build 2,000 homes in a flood risk area near the River Severn are quot;crazyquot; and should be revised, campaigners have said. Outline permission has been granted for land between Innsworth and Twigworth in Gloucester. Chris Witts, of Severn and Avon ...\n",
      "LIVE: M5 updates, Met Office forecasts, traffic and flooding updates in Gloucestershire and beyond. Welcome to the live blog for Monday, December 2, 201 as the build up to Christmas gathers pace. If you;re commuting into work, heading off the see family or friends, or hitting the shops, we;ll try to keep you moving. And we will keep a close eye on the M5, the M4 and M50 throughout our region. With many people making longer journeys, we;ll ...\n"
     ]
    }
   ],
   "source": [
    "for node in partition_contents[2]:\n",
    "    article = nouns_df.reset_index().iloc[node]\n",
    "    print(article['clean_text'])"
   ]
  },
  {
   "cell_type": "code",
   "execution_count": 59,
   "metadata": {},
   "outputs": [
    {
     "name": "stdout",
     "output_type": "stream",
     "text": [
      "UK weather: Up to 10cm of snow threatens weekend chill amid fresh flood warnings. The Met Office has said parts of Central and Northern England, Scotland and Wales could experience heavy flurries of sleet and snow on Saturday, with temperatures plummeting\n",
      "UK weather forecast: Snow blast of up to two inches to hit amid ;danger to life; floods. The Met Office has issued a rain warning for south-west England and south Wales today, with snowfall possible in these areas\n",
      "UK weather forecast: Met Office give its verdict on snow for the general election. WX Charts showed that up to one inch of snow could fall every hour in places next week with as much as 12 inches falling on high ground in northern Scotland\n",
      "UK weather forecast – Snow, ice and 70mph winds to batter Britain this week, Met Office warns. WIND gusts of up to 70mph are expected for the west of the UK this week and forecasters are warning of the potential for transport disruption. The Met Office has issued five weather warnings for this week - and Northern Ireland, Wales and western parts of Scotland and England are set to bear the brunt of the gales and wet weather. Heavy rain is ...\n",
      "UK weather forecast – Met Office issues SEVERE ice warning as snow blankets North and Wales. BRITS are set to shiver tonight as temperatures plummet to -8C, bringing freezing fog and more snow showers to some regions. The Met Office has issued severe ice warnings across Scotland, the north of England and Wales until Monday morning, when more wind and rain showers are expected. Weather forecasters say temperatures could plunge as low as ...\n",
      "UK weather: Up to 10cm of snow threatens weekend chill amid fresh flood warnings. The Met Office has said parts of Central and Northern England, Scotland and Wales could experience heavy flurries of sleet and snow on Saturday, with temperatures plummeting\n",
      "UK weather forecast: Warnings issued for five days as flood-hit areas brace for more rain. More torrential rain is forecast to hit the UK over the coming days, bringing further misery to already flooded areas. As Saturday’s rain cleared north into Scotland and northern England, southwest England and south Wales are preparing for downpours – with yellow weather warnings in place in the region from Sunday until Wednesday. Met ...\n",
      "Get ready for week-long washout as Met Office warns of ‘danger to life’ floods. ‘There are likely to be some impacts.’ A month’s worth of rain fell in the South-West and North-East of England on Saturday causing flash floods. Firefighters in Devon and Cornwall warned drivers to stay away from flooded roads after a number of calls overnight to stranded cars. Images showed areas such as Clyst St Mary in Exeter after ...\n",
      "UK weather forecast: Met Office issues ‘danger to life’ warning as flood-hit areas brace for more rain. Flood-hit areas in south Yorkshire are bracing for yet more rain as wintry weather that has lashed England’s southwest moves north. The Met Office has warned of additional and possibly life-threatening flooding on Thursday and Friday, which may cause some already-waterlogged places to be cut off and result in power cuts. A yellow-level ...\n",
      "Weather forecast today – Five warnings for ice, gales, fog, rain and flooding in day of weather chaos. FORECASTERS warn that ice, gales, fog, rain and flooding will hit the country today as Brits brace themselves for wild weather. The Met Office issued five weather warnings for the UK today and said flooding is likely in south-west England and parts of the Midlands. And the outlook doesn’t look any better for the rest of the week, as weather ...\n",
      "UK weather forecast: Met Office flood warning as Brits brace for 5 days of rain. The Met Office has issued yellow weather warnings from Sunday until Wednesday, with Scotland, northern England, the south-west and the East Midlands all expected to be hit by a winter deluge\n",
      "UK weather forecast: Met Office issues warning over heavy rain and flooding. The Met Office has told Brits to prepare for severe weather including more than two inches of rain, flooding of homes and roads, and gales of up to 70mph\n",
      "UK weather forecast – Met Office issues flood warning as Brits are set for ‘wet and wild’ election day. The Met Office issued a yellow wind warning for large swathes of the North West - rocked by 8mph gales yesterday - as well as a severe flood warning. The stronger gusts are expected to lash coastal areas - with 50mph expected inland. It could cause travel chaos and leave homes without power, with delays to road, rail, air and ferry transport ...\n",
      "UK weather: Heavy snow set to fall tomorrow as Met Office issues large ice warning. The Met Office has issued a yellow ice warning across the country, while pockets of snow may fall overnight in some rural areas with drivers warned of treacherous conditions\n",
      "UK weather forecast – Met Office warns of torrential rain and flood alerts as icy temperatures grip Britain. FLOOD alerts are in place across Britain as the Met Office warns of torrential rain and icy temperatures set to hit the country in the coming days. Thermometers could plunge as low as 4C at the start of next week, while flood weather warnings are in place in Scotland and across England. The Environment Agency has said that high levels on the ...\n",
      "UK weather forecast – Met Office warns of torrential rain and flood alerts as icy temperatures grip Britain. FLOOD alerts are in place across Britain as the Met Office warns of torrential rain and icy temperatures set to hit the country in the coming days. Thermometers could plunge as low as 4C at the start of next week, while flood warnings are in place in Scotland and across England. The Environment Agency has said that high levels on the River ...\n",
      "WEATHER: Snow and ice warning issued for East Lancashire. A WEATHER warning of snow and ice has been issued for East Lancashire. The Met Office has announced snow is likely to move eastwards across northern parts of the UK today with higher areas more likely affected between 6am and 6pm. A Met Office spokesman said: quot;In addition, rain may fall onto frozen surfaces for a time following a very cold night.\n",
      "Snow and sleet in northern England but rain expected in west. Parts of northern England have woken to a dusting of snow while the western areas of the UK are in for a wet afternoon. Met Office forecaster Matthew Box said snow has fallen across western parts of Scotland and northern England overnight with showers ...\n",
      "Election week could be hit with snow and freezing fog, say Met Office. SNOW and freezing fog could be on the cards for next week;s General Election. Temperatures will dive to sub-zero levels in some parts of the UK as winter really sets in, coinciding with voters heading to the polls, the Met Office has said. Election week is predicted to see longer spells of rain, wintry showers and harsh winds, meteorologists say.\n",
      "Flood warnings near me: Is YOUR area affected as nearly 200 alerts in place. Flood and weather warnings are currently in place for parts of the UK, as a concoction of blustery wind and rain batters the country. Both the Met Office and Environment Agency have issued several notices amid the rain, as hundreds of locations around the country could see flooding today. Where are flood alerts in the UK? According to the ...\n",
      "Election week could be hit with snow and freezing fog, say Met Office. SNOW and freezing fog could be on the cards for next week;s General Election. Temperatures will dive to sub-zero levels in some parts of the UK as winter really sets in, coinciding with voters heading to the polls, the Met Office has said. Election week is ...\n",
      "Met Office warning for 70mph winds - with SNOW on the way next week. The Met Office has issued a yellow weather warning for wind from pm on Sunday and say Dartmoor and Exmoor could get a sprinkling of the white stuff on Wednesday\n",
      "UK snow weather warning: Coldest night of autumn to come as temperatures PLUMMET. And according to the latest weather forecasts, plummeting temperatures could mean the UK will be seeing more snow in the following week. Met Office spokeswoman Sophie Yeomans said early Tuesday morning could be the “coldest night of the autumn so far.” She said: “It is still quite chilly this weekend and we will all have some chilly starts.\n",
      "UK weather forecast – Met Office warns SNOW to hit Britain on Election Day. Fears over snow and with a drop in temperatures and reduced daylight hours has raised concerns that this year;s General Election could see lower turnout than the 68.7 per cent achieved in 2017. However, despite worries about a reduced turnout, experts say there is no evidence to show that bad weather in the UK stops people from voting.\n",
      "White Christmas odds slashed as snow covers parts of UK and Met Office issue warning. The odds of a white Christmas have been slashed as snow blankets the UK. The Met Office has issued a severe ice warning for parts of the north as temperatures plunged to -8C in some places last night. And it seems the weather has caused for bookmakers to slash the odds on snow falling on December 25. Coral has the odds at 10/11 for the UK ...\n",
      "UK flood warning map – latest alerts for Tonbridge, Somerset and Cornwall. BRITAIN has more than 200 flood alerts and warnings in place - with residents told to prepare for travel delays. So where is it flooding in the UK, which regions currently have flood warnings in place and how can you find out if your town is at risk? Here;s the latest. The Met Office has issued weather warnings for wind and rain across the ...\n",
      "Cars ;stranded; on Somerset roads due to snow causing chaos. Cars have been left stranded on roads due to sleet and snow falling across Somerset today (November 14). The Met Office has issued warnings for the snow for central Wales, Bristol, Bath, Somerset and Gloucestershire. And it appears the snow caught out a number of motorists after the Met Office issued an unexpected weather warning. Avon and ...\n",
      "Met Office issues yellow weather warning for snow just outside Bristol including M4. The snow is expected to last until 10am today (Thursday 14 November), with the warning including Keynsham and Yate\n",
      "Met Office issue Hampshire weather warning with risk of flooding. THE MET Office has issued a yellow weather warning for Hampshire for the upcoming week. The warning is for spells of persistent heavy rain which will bring the threat of potential flooding. The warning is in place from midnight on Tuesday November 26 until pm on Wednesday 27. During this period the Met Office warn that journey times on ...\n",
      "Met Office issue Hampshire weather warning with risk of flooding. The warning is in place from midnight on Tuesday November 26 until pm on Wednesday 27. During this period the Met Office also warned public transport could be affected and that homes and business are at risk of potential flooding. The warning affects most of the south coast – including Portsmouth – as well as parts of Somerset ...\n",
      "Rain expected to cause flooding in Reading and West Berkshire. HEAVY rain is expected to hit areas across Reading from tomorrow morning until Thursday. The Met Office has issued a yellow weather warning for persistent rain expecting to bring disruption from flooding. The warning is in place from6am tomorrow (November 2 and all day tomorrow until 11.45pm. Driving on the roads may be more difficult due to ...\n",
      "UK weather forecast: Snow blizzards and heavy showers hit country as temperatures plummet. Snow blizzards and heavy showers have hit parts of the UK with temperatures plummeting across the country. The Met Office has said more snow could fall over the course of the weekend, while a number of weather warnings for ice have also been issued, covering a large part of Scotland and northern England as well as in northern Wales and Northern ...\n",
      "UK weather forecast: Snow blizzards and heavy showers hit country as temperatures plummet. Snow blizzards and heavy showers have hit parts of the UK with temperatures plummeting across the country. The Met Office has said more snow could fall over the course of the weekend, while a number of weather warnings for ice have also been issued, covering a large part of Scotland and northern England as well as northern Wales and Northern ...\n",
      "UK weather forecast – ‘Danger to life’ flood warnings as four days of ‘severe’ rain set to hit Britain. BRITAIN is facing more quot;danger to lifequot; flood risks with four days of “severe rain” set to batter the UK. Flash floods wreaked havoc across the South-West and North-East of England yesterday as one month’s worth of rain lashed the UK in 0 hours. Photos have revealed flooded fields near Welney on the Norfolk and Cambridgeshire border on ...\n",
      "UK weather – ‘Danger to life’ flood warning as four days of ‘severe’ rain set to hit Britain. BRITAIN is facing more quot;danger to lifequot; flood risks as four days of “severe rain” looks set to batter the UK. Flash floods wreaked havoc across the South-West and North-East of England on Saturday as one month’s worth reportedly lashed the UK in just 0 hours. The Met Office has issued ;severe; warnings for rain starting today (shown ...\n",
      "Snow covering parts of the country but Birmingham escapes worst of wintry blast. There has been snow across northern England overnight with showers causing sleet to develop in the South West and winds are set to gust at 50mph Parts of England have woken to a dusting of snow while the western areas of the UK are in for a wet and blustery afternoon. The West Midlands will escape the worst of the wintry conditions with light ...\n",
      "Get ready for week-long washout as Met Office warns of ‘danger to life’ floods. Images showed areas such as Clyst St Mary in Exeter after they had suffered flash flooding. The yellow weather warning in East Midlands and Yorkshire amp; Humber for Wednesday came accompanied with a ‘danger to life’ caution. Earlier this month, the Army was called in to assist stricken communities after towns and villages around Doncaster and ...\n"
     ]
    },
    {
     "name": "stdout",
     "output_type": "stream",
     "text": [
      "UK weather: Heavy snow falls on Britain as Met Office issues dangerous travel warning. Wales, Devon, Cornwall and the South West are being pelted with snow as the Met Office warns of treacherous driving conditions and a weather warning remains in place for the next 48 hours\n",
      "Flood and heavy rain warnings remain in place across Devon and Cornwall. But the front bringing the weather is now predicted to move through quicker – the warning had been in place until 12pm. The Government has said that a flood warning remains in place overnight into Sunday on the River Clyst near Exeter. Residents are urged to act between Broadclyst and Clyst St Mary to prevent properties being affected.\n",
      "UK weather: Met Office extends area covered by rain warning as flooding ;likely;. The warning is in place from midday today (November 22) until 6pm tomorrow. The forecaster has said quot;flooding of a few homes and businesses is likelyquot; and journey times on trains and on the road will probably take longer. quot;Showers on Friday morning will be replaced by more persistent rain during the afternoon and evening,quot; the warning reads.\n",
      "LIVE: Met Office severe weather warning for Gloucestershire as flood risk remains. A fog warning runs until 1pm and covers the whole of the county, the Met Office saying it will be slow to clear and there could be slower journey times, with the risk of flights being delayed. An ice warning ran until 10am and covers the northern part of the county, there could be some injuries from slips and falls on icy surfaces. There may be ...\n",
      "After the snow, rain and floods, freezing fog is latest Met Office weather warning for Gloucestershire. After the snow and rain last week – and then the floods – it’s now the turn of fog to make the commute to work or school that little more challenging. The Met Office has issued a yellow warning for fog from 4am to 11am on Tuesday. And it says it ...\n",
      "UK weather: Met Office extends area covered by rain warning as flooding ;likely;. The warning is in place from midday today (November 22) until 6pm tomorrow. The forecaster has said quot;flooding of a few homes and businesses is likelyquot; and journey times on trains and on the road will probably take longer. quot;Showers on Friday morning will be ...\n",
      "UK weather forecast – Met Office warns snow and sub-zero temperatures hit the UK on Election Day. Fears over snow and with a drop in temperatures and reduced daylight hours has raised concerns that this year;s General Election could see lower turnout than the 68.7% achieved in 2017. However, despite worries about a reduced turnout, experts say there is no evidence to show that bad weather in the UK stops people from voting. Pollsters say ...\n",
      "UK weather forecast – Met Office warns SNOW to hit Britain on Election Day. VOTERS could be hit by sub-zero temperatures across Britain on election day, Met Office forecasters have warned. A cold weather is set to grip Britain just in time for the national vote on December 12 - and although exact temperatures are not yet known ...\n",
      "Met Office say snow to cause General Election chaos next week. Snow could cause chaos during this next week;s General Election, according to the Met Office. Millions will take to the polls on Thursday, December 12 in a unique winter election. However, it could be affected by a widespread cold snap, Birmingham Live reports. Forecasters are warning a wintry spell will arrive for election week, covering the ...\n",
      "UK weather: Flood warnings issued as Storm Atiyah bears down on Britain. Flood warnings have been issued across the country as Britain braces for the arrival of Storm Atiyah. Severe gales of up to 70mph threaten to bring travel disruption and power cuts in western England and Wales from pm on Sunday. The Met Office issued a yellow weather warning lasting until am on Monday – although it could be extended as the ...\n",
      "UK weather forecast – Met Office issues SEVERE ice warning as snow blankets North and Wales. A WALL of icy showers and snow will sweep into parts of the UK today after low temperatures plunged to as cold as -8C last night. The Met Office has issued severe ice and snow warnings across Scotland, Northern Ireland, the north of England and Wales until Monday morning - when yet more bitter gales and freezing showers are expected.\n",
      "UK weather forecast: Met Office warning as Storm Sebastien remnants to bring ;danger to life; flood risks. Remnants of Tropical Storm Sebastien will batter the UK with heavy downpours and strong winds, bringing more quot;danger to lifequot; flood risks this week. The Met Office has issued several yellow weather warnings in both the southwest and northeast England as torrential showers could wreak move havoc on already flood-soaked areas. The tail-end of ...\n",
      "Heavy snow blankets parts of the UK with temperatures set to plunge to 17F overnight as Met Office issues severe weather warnings. Heavy snowfall has already hit parts of Wales, County Durham, Yorkshire and Cumbria, and a yellow warning has been issued across Northern Ireland for tonight as sleet and snow could give a covering of up to 5cm. Nearly 6cm of snowfall could cover hilltops in areas of Wales and northern England. Blizzards rage in parts of the midlands and ...\n",
      "UK snow warning: Blizzards and freezing temperatures batter Britain – and more on the way. Up to two inches of snow fell in County Durham and the Yorkshire Dales were also hit. The Met Office warned more snow was on the way. Several weather warnings for ice were put out last night, covering parts of Scotland and the North as well as northern Wales and Northern Ireland. Police issued warnings to motorists after the fresh covering of ...\n",
      "UK FLOODING: Festive flooding as rainstorms batter the UK. The Met Office issued a yellow weather warning for southern areas of the UK, with more than an inch of rainfall expected in some places before midday today. More than 20 flood alerts and 100 flood warnings were put in place over the weekend and more chaos could be on the way with rain forecast in the coming week, causing a washout over ...\n",
      "UK weather forecast – Met Office warns snow and sub-zero temperatures hit the UK on Election Day. VOTERS could be hit by sub-zero temperatures across Britain on election day, forecasters warn. A cold snap is set to grip Britain just in time for the national vote on December 12 and although exact temperatures are not yet known, experts predict freezing ...\n",
      "Snow forecast today - MAPPED: Will it snow in YOUR area? Latest weather charts and graphs. Britain will face flurries of snow today as the Met Office issued yellow weather warnings this morning. About two inches of snow is predicted to cover Wales, County Durham, Yorkshire and Cumbria. Last night, Scotland and the North East were hit by snow blizzards as temperatures in the Scottish Highlands plunged to -8C. In the south this morning ...\n",
      "Get ready for heavy snow as temperatures plummet to -8C. Up to two inches of snow is set to fall across parts of the country, bringing travel chaos for millions of motorists, as Britain is hit by plummeting temperatures. Around five centimeters of snow is predicted to cover Wales, County Durham, Yorkshire and Cumbria. Snow blizzards hit Scotland and North East last night, with temperatures in the ...\n",
      "Pup enjoys its first snow. Please credit: @tombennett8/Twitter. No audio. A pup named Olia enjoys snow for the first time in Sedburgh, Cumbria. The Met Office has issued weather warnings for both snow and ice across Northern Ireland, England and Scotland.\n",
      "UK snow forecast: Christmas warning as sub-zero Arctic storms to batter Britain - maps. [FORECAST] Met Office issues rare URGENT weather warning as UK engulfed by fog [BREAKING] The Met Office has warned drivers to beware of flash flooding and standing water. This is due to between 60mm and 0mm of rain falling before the end of the week. A yellow weather warning for strong winds stretching from south western Scotland, Northern ...\n"
     ]
    }
   ],
   "source": [
    "for node in partition_contents[9]:\n",
    "    article = nouns_df.reset_index().iloc[node]\n",
    "    print(article['clean_text'])"
   ]
  },
  {
   "cell_type": "code",
   "execution_count": 63,
   "metadata": {
    "scrolled": true
   },
   "outputs": [
    {
     "name": "stdout",
     "output_type": "stream",
     "text": [
      "Distraught millionaire relives horrific moment wife was swept to death in floods. A DISTRAUGHT millionaire has relived the moment his wife was swept to her death in deadly UK floods as he battled to save her. Annie Hall, 6, died after getting out of her car when it became stranded as the River Derwent flooded near Matlock, Derbyshire ...\n",
      "Mum;s last words to husband before she was swept away to her death in floods. The husband of Annie Hall, 68, has reveal his final tragic moments with his wife as their car got stuck in floodwaters from the River Derwent in Rowsley, Derbyshire\n",
      "UK flooding: Body of woman dragged from flood water as torrential rain hits swathes of England. The body of a woman has been dragged from flood water after reports of someone being swept away by the River Derwent in Derbyshire. Emergency services were called to a stretch of the river in Darley Dale, close to Matlock, in the early hours of Friday morning, Derbyshire Police said. The force said: “The woman was reported as having been ...\n",
      "UK flooding: Body of woman dragged from flood water as torrential rain hits swathes of England. The body of a woman has been dragged from flood water after reports of someone being swept away by the River Derwent in Derbyshire. Emergency services were called to a stretch of the river in Darley Dale, close to Matlock, in the early hours of Friday morning, Derbyshire Police said. The force said: “The woman was reported as having been ...\n",
      "Distraught millionaire relives horrific moment wife was swept to death in floods. A DISTRAUGHT millionaire has relived the moment his wife was swept to her death in deadly UK floods as he battled to save her. Annie Hall, 6, died after getting out of her car when it became stranded as the River Derwent flooded near Matlock, Derbyshire, last month. The former High Sheriff of Derbyshire was killed when Britain was lashed by ...\n",
      "UK flooding: Body of woman dragged from flood water as torrential rain hits swathes of England. The body of a woman has been dragged from flood water after reports of someone being swept away by the River Derwent in Derbyshire. Emergency services were called to a stretch of the river in Darley Dale, close to Matlock, in the early hours of Friday ...\n",
      "Woman killed in floods named as former High Sheriff of Derbyshire. The woman who died after being swept away by floodwater amid torrential rain across northern England has been named as former High Sheriff of Derbyshire, Annie Hall. Ms Hall’s body was found on Friday morning after emergency services were called to the River Derwent in Darley Dale, near Matlock. Her family said in a statement: “It is with ...\n",
      "UK flooding: Body of woman dragged from flood water as torrential rain hits swathes of England. The body of a woman has been dragged from flood water after reports of someone being swept away by the River Derwent in Derbyshire. Emergency services were called to a stretch of the river in Darley Dale, close to Matlock, in the early hours of Friday ...\n",
      "Derwent floods swept high sheriff Annie Hall from her husband’s grasp. The husband of a former high sheriff who was swept to her death by floods has described the moment she “slipped away” as he battled to save her. Annie Hall, a 6-year-old mother of four, was dragged away in raging floodwater while her husband, Michael, 77, looked on helplessly. The couple had found themselves in trouble on November 8 when ...\n",
      "Former High Sheriff;s last words to her husband before drowning during River Derwent flooding. The grieving husband of a former High Sheriff swept to her death by last month;s floods has revealed the last thing she said to him was: ;I;m not sure how much of this I can take;. Millionaire businesswoman Annie Hall, 6, and her husband Michael, 77, were driving home in the early hours of November 8 when their car became stuck in rising ...\n",
      "Johnson casts doubt on thousands of prospective new homes with call to stop building on flood plains during campaign visit to Derbyshire. Boris Johnson has thrown housebuilding plans into confusion, by suddenly calling for an end to construction on flood plains. Around per cent of new homes in England are built on land where there is a “high probability” of flooding – and a recent investigation found that 10,000 are currently in the pipeline. But, on the campaign trail in ...\n",
      "Boris Johnson says major flooding in North is ‘not a national emergency’. Boris Johnson has said major flooding across swathes of northern England is not a “national emergency”, during a visit to an affected area. The prime minister made the comments in Matlock, Derbyshire, near where a woman died after being swept away ...\n",
      "Boris Johnson says major flooding in North is ‘not a national emergency’. Boris Johnson has said major flooding across swathes of northern England is not a “national emergency”, during a visit to an affected area. The prime minister made the comments in Matlock, Derbyshire, near where a woman died after being swept away after a river breached its banks. Mr Johnson said the government had set aside billions for ...\n",
      "Johnson casts doubt on thousands of prospective new homes with call to stop building on flood plains during campaign visit to Derbyshire. Boris Johnson has thrown housebuilding plans into confusion, by suddenly calling for an end to construction on flood plains. Around per cent of new homes in England are built on land where there is a “high probability” of flooding – and a recent ...\n",
      "Memorial service for former Derbyshire High Sheriff Annie Hall who died in floods. A memorial service is to be held for former High Sheriff of Derbyshire Annie Hall, who lost her life in last week;s floods. Mrs Hall, from Ashford-in-the-Water, died after being swept away by floodwater in Darley Dale. The public service will be held at Derby Cathedral on Monday December , at 2.0pm. The Rev Canon Dr Elizabeth Thomson ...\n",
      "Woman killed in floods named as former High Sheriff of Derbyshire. The woman who died after being swept away by floodwater amid torrential rain across northern England has been named as former High Sheriff of Derbyshire, Annie Hall. Ms Hall’s body was found on Friday morning after emergency services were called to the ...\n",
      "Husband of former High Sheriff tells of her tragic final moments in killer flood. The husband of former High Sheriff Annie Hall has spoken for the first time about the moment the woman he describes as quot;one in a millionquot; was swept away to her death by floodwater last month. Michael Hall, who lived with his wife in Ashford-in-the-Water, near Bakewell, said they had been attempting to drive through water near Darley Dale when ...\n",
      ";I’m not sure I can take much more;, said sheriff swept to death in floods. The husband of a former High Sheriff swept to her death by last month’s floods has revealed the last thing she said to him was: “I’m not sure how much of this I can take”. Annie Hall, 6, drowned in the Derwent, near Matlock, on Nov 8, after getting out of her stranded car which was starting to take on water. Her husband, Michael Hall ...\n",
      "Moving tributes at packed service for grandmother swept away in Derbyshire floods. The son of Derbyshire;s former High Sheriff Annie Hall, who tragically lost her life after being swept away in floods last month, has paid moving tribute to her at a packed memorial service. Almost 600 people crowded into Derby Cathedral today. The congregation, which included the Duke and Duchess of Devonshire and their son Lord Burlington ...\n",
      "Annie Hall floods death: Ex-High Sheriff ;swept away when car stuck in water;. A woman was quot;swept awayquot; by floods after her car got stuck in water, an inquest heard. Former High Sherriff of Derbyshire Annie Hall was found near the River Derwent near Matlock on 8 November. Chesterfield Coroner;s Court heard she and her husband got out ...\n",
      "Inquest opens after death of Derbyshire;s former High Sheriff Annie Hall in floods. An inquest has been opened into the death of Derbyshire;s former High Sheriff Annie Hall, who lost her life in floods earlier this month. Mrs Hall, 6, of Buxton Road, Ashford-in-the-Water, was swept away in the swollen River Derwent in Rowsley and her body was later found downstream in Darley Dale. Her inquest was opened at Chesterfield ...\n",
      "Former High Sheriff of Derbyshire was swept away for half a mile after car got stuck in floods, inquest hears. The former High Sheriff of Derbyshire was swept away for half a mile after driving into floodwater, an inquest has heard. Annie Hall;s body was recovered from flooded farmland close to the River Derwent in Darley Dale, near Matlock, in the early hours of November 8. Chesterfield Coroner;s Court heard how the car Mrs Hall and her husband had ...\n",
      "Annie Hall: Woman swept to death in floods ;one in a million;. The husband of a woman who was swept away in November;s floods has described her as quot;one in a millionquot;. Former High Sheriff of Derbyshire Annie Hall, 6, died after getting out of her car when it became stranded as the River Derwent flooded near Matlock. Speaking at a memorial service at Derby Cathedral, Michael Hall, who was in the car at the ...\n",
      "Husband of former High Sheriff tells of her tragic final moments in killer flood. The husband of former High Sheriff Annie Hall has spoken for the first time about the moment the woman he describes as quot;one in a millionquot; was swept away to her death by floodwater last month. Michael Hall, who lived with his wife in Ashford-in-the-Water ...\n",
      "Annie Hall floods death: Ex-High Sheriff ;swept away when car stuck in water;. A woman was quot;swept awayquot; by floods after her car got stuck in water, an inquest heard. Former High Sherriff of Derbyshire Annie Hall was found near the River Derwent near Matlock on 8 November. Chesterfield Coroner;s Court heard she and her husband got out of their car after they drove into floodwater and the engine seized. Her body was found ...\n",
      "Annie Hall: Woman swept to death in floods ;one in a million;. The husband of a woman who was swept away in November;s floods has described her as quot;one in a millionquot;. Former High Sheriff of Derbyshire Annie Hall, 6, died after getting out of her car when it became stranded as the River Derwent flooded near Matlock.\n",
      "Moving tributes at packed service for grandmother swept away in Derbyshire floods. The son of Derbyshire;s former High Sheriff Annie Hall, who tragically lost her life after being swept away in floods last month, has paid moving tribute to her at a packed memorial service. Almost 600 people crowded into Derby Cathedral today. The ...\n"
     ]
    }
   ],
   "source": [
    "for node in partition_contents[15]:\n",
    "    article = nouns_df.reset_index().iloc[node]\n",
    "    print(article['clean_text'])"
   ]
  },
  {
   "cell_type": "code",
   "execution_count": null,
   "metadata": {},
   "outputs": [],
   "source": []
  }
 ],
 "metadata": {
  "kernelspec": {
   "display_name": "Python 3",
   "language": "python",
   "name": "python3"
  },
  "language_info": {
   "codemirror_mode": {
    "name": "ipython",
    "version": 3
   },
   "file_extension": ".py",
   "mimetype": "text/x-python",
   "name": "python",
   "nbconvert_exporter": "python",
   "pygments_lexer": "ipython3",
   "version": "3.7.5"
  }
 },
 "nbformat": 4,
 "nbformat_minor": 2
}
