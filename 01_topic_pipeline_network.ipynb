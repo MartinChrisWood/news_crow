{
 "cells": [
  {
   "cell_type": "markdown",
   "metadata": {},
   "source": [
    "# Experimenting with Cleaning, Clustering & Summarization Pipelines\n",
    "\n",
    "### To do (technical)\n",
    "- Implement date windows on my corpus loader function"
   ]
  },
  {
   "cell_type": "code",
   "execution_count": 1,
   "metadata": {},
   "outputs": [],
   "source": [
    "import os\n",
    "import re\n",
    "import json\n",
    "\n",
    "import numpy as np\n",
    "import pandas as pd\n",
    "import networkx as nx\n",
    "\n",
    "from sklearn.decomposition import PCA\n",
    "import matplotlib.pyplot as plt\n",
    "\n",
    "import lib.helper as helper\n",
    "import lib.embedding_models as reps\n",
    "\n",
    "from importlib import reload\n",
    "\n",
    "%matplotlib inline"
   ]
  },
  {
   "cell_type": "code",
   "execution_count": 2,
   "metadata": {},
   "outputs": [],
   "source": [
    "# Useful flatten function from Alex Martelli on https://stackoverflow.com/questions/952914/how-to-make-a-flat-list-out-of-list-of-lists\n",
    "flatten = lambda l: [item for sublist in l for item in sublist]"
   ]
  },
  {
   "cell_type": "code",
   "execution_count": 3,
   "metadata": {},
   "outputs": [],
   "source": [
    "# Should be same path for all my PC's, it's where each scrape goes as a separate json file.\n",
    "storage_path = \"/home/ozwald/Dropbox/news_crow/scrape_results\"\n",
    "\n",
    "# \"bing\" is targeted news search corpus, \"RSS\" is from specific world and local news feeds.\n",
    "corpus_type = \"RSS\""
   ]
  },
  {
   "cell_type": "markdown",
   "metadata": {},
   "source": [
    "## 1.  Retrieve Corpus\n",
    "\n",
    "The corpus is being scraped by the \"run_news_scrapes.py\" script (and windows task scheduler) every 12 hours, a bit past midday and a bit past midnight.\n",
    "\n",
    "The \"bing\" corpus are news titles and text extracts gotten from the bing news search API, using a few Home Office - related keywords.\n",
    "\n",
    "The \"RSS\" corpus is plugged directly into a number of RSS feeds for world news sites and local british news sites, with no filters for news story types or subjects applied."
   ]
  },
  {
   "cell_type": "markdown",
   "metadata": {},
   "source": [
    "### First, get a list of all the news dumps created so far"
   ]
  },
  {
   "cell_type": "code",
   "execution_count": 21,
   "metadata": {
    "scrolled": true
   },
   "outputs": [
    {
     "name": "stdout",
     "output_type": "stream",
     "text": [
      "Total files: 223\n",
      "Loading file: RSS_corpus_2019-11-01_0022.json\n",
      "Loading file: RSS_corpus_2019-11-12_0021.json\n",
      "Loading file: RSS_corpus_2019-10-25_1222.json\n",
      "Loading file: RSS_corpus_2019-12-15_0022.json\n",
      "Loading file: RSS_corpus_2019-11-23_0023.json\n",
      "Loading file: RSS_corpus_2019-10-26_1221.json\n",
      "Loading file: RSS_corpus_2019-10-18_1222.json\n",
      "Loading file: RSS_corpus_2019-09-23_0020.json\n",
      "Loading file: RSS_corpus_2019-10-15_0022.json\n",
      "Loading file: RSS_corpus_2019-11-05_0022.json\n",
      "Loading file: RSS_corpus_2019-09-06_0020.json\n",
      "Loading file: RSS_corpus_2020-01-10_1223.json\n",
      "Loading file: RSS_corpus_2019-10-06_1223.json\n",
      "Loading file: RSS_corpus_2019-12-23_1222.json\n",
      "Loading file: RSS_corpus_2019-09-14_1222.json\n",
      "Loading file: RSS_corpus_2019-09-20_1222.json\n",
      "Loading file: RSS_corpus_2019-09-22_1222.json\n",
      "Loading file: RSS_corpus_2019-11-18_1223.json\n",
      "Loading file: RSS_corpus_2019-09-12_1222.json\n",
      "Loading file: RSS_corpus_2019-11-30_0022.json\n",
      "Loading file: RSS_corpus_2019-11-04_0022.json\n",
      "Loading file: RSS_corpus_2019-10-28_0022.json\n",
      "Loading file: RSS_corpus_2019-12-18_1222.json\n",
      "Loading file: RSS_corpus_2019-10-21_1221.json\n",
      "Loading file: RSS_corpus_2019-09-12_0020.json\n",
      "Loading file: RSS_corpus_2019-12-13_0857.json\n",
      "Loading file: RSS_corpus_2019-11-14_0022.json\n",
      "Loading file: RSS_corpus_2019-09-16_0019.json\n",
      "Loading file: RSS_corpus_2019-10-17_1222.json\n",
      "Loading file: RSS_corpus_2019-09-27_0020.json\n",
      "Loading file: RSS_corpus_2019-11-13_1222.json\n",
      "Loading file: RSS_corpus_2019-10-09_1223.json\n",
      "Loading file: RSS_corpus_2019-12-08_0023.json\n",
      "Loading file: RSS_corpus_2019-11-07_1001.json\n",
      "Loading file: RSS_corpus_2019-12-16_0022.json\n",
      "Loading file: RSS_corpus_2019-12-17_0022.json\n",
      "Loading file: RSS_corpus_2019-12-14_1222.json\n",
      "Loading file: RSS_corpus_2019-10-31_0021.json\n",
      "Loading file: RSS_corpus_2019-10-01_1223.json\n",
      "Loading file: RSS_corpus_2019-09-24_1222.json\n",
      "Loading file: RSS_corpus_2019-10-30_0021.json\n",
      "Loading file: RSS_corpus_2019-09-25_0020.json\n",
      "Loading file: RSS_corpus_2019-09-21_1222.json\n",
      "Loading file: RSS_corpus_2019-12-16_1222.json\n",
      "Loading file: RSS_corpus_2019-09-10_1222.json\n",
      "Loading file: RSS_corpus_2019-11-06_1221.json\n",
      "Loading file: RSS_corpus_2019-10-07_1223.json\n",
      "Loading file: RSS_corpus_2019-12-20_1721.json\n",
      "Loading file: RSS_corpus_2020-01-08_0022.json\n",
      "Loading file: RSS_corpus_2019-10-20_1222.json\n",
      "Loading file: RSS_corpus_2019-12-09_0022.json\n",
      "Loading file: RSS_corpus_2019-11-15_0022.json\n",
      "Loading file: RSS_corpus_2019-11-19_0023.json\n",
      "Loading file: RSS_corpus_2019-11-14_1222.json\n",
      "Loading file: RSS_corpus_2019-11-25_0023.json\n",
      "Loading file: RSS_corpus_2019-11-17_1953.json\n",
      "Loading file: RSS_corpus_2019-10-26_0021.json\n",
      "Loading file: RSS_corpus_2019-12-19_1232.json\n",
      "Loading file: RSS_corpus_2019-11-05_1222.json\n",
      "Loading file: RSS_corpus_2019-12-02_0022.json\n",
      "Loading file: RSS_corpus_2019-09-15_0020.json\n",
      "Loading file: RSS_corpus_2019-09-09_1222.json\n",
      "Loading file: RSS_corpus_2019-09-17_0020.json\n",
      "Loading file: RSS_corpus_2019-10-11_0021.json\n",
      "Loading file: RSS_corpus_2019-11-22_1541.json\n",
      "Loading file: RSS_corpus_2019-09-26_0021.json\n",
      "Loading file: RSS_corpus_2019-10-27_0022.json\n",
      "Loading file: RSS_corpus_2019-11-15_1221.json\n",
      "Loading file: RSS_corpus_2019-12-19_0022.json\n",
      "Loading file: RSS_corpus_2019-12-05_1222.json\n",
      "Loading file: RSS_corpus_2019-11-30_1222.json\n",
      "Loading file: RSS_corpus_2019-11-10_1849.json\n",
      "Loading file: RSS_corpus_2020-01-09_0022.json\n",
      "Loading file: RSS_corpus_2020-01-11_0023.json\n",
      "Loading file: RSS_corpus_2019-09-20_0019.json\n",
      "Loading file: RSS_corpus_2019-11-01_1424.json\n",
      "Loading file: RSS_corpus_2019-10-11_1223.json\n",
      "Loading file: RSS_corpus_2019-09-10_0020.json\n",
      "Loading file: RSS_corpus_2019-10-07_0742.json\n",
      "Loading file: RSS_corpus_2019-09-08_1222.json\n",
      "Loading file: RSS_corpus_2019-10-22_1222.json\n",
      "Loading file: RSS_corpus_2019-11-18_0022.json\n",
      "Loading file: RSS_corpus_2019-11-23_1223.json\n",
      "Loading file: RSS_corpus_2019-10-14_0906.json\n",
      "Loading file: RSS_corpus_2019-09-13_0020.json\n",
      "Loading file: RSS_corpus_2019-09-11_0020.json\n",
      "Loading file: RSS_corpus_2019-11-03_2202.json\n",
      "Loading file: RSS_corpus_2019-11-06_0022.json\n",
      "Loading file: RSS_corpus_2019-10-08_0021.json\n",
      "Loading file: RSS_corpus_2019-10-17_0022.json\n",
      "Loading file: RSS_corpus_2019-10-14_2052.json\n",
      "Loading file: RSS_corpus_2020-01-12_1559.json\n",
      "Loading file: RSS_corpus_2019-11-11_1221.json\n",
      "Loading file: RSS_corpus_2019-11-11_0022.json\n",
      "Loading file: RSS_corpus_2019-09-30_0020.json\n",
      "Loading file: RSS_corpus_2019-09-30_1223.json\n",
      "Loading file: RSS_corpus_2019-12-01_0022.json\n",
      "Loading file: RSS_corpus_2019-11-17_0021.json\n",
      "Loading file: RSS_corpus_2019-12-04_0022.json\n",
      "Loading file: RSS_corpus_2019-12-28_1809.json\n",
      "Loading file: RSS_corpus_2019-10-25_0022.json\n",
      "Loading file: RSS_corpus_2019-09-19_1222.json\n",
      "Loading file: RSS_corpus_2019-10-27_1222.json\n",
      "Loading file: RSS_corpus_2019-10-14_2041.json\n",
      "Loading file: RSS_corpus_2020-01-18_0022.json\n",
      "Loading file: RSS_corpus_2020-01-20_1223.json\n",
      "Loading file: RSS_corpus_2019-10-29_0022.json\n",
      "Loading file: RSS_corpus_2019-09-26_1223.json\n",
      "Loading file: RSS_corpus_2019-12-12_2325.json\n",
      "Loading file: RSS_corpus_2019-12-23_1032.json\n",
      "Loading file: RSS_corpus_2019-11-24_1223.json\n",
      "Loading file: RSS_corpus_2019-09-28_0021.json\n",
      "Loading file: RSS_corpus_2019-10-21_0022.json\n",
      "Loading file: RSS_corpus_2019-12-08_1222.json\n",
      "Loading file: RSS_corpus_2019-10-09_0021.json\n",
      "Loading file: RSS_corpus_2019-10-10_1223.json\n",
      "Loading file: RSS_corpus_2019-10-28_1222.json\n",
      "Loading file: RSS_corpus_2020-01-20_0022.json\n",
      "Loading file: RSS_corpus_2019-11-25_1224.json\n",
      "Loading file: RSS_corpus_2019-10-03_0022.json\n",
      "Loading file: RSS_corpus_2019-12-14_0023.json\n",
      "Loading file: RSS_corpus_2019-11-13_0853.json\n",
      "Loading file: RSS_corpus_2019-09-07_0020.json\n",
      "Loading file: RSS_corpus_2019-10-02_1223.json\n",
      "Loading file: RSS_corpus_2019-11-07_1221.json\n",
      "Loading file: RSS_corpus_2019-09-11_1222.json\n",
      "Loading file: RSS_corpus_2019-11-17_1956.json\n",
      "Loading file: RSS_corpus_2019-10-02_0020.json\n",
      "Loading file: RSS_corpus_2019-09-15_2100.json\n",
      "Loading file: RSS_corpus_2019-10-04_1223.json\n",
      "Loading file: RSS_corpus_2019-09-06_1222.json\n",
      "Loading file: RSS_corpus_2019-10-12_0021.json\n",
      "Loading file: RSS_corpus_2019-11-29_1736.json\n",
      "Loading file: RSS_corpus_2019-12-03_1222.json\n",
      "Loading file: RSS_corpus_2019-12-11_0022.json\n",
      "Loading file: RSS_corpus_2019-11-07_0021.json\n",
      "Loading file: RSS_corpus_2019-11-16_0022.json\n",
      "Loading file: RSS_corpus_2020-01-19_0022.json\n",
      "Loading file: RSS_corpus_2019-09-25_1223.json\n",
      "Loading file: RSS_corpus_2019-12-11_1222.json\n",
      "Loading file: RSS_corpus_2019-12-06_1222.json\n",
      "Loading file: RSS_corpus_2019-09-18_0020.json\n",
      "Loading file: RSS_corpus_2020-01-17_1223.json\n",
      "Loading file: RSS_corpus_2019-12-17_1222.json\n",
      "Loading file: RSS_corpus_2019-11-12_1222.json\n",
      "Loading file: RSS_corpus_2019-10-16_1222.json\n",
      "Loading file: RSS_corpus_2019-09-27_1223.json\n",
      "Loading file: RSS_corpus_2019-12-03_0022.json\n",
      "Loading file: RSS_corpus_2019-10-18_0022.json\n",
      "Loading file: RSS_corpus_2019-10-30_1221.json\n",
      "Loading file: RSS_corpus_2019-10-10_0021.json\n",
      "Loading file: RSS_corpus_2019-12-02_1232.json\n",
      "Loading file: RSS_corpus_2019-10-20_0022.json\n",
      "Loading file: RSS_corpus_2019-12-27_1804.json\n",
      "Loading file: RSS_corpus_2019-11-24_1635.json\n",
      "Loading file: RSS_corpus_2019-09-16_1222.json\n",
      "Loading file: RSS_corpus_2019-09-13_1222.json\n",
      "Loading file: RSS_corpus_2020-01-07_2208.json\n",
      "Loading file: RSS_corpus_2019-12-24_0021.json\n",
      "Loading file: RSS_corpus_2020-01-14_2038.json\n",
      "Loading file: RSS_corpus_2020-01-18_1659.json\n",
      "Loading file: RSS_corpus_2019-12-07_1222.json\n",
      "Loading file: RSS_corpus_2019-11-17_1221.json\n",
      "Loading file: RSS_corpus_2019-10-04_0021.json\n",
      "Loading file: RSS_corpus_2019-09-08_0020.json\n",
      "Loading file: RSS_corpus_2019-11-04_1221.json\n",
      "Loading file: RSS_corpus_2019-12-10_0022.json\n",
      "Loading file: RSS_corpus_2020-01-10_0027.json\n",
      "Loading file: RSS_corpus_2019-12-12_0022.json\n",
      "Loading file: RSS_corpus_2019-12-01_1222.json\n",
      "Loading file: RSS_corpus_2019-10-01_0020.json\n",
      "Loading file: RSS_corpus_2020-01-19_1222.json\n",
      "Loading file: RSS_corpus_2019-09-05_2136.json\n",
      "Loading file: RSS_corpus_2019-10-15_1222.json\n",
      "Loading file: RSS_corpus_2019-12-19_2328.json\n",
      "Loading file: RSS_corpus_2019-10-29_1221.json\n",
      "Loading file: RSS_corpus_2019-12-12_1222.json\n",
      "Loading file: RSS_corpus_2019-11-24_0024.json\n"
     ]
    },
    {
     "name": "stdout",
     "output_type": "stream",
     "text": [
      "Loading file: RSS_corpus_2019-09-07_1222.json\n",
      "Loading file: RSS_corpus_2019-12-24_1221.json\n",
      "Loading file: RSS_corpus_2019-09-28_1225.json\n",
      "Loading file: RSS_corpus_2019-09-22_0020.json\n",
      "Loading file: RSS_corpus_2019-09-18_1222.json\n",
      "Loading file: RSS_corpus_2019-11-02_1018.json\n",
      "Loading file: RSS_corpus_2019-12-15_1222.json\n",
      "Loading file: RSS_corpus_2019-10-16_0807.json\n",
      "Loading file: RSS_corpus_2019-09-19_0020.json\n",
      "Loading file: RSS_corpus_2019-12-13_1222.json\n",
      "Loading file: RSS_corpus_2019-10-31_1222.json\n",
      "Loading file: RSS_corpus_2020-01-17_1649.json\n",
      "Loading file: RSS_corpus_2019-09-09_0020.json\n",
      "Loading file: RSS_corpus_2019-09-29_0021.json\n",
      "Loading file: RSS_corpus_2019-09-23_1222.json\n",
      "Loading file: RSS_corpus_2019-10-19_0024.json\n",
      "Loading file: RSS_corpus_2019-10-03_1223.json\n",
      "Loading file: RSS_corpus_2019-12-06_0022.json\n",
      "Loading file: RSS_corpus_2019-09-17_1222.json\n",
      "Loading file: RSS_corpus_2019-10-08_1223.json\n",
      "Loading file: RSS_corpus_2020-01-09_1222.json\n",
      "Loading file: RSS_corpus_2019-10-22_0021.json\n",
      "Loading file: RSS_corpus_2019-10-24_0022.json\n",
      "Loading file: RSS_corpus_2019-12-07_0023.json\n",
      "Loading file: RSS_corpus_2020-01-12_0022.json\n",
      "Loading file: RSS_corpus_2019-10-07_0021.json\n",
      "Loading file: RSS_corpus_2019-12-05_0022.json\n",
      "Loading file: RSS_corpus_2019-10-12_1223.json\n",
      "Loading file: RSS_corpus_2019-10-31_0648.json\n",
      "Loading file: RSS_corpus_2019-09-29_1224.json\n",
      "Loading file: RSS_corpus_2020-01-08_1222.json\n",
      "Loading file: RSS_corpus_2019-09-21_0020.json\n",
      "Loading file: RSS_corpus_2019-09-24_0020.json\n",
      "Loading file: RSS_corpus_2019-10-23_1221.json\n",
      "Loading file: RSS_corpus_2019-10-23_0022.json\n",
      "Loading file: RSS_corpus_2019-11-02_1222.json\n",
      "Loading file: RSS_corpus_2019-10-24_1222.json\n",
      "Loading file: RSS_corpus_2019-12-09_1222.json\n",
      "Loading file: RSS_corpus_2019-10-19_1222.json\n",
      "Loading file: RSS_corpus_2019-11-16_1222.json\n",
      "Loading file: RSS_corpus_2019-09-14_0020.json\n",
      "Loading file: RSS_corpus_2019-12-04_1222.json\n",
      "Loading file: RSS_corpus_2019-12-10_1222.json\n",
      "Loading file: RSS_corpus_2019-12-18_0022.json\n",
      "Loading file: RSS_corpus_2020-01-11_1213.json\n"
     ]
    }
   ],
   "source": [
    "corpus = helper.load_clean_corpus(storage_path, corpus_type)"
   ]
  },
  {
   "cell_type": "code",
   "execution_count": 22,
   "metadata": {
    "scrolled": true
   },
   "outputs": [
    {
     "data": {
      "text/html": [
       "<div>\n",
       "<style scoped>\n",
       "    .dataframe tbody tr th:only-of-type {\n",
       "        vertical-align: middle;\n",
       "    }\n",
       "\n",
       "    .dataframe tbody tr th {\n",
       "        vertical-align: top;\n",
       "    }\n",
       "\n",
       "    .dataframe thead th {\n",
       "        text-align: right;\n",
       "    }\n",
       "</style>\n",
       "<table border=\"1\" class=\"dataframe\">\n",
       "  <thead>\n",
       "    <tr style=\"text-align: right;\">\n",
       "      <th></th>\n",
       "      <th>title</th>\n",
       "      <th>summary</th>\n",
       "      <th>date</th>\n",
       "      <th>link</th>\n",
       "      <th>source_url</th>\n",
       "      <th>retrieval_timestamp</th>\n",
       "      <th>origin</th>\n",
       "      <th>clean_text</th>\n",
       "    </tr>\n",
       "  </thead>\n",
       "  <tbody>\n",
       "    <tr>\n",
       "      <th>0</th>\n",
       "      <td>Trump impeachment: House votes to formalise in...</td>\n",
       "      <td>The Democratic-controlled chamber approves a r...</td>\n",
       "      <td>Thu, 31 Oct 2019 20:21:13 GMT</td>\n",
       "      <td>https://www.bbc.co.uk/news/world-us-canada-502...</td>\n",
       "      <td>http://feeds.bbci.co.uk/news/world/rss.xml</td>\n",
       "      <td>2019-11-01 00:21:58.608417</td>\n",
       "      <td>rss_feed</td>\n",
       "      <td>Trump impeachment: House votes to formalise in...</td>\n",
       "    </tr>\n",
       "    <tr>\n",
       "      <th>1</th>\n",
       "      <td>Five men acquitted of gang-raping teenager in ...</td>\n",
       "      <td>A court ruled the men did not commit rape beca...</td>\n",
       "      <td>Thu, 31 Oct 2019 23:23:02 GMT</td>\n",
       "      <td>https://www.bbc.co.uk/news/world-europe-50257922</td>\n",
       "      <td>http://feeds.bbci.co.uk/news/world/rss.xml</td>\n",
       "      <td>2019-11-01 00:21:58.608436</td>\n",
       "      <td>rss_feed</td>\n",
       "      <td>Five men acquitted of gang-raping teenager in ...</td>\n",
       "    </tr>\n",
       "    <tr>\n",
       "      <th>2</th>\n",
       "      <td>Brazil wildfires: Blaze advances across Pantan...</td>\n",
       "      <td>The area is one of the most biodiverse regions...</td>\n",
       "      <td>Fri, 01 Nov 2019 00:11:01 GMT</td>\n",
       "      <td>https://www.bbc.co.uk/news/world-latin-america...</td>\n",
       "      <td>http://feeds.bbci.co.uk/news/world/rss.xml</td>\n",
       "      <td>2019-11-01 00:21:58.608446</td>\n",
       "      <td>rss_feed</td>\n",
       "      <td>Brazil wildfires: Blaze advances across Pantan...</td>\n",
       "    </tr>\n",
       "    <tr>\n",
       "      <th>3</th>\n",
       "      <td>Islamic State group names its new leader as Ab...</td>\n",
       "      <td>The jihadist group names Abu Ibrahim al-Hashem...</td>\n",
       "      <td>Thu, 31 Oct 2019 19:03:25 GMT</td>\n",
       "      <td>https://www.bbc.co.uk/news/world-middle-east-5...</td>\n",
       "      <td>http://feeds.bbci.co.uk/news/world/rss.xml</td>\n",
       "      <td>2019-11-01 00:21:58.608455</td>\n",
       "      <td>rss_feed</td>\n",
       "      <td>Islamic State group names its new leader as Ab...</td>\n",
       "    </tr>\n",
       "    <tr>\n",
       "      <th>4</th>\n",
       "      <td>Iraq protests: How tuk-tuks are saving lives i...</td>\n",
       "      <td>From a nuisance to a necessity, tuk-tuks have ...</td>\n",
       "      <td>Thu, 31 Oct 2019 19:11:51 GMT</td>\n",
       "      <td>https://www.bbc.co.uk/news/world-middle-east-5...</td>\n",
       "      <td>http://feeds.bbci.co.uk/news/world/rss.xml</td>\n",
       "      <td>2019-11-01 00:21:58.608464</td>\n",
       "      <td>rss_feed</td>\n",
       "      <td>Iraq protests: How tuk-tuks are saving lives i...</td>\n",
       "    </tr>\n",
       "  </tbody>\n",
       "</table>\n",
       "</div>"
      ],
      "text/plain": [
       "                                               title  \\\n",
       "0  Trump impeachment: House votes to formalise in...   \n",
       "1  Five men acquitted of gang-raping teenager in ...   \n",
       "2  Brazil wildfires: Blaze advances across Pantan...   \n",
       "3  Islamic State group names its new leader as Ab...   \n",
       "4  Iraq protests: How tuk-tuks are saving lives i...   \n",
       "\n",
       "                                             summary  \\\n",
       "0  The Democratic-controlled chamber approves a r...   \n",
       "1  A court ruled the men did not commit rape beca...   \n",
       "2  The area is one of the most biodiverse regions...   \n",
       "3  The jihadist group names Abu Ibrahim al-Hashem...   \n",
       "4  From a nuisance to a necessity, tuk-tuks have ...   \n",
       "\n",
       "                            date  \\\n",
       "0  Thu, 31 Oct 2019 20:21:13 GMT   \n",
       "1  Thu, 31 Oct 2019 23:23:02 GMT   \n",
       "2  Fri, 01 Nov 2019 00:11:01 GMT   \n",
       "3  Thu, 31 Oct 2019 19:03:25 GMT   \n",
       "4  Thu, 31 Oct 2019 19:11:51 GMT   \n",
       "\n",
       "                                                link  \\\n",
       "0  https://www.bbc.co.uk/news/world-us-canada-502...   \n",
       "1   https://www.bbc.co.uk/news/world-europe-50257922   \n",
       "2  https://www.bbc.co.uk/news/world-latin-america...   \n",
       "3  https://www.bbc.co.uk/news/world-middle-east-5...   \n",
       "4  https://www.bbc.co.uk/news/world-middle-east-5...   \n",
       "\n",
       "                                   source_url         retrieval_timestamp  \\\n",
       "0  http://feeds.bbci.co.uk/news/world/rss.xml  2019-11-01 00:21:58.608417   \n",
       "1  http://feeds.bbci.co.uk/news/world/rss.xml  2019-11-01 00:21:58.608436   \n",
       "2  http://feeds.bbci.co.uk/news/world/rss.xml  2019-11-01 00:21:58.608446   \n",
       "3  http://feeds.bbci.co.uk/news/world/rss.xml  2019-11-01 00:21:58.608455   \n",
       "4  http://feeds.bbci.co.uk/news/world/rss.xml  2019-11-01 00:21:58.608464   \n",
       "\n",
       "     origin                                         clean_text  \n",
       "0  rss_feed  Trump impeachment: House votes to formalise in...  \n",
       "1  rss_feed  Five men acquitted of gang-raping teenager in ...  \n",
       "2  rss_feed  Brazil wildfires: Blaze advances across Pantan...  \n",
       "3  rss_feed  Islamic State group names its new leader as Ab...  \n",
       "4  rss_feed  Iraq protests: How tuk-tuks are saving lives i...  "
      ]
     },
     "execution_count": 22,
     "metadata": {},
     "output_type": "execute_result"
    }
   ],
   "source": [
    "corpus.head()"
   ]
  },
  {
   "cell_type": "code",
   "execution_count": 23,
   "metadata": {},
   "outputs": [],
   "source": [
    "corpus = corpus.iloc[-5000:,]"
   ]
  },
  {
   "cell_type": "code",
   "execution_count": 24,
   "metadata": {},
   "outputs": [
    {
     "data": {
      "text/plain": [
       "(5000, 8)"
      ]
     },
     "execution_count": 24,
     "metadata": {},
     "output_type": "execute_result"
    }
   ],
   "source": [
    "corpus.shape"
   ]
  },
  {
   "cell_type": "markdown",
   "metadata": {},
   "source": [
    "## 2. Clustering using Entity Detection And Network Analytics\n",
    "\n",
    "This doesn't resolve very well for Bing, because there's a whole bunch of keywords from the original searches in there.  Suspect that's got a lot to do with the failure of the other methods too.  For the network analytics method I'm going to try removing the keywords from the table first."
   ]
  },
  {
   "cell_type": "code",
   "execution_count": 25,
   "metadata": {},
   "outputs": [],
   "source": [
    "#with open(\"/home/ozwald/Dropbox/news_crow/scrape_settings.json\", \"r\") as f:\n",
    "#    scrape_config = json.load(f)\n",
    "#\n",
    "#search_terms = scrape_config['disaster_search_list']\n",
    "#search_terms = re.sub(r\"[^0-9A-Za-z ]\", \"\", \" \".join(search_terms)).lower().split()\n",
    "#search_terms = set(search_terms)"
   ]
  },
  {
   "cell_type": "code",
   "execution_count": 26,
   "metadata": {
    "scrolled": true
   },
   "outputs": [],
   "source": [
    "#search_terms"
   ]
  },
  {
   "cell_type": "code",
   "execution_count": 27,
   "metadata": {},
   "outputs": [
    {
     "name": "stdout",
     "output_type": "stream",
     "text": [
      "PARALLEL AWESOMENESS!!!\n",
      "found all nouns\n",
      "Reduced noun lists to sets\n",
      "Created entity table\n",
      "Aggregated result table\n"
     ]
    },
    {
     "data": {
      "text/plain": [
       "{'David',\n",
       " 'JC',\n",
       " 'Jersey',\n",
       " 'Kosher',\n",
       " 'Lax',\n",
       " 'New_Jersey',\n",
       " 'Supermarket',\n",
       " 'Tuesday',\n",
       " 'kosher'}"
      ]
     },
     "execution_count": 27,
     "metadata": {},
     "output_type": "execute_result"
    }
   ],
   "source": [
    "model = reps.NounAdjacencyModel(list(corpus['clean_text']), list(corpus['clean_text']))\n",
    "model.noun_sets[3]"
   ]
  },
  {
   "cell_type": "code",
   "execution_count": 28,
   "metadata": {
    "scrolled": true
   },
   "outputs": [
    {
     "data": {
      "text/html": [
       "<div>\n",
       "<style scoped>\n",
       "    .dataframe tbody tr th:only-of-type {\n",
       "        vertical-align: middle;\n",
       "    }\n",
       "\n",
       "    .dataframe tbody tr th {\n",
       "        vertical-align: top;\n",
       "    }\n",
       "\n",
       "    .dataframe thead th {\n",
       "        text-align: right;\n",
       "    }\n",
       "</style>\n",
       "<table border=\"1\" class=\"dataframe\">\n",
       "  <thead>\n",
       "    <tr style=\"text-align: right;\">\n",
       "      <th></th>\n",
       "      <th>Julius</th>\n",
       "      <th>Subaru</th>\n",
       "      <th>Ozaukee</th>\n",
       "      <th>Feds</th>\n",
       "      <th>EAR</th>\n",
       "      <th>Oct</th>\n",
       "      <th>IKEA</th>\n",
       "      <th>Banks</th>\n",
       "      <th>Theatre</th>\n",
       "      <th>Tomerong</th>\n",
       "      <th>...</th>\n",
       "      <th>Calombaris</th>\n",
       "      <th>Tatyana</th>\n",
       "      <th>Walton</th>\n",
       "      <th>Socorro</th>\n",
       "      <th>Rodrigues</th>\n",
       "      <th>LVMH</th>\n",
       "      <th>Reeves</th>\n",
       "      <th>Shanks</th>\n",
       "      <th>Episcopal</th>\n",
       "      <th>Jenner</th>\n",
       "    </tr>\n",
       "  </thead>\n",
       "  <tbody>\n",
       "    <tr>\n",
       "      <th>Australian chokes back tears as he describes how he was barred from a pub because of his mullet. An all-round Aussie bloke (pictured) claims he was refused entry from bars because his mullet hairstyle went against their dress code.</th>\n",
       "      <td>0</td>\n",
       "      <td>0</td>\n",
       "      <td>0</td>\n",
       "      <td>0</td>\n",
       "      <td>0</td>\n",
       "      <td>0</td>\n",
       "      <td>0</td>\n",
       "      <td>0</td>\n",
       "      <td>0</td>\n",
       "      <td>0</td>\n",
       "      <td>...</td>\n",
       "      <td>0</td>\n",
       "      <td>0</td>\n",
       "      <td>0</td>\n",
       "      <td>0</td>\n",
       "      <td>0</td>\n",
       "      <td>0</td>\n",
       "      <td>0</td>\n",
       "      <td>0</td>\n",
       "      <td>0</td>\n",
       "      <td>0</td>\n",
       "    </tr>\n",
       "    <tr>\n",
       "      <th>Lawyer's career is in ruins after he was found guilty of sending 'menacing' texts to mother-of-four. David Wilkie-Thorburn sent a string of threats to Veda Rodrigues (pictured) after he became concerned that staff had been walking out of his husband's salon in Aberdeen.</th>\n",
       "      <td>0</td>\n",
       "      <td>0</td>\n",
       "      <td>0</td>\n",
       "      <td>0</td>\n",
       "      <td>0</td>\n",
       "      <td>0</td>\n",
       "      <td>0</td>\n",
       "      <td>0</td>\n",
       "      <td>0</td>\n",
       "      <td>0</td>\n",
       "      <td>...</td>\n",
       "      <td>0</td>\n",
       "      <td>0</td>\n",
       "      <td>0</td>\n",
       "      <td>0</td>\n",
       "      <td>1</td>\n",
       "      <td>0</td>\n",
       "      <td>0</td>\n",
       "      <td>0</td>\n",
       "      <td>0</td>\n",
       "      <td>0</td>\n",
       "    </tr>\n",
       "    <tr>\n",
       "      <th>Toad-ally terrified! Driver freaks out when he discovers a tree frog in his car. The motorist from Sanford, just north of Orlando, Florida, was filming the frog which was crawling up his door before it leaped across onto the shocked driver's lap forcing him to drop his phone.</th>\n",
       "      <td>0</td>\n",
       "      <td>0</td>\n",
       "      <td>0</td>\n",
       "      <td>0</td>\n",
       "      <td>0</td>\n",
       "      <td>0</td>\n",
       "      <td>0</td>\n",
       "      <td>0</td>\n",
       "      <td>0</td>\n",
       "      <td>0</td>\n",
       "      <td>...</td>\n",
       "      <td>0</td>\n",
       "      <td>0</td>\n",
       "      <td>0</td>\n",
       "      <td>0</td>\n",
       "      <td>0</td>\n",
       "      <td>0</td>\n",
       "      <td>0</td>\n",
       "      <td>0</td>\n",
       "      <td>0</td>\n",
       "      <td>0</td>\n",
       "    </tr>\n",
       "    <tr>\n",
       "      <th>Lone survivor of Jersey shooting at kosher supermarket says attackers were 'professional'. David Lax described how he dived under a salad bar and pushed his way past one of two shooters in order to escape the attack at the JC Kosher Supermarket in New Jersey on Tuesday.</th>\n",
       "      <td>0</td>\n",
       "      <td>0</td>\n",
       "      <td>0</td>\n",
       "      <td>0</td>\n",
       "      <td>0</td>\n",
       "      <td>0</td>\n",
       "      <td>0</td>\n",
       "      <td>0</td>\n",
       "      <td>0</td>\n",
       "      <td>0</td>\n",
       "      <td>...</td>\n",
       "      <td>0</td>\n",
       "      <td>0</td>\n",
       "      <td>0</td>\n",
       "      <td>0</td>\n",
       "      <td>0</td>\n",
       "      <td>0</td>\n",
       "      <td>0</td>\n",
       "      <td>0</td>\n",
       "      <td>0</td>\n",
       "      <td>0</td>\n",
       "    </tr>\n",
       "    <tr>\n",
       "      <th>What happens now Boris Johnson has an overwhelming majority and mandate to FINALLY get Brexit done?. His first appointment this morning will be at Buckingham Palace, were he will meet the Queen and officially get approval to form the next Government.</th>\n",
       "      <td>0</td>\n",
       "      <td>0</td>\n",
       "      <td>0</td>\n",
       "      <td>0</td>\n",
       "      <td>0</td>\n",
       "      <td>0</td>\n",
       "      <td>0</td>\n",
       "      <td>0</td>\n",
       "      <td>0</td>\n",
       "      <td>0</td>\n",
       "      <td>...</td>\n",
       "      <td>0</td>\n",
       "      <td>0</td>\n",
       "      <td>0</td>\n",
       "      <td>0</td>\n",
       "      <td>0</td>\n",
       "      <td>0</td>\n",
       "      <td>0</td>\n",
       "      <td>0</td>\n",
       "      <td>0</td>\n",
       "      <td>0</td>\n",
       "    </tr>\n",
       "  </tbody>\n",
       "</table>\n",
       "<p>5 rows × 8829 columns</p>\n",
       "</div>"
      ],
      "text/plain": [
       "                                                    Julius  Subaru  Ozaukee  \\\n",
       "Australian chokes back tears as he describes ho...       0       0        0   \n",
       "Lawyer's career is in ruins after he was found ...       0       0        0   \n",
       "Toad-ally terrified! Driver freaks out when he ...       0       0        0   \n",
       "Lone survivor of Jersey shooting at kosher supe...       0       0        0   \n",
       "What happens now Boris Johnson has an overwhelm...       0       0        0   \n",
       "\n",
       "                                                    Feds  EAR  Oct  IKEA  \\\n",
       "Australian chokes back tears as he describes ho...     0    0    0     0   \n",
       "Lawyer's career is in ruins after he was found ...     0    0    0     0   \n",
       "Toad-ally terrified! Driver freaks out when he ...     0    0    0     0   \n",
       "Lone survivor of Jersey shooting at kosher supe...     0    0    0     0   \n",
       "What happens now Boris Johnson has an overwhelm...     0    0    0     0   \n",
       "\n",
       "                                                    Banks  Theatre  Tomerong  \\\n",
       "Australian chokes back tears as he describes ho...      0        0         0   \n",
       "Lawyer's career is in ruins after he was found ...      0        0         0   \n",
       "Toad-ally terrified! Driver freaks out when he ...      0        0         0   \n",
       "Lone survivor of Jersey shooting at kosher supe...      0        0         0   \n",
       "What happens now Boris Johnson has an overwhelm...      0        0         0   \n",
       "\n",
       "                                                    ...  Calombaris  Tatyana  \\\n",
       "Australian chokes back tears as he describes ho...  ...           0        0   \n",
       "Lawyer's career is in ruins after he was found ...  ...           0        0   \n",
       "Toad-ally terrified! Driver freaks out when he ...  ...           0        0   \n",
       "Lone survivor of Jersey shooting at kosher supe...  ...           0        0   \n",
       "What happens now Boris Johnson has an overwhelm...  ...           0        0   \n",
       "\n",
       "                                                    Walton  Socorro  \\\n",
       "Australian chokes back tears as he describes ho...       0        0   \n",
       "Lawyer's career is in ruins after he was found ...       0        0   \n",
       "Toad-ally terrified! Driver freaks out when he ...       0        0   \n",
       "Lone survivor of Jersey shooting at kosher supe...       0        0   \n",
       "What happens now Boris Johnson has an overwhelm...       0        0   \n",
       "\n",
       "                                                    Rodrigues  LVMH  Reeves  \\\n",
       "Australian chokes back tears as he describes ho...          0     0       0   \n",
       "Lawyer's career is in ruins after he was found ...          1     0       0   \n",
       "Toad-ally terrified! Driver freaks out when he ...          0     0       0   \n",
       "Lone survivor of Jersey shooting at kosher supe...          0     0       0   \n",
       "What happens now Boris Johnson has an overwhelm...          0     0       0   \n",
       "\n",
       "                                                    Shanks  Episcopal  Jenner  \n",
       "Australian chokes back tears as he describes ho...       0          0       0  \n",
       "Lawyer's career is in ruins after he was found ...       0          0       0  \n",
       "Toad-ally terrified! Driver freaks out when he ...       0          0       0  \n",
       "Lone survivor of Jersey shooting at kosher supe...       0          0       0  \n",
       "What happens now Boris Johnson has an overwhelm...       0          0       0  \n",
       "\n",
       "[5 rows x 8829 columns]"
      ]
     },
     "execution_count": 28,
     "metadata": {},
     "output_type": "execute_result"
    }
   ],
   "source": [
    "nouns_df = model.table.copy()\n",
    "nouns_df.head()"
   ]
  },
  {
   "cell_type": "markdown",
   "metadata": {},
   "source": [
    "### Drop any noun/noun phrase containing one of the search terms, then create an adjacency matrix\n",
    "\n",
    "### Drop any noun/phrase occuring too infrequently"
   ]
  },
  {
   "cell_type": "code",
   "execution_count": 29,
   "metadata": {},
   "outputs": [
    {
     "name": "stdout",
     "output_type": "stream",
     "text": [
      "(5000, 500)\n"
     ]
    }
   ],
   "source": [
    "# Get 500 most common nouns\n",
    "nouns_to_keep = list(nouns_df.\\\n",
    "                    sum(axis=0).\\\n",
    "                    sort_values(ascending=False).\\\n",
    "                    index)\n",
    "\n",
    "# Cut out any nouns containing the original search terms\n",
    "#nouns_to_keep = [noun for noun in nouns_to_keep if sum([term in noun for term in search_terms]) == 0]\n",
    "\n",
    "# Keep only top 500 most common\n",
    "nouns_to_keep = nouns_to_keep[:500]\n",
    "\n",
    "# Subset nouns dataframe\n",
    "nouns_df = nouns_df[nouns_to_keep]\n",
    "\n",
    "print(nouns_df.shape)"
   ]
  },
  {
   "cell_type": "code",
   "execution_count": 30,
   "metadata": {},
   "outputs": [
    {
     "name": "stdout",
     "output_type": "stream",
     "text": [
      "11\n"
     ]
    }
   ],
   "source": [
    "embeddings = np.asarray(nouns_df)\n",
    "adjacency = np.dot(embeddings, embeddings.T)\n",
    "print(np.max(adjacency))"
   ]
  },
  {
   "cell_type": "code",
   "execution_count": 31,
   "metadata": {},
   "outputs": [],
   "source": [
    "# If the \"lower\" limit is 1, the graph has so many edges it eats ALL the memory of my desktop, even\n",
    "# with just 500-ish stories to process.\n",
    "upper = 100\n",
    "lower = 3\n",
    "G = nx.Graph()\n",
    "rows, cols = np.where((upper >= adjacency) & (adjacency >= lower))\n",
    "weights = [float(adjacency[rows[i], cols[i]]) for i in range(len(rows))]\n",
    "edges = zip(rows.tolist(), cols.tolist(), weights)\n",
    "G.add_weighted_edges_from(edges)\n",
    "\n",
    "# Simplify; remove self-edges\n",
    "G.remove_edges_from(nx.selfloop_edges(G))"
   ]
  },
  {
   "cell_type": "code",
   "execution_count": 32,
   "metadata": {},
   "outputs": [
    {
     "data": {
      "text/plain": [
       "569"
      ]
     },
     "execution_count": 32,
     "metadata": {},
     "output_type": "execute_result"
    }
   ],
   "source": [
    "G.number_of_edges()"
   ]
  },
  {
   "cell_type": "code",
   "execution_count": 33,
   "metadata": {
    "scrolled": true
   },
   "outputs": [],
   "source": [
    "#G_plot = nx.petersen_graph()\n",
    "#plt.subplot(121)\n",
    "#nx.draw(G, with_labels=True, font_weight='bold')\n",
    "#plt.subplot(122)\n",
    "#nx.draw_shell(G, nlist=[range(5, 10), range(5)], with_labels=True, font_weight='bold')"
   ]
  },
  {
   "cell_type": "markdown",
   "metadata": {},
   "source": [
    "### Cliques, worth a look?\n",
    "Idea from the docs, explanation at https://en.wikipedia.org/wiki/Clique_(graph_theory)\n",
    "\n",
    "So, cliques are allowed to overlap - should've thought of that.  Still, good preliminary results and I've found I can disambiguate the cliques to some degree by cutting out weaker links (fewer shared entities).\n",
    "\n",
    "I should add it also appears to merely suffer from the same problems as the other clustering methods, clusters are ultimately hierarchical!"
   ]
  },
  {
   "cell_type": "code",
   "execution_count": 34,
   "metadata": {},
   "outputs": [],
   "source": [
    "cliques = []\n",
    "for x in nx.find_cliques(G):\n",
    "    x.sort()\n",
    "    cliques.append((len(x), x))"
   ]
  },
  {
   "cell_type": "code",
   "execution_count": 35,
   "metadata": {},
   "outputs": [],
   "source": [
    "cliques_df = pd.DataFrame({\"nodes_list\": [x[1] for x in cliques],\n",
    "                           \"clique_size\": [x[0] for x in cliques]}).\\\n",
    "                    sort_values(\"clique_size\", ascending=False).\\\n",
    "                    reset_index()"
   ]
  },
  {
   "cell_type": "code",
   "execution_count": 36,
   "metadata": {},
   "outputs": [
    {
     "data": {
      "text/plain": [
       "12"
      ]
     },
     "execution_count": 36,
     "metadata": {},
     "output_type": "execute_result"
    }
   ],
   "source": [
    "len(cliques_df[cliques_df['clique_size'] >= 5])"
   ]
  },
  {
   "cell_type": "code",
   "execution_count": 37,
   "metadata": {
    "scrolled": true
   },
   "outputs": [
    {
     "data": {
      "text/html": [
       "<div>\n",
       "<style scoped>\n",
       "    .dataframe tbody tr th:only-of-type {\n",
       "        vertical-align: middle;\n",
       "    }\n",
       "\n",
       "    .dataframe tbody tr th {\n",
       "        vertical-align: top;\n",
       "    }\n",
       "\n",
       "    .dataframe thead th {\n",
       "        text-align: right;\n",
       "    }\n",
       "</style>\n",
       "<table border=\"1\" class=\"dataframe\">\n",
       "  <thead>\n",
       "    <tr style=\"text-align: right;\">\n",
       "      <th></th>\n",
       "      <th>index</th>\n",
       "      <th>nodes_list</th>\n",
       "      <th>clique_size</th>\n",
       "    </tr>\n",
       "  </thead>\n",
       "  <tbody>\n",
       "    <tr>\n",
       "      <th>0</th>\n",
       "      <td>1055</td>\n",
       "      <td>[2104, 2575, 2698, 3240, 3377, 3809, 4050, 4085]</td>\n",
       "      <td>8</td>\n",
       "    </tr>\n",
       "    <tr>\n",
       "      <th>1</th>\n",
       "      <td>58</td>\n",
       "      <td>[4184, 4204, 4225, 4249, 4723, 4772, 4793]</td>\n",
       "      <td>7</td>\n",
       "    </tr>\n",
       "    <tr>\n",
       "      <th>2</th>\n",
       "      <td>1558</td>\n",
       "      <td>[8, 407, 796, 3398, 3768, 4683]</td>\n",
       "      <td>6</td>\n",
       "    </tr>\n",
       "    <tr>\n",
       "      <th>3</th>\n",
       "      <td>84</td>\n",
       "      <td>[857, 3275, 3715, 3785, 4217]</td>\n",
       "      <td>5</td>\n",
       "    </tr>\n",
       "    <tr>\n",
       "      <th>4</th>\n",
       "      <td>1554</td>\n",
       "      <td>[1290, 1291, 3398, 3768, 3998]</td>\n",
       "      <td>5</td>\n",
       "    </tr>\n",
       "    <tr>\n",
       "      <th>5</th>\n",
       "      <td>275</td>\n",
       "      <td>[398, 438, 2999, 3351, 3376]</td>\n",
       "      <td>5</td>\n",
       "    </tr>\n",
       "    <tr>\n",
       "      <th>6</th>\n",
       "      <td>394</td>\n",
       "      <td>[531, 1650, 2369, 2379, 3580]</td>\n",
       "      <td>5</td>\n",
       "    </tr>\n",
       "    <tr>\n",
       "      <th>7</th>\n",
       "      <td>313</td>\n",
       "      <td>[438, 529, 531, 3351, 3944]</td>\n",
       "      <td>5</td>\n",
       "    </tr>\n",
       "    <tr>\n",
       "      <th>8</th>\n",
       "      <td>390</td>\n",
       "      <td>[529, 531, 1639, 1650, 3765]</td>\n",
       "      <td>5</td>\n",
       "    </tr>\n",
       "    <tr>\n",
       "      <th>9</th>\n",
       "      <td>1557</td>\n",
       "      <td>[745, 1594, 2576, 3398, 3768]</td>\n",
       "      <td>5</td>\n",
       "    </tr>\n",
       "    <tr>\n",
       "      <th>10</th>\n",
       "      <td>1561</td>\n",
       "      <td>[764, 796, 2795, 3768, 3799]</td>\n",
       "      <td>5</td>\n",
       "    </tr>\n",
       "    <tr>\n",
       "      <th>11</th>\n",
       "      <td>386</td>\n",
       "      <td>[529, 531, 1650, 3765, 3944]</td>\n",
       "      <td>5</td>\n",
       "    </tr>\n",
       "  </tbody>\n",
       "</table>\n",
       "</div>"
      ],
      "text/plain": [
       "    index                                        nodes_list  clique_size\n",
       "0    1055  [2104, 2575, 2698, 3240, 3377, 3809, 4050, 4085]            8\n",
       "1      58        [4184, 4204, 4225, 4249, 4723, 4772, 4793]            7\n",
       "2    1558                   [8, 407, 796, 3398, 3768, 4683]            6\n",
       "3      84                     [857, 3275, 3715, 3785, 4217]            5\n",
       "4    1554                    [1290, 1291, 3398, 3768, 3998]            5\n",
       "5     275                      [398, 438, 2999, 3351, 3376]            5\n",
       "6     394                     [531, 1650, 2369, 2379, 3580]            5\n",
       "7     313                       [438, 529, 531, 3351, 3944]            5\n",
       "8     390                      [529, 531, 1639, 1650, 3765]            5\n",
       "9    1557                     [745, 1594, 2576, 3398, 3768]            5\n",
       "10   1561                      [764, 796, 2795, 3768, 3799]            5\n",
       "11    386                      [529, 531, 1650, 3765, 3944]            5"
      ]
     },
     "execution_count": 37,
     "metadata": {},
     "output_type": "execute_result"
    }
   ],
   "source": [
    "cliques_df[cliques_df['clique_size'] >= 5]"
   ]
  },
  {
   "cell_type": "code",
   "execution_count": 38,
   "metadata": {},
   "outputs": [
    {
     "data": {
      "text/plain": [
       "1785"
      ]
     },
     "execution_count": 38,
     "metadata": {},
     "output_type": "execute_result"
    }
   ],
   "source": [
    "cliqued = set(flatten(list(cliques_df['nodes_list'])))\n",
    "len(cliqued)"
   ]
  },
  {
   "cell_type": "code",
   "execution_count": 47,
   "metadata": {
    "scrolled": true
   },
   "outputs": [
    {
     "name": "stdout",
     "output_type": "stream",
     "text": [
      "Donald Trump calls diplomat who dropped 'quid pro quo' bombshell on him 'HUMAN SCUM'. President Donald Trump unloaded on diplomat Bill Taylor, who testified in the House Tuesday, calling he and other purportedly 'Never Trump' Republicans 'human scum.'\n",
      "Donald Trump claims he got 'deep respect' and 'got along great' with NATO leaders. President Donald Trump called his trip 'very successful' and claimed he got 'deep respect' from world leaders, although one group was caught laughing at his expense.\n",
      "Donald Trump held last-minute NATO meeting with Turkish president Erdogan. President Donald Trump sat down with Turkish President Recep Erdogan at NATO meetings Wednesday shortly before cancelling his own scheduled press conference.\n",
      "Donald Trump dubs Prime Minister Scott Morrison a 'man of titanium'. U.S. President Donald Trump has dubbed Prime Minister Scott Morrison a 'man of titanium' in their first meeting in the president's Oval Office.\n",
      "Donald Trump begins his week at the UN attacking Joe and Hunter Biden on Ukraine. President Donald Trump teed off on rival Joe Biden at the UN, calling what he did in Ukraine a 'disgrace,' as his own actions toward Ukraine prompted new impeachment talk.\n",
      "Donald Trump PRAISES Iran for not hurting anyone while shooting down U.S. drones. President Donald Trump said he earned 'good will' by not ordering an attack on Iran after the shooting down of a U.S. drone, saying 'nobody was in it.'\n",
      "Donald Trump bizarrely declares he's building a wall in Colorado. President Donald Trump says he was only joking after bizarrely announcing 'we're building a wall in Colorado', despite the state being over 600 miles away from the U.S.- Mexico border.\n",
      "John Legend eviscerates Donald Trump after he compares impeachment proceedings to a 'lynching'. John Legend did not hold back on Tuesday as he unleashed on President Donald Trump for comparing the impeachment process to a 'lynching'.\n"
     ]
    }
   ],
   "source": [
    "for node in cliques_df.iloc[0]['nodes_list']:\n",
    "    print(corpus.iloc[node]['clean_text'])"
   ]
  },
  {
   "cell_type": "code",
   "execution_count": 49,
   "metadata": {
    "scrolled": true
   },
   "outputs": [
    {
     "name": "stdout",
     "output_type": "stream",
     "text": [
      "No more survivors expected to be found after White Island volcano disaster New Zealand. New Zealand police say there have been 'no signs of life at any point' on White Island after it was rocked by an eruption on Monday, and they are not expecting to find any more survivors.\n",
      "The terrifying warning signs that New Zealand's White Island volcano was about to erupt. Scientists have revealed the frightening signs the 21 metre volcano was about to erupt in the weeks leading up to Monday's explosion.\n",
      "More than 20 Australians are caught up in New Zealand's volcano eruption. Police expect the fatalities to grow after New Zealand's Whakaari, or White Island, volcano erupted on Monday afternoon.\n",
      "White Island volcano New Zealand: How warnings were ignored. Between 2011 and 2016 the volcano to the north of New Zealand's north island - which erupted injuring 20 on Monday - had a period of increased activity but still boatloads of tourists arrived.\n",
      "Grave fears for young Australian couple still missing in the wake of New Zealand's volcano disaster. Jason Griffiths, Karla Mathews, and Richard Elzer were passengers on cruise ship Ovation of the Seas with a fourth friend when the trio decided to visit White Island on Monday.\n",
      "Adelaide schoolgirl and her parents are feared dead in New Zealand volcano eruption. Adelaide lawyer Gavin Dallow, his wife Lisa Hosking, 48, and her daughter Zoe Hosking, 15, went on a tour of White Island on Monday and have not been heard from since.\n",
      "New Zealand volcano eruption: Ovation of the Seas captain announces names of missing passengers. At least five people died, 18 were injured and another eight are still missing after the powerful eruption on White Island, also known as Whakaari, New Zealand, at 2.11pm local time on Monday.\n"
     ]
    }
   ],
   "source": [
    "for node in cliques_df.iloc[1]['nodes_list']:\n",
    "    print(corpus.iloc[node]['clean_text'])"
   ]
  },
  {
   "cell_type": "code",
   "execution_count": 50,
   "metadata": {
    "scrolled": true
   },
   "outputs": [
    {
     "name": "stdout",
     "output_type": "stream",
     "text": [
      "Will MPs support Boris Johnson's Brexit deal?. Boris Johnson is locked in a frantic race against time as he tries to persuade a majority of MPs to back his Brexit deal at a crunch vote in the Commons tomorrow.\n",
      "Tetchy Michel Barnier complains that Brexit is a 'school of patience' as he issues backstop warning. Michel Barnier has labelled Brexit a 'school of patience' and warned Boris Johnson any backstop replacement must deliver the same level of protection as the current insurance policy.\n",
      "PM's Brexit timetable rejected. We could be on the brink of an election or a Brexit extension after Boris Johnson suffered another defeat in the Commons.\n",
      "Labour plunged into fresh Brexit chaos as 1 MPs back Boris Johnson's deal. Labour was rocked by fresh Brexit chaos this evening as 1 of Jeremy Corbyn's MPs defied their leader and sided with the government over the UK's departure from the EU.\n",
      "PM woos voters in Grimsby saying Jeremy Corbyn has 'betrayed' them on Brexit. Boris Johnson chatted happily with workers at a fish market in the key target seat after delivering a stark warning that Jeremy Corbyn has 'betrayed' Brexit supporters.\n"
     ]
    }
   ],
   "source": [
    "for node in cliques_df.iloc[3]['nodes_list']:\n",
    "    print(corpus.iloc[node]['clean_text'])"
   ]
  },
  {
   "cell_type": "code",
   "execution_count": 51,
   "metadata": {
    "scrolled": true
   },
   "outputs": [
    {
     "name": "stdout",
     "output_type": "stream",
     "text": [
      "SECOND Jeffrey Epstein victim claims she had sex with Prince Andrew. The woman claims she was abused by billionaire paedophile Jeffrey Epstein. The Duke of York has denied having slept with 17-year-old Virginia Roberts at Ghislaine Maxwell's Belgravia home.\n",
      "FBI 'probes Prince Andrew link to Jeffrey Epstein' and 'won't dismiss claims because he is a royal'. FBI has expended their investigation into Jeffrey Epstein to include 100 alleged victims and sex slave Virginia Roberts reportedly isn't the only one who could provide details on Prince Andrew.\n",
      "Virginia Roberts describes 'having sex with Prince Andrew' aged 17. Giuffre sat down with five other Epstein accusers in her first TV interview where she describes meeting Prince Andrew in London in 2001 and allegedly being 'trafficked' to him.\n",
      "Bombshell witness was 'feet away' from Prince Andrew and Virginia Roberts. Lisa Bloom, lawyer for victims of Jeffrey Epstein, says an as-yet-unnamed woman 'vividly remembers' seeing the pair (pictured) at Tramp nightclub in Mayfair in March 2001.\n"
     ]
    }
   ],
   "source": [
    "for node in cliques_df.iloc[17]['nodes_list']:\n",
    "    print(corpus.iloc[node]['clean_text'])"
   ]
  },
  {
   "cell_type": "markdown",
   "metadata": {},
   "source": [
    "### Connected components"
   ]
  },
  {
   "cell_type": "code",
   "execution_count": 52,
   "metadata": {},
   "outputs": [
    {
     "data": {
      "text/plain": [
       "1452"
      ]
     },
     "execution_count": 52,
     "metadata": {},
     "output_type": "execute_result"
    }
   ],
   "source": [
    "nx.number_connected_components(G)"
   ]
  },
  {
   "cell_type": "code",
   "execution_count": 53,
   "metadata": {},
   "outputs": [],
   "source": [
    "components = [component for component in nx.connected_components(G)]"
   ]
  },
  {
   "cell_type": "code",
   "execution_count": 54,
   "metadata": {
    "scrolled": true
   },
   "outputs": [
    {
     "data": {
      "text/plain": [
       "1785"
      ]
     },
     "execution_count": 54,
     "metadata": {},
     "output_type": "execute_result"
    }
   ],
   "source": [
    "sum([len(component) for component in components])"
   ]
  },
  {
   "cell_type": "markdown",
   "metadata": {},
   "source": [
    "### Community Detection Algorithm"
   ]
  },
  {
   "cell_type": "code",
   "execution_count": 55,
   "metadata": {},
   "outputs": [],
   "source": [
    "from community import best_partition"
   ]
  },
  {
   "cell_type": "code",
   "execution_count": 56,
   "metadata": {},
   "outputs": [
    {
     "data": {
      "text/plain": [
       "1456"
      ]
     },
     "execution_count": 56,
     "metadata": {},
     "output_type": "execute_result"
    }
   ],
   "source": [
    "# Apply Louvain Community Detection\n",
    "# The keys are nodes, the values are the partitions they belong to\n",
    "partition = best_partition(G)\n",
    "\n",
    "number_partitions = max(partition.values())\n",
    "number_partitions"
   ]
  },
  {
   "cell_type": "code",
   "execution_count": 57,
   "metadata": {},
   "outputs": [],
   "source": [
    "# Iterate through and get a list of partitions and their nodes\n",
    "partition_contents = {}\n",
    "for key in partition.keys():\n",
    "    partition_contents[partition[key]] = partition_contents.get(partition[key], []) + [key]\n",
    "\n",
    "# Drop partitions that are too small\n",
    "for key in list(partition_contents.keys()):\n",
    "    if len(partition_contents[key]) < 5:\n",
    "        partition_contents.pop(key)"
   ]
  },
  {
   "cell_type": "code",
   "execution_count": 58,
   "metadata": {},
   "outputs": [
    {
     "name": "stdout",
     "output_type": "stream",
     "text": [
      "[30, 45, 26, 25, 14, 16, 5, 40, 23, 6, 11, 6, 7] 254\n"
     ]
    }
   ],
   "source": [
    "# Let's see how big our \"clusters\" are, and how many there are total after removing the tiny ones\n",
    "partition_lengths = [len(value) for key, value in partition_contents.items()]\n",
    "print(partition_lengths, sum(partition_lengths))"
   ]
  },
  {
   "cell_type": "code",
   "execution_count": 67,
   "metadata": {},
   "outputs": [
    {
     "data": {
      "text/plain": [
       "dict_keys([1, 4, 32, 33, 47, 53, 59, 99, 210, 287, 526, 710, 1219])"
      ]
     },
     "execution_count": 67,
     "metadata": {},
     "output_type": "execute_result"
    }
   ],
   "source": [
    "partition_contents.keys()"
   ]
  },
  {
   "cell_type": "code",
   "execution_count": 76,
   "metadata": {
    "scrolled": true
   },
   "outputs": [
    {
     "name": "stdout",
     "output_type": "stream",
     "text": [
      "What happens now Boris Johnson has an overwhelming majority and mandate to FINALLY get Brexit done?. His first appointment this morning will be at Buckingham Palace, were he will meet the Queen and officially get approval to form the next Government.\n",
      "Boris Johnson faces crunch final vote on his Queen's Speech TODAY. Boris Johnson today faces a crunch vote on his blueprint for the country as MPs decide whether or not to back his Queen's Speech and Remainers plot to force a second Brexit referendum.\n",
      "Brussels reacts with 'sadness but also relief' to UK election. EU leaders have said they now want a quick divorce and to move on to talks on a free-trade accord. Czech Prime Minister Andrej Babis said Brexit would be 'bad news for Europe'.\n",
      "Voters would prefer the short-term disruption of a No Deal Brexit over a Jeremy Corbyn Government. Nearly half of voters would be happy for the UK to leave the EU without a deal if the alternative scenario was Mr Corbyn as Prime Minister. Just 5 per cent preferred to have him in No 10.\n",
      "Israel hails Jeremy Corbyn's crushing defeat as 'a milestone in the fight against anti-Semitism'. Boris Johnson's Conservative party wiped Labour off the map on Thursday night, leaving Jeremy Corbyn to preside over the Labour party's worst showing since 15.\n",
      "Boris Johnson rages at 'dithering' Jeremy Corbyn for blocking his Brexit vow. Boris Johnson laid responsibility for thwarting the UK's departure squarely on the Labour leader as he geared up for a titanic election battle.\n",
      "General election in December? Jeremy Corbyn tells Labour he will back snap poll. Boris Johnson met Jeremy Corbyn for crisis talks this morning in an effort to agree a timetable for passing the deal.\n",
      "New poll: Labour is STILL failing to gain ground on Tories. Jeremy Corbyn and the Labour Party are still failing to gain ground on Boris Johnson and the Tories with the general election now just eight days away.\n",
      "Boris Johnson is more trusted than Jeremy Corbyn, new poll of voters reveals. 6 per cent of voters in the UK said Boris Johnson had the best health policies, while 4 per cent opted for Jeremy Corbyn.\n",
      "Will MPs support Boris Johnson's Brexit deal?. Boris Johnson is locked in a frantic race against time as he tries to persuade a majority of MPs to back his Brexit deal at a crunch vote in the Commons tomorrow.\n"
     ]
    }
   ],
   "source": [
    "for node in partition_contents[1][:10]:\n",
    "    print(corpus.iloc[node]['clean_text'])"
   ]
  },
  {
   "cell_type": "code",
   "execution_count": 78,
   "metadata": {
    "scrolled": true
   },
   "outputs": [
    {
     "name": "stdout",
     "output_type": "stream",
     "text": [
      "David Cameron congratulates Boris Johnson for 'extraordinary result'. Former prime minister David Cameron, who resigned after the UK voted for Brexit in 2016, said the Conservative majority win today was an 'extraordinary' and 'powerful' result.\n",
      "Dominic Raab warns Remainer bill would force the UK to roll over to anything Brussels demands. Dominic Raab vowed that Boris Johnson will be able to defy the 'Surrender Act' stipulating that he must ask for a delay to Brexit if he can't secure a deal.\n",
      "Remainers' LOSE legal challenge that claimed Boris Johnson's Brexit deal is unlawful. At the Court of Session in Edinburgh, Scotland's highest civil cvourt, lawyers argued Boris Johnson's deal, agreed yesterday with the EU, breaches a 2018 UK trade law.\n",
      "David Cameron admits he is 'haunted' and 'deeply pained' over Brexit. David Cameron (pictured) said he was 'haunted' and 'deeply pained' by the current political landscape and was 'deeply sorry' about what had happened since the UK's 2016 referendum.\n",
      "Boris Johnson vows to cut taxes to roll out red carpet for US firms investing in UK after Brexit. Speaking ahead of a meeting with Donald Trump this afternoon, Mr Johnson will tell US business leaders that he will use Brexit to cut tax and regulation to make Britain more competitive.\n",
      "Donald Tusk says he will recommend Brexit EXTENSION to EU. Britain was tonight heading for a fresh Brexit delay after Donald Tusk defied Boris Johnson and said he would recommend that the EU accept a request to push back the UK's divorce date.\n",
      "Nigel Farage claims Boris Johnson's Brexit deal will mean 'many long years of indigestion' for UK. Nigel Farage has savaged Boris Johnson's 'oven-ready' Brexit deal and claimed it will give the UK 'many long years of indigestion' and 'agony'.\n",
      "Brexit: All the times Britain had a deadline for leaving the EU but didn't. The UK has failed to leave the EU on 1 October - and haven't we been here before?\n",
      "French foreign minister says 'NON' to Brexit delay beyond October 1. A senior EU politician today joined calls to block a Brexit delay unless Britain holds a general election or a second referendum to break 'deadlock'.\n",
      "Downing Street source brands attempts to back Brexit delay 'hostile interference'. A number 10 source said attempts to delay Brexit is pointless as Britain will leave on October 1. Countries that oppose delay 'will go to the front of the queue' for cooperation.\n"
     ]
    }
   ],
   "source": [
    "for node in partition_contents[4][:10]:\n",
    "    print(corpus.iloc[node]['clean_text'])"
   ]
  },
  {
   "cell_type": "code",
   "execution_count": 79,
   "metadata": {
    "scrolled": true
   },
   "outputs": [
    {
     "name": "stdout",
     "output_type": "stream",
     "text": [
      "Don Trump Jr jokes 'I wish my name was Hunter Biden' to 'make millions off my father's presidency'. Donald Trump Jr claimed he wanted to emulate the former vice president's son, Hunter Biden, in order to profit from his father being in the White House. He also claimed the media was favoring the Bidens.\n",
      "Donald Trump blasts Democrat savages Adam Schiff and Jerrold Nadler. Trump also called out freshman Rep. Alexandria Ocasio-Cortez and her 'Squad' in tweets on Saturday morning from the White House, prior to departing for Trump National Golf Club.\n",
      "Trump says he may 'TERMINATE' NYT and Washington Post subscriptions. Donald Trump said that he no longer wants to have hard copies of The New York Times and The Washington Post in the White House, claiming he was going to 'terminate' the newspapers.\n",
      "Chaos on Capitol Hill as Democrats repeatedly reject GOP proposals for impeachment rules. In an often contentious hearing that stretched late into Wednesday night, members of the House Rules Committee fiercely debated the resolution to formalize the impeachment probe.\n",
      "Mitch McConnell leaves the month of January open for a Senate trial of Donald Trump. Mitch McConnell went off about the Democrats' impeachment effort directly after House Speaker Nancy Pelosi green-lit articles of impeachment being written Thursday morning on Capitol Hill.\n",
      "Donald Trump berates House Democrats for backing 'Corrupt Adam Schiff'. Donald Trump berated Democrats for their support of Intelligence Committee Chairman Adam Schiff, the man the president has made the target of his fury in the impeachment inquiry.\n",
      "California Congresswoman Katie Hill admits to 'inappropriate' throuple affair with campaign staffer. Democratic Rep. Katie Hill dramatically confessed to having a three-way affair with a young campaign worker on Wednesday just as the House Ethics Committee announced it would investigate her.\n",
      "Donald Trump calls whistleblower complaint about his call to Ukraine's president 'highly partisan'. Trump suggested he knew the identity of the whisteblower whose complaint is at the heart of a standoff between Congress and the Director of National Intelligence and called them 'partisan.'\n",
      "Adam Schiff says removing Trump 'may be the only remedy'. House Intelligence Committee Chairman Rep. Adam Schiff has called for investigating President Trump but has held out on calling for impeachment, but now says we may have 'crossed the Rubicon.'\n",
      "Democrat Marianne Williamson 'falls for fake story' claiming Trump had pardoned Charles Manson. Democratic presidential candidate Marianne Williamson was duped by a fake news article today which claimed Donald Trump had pardoned cult leader Charles Manson.\n"
     ]
    }
   ],
   "source": [
    "for node in partition_contents[32][:10]:\n",
    "    print(corpus.iloc[node]['clean_text'])"
   ]
  },
  {
   "cell_type": "code",
   "execution_count": 80,
   "metadata": {
    "scrolled": true
   },
   "outputs": [
    {
     "name": "stdout",
     "output_type": "stream",
     "text": [
      "Harry and Meghan to call time on illegal poaching of prized shellfish facing extinction. During an official tour to Southern Africa, Prince Harry, 4, and Meghan, 8, (pictured) will shine a spotlight on the prized delicacies, which can sell for up to £420 a plate in China.\n",
      "Meghan Markle and Prince Harry pictured with baby Archie after delayed flight to Cape Town to begin ten-day Africa tour. HARRY, Meghan and baby Archie have arrived in Cape Town for their first Royal Tour as a family after their commercial British Airways flight was delayed by 40 minutes. The couple are beginning their 10-day tour by visiting a township to support a charity that help disadvantaged children. The family had been 40 minutes late [820;]\n",
      "Prince Harry 'ignored advice of senior aides and didn't tell William or Charles about press attack'. Royal sources claim Harry was warned not to publish the statement while he and Meghan were still on their taxpayer-funded tour of Africa.\n",
      "Did Harry and Meghan's SussexRoyal account delete negative comments?. Social media users told Prince Harry and Meghan to 'grow up', while others said their team removing unsupportive views from their Instagram page was a 'sign of what's coming'.\n",
      "Prince Harry and Meghan: Duchess returns to Canada as Queen seeks solution. The Queen asks senior staff to find a way forward after Harry and Meghan chose to \"step back\" from their roles.\n",
      "Meghan Markle meets one of the founding members of South Africa's anti-apartheid movement. The Duchess of Sussex has met with one of the founding members of South Africa's anti-apartheid movement, Sophia Williams-De Bruyn, in Cape Town.\n",
      "Meghan Markle clutches Archie as she prepares to fly to Johannesburg for next leg of royal tour. The Duchess of Sussex was seen cradling four-month old Archie at Cape Town International Airport in South Africa today as they made their way to a scheduled British Airways flight to Johannesburg.\n",
      "Duchess of Sussex urges 'all young women and campaigners' to conquer obstacles in their way. Meghan Markle urged 'all young women organisers, activists and campaigners' to 'keep at it' during an event to honour South Africa's female leaders in Cape Town.\n",
      "Meghan Markle and Prince Harry show off their dance moves in South Africa at start of royal tour with baby Archie. WITHIN hours of touching down in South Africa with baby Archie, Harry and Meghan were today learning some new dance moves. The royal couple were visiting a township near Cape Town, their first stop on a ten-day African tour, where they were greeted with a lively party and plenty of hugs and high fives. The couple [820;]\n",
      "Meghan Markle Duchess of Sussex makes speech about her heritage South Africa Nyanga. Meghan and Harry are visiting Nyanga, where one in 206 people are killed each year, just outside of Cape Town, today after touching down at the airport this morning.\n"
     ]
    }
   ],
   "source": [
    "for node in partition_contents[99][:10]:\n",
    "    print(corpus.iloc[node]['clean_text'])"
   ]
  },
  {
   "cell_type": "code",
   "execution_count": 81,
   "metadata": {
    "scrolled": true
   },
   "outputs": [
    {
     "name": "stdout",
     "output_type": "stream",
     "text": [
      "What Donald Trump really thinks of Scott Morrison's wife Jenny Morrison he referred to as 'Jennifer'. The former nurse struck up quite a rapport with the US President in the lead-up to the state dinner in the White House rose garden - the first for an Australian PM in 1 years.\n",
      "Hillsong pastor claims he 'doesn't know' if Scott Morrison asked for him to come to US. Hillsong pastor Brian Houston said he 'doesn't know' if Scott Morrison had asked for him to join a meeting with US President Donald Trump.\n",
      "Former EU Council head Tusk tweets image of him holding two fingers against Trump's back like a gun. Former EU Council chief Donald Tusk fired a shot at Donald Trump today by tweeting a photo of himself taken last year pretending to point a gun into the back of the US President during a G7 summit.\n",
      "Donald Trump approves deployment of US forces to Saudi Arabia after attacks on American oil facilities. DONALD Trump will send troops to Saudi Arabia after a drone attack on the world8217;s biggest oil plant. The US President confirmed the deployment of US forces as the Middle East moves to the brink of a vicious new war. Defense Secretary Mark Esper said today the attack was a 8220;dramatic escalation of Iranian aggression8221;, [820;]\n",
      "Booze, parties, holidays... how Brussels spends your cash. An audit of Brussels spending shows the EU Council, headed by Donald Tusk, spent more than £100,000 of taxpayers' cash on up to 4,000 bottles of Champagne last year.\n",
      "Iran may have 'murdered' more than 1,000 in recent protests over fuel prices claims US. Washington's top envoy to Tehran Brian Hook said the regime 'could have murdered over 1,000' in its aggressive efforts to stamp out the uprisings over fuel price hikes.\n",
      "Pentagon says Iran DID try to kill US troops in strikes despite claims Tehran deliberately missed. Sources in Washington claimed Tehran gave the US up to three hours warning of the strike via a European embassy, despite previous calls for vengeance after the deadly strike on its general.\n",
      "Iran crisis: US 'ready for serious negotiations' with Tehran. The US tells the UN it is open to talks to avoid more escalation after the exchange of hostilities.\n",
      "Iran attacks US bases with 15 missiles in revenge assault but calm Donald Trump insists ‘All is well!’. IRAN has targeted US bases in Iraq with at least 15 missiles, as retaliation for the US killing of Iranian General Qasem Soleimani. The series of attacks were aimed at Al Asad and Erbil air bases, according to a report from a Tehran-based news agency. Iranian state TV claims 80 8220;American terrorists8221; were killed in [820;]\n",
      "Trump: 'Iran appears to be standing down'. President Trump gives a statement at the White House after Iran fired missiles at US troops in Iraq.\n"
     ]
    }
   ],
   "source": [
    "for node in partition_contents[210][:10]:\n",
    "    print(corpus.iloc[node]['clean_text'])"
   ]
  },
  {
   "cell_type": "code",
   "execution_count": null,
   "metadata": {},
   "outputs": [],
   "source": []
  }
 ],
 "metadata": {
  "kernelspec": {
   "display_name": "Python 3",
   "language": "python",
   "name": "python3"
  },
  "language_info": {
   "codemirror_mode": {
    "name": "ipython",
    "version": 3
   },
   "file_extension": ".py",
   "mimetype": "text/x-python",
   "name": "python",
   "nbconvert_exporter": "python",
   "pygments_lexer": "ipython3",
   "version": "3.7.5"
  }
 },
 "nbformat": 4,
 "nbformat_minor": 2
}
