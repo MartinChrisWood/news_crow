{
 "cells": [
  {
   "cell_type": "markdown",
   "metadata": {},
   "source": [
    "# Experimenting with Cleaning, Clustering & Summarization Pipelines\n",
    "\n",
    "### To do (technical)\n",
    "- Implement date windows on my corpus loader function"
   ]
  },
  {
   "cell_type": "code",
   "execution_count": 1,
   "metadata": {},
   "outputs": [],
   "source": [
    "import os\n",
    "import re\n",
    "import json\n",
    "\n",
    "import numpy as np\n",
    "import pandas as pd\n",
    "import networkx as nx\n",
    "\n",
    "from sklearn.decomposition import PCA\n",
    "import matplotlib.pyplot as plt\n",
    "\n",
    "import lib.helper as helper\n",
    "import lib.embedding_models as reps\n",
    "\n",
    "from importlib import reload\n",
    "\n",
    "%matplotlib inline"
   ]
  },
  {
   "cell_type": "markdown",
   "metadata": {},
   "source": [
    "## 1.  Retrieve Corpus\n",
    "\n",
    "The corpus is being scraped by the \"run_news_scrapes.py\" script (and windows task scheduler) every 12 hours, a bit past midday and a bit past midnight.\n",
    "\n",
    "The \"bing\" corpus are news titles and text extracts gotten from the bing news search API, using a few Home Office - related keywords.\n",
    "\n",
    "The \"RSS\" corpus is plugged directly into a number of RSS feeds for world news sites and local british news sites, with no filters for news story types or subjects applied."
   ]
  },
  {
   "cell_type": "code",
   "execution_count": 2,
   "metadata": {},
   "outputs": [
    {
     "name": "stdout",
     "output_type": "stream",
     "text": [
      "Total files: 77\n",
      "9.1 of files read.\n",
      "18.2 of files read.\n",
      "27.3 of files read.\n",
      "36.4 of files read.\n",
      "45.5 of files read.\n",
      "54.5 of files read.\n",
      "63.6 of files read.\n",
      "72.7 of files read.\n",
      "81.8 of files read.\n",
      "90.9 of files read.\n",
      "100.0 of files read.\n",
      "                                                title  \\\n",
      "0   Usman vs Covington live stream: Free links to ...   \n",
      "6   <b>Flood</b> warnings in place across Berkshir...   \n",
      "11  <b>Flood</b> alert issued for Burton after rai...   \n",
      "13  Swindon <b>flood</b> defence pond overflows an...   \n",
      "14  <b>Flood</b> Warnings issued for River Severn ...   \n",
      "\n",
      "                                              summary  \\\n",
      "0   Colby Covington is set to take on Kamaru Usman...   \n",
      "6   A number of <b>flood</b> warnings are in place...   \n",
      "11  People across Burton and South Derbyshire are ...   \n",
      "13  Pavements and a park have been left flooded du...   \n",
      "14  Heavy rain has seen the Environment Agency put...   \n",
      "\n",
      "                            date  \\\n",
      "0   2019-12-17T00:02:00.0000000Z   \n",
      "6   2019-12-16T13:26:00.0000000Z   \n",
      "11  2019-12-16T09:17:00.0000000Z   \n",
      "13  2019-12-16T17:57:00.0000000Z   \n",
      "14  2019-12-16T11:57:00.0000000Z   \n",
      "\n",
      "                                                 link  \\\n",
      "0   https://www.independent.co.uk/sport/general/mm...   \n",
      "6   https://www.getreading.co.uk/news/reading-berk...   \n",
      "11  https://www.derbytelegraph.co.uk/burton/flood-...   \n",
      "13  https://www.bbc.co.uk/news/uk-england-wiltshir...   \n",
      "14  https://www.gloucestershirelive.co.uk/news/glo...   \n",
      "\n",
      "                       source_url         retrieval_timestamp         origin  \\\n",
      "0           www.independent.co.uk  2019-12-17 00:21:31.786528  bing_news_api   \n",
      "6            www.getreading.co.uk  2019-12-17 00:21:31.787132  bing_news_api   \n",
      "11       www.derbytelegraph.co.uk  2019-12-17 00:21:31.787399  bing_news_api   \n",
      "13                  www.bbc.co.uk  2019-12-17 00:21:31.787503  bing_news_api   \n",
      "14  www.gloucestershirelive.co.uk  2019-12-17 00:21:31.787551  bing_news_api   \n",
      "\n",
      "                                           clean_text  \n",
      "0   Usman vs Covington live stream: Free links to ...  \n",
      "6   Flood warnings in place across Berkshire after...  \n",
      "11  Flood alert issued for Burton after rainfall. ...  \n",
      "13  Swindon flood defence pond overflows and cause...  \n",
      "14  Flood Warnings issued for River Severn as Envi...  \n",
      "(4454, 8)\n"
     ]
    }
   ],
   "source": [
    "# Should be same path for all my PC's, it's where each scrape goes as a separate json file.\n",
    "storage_path = \"/home/ozwald/Dropbox/news_crow/scrape_results\"\n",
    "\n",
    "# \"bing\" is targeted news search corpus, \"RSS\" is from specific world and local news feeds.\n",
    "corpus_type = \"disaster\"\n",
    "\n",
    "# There's a helper function to go find and drag out the various JSON files created by the scrapers.\n",
    "corpus = helper.load_clean_corpus(storage_path, corpus_type)\n",
    "\n",
    "# See how it turned out\n",
    "print(corpus.head())\n",
    "print(corpus.shape)"
   ]
  },
  {
   "cell_type": "markdown",
   "metadata": {},
   "source": [
    "## 2. Clustering using Entity Detection And Network Analytics"
   ]
  },
  {
   "cell_type": "code",
   "execution_count": 3,
   "metadata": {},
   "outputs": [],
   "source": [
    "# Retrive the set of search terms used for Bing, so we can remove them before\n",
    "# clustering.\n",
    "with open(\"/home/ozwald/Dropbox/news_crow/scrape_settings.json\", \"r\") as f:\n",
    "    scrape_config = json.load(f)\n",
    "\n",
    "search_terms = scrape_config['disaster_search_list']\n",
    "search_terms = re.sub(r\"[^0-9A-Za-z ]\", \"\", \" \".join(search_terms)).lower().split()\n",
    "search_terms = set(search_terms)"
   ]
  },
  {
   "cell_type": "code",
   "execution_count": 4,
   "metadata": {},
   "outputs": [
    {
     "data": {
      "text/html": [
       "<div>\n",
       "<style scoped>\n",
       "    .dataframe tbody tr th:only-of-type {\n",
       "        vertical-align: middle;\n",
       "    }\n",
       "\n",
       "    .dataframe tbody tr th {\n",
       "        vertical-align: top;\n",
       "    }\n",
       "\n",
       "    .dataframe thead th {\n",
       "        text-align: right;\n",
       "    }\n",
       "</style>\n",
       "<table border=\"1\" class=\"dataframe\">\n",
       "  <thead>\n",
       "    <tr style=\"text-align: right;\">\n",
       "      <th></th>\n",
       "      <th>I;ve</th>\n",
       "      <th>Mersey</th>\n",
       "      <th>JESSE</th>\n",
       "      <th>Zane</th>\n",
       "      <th>Jerry;s</th>\n",
       "      <th>Harry_Jackson</th>\n",
       "      <th>Eastford</th>\n",
       "      <th>Harington_Jon</th>\n",
       "      <th>McCluskey</th>\n",
       "      <th>quot;magicalquot</th>\n",
       "      <th>...</th>\n",
       "      <th>Henman</th>\n",
       "      <th>Economic</th>\n",
       "      <th>Bushfire</th>\n",
       "      <th>Barclays</th>\n",
       "      <th>Dartford</th>\n",
       "      <th>Greek</th>\n",
       "      <th>Apollo</th>\n",
       "      <th>Moisture</th>\n",
       "      <th>Authorities</th>\n",
       "      <th>Buckland</th>\n",
       "    </tr>\n",
       "  </thead>\n",
       "  <tbody>\n",
       "    <tr>\n",
       "      <th>Usman vs Covington live stream: Free links to watch UFC 245 flood online as piracy hits ;peak levels;. Colby Covington is set to take on Kamaru Usman at the main event of UFC 245, with the Welterweight title on the line. Unusually, UFC has also put two other title fights on a single pay-per-view in the US, as Max Holloway faces Alexander Volkanovski and Amanda Nunes squares off against Germaine de Randamie. Fight fans will be able to watch the ...</th>\n",
       "      <td>0</td>\n",
       "      <td>0</td>\n",
       "      <td>0</td>\n",
       "      <td>0</td>\n",
       "      <td>0</td>\n",
       "      <td>0</td>\n",
       "      <td>0</td>\n",
       "      <td>0</td>\n",
       "      <td>0</td>\n",
       "      <td>0</td>\n",
       "      <td>...</td>\n",
       "      <td>0</td>\n",
       "      <td>0</td>\n",
       "      <td>0</td>\n",
       "      <td>0</td>\n",
       "      <td>0</td>\n",
       "      <td>0</td>\n",
       "      <td>0</td>\n",
       "      <td>0</td>\n",
       "      <td>0</td>\n",
       "      <td>0</td>\n",
       "    </tr>\n",
       "    <tr>\n",
       "      <th>Flood warnings in place across Berkshire after heavy downpours. A number of flood warnings are in place across Berkshire after heavy downpours at the weekend. People have been warned flooding is possible near many of the county;s rivers and those living or working near by have been urged to be prepared. The flood information service on gov.uk has issued a number of flood alerts and experts are monitoring ...</th>\n",
       "      <td>0</td>\n",
       "      <td>0</td>\n",
       "      <td>0</td>\n",
       "      <td>0</td>\n",
       "      <td>0</td>\n",
       "      <td>0</td>\n",
       "      <td>0</td>\n",
       "      <td>0</td>\n",
       "      <td>0</td>\n",
       "      <td>0</td>\n",
       "      <td>...</td>\n",
       "      <td>0</td>\n",
       "      <td>0</td>\n",
       "      <td>0</td>\n",
       "      <td>0</td>\n",
       "      <td>0</td>\n",
       "      <td>0</td>\n",
       "      <td>0</td>\n",
       "      <td>0</td>\n",
       "      <td>0</td>\n",
       "      <td>0</td>\n",
       "    </tr>\n",
       "    <tr>\n",
       "      <th>Flood alert issued for Burton after rainfall. People across Burton and South Derbyshire are being warned to quot;be preparedquot; as a flood alert has been issued across the area. Persistent rainfall has fallen across the last seven days, leading to the warning on the Government website, gov.uk. The flood alert for Burton was issued on the last night, Sunday, December 15, and is still in place today.</th>\n",
       "      <td>0</td>\n",
       "      <td>0</td>\n",
       "      <td>0</td>\n",
       "      <td>0</td>\n",
       "      <td>0</td>\n",
       "      <td>0</td>\n",
       "      <td>0</td>\n",
       "      <td>0</td>\n",
       "      <td>0</td>\n",
       "      <td>0</td>\n",
       "      <td>...</td>\n",
       "      <td>0</td>\n",
       "      <td>0</td>\n",
       "      <td>0</td>\n",
       "      <td>0</td>\n",
       "      <td>0</td>\n",
       "      <td>0</td>\n",
       "      <td>0</td>\n",
       "      <td>0</td>\n",
       "      <td>0</td>\n",
       "      <td>0</td>\n",
       "    </tr>\n",
       "    <tr>\n",
       "      <th>Swindon flood defence pond overflows and causes flooding. Pavements and a park have been left flooded during work to install new drainage. The work, at Merton Fields in Swindon, was for an attenuation pond to divert water during heavy rainfall. However, it immediately overflowed in heavy rain and residents reported water pouring under fences and into gardens. Stratton St Margaret Parish Council ...</th>\n",
       "      <td>0</td>\n",
       "      <td>0</td>\n",
       "      <td>0</td>\n",
       "      <td>0</td>\n",
       "      <td>0</td>\n",
       "      <td>0</td>\n",
       "      <td>0</td>\n",
       "      <td>0</td>\n",
       "      <td>0</td>\n",
       "      <td>0</td>\n",
       "      <td>...</td>\n",
       "      <td>0</td>\n",
       "      <td>0</td>\n",
       "      <td>0</td>\n",
       "      <td>0</td>\n",
       "      <td>0</td>\n",
       "      <td>0</td>\n",
       "      <td>0</td>\n",
       "      <td>0</td>\n",
       "      <td>0</td>\n",
       "      <td>0</td>\n",
       "    </tr>\n",
       "    <tr>\n",
       "      <th>Flood Warnings issued for River Severn as Environment Agency says immediate action required. Heavy rain has seen the Environment Agency put Flood Warnings on stretches of the River Severn in Gloucestershire. It says river levels are expected to remain high until Wednesday and flooding is expected and immediate action required. The Flood Warnings are in place for the River Severn at Apperley and The Leigh and on the River Severn at ...</th>\n",
       "      <td>0</td>\n",
       "      <td>0</td>\n",
       "      <td>0</td>\n",
       "      <td>0</td>\n",
       "      <td>0</td>\n",
       "      <td>0</td>\n",
       "      <td>0</td>\n",
       "      <td>0</td>\n",
       "      <td>0</td>\n",
       "      <td>0</td>\n",
       "      <td>...</td>\n",
       "      <td>0</td>\n",
       "      <td>0</td>\n",
       "      <td>0</td>\n",
       "      <td>0</td>\n",
       "      <td>0</td>\n",
       "      <td>0</td>\n",
       "      <td>0</td>\n",
       "      <td>0</td>\n",
       "      <td>0</td>\n",
       "      <td>0</td>\n",
       "    </tr>\n",
       "  </tbody>\n",
       "</table>\n",
       "<p>5 rows × 7236 columns</p>\n",
       "</div>"
      ],
      "text/plain": [
       "                                                    I;ve  Mersey  JESSE  Zane  \\\n",
       "Usman vs Covington live stream: Free links to w...     0       0      0     0   \n",
       "Flood warnings in place across Berkshire after ...     0       0      0     0   \n",
       "Flood alert issued for Burton after rainfall. P...     0       0      0     0   \n",
       "Swindon flood defence pond overflows and causes...     0       0      0     0   \n",
       "Flood Warnings issued for River Severn as Envir...     0       0      0     0   \n",
       "\n",
       "                                                    Jerry;s  Harry_Jackson  \\\n",
       "Usman vs Covington live stream: Free links to w...        0              0   \n",
       "Flood warnings in place across Berkshire after ...        0              0   \n",
       "Flood alert issued for Burton after rainfall. P...        0              0   \n",
       "Swindon flood defence pond overflows and causes...        0              0   \n",
       "Flood Warnings issued for River Severn as Envir...        0              0   \n",
       "\n",
       "                                                    Eastford  Harington_Jon  \\\n",
       "Usman vs Covington live stream: Free links to w...         0              0   \n",
       "Flood warnings in place across Berkshire after ...         0              0   \n",
       "Flood alert issued for Burton after rainfall. P...         0              0   \n",
       "Swindon flood defence pond overflows and causes...         0              0   \n",
       "Flood Warnings issued for River Severn as Envir...         0              0   \n",
       "\n",
       "                                                    McCluskey  \\\n",
       "Usman vs Covington live stream: Free links to w...          0   \n",
       "Flood warnings in place across Berkshire after ...          0   \n",
       "Flood alert issued for Burton after rainfall. P...          0   \n",
       "Swindon flood defence pond overflows and causes...          0   \n",
       "Flood Warnings issued for River Severn as Envir...          0   \n",
       "\n",
       "                                                    quot;magicalquot  ...  \\\n",
       "Usman vs Covington live stream: Free links to w...                 0  ...   \n",
       "Flood warnings in place across Berkshire after ...                 0  ...   \n",
       "Flood alert issued for Burton after rainfall. P...                 0  ...   \n",
       "Swindon flood defence pond overflows and causes...                 0  ...   \n",
       "Flood Warnings issued for River Severn as Envir...                 0  ...   \n",
       "\n",
       "                                                    Henman  Economic  \\\n",
       "Usman vs Covington live stream: Free links to w...       0         0   \n",
       "Flood warnings in place across Berkshire after ...       0         0   \n",
       "Flood alert issued for Burton after rainfall. P...       0         0   \n",
       "Swindon flood defence pond overflows and causes...       0         0   \n",
       "Flood Warnings issued for River Severn as Envir...       0         0   \n",
       "\n",
       "                                                    Bushfire  Barclays  \\\n",
       "Usman vs Covington live stream: Free links to w...         0         0   \n",
       "Flood warnings in place across Berkshire after ...         0         0   \n",
       "Flood alert issued for Burton after rainfall. P...         0         0   \n",
       "Swindon flood defence pond overflows and causes...         0         0   \n",
       "Flood Warnings issued for River Severn as Envir...         0         0   \n",
       "\n",
       "                                                    Dartford  Greek  Apollo  \\\n",
       "Usman vs Covington live stream: Free links to w...         0      0       0   \n",
       "Flood warnings in place across Berkshire after ...         0      0       0   \n",
       "Flood alert issued for Burton after rainfall. P...         0      0       0   \n",
       "Swindon flood defence pond overflows and causes...         0      0       0   \n",
       "Flood Warnings issued for River Severn as Envir...         0      0       0   \n",
       "\n",
       "                                                    Moisture  Authorities  \\\n",
       "Usman vs Covington live stream: Free links to w...         0            0   \n",
       "Flood warnings in place across Berkshire after ...         0            0   \n",
       "Flood alert issued for Burton after rainfall. P...         0            0   \n",
       "Swindon flood defence pond overflows and causes...         0            0   \n",
       "Flood Warnings issued for River Severn as Envir...         0            0   \n",
       "\n",
       "                                                    Buckland  \n",
       "Usman vs Covington live stream: Free links to w...         0  \n",
       "Flood warnings in place across Berkshire after ...         0  \n",
       "Flood alert issued for Burton after rainfall. P...         0  \n",
       "Swindon flood defence pond overflows and causes...         0  \n",
       "Flood Warnings issued for River Severn as Envir...         0  \n",
       "\n",
       "[5 rows x 7236 columns]"
      ]
     },
     "execution_count": 4,
     "metadata": {},
     "output_type": "execute_result"
    }
   ],
   "source": [
    "# Generate the text representation\n",
    "model = reps.NounAdjacencyModel(list(corpus['clean_text']), list(corpus['clean_text']))\n",
    "\n",
    "# Tabulate for convenience\n",
    "nouns_df = model.table.copy()\n",
    "nouns_df.head()"
   ]
  },
  {
   "cell_type": "markdown",
   "metadata": {},
   "source": [
    "### Drop any noun/noun phrase containing one of the search terms, then create an adjacency matrix\n",
    "\n",
    "### Drop any noun/phrase occuring too infrequently"
   ]
  },
  {
   "cell_type": "code",
   "execution_count": 5,
   "metadata": {},
   "outputs": [
    {
     "name": "stdout",
     "output_type": "stream",
     "text": [
      "(4454, 500)\n"
     ]
    }
   ],
   "source": [
    "# Get 500 most common nouns\n",
    "nouns_to_keep = list(nouns_df.\\\n",
    "                    sum(axis=0).\\\n",
    "                    sort_values(ascending=False).\\\n",
    "                    index)\n",
    "\n",
    "# Cut out any nouns containing the original search terms\n",
    "nouns_to_keep = [noun for noun in nouns_to_keep if sum([term in noun for term in search_terms]) == 0]\n",
    "\n",
    "# Keep only top 500 most common\n",
    "nouns_to_keep = nouns_to_keep[:500]\n",
    "\n",
    "# Subset nouns dataframe\n",
    "nouns_df = nouns_df[nouns_to_keep]\n",
    "\n",
    "print(nouns_df.shape)"
   ]
  },
  {
   "cell_type": "code",
   "execution_count": 6,
   "metadata": {},
   "outputs": [
    {
     "name": "stdout",
     "output_type": "stream",
     "text": [
      "11\n"
     ]
    }
   ],
   "source": [
    "embeddings = np.asarray(nouns_df)\n",
    "adjacency = np.dot(embeddings, embeddings.T)\n",
    "print(np.max(adjacency))"
   ]
  },
  {
   "cell_type": "code",
   "execution_count": 42,
   "metadata": {},
   "outputs": [],
   "source": [
    "# If the \"lower\" limit is 1, the graph has so many edges it eats ALL the memory of my desktop, even\n",
    "# with just 500-ish stories to process.\n",
    "upper = 100\n",
    "lower = 3\n",
    "G = nx.Graph()\n",
    "rows, cols = np.where((upper >= adjacency) & (adjacency >= lower))\n",
    "weights = [float(adjacency[rows[i], cols[i]]) for i in range(len(rows))]\n",
    "edges = zip(rows.tolist(), cols.tolist(), weights)\n",
    "G.add_weighted_edges_from(edges)\n",
    "\n",
    "# Simplify; remove self-edges\n",
    "G.remove_edges_from(nx.selfloop_edges(G))"
   ]
  },
  {
   "cell_type": "code",
   "execution_count": 43,
   "metadata": {},
   "outputs": [
    {
     "data": {
      "text/plain": [
       "2547"
      ]
     },
     "execution_count": 43,
     "metadata": {},
     "output_type": "execute_result"
    }
   ],
   "source": [
    "G.number_of_edges()"
   ]
  },
  {
   "cell_type": "markdown",
   "metadata": {},
   "source": [
    "### Cliques, worth a look?\n",
    "Idea from the docs, explanation at https://en.wikipedia.org/wiki/Clique_(graph_theory)\n",
    "\n",
    "So, cliques are allowed to overlap - should've thought of that.  Still, good preliminary results and I've found I can disambiguate the cliques to some degree by cutting out weaker links (fewer shared entities).\n",
    "\n",
    "I should add it also appears to merely suffer from the same problems as the other clustering methods, clusters are ultimately hierarchical!"
   ]
  },
  {
   "cell_type": "code",
   "execution_count": 44,
   "metadata": {},
   "outputs": [],
   "source": [
    "cliques = []\n",
    "for x in nx.find_cliques(G):\n",
    "    x.sort()\n",
    "    cliques.append((len(x), x))"
   ]
  },
  {
   "cell_type": "code",
   "execution_count": 45,
   "metadata": {},
   "outputs": [],
   "source": [
    "cliques_df = pd.DataFrame({\"nodes_list\": [x[1] for x in cliques],\n",
    "                           \"clique_size\": [x[0] for x in cliques]}).\\\n",
    "                    sort_values(\"clique_size\", ascending=False).\\\n",
    "                    reset_index()"
   ]
  },
  {
   "cell_type": "code",
   "execution_count": 46,
   "metadata": {},
   "outputs": [
    {
     "data": {
      "text/plain": [
       "77"
      ]
     },
     "execution_count": 46,
     "metadata": {},
     "output_type": "execute_result"
    }
   ],
   "source": [
    "len(cliques_df[cliques_df['clique_size'] >= 5])"
   ]
  },
  {
   "cell_type": "code",
   "execution_count": 47,
   "metadata": {
    "scrolled": true
   },
   "outputs": [
    {
     "data": {
      "text/html": [
       "<div>\n",
       "<style scoped>\n",
       "    .dataframe tbody tr th:only-of-type {\n",
       "        vertical-align: middle;\n",
       "    }\n",
       "\n",
       "    .dataframe tbody tr th {\n",
       "        vertical-align: top;\n",
       "    }\n",
       "\n",
       "    .dataframe thead th {\n",
       "        text-align: right;\n",
       "    }\n",
       "</style>\n",
       "<table border=\"1\" class=\"dataframe\">\n",
       "  <thead>\n",
       "    <tr style=\"text-align: right;\">\n",
       "      <th></th>\n",
       "      <th>index</th>\n",
       "      <th>nodes_list</th>\n",
       "      <th>clique_size</th>\n",
       "    </tr>\n",
       "  </thead>\n",
       "  <tbody>\n",
       "    <tr>\n",
       "      <th>0</th>\n",
       "      <td>1657</td>\n",
       "      <td>[310, 474, 622, 999, 1169, 1227, 1237, 1248, 1...</td>\n",
       "      <td>25</td>\n",
       "    </tr>\n",
       "    <tr>\n",
       "      <th>1</th>\n",
       "      <td>190</td>\n",
       "      <td>[326, 327, 498, 501, 504, 1264, 2433, 2434, 39...</td>\n",
       "      <td>10</td>\n",
       "    </tr>\n",
       "    <tr>\n",
       "      <th>2</th>\n",
       "      <td>727</td>\n",
       "      <td>[1310, 1875, 2015, 2307, 3356, 3509, 3700, 389...</td>\n",
       "      <td>10</td>\n",
       "    </tr>\n",
       "    <tr>\n",
       "      <th>3</th>\n",
       "      <td>80</td>\n",
       "      <td>[141, 145, 146, 151, 802, 1733, 1833, 1834, 2670]</td>\n",
       "      <td>9</td>\n",
       "    </tr>\n",
       "    <tr>\n",
       "      <th>4</th>\n",
       "      <td>448</td>\n",
       "      <td>[788, 1244, 1412, 1726, 3158, 4084, 4086, 4287]</td>\n",
       "      <td>8</td>\n",
       "    </tr>\n",
       "    <tr>\n",
       "      <th>...</th>\n",
       "      <td>...</td>\n",
       "      <td>...</td>\n",
       "      <td>...</td>\n",
       "    </tr>\n",
       "    <tr>\n",
       "      <th>72</th>\n",
       "      <td>644</td>\n",
       "      <td>[1175, 1179, 1483, 3534, 3976]</td>\n",
       "      <td>5</td>\n",
       "    </tr>\n",
       "    <tr>\n",
       "      <th>73</th>\n",
       "      <td>520</td>\n",
       "      <td>[920, 1898, 2040, 2049, 2991]</td>\n",
       "      <td>5</td>\n",
       "    </tr>\n",
       "    <tr>\n",
       "      <th>74</th>\n",
       "      <td>566</td>\n",
       "      <td>[1028, 1030, 1036, 1426, 2143]</td>\n",
       "      <td>5</td>\n",
       "    </tr>\n",
       "    <tr>\n",
       "      <th>75</th>\n",
       "      <td>134</td>\n",
       "      <td>[223, 229, 1309, 2721, 3760]</td>\n",
       "      <td>5</td>\n",
       "    </tr>\n",
       "    <tr>\n",
       "      <th>76</th>\n",
       "      <td>463</td>\n",
       "      <td>[811, 1732, 2488, 2671, 4219]</td>\n",
       "      <td>5</td>\n",
       "    </tr>\n",
       "  </tbody>\n",
       "</table>\n",
       "<p>77 rows × 3 columns</p>\n",
       "</div>"
      ],
      "text/plain": [
       "    index                                         nodes_list  clique_size\n",
       "0    1657  [310, 474, 622, 999, 1169, 1227, 1237, 1248, 1...           25\n",
       "1     190  [326, 327, 498, 501, 504, 1264, 2433, 2434, 39...           10\n",
       "2     727  [1310, 1875, 2015, 2307, 3356, 3509, 3700, 389...           10\n",
       "3      80  [141, 145, 146, 151, 802, 1733, 1833, 1834, 2670]            9\n",
       "4     448    [788, 1244, 1412, 1726, 3158, 4084, 4086, 4287]            8\n",
       "..    ...                                                ...          ...\n",
       "72    644                     [1175, 1179, 1483, 3534, 3976]            5\n",
       "73    520                      [920, 1898, 2040, 2049, 2991]            5\n",
       "74    566                     [1028, 1030, 1036, 1426, 2143]            5\n",
       "75    134                       [223, 229, 1309, 2721, 3760]            5\n",
       "76    463                      [811, 1732, 2488, 2671, 4219]            5\n",
       "\n",
       "[77 rows x 3 columns]"
      ]
     },
     "execution_count": 47,
     "metadata": {},
     "output_type": "execute_result"
    }
   ],
   "source": [
    "cliques_df[cliques_df['clique_size'] >= 5]"
   ]
  },
  {
   "cell_type": "code",
   "execution_count": 48,
   "metadata": {},
   "outputs": [],
   "source": [
    "# Useful flatten function from Alex Martelli on https://stackoverflow.com/questions/952914/how-to-make-a-flat-list-out-of-list-of-lists\n",
    "flatten = lambda l: [item for sublist in l for item in sublist]"
   ]
  },
  {
   "cell_type": "code",
   "execution_count": 49,
   "metadata": {},
   "outputs": [
    {
     "data": {
      "text/plain": [
       "2358"
      ]
     },
     "execution_count": 49,
     "metadata": {},
     "output_type": "execute_result"
    }
   ],
   "source": [
    "cliqued = set(flatten(list(cliques_df['nodes_list'])))\n",
    "len(cliqued)"
   ]
  },
  {
   "cell_type": "code",
   "execution_count": 50,
   "metadata": {
    "scrolled": true
   },
   "outputs": [
    {
     "name": "stdout",
     "output_type": "stream",
     "text": [
      "Australia wildfires: minister donates £,000 to koala charity as he asks for change in international development funding. He revealed that he has given the fee Members of Parliament are given if they lose their seats to Wires, an Australian charity which is rescuing animals, including koalas, from the wildfires. Australia is burning. Over a billion animals have died, including 0% of the entire koala population in the mid-north coast of New South Wales.\n",
      "Wildfire-ravaged areas of Australia get Christmas respite. An emergency vehicle near a fire in Blackheath, New South Wales (Ingleside Rural Fire Brigade/AP) The wildfire crisis forced Mr Morrison to cut short his much-criticised family holiday in Hawaii. He returned to Australia on Saturday night. “To Andrew and Geoffrey’s parents, we know this is going to be a tough Christmas for you, first one ...\n",
      "Why record wildfires and soaring temperatures won;t sway Australia;s government on climate change. The Australian Government is under fire for inaction on climate change while a bush fire crisis and a heatwave sweeps the country. On Tuesday Australia experienced its hottest day on record with the national average temperature reaching a high of 40.C. Late on Wednesday there were 100 bush fires burning in New South Wales alone, with 54 still ...\n",
      "‘National tragedy’: Hundreds of koalas feared dead in Australian wildfire. Hundreds of koalas are feared to have died in wildfires raging along Australia’s east coast. The fire started on Friday after a lightning strike hit a forest in the state of New South Wales. The blaze has since burned through 4,00 acres. Sharing the ...\n",
      "Rain douses some Australian bush fires but flash floods now threaten wildlife. Heavy rains in fire-ravaged eastern Australia have brought welcome relief for firefighters and farmers, but sparked flash floods that have led to fresh scrambles to save native animals. As the rain hit on Thursday the New South Wales State Emergency Services department warned that the sudden heavy downpours in some areas would bring flash ...\n",
      "How moisture-seeking drilling kit helps drought-hit Aussies. A new drilling outfit developed in Australia is using clever moisture-sensing tines to automatically alter sowing depth according to soil conditions. Moisture Planting Technologies (MPT), based in New South Wales, has designed the kit primarily to help Aussie farmers avoid unnecessary wear and tear on machines by reducing sowing depth in areas ...\n",
      "Climate emergency: Duck-billed platypus could face extinction due to droughts. The animal, which is found in eastern Australia’s river systems, has already disappeared from 40 per cent of its range, due to droughts, pollution, land clearances and the building of dams. Sharing the full story, not just the headlines Scientists from the University of New South Wales’ Centre for Ecosystem Science said that if the ...\n",
      "Northampton university professor seeing Australian wildfire devastation first-hand. A University of Northampton science professor is currently caught in the middle of wildfires ravaging Australia. Ecology expert Jeff Ollerton, is nearing the end of a two-month stint Down Under working on a research project at Sydney;s University of New South Wales. Fires have so far engulfed nearly 40,000 square miles of land, destroying ...\n",
      "Koala rescued from wildfires by passerby. A badly-burnt koala is rescued by a brave passerby as it crawled through a wildfire in Australia. The koala, named Lewis, is facing a long recovery. Toni Doherty gave him water and wrapped him in a blanket after finding the injured koala on the Oxley Highway west of the New South Wales state town of Wauchope. The 14-year-old animal was taken to ...\n",
      "Smoke from Australian wildfires will make a ‘full circuit’ around Earth, Nasa says. A satellite image shows thick smoke moving into the Tasman Sea from the states of New South Wales and Victoria (Nasa) As the devastating wildfires continue to ravage Australia, the resulting smoke is set to make a complete circuit of the globe. Nasa is currently tracking the smoke as it moves through the atmosphere. The space agency says the ...\n",
      "Shawn Mendes donates to Australia wildfire relief efforts. The 21-year-old singer has announced both he and his Shawn Mendes Foundation will be donating an undisclosed sum of money to causes including Australia;s Red Cross, the New South Wales Rural Fire Service, and South Australia Country Fire Service, to help ease the strain on those impacted by the devastating fires that are tearing through parts ...\n",
      "Australian authorities warn of two more months of wildfire hell as 1,200 homes destroyed. The wildfires that have decimated large parts of Australia and killed 26 people could burn for months. So far an area three times the size of Wales has been destroyed by flames and a billion animals have been killed. One public figure compared the blazes to an “atomic bomb”. Andrew Constance, New South Wales transport minister, said: “It ...\n",
      "Australia: Queensland and NSW hit with flash floods and heavy rain. Parts of Australia have been hit by heavy rain and flash flooding. Queensland and New South Wales on the west coast of Australia were hit the hardest. According to weather experts, three times the normal monthly rainfall fell on the Gold Coast in the last ...\n",
      "Water Thieves Steal 00,000 Litres in Australia as Our Mad Max-Style Future Becomes Reality. Thieves stole roughly 00,000 litres of water in a region of Australia that’s suffering from one of the worst droughts in the history of the country. And with record-breaking heat and bushfires getting even larger, it feels like Australia is living in the future. That future, unfortunately, looks a lot like Mad Max. Police in New South Wales ...\n",
      "Australian PM defends government policy on climate change amid wildfire crisis. Australia’s embattled prime minister has defended his government’s climate policy, as authorities warned the wildfires crisis could fester for months. Around 200 wildfires were burning in four states, with New South Wales accounting for more than half of them, including 60 fires which are not contained. The disaster has led to renewed ...\n",
      "Sydney facing ;catastrophic; threat as Australian state declares wildfire emergency. Residents in Sydney;s suburbs are preparing to evacuate after a quot;catastrophicquot; warning was put in place for the city as wildfires continue to rage across Australia. Ferocious infernos were burning at emergency-level intensity across the nation;s most populous state New South Wales on Tuesday as authorities warned most populations in their paths ...\n",
      "‘National tragedy’: Hundreds of koalas feared dead in Australian wildfire. Hundreds of koalas are feared to have died in wildfires raging along Australia’s east coast. The fire started on Friday after a lightning strike hit a forest in the state of New South Wales. The blaze has since burned through 4,00 acres. Sharing the full story, not just the headlines Sue Ashton, the president of Port Macquarie Koala Hospital ...\n",
      "Amazing moment Aussie farmer celebrates as rain finally falls in New South Wales. The heavy downpour follows months of dangerous droughts and horrific bushfires that have claimed animals, land and human life. A farmer has revealed the incredible moment he celebrated heavy rain falling on his land after months of drought in New South Wales, Australia. Bryce Chapman posted a heartwarming video of himself laughing, screaming ...\n",
      "Hailstones the size of GOLF BALLS batter fire-ravaged Australia as freak thunderstorms spark flash floods. HAILSTONES the size of golf balls have hit Melbourne as thunderstorms cause flash floods. The country has been hit by a volatile mixture of weather that saw scorching temperatures and bushfires turn to severe flooding and even supercell storms. The death toll in the New South Wales bushfires has now risen to 21 after an 84-year-old man who ...\n",
      "Thousands of koalas feared dead as massive Australian wildfires destroy habitat. The mid-north coast of New South Wales was home to up to 28,000 koalas, but wildfires in the area in recent months have significantly reduced their population. Koalas are native to Australia and are one of the country’s most beloved animals, but they have been under threat due to a loss of habitat. Smoke rises from wildfires in the Blue ...\n",
      "Thousands of koalas feared to have died in Australian wildfires. The mid-north coast of New South Wales was home to up to 28,000 koalas, but wildfires in the area in recent months have significantly reduced their population. Images shared of koalas drinking water after being rescued from the wildfires have gone viral on social media in recent days. Koalas are native to Australia and are one of the country ...\n",
      "Australia: Storms help tackle fires but trigger floods. Heavy downpours swept across parts of Australia;s east coast, with more than a month;s worth of rain falling in less than 24 hours in some areas. The rain has even caused flash floods in New South Wales, one of the states most affected by the bushfires. Australia has been battling an extended three-year drought, which combined with the hottest ...\n",
      "Australia wildfires MAP: Where are the raging killer infernos burning in Australia now?. Terrifying wildfires have ripped across Australia since September, destroying homes, forcing evacuations and tragically killing at least 24 people. On Sunday, the New South Wales Transport Minister Andrew Constance compared the raging infernos to “an atomic bomb”. The killer blazes have turned the sky bright orange and Australian Prime ...\n",
      "Smoke from Australian wildfires will make a ‘full circuit’ around Earth, Nasa says. A satellite image shows thick smoke moving into the Tasman Sea from the states of New South Wales and Victoria (Nasa) As the devastating wildfires continue to ravage Australia, the resulting smoke ...\n",
      "Australia wildfires: Firefighters killed as ;catastrophic; blazes encircle Sydney. Catastrophic conditions fuelled massive bushfires across New South Wales in Australia on Saturday, with two blazes around Sydney burning at emergency level. In South Australia one person was found dead in a fire zone, following the deaths of two firefighters in New South Wales on Thursday. Some major roads heading to the south and west from ...\n"
     ]
    }
   ],
   "source": [
    "for node in cliques_df.iloc[0]['nodes_list']:\n",
    "    print(corpus.iloc[node]['clean_text'])"
   ]
  },
  {
   "cell_type": "code",
   "execution_count": 51,
   "metadata": {
    "scrolled": true
   },
   "outputs": [
    {
     "name": "stdout",
     "output_type": "stream",
     "text": [
      "Typhoon Phanfone: Philippines assesses devastation as storm with winds up to 200kph kills at least 20. At least 20 people have been confirmed dead as the Philippines counted the cost of a devastating typhoon that ripped through the centre of the country on Christmas Day. Typhoon Phanfone made landfall on Tuesday night, but the extent of the damage was only ...\n",
      "Typhoon Phanfone kills at least 16 as 120mph winds smash into the Philippines. At least 16 people have died after a typhoon swept across the Philippines on Christmas Day. Typhoon Phanfone saw winds of 120mph smash into remote villages and popular tourist areas, leaving a trail of devastation. Tens of thousands of people have been left stranded as transport ground to a halt while they tried to make their way home for ...\n",
      "Typhoon Phanfone claims at least 16 lives in Philippines. A typhoon that swept through the Philippines on Tuesday and Wednesday has claimed at least 16 lives, and caused tens of thousands of people to be evacuated from their homes. On Christmas Day the gusts of Typhoon Phanfone reached speeds of up to 200 kilometres an hour as they ripped through Visayas: the central region of the predominantly ...\n",
      "Typhoon Phanfone: Philippines assesses devastation as storm with winds up to 200kph kills at least 16. At least 16 people have been confirmed dead as the Philippines counted the cost of a devastating typhoon that ripped through the centre of the country on Christmas Day. Typhoon Phanfone made landfall on Tuesday night, but the extent of the damage was only just becoming clear on Thursday. Also known as Ursula, the storm brought winds of up to ...\n",
      "Typhoon Phanfone kills at least 16 in Philippines. A typhoon that swept across remote villages and popular tourist areas of the central Philippines on Christmas Day claimed at least 16 lives, authorities said Thursday. Typhoon Phanfone, with winds of 15 kilometres (120 miles) an hour, tore roofs off ...\n",
      "Typhoon Phanfone: Philippines assesses devastation as storm with winds up to 200kph kills at least 20. At least 20 people have been confirmed dead as the Philippines counted the cost of a devastating typhoon that ripped through the centre of the country on Christmas Day. Typhoon Phanfone made landfall on Tuesday night, but the extent of the damage was only just becoming clear on Thursday. Also known as Ursula, the storm brought winds of up to ...\n",
      "Typhoon Phanfone claims at least 16 lives in Philippines. A typhoon that swept through the Philippines on Tuesday and Wednesday has claimed at least 16 lives, and caused tens of thousands of people to be evacuated from their homes. On Christmas Day the gusts of Typhoon Phanfone reached speeds of up to 200 ...\n",
      "Typhoon Phanfone kills at least 16 as 120mph winds smash into the Philippines. At least 16 people have died after a typhoon swept across the Philippines on Christmas Day. Typhoon Phanfone saw winds of 120mph smash into remote villages and popular tourist areas, leaving a ...\n",
      "Typhoon Phanfone kills at least 16 in Philippines. A typhoon that swept across remote villages and popular tourist areas of the central Philippines on Christmas Day claimed at least 16 lives, authorities said Thursday. Typhoon Phanfone, with winds of 15 kilometres (120 miles) an hour, tore roofs off houses and toppled electric posts as it cut across the Philippines on Wednesday. With the ...\n",
      "Typhoon Phanfone: Philippines assesses devastation as storm with winds up to 200kph kills at least 16. At least 16 people have been confirmed dead as the Philippines counted the cost of a devastating typhoon that ripped through the centre of the country on Christmas Day. Typhoon Phanfone made landfall on Tuesday night, but the extent of the damage was only ...\n"
     ]
    }
   ],
   "source": [
    "for node in cliques_df.iloc[1]['nodes_list']:\n",
    "    print(corpus.iloc[node]['clean_text'])"
   ]
  },
  {
   "cell_type": "code",
   "execution_count": 52,
   "metadata": {
    "scrolled": true
   },
   "outputs": [
    {
     "name": "stdout",
     "output_type": "stream",
     "text": [
      "UK weather forecast: Met Office flood warning as Brits brace for 5 days of rain. The Met Office has issued yellow weather warnings from Sunday until Wednesday, with Scotland, northern England, the south-west and the East Midlands all expected to be hit by a winter deluge\n",
      "UK weather forecast – Met Office issues flood warning as Brits are set for ‘wet and wild’ election day. The Met Office issued a yellow wind warning for large swathes of the North West - rocked by 8mph gales yesterday - as well as a severe flood warning. The stronger gusts are expected to lash coastal areas - with 50mph expected inland. It could cause travel chaos and leave homes without power, with delays to road, rail, air and ferry transport ...\n",
      "UK weather forecast: Met Office issues ‘danger to life’ warning as flood-hit areas brace for more rain. Flood-hit areas in south Yorkshire are bracing for yet more rain as wintry weather that has lashed England’s southwest moves north. The Met Office has warned of additional and possibly life-threatening flooding on Thursday and Friday, which may cause some already-waterlogged places to be cut off and result in power cuts. A yellow-level ...\n",
      "UK weather forecast – Snow, ice and 70mph winds to batter Britain this week, Met Office warns. WIND gusts of up to 70mph are expected for the west of the UK this week and forecasters are warning of the potential for transport disruption. The Met Office has issued five weather warnings for this week - and Northern Ireland, Wales and western parts of Scotland and England are set to bear the brunt of the gales and wet weather. Heavy rain is ...\n",
      "WEATHER: Snow and ice warning issued for East Lancashire. A WEATHER warning of snow and ice has been issued for East Lancashire. The Met Office has announced snow is likely to move eastwards across northern parts of the UK today with higher areas more likely affected between 6am and 6pm. A Met Office spokesman said: quot;In addition, rain may fall onto frozen surfaces for a time following a very cold night.\n",
      "UK weather forecast – Met Office issues SEVERE ice warning as snow blankets North and Wales. BRITS are set to shiver tonight as temperatures plummet to -8C, bringing freezing fog and more snow showers to some regions. The Met Office has issued severe ice warnings across Scotland, the north of England and Wales until Monday morning, when more wind and rain showers are expected. Weather forecasters say temperatures could plunge as low as ...\n",
      "What the Met Office is saying about snow in its UK long-range forecast. We;re unlikely to see much of the white stuff in Gloucestershire but northern areas could see some within the month If you fancy seeing some winter snow, you’ll have to travel to northern parts of the UK. The Met Office has released its latest long-range forecast for the country into February. It says there could be some cold spells in ...\n",
      "Election week could be hit with snow and freezing fog, say Met Office. SNOW and freezing fog could be on the cards for next week;s General Election. Temperatures will dive to sub-zero levels in some parts of the UK as winter really sets in, coinciding with voters heading to the polls, the Met Office has said. Election week is predicted to see longer spells of rain, wintry showers and harsh winds, meteorologists say.\n",
      "Snow is set to hit the UK but Met Office predicts Hull will escape early falls. The Met Office says they can only officially predict five days ahead, but can safely say there will be no snow falling across the region anytime soon. However, there will be plenty of cold weather, but people can enjoy clear skies as we head into the weekend with a lengthy period of high pressure. There have been claims we will see snow between ...\n",
      "Election week could be hit with snow and freezing fog, say Met Office. SNOW and freezing fog could be on the cards for next week;s General Election. Temperatures will dive to sub-zero levels in some parts of the UK as winter really sets in, coinciding with voters heading to the polls, the Met Office has said. Election week is ...\n"
     ]
    }
   ],
   "source": [
    "for node in cliques_df.iloc[2]['nodes_list']:\n",
    "    print(corpus.iloc[node]['clean_text'])"
   ]
  },
  {
   "cell_type": "code",
   "execution_count": 53,
   "metadata": {
    "scrolled": true
   },
   "outputs": [
    {
     "name": "stdout",
     "output_type": "stream",
     "text": [
      "UK weather forecast: Met Office flood warning as Brits brace for 5 days of rain. The Met Office has issued yellow weather warnings from Sunday until Wednesday, with Scotland, northern England, the south-west and the East Midlands all expected to be hit by a winter deluge\n",
      "UK weather forecast – Met Office issues flood warning as Brits are set for ‘wet and wild’ election day. The Met Office issued a yellow wind warning for large swathes of the North West - rocked by 8mph gales yesterday - as well as a severe flood warning. The stronger gusts are expected to lash coastal areas - with 50mph expected inland. It could cause travel chaos and leave homes without power, with delays to road, rail, air and ferry transport ...\n",
      "UK weather forecast: Met Office issues ‘danger to life’ warning as flood-hit areas brace for more rain. Flood-hit areas in south Yorkshire are bracing for yet more rain as wintry weather that has lashed England’s southwest moves north. The Met Office has warned of additional and possibly life-threatening flooding on Thursday and Friday, which may cause some already-waterlogged places to be cut off and result in power cuts. A yellow-level ...\n",
      "UK weather forecast – Snow, ice and 70mph winds to batter Britain this week, Met Office warns. WIND gusts of up to 70mph are expected for the west of the UK this week and forecasters are warning of the potential for transport disruption. The Met Office has issued five weather warnings for this week - and Northern Ireland, Wales and western parts of Scotland and England are set to bear the brunt of the gales and wet weather. Heavy rain is ...\n",
      "WEATHER: Snow and ice warning issued for East Lancashire. A WEATHER warning of snow and ice has been issued for East Lancashire. The Met Office has announced snow is likely to move eastwards across northern parts of the UK today with higher areas more likely affected between 6am and 6pm. A Met Office spokesman said: quot;In addition, rain may fall onto frozen surfaces for a time following a very cold night.\n",
      "UK weather forecast – Met Office issues SEVERE ice warning as snow blankets North and Wales. BRITS are set to shiver tonight as temperatures plummet to -8C, bringing freezing fog and more snow showers to some regions. The Met Office has issued severe ice warnings across Scotland, the north of England and Wales until Monday morning, when more wind and rain showers are expected. Weather forecasters say temperatures could plunge as low as ...\n",
      "What the Met Office is saying about snow in its UK long-range forecast. We;re unlikely to see much of the white stuff in Gloucestershire but northern areas could see some within the month If you fancy seeing some winter snow, you’ll have to travel to northern parts of the UK. The Met Office has released its latest long-range forecast for the country into February. It says there could be some cold spells in ...\n",
      "Election week could be hit with snow and freezing fog, say Met Office. SNOW and freezing fog could be on the cards for next week;s General Election. Temperatures will dive to sub-zero levels in some parts of the UK as winter really sets in, coinciding with voters heading to the polls, the Met Office has said. Election week is predicted to see longer spells of rain, wintry showers and harsh winds, meteorologists say.\n",
      "Snow is set to hit the UK but Met Office predicts Hull will escape early falls. The Met Office says they can only officially predict five days ahead, but can safely say there will be no snow falling across the region anytime soon. However, there will be plenty of cold weather, but people can enjoy clear skies as we head into the weekend with a lengthy period of high pressure. There have been claims we will see snow between ...\n",
      "Election week could be hit with snow and freezing fog, say Met Office. SNOW and freezing fog could be on the cards for next week;s General Election. Temperatures will dive to sub-zero levels in some parts of the UK as winter really sets in, coinciding with voters heading to the polls, the Met Office has said. Election week is ...\n"
     ]
    }
   ],
   "source": [
    "for node in cliques_df.iloc[2]['nodes_list']:\n",
    "    print(corpus.iloc[node]['clean_text'])"
   ]
  },
  {
   "cell_type": "markdown",
   "metadata": {},
   "source": [
    "### Connected components\n",
    "This works for the small disaster corpus, but not for the larger corpuses?  Does a greater number of nodes increase the odds of accidental small-world?"
   ]
  },
  {
   "cell_type": "code",
   "execution_count": 76,
   "metadata": {},
   "outputs": [
    {
     "name": "stdout",
     "output_type": "stream",
     "text": [
      "1142\n"
     ]
    }
   ],
   "source": [
    "print(nx.number_connected_components(G))\n",
    "\n",
    "# Get a dict of lists of connected component nodes\n",
    "components = [list(component) for component in nx.connected_components(G) if len(component) >= 5]"
   ]
  },
  {
   "cell_type": "code",
   "execution_count": 77,
   "metadata": {
    "scrolled": true
   },
   "outputs": [
    {
     "name": "stdout",
     "output_type": "stream",
     "text": [
      "Flood Warnings issued for River Severn as Environment Agency says immediate action required. Heavy rain has seen the Environment Agency put Flood Warnings on stretches of the River Severn in Gloucestershire. It says river levels are expected to remain high until Wednesday and flooding is expected and immediate action required. The Flood Warnings are in place for the River Severn at Apperley and The Leigh and on the River Severn at ...\n",
      "Flood warning issued for Ayrshire as heavy wind and rain batter Scotland. The Scottish Environment Protection Agency say a storm surge coupled with strong westerly winds puts Ayr to Troon in danger of floods. A flood warning has been issued for Ayrshire with Scotland set to be battered by heavy wind and rain over the weekend. The Scottish Environment Protection Agency say a storm surge coupled with strong westerly ...\n",
      "Government should pay to rebuild houses with extra storeys to prevent future flooding misery: Yorkshire Post Letters. AS a ‘soft southerner’ – but, with very fond memories of childhood days spent in the West Riding (my favourite uncle was the ‘Station Master’ at Bradford Railway Station and the surrounding areas) and hopes of moving to live in Yorkshire next ...\n",
      "UK weather forecast – Bitter -7C blast to see Britain freeze this weekend with snow and icy rain forecast. THE UK is bracing for a weekend of rain and snow - with temperatures set to plunge as low as -7C in Scotland and the north of England. Slightly milder temperatures elsewhere will be cancelled out by cutting winds of up to 50mph, according to forecasts. The Met Office is forecasting snow and sleet across northern England and Scotland for much of ...\n",
      "UK weather: Up to 10cm of snow threatens weekend chill amid fresh flood warnings. The Met Office has said parts of Central and Northern England, Scotland and Wales could experience heavy flurries of sleet and snow on Saturday, with temperatures plummeting\n",
      "BBC Weather forecast: Britain braces for snow as nation set to be battered by 60mph winds. BBC Weather Chris Fawkes warned: quot;It’s going to be quite a blustery day, a day of sunshine and showers. “And as it’s turning colder we could see a bit of snow at times on some of the hills in the north of the UK. “For the moment though, low pressure is to the west on the UK steering in these shower clouds. “The heaviest of the showers ...\n",
      "Flood warning forces closure of North Bank. A flood warning has forced the closure of North Bank road. The road will be closed from 8.45pm today between Bedford Cottages and Dog in a Doublet until further notice after the Environment Agency issued the warning. The diversion is via Whittlesey Rd, The Causeway, A47, A11 link Road, Peterborough Rd, Parnwell Way and vice versa.\n",
      "Downpours predicted for Bristol - snow possible elsewhere according to Met Office. Heavy showers are expected in Bristol this morning (December 14), with snow possible elsewhere in England. It will be a cool day in the city, according to the Met Office, with a top gust of 41mph scheduled for 10am. After showers between 7am and 10am, we should enjoy a dry spell during the afternoon and sunny intervals. But the rain is likely ...\n",
      "Short-term responses to UK flooding require overhaul, says KU expert. A flooding resilience expert from Kingston University (KU) has slammed ;knee jerk; responses to flooding in the UK. Dr Tim Harries, senior research fellow at Kingston Business School specialising in flood resilience among householders and small businesses, spoke out after Conservative Prime Minister Boris Johnson chaired a meeting of the ...\n",
      "South Yorkshire could see Tory tide turn despite Boris Johnson’s response to floods – The Yorkshire Post says. And the fact that these Tory targets include Don Valley, one of the areas worst affected by the floods, speaks volumes in an era which, until relatively recently, burned effigies of former Conservative premiers. How Yorkshire bluntness over Don Valley floo ...\n"
     ]
    }
   ],
   "source": [
    "for node in components[0][:10]:\n",
    "    print(corpus.iloc[node]['clean_text'])"
   ]
  },
  {
   "cell_type": "code",
   "execution_count": 78,
   "metadata": {
    "scrolled": true
   },
   "outputs": [
    {
     "name": "stdout",
     "output_type": "stream",
     "text": [
      "Australia wildfires: Firefighters save prehistoric tree species. Specialist firefighters have saved the world;s last remaining wild stand of a prehistoric tree from wildfires that razed forests west of Sydney, officials said Thursday. Firefighters were winched from helicopters to reach the cluster of fewer than 200 Wollemi pines in a remote gorge in the Blue Mountains a week before a massive wildlife bore ...\n",
      "Smoke from Australian wildfires will make a ‘full circuit’ around Earth, Nasa says. A satellite image shows thick smoke moving into the Tasman Sea from the states of New South Wales and Victoria (Nasa) As the devastating wildfires continue to ravage Australia, the resulting smoke is set to make a complete circuit of the globe. Nasa is currently tracking the smoke as it moves through the atmosphere. The space agency says the ...\n",
      "Bushfires thick smog to Sydney as storms lash Queensland bringing flash floods and giant hail. Sydneysiders have been warned to expect a very hazy Sunday as bushfire smoke is blown across the city. Temperatures are set to hit the high 40s in New South Wales by Thursday, according to the Bureau of Meteorology. There were 111 fires burning across the state on Saturday night, 60 of them not contained. Some 1500 firefighters were ...\n",
      "Australia wildfires: Firefighters save prehistoric tree species. Specialist firefighters have saved the world;s last remaining wild stand of a prehistoric tree from wildfires that razed forests west of Sydney, officials said Thursday. Firefighters were winched from helicopters to reach the cluster of fewer than 200 ...\n",
      "Australia wildfires: Storms to bring relief but threaten flash flooding and landslides in burnt-out areas. Severe storms have swept over Australia, providing relief for crews tackling raging wildfires but bringing threats of flash floods, landslides and water pollution. Forecasters said the “much-needed” downpours could help extinguish some of the 114 blazes across New South Wales (NSW) and Victoria states, where hot and dry weather has helped ...\n",
      "Smoke from Australian wildfires will make a ‘full circuit’ around Earth, Nasa says. A satellite image shows thick smoke moving into the Tasman Sea from the states of New South Wales and Victoria (Nasa) As the devastating wildfires continue to ravage Australia, the resulting smoke ...\n",
      "Australian wildfires: Devastated chiefs admit ‘worst is yet to come’ as blazes continue. The current wildfires have panned out as Australia’s worst ever since the Black Saturday fires in 200, tearing through a million hectares of its east coast. More than 140 fires were burning across the state of New South Wales (NSW) and south east ...\n",
      "Here Are The Weather Emergencies Going On Right Now – And What The Authorities Say They Mean. “Every year we don’t act means higher flood waters, more homes ruined and more lives at risk,” he said on Tuesday. “Flooding isn’t a natural disaster – it’s human-made.” Bushfires have been raging across New South Wales (NSW) and Queensland in eastern Australia, with blazes also reported on the west coast of the countr\n",
      "Water Thieves Steal 00,000 Litres in Australia as Our Mad Max-Style Future Becomes Reality. Thieves stole roughly 00,000 litres of water in a region of Australia that’s suffering from one of the worst droughts in the history of the country. And with record-breaking heat and bushfires getting even larger, it feels like Australia is living in the future. That future, unfortunately, looks a lot like Mad Max. Police in New South Wales ...\n",
      "Australian PM defends government policy on climate change amid wildfire crisis. Australia’s embattled prime minister has defended his government’s climate policy, as authorities warned the wildfires crisis could fester for months. Around 200 wildfires were burning in four states, with New South Wales accounting for more than half of them, including 60 fires which are not contained. The disaster has led to renewed ...\n"
     ]
    }
   ],
   "source": [
    "for node in components[1][:10]:\n",
    "    print(corpus.iloc[node]['clean_text'])"
   ]
  },
  {
   "cell_type": "code",
   "execution_count": 79,
   "metadata": {
    "scrolled": true
   },
   "outputs": [
    {
     "name": "stdout",
     "output_type": "stream",
     "text": [
      "Former High Sheriff of Derbyshire was swept away for half a mile after car got stuck in floods, inquest hears. The former High Sheriff of Derbyshire was swept away for half a mile after driving into floodwater, an inquest has heard. Annie Hall;s body was recovered from flooded farmland close to the River Derwent in Darley Dale, near Matlock, in the early hours of November 8. Chesterfield Coroner;s Court heard how the car Mrs Hall and her husband had ...\n",
      "Woman killed in floods named as former High Sheriff of Derbyshire. The woman who died after being swept away by floodwater amid torrential rain across northern England has been named as former High Sheriff of Derbyshire, Annie Hall. Ms Hall’s body was found on Friday morning after emergency services were called to the ...\n",
      "UK flooding: Body of woman dragged from flood water as torrential rain hits swathes of England. The body of a woman has been dragged from flood water after reports of someone being swept away by the River Derwent in Derbyshire. Emergency services were called to a stretch of the river in Darley Dale, close to Matlock, in the early hours of Friday morning, Derbyshire Police said. The force said: “The woman was reported as having been ...\n",
      "Memorial service for former Derbyshire High Sheriff Annie Hall who died in floods. A memorial service is to be held for former High Sheriff of Derbyshire Annie Hall, who lost her life in last week;s floods. Mrs Hall, from Ashford-in-the-Water, died after being swept away by floodwater in Darley Dale. The public service will be held at Derby Cathedral on Monday December , at 2.0pm. The Rev Canon Dr Elizabeth Thomson ...\n",
      "Husband of former High Sheriff tells of her tragic final moments in killer flood. The husband of former High Sheriff Annie Hall has spoken for the first time about the moment the woman he describes as quot;one in a millionquot; was swept away to her death by floodwater last month. Michael Hall, who lived with his wife in Ashford-in-the-Water ...\n",
      "Distraught millionaire relives horrific moment wife was swept to death in floods. A DISTRAUGHT millionaire has relived the moment his wife was swept to her death in deadly UK floods as he battled to save her. Annie Hall, 6, died after getting out of her car when it became stranded as the River Derwent flooded near Matlock, Derbyshire ...\n",
      "Johnson casts doubt on thousands of prospective new homes with call to stop building on flood plains during campaign visit to Derbyshire. Boris Johnson has thrown housebuilding plans into confusion, by suddenly calling for an end to construction on flood plains. Around per cent of new homes in England are built on land where there is a “high probability” of flooding – and a recent investigation found that 10,000 are currently in the pipeline. But, on the campaign trail in ...\n",
      "Mum;s last words to husband before she was swept away to her death in floods. The husband of Annie Hall, 68, has reveal his final tragic moments with his wife as their car got stuck in floodwaters from the River Derwent in Rowsley, Derbyshire\n",
      "Derwent floods swept high sheriff Annie Hall from her husband’s grasp. The husband of a former high sheriff who was swept to her death by floods has described the moment she “slipped away” as he battled to save her. Annie Hall, a 6-year-old mother of four, was dragged away in raging floodwater while her husband, Michael, 77, looked on helplessly. The couple had found themselves in trouble on November 8 when ...\n",
      "Moving tributes at packed service for grandmother swept away in Derbyshire floods. The son of Derbyshire;s former High Sheriff Annie Hall, who tragically lost her life after being swept away in floods last month, has paid moving tribute to her at a packed memorial service. Almost 600 people crowded into Derby Cathedral today. The ...\n"
     ]
    }
   ],
   "source": [
    "for node in components[2][:10]:\n",
    "    print(corpus.iloc[node]['clean_text'])"
   ]
  },
  {
   "cell_type": "markdown",
   "metadata": {},
   "source": [
    "### Community Detection Algorithm"
   ]
  },
  {
   "cell_type": "code",
   "execution_count": 22,
   "metadata": {},
   "outputs": [],
   "source": [
    "from community import best_partition"
   ]
  },
  {
   "cell_type": "code",
   "execution_count": 23,
   "metadata": {},
   "outputs": [
    {
     "data": {
      "text/plain": [
       "1150"
      ]
     },
     "execution_count": 23,
     "metadata": {},
     "output_type": "execute_result"
    }
   ],
   "source": [
    "# Apply Louvain Community Detection\n",
    "# The keys are nodes, the values are the partitions they belong to\n",
    "partition = best_partition(G)\n",
    "\n",
    "number_partitions = max(partition.values())\n",
    "number_partitions"
   ]
  },
  {
   "cell_type": "code",
   "execution_count": 24,
   "metadata": {},
   "outputs": [],
   "source": [
    "# Iterate through and get a list of partitions and their nodes\n",
    "partition_contents = {}\n",
    "for key in partition.keys():\n",
    "    partition_contents[partition[key]] = partition_contents.get(partition[key], []) + [key]\n",
    "\n",
    "# Drop partitions that are too small\n",
    "for key in list(partition_contents.keys()):\n",
    "    if len(partition_contents[key]) < 5:\n",
    "        partition_contents.pop(key)"
   ]
  },
  {
   "cell_type": "code",
   "execution_count": 25,
   "metadata": {},
   "outputs": [
    {
     "name": "stdout",
     "output_type": "stream",
     "text": [
      "{2: 25, 5: 24, 10: 71, 12: 19, 14: 70, 15: 9, 16: 27, 18: 45, 20: 19, 27: 7, 32: 6, 46: 22, 65: 26, 66: 7, 67: 7, 76: 153, 80: 15, 82: 7, 87: 6, 94: 21, 100: 6, 103: 16, 140: 11, 142: 7, 145: 6, 154: 6, 157: 14, 164: 14, 175: 5, 178: 5, 185: 5, 208: 7, 217: 9, 220: 10, 239: 8, 250: 16, 259: 7, 269: 9, 291: 7, 299: 7, 308: 7, 313: 11, 350: 5, 364: 7, 365: 7, 381: 8, 394: 5, 399: 5, 504: 12, 505: 6, 630: 7, 821: 6} 10063\n"
     ]
    }
   ],
   "source": [
    "# Let's see how big our \"clusters\" are, and how many there are total after removing the tiny ones\n",
    "partition_lengths = {key:len(value) for key, value in partition_contents.items()}\n",
    "print(partition_lengths, sum(partition_lengths))"
   ]
  },
  {
   "cell_type": "code",
   "execution_count": 26,
   "metadata": {
    "scrolled": true
   },
   "outputs": [
    {
     "name": "stdout",
     "output_type": "stream",
     "text": [
      "Flood Warnings issued for River Severn as Environment Agency says immediate action required. Heavy rain has seen the Environment Agency put Flood Warnings on stretches of the River Severn in Gloucestershire. It says river levels are expected to remain high until Wednesday and flooding is expected and immediate action required. The Flood Warnings are in place for the River Severn at Apperley and The Leigh and on the River Severn at ...\n",
      "As it happened: ;Risk to life; Flood Warnings issued after heavy rain brings chaos to Gloucestershire. Two ;risk to life; Flood Warnings were issued after heavy rain brought chaos to parts of Gloucestershire on Thursday. The Environment Agency issued the warnings for the River Chelt at Charlton Kings and the River Frome at Stonehouse and Bridgend with a potential risk to life in fast flowing floodwater. Both warnings were removed by around 11pm ...\n",
      "Flood Warnings in Gloucestershire: When peak levels are due and how high water will rise. River levels in Gloucestershire are set to rise over the next few days, even though little substantial rain is forecast. It means the Environment Agency has put Flood Warnings on stretches of the River Severn in the county, as well as numerous warnings in the surrounding region. Today, part of the A417 at Maisemore could be closed along with ...\n",
      "LIVE: Flooding latest, Met Office weather updates, traffic and travel for Gloucestershire. To join, click here and we will shortly approve your membership. This morning the Environment Agency put two ;red; Flood Warnings in place for the River Severn in Gloucestershire, with pictures showing extensive flooding around Tewkesbury. There are also a number of ;yellow; Flood Alerts in place as more rain fell in the afternoon. There were ...\n",
      "Move family, pets and cars to safety: Warning to people in Gloucestershire flood zone. People living in a Flood Warning area in Gloucestershire have been told to take action to protect themselves, their pets, and their property. The Flood Warning from the Environment Agency for the River Severn at Ashleworth, north of Gloucester, was updated at 2.55am on Monday. It says river levels are peaking at the nearby Haw Bridge river ...\n",
      "Flooding On Isle Of Wight Possible Until Thursday. A Flood Alert’s still in place for the Isle of Wight and the next update’s at 4pm today (Wednesday). Yarmouth, East Cowes and Cowes are the areas most at risk. A spokesperson for the Environment Agency said, “Wednesday morning’s tide at 11:07 is higher than normal due to ex Storm Sebastien which brings strong South Westerly Force 7 ...\n",
      "Flood water ;drags; taxi carrying passengers away after torrential rain hits Gloucestershire. A taxi carrying passengers was reportedly ‘swept away’ by fast-flowing flood water as heavy rain brought dangerous conditions to Gloucestershire on Thursday evening. The Environment Agency has issued a ‘red’ Flood Warning for the River Chelt at Charlton Kings following the downpour. You can see updates from the rain and flooding here ...\n",
      "Flood water ;drags; taxi carrying passengers away after torrential rain hits Gloucestershire. A taxi carrying passengers was reportedly ‘swept away’ by fast-flowing flood water as heavy rain brought dangerous conditions to Gloucestershire on Thursday evening. The Environment Agency has issued a ‘red’ Flood Warning for the River Chelt at ...\n",
      "Five Flood Warnings on River Severn as Met Office has its say on forecast for rain in Gloucestershire. The Environment Agency has warned of flooding along the River Severn through Gloucestershire after heavy rainfall and high tides. There are five Flood Warnings in force on Tuesday morning, which means flooding is expected and immediate action required. River levels are expected to remain high until Wednesday, when the Met Office says more rain ...\n",
      "Ex Storm Sebastien Brings Flooding And Force Seven Winds To Isle Of Wight. A Flood Alert’s in place for the Isle of Wight today (Wednesday) due to ex Storm Sebastien’s strong South Westerly Force 7 winds. Following a higher tide than usual yesterday (Tuesday) the ...\n"
     ]
    }
   ],
   "source": [
    "for node in partition_contents[2][:10]:\n",
    "    print(corpus.iloc[node]['clean_text'])"
   ]
  },
  {
   "cell_type": "code",
   "execution_count": 27,
   "metadata": {
    "scrolled": true
   },
   "outputs": [
    {
     "name": "stdout",
     "output_type": "stream",
     "text": [
      "Flood warning issued for Ayrshire as heavy wind and rain batter Scotland. The Scottish Environment Protection Agency say a storm surge coupled with strong westerly winds puts Ayr to Troon in danger of floods. A flood warning has been issued for Ayrshire with Scotland set to be battered by heavy wind and rain over the weekend. The Scottish Environment Protection Agency say a storm surge coupled with strong westerly ...\n",
      ";The storm literally sucks up the sea level;: Flood manager on working in extreme weather planning. “These are the highest sea levels we have seen in 15 years in some parts of the west of Scotland and the Western Isles,” says Vincent Fitzsimons, the Scottish Environment Protection Agency’s head of flooding services. “It’s an unusual and really dangerous combination of storm surge, naturally high tides – because of the way the Moon ...\n",
      "Nine flood warnings issued across Tayside as heavy rain and wind batters area. Nine flood warnings have been issued for Tayside as wild weather batters the area. The Scottish Environment Protection Agency (Sepa) says that river levels in Perthshire will surge as a result of “persistent heavy rainfall”. It comes after traffic and weather warnings were put in force across Scotland as heavy wind and rain sweeps across ...\n",
      "Flood alert issued for Glasgow as Storm Brendan to hit UK. A flood alert is in place for Glasgow today as Storm Brendan is set to hit the country. While Glasgow will avoid the worst of the deluge, the Scottish Environment Protection Agency (SEPA) have issued a flood alert for West Central Scotland. The alert is to inform the public to be prepared for possible flooding. Heavy rain and strong gales are ...\n",
      "Flood alert issued for Glasgow. The city has been soaked throughout Saturday ahead of what;s predicted to be a similarly wet Sunday. As a result, the Scottish Environmental Protection Agency (SEPA), have confirmed a flood alert is in place for much of west central Scotland. They say: quot;River levels are expected to rise throughout the region due to heavy rain from Saturday ...\n",
      "Flood alert issued for Glasgow. As a result, the Scottish Environmental Protection Agency (SEPA) have confirmed a flood alert is in place for much of west central Scotland. They say: quot;River levels are expected to rise throughout the region due to heavy rain from Saturday evening into ...\n",
      "Flood alert issued for Glasgow. The city has been soaked throughout Saturday ahead of what;s predicted to be a similarly wet Sunday. As a result, the Scottish Environmental Protection Agency (SEPA) have confirmed a flood alert is in place for much of west central Scotland. They say: quot;River levels are expected to rise throughout the region due to heavy rain from Saturday ...\n",
      "Schools closed, flood alerts and ice warning: Wintry weather causes disruption in the north and north-east. There is also a further alert for the west coast of the Highlands and the Western Isles for heavy rain and localised flooding. The Scottish Environment Protection Agency (Sepa) has now issued flood warnings for the north, Moray and the north-east. The alert warns: “River levels are expected to rise throughout the region on Tuesday due to ...\n",
      "Storm Brendan brings flooding. HOMES in Malmesbury were inundated with water on Tuesday when torrential rain brought by Storm Brendan caused flooding in parts of the town. At least six properties in the St John’s Bridge area were affected after the river burst its banks and Malmesbury Victoria Football Club’s pitch was turned into a huge lake. One woman saw the river ...\n",
      "Storm Brendan brings flooding to Malmesbury. HOMES in Malmesbury were inundated with water overnight when torrential rain caused flooding in parts of the town. At least six properties in the St John’s Bridge area were affected after the river burst its banks and Malmesbury Victoria Football Club ...\n"
     ]
    }
   ],
   "source": [
    "for node in partition_contents[5][:10]:\n",
    "    print(corpus.iloc[node]['clean_text'])"
   ]
  },
  {
   "cell_type": "code",
   "execution_count": 28,
   "metadata": {
    "scrolled": true
   },
   "outputs": [
    {
     "name": "stdout",
     "output_type": "stream",
     "text": [
      "UK weather: Up to 10cm of snow threatens weekend chill amid fresh flood warnings. The Met Office has said parts of Central and Northern England, Scotland and Wales could experience heavy flurries of sleet and snow on Saturday, with temperatures plummeting\n",
      "UK weather forecast: Snow blast of up to two inches to hit amid ;danger to life; floods. The Met Office has issued a rain warning for south-west England and south Wales today, with snowfall possible in these areas\n",
      "UK weather forecast: Met Office give its verdict on snow for the general election. WX Charts showed that up to one inch of snow could fall every hour in places next week with as much as 12 inches falling on high ground in northern Scotland\n",
      "UK weather forecast – Snow, ice and 70mph winds to batter Britain this week, Met Office warns. WIND gusts of up to 70mph are expected for the west of the UK this week and forecasters are warning of the potential for transport disruption. The Met Office has issued five weather warnings for this week - and Northern Ireland, Wales and western parts of Scotland and England are set to bear the brunt of the gales and wet weather. Heavy rain is ...\n",
      "UK weather forecast – Met Office issues SEVERE ice warning as snow blankets North and Wales. BRITS are set to shiver tonight as temperatures plummet to -8C, bringing freezing fog and more snow showers to some regions. The Met Office has issued severe ice warnings across Scotland, the north of England and Wales until Monday morning, when more wind and rain showers are expected. Weather forecasters say temperatures could plunge as low as ...\n",
      "UK weather: Up to 10cm of snow threatens weekend chill amid fresh flood warnings. The Met Office has said parts of Central and Northern England, Scotland and Wales could experience heavy flurries of sleet and snow on Saturday, with temperatures plummeting\n",
      "Will it snow on Christmas Day in Hull? The Met Office predicts what;s going to happen. It is that time of the year again when people take a punt on whether it is going to be a white Christmas. Unfortunately for Hull, it is unlikely snow will fall on December 25, with meteorologists at the Met Office saying it is quot;more than likelyquot; to be a dry Christmas for the city and East Yorkshire. Meteorologist Greg Dewhurst said the weather ...\n",
      "Met Office on whether there will be snow in Sussex on Christmas Day. A WHITE Christmas is off the cards for Sussex this year but temperatures will drop across the festive season. The weather forecast for Christmas Day is mainly dry and bright, with temperatures in Brighton ranging between 4C and 7C throughout the day. Boxing Day will see rain and temperatures of 10C. There are no more weather warnings in place ...\n",
      "UK weather forecast – White Christmas ‘expected’ with snow in parts in -4C DEEP FREEZE, Met Office says. The Scottish Highlands could see a light flurry of snow on Christmas DayCredit: Weather Outlook For there to be a White Christmas, there only needs to be snow somewhere in the UK - and the Scottish Highlands may experience the phenomenon next week. Met Office forecaster Bonnie Diamond said: quot;On Christmas Day there is the potential for snow to ...\n",
      "Snow is set to hit the UK but Met Office predicts Hull will escape early falls. The Met Office says they can only officially predict five days ahead, but can safely say there will be no snow falling across the region anytime soon. However, there will be plenty of cold weather, but people can enjoy clear skies as we head into the weekend with a lengthy period of high pressure. There have been claims we will see snow between ...\n"
     ]
    }
   ],
   "source": [
    "for node in partition_contents[10][:10]:\n",
    "    print(corpus.iloc[node]['clean_text'])"
   ]
  },
  {
   "cell_type": "code",
   "execution_count": 29,
   "metadata": {
    "scrolled": true
   },
   "outputs": [
    {
     "name": "stdout",
     "output_type": "stream",
     "text": [
      "Bushfires thick smog to Sydney as storms lash Queensland bringing flash floods and giant hail. Sydneysiders have been warned to expect a very hazy Sunday as bushfire smoke is blown across the city. Temperatures are set to hit the high 40s in New South Wales by Thursday, according to the Bureau of Meteorology. There were 111 fires burning across the state on Saturday night, 60 of them not contained. Some 1500 firefighters were ...\n",
      "Wildfire-ravaged areas of Australia get Christmas respite. An emergency vehicle near a fire in Blackheath, New South Wales (Ingleside Rural Fire Brigade/AP) The wildfire crisis forced Mr Morrison to cut short his much-criticised family holiday in Hawaii. He returned to Australia on Saturday night. “To Andrew and Geoffrey’s parents, we know this is going to be a tough Christmas for you, first one ...\n",
      "Firefighters tackle blazes in New South Wales wildfires. Firefighters are battling wildfires in the city of Lithgow, north-west of Sydney with the state of New South Wales in a seven-day state of emergency.\n",
      "Australian wildfires: Is it safe to travel amid state of emergency?. Emergency warnings remain for fires burning in South Australia, which has left one dead from a car crash in Lameroo, a bushfire zone, and eight people were treated for burns and smoke inhalation. The fires, which began in September, are set to continue as New South Wales could faced disastrous conditions on Saturday, with another warning being ...\n",
      "Rain douses some Australian bush fires but flash floods now threaten wildlife. Heavy rains in fire-ravaged eastern Australia have brought welcome relief for firefighters and farmers, but sparked flash floods that have led to fresh scrambles to save native animals. As the rain hit on Thursday the New South Wales State Emergency Services department warned that the sudden heavy downpours in some areas would bring flash ...\n",
      "Meet Bear, the dog trained to save injured koalas from wildfires in Australia. A dog put up for adoption because it didn’t make a “good pet” has been retrained to save koalas from Australia’s bushfires. In the last couple of weeks wildfires have spread across New South Wales, Queensland and the Sunshine Coast causing the deaths of at least three people and the destruction of 150 homes. The fires are spreading so ...\n",
      "Australian wedding photographer reveals how couples celebrated on drought-stricken land. A roving wedding photographer has shared a series of portraits showing how couples living through Australia;s ;worst-ever; drought are still celebrating their big days. Travelling photographer Jayde Cluff, 28, grew up in Gilgandra, which is 400km from Sydney in the heart of the drought in the central-west of New South Wales. When she;s not ...\n",
      "Sydney braced for ‘catastrophe’ as wildfires continue to devastate Australia. WILDFIRES continued to devastate Australia’s most heavily populated state yesterday, with Sydney braced for a “catastrophe”. Crews tackled a blaze near Taree, one of 85 across New South Wales. And families watched helplessly as bushfires raged in Coffs Harbour. Homes were also threatened in Turramurra, just ten miles from downtown Sydney.\n",
      "Australia: Severe storms and flood warnings hit the region - is it safe to travel?. Today, we’ve had the team out there drenched and acting to secure the safety of our animals.” New South Wales and the Australian Capital Territory were both on flood watch, and New South Wales was hit by huge dust storms which blanketed entire towns. Severe thunderstorm warnings we also in place across parts of Queensland and the North ...\n",
      "Australia: Queensland and NSW hit with flash floods and heavy rain. Parts of Australia have been hit by heavy rain and flash flooding. Queensland and New South Wales on the west coast of Australia were hit the hardest. According to weather experts, three times the normal monthly rainfall fell on the Gold Coast in the last ...\n"
     ]
    }
   ],
   "source": [
    "for node in partition_contents[14][:10]:\n",
    "    print(corpus.iloc[node]['clean_text'])"
   ]
  },
  {
   "cell_type": "code",
   "execution_count": null,
   "metadata": {},
   "outputs": [],
   "source": []
  }
 ],
 "metadata": {
  "kernelspec": {
   "display_name": "Python 3",
   "language": "python",
   "name": "python3"
  },
  "language_info": {
   "codemirror_mode": {
    "name": "ipython",
    "version": 3
   },
   "file_extension": ".py",
   "mimetype": "text/x-python",
   "name": "python",
   "nbconvert_exporter": "python",
   "pygments_lexer": "ipython3",
   "version": "3.7.5"
  }
 },
 "nbformat": 4,
 "nbformat_minor": 2
}
