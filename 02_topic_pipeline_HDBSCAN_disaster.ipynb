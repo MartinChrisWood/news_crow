{
 "cells": [
  {
   "cell_type": "markdown",
   "metadata": {},
   "source": [
    "# HDBSCAN should work well on embedding representations"
   ]
  },
  {
   "cell_type": "code",
   "execution_count": 1,
   "metadata": {},
   "outputs": [],
   "source": [
    "import os\n",
    "import re\n",
    "import json\n",
    "import hdbscan\n",
    "\n",
    "import numpy as np\n",
    "import pandas as pd\n",
    "\n",
    "from sklearn.decomposition import PCA\n",
    "from collections import Counter\n",
    "import matplotlib.pyplot as plt\n",
    "\n",
    "import lib.helper as helper\n",
    "import lib.reporter as reporter\n",
    "import lib.embedding_models as reps\n",
    "\n",
    "from gensim.models import Word2Vec\n",
    "\n",
    "%matplotlib inline"
   ]
  },
  {
   "cell_type": "markdown",
   "metadata": {},
   "source": [
    "## 1.  Retrieve Corpus\n",
    "\n",
    "The corpus is being scraped by the \"run_news_scrapes.py\" script (and windows task scheduler) every 12 hours, a bit past midday and a bit past midnight.\n",
    "\n",
    "The \"bing\" corpus are news titles and text extracts gotten from the bing news search API, using a few Home Office - related keywords.\n",
    "\n",
    "The \"RSS\" corpus is plugged directly into a number of RSS feeds for world news sites and local british news sites, with no filters for news story types or subjects applied."
   ]
  },
  {
   "cell_type": "code",
   "execution_count": 2,
   "metadata": {},
   "outputs": [
    {
     "name": "stdout",
     "output_type": "stream",
     "text": [
      "Total files: 331\n",
      "10.0 percent of files read.\n",
      "19.9 percent of files read.\n",
      "29.9 percent of files read.\n",
      "39.9 percent of files read.\n",
      "49.8 percent of files read.\n",
      "59.8 percent of files read.\n",
      "69.8 percent of files read.\n",
      "79.8 percent of files read.\n",
      "89.7 percent of files read.\n",
      "99.7 percent of files read.\n",
      "(23554, 9)\n"
     ]
    },
    {
     "data": {
      "text/html": [
       "<div>\n",
       "<style scoped>\n",
       "    .dataframe tbody tr th:only-of-type {\n",
       "        vertical-align: middle;\n",
       "    }\n",
       "\n",
       "    .dataframe tbody tr th {\n",
       "        vertical-align: top;\n",
       "    }\n",
       "\n",
       "    .dataframe thead th {\n",
       "        text-align: right;\n",
       "    }\n",
       "</style>\n",
       "<table border=\"1\" class=\"dataframe\">\n",
       "  <thead>\n",
       "    <tr style=\"text-align: right;\">\n",
       "      <th></th>\n",
       "      <th>index</th>\n",
       "      <th>title</th>\n",
       "      <th>summary</th>\n",
       "      <th>date</th>\n",
       "      <th>link</th>\n",
       "      <th>source_url</th>\n",
       "      <th>retrieval_timestamp</th>\n",
       "      <th>origin</th>\n",
       "      <th>clean_text</th>\n",
       "    </tr>\n",
       "    <tr>\n",
       "      <th>node</th>\n",
       "      <th></th>\n",
       "      <th></th>\n",
       "      <th></th>\n",
       "      <th></th>\n",
       "      <th></th>\n",
       "      <th></th>\n",
       "      <th></th>\n",
       "      <th></th>\n",
       "      <th></th>\n",
       "    </tr>\n",
       "  </thead>\n",
       "  <tbody>\n",
       "    <tr>\n",
       "      <th>0</th>\n",
       "      <td>0</td>\n",
       "      <td>West Midlands &lt;b&gt;flood&lt;/b&gt; warnings prompt &amp;#3...</td>\n",
       "      <td>Residents have been warned to &amp;quot;remain vig...</td>\n",
       "      <td>2019-11-17T17:35:00.0000000Z</td>\n",
       "      <td>https://www.bbc.co.uk/news/uk-england-50451817</td>\n",
       "      <td>www.bbc.co.uk</td>\n",
       "      <td>2019-11-17 19:50:58.278878</td>\n",
       "      <td>bing_news_api</td>\n",
       "      <td>West Midlands flood warnings prompt remain vig...</td>\n",
       "    </tr>\n",
       "    <tr>\n",
       "      <th>1</th>\n",
       "      <td>1</td>\n",
       "      <td>New &lt;b&gt;flood&lt;/b&gt; warnings issued with more hom...</td>\n",
       "      <td>The Environment Agency has a number of &lt;b&gt;floo...</td>\n",
       "      <td>2019-11-17T18:35:00.0000000Z</td>\n",
       "      <td>https://www.hulldailymail.co.uk/news/hull-east...</td>\n",
       "      <td>www.hulldailymail.co.uk</td>\n",
       "      <td>2019-11-17 19:50:58.278928</td>\n",
       "      <td>bing_news_api</td>\n",
       "      <td>New flood warnings issued with more homes at r...</td>\n",
       "    </tr>\n",
       "    <tr>\n",
       "      <th>2</th>\n",
       "      <td>2</td>\n",
       "      <td>UK weather forecast – More than 100 &lt;b&gt;flood&lt;/...</td>\n",
       "      <td>&lt;b&gt;FLOOD&lt;/b&gt;-ravaged villages in the UK have b...</td>\n",
       "      <td>2019-11-17T13:45:00.0000000Z</td>\n",
       "      <td>https://www.thesun.co.uk/news/10342583/uk-weat...</td>\n",
       "      <td>www.thesun.co.uk</td>\n",
       "      <td>2019-11-17 19:50:58.278953</td>\n",
       "      <td>bing_news_api</td>\n",
       "      <td>UK weather forecast – More than 1 flood alerts...</td>\n",
       "    </tr>\n",
       "    <tr>\n",
       "      <th>3</th>\n",
       "      <td>5</td>\n",
       "      <td>UK &lt;b&gt;flood&lt;/b&gt; warning map: &lt;b&gt;Flood&lt;/b&gt; chao...</td>\n",
       "      <td>The Environment Agency has issued 57 &lt;b&gt;flood&lt;...</td>\n",
       "      <td>2019-11-17T16:38:00.0000000Z</td>\n",
       "      <td>https://www.express.co.uk/news/weather/1205629...</td>\n",
       "      <td>www.express.co.uk</td>\n",
       "      <td>2019-11-17 19:50:58.279028</td>\n",
       "      <td>bing_news_api</td>\n",
       "      <td>UK flood warning map: Flood chaos to continue ...</td>\n",
       "    </tr>\n",
       "    <tr>\n",
       "      <th>4</th>\n",
       "      <td>6</td>\n",
       "      <td>UK weather forecast: &lt;b&gt;Flood&lt;/b&gt; chaos contin...</td>\n",
       "      <td>Despite some areas enduring their &amp;#39;wettest...</td>\n",
       "      <td>2019-11-17T18:32:00.0000000Z</td>\n",
       "      <td>https://www.mirror.co.uk/news/uk-news/uk-weath...</td>\n",
       "      <td>www.mirror.co.uk</td>\n",
       "      <td>2019-11-17 19:50:58.279047</td>\n",
       "      <td>bing_news_api</td>\n",
       "      <td>UK weather forecast: Flood chaos continues wit...</td>\n",
       "    </tr>\n",
       "  </tbody>\n",
       "</table>\n",
       "</div>"
      ],
      "text/plain": [
       "      index                                              title  \\\n",
       "node                                                             \n",
       "0         0  West Midlands <b>flood</b> warnings prompt &#3...   \n",
       "1         1  New <b>flood</b> warnings issued with more hom...   \n",
       "2         2  UK weather forecast – More than 100 <b>flood</...   \n",
       "3         5  UK <b>flood</b> warning map: <b>Flood</b> chao...   \n",
       "4         6  UK weather forecast: <b>Flood</b> chaos contin...   \n",
       "\n",
       "                                                summary  \\\n",
       "node                                                      \n",
       "0     Residents have been warned to &quot;remain vig...   \n",
       "1     The Environment Agency has a number of <b>floo...   \n",
       "2     <b>FLOOD</b>-ravaged villages in the UK have b...   \n",
       "3     The Environment Agency has issued 57 <b>flood<...   \n",
       "4     Despite some areas enduring their &#39;wettest...   \n",
       "\n",
       "                              date  \\\n",
       "node                                 \n",
       "0     2019-11-17T17:35:00.0000000Z   \n",
       "1     2019-11-17T18:35:00.0000000Z   \n",
       "2     2019-11-17T13:45:00.0000000Z   \n",
       "3     2019-11-17T16:38:00.0000000Z   \n",
       "4     2019-11-17T18:32:00.0000000Z   \n",
       "\n",
       "                                                   link  \\\n",
       "node                                                      \n",
       "0        https://www.bbc.co.uk/news/uk-england-50451817   \n",
       "1     https://www.hulldailymail.co.uk/news/hull-east...   \n",
       "2     https://www.thesun.co.uk/news/10342583/uk-weat...   \n",
       "3     https://www.express.co.uk/news/weather/1205629...   \n",
       "4     https://www.mirror.co.uk/news/uk-news/uk-weath...   \n",
       "\n",
       "                   source_url         retrieval_timestamp         origin  \\\n",
       "node                                                                       \n",
       "0               www.bbc.co.uk  2019-11-17 19:50:58.278878  bing_news_api   \n",
       "1     www.hulldailymail.co.uk  2019-11-17 19:50:58.278928  bing_news_api   \n",
       "2            www.thesun.co.uk  2019-11-17 19:50:58.278953  bing_news_api   \n",
       "3           www.express.co.uk  2019-11-17 19:50:58.279028  bing_news_api   \n",
       "4            www.mirror.co.uk  2019-11-17 19:50:58.279047  bing_news_api   \n",
       "\n",
       "                                             clean_text  \n",
       "node                                                     \n",
       "0     West Midlands flood warnings prompt remain vig...  \n",
       "1     New flood warnings issued with more homes at r...  \n",
       "2     UK weather forecast – More than 1 flood alerts...  \n",
       "3     UK flood warning map: Flood chaos to continue ...  \n",
       "4     UK weather forecast: Flood chaos continues wit...  "
      ]
     },
     "execution_count": 2,
     "metadata": {},
     "output_type": "execute_result"
    }
   ],
   "source": [
    "# Should be same path for all my PC's, it's where each scrape goes as a separate json file.\n",
    "storage_path = \"D:/Dropbox/news_crow/scrape_results\"\n",
    "\n",
    "# \"bing\" is targeted news search corpus, \"RSS\" is from specific world and local news feeds.\n",
    "corpus_type = \"disaster\"\n",
    "\n",
    "# Load up\n",
    "corpus = helper.load_clean_corpus(storage_path, corpus_type)\n",
    "\n",
    "# Make sure after cleaning etc it's indexed from 0\n",
    "corpus.reset_index(inplace=True)\n",
    "corpus.index.name = \"node\"\n",
    "\n",
    "# See how it turned out\n",
    "print(corpus.shape)\n",
    "corpus.head()"
   ]
  },
  {
   "cell_type": "markdown",
   "metadata": {},
   "source": [
    "## 2.  Build Text Model (Representation, eg; word2vec, entities list...)\n",
    "\n",
    "- Trying with the world corpus and with the bing corpus, neither worked with InferSent.  Suspect the problem lies in the PCA step, which may not be working well on this high-dimensional (vector length = 4096) form.\n",
    "- Summed keywords works rather better with the world corpus.\n",
    "- Summed keywords still fail the bing/home office corpus, giving me a cluster about \"immigration\" and a cluster for the American Supreme Court."
   ]
  },
  {
   "cell_type": "raw",
   "metadata": {},
   "source": [
    "# Windows didn't play nicely with the vector datasets, Some obscure encoding problem (python in Conda\n",
    "# kept trying to decode using cp1252 regardless of whatever other options I specified!)\n",
    "# Solution; rewrite file and drop any characters the Windows encoder refuses to recognise.\n",
    "# I shouldn't loose too much info.\n",
    "with open('./lib/InferSent/dataset/fastText/crawl-300d-2M.vec', \"r\", encoding=\"cp1252\", errors=\"ignore\") as infile:\n",
    "    with open('./lib/InferSent/dataset/fastText/crawl-300d-2M_win.vec', \"wb\") as outfile:\n",
    "        for line in infile:\n",
    "            outfile.write(line.encode('cp1252'))"
   ]
  },
  {
   "cell_type": "raw",
   "metadata": {},
   "source": [
    "infersent = reps.InferSentModel(list(corpus['clean_text']),\n",
    "                                list(corpus['clean_text']),\n",
    "                                W2V_PATH = './lib/InferSent/dataset/fastText/crawl-300d-2M_win.vec')\n",
    "\n",
    "embeddings = infersent.get_embeddings()"
   ]
  },
  {
   "cell_type": "raw",
   "metadata": {},
   "source": [
    "reload(reps)"
   ]
  },
  {
   "cell_type": "raw",
   "metadata": {
    "scrolled": true
   },
   "source": [
    "# Whereas this worked first time!\n",
    "glove = reps.GloveWordModel(list(corpus['clean_text']), list(corpus['clean_text']))\n",
    "\n",
    "embeddings = glove.get_embeddings()"
   ]
  },
  {
   "cell_type": "raw",
   "metadata": {},
   "source": [
    "# Turn that into a DF for me\n",
    "embeddings_df = pd.DataFrame({\"clean_text\": list(embeddings.keys()),\n",
    "                              \"embeddings\": list(embeddings.values())})\n",
    "embeddings_df.shape"
   ]
  },
  {
   "cell_type": "raw",
   "metadata": {},
   "source": [
    "corpus.merge(embeddings_df, how=\"left\", on=\"clean_text\")"
   ]
  },
  {
   "cell_type": "markdown",
   "metadata": {},
   "source": [
    "## 2a.  Try a really simple averaged word vector model!\n",
    "\n",
    "With a complex noun extraction function 'cause that part's slow so I multi-threaded it."
   ]
  },
  {
   "cell_type": "code",
   "execution_count": 3,
   "metadata": {},
   "outputs": [],
   "source": [
    "vec_size = 100\n",
    "\n",
    "# Get phrase-conjoined, stem tokens\n",
    "corpus['phrase_tokens'] = helper.get_phrased_nouns(corpus['clean_text'])\n",
    "\n",
    "# Detect and conjoin bigrams\n",
    "model = Word2Vec(corpus['phrase_tokens'], size=vec_size, window=5, min_count=5, workers=10)"
   ]
  },
  {
   "cell_type": "code",
   "execution_count": 4,
   "metadata": {},
   "outputs": [],
   "source": [
    "def get_averaged_vec(token_list, model):\n",
    "    \n",
    "    vecs = []\n",
    "    for token in token_list:\n",
    "        try:\n",
    "            vector = model.wv[token]\n",
    "        except: \n",
    "            vector = np.zeros(vec_size)\n",
    "        vecs.append(vector)\n",
    "    \n",
    "    if len(vecs) > 0:\n",
    "        return np.mean(np.asarray(vecs), axis=0)\n",
    "    else:\n",
    "        return np.zeros(vec_size)"
   ]
  },
  {
   "cell_type": "code",
   "execution_count": 5,
   "metadata": {},
   "outputs": [],
   "source": [
    "vectors = [get_averaged_vec(tokens, model) for tokens in corpus['phrase_tokens']]"
   ]
  },
  {
   "cell_type": "markdown",
   "metadata": {},
   "source": [
    "## 3. Cluster Text\n",
    "\n",
    "This is the part where the pipelines get a little more experimental\n",
    "- First; PCA (HDBSCAN prefers < 50 dimensions if possible) (also, try just fitting 50 vectors!)\n",
    "- Second; HDBSCAN clustering"
   ]
  },
  {
   "cell_type": "code",
   "execution_count": 6,
   "metadata": {},
   "outputs": [
    {
     "name": "stdout",
     "output_type": "stream",
     "text": [
      "[9.85691591e-01 1.11066158e-02 1.94773877e-03 3.39060056e-04\n",
      " 2.07157187e-04 1.08944088e-04 8.07189182e-05 4.69793768e-05\n",
      " 3.78159801e-05 3.38441852e-05 2.47173410e-05 2.19743626e-05\n",
      " 1.85809521e-05 1.69681775e-05 1.39330895e-05 1.32136495e-05\n",
      " 1.13084593e-05 1.06114021e-05 9.95453992e-06 9.30638258e-06]\n",
      "[148.5660378   15.77029762   6.60411109   2.75541698   2.15376848\n",
      "   1.56189146   1.34442532   1.02565816   0.92020946   0.87054464\n",
      "   0.74396052   0.70146686   0.64503458   0.61640566   0.55856373\n",
      "   0.54395179   0.50321171   0.48745598   0.47212784   0.45649862]\n"
     ]
    }
   ],
   "source": [
    "embeddings_array = np.vstack(vectors)\n",
    "\n",
    "# First, PCA the data\n",
    "pca = PCA(n_components=20, svd_solver='full')\n",
    "\n",
    "# Fit and check\n",
    "embeddings_pca = pca.fit_transform(embeddings_array)\n",
    "\n",
    "# Diagnostic stats - both should show exponential decay\n",
    "print(pca.explained_variance_ratio_)\n",
    "print(pca.singular_values_) "
   ]
  },
  {
   "cell_type": "raw",
   "metadata": {},
   "source": [
    "for i in range(1, 15):\n",
    "    print(\"\\n testing min_samples: \", i)\n",
    "    # Clusterer fitting\n",
    "    clusterer = hdbscan.HDBSCAN(min_cluster_size=5, min_samples=i)\n",
    "    clusterer.fit(embeddings_pca)\n",
    "    \n",
    "    # Diagnostic - calculate percentage of records assigned \"outlier\"\n",
    "    print(\"Percent outlier: \", 100.0 * sum(clusterer.labels_ == -1) / clusterer.labels_.shape[0])\n",
    "    \n",
    "    # number of clusters created\n",
    "    print(\"Number of clusters: \", len(pd.unique(clusterer.labels_)))\n",
    "    \n",
    "    # Top populated \n",
    "    a = Counter(clusterer.labels_)\n",
    "    a_list = sorted(a.items(), key = lambda a:(a[1], a[0]), reverse=True)\n",
    "    print(\"Largest 5 clusters: \", a_list[:5])\n",
    "    \n",
    "    # Median cluster size\n",
    "    print(\"Median cluster size: \", sorted(list(a.values()))[int(len(a.values())/2)])\n",
    "    print(\"Mean cluster size: \", np.mean(list(a.values())))\n",
    "    print(\"Percent 'really' clustered :\", 100.0 * (len(clusterer.labels_) - (a_list[0][1] + a_list[1][1])) / len(clusterer.labels_))"
   ]
  },
  {
   "cell_type": "code",
   "execution_count": 7,
   "metadata": {
    "scrolled": false
   },
   "outputs": [
    {
     "name": "stdout",
     "output_type": "stream",
     "text": [
      "Percent outlier:  57.11980979876029\n",
      "Number of clusters:  100\n"
     ]
    },
    {
     "name": "stderr",
     "output_type": "stream",
     "text": [
      "C:\\ProgramData\\Anaconda3\\lib\\site-packages\\hdbscan\\hdbscan_.py:1052: RuntimeWarning: invalid value encountered in double_scalars\n",
      "  self._outlier_scores = outlier_scores(self._condensed_tree)\n"
     ]
    }
   ],
   "source": [
    "# Clusterer fitting\n",
    "clusterer = hdbscan.HDBSCAN(min_cluster_size=5, min_samples=10)\n",
    "clusterer.fit(embeddings_array)\n",
    "\n",
    "# Diagnostic - calculate percentage of records assigned \"outlier\"\n",
    "print(\"Percent outlier: \", 100.0 * sum(clusterer.labels_ == -1) / clusterer.labels_.shape[0])\n",
    "\n",
    "# number of clusters created\n",
    "print(\"Number of clusters: \", len(pd.unique(clusterer.labels_)))\n",
    "\n",
    "# Record cluster each was assigned to\n",
    "corpus['cluster'] = clusterer.labels_\n",
    "\n",
    "# Record the reverse of outlier score (therefore, higher number = higher certainty of membership)\n",
    "corpus['score'] = 1.0 - clusterer.outlier_scores_\n",
    "\n",
    "corpus.to_csv(\"working/disaster_clustered_w2v_direct.csv\", index=False)"
   ]
  },
  {
   "cell_type": "code",
   "execution_count": 13,
   "metadata": {},
   "outputs": [
    {
     "data": {
      "text/plain": [
       "-0.00710643209164836"
      ]
     },
     "execution_count": 13,
     "metadata": {},
     "output_type": "execute_result"
    }
   ],
   "source": [
    "# For calculating silhouette score, a gauge of how well separated clusters\n",
    "# are in some spatial representation\n",
    "from sklearn.metrics import silhouette_score\n",
    "\n",
    "# Filter out the outliers\n",
    "embeddings_score = embeddings_pca[clusterer.labels_ != -1]\n",
    "labels_score = clusterer.labels_[clusterer.labels_ != -1]\n",
    "\n",
    "score = silhouette_score(embeddings_score, labels_score, metric=\"cosine\")\n",
    "score"
   ]
  },
  {
   "cell_type": "code",
   "execution_count": 14,
   "metadata": {
    "scrolled": true
   },
   "outputs": [
    {
     "data": {
      "text/plain": [
       "Counter({-1: 17345,\n",
       "         8: 59,\n",
       "         129: 2290,\n",
       "         127: 19,\n",
       "         128: 892,\n",
       "         95: 45,\n",
       "         88: 5,\n",
       "         85: 14,\n",
       "         10: 24,\n",
       "         101: 40,\n",
       "         126: 47,\n",
       "         42: 15,\n",
       "         112: 56,\n",
       "         20: 14,\n",
       "         27: 9,\n",
       "         122: 43,\n",
       "         45: 565,\n",
       "         54: 5,\n",
       "         34: 6,\n",
       "         14: 40,\n",
       "         55: 8,\n",
       "         94: 24,\n",
       "         69: 6,\n",
       "         100: 23,\n",
       "         15: 15,\n",
       "         123: 25,\n",
       "         7: 19,\n",
       "         33: 5,\n",
       "         118: 18,\n",
       "         120: 58,\n",
       "         19: 17,\n",
       "         59: 5,\n",
       "         12: 19,\n",
       "         84: 22,\n",
       "         24: 5,\n",
       "         28: 33,\n",
       "         82: 26,\n",
       "         79: 39,\n",
       "         31: 6,\n",
       "         56: 8,\n",
       "         64: 16,\n",
       "         29: 13,\n",
       "         1: 18,\n",
       "         113: 19,\n",
       "         62: 17,\n",
       "         35: 7,\n",
       "         6: 5,\n",
       "         43: 9,\n",
       "         51: 40,\n",
       "         0: 13,\n",
       "         52: 12,\n",
       "         16: 5,\n",
       "         67: 7,\n",
       "         44: 22,\n",
       "         78: 13,\n",
       "         111: 7,\n",
       "         58: 42,\n",
       "         48: 20,\n",
       "         30: 6,\n",
       "         39: 7,\n",
       "         124: 9,\n",
       "         13: 10,\n",
       "         115: 13,\n",
       "         18: 235,\n",
       "         114: 15,\n",
       "         5: 5,\n",
       "         74: 25,\n",
       "         87: 18,\n",
       "         109: 12,\n",
       "         38: 5,\n",
       "         93: 29,\n",
       "         21: 8,\n",
       "         97: 6,\n",
       "         73: 14,\n",
       "         3: 31,\n",
       "         81: 7,\n",
       "         117: 5,\n",
       "         75: 16,\n",
       "         110: 43,\n",
       "         119: 11,\n",
       "         66: 23,\n",
       "         68: 60,\n",
       "         26: 30,\n",
       "         41: 55,\n",
       "         96: 18,\n",
       "         83: 38,\n",
       "         86: 8,\n",
       "         104: 31,\n",
       "         60: 8,\n",
       "         49: 18,\n",
       "         63: 8,\n",
       "         61: 23,\n",
       "         121: 36,\n",
       "         23: 31,\n",
       "         57: 11,\n",
       "         91: 19,\n",
       "         32: 18,\n",
       "         90: 15,\n",
       "         76: 12,\n",
       "         105: 5,\n",
       "         116: 5,\n",
       "         70: 21,\n",
       "         50: 20,\n",
       "         71: 10,\n",
       "         37: 16,\n",
       "         40: 5,\n",
       "         47: 35,\n",
       "         11: 26,\n",
       "         89: 6,\n",
       "         108: 15,\n",
       "         65: 5,\n",
       "         107: 10,\n",
       "         9: 44,\n",
       "         103: 5,\n",
       "         77: 14,\n",
       "         22: 7,\n",
       "         102: 8,\n",
       "         17: 5,\n",
       "         72: 6,\n",
       "         98: 9,\n",
       "         92: 10,\n",
       "         36: 5,\n",
       "         125: 11,\n",
       "         99: 8,\n",
       "         2: 15,\n",
       "         25: 6,\n",
       "         106: 6,\n",
       "         53: 6,\n",
       "         46: 5,\n",
       "         80: 5,\n",
       "         4: 9})"
      ]
     },
     "execution_count": 14,
     "metadata": {},
     "output_type": "execute_result"
    }
   ],
   "source": [
    "Counter(clusterer.labels_)"
   ]
  },
  {
   "cell_type": "code",
   "execution_count": 15,
   "metadata": {
    "scrolled": true
   },
   "outputs": [
    {
     "name": "stdout",
     "output_type": "stream",
     "text": [
      "c_v 0.594\n",
      "c_npmi 0.0886\n",
      "macro_time_coherence 1174006.9822486006\n",
      "micro_time_coherence 143825.4968452203\n",
      "Average document word count 59.611870595227984\n",
      "Number of documents 23554\n",
      "Latest record 1970-01-01T01:00:00.0000000Z\n",
      "Earliest record 2020-07-01T09:21:00.0000000Z\n",
      "Number of clusters 131\n",
      "Median cluster size 14.0\n",
      "Percent clustered docs 26.4\n"
     ]
    },
    {
     "data": {
      "image/png": "[encoded data removed]",
      "text/plain": [
       "<Figure size 1080x360 with 3 Axes>"
      ]
     },
     "metadata": {
      "needs_background": "light"
     },
     "output_type": "display_data"
    }
   ],
   "source": [
    "corpus = pd.read_csv(\"working/disaster_clustered_w2v_pca.csv\")\n",
    "stats, coherences, results = reporter.report_corpus_model_coherence(\"working/disaster_clustered_w2v_pca.csv\")\n",
    "\n",
    "for key, value in stats.items():\n",
    "    if \"examples\" not in key:\n",
    "        print (key, value)"
   ]
  },
  {
   "cell_type": "markdown",
   "metadata": {},
   "source": [
    "## 4. Cluster text with Spectral Clustering\n",
    "Not working on high-dimensional data"
   ]
  },
  {
   "cell_type": "raw",
   "metadata": {},
   "source": [
    "from sklearn.metrics.pairwise import cosine_similarity"
   ]
  },
  {
   "cell_type": "raw",
   "metadata": {},
   "source": [
    "# Create an adjacency matrix from cosine distances between document vectors\n",
    "embeddings_array = np.vstack(vectors)\n",
    "adjacencies = cosine_similarity(embeddings_array)"
   ]
  },
  {
   "cell_type": "raw",
   "metadata": {},
   "source": [
    "# Create and fit the clustering model\n",
    "from sklearn.cluster import SpectralClustering\n",
    "\n",
    "clustering = SpectralClustering(n_clusters=66)\n",
    "labels = clustering.fit_predict(adjacencies)\n",
    "pd.Series(labels).value_counts()"
   ]
  },
  {
   "cell_type": "raw",
   "metadata": {},
   "source": [
    "from sklearn.cluster import AffinityPropagation\n",
    "\n",
    "ap = AffinityPropagation()\n",
    "ap.fit(embeddings_array)\n",
    "labels = ap.labels_\n",
    "pd.Series(labels).value_counts()"
   ]
  },
  {
   "cell_type": "markdown",
   "metadata": {},
   "source": [
    "## 5. Cluster text with Kmeans"
   ]
  },
  {
   "cell_type": "code",
   "execution_count": 16,
   "metadata": {
    "scrolled": true
   },
   "outputs": [
    {
     "name": "stdout",
     "output_type": "stream",
     "text": [
      "Percent outlier:  0.0\n",
      "Number of clusters:  200\n",
      "c_v 0.6046\n",
      "c_npmi 0.0929\n",
      "macro_time_coherence 556335.9446510379\n",
      "micro_time_coherence 290173.4966901973\n",
      "Average document word count 59.611870595227984\n",
      "Number of documents 23554\n",
      "Latest record 1970-01-01T01:00:00.0000000Z\n",
      "Earliest record 2020-07-01T09:21:00.0000000Z\n",
      "Number of clusters 199\n",
      "Median cluster size 74.0\n",
      "Percent clustered docs 100.0\n"
     ]
    },
    {
     "data": {
      "image/png": "[encoded data removed]",
      "text/plain": [
       "<Figure size 1080x360 with 3 Axes>"
      ]
     },
     "metadata": {
      "needs_background": "light"
     },
     "output_type": "display_data"
    }
   ],
   "source": [
    "#from nltk.cluster.kmeans import KMeansClusterer\n",
    "from sklearn.cluster import KMeans\n",
    "\n",
    "#kmc = KMeansClusterer(num_means=60, distance=cosine_similarity)\n",
    "#clusters = kmc.cluster(embeddings_array, True, trace=True)\n",
    "#clusters\n",
    "\n",
    "kmeans = KMeans(n_clusters=200, random_state=0).fit(embeddings_array)\n",
    "\n",
    "# Diagnostic - calculate percentage of records assigned \"outlier\"\n",
    "print(\"Percent outlier: \", 100.0 * sum(kmeans.labels_ == -1) / kmeans.labels_.shape[0])\n",
    "\n",
    "# number of clusters created\n",
    "print(\"Number of clusters: \", len(pd.unique(kmeans.labels_)))\n",
    "\n",
    "# Record cluster each was assigned to\n",
    "corpus['cluster'] = kmeans.labels_\n",
    "\n",
    "# Record the reverse of outlier score (therefore, higher number = higher certainty of membership)\n",
    "corpus['score'] = 1.0\n",
    "\n",
    "# If cluster is smaller than minimum limit, designate as outlier\n",
    "cs_lookup = corpus['cluster'].value_counts().to_dict()\n",
    "corpus['cluster'] = corpus['cluster'].apply(lambda x: -1 if (cs_lookup[x] < 5) else x)\n",
    "\n",
    "corpus.to_csv(\"working/disaster_kmeans_w2v_direct.csv\", index=False)\n",
    "\n",
    "stats, coherences, results = reporter.report_corpus_model_coherence(\"working/disaster_kmeans_w2v_direct.csv\")\n",
    "\n",
    "for key, value in stats.items():\n",
    "    if \"examples\" not in key:\n",
    "        print (key, value)"
   ]
  },
  {
   "cell_type": "code",
   "execution_count": 17,
   "metadata": {
    "scrolled": false
   },
   "outputs": [
    {
     "name": "stdout",
     "output_type": "stream",
     "text": [
      "Percent outlier:  0.0\n",
      "Number of clusters:  200\n",
      "c_v 0.607\n",
      "c_npmi 0.0918\n",
      "macro_time_coherence 497325.0227573975\n",
      "micro_time_coherence 288374.46495119523\n",
      "Average document word count 59.611870595227984\n",
      "Number of documents 23554\n",
      "Latest record 1970-01-01T01:00:00.0000000Z\n",
      "Earliest record 2020-07-01T09:21:00.0000000Z\n",
      "Number of clusters 197\n",
      "Median cluster size 65.5\n",
      "Percent clustered docs 99.9\n"
     ]
    },
    {
     "data": {
      "image/png": "[encoded data removed]",
      "text/plain": [
       "<Figure size 1080x360 with 3 Axes>"
      ]
     },
     "metadata": {
      "needs_background": "light"
     },
     "output_type": "display_data"
    }
   ],
   "source": [
    "#from nltk.cluster.kmeans import KMeansClusterer\n",
    "from sklearn.cluster import KMeans\n",
    "\n",
    "#kmc = KMeansClusterer(num_means=60, distance=cosine_similarity)\n",
    "#clusters = kmc.cluster(embeddings_array, True, trace=True)\n",
    "#clusters\n",
    "\n",
    "kmeans = KMeans(n_clusters=200, random_state=0).fit(embeddings_pca)\n",
    "\n",
    "# Diagnostic - calculate percentage of records assigned \"outlier\"\n",
    "print(\"Percent outlier: \", 100.0 * sum(kmeans.labels_ == -1) / kmeans.labels_.shape[0])\n",
    "\n",
    "# number of clusters created\n",
    "print(\"Number of clusters: \", len(pd.unique(kmeans.labels_)))\n",
    "\n",
    "# Record cluster each was assigned to\n",
    "corpus['cluster'] = kmeans.labels_\n",
    "\n",
    "# Record the reverse of outlier score (therefore, higher number = higher certainty of membership)\n",
    "corpus['score'] = 1.0\n",
    "\n",
    "# If cluster is smaller than minimum limit, designate as outlier\n",
    "cs_lookup = corpus['cluster'].value_counts().to_dict()\n",
    "corpus['cluster'] = corpus['cluster'].apply(lambda x: -1 if (cs_lookup[x] < 5) else x)\n",
    "\n",
    "corpus.to_csv(\"working/disaster_kmeans_w2v_pca.csv\", index=False)\n",
    "\n",
    "stats, coherences, results = reporter.report_corpus_model_coherence(\"working/disaster_kmeans_w2v_pca.csv\")\n",
    "\n",
    "for key, value in stats.items():\n",
    "    if \"examples\" not in key:\n",
    "        print (key, value)"
   ]
  }
 ],
 "metadata": {
  "kernelspec": {
   "display_name": "Python 3",
   "language": "python",
   "name": "python3"
  },
  "language_info": {
   "codemirror_mode": {
    "name": "ipython",
    "version": 3
   },
   "file_extension": ".py",
   "mimetype": "text/x-python",
   "name": "python",
   "nbconvert_exporter": "python",
   "pygments_lexer": "ipython3",
   "version": "3.7.6"
  }
 },
 "nbformat": 4,
 "nbformat_minor": 2
}
