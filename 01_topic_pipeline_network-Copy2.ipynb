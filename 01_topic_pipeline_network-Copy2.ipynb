{
 "cells": [
  {
   "cell_type": "markdown",
   "metadata": {},
   "source": [
    "# Experimenting with Cleaning, Clustering & Summarization Pipelines\n",
    "\n",
    "### To do (technical)\n",
    "- Implement date windows on my corpus loader function"
   ]
  },
  {
   "cell_type": "code",
   "execution_count": 1,
   "metadata": {},
   "outputs": [],
   "source": [
    "import os\n",
    "import re\n",
    "import json\n",
    "\n",
    "import numpy as np\n",
    "import pandas as pd\n",
    "import networkx as nx\n",
    "\n",
    "from sklearn.decomposition import PCA\n",
    "import matplotlib.pyplot as plt\n",
    "\n",
    "import lib.helper as helper\n",
    "import lib.embedding_models as reps\n",
    "\n",
    "from importlib import reload\n",
    "\n",
    "%matplotlib inline\n",
    "\n",
    "# Useful flatten function from Alex Martelli on https://stackoverflow.com/questions/952914/how-to-make-a-flat-list-out-of-list-of-lists\n",
    "flatten = lambda l: [item for sublist in l for item in sublist]"
   ]
  },
  {
   "cell_type": "markdown",
   "metadata": {},
   "source": [
    "## 1.  Retrieve Corpus\n",
    "\n",
    "The corpus is being scraped by the \"run_news_scrapes.py\" script (and windows task scheduler) every 12 hours, a bit past midday and a bit past midnight.\n",
    "\n",
    "The \"bing\" corpus are news titles and text extracts gotten from the bing news search API, using a few Home Office - related keywords.\n",
    "\n",
    "The \"RSS\" corpus is plugged directly into a number of RSS feeds for world news sites and local british news sites, with no filters for news story types or subjects applied."
   ]
  },
  {
   "cell_type": "code",
   "execution_count": 2,
   "metadata": {
    "scrolled": false
   },
   "outputs": [
    {
     "name": "stdout",
     "output_type": "stream",
     "text": [
      "Total files: 495\n",
      "9.9 percent of files read.\n",
      "19.8 percent of files read.\n",
      "29.7 percent of files read.\n",
      "39.6 percent of files read.\n",
      "49.5 percent of files read.\n",
      "59.4 percent of files read.\n",
      "69.3 percent of files read.\n",
      "79.2 percent of files read.\n",
      "89.1 percent of files read.\n",
      "99.0 percent of files read.\n",
      "(31393, 9)\n"
     ]
    },
    {
     "data": {
      "text/html": [
       "<div>\n",
       "<style scoped>\n",
       "    .dataframe tbody tr th:only-of-type {\n",
       "        vertical-align: middle;\n",
       "    }\n",
       "\n",
       "    .dataframe tbody tr th {\n",
       "        vertical-align: top;\n",
       "    }\n",
       "\n",
       "    .dataframe thead th {\n",
       "        text-align: right;\n",
       "    }\n",
       "</style>\n",
       "<table border=\"1\" class=\"dataframe\">\n",
       "  <thead>\n",
       "    <tr style=\"text-align: right;\">\n",
       "      <th></th>\n",
       "      <th>index</th>\n",
       "      <th>title</th>\n",
       "      <th>summary</th>\n",
       "      <th>date</th>\n",
       "      <th>link</th>\n",
       "      <th>source_url</th>\n",
       "      <th>retrieval_timestamp</th>\n",
       "      <th>origin</th>\n",
       "      <th>clean_text</th>\n",
       "    </tr>\n",
       "    <tr>\n",
       "      <th>node</th>\n",
       "      <th></th>\n",
       "      <th></th>\n",
       "      <th></th>\n",
       "      <th></th>\n",
       "      <th></th>\n",
       "      <th></th>\n",
       "      <th></th>\n",
       "      <th></th>\n",
       "      <th></th>\n",
       "    </tr>\n",
       "  </thead>\n",
       "  <tbody>\n",
       "    <tr>\n",
       "      <th>0</th>\n",
       "      <td>0</td>\n",
       "      <td>Hurricane Dorian lashes US as Bahamas counts cost</td>\n",
       "      <td>Life-threatening US storm surges are feared, a...</td>\n",
       "      <td>Thu, 05 Sep 2019 16:03:44 GMT</td>\n",
       "      <td>https://www.bbc.co.uk/news/world-us-canada-495...</td>\n",
       "      <td>http://feeds.bbci.co.uk/news/world/rss.xml</td>\n",
       "      <td>2019-09-05 21:35:06.925873</td>\n",
       "      <td>rss_feed</td>\n",
       "      <td>Hurricane Dorian lashes US as Bahamas counts c...</td>\n",
       "    </tr>\n",
       "    <tr>\n",
       "      <th>1</th>\n",
       "      <td>1</td>\n",
       "      <td>Kohistan video murders: Three guilty in 'honou...</td>\n",
       "      <td>They are relatives of a group of Pakistani wom...</td>\n",
       "      <td>Thu, 05 Sep 2019 13:53:17 GMT</td>\n",
       "      <td>https://www.bbc.co.uk/news/world-asia-49592540</td>\n",
       "      <td>http://feeds.bbci.co.uk/news/world/rss.xml</td>\n",
       "      <td>2019-09-05 21:35:06.925873</td>\n",
       "      <td>rss_feed</td>\n",
       "      <td>Kohistan video murders: Three guilty in 'honou...</td>\n",
       "    </tr>\n",
       "    <tr>\n",
       "      <th>2</th>\n",
       "      <td>2</td>\n",
       "      <td>MH17 Ukraine plane crash: 'Key witness' released</td>\n",
       "      <td>A Ukrainian court releases a potentially key w...</td>\n",
       "      <td>Thu, 05 Sep 2019 13:46:06 GMT</td>\n",
       "      <td>https://www.bbc.co.uk/news/world-europe-49591148</td>\n",
       "      <td>http://feeds.bbci.co.uk/news/world/rss.xml</td>\n",
       "      <td>2019-09-05 21:35:06.925873</td>\n",
       "      <td>rss_feed</td>\n",
       "      <td>MH17 Ukraine plane crash: 'Key witness' releas...</td>\n",
       "    </tr>\n",
       "    <tr>\n",
       "      <th>3</th>\n",
       "      <td>3</td>\n",
       "      <td>Article 370: The weddings 'ruined' by Kashmir'...</td>\n",
       "      <td>Indian-administered Kashmir is under a securit...</td>\n",
       "      <td>Thu, 05 Sep 2019 07:32:34 GMT</td>\n",
       "      <td>https://www.bbc.co.uk/news/world-asia-india-49...</td>\n",
       "      <td>http://feeds.bbci.co.uk/news/world/rss.xml</td>\n",
       "      <td>2019-09-05 21:35:06.925873</td>\n",
       "      <td>rss_feed</td>\n",
       "      <td>Article 7: The weddings 'ruined' by Kashmir's ...</td>\n",
       "    </tr>\n",
       "    <tr>\n",
       "      <th>4</th>\n",
       "      <td>4</td>\n",
       "      <td>Syria war: Turkey warns Europe of new migrant ...</td>\n",
       "      <td>President Erdogan demands international help t...</td>\n",
       "      <td>Thu, 05 Sep 2019 16:11:48 GMT</td>\n",
       "      <td>https://www.bbc.co.uk/news/world-europe-49599297</td>\n",
       "      <td>http://feeds.bbci.co.uk/news/world/rss.xml</td>\n",
       "      <td>2019-09-05 21:35:06.925873</td>\n",
       "      <td>rss_feed</td>\n",
       "      <td>Syria war: Turkey warns Europe of new migrant ...</td>\n",
       "    </tr>\n",
       "  </tbody>\n",
       "</table>\n",
       "</div>"
      ],
      "text/plain": [
       "      index                                              title  \\\n",
       "node                                                             \n",
       "0         0  Hurricane Dorian lashes US as Bahamas counts cost   \n",
       "1         1  Kohistan video murders: Three guilty in 'honou...   \n",
       "2         2   MH17 Ukraine plane crash: 'Key witness' released   \n",
       "3         3  Article 370: The weddings 'ruined' by Kashmir'...   \n",
       "4         4  Syria war: Turkey warns Europe of new migrant ...   \n",
       "\n",
       "                                                summary  \\\n",
       "node                                                      \n",
       "0     Life-threatening US storm surges are feared, a...   \n",
       "1     They are relatives of a group of Pakistani wom...   \n",
       "2     A Ukrainian court releases a potentially key w...   \n",
       "3     Indian-administered Kashmir is under a securit...   \n",
       "4     President Erdogan demands international help t...   \n",
       "\n",
       "                               date  \\\n",
       "node                                  \n",
       "0     Thu, 05 Sep 2019 16:03:44 GMT   \n",
       "1     Thu, 05 Sep 2019 13:53:17 GMT   \n",
       "2     Thu, 05 Sep 2019 13:46:06 GMT   \n",
       "3     Thu, 05 Sep 2019 07:32:34 GMT   \n",
       "4     Thu, 05 Sep 2019 16:11:48 GMT   \n",
       "\n",
       "                                                   link  \\\n",
       "node                                                      \n",
       "0     https://www.bbc.co.uk/news/world-us-canada-495...   \n",
       "1        https://www.bbc.co.uk/news/world-asia-49592540   \n",
       "2      https://www.bbc.co.uk/news/world-europe-49591148   \n",
       "3     https://www.bbc.co.uk/news/world-asia-india-49...   \n",
       "4      https://www.bbc.co.uk/news/world-europe-49599297   \n",
       "\n",
       "                                      source_url         retrieval_timestamp  \\\n",
       "node                                                                           \n",
       "0     http://feeds.bbci.co.uk/news/world/rss.xml  2019-09-05 21:35:06.925873   \n",
       "1     http://feeds.bbci.co.uk/news/world/rss.xml  2019-09-05 21:35:06.925873   \n",
       "2     http://feeds.bbci.co.uk/news/world/rss.xml  2019-09-05 21:35:06.925873   \n",
       "3     http://feeds.bbci.co.uk/news/world/rss.xml  2019-09-05 21:35:06.925873   \n",
       "4     http://feeds.bbci.co.uk/news/world/rss.xml  2019-09-05 21:35:06.925873   \n",
       "\n",
       "        origin                                         clean_text  \n",
       "node                                                               \n",
       "0     rss_feed  Hurricane Dorian lashes US as Bahamas counts c...  \n",
       "1     rss_feed  Kohistan video murders: Three guilty in 'honou...  \n",
       "2     rss_feed  MH17 Ukraine plane crash: 'Key witness' releas...  \n",
       "3     rss_feed  Article 7: The weddings 'ruined' by Kashmir's ...  \n",
       "4     rss_feed  Syria war: Turkey warns Europe of new migrant ...  "
      ]
     },
     "execution_count": 2,
     "metadata": {},
     "output_type": "execute_result"
    }
   ],
   "source": [
    "# Should be same path for all my PC's, it's where each scrape goes as a separate json file.\n",
    "storage_path = \"D:/Dropbox/news_crow/scrape_results\"\n",
    "\n",
    "# \"bing\" is targeted news search corpus, \"RSS\" is from specific world and local news feeds.\n",
    "corpus_type = \"RSS\"\n",
    "\n",
    "# There's a helper function to go find and drag out the various JSON files created by the scrapers.\n",
    "corpus = helper.load_clean_world_corpus(storage_path, corpus_type)\n",
    "\n",
    "# Make sure after cleaning etc it's indexed from 0\n",
    "corpus.reset_index(inplace=True)\n",
    "corpus.index.name = \"node\"\n",
    "\n",
    "# See how it turned out\n",
    "print(corpus.shape)\n",
    "corpus.head()"
   ]
  },
  {
   "cell_type": "raw",
   "metadata": {},
   "source": [
    "corpus=corpus.sample(n=30000, replace=False)\n",
    "corpus.shape"
   ]
  },
  {
   "cell_type": "markdown",
   "metadata": {},
   "source": [
    "## 2. Use Detected Nouns to create a Graph Representation"
   ]
  },
  {
   "cell_type": "code",
   "execution_count": 3,
   "metadata": {
    "scrolled": true
   },
   "outputs": [
    {
     "data": {
      "text/html": [
       "<div>\n",
       "<style scoped>\n",
       "    .dataframe tbody tr th:only-of-type {\n",
       "        vertical-align: middle;\n",
       "    }\n",
       "\n",
       "    .dataframe tbody tr th {\n",
       "        vertical-align: top;\n",
       "    }\n",
       "\n",
       "    .dataframe thead th {\n",
       "        text-align: right;\n",
       "    }\n",
       "</style>\n",
       "<table border=\"1\" class=\"dataframe\">\n",
       "  <thead>\n",
       "    <tr style=\"text-align: right;\">\n",
       "      <th></th>\n",
       "      <th>bell</th>\n",
       "      <th>bennhold</th>\n",
       "      <th>kennelli</th>\n",
       "      <th>swat</th>\n",
       "      <th>constitu</th>\n",
       "      <th>nygard</th>\n",
       "      <th>ukrain_giuliani</th>\n",
       "      <th>celeb</th>\n",
       "      <th>southern</th>\n",
       "      <th>abdulaziz</th>\n",
       "      <th>...</th>\n",
       "      <th>taliban_afghanistan</th>\n",
       "      <th>dwright</th>\n",
       "      <th>ament</th>\n",
       "      <th>masterpiec</th>\n",
       "      <th>graci</th>\n",
       "      <th>areica</th>\n",
       "      <th>sanctuari</th>\n",
       "      <th>andriu</th>\n",
       "      <th>owt</th>\n",
       "      <th>becket</th>\n",
       "    </tr>\n",
       "  </thead>\n",
       "  <tbody>\n",
       "    <tr>\n",
       "      <th>Hurricane Dorian lashes US as Bahamas counts cost. Life-threatening US storm surges are feared, as rescue work continues in the devastated Bahamas.</th>\n",
       "      <td>0</td>\n",
       "      <td>0</td>\n",
       "      <td>0</td>\n",
       "      <td>0</td>\n",
       "      <td>0</td>\n",
       "      <td>0</td>\n",
       "      <td>0</td>\n",
       "      <td>0</td>\n",
       "      <td>0</td>\n",
       "      <td>0</td>\n",
       "      <td>...</td>\n",
       "      <td>0</td>\n",
       "      <td>0</td>\n",
       "      <td>0</td>\n",
       "      <td>0</td>\n",
       "      <td>0</td>\n",
       "      <td>0</td>\n",
       "      <td>0</td>\n",
       "      <td>0</td>\n",
       "      <td>0</td>\n",
       "      <td>0</td>\n",
       "    </tr>\n",
       "    <tr>\n",
       "      <th>Kohistan video murders: Three guilty in 'honour killing' blood feud. They are relatives of a group of Pakistani women killed after being filmed singing at a wedding.</th>\n",
       "      <td>0</td>\n",
       "      <td>0</td>\n",
       "      <td>0</td>\n",
       "      <td>0</td>\n",
       "      <td>0</td>\n",
       "      <td>0</td>\n",
       "      <td>0</td>\n",
       "      <td>0</td>\n",
       "      <td>0</td>\n",
       "      <td>0</td>\n",
       "      <td>...</td>\n",
       "      <td>0</td>\n",
       "      <td>0</td>\n",
       "      <td>0</td>\n",
       "      <td>0</td>\n",
       "      <td>0</td>\n",
       "      <td>0</td>\n",
       "      <td>0</td>\n",
       "      <td>0</td>\n",
       "      <td>0</td>\n",
       "      <td>0</td>\n",
       "    </tr>\n",
       "    <tr>\n",
       "      <th>MH17 Ukraine plane crash: 'Key witness' released. A Ukrainian court releases a potentially key witness to the downing of the Malaysian airliner MH17.</th>\n",
       "      <td>0</td>\n",
       "      <td>0</td>\n",
       "      <td>0</td>\n",
       "      <td>0</td>\n",
       "      <td>0</td>\n",
       "      <td>0</td>\n",
       "      <td>0</td>\n",
       "      <td>0</td>\n",
       "      <td>0</td>\n",
       "      <td>0</td>\n",
       "      <td>...</td>\n",
       "      <td>0</td>\n",
       "      <td>0</td>\n",
       "      <td>0</td>\n",
       "      <td>0</td>\n",
       "      <td>0</td>\n",
       "      <td>0</td>\n",
       "      <td>0</td>\n",
       "      <td>0</td>\n",
       "      <td>0</td>\n",
       "      <td>0</td>\n",
       "    </tr>\n",
       "    <tr>\n",
       "      <th>Article 7: The weddings 'ruined' by Kashmir's lockdown. Indian-administered Kashmir is under a security crackdown after it was stripped of its special status.</th>\n",
       "      <td>0</td>\n",
       "      <td>0</td>\n",
       "      <td>0</td>\n",
       "      <td>0</td>\n",
       "      <td>0</td>\n",
       "      <td>0</td>\n",
       "      <td>0</td>\n",
       "      <td>0</td>\n",
       "      <td>0</td>\n",
       "      <td>0</td>\n",
       "      <td>...</td>\n",
       "      <td>0</td>\n",
       "      <td>0</td>\n",
       "      <td>0</td>\n",
       "      <td>0</td>\n",
       "      <td>0</td>\n",
       "      <td>0</td>\n",
       "      <td>0</td>\n",
       "      <td>0</td>\n",
       "      <td>0</td>\n",
       "      <td>0</td>\n",
       "    </tr>\n",
       "    <tr>\n",
       "      <th>Syria war: Turkey warns Europe of new migrant wave. President Erdogan demands international help to create a refugee \"safe zone\" in northern Syria.</th>\n",
       "      <td>0</td>\n",
       "      <td>0</td>\n",
       "      <td>0</td>\n",
       "      <td>0</td>\n",
       "      <td>0</td>\n",
       "      <td>0</td>\n",
       "      <td>0</td>\n",
       "      <td>0</td>\n",
       "      <td>0</td>\n",
       "      <td>0</td>\n",
       "      <td>...</td>\n",
       "      <td>0</td>\n",
       "      <td>0</td>\n",
       "      <td>0</td>\n",
       "      <td>0</td>\n",
       "      <td>0</td>\n",
       "      <td>0</td>\n",
       "      <td>0</td>\n",
       "      <td>0</td>\n",
       "      <td>0</td>\n",
       "      <td>0</td>\n",
       "    </tr>\n",
       "  </tbody>\n",
       "</table>\n",
       "<p>5 rows × 19391 columns</p>\n",
       "</div>"
      ],
      "text/plain": [
       "                                                    bell  bennhold  kennelli  \\\n",
       "Hurricane Dorian lashes US as Bahamas counts co...     0         0         0   \n",
       "Kohistan video murders: Three guilty in 'honour...     0         0         0   \n",
       "MH17 Ukraine plane crash: 'Key witness' release...     0         0         0   \n",
       "Article 7: The weddings 'ruined' by Kashmir's l...     0         0         0   \n",
       "Syria war: Turkey warns Europe of new migrant w...     0         0         0   \n",
       "\n",
       "                                                    swat  constitu  nygard  \\\n",
       "Hurricane Dorian lashes US as Bahamas counts co...     0         0       0   \n",
       "Kohistan video murders: Three guilty in 'honour...     0         0       0   \n",
       "MH17 Ukraine plane crash: 'Key witness' release...     0         0       0   \n",
       "Article 7: The weddings 'ruined' by Kashmir's l...     0         0       0   \n",
       "Syria war: Turkey warns Europe of new migrant w...     0         0       0   \n",
       "\n",
       "                                                    ukrain_giuliani  celeb  \\\n",
       "Hurricane Dorian lashes US as Bahamas counts co...                0      0   \n",
       "Kohistan video murders: Three guilty in 'honour...                0      0   \n",
       "MH17 Ukraine plane crash: 'Key witness' release...                0      0   \n",
       "Article 7: The weddings 'ruined' by Kashmir's l...                0      0   \n",
       "Syria war: Turkey warns Europe of new migrant w...                0      0   \n",
       "\n",
       "                                                    southern  abdulaziz  ...  \\\n",
       "Hurricane Dorian lashes US as Bahamas counts co...         0          0  ...   \n",
       "Kohistan video murders: Three guilty in 'honour...         0          0  ...   \n",
       "MH17 Ukraine plane crash: 'Key witness' release...         0          0  ...   \n",
       "Article 7: The weddings 'ruined' by Kashmir's l...         0          0  ...   \n",
       "Syria war: Turkey warns Europe of new migrant w...         0          0  ...   \n",
       "\n",
       "                                                    taliban_afghanistan  \\\n",
       "Hurricane Dorian lashes US as Bahamas counts co...                    0   \n",
       "Kohistan video murders: Three guilty in 'honour...                    0   \n",
       "MH17 Ukraine plane crash: 'Key witness' release...                    0   \n",
       "Article 7: The weddings 'ruined' by Kashmir's l...                    0   \n",
       "Syria war: Turkey warns Europe of new migrant w...                    0   \n",
       "\n",
       "                                                    dwright  ament  \\\n",
       "Hurricane Dorian lashes US as Bahamas counts co...        0      0   \n",
       "Kohistan video murders: Three guilty in 'honour...        0      0   \n",
       "MH17 Ukraine plane crash: 'Key witness' release...        0      0   \n",
       "Article 7: The weddings 'ruined' by Kashmir's l...        0      0   \n",
       "Syria war: Turkey warns Europe of new migrant w...        0      0   \n",
       "\n",
       "                                                    masterpiec  graci  areica  \\\n",
       "Hurricane Dorian lashes US as Bahamas counts co...           0      0       0   \n",
       "Kohistan video murders: Three guilty in 'honour...           0      0       0   \n",
       "MH17 Ukraine plane crash: 'Key witness' release...           0      0       0   \n",
       "Article 7: The weddings 'ruined' by Kashmir's l...           0      0       0   \n",
       "Syria war: Turkey warns Europe of new migrant w...           0      0       0   \n",
       "\n",
       "                                                    sanctuari  andriu  owt  \\\n",
       "Hurricane Dorian lashes US as Bahamas counts co...          0       0    0   \n",
       "Kohistan video murders: Three guilty in 'honour...          0       0    0   \n",
       "MH17 Ukraine plane crash: 'Key witness' release...          0       0    0   \n",
       "Article 7: The weddings 'ruined' by Kashmir's l...          0       0    0   \n",
       "Syria war: Turkey warns Europe of new migrant w...          0       0    0   \n",
       "\n",
       "                                                    becket  \n",
       "Hurricane Dorian lashes US as Bahamas counts co...       0  \n",
       "Kohistan video murders: Three guilty in 'honour...       0  \n",
       "MH17 Ukraine plane crash: 'Key witness' release...       0  \n",
       "Article 7: The weddings 'ruined' by Kashmir's l...       0  \n",
       "Syria war: Turkey warns Europe of new migrant w...       0  \n",
       "\n",
       "[5 rows x 19391 columns]"
      ]
     },
     "execution_count": 3,
     "metadata": {},
     "output_type": "execute_result"
    }
   ],
   "source": [
    "# Generate the text representation\n",
    "model = reps.NounAdjacencyModel2(list(corpus['clean_text']), list(corpus['clean_text']))\n",
    "\n",
    "# Tabulate for convenience\n",
    "nouns_df = model.table.copy()\n",
    "nouns_df.head()"
   ]
  },
  {
   "cell_type": "markdown",
   "metadata": {},
   "source": [
    "#### Drop any noun/noun phrase containing one of the search terms, then create an adjacency matrix\n",
    "\n",
    "#### Drop any noun/phrase occuring too infrequently"
   ]
  },
  {
   "cell_type": "code",
   "execution_count": 4,
   "metadata": {},
   "outputs": [],
   "source": [
    "# Retrive the set of search terms used for Bing, so we can remove them before\n",
    "# clustering.\n",
    "with open(\"D:/Dropbox/news_crow/scrape_settings.json\", \"r\") as f:\n",
    "    scrape_config = json.load(f)\n",
    "\n",
    "search_terms = scrape_config['disaster_search_list']\n",
    "search_terms = re.sub(r\"[^0-9A-Za-z ]\", \"\", \" \".join(search_terms)).lower().split()\n",
    "search_terms = set(search_terms)"
   ]
  },
  {
   "cell_type": "code",
   "execution_count": 5,
   "metadata": {},
   "outputs": [
    {
     "name": "stdout",
     "output_type": "stream",
     "text": [
      "(31393, 5000)\n"
     ]
    }
   ],
   "source": [
    "# Get X most common nouns\n",
    "nouns_to_keep = list(nouns_df.\\\n",
    "                    sum(axis=0).\\\n",
    "                    sort_values(ascending=False).\\\n",
    "                    index)\n",
    "\n",
    "# Cut out any nouns containing the original search terms\n",
    "#nouns_to_keep = [noun for noun in nouns_to_keep if sum([term in noun for term in search_terms]) == 0]\n",
    "\n",
    "# Keep only most common\n",
    "nouns_to_keep = nouns_to_keep[:5000]\n",
    "\n",
    "# Subset nouns dataframe\n",
    "nouns_df = nouns_df[nouns_to_keep]\n",
    "\n",
    "print(nouns_df.shape)"
   ]
  },
  {
   "cell_type": "code",
   "execution_count": null,
   "metadata": {},
   "outputs": [],
   "source": [
    "embeddings = np.asarray(nouns_df)\n",
    "adjacency = np.dot(embeddings, embeddings.T)\n",
    "print(np.max(adjacency))"
   ]
  },
  {
   "cell_type": "code",
   "execution_count": null,
   "metadata": {},
   "outputs": [],
   "source": [
    "# If the \"lower\" limit is 1, the graph has so many edges it eats ALL the memory of my desktop, even\n",
    "# with just 500-ish stories to process.\n",
    "upper = 100\n",
    "lower = 3\n",
    "G = nx.Graph()\n",
    "rows, cols = np.where((upper >= adjacency) & (adjacency >= lower))\n",
    "weights = [float(adjacency[rows[i], cols[i]]) for i in range(len(rows))]\n",
    "edges = zip(rows.tolist(), cols.tolist(), weights)\n",
    "G.add_weighted_edges_from(edges)\n",
    "\n",
    "# Simplify; remove self-edges - not sure if needed?\n",
    "G.remove_edges_from(nx.selfloop_edges(G))\n",
    "\n",
    "G.number_of_edges()"
   ]
  },
  {
   "cell_type": "code",
   "execution_count": null,
   "metadata": {},
   "outputs": [],
   "source": [
    "nx.write_gml(G, \"working/RSS_graph_3lim_5000.gml\")\n",
    "#nx.write_gml(G, \"working/RSS_graph_2lim.gml\")"
   ]
  },
  {
   "cell_type": "markdown",
   "metadata": {},
   "source": [
    "12596 to beat"
   ]
  },
  {
   "cell_type": "markdown",
   "metadata": {},
   "source": [
    "## 3c.  Try CDLIB"
   ]
  },
  {
   "cell_type": "code",
   "execution_count": 1,
   "metadata": {},
   "outputs": [],
   "source": [
    "import cdlib\n",
    "from cdlib import algorithms\n",
    "from cdlib import evaluation"
   ]
  },
  {
   "cell_type": "code",
   "execution_count": null,
   "metadata": {},
   "outputs": [],
   "source": [
    "def assign_cluster_from_model(corpus, model, threshold=5):\n",
    "    \"\"\" Mine the cluster-of-node info from the model instance \"\"\"\n",
    "    community_lookup = {}\n",
    "    for comm_index, members in enumerate(model.communities):\n",
    "        for member in members:\n",
    "            community_lookup[member] = comm_index\n",
    "            \n",
    "    # Add cluster to DF.  If node not in cluster, assign -1 (outlier)\n",
    "    corpus['node'] = corpus.index\n",
    "    corpus['cluster'] = corpus['node'].apply(lambda x: community_lookup.get(str(x), -1))\n",
    "    corpus[['clean_text', 'cluster']].head(10)\n",
    "    \n",
    "    # If cluster is smaller than minimum limit, designate as outlier\n",
    "    cs_lookup = corpus['cluster'].value_counts().to_dict()\n",
    "    corpus['cluster'] = corpus['cluster'].apply(lambda x: -1 if (cs_lookup[x] < threshold) else x)\n",
    "    \n",
    "    return corpus\n",
    "\n",
    "def generate_louvain(G, corpus, resolution=1.0, threshold=5):\n",
    "    \"\"\" Develop a louvain model, assign clusters etc \"\"\"\n",
    "    print(\"\\nLouvain resolution: \", resolution)\n",
    "    \n",
    "    # Find the communities\n",
    "    louvain_coms = algorithms.louvain(G, resolution = resolution)\n",
    "    \n",
    "    corpus = assign_cluster_from_model(corpus, louvain_coms)\n",
    "    \n",
    "    # What percentage are now classed as outliers?\n",
    "    print(\"Percent classed outlier: \", 100.0 * sum(corpus['cluster']==-1) / corpus.shape[0])\n",
    "    \n",
    "    # How many unique clusters after all this?  (minus one for outliers)\n",
    "    print(\"Number of unique clusters: \", len(pd.unique(corpus['cluster'])))\n",
    "    \n",
    "    return corpus"
   ]
  },
  {
   "cell_type": "code",
   "execution_count": null,
   "metadata": {},
   "outputs": [],
   "source": [
    "#G = nx.read_gml(\"working/RSS_graph_2lim.gml\")\n",
    "G = nx.read_gml(\"working/RSS_graph_3lim_5000.gml\")\n",
    "#G = nx.read_gml(\"working/RSS_graph_2lim_permissive.gml\")\n",
    "\n",
    "for res in [0.1, 0.2, 0.4, 0.6, 0.8, 1.0, 2.0, 3.0, 5.0, 7.0, 10.0]:\n",
    "    generate_louvain(G, corpus, resolution=res)"
   ]
  },
  {
   "cell_type": "code",
   "execution_count": null,
   "metadata": {},
   "outputs": [],
   "source": [
    "G = nx.read_gml(\"working/RSS_graph_3lim_5000.gml\")\n",
    "corpus = generate_louvain(G, corpus, resolution=2.0)\n",
    "corpus.to_csv(\"working/RSS_clustered_louvain_3lim_5000.csv\")"
   ]
  },
  {
   "cell_type": "raw",
   "metadata": {},
   "source": [
    "G = nx.read_gml(\"working/RSS_graph_2lim_permissive.gml\")\n",
    "corpus = generate_louvain(G, corpus, resolution=2.0)\n",
    "corpus.to_csv(\"working/RSS_clustered_louvain_permissive.csv\")\n",
    "coherences = helper.report_corpus_model_coherence(\"working/RSS_clustered_louvain_permissive.csv\")"
   ]
  },
  {
   "cell_type": "raw",
   "metadata": {},
   "source": [
    "bigclam_coms.communities"
   ]
  },
  {
   "cell_type": "raw",
   "metadata": {},
   "source": [
    "bigclam_coms.average_internal_degree()"
   ]
  },
  {
   "cell_type": "raw",
   "metadata": {},
   "source": [
    "bigclam_coms.newman_girvan_modularity()"
   ]
  },
  {
   "cell_type": "raw",
   "metadata": {},
   "source": [
    "## 3.  Create (overlapping) clusters using Maximal Cliques\n",
    "Idea from the docs, explanation at https://en.wikipedia.org/wiki/Clique_(graph_theory)\n",
    "Expanded using k-clique-communities REF FIND PAPER"
   ]
  },
  {
   "cell_type": "raw",
   "metadata": {},
   "source": [
    "c = list(nx.algorithms.community.kclique.k_clique_communities(G, 4))\n",
    "cliques = [(len(x), x) for x in c]"
   ]
  },
  {
   "cell_type": "raw",
   "metadata": {},
   "source": [
    "cliques"
   ]
  },
  {
   "cell_type": "raw",
   "metadata": {},
   "source": [
    "cliques_df = pd.DataFrame({\"nodes_list\": [x[1] for x in cliques],\n",
    "                           \"clique_size\": [x[0] for x in cliques]}).\\\n",
    "                    sort_values(\"clique_size\", ascending=False).\\\n",
    "                    reset_index()\n",
    "\n",
    "cliques_df = cliques_df[(cliques_df['clique_size'] >= 3) & (cliques_df['clique_size'] <=100)]"
   ]
  },
  {
   "cell_type": "raw",
   "metadata": {
    "scrolled": true
   },
   "source": [
    "cliques_df"
   ]
  },
  {
   "cell_type": "raw",
   "metadata": {},
   "source": [
    "cliqued = set(flatten(list(cliques_df['nodes_list'])))\n",
    "len(cliqued)"
   ]
  },
  {
   "cell_type": "raw",
   "metadata": {},
   "source": [
    "# Flatten the cliques DF into long format\n",
    "flattened = {\"cluster_index\":[], \"node\":[]}\n",
    "\n",
    "for index, row in cliques_df.iterrows():\n",
    "    for node in row[\"nodes_list\"]:\n",
    "        flattened[\"cluster_index\"].append(index)\n",
    "        flattened[\"node\"].append(node)\n",
    "        \n",
    "\n",
    "partition_df = pd.DataFrame(flattened)\n",
    "\n",
    "# Create a single string variable (\";\" separated) to record all clusters/cliques a single record belongs in\n",
    "partition_df[\"cluster\"] = partition_df.\\\n",
    "                          groupby(\"node\")[\"cluster_index\"].\\\n",
    "                          transform(lambda x: \";\".join([str(i) for i in x if type(i)==int]))\n",
    "\n",
    "# Clean up, set index of this and corpus so the two DF's can be joined with little effort\n",
    "partition_df = partition_df[[\"node\", \"cluster\"]].\\\n",
    "               drop_duplicates([\"node\", \"cluster\"], keep=\"first\").\\\n",
    "               set_index(\"node\")\n",
    "\n",
    "corpus.drop([\"cluster\", \"node\"], axis=1).join(partition_df).\\\n",
    "       to_csv(\"working/RSS_clustered_cliques.csv\")"
   ]
  },
  {
   "cell_type": "raw",
   "metadata": {},
   "source": [
    "### The below attempts overlapping community detection but can only run on connected graphs, think this is an implicit restriction of the algorithm logic."
   ]
  },
  {
   "cell_type": "raw",
   "metadata": {},
   "source": [
    "# Get all connected components (will become less of an issue as graph size increases)\n",
    "ccs = [(len(x), x) for x in nx.connected_components(G)]\n",
    "\n",
    "# Sort by size (largest first)\n",
    "ccs.sort(key = lambda x: x[0], reverse=True)\n",
    "\n",
    "# Extract largest connected sub-graph\n",
    "connected_sub = G.subgraph(ccs[0][1])\n",
    "\n",
    "# re-index nodes from zero to maintain compatibility with CDLIB (sub-dependency, Karate)\n",
    "# Will need to reverse this indexing when matching assigned clusters back to data\n",
    "node_relabel_dict = {val: i for i, val in enumerate(list(connected_sub.nodes))}\n",
    "\n",
    "connected_sub = nx.relabel_nodes(connected_sub, node_relabel_dict)\n",
    "\n",
    "# Fire algo!\n",
    "bigclam_coms = algorithms.big_clam(connected_sub)\n",
    "#leiden_coms = algorithms.leiden(connected_sub)"
   ]
  },
  {
   "cell_type": "raw",
   "metadata": {},
   "source": [
    "bigclam_coms.communities"
   ]
  },
  {
   "cell_type": "raw",
   "metadata": {},
   "source": [
    "# Build dict of node-to-cluster lookup\n",
    "community_lookup = {}\n",
    "for comm_index, members in enumerate(bigclam_coms.communities):\n",
    "    for member in members:\n",
    "        community_lookup[member] = community_lookup.get(member, []) + [comm_index]\n",
    "\n",
    "# Add cluster to DF.  If node not in cluster, assign -1 (outlier)\n",
    "corpus['node'] = corpus.index\n",
    "corpus['cluster'] = corpus['node'].apply(lambda x: community_lookup.get(x, [-1]))\n",
    "corpus[['clean_text', 'cluster']].head(10)\n",
    "\n",
    "# If cluster is smaller than minimum limit, designate as outlier\n",
    "cs_lookup = corpus['cluster'].value_counts().to_dict()\n",
    "corpus['cluster'] = corpus['cluster'].apply(lambda x: -1 if (cs_lookup[x] < 5) else x)"
   ]
  },
  {
   "cell_type": "raw",
   "metadata": {},
   "source": [
    "# What percentage are now classed as outliers?\n",
    "100.0 * sum(corpus['cluster']==-1) / corpus.shape[0]"
   ]
  },
  {
   "cell_type": "raw",
   "metadata": {},
   "source": [
    "# How many unique clusters after all this?  (minus one for outliers)\n",
    "len(pd.unique(corpus['cluster']))"
   ]
  },
  {
   "cell_type": "raw",
   "metadata": {},
   "source": [
    "corpus.to_csv(\"working/disaster_clustered_bigclam.csv\")"
   ]
  }
 ],
 "metadata": {
  "kernelspec": {
   "display_name": "Python 3",
   "language": "python",
   "name": "python3"
  },
  "language_info": {
   "codemirror_mode": {
    "name": "ipython",
    "version": 3
   },
   "file_extension": ".py",
   "mimetype": "text/x-python",
   "name": "python",
   "nbconvert_exporter": "python",
   "pygments_lexer": "ipython3",
   "version": "3.7.6"
  }
 },
 "nbformat": 4,
 "nbformat_minor": 2
}
