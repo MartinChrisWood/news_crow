{
 "cells": [
  {
   "cell_type": "markdown",
   "metadata": {},
   "source": [
    "# Gauge the quality of the clusters produced - RSS corpus"
   ]
  },
  {
   "cell_type": "code",
   "execution_count": 1,
   "metadata": {},
   "outputs": [],
   "source": [
    "import lib.reporter as reporter"
   ]
  },
  {
   "cell_type": "code",
   "execution_count": 2,
   "metadata": {},
   "outputs": [],
   "source": [
    "import pandas as pd\n",
    "\n",
    "df = pd.read_csv(\"working/RSS_clustered_lda.csv\")\n",
    "\n",
    "cluster_column = \"cluster\"\n",
    "max_size = 1000\n",
    "\n",
    "if max_size:\n",
    "    cs_lookup = df[cluster_column].value_counts().to_dict()\n",
    "    df[cluster_column] = df[cluster_column].apply(lambda x: -1 if (cs_lookup[x] > max_size) else x)"
   ]
  },
  {
   "cell_type": "code",
   "execution_count": null,
   "metadata": {
    "scrolled": true
   },
   "outputs": [
    {
     "name": "stderr",
     "output_type": "stream",
     "text": [
      "C:\\ProgramData\\Anaconda3\\lib\\site-packages\\dateutil\\parser\\_parser.py:1218: UnknownTimezoneWarning: tzname EDT identified but not understood.  Pass `tzinfos` argument in order to correctly return a timezone-aware datetime.  In a future version, this will raise an exception.\n",
      "  category=UnknownTimezoneWarning)\n",
      "C:\\ProgramData\\Anaconda3\\lib\\site-packages\\dateutil\\parser\\_parser.py:1218: UnknownTimezoneWarning: tzname EST identified but not understood.  Pass `tzinfos` argument in order to correctly return a timezone-aware datetime.  In a future version, this will raise an exception.\n",
      "  category=UnknownTimezoneWarning)\n"
     ]
    }
   ],
   "source": [
    "lda_stats, lda_coherences, lda_topics_results = reporter.report_corpus_model_coherence(\"working/RSS_clustered_lda.csv\", max_size=1000)\n",
    "\n",
    "for key, value in lda_stats.items():\n",
    "    if \"examples\" not in key:\n",
    "        print (key, value)"
   ]
  },
  {
   "cell_type": "code",
   "execution_count": null,
   "metadata": {
    "scrolled": false
   },
   "outputs": [],
   "source": [
    "w2v_stats, w2v_coherences, w2v_topics_results = reporter.report_corpus_model_coherence(\"working/RSS_clustered_w2v_pca.csv\", max_size=1000)\n",
    "\n",
    "for key, value in w2v_stats.items():\n",
    "    if \"examples\" not in key:\n",
    "        print (key, value)"
   ]
  },
  {
   "cell_type": "code",
   "execution_count": null,
   "metadata": {},
   "outputs": [],
   "source": [
    "kmd_stats, kmd_coherences, kmd_topics_results = reporter.report_corpus_model_coherence(\"working/RSS_kmeans_w2v_direct.csv\", max_size=1000)\n",
    "\n",
    "for key, value in kmd_stats.items():\n",
    "    if \"examples\" not in key:\n",
    "        print (key, value)"
   ]
  },
  {
   "cell_type": "code",
   "execution_count": null,
   "metadata": {},
   "outputs": [],
   "source": [
    "kmp_stats, kmp_coherences, kmp_topics_results = reporter.report_corpus_model_coherence(\"working/RSS_kmeans_w2v_pca.csv\", max_size=1000)\n",
    "\n",
    "for key, value in kmp_stats.items():\n",
    "    if \"examples\" not in key:\n",
    "        print (key, value)"
   ]
  },
  {
   "cell_type": "code",
   "execution_count": null,
   "metadata": {
    "scrolled": false
   },
   "outputs": [],
   "source": [
    "from importlib import reload\n",
    "reload(reporter)\n",
    "net2p_stats, net2p_coherences, net2p_topics_results = reporter.report_corpus_model_coherence(\"working/RSS_clustered_louvain_2lim_permissive.csv\", max_size=1000)\n",
    "\n",
    "for key, value in net2p_stats.items():\n",
    "    if \"examples\" not in key:\n",
    "        print (key, value)"
   ]
  },
  {
   "cell_type": "code",
   "execution_count": null,
   "metadata": {
    "scrolled": false
   },
   "outputs": [],
   "source": [
    "from importlib import reload\n",
    "reload(reporter)\n",
    "net2t_stats, net2t_coherences, net2t_topics_results = reporter.report_corpus_model_coherence(\"working/RSS_clustered_louvain_2lim_tight.csv\", max_size=1000)\n",
    "\n",
    "for key, value in net2t_stats.items():\n",
    "    if \"examples\" not in key:\n",
    "        print (key, value)"
   ]
  },
  {
   "cell_type": "code",
   "execution_count": null,
   "metadata": {},
   "outputs": [],
   "source": [
    "from importlib import reload\n",
    "reload(reporter)\n",
    "net2h_stats, net2h_coherences, net2h_topics_results = reporter.report_corpus_model_coherence(\"working/RSS_clustered_louvain_2lim_highres.csv\", max_size=1000)\n",
    "\n",
    "for key, value in net2h_stats.items():\n",
    "    if \"examples\" not in key:\n",
    "        print (key, value)"
   ]
  },
  {
   "cell_type": "code",
   "execution_count": null,
   "metadata": {
    "scrolled": false
   },
   "outputs": [],
   "source": [
    "for key, value in net2h_stats.items():\n",
    "    if \"examples\" in key:\n",
    "        print (key, value)"
   ]
  },
  {
   "cell_type": "code",
   "execution_count": null,
   "metadata": {},
   "outputs": [],
   "source": [
    "from importlib import reload\n",
    "reload(reporter)\n",
    "net2h_stats, net2h_coherences, net2h_topics_results = reporter.report_corpus_model_coherence(\"working/RSS_clustered_louvain_2lim_permissive_highres.csv\", max_size=1000)\n",
    "\n",
    "for key, value in net2h_stats.items():\n",
    "    if \"examples\" not in key:\n",
    "        print (key, value)"
   ]
  },
  {
   "cell_type": "code",
   "execution_count": null,
   "metadata": {
    "scrolled": true
   },
   "outputs": [],
   "source": [
    "from importlib import reload\n",
    "reload(reporter)\n",
    "net3_stats, net3_coherences, net3_topics_results = reporter.report_corpus_model_coherence(\"working/RSS_clustered_louvain_3lim.csv\", max_size=1000)\n",
    "\n",
    "for key, value in net3_stats.items():\n",
    "    if \"examples\" not in key:\n",
    "        print (key, value)"
   ]
  },
  {
   "cell_type": "code",
   "execution_count": null,
   "metadata": {
    "scrolled": false
   },
   "outputs": [],
   "source": [
    "for key, value in net3_stats.items():\n",
    "    if \"examples\" in key:\n",
    "        print (key, value)"
   ]
  }
 ],
 "metadata": {
  "kernelspec": {
   "display_name": "Python 3",
   "language": "python",
   "name": "python3"
  },
  "language_info": {
   "codemirror_mode": {
    "name": "ipython",
    "version": 3
   },
   "file_extension": ".py",
   "mimetype": "text/x-python",
   "name": "python",
   "nbconvert_exporter": "python",
   "pygments_lexer": "ipython3",
   "version": "3.7.6"
  }
 },
 "nbformat": 4,
 "nbformat_minor": 2
}
