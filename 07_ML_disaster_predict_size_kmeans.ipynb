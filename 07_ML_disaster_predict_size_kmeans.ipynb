{
 "cells": [
  {
   "cell_type": "markdown",
   "metadata": {},
   "source": [
    "# Predict size of cluster from text content"
   ]
  },
  {
   "cell_type": "code",
   "execution_count": 1,
   "metadata": {},
   "outputs": [],
   "source": [
    "import numpy as np\n",
    "import pandas as pd\n",
    "import seaborn as sns\n",
    "\n",
    "import matplotlib.pyplot as plt\n",
    "\n",
    "import scikitplot as skplt\n",
    "\n",
    "from sklearn.utils import shuffle\n",
    "\n",
    "%matplotlib inline\n",
    "\n",
    "import lib.helper as helper"
   ]
  },
  {
   "cell_type": "code",
   "execution_count": 2,
   "metadata": {},
   "outputs": [],
   "source": [
    "from sklearn.preprocessing import StandardScaler\n",
    "from sklearn.feature_extraction.text import TfidfVectorizer\n",
    "from sklearn.feature_extraction.text import CountVectorizer"
   ]
  },
  {
   "cell_type": "code",
   "execution_count": 3,
   "metadata": {},
   "outputs": [],
   "source": [
    "# Import various metrics by which to judge a model's performance\n",
    "from sklearn.metrics import make_scorer\n",
    "from sklearn.metrics import accuracy_score\n",
    "from sklearn.metrics import f1_score\n",
    "from sklearn.metrics import precision_score\n",
    "from sklearn.metrics import recall_score\n",
    "\n",
    "# Regression type measurements\n",
    "from sklearn.metrics import mean_squared_error\n",
    "from sklearn.metrics import r2_score\n",
    "\n",
    "# Import the ML models to try\n",
    "from sklearn.ensemble import RandomForestRegressor\n",
    "from sklearn.linear_model import LinearRegression\n",
    "from sklearn.linear_model import ElasticNet\n",
    "from sklearn.model_selection import GridSearchCV\n",
    "\n",
    "# Tools for evaluating the model by running it repeatedly\n",
    "# with variants of the data\n",
    "from sklearn.model_selection import train_test_split\n",
    "from sklearn.model_selection import cross_validate\n",
    "from sklearn.model_selection import cross_val_predict"
   ]
  },
  {
   "cell_type": "markdown",
   "metadata": {},
   "source": [
    "## 01.  Create features, labels, train-val-test split"
   ]
  },
  {
   "cell_type": "code",
   "execution_count": 4,
   "metadata": {
    "scrolled": true
   },
   "outputs": [],
   "source": [
    "# Load the corpus\n",
    "df = pd.read_csv(\"working/disaster_kmeans_w2v_pca.csv\")"
   ]
  },
  {
   "cell_type": "code",
   "execution_count": 5,
   "metadata": {
    "scrolled": false
   },
   "outputs": [
    {
     "data": {
      "text/html": [
       "<div>\n",
       "<style scoped>\n",
       "    .dataframe tbody tr th:only-of-type {\n",
       "        vertical-align: middle;\n",
       "    }\n",
       "\n",
       "    .dataframe tbody tr th {\n",
       "        vertical-align: top;\n",
       "    }\n",
       "\n",
       "    .dataframe thead th {\n",
       "        text-align: right;\n",
       "    }\n",
       "</style>\n",
       "<table border=\"1\" class=\"dataframe\">\n",
       "  <thead>\n",
       "    <tr style=\"text-align: right;\">\n",
       "      <th></th>\n",
       "      <th>cluster_size</th>\n",
       "      <th>tokens</th>\n",
       "      <th>phrased_tokens</th>\n",
       "    </tr>\n",
       "  </thead>\n",
       "  <tbody>\n",
       "    <tr>\n",
       "      <th>16010</th>\n",
       "      <td>418.0</td>\n",
       "      <td>[quota, tsunami, debtquot, long, term, burden,...</td>\n",
       "      <td>[quota, tsunami, debtquot, euro, ing, euro]</td>\n",
       "    </tr>\n",
       "    <tr>\n",
       "      <th>9184</th>\n",
       "      <td>275.0</td>\n",
       "      <td>[pound, sterl, forecast, quotrisk, downsid, te...</td>\n",
       "      <td>[pound, sterl, forecast, quotrisk, downsid, eu...</td>\n",
       "    </tr>\n",
       "    <tr>\n",
       "      <th>15522</th>\n",
       "      <td>418.0</td>\n",
       "      <td>[quota, tsunami, debtquot, long, term, burden,...</td>\n",
       "      <td>[quota, tsunami, debtquot, euro, ing, euro]</td>\n",
       "    </tr>\n",
       "    <tr>\n",
       "      <th>340</th>\n",
       "      <td>286.0</td>\n",
       "      <td>[princess, ann, carri, work, despit, typhoon, ...</td>\n",
       "      <td>[princess_ann, typhoon_hagibi, japan, princess...</td>\n",
       "    </tr>\n",
       "    <tr>\n",
       "      <th>423</th>\n",
       "      <td>472.0</td>\n",
       "      <td>[princess, ann, carri, work, despit, typhoon, ...</td>\n",
       "      <td>[princess_ann, typhoon_hagibi, japan_typhoon, ...</td>\n",
       "    </tr>\n",
       "  </tbody>\n",
       "</table>\n",
       "</div>"
      ],
      "text/plain": [
       "       cluster_size                                             tokens  \\\n",
       "16010         418.0  [quota, tsunami, debtquot, long, term, burden,...   \n",
       "9184          275.0  [pound, sterl, forecast, quotrisk, downsid, te...   \n",
       "15522         418.0  [quota, tsunami, debtquot, long, term, burden,...   \n",
       "340           286.0  [princess, ann, carri, work, despit, typhoon, ...   \n",
       "423           472.0  [princess, ann, carri, work, despit, typhoon, ...   \n",
       "\n",
       "                                          phrased_tokens  \n",
       "16010        [quota, tsunami, debtquot, euro, ing, euro]  \n",
       "9184   [pound, sterl, forecast, quotrisk, downsid, eu...  \n",
       "15522        [quota, tsunami, debtquot, euro, ing, euro]  \n",
       "340    [princess_ann, typhoon_hagibi, japan, princess...  \n",
       "423    [princess_ann, typhoon_hagibi, japan_typhoon, ...  "
      ]
     },
     "execution_count": 5,
     "metadata": {},
     "output_type": "execute_result"
    }
   ],
   "source": [
    "# A quick utility function to pre-process the text\n",
    "df[\"tokens\"] = df[\"clean_text\"].apply(helper.preprocess_description)\n",
    "df['phrased_tokens'] = helper.get_phrased_nouns(df['clean_text'])\n",
    "\n",
    "# Reasign huge clusters as outliers\n",
    "cs_lookup = df['cluster'].value_counts().to_dict()\n",
    "df['cluster'] = df['cluster'].apply(lambda x: -1 if (cs_lookup[x] > 1000) else x)\n",
    "\n",
    "# Create variable for cluster size\n",
    "df_size = pd.DataFrame(df['cluster'].value_counts())\n",
    "df_size['cluster_label'] = df_size.index\n",
    "df_size.columns = ['cluster_size', 'cluster']\n",
    "df_size.head()\n",
    "\n",
    "df = df.merge(df_size, on=\"cluster\", how=\"left\")\n",
    "\n",
    "#df = df[df['cluster'] != -1]\n",
    "df['cluster_size'] = np.where(df['cluster']==-1, 1.0, df['cluster_size'])\n",
    "\n",
    "# Sort by date-order, latest last!\n",
    "df['date_clean'] = pd.to_datetime(df['date'], errors='coerce', utc=True)\n",
    "df = df.sort_values(\"date_clean\")\n",
    "\n",
    "# Take a look at the features and labels\n",
    "df[['cluster_size', 'tokens', 'phrased_tokens']].head()"
   ]
  },
  {
   "cell_type": "code",
   "execution_count": 6,
   "metadata": {},
   "outputs": [
    {
     "name": "stdout",
     "output_type": "stream",
     "text": [
      "(23554, 7000) (23554,)\n"
     ]
    }
   ],
   "source": [
    "# vectorizer = TfidfVectorizer(decode_error=\"ignore\", max_features=1000)\n",
    "vectorizer = CountVectorizer(decode_error=\"ignore\", max_features=7000)\n",
    "\n",
    "# Create feature vectors\n",
    "X = vectorizer.fit_transform(df['phrased_tokens'].apply(\" \".join))\n",
    "\n",
    "# Create Labels\n",
    "y = np.asarray(df['cluster_size'].astype(float))\n",
    "\n",
    "# Check that worked\n",
    "print(X.shape, y.shape)\n",
    "\n",
    "# Split the data randomly, save 'test' for final pass\n",
    "#X_train, X_test, y_train, y_test = train_test_split(X, y, test_size=0.2, random_state=42)\n",
    "\n",
    "# Split the data time-wise, save 'test' for final pass\n",
    "X_train, X_test, y_train, y_test = train_test_split(X, y, test_size=0.2, shuffle=False)\n",
    "\n",
    "# Ensure that the training data is shuffled at random\n",
    "X_train, y_train = shuffle(X_train, y_train, random_state=42)"
   ]
  },
  {
   "cell_type": "code",
   "execution_count": 7,
   "metadata": {},
   "outputs": [],
   "source": [
    "# Define the measurements we want to make (GridSearch will default to MSE)\n",
    "scoring = {'MSE': make_scorer(mean_squared_error),\n",
    "           'R2': make_scorer(r2_score)}\n",
    "\n",
    "parameters = {'alpha':[0.01, 0.03, 0.05, 0.07, 0.1, 0.5, 1.0, 2.0],\n",
    "              'l1_ratio': [1.0]}\n",
    "\n",
    "model = ElasticNet()\n",
    "\n",
    "# Perform cross-validated grid-search\n",
    "clf = GridSearchCV(estimator=model,\n",
    "                   cv=5,\n",
    "                   param_grid=parameters,\n",
    "                   return_train_score=True,\n",
    "                   scoring=scoring,\n",
    "                   refit=\"R2\",\n",
    "                   n_jobs=5)\n",
    "\n",
    "clf.fit(X_train, y_train)\n",
    "\n",
    "y_pred = clf.predict(X_train)"
   ]
  },
  {
   "cell_type": "code",
   "execution_count": 8,
   "metadata": {
    "scrolled": false
   },
   "outputs": [
    {
     "data": {
      "text/html": [
       "<div>\n",
       "<style scoped>\n",
       "    .dataframe tbody tr th:only-of-type {\n",
       "        vertical-align: middle;\n",
       "    }\n",
       "\n",
       "    .dataframe tbody tr th {\n",
       "        vertical-align: top;\n",
       "    }\n",
       "\n",
       "    .dataframe thead th {\n",
       "        text-align: right;\n",
       "    }\n",
       "</style>\n",
       "<table border=\"1\" class=\"dataframe\">\n",
       "  <thead>\n",
       "    <tr style=\"text-align: right;\">\n",
       "      <th></th>\n",
       "      <th>params</th>\n",
       "      <th>mean_test_R2</th>\n",
       "      <th>mean_test_MSE</th>\n",
       "    </tr>\n",
       "  </thead>\n",
       "  <tbody>\n",
       "    <tr>\n",
       "      <th>1</th>\n",
       "      <td>{'alpha': 0.03, 'l1_ratio': 1.0}</td>\n",
       "      <td>0.374893</td>\n",
       "      <td>13360.150574</td>\n",
       "    </tr>\n",
       "    <tr>\n",
       "      <th>0</th>\n",
       "      <td>{'alpha': 0.01, 'l1_ratio': 1.0}</td>\n",
       "      <td>0.370356</td>\n",
       "      <td>13456.798673</td>\n",
       "    </tr>\n",
       "    <tr>\n",
       "      <th>2</th>\n",
       "      <td>{'alpha': 0.05, 'l1_ratio': 1.0}</td>\n",
       "      <td>0.356440</td>\n",
       "      <td>13754.501187</td>\n",
       "    </tr>\n",
       "    <tr>\n",
       "      <th>3</th>\n",
       "      <td>{'alpha': 0.07, 'l1_ratio': 1.0}</td>\n",
       "      <td>0.346189</td>\n",
       "      <td>13973.565567</td>\n",
       "    </tr>\n",
       "    <tr>\n",
       "      <th>4</th>\n",
       "      <td>{'alpha': 0.1, 'l1_ratio': 1.0}</td>\n",
       "      <td>0.335619</td>\n",
       "      <td>14199.457268</td>\n",
       "    </tr>\n",
       "    <tr>\n",
       "      <th>5</th>\n",
       "      <td>{'alpha': 0.5, 'l1_ratio': 1.0}</td>\n",
       "      <td>0.291689</td>\n",
       "      <td>15138.417628</td>\n",
       "    </tr>\n",
       "    <tr>\n",
       "      <th>6</th>\n",
       "      <td>{'alpha': 1.0, 'l1_ratio': 1.0}</td>\n",
       "      <td>0.252255</td>\n",
       "      <td>15981.222879</td>\n",
       "    </tr>\n",
       "    <tr>\n",
       "      <th>7</th>\n",
       "      <td>{'alpha': 2.0, 'l1_ratio': 1.0}</td>\n",
       "      <td>0.186540</td>\n",
       "      <td>17385.937942</td>\n",
       "    </tr>\n",
       "  </tbody>\n",
       "</table>\n",
       "</div>"
      ],
      "text/plain": [
       "                             params  mean_test_R2  mean_test_MSE\n",
       "1  {'alpha': 0.03, 'l1_ratio': 1.0}      0.374893   13360.150574\n",
       "0  {'alpha': 0.01, 'l1_ratio': 1.0}      0.370356   13456.798673\n",
       "2  {'alpha': 0.05, 'l1_ratio': 1.0}      0.356440   13754.501187\n",
       "3  {'alpha': 0.07, 'l1_ratio': 1.0}      0.346189   13973.565567\n",
       "4   {'alpha': 0.1, 'l1_ratio': 1.0}      0.335619   14199.457268\n",
       "5   {'alpha': 0.5, 'l1_ratio': 1.0}      0.291689   15138.417628\n",
       "6   {'alpha': 1.0, 'l1_ratio': 1.0}      0.252255   15981.222879\n",
       "7   {'alpha': 2.0, 'l1_ratio': 1.0}      0.186540   17385.937942"
      ]
     },
     "execution_count": 8,
     "metadata": {},
     "output_type": "execute_result"
    }
   ],
   "source": [
    "# Look at the performance of each hyperparameter combination\n",
    "pd.DataFrame(clf.cv_results_)\\\n",
    "  [['params', 'mean_test_R2', 'mean_test_MSE']]\\\n",
    "  .sort_values(\"mean_test_R2\", ascending=False)"
   ]
  },
  {
   "cell_type": "code",
   "execution_count": 9,
   "metadata": {},
   "outputs": [
    {
     "name": "stdout",
     "output_type": "stream",
     "text": [
      "** VALIDATION RESULTS **\n",
      "MSE 16580.885523373054\n",
      "R2 0.273855179780194\n"
     ]
    }
   ],
   "source": [
    "print(\"** VALIDATION RESULTS **\")\n",
    "for method_name, scorer in scoring.items():\n",
    "    print(method_name, scorer(X=X_test, y_true=y_test, estimator=clf))"
   ]
  },
  {
   "cell_type": "markdown",
   "metadata": {},
   "source": [
    "With all words; cv R2 = 0.24, val R2 = 0.36 (???)\n",
    "\n",
    "With all non-nouns; cv R2 = 0.057, val R2 = 0.09\n",
    "\n",
    "With nouns only; cv R2 = 0.31, val R2 = 0.45\n",
    "\n",
    "With nouns only after remembering to shuffle the damn training data; cv R2 = 0.45, val R2 = 0.45\n",
    "With nouns only after dropping outliers; cv R2 = 0.57, val R2 = 0.45"
   ]
  },
  {
   "cell_type": "code",
   "execution_count": 10,
   "metadata": {},
   "outputs": [
    {
     "data": {
      "text/html": [
       "<div>\n",
       "<style scoped>\n",
       "    .dataframe tbody tr th:only-of-type {\n",
       "        vertical-align: middle;\n",
       "    }\n",
       "\n",
       "    .dataframe tbody tr th {\n",
       "        vertical-align: top;\n",
       "    }\n",
       "\n",
       "    .dataframe thead th {\n",
       "        text-align: right;\n",
       "    }\n",
       "</style>\n",
       "<table border=\"1\" class=\"dataframe\">\n",
       "  <thead>\n",
       "    <tr style=\"text-align: right;\">\n",
       "      <th></th>\n",
       "      <th>name</th>\n",
       "      <th>coefficient</th>\n",
       "      <th>abs_value</th>\n",
       "    </tr>\n",
       "  </thead>\n",
       "  <tbody>\n",
       "    <tr>\n",
       "      <th>4867</th>\n",
       "      <td>pompeii</td>\n",
       "      <td>131.178182</td>\n",
       "      <td>131.178182</td>\n",
       "    </tr>\n",
       "    <tr>\n",
       "      <th>4034</th>\n",
       "      <td>met_offic</td>\n",
       "      <td>-121.607430</td>\n",
       "      <td>121.607430</td>\n",
       "    </tr>\n",
       "    <tr>\n",
       "      <th>6421</th>\n",
       "      <td>uk_britain</td>\n",
       "      <td>-108.078632</td>\n",
       "      <td>108.078632</td>\n",
       "    </tr>\n",
       "    <tr>\n",
       "      <th>2052</th>\n",
       "      <td>environ_agenc</td>\n",
       "      <td>-107.618110</td>\n",
       "      <td>107.618110</td>\n",
       "    </tr>\n",
       "    <tr>\n",
       "      <th>669</th>\n",
       "      <td>bori_johnson</td>\n",
       "      <td>-107.398115</td>\n",
       "      <td>107.398115</td>\n",
       "    </tr>\n",
       "    <tr>\n",
       "      <th>...</th>\n",
       "      <td>...</td>\n",
       "      <td>...</td>\n",
       "      <td>...</td>\n",
       "    </tr>\n",
       "    <tr>\n",
       "      <th>2612</th>\n",
       "      <td>griffin</td>\n",
       "      <td>0.000000</td>\n",
       "      <td>0.000000</td>\n",
       "    </tr>\n",
       "    <tr>\n",
       "      <th>2610</th>\n",
       "      <td>grid</td>\n",
       "      <td>0.000000</td>\n",
       "      <td>0.000000</td>\n",
       "    </tr>\n",
       "    <tr>\n",
       "      <th>2608</th>\n",
       "      <td>gretna</td>\n",
       "      <td>0.000000</td>\n",
       "      <td>0.000000</td>\n",
       "    </tr>\n",
       "    <tr>\n",
       "      <th>2607</th>\n",
       "      <td>greta_thunberg</td>\n",
       "      <td>-0.000000</td>\n",
       "      <td>0.000000</td>\n",
       "    </tr>\n",
       "    <tr>\n",
       "      <th>6999</th>\n",
       "      <td>zurich</td>\n",
       "      <td>0.000000</td>\n",
       "      <td>0.000000</td>\n",
       "    </tr>\n",
       "  </tbody>\n",
       "</table>\n",
       "<p>7000 rows × 3 columns</p>\n",
       "</div>"
      ],
      "text/plain": [
       "                name  coefficient   abs_value\n",
       "4867         pompeii   131.178182  131.178182\n",
       "4034       met_offic  -121.607430  121.607430\n",
       "6421      uk_britain  -108.078632  108.078632\n",
       "2052   environ_agenc  -107.618110  107.618110\n",
       "669     bori_johnson  -107.398115  107.398115\n",
       "...              ...          ...         ...\n",
       "2612         griffin     0.000000    0.000000\n",
       "2610            grid     0.000000    0.000000\n",
       "2608          gretna     0.000000    0.000000\n",
       "2607  greta_thunberg    -0.000000    0.000000\n",
       "6999          zurich     0.000000    0.000000\n",
       "\n",
       "[7000 rows x 3 columns]"
      ]
     },
     "execution_count": 10,
     "metadata": {},
     "output_type": "execute_result"
    }
   ],
   "source": [
    "def help_get_coefs(fitted_model, feature_names):\n",
    "    \"\"\"\n",
    "    Gets ordered table of coefficient names and magnitudes\n",
    "    \"\"\"\n",
    "    df = pd.DataFrame({\"name\": feature_names,\n",
    "                       \"coefficient\": fitted_model.coef_})\n",
    "    \n",
    "    # MAGNITUDES rather than VALUE determine importance\n",
    "    df['abs_value'] = df['coefficient'].apply(abs)\n",
    "    \n",
    "    return df.sort_values(\"abs_value\", ascending=False)\n",
    "\n",
    "\n",
    "# In this call, retrieving final (selected and retrained)\n",
    "# estimator from the grid search\n",
    "coef_table = help_get_coefs(clf.best_estimator_, list(vectorizer.get_feature_names()))\n",
    "\n",
    "coef_table"
   ]
  },
  {
   "cell_type": "code",
   "execution_count": 11,
   "metadata": {},
   "outputs": [
    {
     "data": {
      "text/html": [
       "<div>\n",
       "<style scoped>\n",
       "    .dataframe tbody tr th:only-of-type {\n",
       "        vertical-align: middle;\n",
       "    }\n",
       "\n",
       "    .dataframe tbody tr th {\n",
       "        vertical-align: top;\n",
       "    }\n",
       "\n",
       "    .dataframe thead th {\n",
       "        text-align: right;\n",
       "    }\n",
       "</style>\n",
       "<table border=\"1\" class=\"dataframe\">\n",
       "  <thead>\n",
       "    <tr style=\"text-align: right;\">\n",
       "      <th></th>\n",
       "      <th>name</th>\n",
       "      <th>coefficient</th>\n",
       "      <th>abs_value</th>\n",
       "    </tr>\n",
       "  </thead>\n",
       "  <tbody>\n",
       "    <tr>\n",
       "      <th>4867</th>\n",
       "      <td>pompeii</td>\n",
       "      <td>131.178182</td>\n",
       "      <td>131.178182</td>\n",
       "    </tr>\n",
       "    <tr>\n",
       "      <th>4034</th>\n",
       "      <td>met_offic</td>\n",
       "      <td>-121.607430</td>\n",
       "      <td>121.607430</td>\n",
       "    </tr>\n",
       "    <tr>\n",
       "      <th>6421</th>\n",
       "      <td>uk_britain</td>\n",
       "      <td>-108.078632</td>\n",
       "      <td>108.078632</td>\n",
       "    </tr>\n",
       "    <tr>\n",
       "      <th>2052</th>\n",
       "      <td>environ_agenc</td>\n",
       "      <td>-107.618110</td>\n",
       "      <td>107.618110</td>\n",
       "    </tr>\n",
       "    <tr>\n",
       "      <th>669</th>\n",
       "      <td>bori_johnson</td>\n",
       "      <td>-107.398115</td>\n",
       "      <td>107.398115</td>\n",
       "    </tr>\n",
       "    <tr>\n",
       "      <th>1414</th>\n",
       "      <td>coronaviru_uk</td>\n",
       "      <td>-106.163791</td>\n",
       "      <td>106.163791</td>\n",
       "    </tr>\n",
       "    <tr>\n",
       "      <th>5983</th>\n",
       "      <td>storm_denni</td>\n",
       "      <td>-97.099835</td>\n",
       "      <td>97.099835</td>\n",
       "    </tr>\n",
       "    <tr>\n",
       "      <th>2576</th>\n",
       "      <td>grassland</td>\n",
       "      <td>-94.060454</td>\n",
       "      <td>94.060454</td>\n",
       "    </tr>\n",
       "    <tr>\n",
       "      <th>5981</th>\n",
       "      <td>storm_ciara</td>\n",
       "      <td>-91.556278</td>\n",
       "      <td>91.556278</td>\n",
       "    </tr>\n",
       "    <tr>\n",
       "      <th>1849</th>\n",
       "      <td>drought</td>\n",
       "      <td>87.416082</td>\n",
       "      <td>87.416082</td>\n",
       "    </tr>\n",
       "    <tr>\n",
       "      <th>6445</th>\n",
       "      <td>uk_met</td>\n",
       "      <td>-84.109799</td>\n",
       "      <td>84.109799</td>\n",
       "    </tr>\n",
       "    <tr>\n",
       "      <th>4419</th>\n",
       "      <td>nigel</td>\n",
       "      <td>83.289925</td>\n",
       "      <td>83.289925</td>\n",
       "    </tr>\n",
       "    <tr>\n",
       "      <th>6426</th>\n",
       "      <td>uk_coronaviru</td>\n",
       "      <td>-81.932604</td>\n",
       "      <td>81.932604</td>\n",
       "    </tr>\n",
       "    <tr>\n",
       "      <th>2252</th>\n",
       "      <td>flood_dorset</td>\n",
       "      <td>80.968058</td>\n",
       "      <td>80.968058</td>\n",
       "    </tr>\n",
       "    <tr>\n",
       "      <th>4025</th>\n",
       "      <td>mersey</td>\n",
       "      <td>80.716633</td>\n",
       "      <td>80.716633</td>\n",
       "    </tr>\n",
       "    <tr>\n",
       "      <th>4350</th>\n",
       "      <td>new_south</td>\n",
       "      <td>-80.179907</td>\n",
       "      <td>80.179907</td>\n",
       "    </tr>\n",
       "    <tr>\n",
       "      <th>1797</th>\n",
       "      <td>dooley</td>\n",
       "      <td>76.618004</td>\n",
       "      <td>76.618004</td>\n",
       "    </tr>\n",
       "    <tr>\n",
       "      <th>1326</th>\n",
       "      <td>coronaviru_ant</td>\n",
       "      <td>76.600873</td>\n",
       "      <td>76.600873</td>\n",
       "    </tr>\n",
       "    <tr>\n",
       "      <th>4534</th>\n",
       "      <td>offic</td>\n",
       "      <td>-76.554554</td>\n",
       "      <td>76.554554</td>\n",
       "    </tr>\n",
       "    <tr>\n",
       "      <th>718</th>\n",
       "      <td>breakfast</td>\n",
       "      <td>76.329015</td>\n",
       "      <td>76.329015</td>\n",
       "    </tr>\n",
       "    <tr>\n",
       "      <th>1893</th>\n",
       "      <td>dyke</td>\n",
       "      <td>75.440952</td>\n",
       "      <td>75.440952</td>\n",
       "    </tr>\n",
       "    <tr>\n",
       "      <th>6458</th>\n",
       "      <td>uk_uk</td>\n",
       "      <td>-74.379244</td>\n",
       "      <td>74.379244</td>\n",
       "    </tr>\n",
       "    <tr>\n",
       "      <th>2740</th>\n",
       "      <td>hay</td>\n",
       "      <td>73.347907</td>\n",
       "      <td>73.347907</td>\n",
       "    </tr>\n",
       "    <tr>\n",
       "      <th>6503</th>\n",
       "      <td>uruguay</td>\n",
       "      <td>72.717150</td>\n",
       "      <td>72.717150</td>\n",
       "    </tr>\n",
       "    <tr>\n",
       "      <th>3315</th>\n",
       "      <td>joseph</td>\n",
       "      <td>70.511550</td>\n",
       "      <td>70.511550</td>\n",
       "    </tr>\n",
       "    <tr>\n",
       "      <th>1342</th>\n",
       "      <td>coronaviru_covid</td>\n",
       "      <td>-70.491430</td>\n",
       "      <td>70.491430</td>\n",
       "    </tr>\n",
       "    <tr>\n",
       "      <th>4937</th>\n",
       "      <td>prime_minist</td>\n",
       "      <td>-69.642994</td>\n",
       "      <td>69.642994</td>\n",
       "    </tr>\n",
       "    <tr>\n",
       "      <th>353</th>\n",
       "      <td>australia</td>\n",
       "      <td>-68.965115</td>\n",
       "      <td>68.965115</td>\n",
       "    </tr>\n",
       "    <tr>\n",
       "      <th>3325</th>\n",
       "      <td>jpimedia_resel</td>\n",
       "      <td>68.732067</td>\n",
       "      <td>68.732067</td>\n",
       "    </tr>\n",
       "    <tr>\n",
       "      <th>6979</th>\n",
       "      <td>yvonn</td>\n",
       "      <td>68.622453</td>\n",
       "      <td>68.622453</td>\n",
       "    </tr>\n",
       "  </tbody>\n",
       "</table>\n",
       "</div>"
      ],
      "text/plain": [
       "                  name  coefficient   abs_value\n",
       "4867           pompeii   131.178182  131.178182\n",
       "4034         met_offic  -121.607430  121.607430\n",
       "6421        uk_britain  -108.078632  108.078632\n",
       "2052     environ_agenc  -107.618110  107.618110\n",
       "669       bori_johnson  -107.398115  107.398115\n",
       "1414     coronaviru_uk  -106.163791  106.163791\n",
       "5983       storm_denni   -97.099835   97.099835\n",
       "2576         grassland   -94.060454   94.060454\n",
       "5981       storm_ciara   -91.556278   91.556278\n",
       "1849           drought    87.416082   87.416082\n",
       "6445            uk_met   -84.109799   84.109799\n",
       "4419             nigel    83.289925   83.289925\n",
       "6426     uk_coronaviru   -81.932604   81.932604\n",
       "2252      flood_dorset    80.968058   80.968058\n",
       "4025            mersey    80.716633   80.716633\n",
       "4350         new_south   -80.179907   80.179907\n",
       "1797            dooley    76.618004   76.618004\n",
       "1326    coronaviru_ant    76.600873   76.600873\n",
       "4534             offic   -76.554554   76.554554\n",
       "718          breakfast    76.329015   76.329015\n",
       "1893              dyke    75.440952   75.440952\n",
       "6458             uk_uk   -74.379244   74.379244\n",
       "2740               hay    73.347907   73.347907\n",
       "6503           uruguay    72.717150   72.717150\n",
       "3315            joseph    70.511550   70.511550\n",
       "1342  coronaviru_covid   -70.491430   70.491430\n",
       "4937      prime_minist   -69.642994   69.642994\n",
       "353          australia   -68.965115   68.965115\n",
       "3325    jpimedia_resel    68.732067   68.732067\n",
       "6979             yvonn    68.622453   68.622453"
      ]
     },
     "execution_count": 11,
     "metadata": {},
     "output_type": "execute_result"
    }
   ],
   "source": [
    "coef_table.head(30)"
   ]
  },
  {
   "cell_type": "code",
   "execution_count": 12,
   "metadata": {},
   "outputs": [
    {
     "data": {
      "text/html": [
       "<div>\n",
       "<style scoped>\n",
       "    .dataframe tbody tr th:only-of-type {\n",
       "        vertical-align: middle;\n",
       "    }\n",
       "\n",
       "    .dataframe tbody tr th {\n",
       "        vertical-align: top;\n",
       "    }\n",
       "\n",
       "    .dataframe thead th {\n",
       "        text-align: right;\n",
       "    }\n",
       "</style>\n",
       "<table border=\"1\" class=\"dataframe\">\n",
       "  <thead>\n",
       "    <tr style=\"text-align: right;\">\n",
       "      <th></th>\n",
       "      <th>name</th>\n",
       "      <th>coefficient</th>\n",
       "      <th>abs_value</th>\n",
       "    </tr>\n",
       "  </thead>\n",
       "  <tbody>\n",
       "    <tr>\n",
       "      <th>4867</th>\n",
       "      <td>pompeii</td>\n",
       "      <td>131.178182</td>\n",
       "      <td>131.178182</td>\n",
       "    </tr>\n",
       "    <tr>\n",
       "      <th>4034</th>\n",
       "      <td>met_offic</td>\n",
       "      <td>-121.607430</td>\n",
       "      <td>121.607430</td>\n",
       "    </tr>\n",
       "    <tr>\n",
       "      <th>6421</th>\n",
       "      <td>uk_britain</td>\n",
       "      <td>-108.078632</td>\n",
       "      <td>108.078632</td>\n",
       "    </tr>\n",
       "    <tr>\n",
       "      <th>2052</th>\n",
       "      <td>environ_agenc</td>\n",
       "      <td>-107.618110</td>\n",
       "      <td>107.618110</td>\n",
       "    </tr>\n",
       "    <tr>\n",
       "      <th>669</th>\n",
       "      <td>bori_johnson</td>\n",
       "      <td>-107.398115</td>\n",
       "      <td>107.398115</td>\n",
       "    </tr>\n",
       "    <tr>\n",
       "      <th>...</th>\n",
       "      <td>...</td>\n",
       "      <td>...</td>\n",
       "      <td>...</td>\n",
       "    </tr>\n",
       "    <tr>\n",
       "      <th>2339</th>\n",
       "      <td>freez</td>\n",
       "      <td>2.112023</td>\n",
       "      <td>2.112023</td>\n",
       "    </tr>\n",
       "    <tr>\n",
       "      <th>5666</th>\n",
       "      <td>sherborn</td>\n",
       "      <td>2.098901</td>\n",
       "      <td>2.098901</td>\n",
       "    </tr>\n",
       "    <tr>\n",
       "      <th>6353</th>\n",
       "      <td>trust</td>\n",
       "      <td>2.085683</td>\n",
       "      <td>2.085683</td>\n",
       "    </tr>\n",
       "    <tr>\n",
       "      <th>3681</th>\n",
       "      <td>lion</td>\n",
       "      <td>2.035733</td>\n",
       "      <td>2.035733</td>\n",
       "    </tr>\n",
       "    <tr>\n",
       "      <th>3126</th>\n",
       "      <td>irish</td>\n",
       "      <td>2.019565</td>\n",
       "      <td>2.019565</td>\n",
       "    </tr>\n",
       "  </tbody>\n",
       "</table>\n",
       "<p>1421 rows × 3 columns</p>\n",
       "</div>"
      ],
      "text/plain": [
       "               name  coefficient   abs_value\n",
       "4867        pompeii   131.178182  131.178182\n",
       "4034      met_offic  -121.607430  121.607430\n",
       "6421     uk_britain  -108.078632  108.078632\n",
       "2052  environ_agenc  -107.618110  107.618110\n",
       "669    bori_johnson  -107.398115  107.398115\n",
       "...             ...          ...         ...\n",
       "2339          freez     2.112023    2.112023\n",
       "5666       sherborn     2.098901    2.098901\n",
       "6353          trust     2.085683    2.085683\n",
       "3681           lion     2.035733    2.035733\n",
       "3126          irish     2.019565    2.019565\n",
       "\n",
       "[1421 rows x 3 columns]"
      ]
     },
     "execution_count": 12,
     "metadata": {},
     "output_type": "execute_result"
    }
   ],
   "source": [
    "# How many features ultimately selected?\n",
    "# (they're regularised to NEAR zero, so need a tolerance)\n",
    "coef_table[coef_table['abs_value'] >= 2.0]"
   ]
  },
  {
   "cell_type": "code",
   "execution_count": 13,
   "metadata": {},
   "outputs": [
    {
     "data": {
      "text/html": [
       "<div>\n",
       "<style scoped>\n",
       "    .dataframe tbody tr th:only-of-type {\n",
       "        vertical-align: middle;\n",
       "    }\n",
       "\n",
       "    .dataframe tbody tr th {\n",
       "        vertical-align: top;\n",
       "    }\n",
       "\n",
       "    .dataframe thead th {\n",
       "        text-align: right;\n",
       "    }\n",
       "</style>\n",
       "<table border=\"1\" class=\"dataframe\">\n",
       "  <thead>\n",
       "    <tr style=\"text-align: right;\">\n",
       "      <th></th>\n",
       "      <th>name</th>\n",
       "      <th>coefficient</th>\n",
       "      <th>abs_value</th>\n",
       "    </tr>\n",
       "  </thead>\n",
       "  <tbody>\n",
       "    <tr>\n",
       "      <th>3596</th>\n",
       "      <td>leed_flood</td>\n",
       "      <td>0.002497</td>\n",
       "      <td>0.002497</td>\n",
       "    </tr>\n",
       "    <tr>\n",
       "      <th>4553</th>\n",
       "      <td>offic_south</td>\n",
       "      <td>0.000000</td>\n",
       "      <td>0.000000</td>\n",
       "    </tr>\n",
       "    <tr>\n",
       "      <th>6588</th>\n",
       "      <td>von</td>\n",
       "      <td>0.000000</td>\n",
       "      <td>0.000000</td>\n",
       "    </tr>\n",
       "    <tr>\n",
       "      <th>4543</th>\n",
       "      <td>offic_gloucestershir</td>\n",
       "      <td>-0.000000</td>\n",
       "      <td>0.000000</td>\n",
       "    </tr>\n",
       "    <tr>\n",
       "      <th>4544</th>\n",
       "      <td>offic_ici</td>\n",
       "      <td>-0.000000</td>\n",
       "      <td>0.000000</td>\n",
       "    </tr>\n",
       "    <tr>\n",
       "      <th>...</th>\n",
       "      <td>...</td>\n",
       "      <td>...</td>\n",
       "      <td>...</td>\n",
       "    </tr>\n",
       "    <tr>\n",
       "      <th>2612</th>\n",
       "      <td>griffin</td>\n",
       "      <td>0.000000</td>\n",
       "      <td>0.000000</td>\n",
       "    </tr>\n",
       "    <tr>\n",
       "      <th>2610</th>\n",
       "      <td>grid</td>\n",
       "      <td>0.000000</td>\n",
       "      <td>0.000000</td>\n",
       "    </tr>\n",
       "    <tr>\n",
       "      <th>2608</th>\n",
       "      <td>gretna</td>\n",
       "      <td>0.000000</td>\n",
       "      <td>0.000000</td>\n",
       "    </tr>\n",
       "    <tr>\n",
       "      <th>2607</th>\n",
       "      <td>greta_thunberg</td>\n",
       "      <td>-0.000000</td>\n",
       "      <td>0.000000</td>\n",
       "    </tr>\n",
       "    <tr>\n",
       "      <th>6999</th>\n",
       "      <td>zurich</td>\n",
       "      <td>0.000000</td>\n",
       "      <td>0.000000</td>\n",
       "    </tr>\n",
       "  </tbody>\n",
       "</table>\n",
       "<p>5451 rows × 3 columns</p>\n",
       "</div>"
      ],
      "text/plain": [
       "                      name  coefficient  abs_value\n",
       "3596            leed_flood     0.002497   0.002497\n",
       "4553           offic_south     0.000000   0.000000\n",
       "6588                   von     0.000000   0.000000\n",
       "4543  offic_gloucestershir    -0.000000   0.000000\n",
       "4544             offic_ici    -0.000000   0.000000\n",
       "...                    ...          ...        ...\n",
       "2612               griffin     0.000000   0.000000\n",
       "2610                  grid     0.000000   0.000000\n",
       "2608                gretna     0.000000   0.000000\n",
       "2607        greta_thunberg    -0.000000   0.000000\n",
       "6999                zurich     0.000000   0.000000\n",
       "\n",
       "[5451 rows x 3 columns]"
      ]
     },
     "execution_count": 13,
     "metadata": {},
     "output_type": "execute_result"
    }
   ],
   "source": [
    "# What features suck?\n",
    "coef_table[coef_table['abs_value'] <= 0.01]"
   ]
  },
  {
   "cell_type": "code",
   "execution_count": 14,
   "metadata": {},
   "outputs": [
    {
     "data": {
      "text/plain": [
       "<matplotlib.axes._subplots.AxesSubplot at 0x2694eb33d48>"
      ]
     },
     "execution_count": 14,
     "metadata": {},
     "output_type": "execute_result"
    },
    {
     "data": {
      "image/png": "[encoded data removed]",
      "text/plain": [
       "<Figure size 432x288 with 1 Axes>"
      ]
     },
     "metadata": {
      "needs_background": "light"
     },
     "output_type": "display_data"
    }
   ],
   "source": [
    "coef_table['abs_value'].hist(bins=30)"
   ]
  },
  {
   "cell_type": "markdown",
   "metadata": {},
   "source": [
    "## Diagnostic Plots\n",
    "I'm, to some degree, improvising my own because no single python package quite does everything I'd expect R to do for a linear regression..."
   ]
  },
  {
   "cell_type": "code",
   "execution_count": 15,
   "metadata": {},
   "outputs": [
    {
     "data": {
      "text/plain": [
       "<seaborn.axisgrid.FacetGrid at 0x2695072e5c8>"
      ]
     },
     "execution_count": 15,
     "metadata": {},
     "output_type": "execute_result"
    },
    {
     "data": {
      "image/png": "[encoded data removed]",
      "text/plain": [
       "<Figure size 360x360 with 1 Axes>"
      ]
     },
     "metadata": {
      "needs_background": "light"
     },
     "output_type": "display_data"
    }
   ],
   "source": [
    "temp_df = pd.DataFrame({\"train\": y_train,\n",
    "                        \"pred\": y_pred})\n",
    "\n",
    "# Note this isn't the line of the actual regression model.\n",
    "sns.lmplot(x=\"train\", y=\"pred\", data=temp_df, scatter_kws={\"alpha\":0.05})"
   ]
  },
  {
   "cell_type": "code",
   "execution_count": 16,
   "metadata": {},
   "outputs": [
    {
     "data": {
      "text/plain": [
       "<seaborn.axisgrid.FacetGrid at 0x26950728b08>"
      ]
     },
     "execution_count": 16,
     "metadata": {},
     "output_type": "execute_result"
    },
    {
     "data": {
      "image/png": "[encoded data removed]",
      "text/plain": [
       "<Figure size 360x360 with 1 Axes>"
      ]
     },
     "metadata": {
      "needs_background": "light"
     },
     "output_type": "display_data"
    }
   ],
   "source": [
    "temp_df = pd.DataFrame({\"train\": y_test,\n",
    "                        \"pred\": clf.best_estimator_.predict(X_test)})\n",
    "\n",
    "# Note this isn't the line of the actual regression model.\n",
    "sns.lmplot(x=\"train\", y=\"pred\", data=temp_df, scatter_kws={\"alpha\":0.05})"
   ]
  },
  {
   "cell_type": "code",
   "execution_count": 17,
   "metadata": {
    "scrolled": true
   },
   "outputs": [
    {
     "data": {
      "image/png": "[encoded data removed]",
      "text/plain": [
       "<Figure size 432x288 with 2 Axes>"
      ]
     },
     "metadata": {
      "needs_background": "light"
     },
     "output_type": "display_data"
    }
   ],
   "source": [
    "def help_plot_residuals(fitted_model, X, y):\n",
    "    \"\"\"\n",
    "    Utility function:  Plot residual values for a given model\n",
    "    and features + predictions\n",
    "    \"\"\"\n",
    "    predicted = fitted_model.predict(X)\n",
    "    residuals = predicted - y\n",
    "    \n",
    "    f = plt.figure(constrained_layout=True)\n",
    "    gs = f.add_gridspec(3, 3)\n",
    "    f_ax0 = f.add_subplot(gs[:, :-1])\n",
    "    f_ax1 = f.add_subplot(gs[:, -1])\n",
    "    \n",
    "    # Residuals vs predicted\n",
    "    sns.scatterplot(x=predicted, y=residuals, alpha=0.2, ax=f_ax0)\n",
    "    \n",
    "    # Hist of residuals\n",
    "    sns.distplot(a=residuals, hist=True, vertical=True, ax=f_ax1)\n",
    "\n",
    "\n",
    "help_plot_residuals(clf.best_estimator_, X_train, y_train)"
   ]
  },
  {
   "cell_type": "code",
   "execution_count": 18,
   "metadata": {},
   "outputs": [],
   "source": [
    "# Fit a traditional Linear Regression Model so that we can examine the p-values and r2 values\n",
    "# of different features\n",
    "\n",
    "import scipy.stats as stats\n",
    "import statsmodels.api as sm\n",
    "from patsy import dmatrices"
   ]
  },
  {
   "cell_type": "code",
   "execution_count": 19,
   "metadata": {},
   "outputs": [
    {
     "data": {
      "image/png": "[encoded data removed]",
      "text/plain": [
       "<Figure size 432x288 with 1 Axes>"
      ]
     },
     "metadata": {
      "needs_background": "light"
     },
     "output_type": "display_data"
    }
   ],
   "source": [
    "# Q-Q plot to gauge suitability of normality assumption\n",
    "res = clf.best_estimator_.predict(X_train) - y_train\n",
    "\n",
    "fig = sm.qqplot(res, stats.t, fit=True, line='45', alpha=0.2)\n",
    "plt.show()"
   ]
  },
  {
   "cell_type": "code",
   "execution_count": 20,
   "metadata": {},
   "outputs": [
    {
     "data": {
      "image/png": "[encoded data removed]",
      "text/plain": [
       "<Figure size 432x288 with 1 Axes>"
      ]
     },
     "metadata": {
      "needs_background": "light"
     },
     "output_type": "display_data"
    }
   ],
   "source": [
    "# Q-Q plot to gauge suitability of normality assumption\n",
    "res = clf.best_estimator_.predict(X_train) - y_train\n",
    "\n",
    "fig = sm.qqplot(res, stats.t, fit=True, line='45', alpha=0.02)\n",
    "fig.axes[0].set_xlim(-15, 15)\n",
    "fig.axes[0].set_ylim(-15, 15)\n",
    "plt.show()"
   ]
  },
  {
   "cell_type": "markdown",
   "metadata": {},
   "source": [
    "## Examine feature significance using an equivalent model in StatsModels"
   ]
  },
  {
   "cell_type": "code",
   "execution_count": 21,
   "metadata": {},
   "outputs": [],
   "source": [
    "df_stats = pd.DataFrame(data=X_train.todense(), columns=list(vectorizer.get_feature_names()))\n",
    "df_stats.head()\n",
    "\n",
    "df_stats['StorySize'] = y_train"
   ]
  },
  {
   "cell_type": "raw",
   "metadata": {},
   "source": [
    "Xk = df_stats[list(vectorizer.get_feature_names())]\n",
    "Ym = df_stats['StorySize']\n",
    "\n",
    "Xm = sm.add_constant(Xk)\n",
    "\n",
    "# fitting the the model for multiple regression \n",
    "Km = sm.OLS(Ym,Xm).fit()\n",
    "Km.summary()"
   ]
  }
 ],
 "metadata": {
  "kernelspec": {
   "display_name": "Python 3",
   "language": "python",
   "name": "python3"
  },
  "language_info": {
   "codemirror_mode": {
    "name": "ipython",
    "version": 3
   },
   "file_extension": ".py",
   "mimetype": "text/x-python",
   "name": "python",
   "nbconvert_exporter": "python",
   "pygments_lexer": "ipython3",
   "version": "3.7.6"
  }
 },
 "nbformat": 4,
 "nbformat_minor": 4
}
