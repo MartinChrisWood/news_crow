{
 "cells": [
  {
   "cell_type": "markdown",
   "metadata": {},
   "source": [
    "# Gauge how well the clusters separate the data\n",
    "\n",
    "#### Suggested approach:\n",
    "\n",
    "Coherence is not meant to work with clusters, only topics. It can only work with either \n",
    "- an existing LDA model, in which case it does something clever\n",
    "- A corpus, a dictionary and a list of [sets of?] key words representing topics\n",
    "\n",
    "To make models from different sources comparable, it could be quite tricky\n",
    "\n",
    "The other tool I could use is Silhouette scores, but they'll only work really for flat clustering models.\n",
    "\n",
    "TODO\n",
    "- Implement coherence against tokens\n",
    "- Implement Silhouette scoring against TF-IDF representations\n",
    "- Implement relevance scoring for retrieval of top tokens"
   ]
  },
  {
   "cell_type": "code",
   "execution_count": 41,
   "metadata": {},
   "outputs": [],
   "source": [
    "import re\n",
    "import json\n",
    "import gensim\n",
    "\n",
    "import numpy as np\n",
    "import pandas as pd\n",
    "import seaborn as sns\n",
    "\n",
    "import matplotlib.pyplot as plt\n",
    "\n",
    "from gensim.models.coherencemodel import CoherenceModel\n",
    "from gensim.utils import simple_preprocess\n",
    "from gensim.parsing.preprocessing import STOPWORDS\n",
    "\n",
    "from nltk.stem.porter import *\n",
    "from lib.helper import *\n",
    "\n",
    "# Define which stemmer to use in the pipeline later\n",
    "stemmer = PorterStemmer()\n",
    "\n",
    "# Useful flatten function from Alex Martelli on https://stackoverflow.com/questions/952914/how-to-make-a-flat-list-out-of-list-of-lists\n",
    "flatten = lambda l: [item for sublist in l for item in sublist]\n",
    "\n",
    "%matplotlib inline"
   ]
  },
  {
   "cell_type": "raw",
   "metadata": {},
   "source": [
    "def preprocess_description(description):\n",
    "    \"\"\" Helper, tokeniser \"\"\"\n",
    "    return( [stemmer.stem(token) for token in simple_preprocess(str(description)) if token not in STOPWORDS] )\n",
    "\n",
    "\n",
    "def get_stats(df):\n",
    "    \"\"\" Helper, for printing basic info on corpus extent \"\"\"\n",
    "    \n",
    "    df['doc_size'] = df['clean_text'].apply(lambda x: len(x.split()))\n",
    "\n",
    "    print(np.mean(df['doc_size']))\n",
    "    print(df.shape[0])\n",
    "    print(max(df['date']))\n",
    "    print(min(df['date']))\n",
    "    \n",
    "    return 0\n",
    "\n",
    "\n",
    "def get_keyword_stats(df, search_term_path = \"D:/Dropbox/news_crow/scrape_settings.json\"):\n",
    "    \"\"\"Retrive the set of search terms used for Bing, sum stories that contain them \"\"\"\n",
    "    with open(search_term_path, \"r\") as f:\n",
    "        scrape_config = json.load(f)\n",
    "        \n",
    "    search_terms = scrape_config['disaster_search_list']\n",
    "    search_terms = re.sub(r\"[^0-9A-Za-z ]\", \"\", \" \".join(search_terms)).lower().split()\n",
    "    search_terms = set(search_terms)\n",
    "    \n",
    "    term_results = {}\n",
    "    \n",
    "    for term in search_terms:\n",
    "        term_results[term] = sum(df['clean_text'].apply(lambda x: term in x.lower()))\n",
    "    \n",
    "    return(term_results)"
   ]
  },
  {
   "cell_type": "code",
   "execution_count": 18,
   "metadata": {},
   "outputs": [],
   "source": [
    "def load_evaluate_corpus(data_path):\n",
    "    \"\"\" Helper - process a corpus csv, return its coherence scores \"\"\"\n",
    "    df = pd.read_csv(data_path)\n",
    "    \n",
    "    df[\"tokens\"] = df[\"clean_text\"].apply(preprocess_desc)\n",
    "    \n",
    "    print(\"Number of topics is {}\".format(len(pd.unique(df['cluster']))))\n",
    "    return get_corpus_model_coherence(df)"
   ]
  },
  {
   "cell_type": "markdown",
   "metadata": {},
   "source": [
    "## Testing requirements of manual coherence scoring"
   ]
  },
  {
   "cell_type": "code",
   "execution_count": 19,
   "metadata": {},
   "outputs": [],
   "source": [
    "df = pd.read_csv(\"working/disaster_clustered_lda.csv\")\n",
    "df[\"tokens\"] = df[\"clean_text\"].apply(preprocess_desc)\n",
    "\n",
    "coherences, mod1, mod2, topics_lengths = get_corpus_model_coherence(df)"
   ]
  },
  {
   "cell_type": "code",
   "execution_count": 26,
   "metadata": {
    "scrolled": true
   },
   "outputs": [],
   "source": [
    "topic_features = pd.DataFrame({\"topic_coherence\": list(mod1.get_coherence_per_topic()),\n",
    "                               \"topic_sizes\": list(topics_lengths.values())})"
   ]
  },
  {
   "cell_type": "code",
   "execution_count": 39,
   "metadata": {},
   "outputs": [
    {
     "data": {
      "text/plain": [
       "<matplotlib.axes._subplots.AxesSubplot at 0x231ca253708>"
      ]
     },
     "execution_count": 39,
     "metadata": {},
     "output_type": "execute_result"
    },
    {
     "data": {
      "image/png": "[encoded data removed]",
      "text/plain": [
       "<Figure size 1080x360 with 3 Axes>"
      ]
     },
     "metadata": {
      "needs_background": "light"
     },
     "output_type": "display_data"
    }
   ],
   "source": [
    "fig, axs = plt.subplots(nrows=1, ncols=3, figsize=(15, 5))\n",
    "\n",
    "pd.Series(mod1.get_coherence_per_topic()).hist(ax=axs[0])\n",
    "pd.Series(topics_lengths).hist(ax=axs[1])\n",
    "sns.scatterplot(x='topic_sizes', y='topic_coherence', data=topic_features, ax=axs[2])"
   ]
  },
  {
   "cell_type": "markdown",
   "metadata": {},
   "source": [
    "### Create corpus, dictionary and lists of all tokens for each topic"
   ]
  },
  {
   "cell_type": "code",
   "execution_count": 5,
   "metadata": {},
   "outputs": [],
   "source": [
    "corpus_files = [\"disaster_clustered_lda.csv\",\n",
    "                \"disaster_clustered_w2v_pca.csv\",\n",
    "                \"disaster_clustered_w2v_direct.csv\",\n",
    "                \"disaster_clustered_louvain.csv\"]\n",
    "#                \"disaster_clustered_bigclam.csv\",\n",
    "#                \"disaster_clustered_cliques.csv\"]"
   ]
  },
  {
   "cell_type": "code",
   "execution_count": 6,
   "metadata": {},
   "outputs": [
    {
     "name": "stdout",
     "output_type": "stream",
     "text": [
      "Processing: disaster_clustered_lda.csv\n",
      "Number of topics is 47\n",
      "{'c_v': 0.6289230271130697, 'c_npmi': 0.09982127239084664}\n",
      "Processing: disaster_clustered_w2v_pca.csv\n",
      "Number of topics is 93\n",
      "{'c_v': 0.5728062583393208, 'c_npmi': 0.08599018781913917}\n",
      "Processing: disaster_clustered_w2v_direct.csv\n",
      "Number of topics is 71\n",
      "{'c_v': 0.5561880170677628, 'c_npmi': 0.07761587021062656}\n",
      "Processing: disaster_clustered_louvain.csv\n",
      "Number of topics is 149\n",
      "{'c_v': 0.6545162168508325, 'c_npmi': 0.13240052828941928}\n"
     ]
    }
   ],
   "source": [
    "coherences = {}\n",
    "\n",
    "for file in corpus_files:\n",
    "    print(\"Processing: {}\".format(file))\n",
    "    coherences[file.strip(\".csv\")] = load_evaluate_corpus(\"working/\" + file)\n",
    "    print(coherences[file.strip(\".csv\")])"
   ]
  },
  {
   "cell_type": "code",
   "execution_count": 7,
   "metadata": {},
   "outputs": [
    {
     "data": {
      "text/plain": [
       "{'disaster_clustered_lda': {'c_v': 0.6289230271130697,\n",
       "  'c_npmi': 0.09982127239084664},\n",
       " 'disaster_clustered_w2v_pca': {'c_v': 0.5728062583393208,\n",
       "  'c_npmi': 0.08599018781913917},\n",
       " 'disaster_clustered_w2v_direct': {'c_v': 0.5561880170677628,\n",
       "  'c_npmi': 0.07761587021062656},\n",
       " 'disaster_clustered_louvain': {'c_v': 0.6545162168508325,\n",
       "  'c_npmi': 0.13240052828941928}}"
      ]
     },
     "execution_count": 7,
     "metadata": {},
     "output_type": "execute_result"
    }
   ],
   "source": [
    "coherences"
   ]
  },
  {
   "cell_type": "raw",
   "metadata": {},
   "source": [
    "\n",
    "    # Restore \"tokens\" from horrific string format\n",
    "    # REF CHECK THIS FOR COMPATIBILITY WITH OTHER CLEANING STEPS\n",
    "    #df['tokens'] = df['tokens'].apply(lambda x: re.sub(r\"[^a-zA-Z0-9,]\", \"\", x).split(\",\"))"
   ]
  },
  {
   "cell_type": "raw",
   "metadata": {},
   "source": [
    "def get_corpus_model_coherence(df, cluster_column=\"cluster\", tokens_column=\"tokens\"):\n",
    "    \"\"\" Helper, encapsulates entire coherence model-building process for (flat) models \"\"\"\n",
    "    # Create the vocabulary record\n",
    "    bow_dictionary = gensim.corpora.Dictionary(list(df[tokens_column]))\n",
    "    \n",
    "    # Create a BOW model\n",
    "    bow_corpus = [bow_dictionary.doc2bow(doc) for doc in df[tokens_column]]\n",
    "    \n",
    "    # Flattened list of all tokens for all documents for each \"topic\"\n",
    "    topics = {}\n",
    "    topics_lengths = {}\n",
    "    for topic in pd.unique(df['cluster']):\n",
    "        subset = df[df['cluster'] == topic]\n",
    "        \n",
    "        topics_lengths[topic] = subset.shape[0]\n",
    "        \n",
    "        topics[topic] = flatten(list(subset['tokens']))\n",
    "    \n",
    "    # Calculate ALL THE COHERENCE\n",
    "    coherences = {}\n",
    "    \n",
    "    # c_v is most performant indirect confirmation measure\n",
    "    cm1 = CoherenceModel(topics=list(topics.values()),\n",
    "                         texts=list(df['tokens']),\n",
    "                         dictionary=bow_dictionary,\n",
    "                         coherence='c_v')\n",
    "    coherences['c_v'] = cm1.get_coherence()\n",
    "    \n",
    "    # c_npmi is most performant direct confirmation measure (that I don't have to implement myself)\n",
    "    cm2 = CoherenceModel(topics=list(topics.values()),\n",
    "                         texts=list(df['tokens']),\n",
    "                         dictionary=bow_dictionary,\n",
    "                         coherence='c_npmi')\n",
    "    coherences['c_npmi'] = cm2.get_coherence()\n",
    "        \n",
    "    return(coherences, cm1, cm2, topics_lengths)"
   ]
  }
 ],
 "metadata": {
  "kernelspec": {
   "display_name": "Python 3",
   "language": "python",
   "name": "python3"
  },
  "language_info": {
   "codemirror_mode": {
    "name": "ipython",
    "version": 3
   },
   "file_extension": ".py",
   "mimetype": "text/x-python",
   "name": "python",
   "nbconvert_exporter": "python",
   "pygments_lexer": "ipython3",
   "version": "3.7.6"
  }
 },
 "nbformat": 4,
 "nbformat_minor": 2
}
