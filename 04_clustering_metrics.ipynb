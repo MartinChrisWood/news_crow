{
 "cells": [
  {
   "cell_type": "markdown",
   "metadata": {},
   "source": [
    "# Gauge how well the clusters separate the data\n",
    "\n",
    "#### Suggested approach:\n",
    "\n",
    "Coherence is not meant to work with clusters, only topics. It can only work with either \n",
    "- an existing LDA model, in which case it does something clever\n",
    "- A corpus, a dictionary and a list of sets of key words representing topics\n",
    "\n",
    "To make models from different sources comparable, I could use relevance scores to extract the top ~ 20 most relevant words for each cluster and then use the second approach (lists of sets of key words) to get relevance scores.  Need to check the formulas used by the gensim implementation.\n",
    "\n",
    "The other tool I could use is Silhouette scores, but they'll only work really for flat clustering models."
   ]
  },
  {
   "cell_type": "code",
   "execution_count": null,
   "metadata": {},
   "outputs": [],
   "source": [
    "import numpy as np\n",
    "import pandas as pd\n",
    "import seaborn as sns\n",
    "\n",
    "from gensim.models.coherencemodel import CoherenceModel"
   ]
  }
 ],
 "metadata": {
  "kernelspec": {
   "display_name": "Python 3",
   "language": "python",
   "name": "python3"
  },
  "language_info": {
   "codemirror_mode": {
    "name": "ipython",
    "version": 3
   },
   "file_extension": ".py",
   "mimetype": "text/x-python",
   "name": "python",
   "nbconvert_exporter": "python",
   "pygments_lexer": "ipython3",
   "version": "3.7.4"
  }
 },
 "nbformat": 4,
 "nbformat_minor": 2
}
