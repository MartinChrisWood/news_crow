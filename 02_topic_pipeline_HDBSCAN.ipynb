{
 "cells": [
  {
   "cell_type": "markdown",
   "metadata": {},
   "source": [
    "# HDBSCAN should work well on embedding representations"
   ]
  },
  {
   "cell_type": "code",
   "execution_count": 1,
   "metadata": {},
   "outputs": [],
   "source": [
    "import os\n",
    "import re\n",
    "import json\n",
    "import hdbscan\n",
    "\n",
    "import numpy as np\n",
    "import pandas as pd\n",
    "\n",
    "from sklearn.decomposition import PCA\n",
    "from collections import Counter\n",
    "import matplotlib.pyplot as plt\n",
    "\n",
    "import lib.helper as helper\n",
    "import lib.embedding_models as reps\n",
    "\n",
    "from gensim.models import Word2Vec\n",
    "\n",
    "%matplotlib inline"
   ]
  },
  {
   "cell_type": "markdown",
   "metadata": {},
   "source": [
    "## 1.  Retrieve Corpus\n",
    "\n",
    "The corpus is being scraped by the \"run_news_scrapes.py\" script (and windows task scheduler) every 12 hours, a bit past midday and a bit past midnight.\n",
    "\n",
    "The \"bing\" corpus are news titles and text extracts gotten from the bing news search API, using a few Home Office - related keywords.\n",
    "\n",
    "The \"RSS\" corpus is plugged directly into a number of RSS feeds for world news sites and local british news sites, with no filters for news story types or subjects applied."
   ]
  },
  {
   "cell_type": "code",
   "execution_count": 2,
   "metadata": {},
   "outputs": [
    {
     "name": "stdout",
     "output_type": "stream",
     "text": [
      "Total files: 495\n",
      "9.9 percent of files read.\n",
      "19.8 percent of files read.\n",
      "29.7 percent of files read.\n",
      "39.6 percent of files read.\n",
      "49.5 percent of files read.\n",
      "59.4 percent of files read.\n",
      "69.3 percent of files read.\n",
      "79.2 percent of files read.\n",
      "89.1 percent of files read.\n",
      "99.0 percent of files read.\n",
      "(31393, 9)\n"
     ]
    },
    {
     "data": {
      "text/html": [
       "<div>\n",
       "<style scoped>\n",
       "    .dataframe tbody tr th:only-of-type {\n",
       "        vertical-align: middle;\n",
       "    }\n",
       "\n",
       "    .dataframe tbody tr th {\n",
       "        vertical-align: top;\n",
       "    }\n",
       "\n",
       "    .dataframe thead th {\n",
       "        text-align: right;\n",
       "    }\n",
       "</style>\n",
       "<table border=\"1\" class=\"dataframe\">\n",
       "  <thead>\n",
       "    <tr style=\"text-align: right;\">\n",
       "      <th></th>\n",
       "      <th>index</th>\n",
       "      <th>title</th>\n",
       "      <th>summary</th>\n",
       "      <th>date</th>\n",
       "      <th>link</th>\n",
       "      <th>source_url</th>\n",
       "      <th>retrieval_timestamp</th>\n",
       "      <th>origin</th>\n",
       "      <th>clean_text</th>\n",
       "    </tr>\n",
       "    <tr>\n",
       "      <th>node</th>\n",
       "      <th></th>\n",
       "      <th></th>\n",
       "      <th></th>\n",
       "      <th></th>\n",
       "      <th></th>\n",
       "      <th></th>\n",
       "      <th></th>\n",
       "      <th></th>\n",
       "      <th></th>\n",
       "    </tr>\n",
       "  </thead>\n",
       "  <tbody>\n",
       "    <tr>\n",
       "      <th>0</th>\n",
       "      <td>0</td>\n",
       "      <td>Hurricane Dorian lashes US as Bahamas counts cost</td>\n",
       "      <td>Life-threatening US storm surges are feared, a...</td>\n",
       "      <td>Thu, 05 Sep 2019 16:03:44 GMT</td>\n",
       "      <td>https://www.bbc.co.uk/news/world-us-canada-495...</td>\n",
       "      <td>http://feeds.bbci.co.uk/news/world/rss.xml</td>\n",
       "      <td>2019-09-05 21:35:06.925873</td>\n",
       "      <td>rss_feed</td>\n",
       "      <td>Hurricane Dorian lashes US as Bahamas counts c...</td>\n",
       "    </tr>\n",
       "    <tr>\n",
       "      <th>1</th>\n",
       "      <td>1</td>\n",
       "      <td>Kohistan video murders: Three guilty in 'honou...</td>\n",
       "      <td>They are relatives of a group of Pakistani wom...</td>\n",
       "      <td>Thu, 05 Sep 2019 13:53:17 GMT</td>\n",
       "      <td>https://www.bbc.co.uk/news/world-asia-49592540</td>\n",
       "      <td>http://feeds.bbci.co.uk/news/world/rss.xml</td>\n",
       "      <td>2019-09-05 21:35:06.925873</td>\n",
       "      <td>rss_feed</td>\n",
       "      <td>Kohistan video murders: Three guilty in 'honou...</td>\n",
       "    </tr>\n",
       "    <tr>\n",
       "      <th>2</th>\n",
       "      <td>2</td>\n",
       "      <td>MH17 Ukraine plane crash: 'Key witness' released</td>\n",
       "      <td>A Ukrainian court releases a potentially key w...</td>\n",
       "      <td>Thu, 05 Sep 2019 13:46:06 GMT</td>\n",
       "      <td>https://www.bbc.co.uk/news/world-europe-49591148</td>\n",
       "      <td>http://feeds.bbci.co.uk/news/world/rss.xml</td>\n",
       "      <td>2019-09-05 21:35:06.925873</td>\n",
       "      <td>rss_feed</td>\n",
       "      <td>MH17 Ukraine plane crash: 'Key witness' releas...</td>\n",
       "    </tr>\n",
       "    <tr>\n",
       "      <th>3</th>\n",
       "      <td>3</td>\n",
       "      <td>Article 370: The weddings 'ruined' by Kashmir'...</td>\n",
       "      <td>Indian-administered Kashmir is under a securit...</td>\n",
       "      <td>Thu, 05 Sep 2019 07:32:34 GMT</td>\n",
       "      <td>https://www.bbc.co.uk/news/world-asia-india-49...</td>\n",
       "      <td>http://feeds.bbci.co.uk/news/world/rss.xml</td>\n",
       "      <td>2019-09-05 21:35:06.925873</td>\n",
       "      <td>rss_feed</td>\n",
       "      <td>Article 70: The weddings 'ruined' by Kashmir's...</td>\n",
       "    </tr>\n",
       "    <tr>\n",
       "      <th>4</th>\n",
       "      <td>4</td>\n",
       "      <td>Syria war: Turkey warns Europe of new migrant ...</td>\n",
       "      <td>President Erdogan demands international help t...</td>\n",
       "      <td>Thu, 05 Sep 2019 16:11:48 GMT</td>\n",
       "      <td>https://www.bbc.co.uk/news/world-europe-49599297</td>\n",
       "      <td>http://feeds.bbci.co.uk/news/world/rss.xml</td>\n",
       "      <td>2019-09-05 21:35:06.925873</td>\n",
       "      <td>rss_feed</td>\n",
       "      <td>Syria war: Turkey warns Europe of new migrant ...</td>\n",
       "    </tr>\n",
       "  </tbody>\n",
       "</table>\n",
       "</div>"
      ],
      "text/plain": [
       "      index                                              title  \\\n",
       "node                                                             \n",
       "0         0  Hurricane Dorian lashes US as Bahamas counts cost   \n",
       "1         1  Kohistan video murders: Three guilty in 'honou...   \n",
       "2         2   MH17 Ukraine plane crash: 'Key witness' released   \n",
       "3         3  Article 370: The weddings 'ruined' by Kashmir'...   \n",
       "4         4  Syria war: Turkey warns Europe of new migrant ...   \n",
       "\n",
       "                                                summary  \\\n",
       "node                                                      \n",
       "0     Life-threatening US storm surges are feared, a...   \n",
       "1     They are relatives of a group of Pakistani wom...   \n",
       "2     A Ukrainian court releases a potentially key w...   \n",
       "3     Indian-administered Kashmir is under a securit...   \n",
       "4     President Erdogan demands international help t...   \n",
       "\n",
       "                               date  \\\n",
       "node                                  \n",
       "0     Thu, 05 Sep 2019 16:03:44 GMT   \n",
       "1     Thu, 05 Sep 2019 13:53:17 GMT   \n",
       "2     Thu, 05 Sep 2019 13:46:06 GMT   \n",
       "3     Thu, 05 Sep 2019 07:32:34 GMT   \n",
       "4     Thu, 05 Sep 2019 16:11:48 GMT   \n",
       "\n",
       "                                                   link  \\\n",
       "node                                                      \n",
       "0     https://www.bbc.co.uk/news/world-us-canada-495...   \n",
       "1        https://www.bbc.co.uk/news/world-asia-49592540   \n",
       "2      https://www.bbc.co.uk/news/world-europe-49591148   \n",
       "3     https://www.bbc.co.uk/news/world-asia-india-49...   \n",
       "4      https://www.bbc.co.uk/news/world-europe-49599297   \n",
       "\n",
       "                                      source_url         retrieval_timestamp  \\\n",
       "node                                                                           \n",
       "0     http://feeds.bbci.co.uk/news/world/rss.xml  2019-09-05 21:35:06.925873   \n",
       "1     http://feeds.bbci.co.uk/news/world/rss.xml  2019-09-05 21:35:06.925873   \n",
       "2     http://feeds.bbci.co.uk/news/world/rss.xml  2019-09-05 21:35:06.925873   \n",
       "3     http://feeds.bbci.co.uk/news/world/rss.xml  2019-09-05 21:35:06.925873   \n",
       "4     http://feeds.bbci.co.uk/news/world/rss.xml  2019-09-05 21:35:06.925873   \n",
       "\n",
       "        origin                                         clean_text  \n",
       "node                                                               \n",
       "0     rss_feed  Hurricane Dorian lashes US as Bahamas counts c...  \n",
       "1     rss_feed  Kohistan video murders: Three guilty in 'honou...  \n",
       "2     rss_feed  MH17 Ukraine plane crash: 'Key witness' releas...  \n",
       "3     rss_feed  Article 70: The weddings 'ruined' by Kashmir's...  \n",
       "4     rss_feed  Syria war: Turkey warns Europe of new migrant ...  "
      ]
     },
     "execution_count": 2,
     "metadata": {},
     "output_type": "execute_result"
    }
   ],
   "source": [
    "# Should be same path for all my PC's, it's where each scrape goes as a separate json file.\n",
    "storage_path = \"D:/Dropbox/news_crow/scrape_results\"\n",
    "\n",
    "# \"bing\" is targeted news search corpus, \"RSS\" is from specific world and local news feeds.\n",
    "corpus_type = \"RSS\"\n",
    "\n",
    "# Load up\n",
    "corpus = helper.load_clean_world_corpus(storage_path, corpus_type)\n",
    "\n",
    "# Make sure after cleaning etc it's indexed from 0\n",
    "corpus.reset_index(inplace=True)\n",
    "corpus.index.name = \"node\"\n",
    "\n",
    "# See how it turned out\n",
    "print(corpus.shape)\n",
    "corpus.head()"
   ]
  },
  {
   "cell_type": "markdown",
   "metadata": {},
   "source": [
    "## 2.  Build Text Model (Representation, eg; word2vec, entities list...)\n",
    "\n",
    "- Trying with the world corpus and with the bing corpus, neither worked with InferSent.  Suspect the problem lies in the PCA step, which may not be working well on this high-dimensional (vector length = 4096) form.\n",
    "- Summed keywords works rather better with the world corpus.\n",
    "- Summed keywords still fail the bing/home office corpus, giving me a cluster about \"immigration\" and a cluster for the American Supreme Court."
   ]
  },
  {
   "cell_type": "raw",
   "metadata": {},
   "source": [
    "# Windows didn't play nicely with the vector datasets, Some obscure encoding problem (python in Conda\n",
    "# kept trying to decode using cp1252 regardless of whatever other options I specified!)\n",
    "# Solution; rewrite file and drop any characters the Windows encoder refuses to recognise.\n",
    "# I shouldn't loose too much info.\n",
    "with open('./lib/InferSent/dataset/fastText/crawl-300d-2M.vec', \"r\", encoding=\"cp1252\", errors=\"ignore\") as infile:\n",
    "    with open('./lib/InferSent/dataset/fastText/crawl-300d-2M_win.vec', \"wb\") as outfile:\n",
    "        for line in infile:\n",
    "            outfile.write(line.encode('cp1252'))"
   ]
  },
  {
   "cell_type": "raw",
   "metadata": {},
   "source": [
    "infersent = reps.InferSentModel(list(corpus['clean_text']),\n",
    "                                list(corpus['clean_text']),\n",
    "                                W2V_PATH = './lib/InferSent/dataset/fastText/crawl-300d-2M_win.vec')\n",
    "\n",
    "embeddings = infersent.get_embeddings()"
   ]
  },
  {
   "cell_type": "raw",
   "metadata": {},
   "source": [
    "reload(reps)"
   ]
  },
  {
   "cell_type": "raw",
   "metadata": {
    "scrolled": true
   },
   "source": [
    "# Whereas this worked first time!\n",
    "glove = reps.GloveWordModel(list(corpus['clean_text']), list(corpus['clean_text']))\n",
    "\n",
    "embeddings = glove.get_embeddings()"
   ]
  },
  {
   "cell_type": "raw",
   "metadata": {},
   "source": [
    "# Turn that into a DF for me\n",
    "embeddings_df = pd.DataFrame({\"clean_text\": list(embeddings.keys()),\n",
    "                              \"embeddings\": list(embeddings.values())})\n",
    "embeddings_df.shape"
   ]
  },
  {
   "cell_type": "raw",
   "metadata": {},
   "source": [
    "corpus.merge(embeddings_df, how=\"left\", on=\"clean_text\")"
   ]
  },
  {
   "cell_type": "markdown",
   "metadata": {},
   "source": [
    "## 2a.  Try a really simple averaged word vector model!\n",
    "\n",
    "With a complex noun extraction function 'cause that part's slow so I multi-threaded it."
   ]
  },
  {
   "cell_type": "code",
   "execution_count": 3,
   "metadata": {},
   "outputs": [],
   "source": [
    "vec_size = 100\n",
    "\n",
    "# Get phrase-conjoined, stem tokens\n",
    "corpus['phrase_tokens'] = helper.get_phrased_nouns(corpus['clean_text'])\n",
    "\n",
    "# Detect and conjoin bigrams\n",
    "model = Word2Vec(corpus['phrase_tokens'], size=vec_size, window=5, min_count=5, workers=10)"
   ]
  },
  {
   "cell_type": "code",
   "execution_count": 4,
   "metadata": {},
   "outputs": [],
   "source": [
    "def get_averaged_vec(token_list, model):\n",
    "    \n",
    "    vecs = []\n",
    "    for token in token_list:\n",
    "        try:\n",
    "            vector = model.wv[token]\n",
    "        except: \n",
    "            vector = np.zeros(vec_size)\n",
    "        vecs.append(vector)\n",
    "    \n",
    "    if len(vecs) > 0:\n",
    "        return np.mean(np.asarray(vecs), axis=0)\n",
    "    else:\n",
    "        return np.zeros(vec_size)"
   ]
  },
  {
   "cell_type": "code",
   "execution_count": 5,
   "metadata": {},
   "outputs": [],
   "source": [
    "vectors = [get_averaged_vec(tokens, model) for tokens in corpus['phrase_tokens']]"
   ]
  },
  {
   "cell_type": "markdown",
   "metadata": {},
   "source": [
    "## 3. Cluster Text\n",
    "\n",
    "This is the part where the pipelines get a little more experimental\n",
    "- First; PCA (HDBSCAN prefers < 50 dimensions if possible) (also, try just fitting 50 vectors!)\n",
    "- Second; HDBSCAN clustering"
   ]
  },
  {
   "cell_type": "code",
   "execution_count": 6,
   "metadata": {},
   "outputs": [
    {
     "name": "stdout",
     "output_type": "stream",
     "text": [
      "[9.22882295e-01 5.83306161e-02 1.45210523e-02 1.82091390e-03\n",
      " 9.72699931e-04 4.29320674e-04 2.74421677e-04 9.63683260e-05\n",
      " 8.69711062e-05 5.72222599e-05 4.86979517e-05 3.44962787e-05\n",
      " 2.94292269e-05 2.61332369e-05 2.24589889e-05 2.01972885e-05\n",
      " 1.63795446e-05 1.61492743e-05 1.45166251e-05 1.37258547e-05]\n",
      "[188.18690949  47.31126221  23.60561381   8.35912768   6.10950037\n",
      "   4.05888881   3.24508039   1.92301827   1.82685362   1.48183127\n",
      "   1.36700971   1.15054173   1.06268776   1.00141215   0.92834917\n",
      "   0.88036504   0.79280643   0.78721391   0.74636125   0.72574817]\n"
     ]
    }
   ],
   "source": [
    "embeddings_array = np.vstack(vectors)\n",
    "\n",
    "# First, PCA the data\n",
    "pca = PCA(n_components=20, svd_solver='full')\n",
    "\n",
    "# Fit and check\n",
    "embeddings_pca = pca.fit_transform(embeddings_array)\n",
    "\n",
    "# Diagnostic stats - both should show exponential decay\n",
    "print(pca.explained_variance_ratio_)\n",
    "print(pca.singular_values_) "
   ]
  },
  {
   "cell_type": "raw",
   "metadata": {},
   "source": [
    "for i in range(1, 15):\n",
    "    print(\"\\n testing min_samples: \", i)\n",
    "    # Clusterer fitting\n",
    "    clusterer = hdbscan.HDBSCAN(min_cluster_size=5, min_samples=i)\n",
    "    clusterer.fit(embeddings_pca)\n",
    "    \n",
    "    # Diagnostic - calculate percentage of records assigned \"outlier\"\n",
    "    print(\"Percent outlier: \", 100.0 * sum(clusterer.labels_ == -1) / clusterer.labels_.shape[0])\n",
    "    \n",
    "    # number of clusters created\n",
    "    print(\"Number of clusters: \", len(pd.unique(clusterer.labels_)))\n",
    "    \n",
    "    # Top populated \n",
    "    a = Counter(clusterer.labels_)\n",
    "    a_list = sorted(a.items(), key = lambda a:(a[1], a[0]), reverse=True)\n",
    "    print(\"Largest 5 clusters: \", a_list[:5])\n",
    "    \n",
    "    # Median cluster size\n",
    "    print(\"Median cluster size: \", sorted(list(a.values()))[int(len(a.values())/2)])\n",
    "    print(\"Mean cluster size: \", np.mean(list(a.values())))\n",
    "    print(\"Percent 'really' clustered :\", 100.0 * (len(clusterer.labels_) - (a_list[0][1] + a_list[1][1])) / len(clusterer.labels_))"
   ]
  },
  {
   "cell_type": "code",
   "execution_count": 16,
   "metadata": {
    "scrolled": false
   },
   "outputs": [
    {
     "name": "stdout",
     "output_type": "stream",
     "text": [
      "Percent outlier:  65.87137259898704\n",
      "Number of clusters:  282\n"
     ]
    },
    {
     "name": "stderr",
     "output_type": "stream",
     "text": [
      "C:\\ProgramData\\Anaconda3\\lib\\site-packages\\hdbscan\\hdbscan_.py:1052: RuntimeWarning: invalid value encountered in double_scalars\n",
      "  self._outlier_scores = outlier_scores(self._condensed_tree)\n"
     ]
    }
   ],
   "source": [
    "# Clusterer fitting\n",
    "clusterer = hdbscan.HDBSCAN(min_cluster_size=5, min_samples=10)\n",
    "clusterer.fit(embeddings_array)\n",
    "\n",
    "# Diagnostic - calculate percentage of records assigned \"outlier\"\n",
    "print(\"Percent outlier: \", 100.0 * sum(clusterer.labels_ == -1) / clusterer.labels_.shape[0])\n",
    "\n",
    "# number of clusters created\n",
    "print(\"Number of clusters: \", len(pd.unique(clusterer.labels_)))\n",
    "\n",
    "# Record cluster each was assigned to\n",
    "corpus['cluster'] = clusterer.labels_\n",
    "\n",
    "# Record the reverse of outlier score (therefore, higher number = higher certainty of membership)\n",
    "corpus['score'] = 1.0 - clusterer.outlier_scores_\n",
    "\n",
    "corpus.to_csv(\"working/RSS_clustered_w2v_direct.csv\", index=False)"
   ]
  },
  {
   "cell_type": "code",
   "execution_count": 8,
   "metadata": {},
   "outputs": [
    {
     "data": {
      "text/plain": [
       "0.11227882687399894"
      ]
     },
     "execution_count": 8,
     "metadata": {},
     "output_type": "execute_result"
    }
   ],
   "source": [
    "# For calculating silhouette score, a gauge of how well separated clusters\n",
    "# are in some spatial representation\n",
    "from sklearn.metrics import silhouette_score\n",
    "\n",
    "# Filter out the outliers\n",
    "embeddings_score = embeddings_pca[clusterer.labels_ != -1]\n",
    "labels_score = clusterer.labels_[clusterer.labels_ != -1]\n",
    "\n",
    "score = silhouette_score(embeddings_score, labels_score, metric=\"cosine\")\n",
    "score"
   ]
  },
  {
   "cell_type": "code",
   "execution_count": 9,
   "metadata": {
    "scrolled": true
   },
   "outputs": [
    {
     "data": {
      "text/plain": [
       "Counter({-1: 20927,\n",
       "         137: 1692,\n",
       "         261: 3861,\n",
       "         173: 18,\n",
       "         159: 25,\n",
       "         149: 41,\n",
       "         138: 11,\n",
       "         0: 21,\n",
       "         70: 15,\n",
       "         26: 28,\n",
       "         45: 34,\n",
       "         12: 17,\n",
       "         32: 85,\n",
       "         6: 5,\n",
       "         38: 18,\n",
       "         77: 16,\n",
       "         89: 19,\n",
       "         18: 70,\n",
       "         67: 21,\n",
       "         198: 5,\n",
       "         9: 75,\n",
       "         31: 63,\n",
       "         174: 8,\n",
       "         59: 20,\n",
       "         20: 6,\n",
       "         71: 6,\n",
       "         30: 18,\n",
       "         78: 6,\n",
       "         2: 13,\n",
       "         61: 29,\n",
       "         48: 12,\n",
       "         135: 5,\n",
       "         5: 13,\n",
       "         172: 22,\n",
       "         180: 26,\n",
       "         55: 6,\n",
       "         199: 18,\n",
       "         227: 5,\n",
       "         111: 22,\n",
       "         35: 32,\n",
       "         126: 17,\n",
       "         91: 12,\n",
       "         234: 10,\n",
       "         41: 15,\n",
       "         165: 14,\n",
       "         19: 7,\n",
       "         190: 7,\n",
       "         72: 5,\n",
       "         82: 21,\n",
       "         56: 43,\n",
       "         129: 18,\n",
       "         8: 33,\n",
       "         166: 8,\n",
       "         97: 15,\n",
       "         136: 13,\n",
       "         74: 38,\n",
       "         22: 26,\n",
       "         158: 12,\n",
       "         11: 17,\n",
       "         54: 12,\n",
       "         100: 11,\n",
       "         251: 11,\n",
       "         60: 6,\n",
       "         40: 13,\n",
       "         101: 28,\n",
       "         112: 6,\n",
       "         90: 15,\n",
       "         235: 56,\n",
       "         258: 30,\n",
       "         206: 7,\n",
       "         10: 9,\n",
       "         7: 17,\n",
       "         36: 13,\n",
       "         176: 16,\n",
       "         232: 8,\n",
       "         237: 34,\n",
       "         245: 58,\n",
       "         167: 11,\n",
       "         189: 6,\n",
       "         229: 22,\n",
       "         226: 36,\n",
       "         120: 5,\n",
       "         92: 11,\n",
       "         119: 23,\n",
       "         142: 7,\n",
       "         68: 18,\n",
       "         215: 8,\n",
       "         175: 12,\n",
       "         104: 10,\n",
       "         160: 31,\n",
       "         162: 6,\n",
       "         84: 9,\n",
       "         243: 25,\n",
       "         23: 63,\n",
       "         147: 12,\n",
       "         69: 24,\n",
       "         255: 6,\n",
       "         256: 11,\n",
       "         28: 12,\n",
       "         186: 12,\n",
       "         230: 12,\n",
       "         241: 49,\n",
       "         218: 7,\n",
       "         80: 15,\n",
       "         130: 15,\n",
       "         110: 5,\n",
       "         197: 31,\n",
       "         127: 11,\n",
       "         169: 6,\n",
       "         144: 5,\n",
       "         259: 15,\n",
       "         43: 10,\n",
       "         122: 5,\n",
       "         1: 21,\n",
       "         25: 31,\n",
       "         148: 5,\n",
       "         203: 15,\n",
       "         163: 5,\n",
       "         33: 5,\n",
       "         66: 16,\n",
       "         44: 13,\n",
       "         152: 5,\n",
       "         37: 14,\n",
       "         247: 5,\n",
       "         49: 8,\n",
       "         34: 14,\n",
       "         17: 40,\n",
       "         254: 7,\n",
       "         125: 12,\n",
       "         83: 9,\n",
       "         24: 5,\n",
       "         239: 5,\n",
       "         164: 11,\n",
       "         196: 11,\n",
       "         238: 12,\n",
       "         222: 6,\n",
       "         240: 6,\n",
       "         88: 12,\n",
       "         13: 16,\n",
       "         228: 7,\n",
       "         260: 5,\n",
       "         224: 10,\n",
       "         109: 6,\n",
       "         132: 23,\n",
       "         62: 16,\n",
       "         76: 5,\n",
       "         220: 5,\n",
       "         201: 5,\n",
       "         65: 14,\n",
       "         99: 5,\n",
       "         4: 14,\n",
       "         93: 6,\n",
       "         98: 15,\n",
       "         128: 97,\n",
       "         216: 8,\n",
       "         219: 6,\n",
       "         207: 14,\n",
       "         233: 5,\n",
       "         168: 7,\n",
       "         131: 5,\n",
       "         153: 6,\n",
       "         187: 7,\n",
       "         140: 8,\n",
       "         145: 5,\n",
       "         102: 6,\n",
       "         87: 22,\n",
       "         133: 9,\n",
       "         16: 31,\n",
       "         15: 12,\n",
       "         21: 28,\n",
       "         57: 5,\n",
       "         242: 6,\n",
       "         52: 12,\n",
       "         244: 5,\n",
       "         29: 12,\n",
       "         154: 6,\n",
       "         58: 7,\n",
       "         171: 5,\n",
       "         95: 8,\n",
       "         105: 13,\n",
       "         157: 7,\n",
       "         14: 6,\n",
       "         183: 11,\n",
       "         253: 5,\n",
       "         51: 17,\n",
       "         223: 17,\n",
       "         194: 6,\n",
       "         46: 502,\n",
       "         179: 44,\n",
       "         79: 6,\n",
       "         81: 33,\n",
       "         214: 33,\n",
       "         103: 42,\n",
       "         47: 9,\n",
       "         195: 11,\n",
       "         121: 8,\n",
       "         50: 13,\n",
       "         155: 12,\n",
       "         178: 143,\n",
       "         106: 6,\n",
       "         210: 12,\n",
       "         117: 20,\n",
       "         188: 11,\n",
       "         143: 22,\n",
       "         211: 40,\n",
       "         150: 47,\n",
       "         134: 60,\n",
       "         182: 7,\n",
       "         246: 23,\n",
       "         94: 6,\n",
       "         231: 10,\n",
       "         205: 53,\n",
       "         209: 13,\n",
       "         181: 15,\n",
       "         118: 13,\n",
       "         192: 14,\n",
       "         64: 17,\n",
       "         85: 18,\n",
       "         252: 15,\n",
       "         151: 24,\n",
       "         73: 51,\n",
       "         221: 15,\n",
       "         156: 18,\n",
       "         177: 46,\n",
       "         250: 6,\n",
       "         225: 27,\n",
       "         193: 5,\n",
       "         202: 16,\n",
       "         124: 28,\n",
       "         115: 14,\n",
       "         185: 10,\n",
       "         113: 30,\n",
       "         114: 12,\n",
       "         63: 17,\n",
       "         27: 29,\n",
       "         107: 18,\n",
       "         257: 5,\n",
       "         141: 18,\n",
       "         213: 23,\n",
       "         39: 5,\n",
       "         146: 17,\n",
       "         212: 6,\n",
       "         170: 14,\n",
       "         123: 5,\n",
       "         200: 5,\n",
       "         248: 21,\n",
       "         204: 9,\n",
       "         86: 12,\n",
       "         208: 5,\n",
       "         116: 9,\n",
       "         236: 6,\n",
       "         191: 5,\n",
       "         249: 7,\n",
       "         184: 11,\n",
       "         139: 18,\n",
       "         161: 6,\n",
       "         217: 6,\n",
       "         53: 5,\n",
       "         3: 5,\n",
       "         75: 14,\n",
       "         108: 10,\n",
       "         42: 44,\n",
       "         96: 8})"
      ]
     },
     "execution_count": 9,
     "metadata": {},
     "output_type": "execute_result"
    }
   ],
   "source": [
    "Counter(clusterer.labels_)"
   ]
  },
  {
   "cell_type": "code",
   "execution_count": 10,
   "metadata": {},
   "outputs": [],
   "source": [
    "corpus = pd.read_csv(\"working/RSS_clustered_w2v_pca.csv\")"
   ]
  },
  {
   "cell_type": "code",
   "execution_count": 11,
   "metadata": {
    "scrolled": false
   },
   "outputs": [
    {
     "name": "stderr",
     "output_type": "stream",
     "text": [
      "C:\\ProgramData\\Anaconda3\\lib\\site-packages\\dateutil\\parser\\_parser.py:1218: UnknownTimezoneWarning: tzname EDT identified but not understood.  Pass `tzinfos` argument in order to correctly return a timezone-aware datetime.  In a future version, this will raise an exception.\n",
      "  category=UnknownTimezoneWarning)\n",
      "C:\\ProgramData\\Anaconda3\\lib\\site-packages\\dateutil\\parser\\_parser.py:1218: UnknownTimezoneWarning: tzname EST identified but not understood.  Pass `tzinfos` argument in order to correctly return a timezone-aware datetime.  In a future version, this will raise an exception.\n",
      "  category=UnknownTimezoneWarning)\n"
     ]
    },
    {
     "name": "stdout",
     "output_type": "stream",
     "text": [
      "c_v: 0.537\n",
      "c_npmi: 0.0509\n",
      "Time Coherence (macro): 1873835.7282091372\n",
      "Time Coherence (micro): 181447.58700317884\n",
      "Average document word count: 39.30280635810531\n",
      "Number of documents: 31393\n",
      "Latest record: Fri, 01 May 2020 00:18:25 GMT\n",
      "Earliest record: Wed, 9 Oct 2019 21:52:38 +0000\n",
      "Number of clusters: 263\n",
      "Median cluster size: 12.0\n",
      "Clustered docs: 33.3%\n",
      "\n",
      "Best Performant (C_v)!\n",
      "7122     Iraq protests: Baghdad curfew declared as unre...\n",
      "19412    British medic among three killed in rocket att...\n",
      "10723    Iraq protests: Gunmen kill at least 20 people ...\n",
      "6926     Iraq protests: Death toll climbs to 42 as demo...\n",
      "Name: clean_text, dtype: object\n",
      "25693    Vladimir Putin awards war medal to Kim Jong-un...\n",
      "23097    Kim Jong-uns sister handed role as propaganda ...\n",
      "25368    ‘I’m % certain Kim Jong-un dead and North Kore...\n",
      "30323    Tensions on knife-edge as North Korea sends tr...\n",
      "Name: clean_text, dtype: object\n",
      "16475    Coronavirus: Why have two reporters in Wuhan d...\n",
      "16394    Coronavirus outbreak: Chinese medics shave hea...\n",
      "21293    Coronavirus cradle Wuhan partly reopens after ...\n",
      "14902    Coronavirus medics wearing adult nappies becau...\n",
      "Name: clean_text, dtype: object\n",
      "20659    Coronavirus: Trump administration axed China d...\n",
      "30642    Top US health official Fauci warns of 'disturb...\n",
      "27605    Two shot dead at Memorial Day weekend party th...\n",
      "25185    Coronavirus in Ghana: Online funerals, face ma...\n",
      "Name: clean_text, dtype: object\n",
      "\n",
      "Worst Performant (C_v)!\n",
      "11916    Netherlands climate change: Court orders bigge...\n",
      "5586     The world's first artificial womb for humans. ...\n",
      "8762     Netherlands to cut national speed limit to 62m...\n",
      "11756    Is the Netherlands becoming a narco-state?. Th...\n",
      "Name: clean_text, dtype: object\n",
      "23313    How coronavirus is killing democracy in Congre...\n",
      "20033    Coronavirus: US hospital uses five months wort...\n",
      "18641    Coronavirus: Doctor tells Congress he develope...\n",
      "24412    Coronavirus: Congress passes $484bn economic r...\n",
      "Name: clean_text, dtype: object\n",
      "12920    Three people taken hostage after hotel bus hij...\n",
      "30427    Mum stabbed to death with ‘samurai sword and m...\n",
      "17603    Missing teenagers remains found in lion enclos...\n",
      "6503     Lion Air families told of fatal Boeing 77 cras...\n",
      "Name: clean_text, dtype: object\n",
      "19825    Coronavirus: Obituary pages in Italian newspap...\n",
      "19719    Coronavirus: Residents across Italy sing from ...\n",
      "21243    It can target anyone: Coronavirus patient in I...\n",
      "19800    Coronavirus: Italy death toll rises to more th...\n",
      "Name: clean_text, dtype: object\n",
      "\n",
      "Most Populated!\n",
      "26950    Uber lays off ,000 more people. Ride-share com...\n",
      "10625    Uber had 6,000 US sexual assault reports in tw...\n",
      "16422    Uber driver charged with kidnap after passenge...\n",
      "15399    Woman sues Uber after alleged sexual assault b...\n",
      "Name: clean_text, dtype: object\n",
      "27635    Four police officers fired following death of ...\n",
      "9849     Minneapolis fire: Five dead and injuries repor...\n",
      "28517    George Floyd protests: Active-duty troops brou...\n",
      "28341    Car appears to run over protesters live on-air...\n",
      "Name: clean_text, dtype: object\n",
      "27027    Trump administration likely to sue Google in c...\n",
      "1450     Google: 50 US states and territories launch co...\n",
      "1462     Google investigation: US states launch major p...\n",
      "1855     Google to pay €1bn to end French tax probe. Th...\n",
      "Name: clean_text, dtype: object\n",
      "21296    Coronavirus: Russia sees no epidemic but start...\n",
      "25910    Poland presidential election postponed over co...\n",
      "22838    Coronavirus: Delta updates guidelines after te...\n",
      "21165    Coronavirus quarantine leaves self-isolators d...\n",
      "Name: clean_text, dtype: object\n"
     ]
    },
    {
     "data": {
      "image/png": "[encoded data removed]",
      "text/plain": [
       "<Figure size 1080x360 with 3 Axes>"
      ]
     },
     "metadata": {
      "needs_background": "light"
     },
     "output_type": "display_data"
    }
   ],
   "source": [
    "from importlib import reload\n",
    "reload(helper)\n",
    "coherences = helper.report_corpus_model_coherence(\"working/RSS_clustered_w2v_pca.csv\")"
   ]
  },
  {
   "cell_type": "code",
   "execution_count": 12,
   "metadata": {},
   "outputs": [
    {
     "name": "stderr",
     "output_type": "stream",
     "text": [
      "C:\\ProgramData\\Anaconda3\\lib\\site-packages\\ipykernel_launcher.py:2: SettingWithCopyWarning: \n",
      "A value is trying to be set on a copy of a slice from a DataFrame.\n",
      "Try using .loc[row_indexer,col_indexer] = value instead\n",
      "\n",
      "See the caveats in the documentation: https://pandas.pydata.org/pandas-docs/stable/user_guide/indexing.html#returning-a-view-versus-a-copy\n",
      "  \n"
     ]
    },
    {
     "data": {
      "text/plain": [
       "<matplotlib.axes._subplots.AxesSubplot at 0x193c5482c88>"
      ]
     },
     "execution_count": 12,
     "metadata": {},
     "output_type": "execute_result"
    },
    {
     "data": {
      "image/png": "[encoded data removed]",
      "text/plain": [
       "<Figure size 432x288 with 1 Axes>"
      ]
     },
     "metadata": {
      "needs_background": "light"
     },
     "output_type": "display_data"
    }
   ],
   "source": [
    "test = corpus[corpus['cluster']==22]\n",
    "test['date'] = pd.to_datetime(test['date'].str.slice(5, 16))\n",
    "\n",
    "test = test[test['date'].dt.year >= 2019]\n",
    "\n",
    "test['date'].hist(xrot=30)"
   ]
  },
  {
   "cell_type": "code",
   "execution_count": 13,
   "metadata": {},
   "outputs": [
    {
     "data": {
      "text/html": [
       "<div>\n",
       "<style scoped>\n",
       "    .dataframe tbody tr th:only-of-type {\n",
       "        vertical-align: middle;\n",
       "    }\n",
       "\n",
       "    .dataframe tbody tr th {\n",
       "        vertical-align: top;\n",
       "    }\n",
       "\n",
       "    .dataframe thead th {\n",
       "        text-align: right;\n",
       "    }\n",
       "</style>\n",
       "<table border=\"1\" class=\"dataframe\">\n",
       "  <thead>\n",
       "    <tr style=\"text-align: right;\">\n",
       "      <th></th>\n",
       "      <th>index</th>\n",
       "      <th>title</th>\n",
       "    </tr>\n",
       "  </thead>\n",
       "  <tbody>\n",
       "    <tr>\n",
       "      <th>0</th>\n",
       "      <td>16166</td>\n",
       "      <td>Coronavirus – Nine people infected from just O...</td>\n",
       "    </tr>\n",
       "    <tr>\n",
       "      <th>1</th>\n",
       "      <td>1319</td>\n",
       "      <td>Hong Kong protesters appeal to Trump for help</td>\n",
       "    </tr>\n",
       "    <tr>\n",
       "      <th>2</th>\n",
       "      <td>1671</td>\n",
       "      <td>Hong Kong protesters sing and boo China anthem</td>\n",
       "    </tr>\n",
       "    <tr>\n",
       "      <th>3</th>\n",
       "      <td>8525</td>\n",
       "      <td>Hong Kong protester's shooting by policeman li...</td>\n",
       "    </tr>\n",
       "    <tr>\n",
       "      <th>4</th>\n",
       "      <td>2924</td>\n",
       "      <td>Hong Kong protests: China flag desecrated as f...</td>\n",
       "    </tr>\n",
       "  </tbody>\n",
       "</table>\n",
       "</div>"
      ],
      "text/plain": [
       "   index                                              title\n",
       "0  16166  Coronavirus – Nine people infected from just O...\n",
       "1   1319      Hong Kong protesters appeal to Trump for help\n",
       "2   1671     Hong Kong protesters sing and boo China anthem\n",
       "3   8525  Hong Kong protester's shooting by policeman li...\n",
       "4   2924  Hong Kong protests: China flag desecrated as f..."
      ]
     },
     "execution_count": 13,
     "metadata": {},
     "output_type": "execute_result"
    }
   ],
   "source": [
    "test.sample(5)[['title']].reset_index()"
   ]
  },
  {
   "cell_type": "markdown",
   "metadata": {},
   "source": [
    "## 4. Cluster text with Spectral Clustering\n",
    "Not working on high-dimensional data"
   ]
  },
  {
   "cell_type": "raw",
   "metadata": {},
   "source": [
    "from sklearn.metrics.pairwise import cosine_similarity"
   ]
  },
  {
   "cell_type": "raw",
   "metadata": {},
   "source": [
    "# Create an adjacency matrix from cosine distances between document vectors\n",
    "embeddings_array = np.vstack(vectors)\n",
    "adjacencies = cosine_similarity(embeddings_array)"
   ]
  },
  {
   "cell_type": "raw",
   "metadata": {},
   "source": [
    "# Create and fit the clustering model\n",
    "from sklearn.cluster import SpectralClustering\n",
    "\n",
    "clustering = SpectralClustering(n_clusters=66)\n",
    "labels = clustering.fit_predict(adjacencies)\n",
    "pd.Series(labels).value_counts()"
   ]
  },
  {
   "cell_type": "raw",
   "metadata": {},
   "source": [
    "from sklearn.cluster import AffinityPropagation\n",
    "\n",
    "ap = AffinityPropagation()\n",
    "ap.fit(embeddings_array)\n",
    "labels = ap.labels_\n",
    "pd.Series(labels).value_counts()"
   ]
  },
  {
   "cell_type": "markdown",
   "metadata": {},
   "source": [
    "## 5. Cluster text with Kmeans"
   ]
  },
  {
   "cell_type": "code",
   "execution_count": 17,
   "metadata": {
    "scrolled": false
   },
   "outputs": [
    {
     "name": "stdout",
     "output_type": "stream",
     "text": [
      "Percent outlier:  0.0\n",
      "Number of clusters:  200\n"
     ]
    },
    {
     "name": "stderr",
     "output_type": "stream",
     "text": [
      "C:\\ProgramData\\Anaconda3\\lib\\site-packages\\dateutil\\parser\\_parser.py:1218: UnknownTimezoneWarning: tzname EDT identified but not understood.  Pass `tzinfos` argument in order to correctly return a timezone-aware datetime.  In a future version, this will raise an exception.\n",
      "  category=UnknownTimezoneWarning)\n",
      "C:\\ProgramData\\Anaconda3\\lib\\site-packages\\dateutil\\parser\\_parser.py:1218: UnknownTimezoneWarning: tzname EST identified but not understood.  Pass `tzinfos` argument in order to correctly return a timezone-aware datetime.  In a future version, this will raise an exception.\n",
      "  category=UnknownTimezoneWarning)\n"
     ]
    },
    {
     "name": "stdout",
     "output_type": "stream",
     "text": [
      "c_v: 0.5288\n",
      "c_npmi: 0.0387\n",
      "Time Coherence (macro): 991178.6978509679\n",
      "Time Coherence (micro): 257193.39532623946\n",
      "Average document word count: 39.30280635810531\n",
      "Number of documents: 31393\n",
      "Latest record: Fri, 01 May 2020 00:18:25 GMT\n",
      "Earliest record: Wed, 9 Oct 2019 21:52:38 +0000\n",
      "Number of clusters: 198\n",
      "Median cluster size: 60.0\n",
      "Clustered docs: 100.0%\n",
      "\n",
      "Best Performant (C_v)!\n",
      "19686    US oil companies to slash spending amid Saudi-...\n",
      "22531    Hundreds die from drinking neat alcohol after ...\n",
      "19404    How Europe deals with terror offenders when th...\n",
      "16547    Children are dying from the cold in northern S...\n",
      "Name: clean_text, dtype: object\n",
      "25741    Claims Kim Jong-un is using body double after ...\n",
      "5642     Kim Jong-un channels hardman hero Vladimir Put...\n",
      "25112    Kim Jong-un health rumours rage as his sister ...\n",
      "19000    North Korea fires three MORE missiles as Kim J...\n",
      "Name: clean_text, dtype: object\n",
      "12683    Australia wildfires: Thousands race to beaches...\n",
      "10212    The United States is still in: Nancy Pelosi de...\n",
      "10708    French strikes December 201 – here’s what the ...\n",
      "18047    Greek police fire tear gas at hundreds of refu...\n",
      "Name: clean_text, dtype: object\n",
      "9566     What happened to Grace Millane and when did sh...\n",
      "9457     Grace Millane ‘killer’ took photos of her body...\n",
      "10698    Grace Millanes killer was quite taken by morbi...\n",
      "8436     What happened to Grace Millane and when did sh...\n",
      "Name: clean_text, dtype: object\n",
      "\n",
      "Worst Performant (C_v)!\n",
      "601      Cambodia explosion: British teacher among seve...\n",
      "30884    George Floyd: US phone giant Verizon joins Fac...\n",
      "23525    Coronavirus: New York extends stay-at-home ord...\n",
      "12235    Syrian refugee tells how he survived boat sink...\n",
      "Name: clean_text, dtype: object\n",
      "11289    New Zealand eruption: Police launch risky oper...\n",
      "11078    New Zealand eruption: Police release list of m...\n",
      "11207    New Zealand volcano – Race to recover dead vic...\n",
      "10995    New Zealand volcano: 'It was like the Chernoby...\n",
      "Name: clean_text, dtype: object\n",
      "4861     'Coup!' and other defences against Trump impea...\n",
      "5078     Trumps birthday: Low-key celebrations a far cr...\n",
      "16761    Why is the Trump administration expanding its ...\n",
      "26867    Pyramid scheme fraud suit against Trump and hi...\n",
      "Name: clean_text, dtype: object\n",
      "26182    Migrants struggle to send money home. The Covi...\n",
      "28251    Facebook staff anger over Trump post. Employee...\n",
      "1471     Trumps alleged attempts to force Ukraine to me...\n",
      "22028    Coronavirus: Peru announces social restriction...\n",
      "Name: clean_text, dtype: object\n",
      "\n",
      "Most Populated!\n",
      "23594    Coronavirus: Space crew return to very differe...\n",
      "22503    Coronavirus: Nigeria's mega churches adjust to...\n",
      "19764    Coronavirus: Wuhan doctors celebrate closure o...\n",
      "20841    Coronavirus: Louisiana on pace to become the n...\n",
      "Name: clean_text, dtype: object\n",
      "18169    Coronavirus: South Korea's Shincheonji Church ...\n",
      "20904    Cho Ju-bin: South Korea chatroom sex abuse sus...\n",
      "7629     North Korea fires two ‘ballistic missiles’ tow...\n",
      "10501    South Korea team to bring radiation detectors ...\n",
      "Name: clean_text, dtype: object\n",
      "18753    Bernie Sanders state is least sexist in US, st...\n",
      "23066    Coronavirus: Trump under pressure over claims ...\n",
      "9319     Philippines bans e-cigarettes overnight due to...\n",
      "16712    Trump ally Roger Stone sentenced to prison. Ro...\n",
      "Name: clean_text, dtype: object\n",
      "8479     Hong Kong protester shot by police during Face...\n",
      "583      Hong Kong: China is spreading disinformation a...\n",
      "20045    Coronavirus: Hong Kong authorities using elect...\n",
      "8497     Injured Hong Kong pro-government protester is ...\n",
      "Name: clean_text, dtype: object\n"
     ]
    },
    {
     "data": {
      "image/png": "[encoded data removed]",
      "text/plain": [
       "<Figure size 1080x360 with 3 Axes>"
      ]
     },
     "metadata": {
      "needs_background": "light"
     },
     "output_type": "display_data"
    }
   ],
   "source": [
    "#from nltk.cluster.kmeans import KMeansClusterer\n",
    "from sklearn.cluster import KMeans\n",
    "\n",
    "#kmc = KMeansClusterer(num_means=60, distance=cosine_similarity)\n",
    "#clusters = kmc.cluster(embeddings_array, True, trace=True)\n",
    "#clusters\n",
    "\n",
    "kmeans = KMeans(n_clusters=200, random_state=0).fit(embeddings_array)\n",
    "\n",
    "# Diagnostic - calculate percentage of records assigned \"outlier\"\n",
    "print(\"Percent outlier: \", 100.0 * sum(kmeans.labels_ == -1) / kmeans.labels_.shape[0])\n",
    "\n",
    "# number of clusters created\n",
    "print(\"Number of clusters: \", len(pd.unique(kmeans.labels_)))\n",
    "\n",
    "# Record cluster each was assigned to\n",
    "corpus['cluster'] = kmeans.labels_\n",
    "\n",
    "# Record the reverse of outlier score (therefore, higher number = higher certainty of membership)\n",
    "corpus['score'] = 1.0\n",
    "\n",
    "# If cluster is smaller than minimum limit, designate as outlier\n",
    "cs_lookup = corpus['cluster'].value_counts().to_dict()\n",
    "corpus['cluster'] = corpus['cluster'].apply(lambda x: -1 if (cs_lookup[x] < 5) else x)\n",
    "\n",
    "corpus.to_csv(\"working/RSS_kmeans_w2v_direct.csv\", index=False)\n",
    "\n",
    "coherences = helper.report_corpus_model_coherence(\"working/RSS_kmeans_w2v_direct.csv\")"
   ]
  },
  {
   "cell_type": "code",
   "execution_count": 15,
   "metadata": {
    "scrolled": false
   },
   "outputs": [
    {
     "name": "stdout",
     "output_type": "stream",
     "text": [
      "Percent outlier:  0.0\n",
      "Number of clusters:  200\n"
     ]
    },
    {
     "name": "stderr",
     "output_type": "stream",
     "text": [
      "C:\\ProgramData\\Anaconda3\\lib\\site-packages\\dateutil\\parser\\_parser.py:1218: UnknownTimezoneWarning: tzname EDT identified but not understood.  Pass `tzinfos` argument in order to correctly return a timezone-aware datetime.  In a future version, this will raise an exception.\n",
      "  category=UnknownTimezoneWarning)\n",
      "C:\\ProgramData\\Anaconda3\\lib\\site-packages\\dateutil\\parser\\_parser.py:1218: UnknownTimezoneWarning: tzname EST identified but not understood.  Pass `tzinfos` argument in order to correctly return a timezone-aware datetime.  In a future version, this will raise an exception.\n",
      "  category=UnknownTimezoneWarning)\n"
     ]
    },
    {
     "name": "stdout",
     "output_type": "stream",
     "text": [
      "c_v: 0.5381\n",
      "c_npmi: 0.0428\n",
      "Time Coherence (macro): 1022758.2986155135\n",
      "Time Coherence (micro): 258164.2945696331\n",
      "Average document word count: 39.30280635810531\n",
      "Number of documents: 31393\n",
      "Latest record: Fri, 01 May 2020 00:18:25 GMT\n",
      "Earliest record: Wed, 9 Oct 2019 21:52:38 +0000\n",
      "Number of clusters: 200\n",
      "Median cluster size: 62.0\n",
      "Clustered docs: 100.0%\n",
      "\n",
      "Best Performant (C_v)!\n",
      "2843     Prince Andrew accuser Virginia Roberts claims ...\n",
      "29016    Prince Andrew interview – what happened on the...\n",
      "11208    Prince Andrew sex accuser Virginia Roberts ‘to...\n",
      "17942    Judge refuses to reconsider releasing secret J...\n",
      "Name: clean_text, dtype: object\n",
      "20765    Trump says coronavirus not Asian Americans' fa...\n",
      "26439    'I was shunned over coronavirus fears'. Corona...\n",
      "24043    Coronavirus: WHO worker killed in Myanmar coll...\n",
      "20341    Noisy protests in Brazil over Bolsonaros handl...\n",
      "Name: clean_text, dtype: object\n",
      "4033     North Korea launches 'missile' into Japanese w...\n",
      "18566    Troy Collings: North Korea's 'first budget tra...\n",
      "29718    North Korea blows up liaison office with South...\n",
      "15053    Kim Jong-un’s aunt pictured six years after cl...\n",
      "Name: clean_text, dtype: object\n",
      "28490    George Floyd protests mapped: Three revealing ...\n",
      "29982    Man linked to far-right extremist movement cha...\n",
      "28082    The names change but the colour is always blac...\n",
      "28540    George Floyd protests: Police fire tear gas ca...\n",
      "Name: clean_text, dtype: object\n",
      "\n",
      "Worst Performant (C_v)!\n",
      "2603     South Korean serial killer 'found' after 0 yea...\n",
      "99       Bitcoin latest: What regulation South Korea is...\n",
      "24951    Kim Jong-un 'cannot stand up on his own or wal...\n",
      "29014    Kim Jong-un all smiles and social distancing w...\n",
      "Name: clean_text, dtype: object\n",
      "26781    China REALLY has 640,000 coronavirus cases, ei...\n",
      "17096    Trump to take over YouTube homepage with ads o...\n",
      "21859    Coronavirus: Putin extends Russias stay-at-hom...\n",
      "26319    Coronavirus: 72 people in Wisconsin test posit...\n",
      "Name: clean_text, dtype: object\n",
      "22895    Ireland lockdown extended into May as PM says ...\n",
      "20802    Death toll in Italy falls for SECOND consecuti...\n",
      "26455    Canada offering one-off payments between $00 a...\n",
      "28424    City in Japan proposes new law banning phone u...\n",
      "Name: clean_text, dtype: object\n",
      "20755    Putin claims Russia has fewer coronavirus case...\n",
      "20119    Coronavirus: Violinists play Titanic hymn in f...\n",
      "27588    Coronavirus: 'I see a lot of people, I don't s...\n",
      "18679    United Airlines cancels flights and cuts costs...\n",
      "Name: clean_text, dtype: object\n",
      "\n",
      "Most Populated!\n",
      "23148    Coronavirus: Trump plays video praising his ac...\n",
      "22483    Vladimir Putin wishes Boris Johnson speedy cor...\n",
      "21946    Coronavirus: Peru limits movement by gender to...\n",
      "16076    Coronavirus: US citizen dies from deadly virus...\n",
      "Name: clean_text, dtype: object\n",
      "23177    Number of South Korea coronavirus patients tes...\n",
      "24242    Kim Jong-Un's letter to Syrian president after...\n",
      "9980     Donald Trump believed 100MILLION would have di...\n",
      "18083    South Korea closes churches as coronavirus tal...\n",
      "Name: clean_text, dtype: object\n",
      "7065     Brexit: European leaders agree extension to 1 ...\n",
      "11113    Harvey Weinstein: $25m deal with sex abuse acc...\n",
      "24453    Saudi Arabia to abolish flogging - supreme cou...\n",
      "23334    German zoo may have to feed some animals to ot...\n",
      "Name: clean_text, dtype: object\n",
      "3586     Parisians fight climate change with a surprisi...\n",
      "4341     Paris police attacker had suffered 'psychotic ...\n",
      "16684    Russian artist and girlfriend held over releas...\n",
      "6514     Olympic flame or dating ad? Paris 2024 logo di...\n",
      "Name: clean_text, dtype: object\n"
     ]
    },
    {
     "data": {
      "image/png": "[encoded data removed]",
      "text/plain": [
       "<Figure size 1080x360 with 3 Axes>"
      ]
     },
     "metadata": {
      "needs_background": "light"
     },
     "output_type": "display_data"
    }
   ],
   "source": [
    "#from nltk.cluster.kmeans import KMeansClusterer\n",
    "from sklearn.cluster import KMeans\n",
    "\n",
    "#kmc = KMeansClusterer(num_means=60, distance=cosine_similarity)\n",
    "#clusters = kmc.cluster(embeddings_array, True, trace=True)\n",
    "#clusters\n",
    "\n",
    "kmeans = KMeans(n_clusters=200, random_state=0).fit(embeddings_pca)\n",
    "\n",
    "# Diagnostic - calculate percentage of records assigned \"outlier\"\n",
    "print(\"Percent outlier: \", 100.0 * sum(kmeans.labels_ == -1) / kmeans.labels_.shape[0])\n",
    "\n",
    "# number of clusters created\n",
    "print(\"Number of clusters: \", len(pd.unique(kmeans.labels_)))\n",
    "\n",
    "# Record cluster each was assigned to\n",
    "corpus['cluster'] = kmeans.labels_\n",
    "\n",
    "# Record the reverse of outlier score (therefore, higher number = higher certainty of membership)\n",
    "corpus['score'] = 1.0\n",
    "\n",
    "# If cluster is smaller than minimum limit, designate as outlier\n",
    "cs_lookup = corpus['cluster'].value_counts().to_dict()\n",
    "corpus['cluster'] = corpus['cluster'].apply(lambda x: -1 if (cs_lookup[x] < 5) else x)\n",
    "\n",
    "corpus.to_csv(\"working/RSS_kmeans_w2v_pca.csv\", index=False)\n",
    "\n",
    "coherences = helper.report_corpus_model_coherence(\"working/RSS_kmeans_w2v_pca.csv\")"
   ]
  }
 ],
 "metadata": {
  "kernelspec": {
   "display_name": "Python 3",
   "language": "python",
   "name": "python3"
  },
  "language_info": {
   "codemirror_mode": {
    "name": "ipython",
    "version": 3
   },
   "file_extension": ".py",
   "mimetype": "text/x-python",
   "name": "python",
   "nbconvert_exporter": "python",
   "pygments_lexer": "ipython3",
   "version": "3.7.6"
  }
 },
 "nbformat": 4,
 "nbformat_minor": 2
}
