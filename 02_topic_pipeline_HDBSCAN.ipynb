{
 "cells": [
  {
   "cell_type": "markdown",
   "metadata": {},
   "source": [
    "# HDBSCAN should work well on embedding representations"
   ]
  },
  {
   "cell_type": "code",
   "execution_count": 1,
   "metadata": {},
   "outputs": [],
   "source": [
    "import os\n",
    "import re\n",
    "import json\n",
    "import hdbscan\n",
    "\n",
    "import numpy as np\n",
    "import pandas as pd\n",
    "\n",
    "from sklearn.decomposition import PCA\n",
    "from collections import Counter\n",
    "import matplotlib.pyplot as plt\n",
    "\n",
    "import lib.helper as helper\n",
    "import lib.embedding_models as reps\n",
    "\n",
    "from importlib import reload\n",
    "\n",
    "%matplotlib inline"
   ]
  },
  {
   "cell_type": "markdown",
   "metadata": {},
   "source": [
    "## 1.  Retrieve Corpus\n",
    "\n",
    "The corpus is being scraped by the \"run_news_scrapes.py\" script (and windows task scheduler) every 12 hours, a bit past midday and a bit past midnight.\n",
    "\n",
    "The \"bing\" corpus are news titles and text extracts gotten from the bing news search API, using a few Home Office - related keywords.\n",
    "\n",
    "The \"RSS\" corpus is plugged directly into a number of RSS feeds for world news sites and local british news sites, with no filters for news story types or subjects applied."
   ]
  },
  {
   "cell_type": "code",
   "execution_count": 2,
   "metadata": {},
   "outputs": [
    {
     "name": "stdout",
     "output_type": "stream",
     "text": [
      "Total files: 316\n",
      "9.8 percent of files read.\n",
      "19.6 percent of files read.\n",
      "29.4 percent of files read.\n",
      "39.2 percent of files read.\n",
      "49.1 percent of files read.\n",
      "58.9 percent of files read.\n",
      "68.7 percent of files read.\n",
      "78.5 percent of files read.\n",
      "88.3 percent of files read.\n",
      "98.1 percent of files read.\n",
      "(22829, 9)\n"
     ]
    },
    {
     "data": {
      "text/html": [
       "<div>\n",
       "<style scoped>\n",
       "    .dataframe tbody tr th:only-of-type {\n",
       "        vertical-align: middle;\n",
       "    }\n",
       "\n",
       "    .dataframe tbody tr th {\n",
       "        vertical-align: top;\n",
       "    }\n",
       "\n",
       "    .dataframe thead th {\n",
       "        text-align: right;\n",
       "    }\n",
       "</style>\n",
       "<table border=\"1\" class=\"dataframe\">\n",
       "  <thead>\n",
       "    <tr style=\"text-align: right;\">\n",
       "      <th></th>\n",
       "      <th>index</th>\n",
       "      <th>title</th>\n",
       "      <th>summary</th>\n",
       "      <th>date</th>\n",
       "      <th>link</th>\n",
       "      <th>source_url</th>\n",
       "      <th>retrieval_timestamp</th>\n",
       "      <th>origin</th>\n",
       "      <th>clean_text</th>\n",
       "    </tr>\n",
       "    <tr>\n",
       "      <th>node</th>\n",
       "      <th></th>\n",
       "      <th></th>\n",
       "      <th></th>\n",
       "      <th></th>\n",
       "      <th></th>\n",
       "      <th></th>\n",
       "      <th></th>\n",
       "      <th></th>\n",
       "      <th></th>\n",
       "    </tr>\n",
       "  </thead>\n",
       "  <tbody>\n",
       "    <tr>\n",
       "      <th>0</th>\n",
       "      <td>0</td>\n",
       "      <td>West Midlands &lt;b&gt;flood&lt;/b&gt; warnings prompt &amp;#3...</td>\n",
       "      <td>Residents have been warned to &amp;quot;remain vig...</td>\n",
       "      <td>2019-11-17T17:35:00.0000000Z</td>\n",
       "      <td>https://www.bbc.co.uk/news/uk-england-50451817</td>\n",
       "      <td>www.bbc.co.uk</td>\n",
       "      <td>2019-11-17 19:50:58.278878</td>\n",
       "      <td>bing_news_api</td>\n",
       "      <td>West Midlands flood warnings prompt ;remain vi...</td>\n",
       "    </tr>\n",
       "    <tr>\n",
       "      <th>1</th>\n",
       "      <td>1</td>\n",
       "      <td>New &lt;b&gt;flood&lt;/b&gt; warnings issued with more hom...</td>\n",
       "      <td>The Environment Agency has a number of &lt;b&gt;floo...</td>\n",
       "      <td>2019-11-17T18:35:00.0000000Z</td>\n",
       "      <td>https://www.hulldailymail.co.uk/news/hull-east...</td>\n",
       "      <td>www.hulldailymail.co.uk</td>\n",
       "      <td>2019-11-17 19:50:58.278928</td>\n",
       "      <td>bing_news_api</td>\n",
       "      <td>New flood warnings issued with more homes at r...</td>\n",
       "    </tr>\n",
       "    <tr>\n",
       "      <th>2</th>\n",
       "      <td>2</td>\n",
       "      <td>UK weather forecast – More than 100 &lt;b&gt;flood&lt;/...</td>\n",
       "      <td>&lt;b&gt;FLOOD&lt;/b&gt;-ravaged villages in the UK have b...</td>\n",
       "      <td>2019-11-17T13:45:00.0000000Z</td>\n",
       "      <td>https://www.thesun.co.uk/news/10342583/uk-weat...</td>\n",
       "      <td>www.thesun.co.uk</td>\n",
       "      <td>2019-11-17 19:50:58.278953</td>\n",
       "      <td>bing_news_api</td>\n",
       "      <td>UK weather forecast – More than 100 flood aler...</td>\n",
       "    </tr>\n",
       "    <tr>\n",
       "      <th>3</th>\n",
       "      <td>5</td>\n",
       "      <td>UK &lt;b&gt;flood&lt;/b&gt; warning map: &lt;b&gt;Flood&lt;/b&gt; chao...</td>\n",
       "      <td>The Environment Agency has issued 57 &lt;b&gt;flood&lt;...</td>\n",
       "      <td>2019-11-17T16:38:00.0000000Z</td>\n",
       "      <td>https://www.express.co.uk/news/weather/1205629...</td>\n",
       "      <td>www.express.co.uk</td>\n",
       "      <td>2019-11-17 19:50:58.279028</td>\n",
       "      <td>bing_news_api</td>\n",
       "      <td>UK flood warning map: Flood chaos to continue ...</td>\n",
       "    </tr>\n",
       "    <tr>\n",
       "      <th>4</th>\n",
       "      <td>6</td>\n",
       "      <td>UK weather forecast: &lt;b&gt;Flood&lt;/b&gt; chaos contin...</td>\n",
       "      <td>Despite some areas enduring their &amp;#39;wettest...</td>\n",
       "      <td>2019-11-17T18:32:00.0000000Z</td>\n",
       "      <td>https://www.mirror.co.uk/news/uk-news/uk-weath...</td>\n",
       "      <td>www.mirror.co.uk</td>\n",
       "      <td>2019-11-17 19:50:58.279047</td>\n",
       "      <td>bing_news_api</td>\n",
       "      <td>UK weather forecast: Flood chaos continues wit...</td>\n",
       "    </tr>\n",
       "  </tbody>\n",
       "</table>\n",
       "</div>"
      ],
      "text/plain": [
       "      index                                              title  \\\n",
       "node                                                             \n",
       "0         0  West Midlands <b>flood</b> warnings prompt &#3...   \n",
       "1         1  New <b>flood</b> warnings issued with more hom...   \n",
       "2         2  UK weather forecast – More than 100 <b>flood</...   \n",
       "3         5  UK <b>flood</b> warning map: <b>Flood</b> chao...   \n",
       "4         6  UK weather forecast: <b>Flood</b> chaos contin...   \n",
       "\n",
       "                                                summary  \\\n",
       "node                                                      \n",
       "0     Residents have been warned to &quot;remain vig...   \n",
       "1     The Environment Agency has a number of <b>floo...   \n",
       "2     <b>FLOOD</b>-ravaged villages in the UK have b...   \n",
       "3     The Environment Agency has issued 57 <b>flood<...   \n",
       "4     Despite some areas enduring their &#39;wettest...   \n",
       "\n",
       "                              date  \\\n",
       "node                                 \n",
       "0     2019-11-17T17:35:00.0000000Z   \n",
       "1     2019-11-17T18:35:00.0000000Z   \n",
       "2     2019-11-17T13:45:00.0000000Z   \n",
       "3     2019-11-17T16:38:00.0000000Z   \n",
       "4     2019-11-17T18:32:00.0000000Z   \n",
       "\n",
       "                                                   link  \\\n",
       "node                                                      \n",
       "0        https://www.bbc.co.uk/news/uk-england-50451817   \n",
       "1     https://www.hulldailymail.co.uk/news/hull-east...   \n",
       "2     https://www.thesun.co.uk/news/10342583/uk-weat...   \n",
       "3     https://www.express.co.uk/news/weather/1205629...   \n",
       "4     https://www.mirror.co.uk/news/uk-news/uk-weath...   \n",
       "\n",
       "                   source_url         retrieval_timestamp         origin  \\\n",
       "node                                                                       \n",
       "0               www.bbc.co.uk  2019-11-17 19:50:58.278878  bing_news_api   \n",
       "1     www.hulldailymail.co.uk  2019-11-17 19:50:58.278928  bing_news_api   \n",
       "2            www.thesun.co.uk  2019-11-17 19:50:58.278953  bing_news_api   \n",
       "3           www.express.co.uk  2019-11-17 19:50:58.279028  bing_news_api   \n",
       "4            www.mirror.co.uk  2019-11-17 19:50:58.279047  bing_news_api   \n",
       "\n",
       "                                             clean_text  \n",
       "node                                                     \n",
       "0     West Midlands flood warnings prompt ;remain vi...  \n",
       "1     New flood warnings issued with more homes at r...  \n",
       "2     UK weather forecast – More than 100 flood aler...  \n",
       "3     UK flood warning map: Flood chaos to continue ...  \n",
       "4     UK weather forecast: Flood chaos continues wit...  "
      ]
     },
     "execution_count": 2,
     "metadata": {},
     "output_type": "execute_result"
    }
   ],
   "source": [
    "# Should be same path for all my PC's, it's where each scrape goes as a separate json file.\n",
    "storage_path = \"D:/Dropbox/news_crow/scrape_results\"\n",
    "\n",
    "# \"bing\" is targeted news search corpus, \"RSS\" is from specific world and local news feeds.\n",
    "corpus_type = \"disaster\"\n",
    "\n",
    "# Load up\n",
    "corpus = helper.load_clean_corpus(storage_path, corpus_type)\n",
    "\n",
    "# Make sure after cleaning etc it's indexed from 0\n",
    "corpus.reset_index(inplace=True)\n",
    "corpus.index.name = \"node\"\n",
    "\n",
    "# See how it turned out\n",
    "print(corpus.shape)\n",
    "corpus.head()"
   ]
  },
  {
   "cell_type": "markdown",
   "metadata": {},
   "source": [
    "## 2.  Build Text Model (Representation, eg; word2vec, entities list...)\n",
    "\n",
    "- Trying with the world corpus and with the bing corpus, neither worked with InferSent.  Suspect the problem lies in the PCA step, which may not be working well on this high-dimensional (vector length = 4096) form.\n",
    "- Summed keywords works rather better with the world corpus.\n",
    "- Summed keywords still fail the bing/home office corpus, giving me a cluster about \"immigration\" and a cluster for the American Supreme Court."
   ]
  },
  {
   "cell_type": "code",
   "execution_count": 3,
   "metadata": {},
   "outputs": [],
   "source": [
    "# Windows didn't play nicely with the vector datasets, Some obscure encoding problem (python in Conda\n",
    "# kept trying to decode using cp1252 regardless of whatever other options I specified!)\n",
    "# Solution; rewrite file and drop any characters the Windows encoder refuses to recognise.\n",
    "# I shouldn't loose too much info.\n",
    "#with open('./lib/InferSent/dataset/fastText/crawl-300d-2M.vec', \"r\", encoding=\"cp1252\", errors=\"ignore\") as infile:\n",
    "#    with open('./lib/InferSent/dataset/fastText/crawl-300d-2M_win.vec', \"wb\") as outfile:\n",
    "#        for line in infile:\n",
    "#            outfile.write(line.encode('cp1252'))"
   ]
  },
  {
   "cell_type": "code",
   "execution_count": 4,
   "metadata": {},
   "outputs": [],
   "source": [
    "#infersent = reps.InferSentModel(list(corpus['clean_text']),\n",
    "#                                list(corpus['clean_text']),\n",
    "#                                W2V_PATH = './lib/InferSent/dataset/fastText/crawl-300d-2M_win.vec')\n",
    "\n",
    "#embeddings = infersent.get_embeddings()"
   ]
  },
  {
   "cell_type": "code",
   "execution_count": 5,
   "metadata": {},
   "outputs": [],
   "source": [
    "#reload(reps)"
   ]
  },
  {
   "cell_type": "code",
   "execution_count": 6,
   "metadata": {
    "scrolled": true
   },
   "outputs": [],
   "source": [
    "# Whereas this worked first time!\n",
    "#glove = reps.NounGloveWordModel(list(corpus['clean_text']), list(corpus['clean_text']))\n",
    "\n",
    "#embeddings = glove.get_embeddings()"
   ]
  },
  {
   "cell_type": "code",
   "execution_count": 7,
   "metadata": {},
   "outputs": [],
   "source": [
    "# Turn that into a DF for me\n",
    "#embeddings_df = pd.DataFrame({\"clean_text\": list(embeddings.keys()),\n",
    "#                              \"embeddings\": list(embeddings.values())})\n",
    "#embeddings_df.shape"
   ]
  },
  {
   "cell_type": "code",
   "execution_count": 8,
   "metadata": {},
   "outputs": [],
   "source": [
    "#embeddings_df.head()"
   ]
  },
  {
   "cell_type": "markdown",
   "metadata": {},
   "source": [
    "## 2a.  Try a really simple averaged word vector model!\n",
    "\n",
    "With a complex noun extraction function 'cause that part's slow so I multi-threaded it."
   ]
  },
  {
   "cell_type": "code",
   "execution_count": 9,
   "metadata": {},
   "outputs": [],
   "source": [
    "from gensim.models import Word2Vec\n",
    "import spacy\n",
    "nlp = spacy.load('en_core_web_sm')\n",
    "from gensim.models.phrases import Phrases, Phraser\n",
    "\n",
    "# Set vector size\n",
    "vec_size = 100"
   ]
  },
  {
   "cell_type": "code",
   "execution_count": 10,
   "metadata": {},
   "outputs": [],
   "source": [
    "def get_phrased_nouns(sentences):\n",
    "    \"\"\" Use spacy to get all of the actual entities, conjoin bigram nouns. \"\"\"\n",
    "\n",
    "    # Get the lists of nouns\n",
    "    noun_lists = []\n",
    "    for doc in sentences:\n",
    "        parsed = nlp(doc)\n",
    "        noun_lists.append([token.lemma_ for token in parsed if token.pos_ == 'PROPN'])\n",
    "\n",
    "    # Build the phrase model\n",
    "    phrases = Phrases(noun_lists, min_count=5, threshold=0.5)\n",
    "\n",
    "    # Get the set of phrases present in the model\n",
    "    results = []\n",
    "    for nouns in noun_lists:\n",
    "        results.append(phrases[nouns])\n",
    "\n",
    "    return results\n",
    "\n",
    "# Get phrase-conjoined, lemmatized tokens\n",
    "test = get_phrased_nouns(corpus['clean_text'])\n",
    "\n",
    "# Detect and conjoin bigrams\n",
    "model = Word2Vec(test, size=vec_size, window=5, min_count=1, workers=10)"
   ]
  },
  {
   "cell_type": "code",
   "execution_count": 11,
   "metadata": {},
   "outputs": [],
   "source": [
    "def get_averaged_vec(token_list, model):\n",
    "    \n",
    "    vecs = []\n",
    "    for token in token_list:\n",
    "        try:\n",
    "            vector = model.wv[token]\n",
    "        except: \n",
    "            vector = np.zeros(vec_size)\n",
    "        vecs.append(vector)\n",
    "    \n",
    "    if len(vecs) > 0:\n",
    "        return np.mean(np.asarray(vecs), axis=0)\n",
    "    else:\n",
    "        return np.zeros(vec_size)"
   ]
  },
  {
   "cell_type": "code",
   "execution_count": 12,
   "metadata": {},
   "outputs": [],
   "source": [
    "vectors = [get_averaged_vec(tokens, model) for tokens in test]"
   ]
  },
  {
   "cell_type": "code",
   "execution_count": 13,
   "metadata": {
    "scrolled": true
   },
   "outputs": [
    {
     "data": {
      "text/plain": [
       "[array([ 1.48773998e-01,  2.19226275e-02, -3.69016230e-02, -4.59784502e-03,\n",
       "        -1.72700986e-01, -1.65858969e-01, -3.11440527e-02, -1.42761201e-01,\n",
       "         1.06054032e-02, -1.68504547e-02, -1.70641556e-01, -1.19400948e-01,\n",
       "         4.70643789e-02, -2.46798224e-03,  4.18019434e-03,  8.75702314e-03,\n",
       "        -3.80119425e-03, -5.69423586e-02,  6.81633204e-02,  5.44520095e-02,\n",
       "         2.96682157e-02, -1.36330946e-05, -8.81288722e-02, -1.33267462e-01,\n",
       "        -2.70807743e-02,  3.99522074e-02, -7.35704973e-02,  2.28855133e-01,\n",
       "         1.59268320e-01,  3.72315012e-02, -1.56046022e-02,  6.45692125e-02,\n",
       "        -1.74158141e-02,  1.06112570e-01, -1.07601017e-01,  4.16241884e-02,\n",
       "         1.50490955e-01, -3.47237550e-02,  2.55287569e-02,  3.37276384e-02,\n",
       "        -1.30607402e-02, -8.68300498e-02, -6.76510409e-02, -3.97584364e-02,\n",
       "        -1.71207830e-01, -6.84899017e-02,  1.20375462e-01,  3.05474699e-02,\n",
       "        -1.35735288e-01, -1.27561735e-02,  2.92679705e-02,  2.52623349e-01,\n",
       "        -2.24494755e-01, -2.75071082e-03, -1.49067938e-01,  9.99209210e-02,\n",
       "        -7.24168122e-02,  1.51737869e-01,  3.76599208e-02,  1.77879892e-02,\n",
       "         2.40769237e-02,  2.11052746e-01,  4.13712747e-02,  1.26227349e-01,\n",
       "         2.59497482e-02,  7.37146586e-02,  1.12364627e-02, -5.44181243e-02,\n",
       "        -1.39137089e-01,  5.65240197e-02,  1.17514521e-01,  7.14621171e-02,\n",
       "         9.03115049e-02,  6.74640238e-02,  2.42395371e-01, -8.73744935e-02,\n",
       "        -2.77606249e-02, -3.19337565e-03,  2.09306479e-02, -8.66251364e-02,\n",
       "        -4.38070148e-02, -2.39728093e-02, -6.93430826e-02, -2.88043115e-02,\n",
       "        -1.27897725e-01, -1.18534841e-01, -1.36792406e-01, -1.25567377e-01,\n",
       "         6.73084651e-05,  4.00988013e-02,  1.17797442e-01,  1.54458776e-01,\n",
       "         1.57248285e-02, -2.15382129e-01,  3.32111567e-02, -5.54995909e-02,\n",
       "         9.51956287e-02,  1.21199228e-02, -1.12608276e-01,  8.66713561e-03],\n",
       "       dtype=float32),\n",
       " array([ 7.7436495e-01,  1.0542813e-01, -2.0262207e-01, -4.1966870e-02,\n",
       "        -9.3020856e-01, -8.9029640e-01, -1.5903616e-01, -7.6735240e-01,\n",
       "         6.7590192e-02, -8.3539478e-02, -8.9930946e-01, -6.2299520e-01,\n",
       "         2.5852928e-01, -3.2591457e-03,  4.2008977e-02,  5.4301530e-02,\n",
       "        -2.5389462e-03, -3.0280802e-01,  3.7797147e-01,  2.7827239e-01,\n",
       "         1.6175832e-01, -8.6999051e-03, -4.4757402e-01, -7.0964432e-01,\n",
       "        -1.2982841e-01,  2.3905461e-01, -3.7388164e-01,  1.2272278e+00,\n",
       "         8.5210240e-01,  1.8439180e-01, -8.1222787e-02,  3.5249326e-01,\n",
       "        -7.8231566e-02,  5.7589442e-01, -5.5968499e-01,  2.2903517e-01,\n",
       "         7.9369134e-01, -1.8985525e-01,  1.3993302e-01,  1.6884129e-01,\n",
       "        -4.5676008e-02, -4.5419505e-01, -3.5962349e-01, -2.2989194e-01,\n",
       "        -9.1906840e-01, -3.6737740e-01,  6.6468704e-01,  1.5821627e-01,\n",
       "        -7.2829485e-01, -6.0446762e-02,  1.6920197e-01,  1.3364925e+00,\n",
       "        -1.1907229e+00,  1.3789651e-04, -7.9107571e-01,  5.2294320e-01,\n",
       "        -3.7229252e-01,  8.1500643e-01,  1.8754396e-01,  9.3202651e-02,\n",
       "         1.2402062e-01,  1.1213083e+00,  2.2232547e-01,  6.6915494e-01,\n",
       "         1.2803985e-01,  4.2285484e-01,  7.3259518e-02, -2.9135370e-01,\n",
       "        -7.6221609e-01,  3.1244478e-01,  6.3751376e-01,  3.8410771e-01,\n",
       "         4.7913709e-01,  3.4693590e-01,  1.2857207e+00, -4.6670163e-01,\n",
       "        -1.3174143e-01, -8.6107291e-03,  1.1186715e-01, -4.6820754e-01,\n",
       "        -2.3352718e-01, -1.4078420e-01, -3.6188412e-01, -1.6568121e-01,\n",
       "        -6.6796207e-01, -6.4938641e-01, -7.2822750e-01, -6.7249787e-01,\n",
       "        -1.4424183e-02,  2.3564741e-01,  6.1856377e-01,  8.2833129e-01,\n",
       "         8.7366939e-02, -1.1448617e+00,  1.9241337e-01, -3.0361575e-01,\n",
       "         4.9265832e-01,  8.1070304e-02, -5.9319061e-01,  5.8216780e-02],\n",
       "       dtype=float32)]"
      ]
     },
     "execution_count": 13,
     "metadata": {},
     "output_type": "execute_result"
    }
   ],
   "source": [
    "vectors[0:2]"
   ]
  },
  {
   "cell_type": "markdown",
   "metadata": {},
   "source": [
    "## 3. Cluster Text\n",
    "\n",
    "This is the part where the pipelines get a little more experimental\n",
    "- First; PCA (HDBSCAN prefers < 50 dimensions if possible) (also, try just fitting 50 vectors!)\n",
    "- Second; HDBSCAN clustering"
   ]
  },
  {
   "cell_type": "code",
   "execution_count": 19,
   "metadata": {},
   "outputs": [
    {
     "name": "stdout",
     "output_type": "stream",
     "text": [
      "[9.98942139e-01 6.47943541e-04 1.61067927e-04 5.43628795e-05\n",
      " 2.95846730e-05 1.52634150e-05 1.06385855e-05 9.79740789e-06\n",
      " 7.34321907e-06 5.90516687e-06 4.72472700e-06 4.29751943e-06\n",
      " 4.11768634e-06 3.62851272e-06 3.47705860e-06 3.27803462e-06\n",
      " 2.99175525e-06 2.89244131e-06 2.70770930e-06 2.34930155e-06]\n",
      "[227.67326277   5.79843038   2.89098873   1.67955059   1.23901125\n",
      "   0.88995433   0.74299144   0.71301302   0.61728412   0.5535514\n",
      "   0.49514252   0.47222697   0.46224103   0.43391652   0.42476416\n",
      "   0.41242847   0.39400787   0.38741296   0.37483737   0.34914936]\n"
     ]
    }
   ],
   "source": [
    "embeddings_array = np.vstack(vectors)\n",
    "\n",
    "# First, PCA the data\n",
    "pca = PCA(n_components=20, svd_solver='full')\n",
    "\n",
    "# Fit and check\n",
    "embeddings_pca = pca.fit_transform(embeddings_array)\n",
    "\n",
    "# Diagnostic stats - both should show exponential decay\n",
    "print(pca.explained_variance_ratio_)\n",
    "print(pca.singular_values_) "
   ]
  },
  {
   "cell_type": "code",
   "execution_count": 20,
   "metadata": {
    "scrolled": true
   },
   "outputs": [
    {
     "data": {
      "text/plain": [
       "Counter({68: 10690,\n",
       "         -1: 10399,\n",
       "         2: 40,\n",
       "         29: 5,\n",
       "         35: 5,\n",
       "         15: 12,\n",
       "         51: 9,\n",
       "         43: 7,\n",
       "         54: 323,\n",
       "         34: 5,\n",
       "         12: 11,\n",
       "         13: 33,\n",
       "         28: 9,\n",
       "         11: 22,\n",
       "         49: 11,\n",
       "         16: 10,\n",
       "         18: 5,\n",
       "         1: 6,\n",
       "         41: 16,\n",
       "         33: 7,\n",
       "         37: 5,\n",
       "         22: 13,\n",
       "         24: 6,\n",
       "         19: 13,\n",
       "         3: 12,\n",
       "         23: 9,\n",
       "         42: 6,\n",
       "         64: 53,\n",
       "         0: 103,\n",
       "         60: 6,\n",
       "         32: 108,\n",
       "         57: 10,\n",
       "         26: 35,\n",
       "         27: 9,\n",
       "         17: 29,\n",
       "         46: 27,\n",
       "         69: 176,\n",
       "         7: 10,\n",
       "         5: 41,\n",
       "         14: 15,\n",
       "         48: 27,\n",
       "         53: 34,\n",
       "         10: 25,\n",
       "         58: 12,\n",
       "         67: 26,\n",
       "         20: 10,\n",
       "         50: 23,\n",
       "         31: 5,\n",
       "         65: 37,\n",
       "         63: 22,\n",
       "         62: 8,\n",
       "         59: 14,\n",
       "         66: 24,\n",
       "         30: 19,\n",
       "         47: 10,\n",
       "         25: 5,\n",
       "         9: 36,\n",
       "         45: 15,\n",
       "         4: 30,\n",
       "         40: 8,\n",
       "         61: 21,\n",
       "         56: 14,\n",
       "         21: 12,\n",
       "         8: 20,\n",
       "         39: 7,\n",
       "         55: 12,\n",
       "         52: 14,\n",
       "         44: 5,\n",
       "         36: 6,\n",
       "         38: 12,\n",
       "         6: 5})"
      ]
     },
     "execution_count": 20,
     "metadata": {},
     "output_type": "execute_result"
    }
   ],
   "source": [
    "# Clusterer fitting\n",
    "clusterer = hdbscan.HDBSCAN(min_cluster_size=5, min_samples=10)\n",
    "clusterer.fit(embeddings_array)\n",
    "\n",
    "# Examine results\n",
    "Counter(clusterer.labels_)"
   ]
  },
  {
   "cell_type": "code",
   "execution_count": 21,
   "metadata": {},
   "outputs": [
    {
     "data": {
      "text/plain": [
       "45.551710543606816"
      ]
     },
     "execution_count": 21,
     "metadata": {},
     "output_type": "execute_result"
    }
   ],
   "source": [
    "# Diagnostic - calculate percentage of records assigned \"outlier\"\n",
    "100.0 * sum(clusterer.labels_ == -1) / clusterer.labels_.shape[0]"
   ]
  },
  {
   "cell_type": "code",
   "execution_count": 22,
   "metadata": {},
   "outputs": [
    {
     "data": {
      "text/plain": [
       "71"
      ]
     },
     "execution_count": 22,
     "metadata": {},
     "output_type": "execute_result"
    }
   ],
   "source": [
    "len(pd.unique(clusterer.labels_))"
   ]
  },
  {
   "cell_type": "raw",
   "metadata": {},
   "source": [
    "For disaster, 50-len W2V direct, 156 clusters, 75 % outlier\n",
    "For disaster, 50-len W2V pca-d, 220 clusters, 77 % outlier\n",
    "For disaster, 100-len W2V direct, 220 clusters, 73 % outlier\n",
    "For disaster, 100-len W2V pca-d, 248 clusters, 73 % outlier"
   ]
  },
  {
   "cell_type": "code",
   "execution_count": 23,
   "metadata": {},
   "outputs": [
    {
     "name": "stderr",
     "output_type": "stream",
     "text": [
      "C:\\ProgramData\\Anaconda3\\lib\\site-packages\\hdbscan\\hdbscan_.py:1052: RuntimeWarning: invalid value encountered in double_scalars\n",
      "  self._outlier_scores = outlier_scores(self._condensed_tree)\n"
     ]
    }
   ],
   "source": [
    "# Record cluster each was assigned to\n",
    "corpus['cluster'] = clusterer.labels_\n",
    "\n",
    "# Record the reverse of outlier score (therefore, higher number = higher certainty of membership)\n",
    "corpus['score'] = 1.0 - clusterer.outlier_scores_\n",
    "\n",
    "corpus.to_csv(\"working/disaster_clustered_w2v_direct.csv\", index=False)"
   ]
  }
 ],
 "metadata": {
  "kernelspec": {
   "display_name": "Python 3",
   "language": "python",
   "name": "python3"
  },
  "language_info": {
   "codemirror_mode": {
    "name": "ipython",
    "version": 3
   },
   "file_extension": ".py",
   "mimetype": "text/x-python",
   "name": "python",
   "nbconvert_exporter": "python",
   "pygments_lexer": "ipython3",
   "version": "3.7.6"
  }
 },
 "nbformat": 4,
 "nbformat_minor": 2
}
