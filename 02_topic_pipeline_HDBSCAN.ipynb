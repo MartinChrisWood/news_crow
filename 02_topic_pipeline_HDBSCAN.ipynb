{
 "cells": [
  {
   "cell_type": "markdown",
   "metadata": {},
   "source": [
    "# HDBSCAN should work well on embedding representations"
   ]
  },
  {
   "cell_type": "code",
   "execution_count": 1,
   "metadata": {},
   "outputs": [],
   "source": [
    "import os\n",
    "import re\n",
    "import json\n",
    "import hdbscan\n",
    "\n",
    "import numpy as np\n",
    "import pandas as pd\n",
    "\n",
    "from sklearn.decomposition import PCA\n",
    "from collections import Counter\n",
    "import matplotlib.pyplot as plt\n",
    "\n",
    "import lib.helper as helper\n",
    "import lib.embedding_models as reps\n",
    "\n",
    "from importlib import reload\n",
    "\n",
    "%matplotlib inline"
   ]
  },
  {
   "cell_type": "markdown",
   "metadata": {},
   "source": [
    "## 1.  Retrieve Corpus\n",
    "\n",
    "The corpus is being scraped by the \"run_news_scrapes.py\" script (and windows task scheduler) every 12 hours, a bit past midday and a bit past midnight.\n",
    "\n",
    "The \"bing\" corpus are news titles and text extracts gotten from the bing news search API, using a few Home Office - related keywords.\n",
    "\n",
    "The \"RSS\" corpus is plugged directly into a number of RSS feeds for world news sites and local british news sites, with no filters for news story types or subjects applied."
   ]
  },
  {
   "cell_type": "code",
   "execution_count": 2,
   "metadata": {},
   "outputs": [
    {
     "name": "stdout",
     "output_type": "stream",
     "text": [
      "Total files: 495\n",
      "9.9 percent of files read.\n",
      "19.8 percent of files read.\n",
      "29.7 percent of files read.\n",
      "39.6 percent of files read.\n",
      "49.5 percent of files read.\n",
      "59.4 percent of files read.\n",
      "69.3 percent of files read.\n",
      "79.2 percent of files read.\n",
      "89.1 percent of files read.\n",
      "99.0 percent of files read.\n",
      "(31393, 9)\n"
     ]
    },
    {
     "data": {
      "text/html": [
       "<div>\n",
       "<style scoped>\n",
       "    .dataframe tbody tr th:only-of-type {\n",
       "        vertical-align: middle;\n",
       "    }\n",
       "\n",
       "    .dataframe tbody tr th {\n",
       "        vertical-align: top;\n",
       "    }\n",
       "\n",
       "    .dataframe thead th {\n",
       "        text-align: right;\n",
       "    }\n",
       "</style>\n",
       "<table border=\"1\" class=\"dataframe\">\n",
       "  <thead>\n",
       "    <tr style=\"text-align: right;\">\n",
       "      <th></th>\n",
       "      <th>index</th>\n",
       "      <th>title</th>\n",
       "      <th>summary</th>\n",
       "      <th>date</th>\n",
       "      <th>link</th>\n",
       "      <th>source_url</th>\n",
       "      <th>retrieval_timestamp</th>\n",
       "      <th>origin</th>\n",
       "      <th>clean_text</th>\n",
       "    </tr>\n",
       "    <tr>\n",
       "      <th>node</th>\n",
       "      <th></th>\n",
       "      <th></th>\n",
       "      <th></th>\n",
       "      <th></th>\n",
       "      <th></th>\n",
       "      <th></th>\n",
       "      <th></th>\n",
       "      <th></th>\n",
       "      <th></th>\n",
       "    </tr>\n",
       "  </thead>\n",
       "  <tbody>\n",
       "    <tr>\n",
       "      <th>0</th>\n",
       "      <td>0</td>\n",
       "      <td>Hurricane Dorian lashes US as Bahamas counts cost</td>\n",
       "      <td>Life-threatening US storm surges are feared, a...</td>\n",
       "      <td>Thu, 05 Sep 2019 16:03:44 GMT</td>\n",
       "      <td>https://www.bbc.co.uk/news/world-us-canada-495...</td>\n",
       "      <td>http://feeds.bbci.co.uk/news/world/rss.xml</td>\n",
       "      <td>2019-09-05 21:35:06.925873</td>\n",
       "      <td>rss_feed</td>\n",
       "      <td>Hurricane Dorian lashes US as Bahamas counts c...</td>\n",
       "    </tr>\n",
       "    <tr>\n",
       "      <th>1</th>\n",
       "      <td>1</td>\n",
       "      <td>Kohistan video murders: Three guilty in 'honou...</td>\n",
       "      <td>They are relatives of a group of Pakistani wom...</td>\n",
       "      <td>Thu, 05 Sep 2019 13:53:17 GMT</td>\n",
       "      <td>https://www.bbc.co.uk/news/world-asia-49592540</td>\n",
       "      <td>http://feeds.bbci.co.uk/news/world/rss.xml</td>\n",
       "      <td>2019-09-05 21:35:06.925873</td>\n",
       "      <td>rss_feed</td>\n",
       "      <td>Kohistan video murders: Three guilty in 'honou...</td>\n",
       "    </tr>\n",
       "    <tr>\n",
       "      <th>2</th>\n",
       "      <td>2</td>\n",
       "      <td>MH17 Ukraine plane crash: 'Key witness' released</td>\n",
       "      <td>A Ukrainian court releases a potentially key w...</td>\n",
       "      <td>Thu, 05 Sep 2019 13:46:06 GMT</td>\n",
       "      <td>https://www.bbc.co.uk/news/world-europe-49591148</td>\n",
       "      <td>http://feeds.bbci.co.uk/news/world/rss.xml</td>\n",
       "      <td>2019-09-05 21:35:06.925873</td>\n",
       "      <td>rss_feed</td>\n",
       "      <td>MH17 Ukraine plane crash: 'Key witness' releas...</td>\n",
       "    </tr>\n",
       "    <tr>\n",
       "      <th>3</th>\n",
       "      <td>3</td>\n",
       "      <td>Article 370: The weddings 'ruined' by Kashmir'...</td>\n",
       "      <td>Indian-administered Kashmir is under a securit...</td>\n",
       "      <td>Thu, 05 Sep 2019 07:32:34 GMT</td>\n",
       "      <td>https://www.bbc.co.uk/news/world-asia-india-49...</td>\n",
       "      <td>http://feeds.bbci.co.uk/news/world/rss.xml</td>\n",
       "      <td>2019-09-05 21:35:06.925873</td>\n",
       "      <td>rss_feed</td>\n",
       "      <td>Article 70: The weddings 'ruined' by Kashmir's...</td>\n",
       "    </tr>\n",
       "    <tr>\n",
       "      <th>4</th>\n",
       "      <td>4</td>\n",
       "      <td>Syria war: Turkey warns Europe of new migrant ...</td>\n",
       "      <td>President Erdogan demands international help t...</td>\n",
       "      <td>Thu, 05 Sep 2019 16:11:48 GMT</td>\n",
       "      <td>https://www.bbc.co.uk/news/world-europe-49599297</td>\n",
       "      <td>http://feeds.bbci.co.uk/news/world/rss.xml</td>\n",
       "      <td>2019-09-05 21:35:06.925873</td>\n",
       "      <td>rss_feed</td>\n",
       "      <td>Syria war: Turkey warns Europe of new migrant ...</td>\n",
       "    </tr>\n",
       "  </tbody>\n",
       "</table>\n",
       "</div>"
      ],
      "text/plain": [
       "      index                                              title  \\\n",
       "node                                                             \n",
       "0         0  Hurricane Dorian lashes US as Bahamas counts cost   \n",
       "1         1  Kohistan video murders: Three guilty in 'honou...   \n",
       "2         2   MH17 Ukraine plane crash: 'Key witness' released   \n",
       "3         3  Article 370: The weddings 'ruined' by Kashmir'...   \n",
       "4         4  Syria war: Turkey warns Europe of new migrant ...   \n",
       "\n",
       "                                                summary  \\\n",
       "node                                                      \n",
       "0     Life-threatening US storm surges are feared, a...   \n",
       "1     They are relatives of a group of Pakistani wom...   \n",
       "2     A Ukrainian court releases a potentially key w...   \n",
       "3     Indian-administered Kashmir is under a securit...   \n",
       "4     President Erdogan demands international help t...   \n",
       "\n",
       "                               date  \\\n",
       "node                                  \n",
       "0     Thu, 05 Sep 2019 16:03:44 GMT   \n",
       "1     Thu, 05 Sep 2019 13:53:17 GMT   \n",
       "2     Thu, 05 Sep 2019 13:46:06 GMT   \n",
       "3     Thu, 05 Sep 2019 07:32:34 GMT   \n",
       "4     Thu, 05 Sep 2019 16:11:48 GMT   \n",
       "\n",
       "                                                   link  \\\n",
       "node                                                      \n",
       "0     https://www.bbc.co.uk/news/world-us-canada-495...   \n",
       "1        https://www.bbc.co.uk/news/world-asia-49592540   \n",
       "2      https://www.bbc.co.uk/news/world-europe-49591148   \n",
       "3     https://www.bbc.co.uk/news/world-asia-india-49...   \n",
       "4      https://www.bbc.co.uk/news/world-europe-49599297   \n",
       "\n",
       "                                      source_url         retrieval_timestamp  \\\n",
       "node                                                                           \n",
       "0     http://feeds.bbci.co.uk/news/world/rss.xml  2019-09-05 21:35:06.925873   \n",
       "1     http://feeds.bbci.co.uk/news/world/rss.xml  2019-09-05 21:35:06.925873   \n",
       "2     http://feeds.bbci.co.uk/news/world/rss.xml  2019-09-05 21:35:06.925873   \n",
       "3     http://feeds.bbci.co.uk/news/world/rss.xml  2019-09-05 21:35:06.925873   \n",
       "4     http://feeds.bbci.co.uk/news/world/rss.xml  2019-09-05 21:35:06.925873   \n",
       "\n",
       "        origin                                         clean_text  \n",
       "node                                                               \n",
       "0     rss_feed  Hurricane Dorian lashes US as Bahamas counts c...  \n",
       "1     rss_feed  Kohistan video murders: Three guilty in 'honou...  \n",
       "2     rss_feed  MH17 Ukraine plane crash: 'Key witness' releas...  \n",
       "3     rss_feed  Article 70: The weddings 'ruined' by Kashmir's...  \n",
       "4     rss_feed  Syria war: Turkey warns Europe of new migrant ...  "
      ]
     },
     "execution_count": 2,
     "metadata": {},
     "output_type": "execute_result"
    }
   ],
   "source": [
    "# Should be same path for all my PC's, it's where each scrape goes as a separate json file.\n",
    "storage_path = \"D:/Dropbox/news_crow/scrape_results\"\n",
    "\n",
    "# \"bing\" is targeted news search corpus, \"RSS\" is from specific world and local news feeds.\n",
    "corpus_type = \"RSS\"\n",
    "\n",
    "# Load up\n",
    "corpus = helper.load_clean_world_corpus(storage_path, corpus_type)\n",
    "\n",
    "# Make sure after cleaning etc it's indexed from 0\n",
    "corpus.reset_index(inplace=True)\n",
    "corpus.index.name = \"node\"\n",
    "\n",
    "# See how it turned out\n",
    "print(corpus.shape)\n",
    "corpus.head()"
   ]
  },
  {
   "cell_type": "markdown",
   "metadata": {},
   "source": [
    "## 2.  Build Text Model (Representation, eg; word2vec, entities list...)\n",
    "\n",
    "- Trying with the world corpus and with the bing corpus, neither worked with InferSent.  Suspect the problem lies in the PCA step, which may not be working well on this high-dimensional (vector length = 4096) form.\n",
    "- Summed keywords works rather better with the world corpus.\n",
    "- Summed keywords still fail the bing/home office corpus, giving me a cluster about \"immigration\" and a cluster for the American Supreme Court."
   ]
  },
  {
   "cell_type": "raw",
   "metadata": {},
   "source": [
    "# Windows didn't play nicely with the vector datasets, Some obscure encoding problem (python in Conda\n",
    "# kept trying to decode using cp1252 regardless of whatever other options I specified!)\n",
    "# Solution; rewrite file and drop any characters the Windows encoder refuses to recognise.\n",
    "# I shouldn't loose too much info.\n",
    "with open('./lib/InferSent/dataset/fastText/crawl-300d-2M.vec', \"r\", encoding=\"cp1252\", errors=\"ignore\") as infile:\n",
    "    with open('./lib/InferSent/dataset/fastText/crawl-300d-2M_win.vec', \"wb\") as outfile:\n",
    "        for line in infile:\n",
    "            outfile.write(line.encode('cp1252'))"
   ]
  },
  {
   "cell_type": "raw",
   "metadata": {},
   "source": [
    "infersent = reps.InferSentModel(list(corpus['clean_text']),\n",
    "                                list(corpus['clean_text']),\n",
    "                                W2V_PATH = './lib/InferSent/dataset/fastText/crawl-300d-2M_win.vec')\n",
    "\n",
    "embeddings = infersent.get_embeddings()"
   ]
  },
  {
   "cell_type": "raw",
   "metadata": {},
   "source": [
    "reload(reps)"
   ]
  },
  {
   "cell_type": "raw",
   "metadata": {
    "scrolled": true
   },
   "source": [
    "# Whereas this worked first time!\n",
    "glove = reps.GloveWordModel(list(corpus['clean_text']), list(corpus['clean_text']))\n",
    "\n",
    "embeddings = glove.get_embeddings()"
   ]
  },
  {
   "cell_type": "raw",
   "metadata": {},
   "source": [
    "# Turn that into a DF for me\n",
    "embeddings_df = pd.DataFrame({\"clean_text\": list(embeddings.keys()),\n",
    "                              \"embeddings\": list(embeddings.values())})\n",
    "embeddings_df.shape"
   ]
  },
  {
   "cell_type": "raw",
   "metadata": {},
   "source": [
    "corpus.merge(embeddings_df, how=\"left\", on=\"clean_text\")"
   ]
  },
  {
   "cell_type": "markdown",
   "metadata": {},
   "source": [
    "## 2a.  Try a really simple averaged word vector model!\n",
    "\n",
    "With a complex noun extraction function 'cause that part's slow so I multi-threaded it."
   ]
  },
  {
   "cell_type": "code",
   "execution_count": 55,
   "metadata": {},
   "outputs": [],
   "source": [
    "from gensim.models import Word2Vec\n",
    "import spacy\n",
    "nlp = spacy.load('en_core_web_sm')\n",
    "from gensim.models.phrases import Phrases, Phraser\n",
    "\n",
    "# Set vector size\n",
    "vec_size = 100"
   ]
  },
  {
   "cell_type": "code",
   "execution_count": 56,
   "metadata": {},
   "outputs": [],
   "source": [
    "def get_phrased_nouns(sentences):\n",
    "    \"\"\" Use spacy to get all of the actual entities, conjoin bigram nouns. \"\"\"\n",
    "\n",
    "    # Get the lists of nouns\n",
    "    noun_lists = []\n",
    "    for doc in sentences:\n",
    "        parsed = nlp(doc)\n",
    "        noun_lists.append([token.lemma_ for token in parsed if token.pos_ == 'PROPN'])\n",
    "\n",
    "    # Build the phrase model\n",
    "    phrases = Phrases(noun_lists, min_count=5, threshold=0.5)\n",
    "\n",
    "    # Get the set of phrases present in the model\n",
    "    results = []\n",
    "    for nouns in noun_lists:\n",
    "        results.append(phrases[nouns])\n",
    "\n",
    "    return results\n",
    "\n",
    "# Get phrase-conjoined, lemmatized tokens\n",
    "test = get_phrased_nouns(corpus['clean_text'])\n",
    "\n",
    "# Detect and conjoin bigrams\n",
    "model = Word2Vec(test, size=vec_size, window=5, min_count=1, workers=10)"
   ]
  },
  {
   "cell_type": "code",
   "execution_count": 57,
   "metadata": {},
   "outputs": [],
   "source": [
    "def get_averaged_vec(token_list, model):\n",
    "    \n",
    "    vecs = []\n",
    "    for token in token_list:\n",
    "        try:\n",
    "            vector = model.wv[token]\n",
    "        except: \n",
    "            vector = np.zeros(vec_size)\n",
    "        vecs.append(vector)\n",
    "    \n",
    "    if len(vecs) > 0:\n",
    "        return np.mean(np.asarray(vecs), axis=0)\n",
    "    else:\n",
    "        return np.zeros(vec_size)"
   ]
  },
  {
   "cell_type": "code",
   "execution_count": 58,
   "metadata": {},
   "outputs": [],
   "source": [
    "vectors = [get_averaged_vec(tokens, model) for tokens in test]"
   ]
  },
  {
   "cell_type": "markdown",
   "metadata": {},
   "source": [
    "## 3. Cluster Text\n",
    "\n",
    "This is the part where the pipelines get a little more experimental\n",
    "- First; PCA (HDBSCAN prefers < 50 dimensions if possible) (also, try just fitting 50 vectors!)\n",
    "- Second; HDBSCAN clustering"
   ]
  },
  {
   "cell_type": "code",
   "execution_count": 59,
   "metadata": {},
   "outputs": [
    {
     "name": "stdout",
     "output_type": "stream",
     "text": [
      "[9.95546554e-01 1.83023271e-03 1.32128478e-03 5.15654016e-04\n",
      " 1.40637464e-04 1.02497812e-04 4.48321893e-05 3.18790227e-05\n",
      " 2.21834075e-05 1.82960419e-05 1.65093099e-05 1.55999975e-05\n",
      " 1.40713951e-05 1.31120630e-05 1.25442652e-05 1.18554832e-05\n",
      " 1.09476593e-05 1.00623228e-05 9.41338532e-06 9.32854013e-06]\n",
      "[160.61727213   6.88675473   5.85139849   3.65544843   1.90902656\n",
      "   1.62974162   1.0778453    0.90889551   0.7581857    0.68855721\n",
      "   0.65407254   0.63580468   0.60385134   0.58290392   0.57014336\n",
      "   0.55426964   0.53262567   0.510635     0.49389471   0.49166388]\n"
     ]
    }
   ],
   "source": [
    "embeddings_array = np.vstack(vectors)\n",
    "\n",
    "# First, PCA the data\n",
    "pca = PCA(n_components=20, svd_solver='full')\n",
    "\n",
    "# Fit and check\n",
    "embeddings_pca = pca.fit_transform(embeddings_array)\n",
    "\n",
    "# Diagnostic stats - both should show exponential decay\n",
    "print(pca.explained_variance_ratio_)\n",
    "print(pca.singular_values_) "
   ]
  },
  {
   "cell_type": "code",
   "execution_count": 60,
   "metadata": {
    "scrolled": true
   },
   "outputs": [
    {
     "data": {
      "text/plain": [
       "Counter({-1: 23375,\n",
       "         199: 888,\n",
       "         207: 2901,\n",
       "         173: 14,\n",
       "         49: 24,\n",
       "         5: 103,\n",
       "         24: 36,\n",
       "         11: 36,\n",
       "         63: 21,\n",
       "         14: 33,\n",
       "         204: 31,\n",
       "         67: 5,\n",
       "         4: 42,\n",
       "         115: 23,\n",
       "         30: 13,\n",
       "         54: 30,\n",
       "         72: 9,\n",
       "         86: 28,\n",
       "         0: 65,\n",
       "         87: 86,\n",
       "         125: 5,\n",
       "         99: 7,\n",
       "         23: 17,\n",
       "         36: 8,\n",
       "         12: 48,\n",
       "         111: 22,\n",
       "         156: 12,\n",
       "         82: 18,\n",
       "         135: 49,\n",
       "         33: 17,\n",
       "         177: 5,\n",
       "         102: 16,\n",
       "         136: 29,\n",
       "         45: 5,\n",
       "         37: 13,\n",
       "         80: 11,\n",
       "         62: 6,\n",
       "         8: 21,\n",
       "         64: 19,\n",
       "         155: 12,\n",
       "         18: 44,\n",
       "         109: 26,\n",
       "         134: 22,\n",
       "         19: 17,\n",
       "         92: 6,\n",
       "         104: 23,\n",
       "         123: 54,\n",
       "         2: 6,\n",
       "         166: 27,\n",
       "         137: 22,\n",
       "         57: 15,\n",
       "         35: 34,\n",
       "         6: 11,\n",
       "         56: 21,\n",
       "         168: 6,\n",
       "         101: 11,\n",
       "         126: 5,\n",
       "         185: 5,\n",
       "         117: 5,\n",
       "         171: 18,\n",
       "         103: 7,\n",
       "         50: 7,\n",
       "         15: 18,\n",
       "         132: 17,\n",
       "         206: 55,\n",
       "         34: 10,\n",
       "         32: 28,\n",
       "         98: 19,\n",
       "         162: 176,\n",
       "         113: 24,\n",
       "         196: 15,\n",
       "         159: 9,\n",
       "         187: 7,\n",
       "         202: 19,\n",
       "         191: 23,\n",
       "         172: 22,\n",
       "         198: 13,\n",
       "         122: 5,\n",
       "         81: 33,\n",
       "         189: 17,\n",
       "         183: 18,\n",
       "         10: 13,\n",
       "         154: 15,\n",
       "         22: 73,\n",
       "         193: 42,\n",
       "         106: 8,\n",
       "         127: 5,\n",
       "         153: 13,\n",
       "         165: 6,\n",
       "         130: 16,\n",
       "         151: 5,\n",
       "         116: 5,\n",
       "         157: 20,\n",
       "         73: 5,\n",
       "         195: 7,\n",
       "         129: 5,\n",
       "         182: 12,\n",
       "         169: 11,\n",
       "         186: 69,\n",
       "         200: 8,\n",
       "         28: 17,\n",
       "         89: 22,\n",
       "         197: 26,\n",
       "         83: 14,\n",
       "         88: 32,\n",
       "         31: 17,\n",
       "         188: 20,\n",
       "         1: 19,\n",
       "         7: 42,\n",
       "         39: 14,\n",
       "         51: 5,\n",
       "         74: 11,\n",
       "         52: 5,\n",
       "         152: 5,\n",
       "         26: 22,\n",
       "         68: 30,\n",
       "         194: 7,\n",
       "         79: 5,\n",
       "         203: 21,\n",
       "         100: 9,\n",
       "         175: 5,\n",
       "         176: 23,\n",
       "         110: 6,\n",
       "         42: 12,\n",
       "         149: 65,\n",
       "         90: 29,\n",
       "         119: 6,\n",
       "         201: 15,\n",
       "         17: 31,\n",
       "         46: 7,\n",
       "         150: 6,\n",
       "         163: 6,\n",
       "         60: 6,\n",
       "         16: 6,\n",
       "         158: 6,\n",
       "         93: 6,\n",
       "         75: 8,\n",
       "         190: 6,\n",
       "         48: 16,\n",
       "         43: 11,\n",
       "         27: 5,\n",
       "         53: 8,\n",
       "         164: 5,\n",
       "         78: 5,\n",
       "         25: 6,\n",
       "         29: 7,\n",
       "         9: 13,\n",
       "         133: 7,\n",
       "         174: 26,\n",
       "         59: 58,\n",
       "         97: 11,\n",
       "         128: 8,\n",
       "         144: 81,\n",
       "         161: 7,\n",
       "         94: 18,\n",
       "         13: 45,\n",
       "         71: 8,\n",
       "         85: 5,\n",
       "         146: 17,\n",
       "         96: 24,\n",
       "         3: 57,\n",
       "         41: 215,\n",
       "         108: 5,\n",
       "         178: 9,\n",
       "         145: 10,\n",
       "         61: 17,\n",
       "         141: 109,\n",
       "         70: 91,\n",
       "         55: 15,\n",
       "         124: 25,\n",
       "         69: 18,\n",
       "         65: 5,\n",
       "         114: 40,\n",
       "         184: 9,\n",
       "         47: 23,\n",
       "         143: 7,\n",
       "         142: 18,\n",
       "         192: 6,\n",
       "         77: 13,\n",
       "         167: 7,\n",
       "         95: 19,\n",
       "         66: 48,\n",
       "         38: 7,\n",
       "         84: 13,\n",
       "         205: 6,\n",
       "         76: 7,\n",
       "         147: 6,\n",
       "         131: 6,\n",
       "         44: 20,\n",
       "         179: 8,\n",
       "         148: 14,\n",
       "         105: 20,\n",
       "         107: 22,\n",
       "         138: 16,\n",
       "         139: 7,\n",
       "         121: 16,\n",
       "         160: 5,\n",
       "         170: 12,\n",
       "         118: 13,\n",
       "         112: 5,\n",
       "         120: 6,\n",
       "         180: 7,\n",
       "         140: 9,\n",
       "         181: 7,\n",
       "         91: 6,\n",
       "         40: 12,\n",
       "         20: 16,\n",
       "         21: 12,\n",
       "         58: 5})"
      ]
     },
     "execution_count": 60,
     "metadata": {},
     "output_type": "execute_result"
    }
   ],
   "source": [
    "# Clusterer fitting\n",
    "clusterer = hdbscan.HDBSCAN(min_cluster_size=5, min_samples=10)\n",
    "clusterer.fit(embeddings_pca)\n",
    "\n",
    "# Examine results\n",
    "Counter(clusterer.labels_)"
   ]
  },
  {
   "cell_type": "code",
   "execution_count": 61,
   "metadata": {},
   "outputs": [
    {
     "data": {
      "text/plain": [
       "74.45927436052624"
      ]
     },
     "execution_count": 61,
     "metadata": {},
     "output_type": "execute_result"
    }
   ],
   "source": [
    "# Diagnostic - calculate percentage of records assigned \"outlier\"\n",
    "100.0 * sum(clusterer.labels_ == -1) / clusterer.labels_.shape[0]"
   ]
  },
  {
   "cell_type": "code",
   "execution_count": 62,
   "metadata": {
    "scrolled": true
   },
   "outputs": [
    {
     "data": {
      "text/plain": [
       "209"
      ]
     },
     "execution_count": 62,
     "metadata": {},
     "output_type": "execute_result"
    }
   ],
   "source": [
    "len(pd.unique(clusterer.labels_))"
   ]
  },
  {
   "cell_type": "raw",
   "metadata": {},
   "source": [
    "For disaster, 50-len W2V direct, 156 clusters, 75 % outlier\n",
    "For disaster, 50-len W2V pca-d, 220 clusters, 77 % outlier\n",
    "For disaster, 100-len W2V direct, 220 clusters, 73 % outlier\n",
    "For disaster, 100-len W2V pca-d, 248 clusters, 73 % outlier\n",
    "for RSS, 100-len W2V pca-d, 206 clusters, actual rate ~ 20 %\n",
    "for RSS, 150-len W2V pca-d, ~240 clusters, actual rate ~ 20 %\n",
    "for RSS, 50-len W2V pca-d, ~190 clusters, actual rate ~ 20 %\n",
    "\n",
    "Seems like regardless, there's a big \"mess\" cluster and only ~ 20 % shunted into smaller clusters of various sizes.  So that's 4/5th's of the news regarded as not being a coherent single story.  That's interesting!"
   ]
  },
  {
   "cell_type": "code",
   "execution_count": 63,
   "metadata": {},
   "outputs": [
    {
     "name": "stderr",
     "output_type": "stream",
     "text": [
      "C:\\ProgramData\\Anaconda3\\lib\\site-packages\\hdbscan\\hdbscan_.py:1052: RuntimeWarning: invalid value encountered in double_scalars\n",
      "  self._outlier_scores = outlier_scores(self._condensed_tree)\n"
     ]
    }
   ],
   "source": [
    "# Record cluster each was assigned to\n",
    "corpus['cluster'] = clusterer.labels_\n",
    "\n",
    "# Record the reverse of outlier score (therefore, higher number = higher certainty of membership)\n",
    "corpus['score'] = 1.0 - clusterer.outlier_scores_\n",
    "\n",
    "corpus.to_csv(\"working/RSS_clustered_w2v_pca.csv\", index=False)"
   ]
  },
  {
   "cell_type": "code",
   "execution_count": 71,
   "metadata": {},
   "outputs": [
    {
     "data": {
      "text/plain": [
       "-0.7346563109058696"
      ]
     },
     "execution_count": 71,
     "metadata": {},
     "output_type": "execute_result"
    }
   ],
   "source": [
    "# For calculating silhouette score, a gauge of how well separated clusters\n",
    "# are in some spatial representation\n",
    "from sklearn.metrics import silhouette_score\n",
    "\n",
    "score = silhouette_score(embeddings_array, clusterer.labels_, metric=\"cosine\")\n",
    "score"
   ]
  },
  {
   "cell_type": "code",
   "execution_count": 69,
   "metadata": {},
   "outputs": [
    {
     "name": "stdout",
     "output_type": "stream",
     "text": [
      "c_v: 0.536\n",
      "c_npmi: 0.0495\n",
      "Average document word count: 39.30287006657535\n",
      "Number of documents: 31393\n",
      "Latest record: Wed, 9 Oct 2019 21:52:38 +0000\n",
      "Earliest record: Fri, 01 May 2020 00:18:25 GMT\n",
      "Number of clusters: 209\n",
      "Median cluster size: 14.0\n",
      "Clustered docs: 25.5%\n",
      "\n",
      "Best Performant (C_v)!\n",
      "2395    US bomb sniffing dogs sent to Jordan dying fro...\n",
      "3570    Trump impeachment inquiry: Pompeo subpoenaed b...\n",
      "4682    Samuel Little: Most prolific serial killer in ...\n",
      "5799    Chinese diplomats must notify their moves in U...\n",
      "Name: clean_text, dtype: object\n",
      "16321    Dad who wrongly thought he had coronavirus han...\n",
      "19945    apos;We need to do everything nowapos;: Los An...\n",
      "21422    Coronavirus deaths in Spain rise by 88 to 6,52...\n",
      "22013    Coronavirus: San Francisco to house thousands ...\n",
      "Name: clean_text, dtype: object\n",
      "740     British-Iranian academic arrested in Iran amid...\n",
      "1237    Iran begins injecting uranium into advanced ce...\n",
      "6250    Russian hackers cloak attacks using Iranian gr...\n",
      "9016    Iran petrol price hike: Protests erupt over su...\n",
      "Name: clean_text, dtype: object\n",
      "15657    Boris Johnsonapos;s father meets Chinese offic...\n",
      "16181    Experts warn it’s ‘too late’ to stop coronavir...\n",
      "16978    Prankster who faked coronavirus on packed comm...\n",
      "17776    Family booted off flight after complaints coug...\n",
      "Name: clean_text, dtype: object\n",
      "\n",
      "Worst Performant (C_v)!\n",
      "5569     Lebanon battles worst wildfires in decades. Fi...\n",
      "6121     Calls for revolution at Lebanon protests. Thou...\n",
      "13987    Lebanon protests: Anti-government protesters c...\n",
      "29443    Lebanon protests escalate as currency dives. T...\n",
      "Name: clean_text, dtype: object\n",
      "1747    Australia bushfires are now 'hotter and more i...\n",
      "8551    Australia declares state of emergency as 'cata...\n",
      "8745    Australia bushfires: How extreme 'firestorms' ...\n",
      "9251    Air quality: How bad are Australia's fires for...\n",
      "Name: clean_text, dtype: object\n",
      "14547    Prince Charles appears to snub US vice preside...\n",
      "19766    Coronavirus: Quarter of Seattle Life Care Cent...\n",
      "23111    Nurse describes 48 hours of horror inside coro...\n",
      "23227    apos;Scripture commands me to lay hands on peo...\n",
      "Name: clean_text, dtype: object\n",
      "535     British government official in Hong Kong detai...\n",
      "749     Chinaapos;s information war is trying to turn ...\n",
      "1671    Hong Kong protesters sing and boo China anthem...\n",
      "2329    Hong Kong: Looking back at 100 days of protest...\n",
      "Name: clean_text, dtype: object\n",
      "\n",
      "Most Populated!\n",
      "2039     Disgraced politician John Profumo’s great-neph...\n",
      "17798    Coronavirus – Spanish doctor caught trying to ...\n",
      "17982    Teacher at Tenerife coronavirus hotel says hel...\n",
      "21277    Europe’s youngest coronavirus victim, 16, ‘jus...\n",
      "Name: clean_text, dtype: object\n",
      "492     Trump apos;seriouslyapos; considering ending b...\n",
      "694     Across the border from El Paso, tens of thousa...\n",
      "1339    Kevin Hart ‘slowly walking’ after horror crash...\n",
      "4017    Georgia abortion law: Judge temporarily blocks...\n",
      "Name: clean_text, dtype: object\n",
      "15107    Iran attack: More US soldiers diagnosed with b...\n",
      "16534    Coronavirus: US will start testing people with...\n",
      "16944    Coronavirus: US passengers evacuated from crui...\n",
      "19318    Iraq rocket attack: One Brit and two Americans...\n",
      "Name: clean_text, dtype: object\n",
      "9301     Turkey apos;bans cyanideapos; after spate of m...\n",
      "14439    apos;Marry-your-rapistapos; bill to be introdu...\n",
      "14716    Turkey earthquake: At least 14 dead as buildin...\n",
      "14736    Turkey earthquake: 18 dead and buildings colla...\n",
      "Name: clean_text, dtype: object\n"
     ]
    },
    {
     "data": {
      "image/png": "[encoded data removed]",
      "text/plain": [
       "<Figure size 1080x360 with 3 Axes>"
      ]
     },
     "metadata": {
      "needs_background": "light"
     },
     "output_type": "display_data"
    }
   ],
   "source": [
    "coherences = helper.report_corpus_model_coherence(\"working/RSS_clustered_w2v_pca.csv\")"
   ]
  },
  {
   "cell_type": "markdown",
   "metadata": {},
   "source": [
    "## 4. Cluster text with Spectral Clustering\n",
    "Not working on high-dimensional data"
   ]
  },
  {
   "cell_type": "code",
   "execution_count": 114,
   "metadata": {},
   "outputs": [],
   "source": [
    "from sklearn.metrics.pairwise import cosine_similarity"
   ]
  },
  {
   "cell_type": "code",
   "execution_count": 115,
   "metadata": {},
   "outputs": [],
   "source": [
    "# Create an adjacency matrix from cosine distances between document vectors\n",
    "embeddings_array = np.vstack(vectors)\n",
    "adjacencies = cosine_similarity(embeddings_array)"
   ]
  },
  {
   "cell_type": "code",
   "execution_count": 116,
   "metadata": {},
   "outputs": [
    {
     "name": "stderr",
     "output_type": "stream",
     "text": [
      "C:\\ProgramData\\Anaconda3\\lib\\site-packages\\sklearn\\cluster\\_spectral.py:484: UserWarning: The spectral clustering API has changed. ``fit``now constructs an affinity matrix from data. To use a custom affinity matrix, set ``affinity=precomputed``.\n",
      "  warnings.warn(\"The spectral clustering API has changed. ``fit``\"\n"
     ]
    }
   ],
   "source": [
    "# Create and fit the clustering model\n",
    "from sklearn.cluster import SpectralClustering\n",
    "\n",
    "clustering = SpectralClustering(n_clusters=66)\n",
    "labels = clustering.fit_predict(adjacencies)\n",
    "pd.Series(labels).value_counts()"
   ]
  },
  {
   "cell_type": "code",
   "execution_count": 118,
   "metadata": {},
   "outputs": [
    {
     "name": "stderr",
     "output_type": "stream",
     "text": [
      "C:\\ProgramData\\Anaconda3\\lib\\site-packages\\sklearn\\cluster\\_affinity_propagation.py:152: FutureWarning: 'random_state' has been introduced in 0.23. It will be set to None starting from 0.25 which means that results will differ at every function call. Set 'random_state' to None to silence this warning, or to 0 to keep the behavior of versions <0.23.\n",
      "  FutureWarning)\n",
      "C:\\ProgramData\\Anaconda3\\lib\\site-packages\\sklearn\\cluster\\_affinity_propagation.py:244: ConvergenceWarning: Affinity propagation did not converge, this model will not have any cluster centers.\n",
      "  \"will not have any cluster centers.\", ConvergenceWarning)\n"
     ]
    },
    {
     "data": {
      "text/plain": [
       "-1    31393\n",
       "dtype: int64"
      ]
     },
     "execution_count": 118,
     "metadata": {},
     "output_type": "execute_result"
    }
   ],
   "source": [
    "from sklearn.cluster import AffinityPropagation\n",
    "\n",
    "ap = AffinityPropagation()\n",
    "ap.fit(embeddings_array)\n",
    "labels = ap.labels_\n",
    "pd.Series(labels).value_counts()"
   ]
  },
  {
   "cell_type": "code",
   "execution_count": 119,
   "metadata": {},
   "outputs": [
    {
     "name": "stdout",
     "output_type": "stream",
     "text": [
      "k-means trial 0\n"
     ]
    },
    {
     "ename": "ValueError",
     "evalue": "Expected 2D array, got 1D array instead:\narray=[-0.09678844 -0.04914731 -0.0918996   0.03148106  0.00692426  0.02474998\n -0.0310649  -0.02250112  0.05037763  0.05495568 -0.04182899  0.10333367\n -0.05581373  0.01879965 -0.07700264 -0.03032341 -0.03557343  0.06771304\n  0.02605025  0.06973264 -0.02110648 -0.02923694 -0.05119487 -0.01076027\n  0.00174566  0.0030407   0.02972826  0.02488391 -0.01659029  0.03182782\n  0.02854276  0.01147087 -0.07295819  0.03566049 -0.0223949   0.04332376\n  0.1364155   0.037664   -0.01921118 -0.00619069 -0.00109907 -0.03387676\n -0.04258525 -0.04437709 -0.02700844  0.02641395  0.0064106  -0.05381642\n  0.02613112  0.00205968 -0.00765213 -0.00555755 -0.0157114  -0.03708303\n -0.02643336 -0.01312637  0.03380334  0.00098299 -0.00653874 -0.03195605\n  0.0195149   0.11072549 -0.00439097  0.05608417  0.03619593  0.04922133\n -0.01214806  0.0562921  -0.01620516 -0.10049026 -0.00202969  0.03484849\n -0.10684189 -0.05593963 -0.00847917  0.02041832 -0.0543266  -0.02564202\n  0.0250819   0.02892848 -0.02078645  0.00502697 -0.06083879  0.03798278\n -0.03051088 -0.01015564 -0.02967493 -0.02264585 -0.00457275 -0.09688368\n -0.01052988  0.01150251  0.08832052  0.02863958 -0.00195166  0.0557788\n -0.04898931 -0.00822333  0.00799559 -0.0014846 ].\nReshape your data either using array.reshape(-1, 1) if your data has a single feature or array.reshape(1, -1) if it contains a single sample.",
     "output_type": "error",
     "traceback": [
      "\u001b[1;31m---------------------------------------------------------------------------\u001b[0m",
      "\u001b[1;31mValueError\u001b[0m                                Traceback (most recent call last)",
      "\u001b[1;32m<ipython-input-119-0df63951e828>\u001b[0m in \u001b[0;36m<module>\u001b[1;34m\u001b[0m\n\u001b[0;32m      2\u001b[0m \u001b[1;33m\u001b[0m\u001b[0m\n\u001b[0;32m      3\u001b[0m \u001b[0mkmc\u001b[0m \u001b[1;33m=\u001b[0m \u001b[0mKMeansClusterer\u001b[0m\u001b[1;33m(\u001b[0m\u001b[0mnum_means\u001b[0m\u001b[1;33m=\u001b[0m\u001b[1;36m60\u001b[0m\u001b[1;33m,\u001b[0m \u001b[0mdistance\u001b[0m\u001b[1;33m=\u001b[0m\u001b[0mcosine_similarity\u001b[0m\u001b[1;33m)\u001b[0m\u001b[1;33m\u001b[0m\u001b[1;33m\u001b[0m\u001b[0m\n\u001b[1;32m----> 4\u001b[1;33m \u001b[0mclusters\u001b[0m \u001b[1;33m=\u001b[0m \u001b[0mkmc\u001b[0m\u001b[1;33m.\u001b[0m\u001b[0mcluster\u001b[0m\u001b[1;33m(\u001b[0m\u001b[0membeddings_array\u001b[0m\u001b[1;33m,\u001b[0m \u001b[1;32mTrue\u001b[0m\u001b[1;33m,\u001b[0m \u001b[0mtrace\u001b[0m\u001b[1;33m=\u001b[0m\u001b[1;32mTrue\u001b[0m\u001b[1;33m)\u001b[0m\u001b[1;33m\u001b[0m\u001b[1;33m\u001b[0m\u001b[0m\n\u001b[0m",
      "\u001b[1;32mC:\\ProgramData\\Anaconda3\\lib\\site-packages\\nltk\\cluster\\util.py\u001b[0m in \u001b[0;36mcluster\u001b[1;34m(self, vectors, assign_clusters, trace)\u001b[0m\n\u001b[0;32m     60\u001b[0m \u001b[1;33m\u001b[0m\u001b[0m\n\u001b[0;32m     61\u001b[0m         \u001b[1;31m# call abstract method to cluster the vectors\u001b[0m\u001b[1;33m\u001b[0m\u001b[1;33m\u001b[0m\u001b[1;33m\u001b[0m\u001b[0m\n\u001b[1;32m---> 62\u001b[1;33m         \u001b[0mself\u001b[0m\u001b[1;33m.\u001b[0m\u001b[0mcluster_vectorspace\u001b[0m\u001b[1;33m(\u001b[0m\u001b[0mvectors\u001b[0m\u001b[1;33m,\u001b[0m \u001b[0mtrace\u001b[0m\u001b[1;33m)\u001b[0m\u001b[1;33m\u001b[0m\u001b[1;33m\u001b[0m\u001b[0m\n\u001b[0m\u001b[0;32m     63\u001b[0m \u001b[1;33m\u001b[0m\u001b[0m\n\u001b[0;32m     64\u001b[0m         \u001b[1;31m# assign the vectors to clusters\u001b[0m\u001b[1;33m\u001b[0m\u001b[1;33m\u001b[0m\u001b[1;33m\u001b[0m\u001b[0m\n",
      "\u001b[1;32mC:\\ProgramData\\Anaconda3\\lib\\site-packages\\nltk\\cluster\\kmeans.py\u001b[0m in \u001b[0;36mcluster_vectorspace\u001b[1;34m(self, vectors, trace)\u001b[0m\n\u001b[0;32m     92\u001b[0m             \u001b[1;32mif\u001b[0m \u001b[1;32mnot\u001b[0m \u001b[0mself\u001b[0m\u001b[1;33m.\u001b[0m\u001b[0m_means\u001b[0m \u001b[1;32mor\u001b[0m \u001b[0mtrial\u001b[0m \u001b[1;33m>\u001b[0m \u001b[1;36m1\u001b[0m\u001b[1;33m:\u001b[0m\u001b[1;33m\u001b[0m\u001b[1;33m\u001b[0m\u001b[0m\n\u001b[0;32m     93\u001b[0m                 \u001b[0mself\u001b[0m\u001b[1;33m.\u001b[0m\u001b[0m_means\u001b[0m \u001b[1;33m=\u001b[0m \u001b[0mself\u001b[0m\u001b[1;33m.\u001b[0m\u001b[0m_rng\u001b[0m\u001b[1;33m.\u001b[0m\u001b[0msample\u001b[0m\u001b[1;33m(\u001b[0m\u001b[0mlist\u001b[0m\u001b[1;33m(\u001b[0m\u001b[0mvectors\u001b[0m\u001b[1;33m)\u001b[0m\u001b[1;33m,\u001b[0m \u001b[0mself\u001b[0m\u001b[1;33m.\u001b[0m\u001b[0m_num_means\u001b[0m\u001b[1;33m)\u001b[0m\u001b[1;33m\u001b[0m\u001b[1;33m\u001b[0m\u001b[0m\n\u001b[1;32m---> 94\u001b[1;33m             \u001b[0mself\u001b[0m\u001b[1;33m.\u001b[0m\u001b[0m_cluster_vectorspace\u001b[0m\u001b[1;33m(\u001b[0m\u001b[0mvectors\u001b[0m\u001b[1;33m,\u001b[0m \u001b[0mtrace\u001b[0m\u001b[1;33m)\u001b[0m\u001b[1;33m\u001b[0m\u001b[1;33m\u001b[0m\u001b[0m\n\u001b[0m\u001b[0;32m     95\u001b[0m             \u001b[0mmeanss\u001b[0m\u001b[1;33m.\u001b[0m\u001b[0mappend\u001b[0m\u001b[1;33m(\u001b[0m\u001b[0mself\u001b[0m\u001b[1;33m.\u001b[0m\u001b[0m_means\u001b[0m\u001b[1;33m)\u001b[0m\u001b[1;33m\u001b[0m\u001b[1;33m\u001b[0m\u001b[0m\n\u001b[0;32m     96\u001b[0m \u001b[1;33m\u001b[0m\u001b[0m\n",
      "\u001b[1;32mC:\\ProgramData\\Anaconda3\\lib\\site-packages\\nltk\\cluster\\kmeans.py\u001b[0m in \u001b[0;36m_cluster_vectorspace\u001b[1;34m(self, vectors, trace)\u001b[0m\n\u001b[0;32m    123\u001b[0m                 \u001b[0mclusters\u001b[0m \u001b[1;33m=\u001b[0m \u001b[1;33m[\u001b[0m\u001b[1;33m[\u001b[0m\u001b[1;33m]\u001b[0m \u001b[1;32mfor\u001b[0m \u001b[0mm\u001b[0m \u001b[1;32min\u001b[0m \u001b[0mrange\u001b[0m\u001b[1;33m(\u001b[0m\u001b[0mself\u001b[0m\u001b[1;33m.\u001b[0m\u001b[0m_num_means\u001b[0m\u001b[1;33m)\u001b[0m\u001b[1;33m]\u001b[0m\u001b[1;33m\u001b[0m\u001b[1;33m\u001b[0m\u001b[0m\n\u001b[0;32m    124\u001b[0m                 \u001b[1;32mfor\u001b[0m \u001b[0mvector\u001b[0m \u001b[1;32min\u001b[0m \u001b[0mvectors\u001b[0m\u001b[1;33m:\u001b[0m\u001b[1;33m\u001b[0m\u001b[1;33m\u001b[0m\u001b[0m\n\u001b[1;32m--> 125\u001b[1;33m                     \u001b[0mindex\u001b[0m \u001b[1;33m=\u001b[0m \u001b[0mself\u001b[0m\u001b[1;33m.\u001b[0m\u001b[0mclassify_vectorspace\u001b[0m\u001b[1;33m(\u001b[0m\u001b[0mvector\u001b[0m\u001b[1;33m)\u001b[0m\u001b[1;33m\u001b[0m\u001b[1;33m\u001b[0m\u001b[0m\n\u001b[0m\u001b[0;32m    126\u001b[0m                     \u001b[0mclusters\u001b[0m\u001b[1;33m[\u001b[0m\u001b[0mindex\u001b[0m\u001b[1;33m]\u001b[0m\u001b[1;33m.\u001b[0m\u001b[0mappend\u001b[0m\u001b[1;33m(\u001b[0m\u001b[0mvector\u001b[0m\u001b[1;33m)\u001b[0m\u001b[1;33m\u001b[0m\u001b[1;33m\u001b[0m\u001b[0m\n\u001b[0;32m    127\u001b[0m \u001b[1;33m\u001b[0m\u001b[0m\n",
      "\u001b[1;32mC:\\ProgramData\\Anaconda3\\lib\\site-packages\\nltk\\cluster\\kmeans.py\u001b[0m in \u001b[0;36mclassify_vectorspace\u001b[1;34m(self, vector)\u001b[0m\n\u001b[0;32m    148\u001b[0m         \u001b[1;32mfor\u001b[0m \u001b[0mindex\u001b[0m \u001b[1;32min\u001b[0m \u001b[0mrange\u001b[0m\u001b[1;33m(\u001b[0m\u001b[0mlen\u001b[0m\u001b[1;33m(\u001b[0m\u001b[0mself\u001b[0m\u001b[1;33m.\u001b[0m\u001b[0m_means\u001b[0m\u001b[1;33m)\u001b[0m\u001b[1;33m)\u001b[0m\u001b[1;33m:\u001b[0m\u001b[1;33m\u001b[0m\u001b[1;33m\u001b[0m\u001b[0m\n\u001b[0;32m    149\u001b[0m             \u001b[0mmean\u001b[0m \u001b[1;33m=\u001b[0m \u001b[0mself\u001b[0m\u001b[1;33m.\u001b[0m\u001b[0m_means\u001b[0m\u001b[1;33m[\u001b[0m\u001b[0mindex\u001b[0m\u001b[1;33m]\u001b[0m\u001b[1;33m\u001b[0m\u001b[1;33m\u001b[0m\u001b[0m\n\u001b[1;32m--> 150\u001b[1;33m             \u001b[0mdist\u001b[0m \u001b[1;33m=\u001b[0m \u001b[0mself\u001b[0m\u001b[1;33m.\u001b[0m\u001b[0m_distance\u001b[0m\u001b[1;33m(\u001b[0m\u001b[0mvector\u001b[0m\u001b[1;33m,\u001b[0m \u001b[0mmean\u001b[0m\u001b[1;33m)\u001b[0m\u001b[1;33m\u001b[0m\u001b[1;33m\u001b[0m\u001b[0m\n\u001b[0m\u001b[0;32m    151\u001b[0m             \u001b[1;32mif\u001b[0m \u001b[0mbest_distance\u001b[0m \u001b[1;32mis\u001b[0m \u001b[1;32mNone\u001b[0m \u001b[1;32mor\u001b[0m \u001b[0mdist\u001b[0m \u001b[1;33m<\u001b[0m \u001b[0mbest_distance\u001b[0m\u001b[1;33m:\u001b[0m\u001b[1;33m\u001b[0m\u001b[1;33m\u001b[0m\u001b[0m\n\u001b[0;32m    152\u001b[0m                 \u001b[0mbest_index\u001b[0m\u001b[1;33m,\u001b[0m \u001b[0mbest_distance\u001b[0m \u001b[1;33m=\u001b[0m \u001b[0mindex\u001b[0m\u001b[1;33m,\u001b[0m \u001b[0mdist\u001b[0m\u001b[1;33m\u001b[0m\u001b[1;33m\u001b[0m\u001b[0m\n",
      "\u001b[1;32mC:\\ProgramData\\Anaconda3\\lib\\site-packages\\sklearn\\metrics\\pairwise.py\u001b[0m in \u001b[0;36mcosine_similarity\u001b[1;34m(X, Y, dense_output)\u001b[0m\n\u001b[0;32m   1176\u001b[0m     \u001b[1;31m# to avoid recursive import\u001b[0m\u001b[1;33m\u001b[0m\u001b[1;33m\u001b[0m\u001b[1;33m\u001b[0m\u001b[0m\n\u001b[0;32m   1177\u001b[0m \u001b[1;33m\u001b[0m\u001b[0m\n\u001b[1;32m-> 1178\u001b[1;33m     \u001b[0mX\u001b[0m\u001b[1;33m,\u001b[0m \u001b[0mY\u001b[0m \u001b[1;33m=\u001b[0m \u001b[0mcheck_pairwise_arrays\u001b[0m\u001b[1;33m(\u001b[0m\u001b[0mX\u001b[0m\u001b[1;33m,\u001b[0m \u001b[0mY\u001b[0m\u001b[1;33m)\u001b[0m\u001b[1;33m\u001b[0m\u001b[1;33m\u001b[0m\u001b[0m\n\u001b[0m\u001b[0;32m   1179\u001b[0m \u001b[1;33m\u001b[0m\u001b[0m\n\u001b[0;32m   1180\u001b[0m     \u001b[0mX_normalized\u001b[0m \u001b[1;33m=\u001b[0m \u001b[0mnormalize\u001b[0m\u001b[1;33m(\u001b[0m\u001b[0mX\u001b[0m\u001b[1;33m,\u001b[0m \u001b[0mcopy\u001b[0m\u001b[1;33m=\u001b[0m\u001b[1;32mTrue\u001b[0m\u001b[1;33m)\u001b[0m\u001b[1;33m\u001b[0m\u001b[1;33m\u001b[0m\u001b[0m\n",
      "\u001b[1;32mC:\\ProgramData\\Anaconda3\\lib\\site-packages\\sklearn\\utils\\validation.py\u001b[0m in \u001b[0;36minner_f\u001b[1;34m(*args, **kwargs)\u001b[0m\n\u001b[0;32m     71\u001b[0m                           FutureWarning)\n\u001b[0;32m     72\u001b[0m         \u001b[0mkwargs\u001b[0m\u001b[1;33m.\u001b[0m\u001b[0mupdate\u001b[0m\u001b[1;33m(\u001b[0m\u001b[1;33m{\u001b[0m\u001b[0mk\u001b[0m\u001b[1;33m:\u001b[0m \u001b[0marg\u001b[0m \u001b[1;32mfor\u001b[0m \u001b[0mk\u001b[0m\u001b[1;33m,\u001b[0m \u001b[0marg\u001b[0m \u001b[1;32min\u001b[0m \u001b[0mzip\u001b[0m\u001b[1;33m(\u001b[0m\u001b[0msig\u001b[0m\u001b[1;33m.\u001b[0m\u001b[0mparameters\u001b[0m\u001b[1;33m,\u001b[0m \u001b[0margs\u001b[0m\u001b[1;33m)\u001b[0m\u001b[1;33m}\u001b[0m\u001b[1;33m)\u001b[0m\u001b[1;33m\u001b[0m\u001b[1;33m\u001b[0m\u001b[0m\n\u001b[1;32m---> 73\u001b[1;33m         \u001b[1;32mreturn\u001b[0m \u001b[0mf\u001b[0m\u001b[1;33m(\u001b[0m\u001b[1;33m**\u001b[0m\u001b[0mkwargs\u001b[0m\u001b[1;33m)\u001b[0m\u001b[1;33m\u001b[0m\u001b[1;33m\u001b[0m\u001b[0m\n\u001b[0m\u001b[0;32m     74\u001b[0m     \u001b[1;32mreturn\u001b[0m \u001b[0minner_f\u001b[0m\u001b[1;33m\u001b[0m\u001b[1;33m\u001b[0m\u001b[0m\n\u001b[0;32m     75\u001b[0m \u001b[1;33m\u001b[0m\u001b[0m\n",
      "\u001b[1;32mC:\\ProgramData\\Anaconda3\\lib\\site-packages\\sklearn\\metrics\\pairwise.py\u001b[0m in \u001b[0;36mcheck_pairwise_arrays\u001b[1;34m(X, Y, precomputed, dtype, accept_sparse, force_all_finite, copy)\u001b[0m\n\u001b[0;32m    144\u001b[0m         X = check_array(X, accept_sparse=accept_sparse, dtype=dtype,\n\u001b[0;32m    145\u001b[0m                         \u001b[0mcopy\u001b[0m\u001b[1;33m=\u001b[0m\u001b[0mcopy\u001b[0m\u001b[1;33m,\u001b[0m \u001b[0mforce_all_finite\u001b[0m\u001b[1;33m=\u001b[0m\u001b[0mforce_all_finite\u001b[0m\u001b[1;33m,\u001b[0m\u001b[1;33m\u001b[0m\u001b[1;33m\u001b[0m\u001b[0m\n\u001b[1;32m--> 146\u001b[1;33m                         estimator=estimator)\n\u001b[0m\u001b[0;32m    147\u001b[0m         Y = check_array(Y, accept_sparse=accept_sparse, dtype=dtype,\n\u001b[0;32m    148\u001b[0m                         \u001b[0mcopy\u001b[0m\u001b[1;33m=\u001b[0m\u001b[0mcopy\u001b[0m\u001b[1;33m,\u001b[0m \u001b[0mforce_all_finite\u001b[0m\u001b[1;33m=\u001b[0m\u001b[0mforce_all_finite\u001b[0m\u001b[1;33m,\u001b[0m\u001b[1;33m\u001b[0m\u001b[1;33m\u001b[0m\u001b[0m\n",
      "\u001b[1;32mC:\\ProgramData\\Anaconda3\\lib\\site-packages\\sklearn\\utils\\validation.py\u001b[0m in \u001b[0;36minner_f\u001b[1;34m(*args, **kwargs)\u001b[0m\n\u001b[0;32m     71\u001b[0m                           FutureWarning)\n\u001b[0;32m     72\u001b[0m         \u001b[0mkwargs\u001b[0m\u001b[1;33m.\u001b[0m\u001b[0mupdate\u001b[0m\u001b[1;33m(\u001b[0m\u001b[1;33m{\u001b[0m\u001b[0mk\u001b[0m\u001b[1;33m:\u001b[0m \u001b[0marg\u001b[0m \u001b[1;32mfor\u001b[0m \u001b[0mk\u001b[0m\u001b[1;33m,\u001b[0m \u001b[0marg\u001b[0m \u001b[1;32min\u001b[0m \u001b[0mzip\u001b[0m\u001b[1;33m(\u001b[0m\u001b[0msig\u001b[0m\u001b[1;33m.\u001b[0m\u001b[0mparameters\u001b[0m\u001b[1;33m,\u001b[0m \u001b[0margs\u001b[0m\u001b[1;33m)\u001b[0m\u001b[1;33m}\u001b[0m\u001b[1;33m)\u001b[0m\u001b[1;33m\u001b[0m\u001b[1;33m\u001b[0m\u001b[0m\n\u001b[1;32m---> 73\u001b[1;33m         \u001b[1;32mreturn\u001b[0m \u001b[0mf\u001b[0m\u001b[1;33m(\u001b[0m\u001b[1;33m**\u001b[0m\u001b[0mkwargs\u001b[0m\u001b[1;33m)\u001b[0m\u001b[1;33m\u001b[0m\u001b[1;33m\u001b[0m\u001b[0m\n\u001b[0m\u001b[0;32m     74\u001b[0m     \u001b[1;32mreturn\u001b[0m \u001b[0minner_f\u001b[0m\u001b[1;33m\u001b[0m\u001b[1;33m\u001b[0m\u001b[0m\n\u001b[0;32m     75\u001b[0m \u001b[1;33m\u001b[0m\u001b[0m\n",
      "\u001b[1;32mC:\\ProgramData\\Anaconda3\\lib\\site-packages\\sklearn\\utils\\validation.py\u001b[0m in \u001b[0;36mcheck_array\u001b[1;34m(array, accept_sparse, accept_large_sparse, dtype, order, copy, force_all_finite, ensure_2d, allow_nd, ensure_min_samples, ensure_min_features, estimator)\u001b[0m\n\u001b[0;32m    622\u001b[0m                     \u001b[1;34m\"Reshape your data either using array.reshape(-1, 1) if \"\u001b[0m\u001b[1;33m\u001b[0m\u001b[1;33m\u001b[0m\u001b[0m\n\u001b[0;32m    623\u001b[0m                     \u001b[1;34m\"your data has a single feature or array.reshape(1, -1) \"\u001b[0m\u001b[1;33m\u001b[0m\u001b[1;33m\u001b[0m\u001b[0m\n\u001b[1;32m--> 624\u001b[1;33m                     \"if it contains a single sample.\".format(array))\n\u001b[0m\u001b[0;32m    625\u001b[0m \u001b[1;33m\u001b[0m\u001b[0m\n\u001b[0;32m    626\u001b[0m         \u001b[1;31m# in the future np.flexible dtypes will be handled like object dtypes\u001b[0m\u001b[1;33m\u001b[0m\u001b[1;33m\u001b[0m\u001b[1;33m\u001b[0m\u001b[0m\n",
      "\u001b[1;31mValueError\u001b[0m: Expected 2D array, got 1D array instead:\narray=[-0.09678844 -0.04914731 -0.0918996   0.03148106  0.00692426  0.02474998\n -0.0310649  -0.02250112  0.05037763  0.05495568 -0.04182899  0.10333367\n -0.05581373  0.01879965 -0.07700264 -0.03032341 -0.03557343  0.06771304\n  0.02605025  0.06973264 -0.02110648 -0.02923694 -0.05119487 -0.01076027\n  0.00174566  0.0030407   0.02972826  0.02488391 -0.01659029  0.03182782\n  0.02854276  0.01147087 -0.07295819  0.03566049 -0.0223949   0.04332376\n  0.1364155   0.037664   -0.01921118 -0.00619069 -0.00109907 -0.03387676\n -0.04258525 -0.04437709 -0.02700844  0.02641395  0.0064106  -0.05381642\n  0.02613112  0.00205968 -0.00765213 -0.00555755 -0.0157114  -0.03708303\n -0.02643336 -0.01312637  0.03380334  0.00098299 -0.00653874 -0.03195605\n  0.0195149   0.11072549 -0.00439097  0.05608417  0.03619593  0.04922133\n -0.01214806  0.0562921  -0.01620516 -0.10049026 -0.00202969  0.03484849\n -0.10684189 -0.05593963 -0.00847917  0.02041832 -0.0543266  -0.02564202\n  0.0250819   0.02892848 -0.02078645  0.00502697 -0.06083879  0.03798278\n -0.03051088 -0.01015564 -0.02967493 -0.02264585 -0.00457275 -0.09688368\n -0.01052988  0.01150251  0.08832052  0.02863958 -0.00195166  0.0557788\n -0.04898931 -0.00822333  0.00799559 -0.0014846 ].\nReshape your data either using array.reshape(-1, 1) if your data has a single feature or array.reshape(1, -1) if it contains a single sample."
     ]
    }
   ],
   "source": [
    "from nltk.cluster.kmeans import KMeansClusterer\n",
    "\n",
    "kmc = KMeansClusterer(num_means=60, distance=cosine_similarity)\n",
    "clusters = kmc.cluster(embeddings_array, True, trace=True)\n",
    "clusters"
   ]
  },
  {
   "cell_type": "code",
   "execution_count": null,
   "metadata": {},
   "outputs": [],
   "source": []
  },
  {
   "cell_type": "code",
   "execution_count": null,
   "metadata": {},
   "outputs": [],
   "source": []
  }
 ],
 "metadata": {
  "kernelspec": {
   "display_name": "Python 3",
   "language": "python",
   "name": "python3"
  },
  "language_info": {
   "codemirror_mode": {
    "name": "ipython",
    "version": 3
   },
   "file_extension": ".py",
   "mimetype": "text/x-python",
   "name": "python",
   "nbconvert_exporter": "python",
   "pygments_lexer": "ipython3",
   "version": "3.7.6"
  }
 },
 "nbformat": 4,
 "nbformat_minor": 2
}
