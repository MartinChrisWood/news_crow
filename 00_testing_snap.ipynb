{
 "cells": [
  {
   "cell_type": "markdown",
   "metadata": {},
   "source": [
    "# Need to migrate from networkX\n",
    "\n",
    "https://snap.stanford.edu/snappy/doc/tutorial/tutorial.html\n",
    "\n",
    "This package doesn't have very pythonic methods, kind of annoying..."
   ]
  },
  {
   "cell_type": "code",
   "execution_count": 5,
   "metadata": {
    "scrolled": true
   },
   "outputs": [],
   "source": [
    "import snap\n",
    "import random"
   ]
  },
  {
   "cell_type": "code",
   "execution_count": null,
   "metadata": {},
   "outputs": [],
   "source": [
    "# Graphs have mere topology, networks have associated data.\n",
    "# I'll use a network representation so that I can add weight information\n",
    "# to the edges if I need to"
   ]
  },
  {
   "cell_type": "code",
   "execution_count": 14,
   "metadata": {},
   "outputs": [
    {
     "name": "stdout",
     "output_type": "stream",
     "text": [
      "node: 0, out-degree 2, in-degree 0\n",
      "node: 1, out-degree 2, in-degree 1\n",
      "node: 2, out-degree 1, in-degree 3\n",
      "node: 3, out-degree 2, in-degree 4\n",
      "node: 4, out-degree 1, in-degree 1\n",
      "node: 5, out-degree 2, in-degree 1\n",
      "node: 6, out-degree 5, in-degree 4\n",
      "node: 7, out-degree 0, in-degree 2\n",
      "node: 8, out-degree 2, in-degree 4\n",
      "node: 9, out-degree 3, in-degree 0\n"
     ]
    }
   ],
   "source": [
    "G1 = snap.TNEANet.New()\n",
    "\n",
    "# Add 10 indexed nodes\n",
    "for i in range(10):\n",
    "    G1.AddNode(i)\n",
    "\n",
    "# Add 20 entirely random edges\n",
    "for i in range(20):\n",
    "    G1.AddEdge(random.randint(0, 9), random.randint(0, 9))\n",
    "    \n",
    "# Lets have a look at the degrees of the nodes\n",
    "for NI in G1.Nodes():\n",
    "    print(\"node: %d, out-degree %d, in-degree %d\" % ( NI.GetId(), NI.GetOutDeg(), NI.GetInDeg()))"
   ]
  },
  {
   "cell_type": "code",
   "execution_count": 16,
   "metadata": {},
   "outputs": [
    {
     "data": {
      "text/plain": [
       "0.039999999999999994"
      ]
     },
     "execution_count": 16,
     "metadata": {},
     "output_type": "execute_result"
    }
   ],
   "source": [
    "# Get the clustering coefficient (what's a clustering coefficient?)\n",
    "cf = snap.GetClustCf(G1)\n",
    "cf"
   ]
  },
  {
   "cell_type": "code",
   "execution_count": null,
   "metadata": {},
   "outputs": [],
   "source": []
  }
 ],
 "metadata": {
  "kernelspec": {
   "display_name": "Python 3",
   "language": "python",
   "name": "python3"
  },
  "language_info": {
   "codemirror_mode": {
    "name": "ipython",
    "version": 3
   },
   "file_extension": ".py",
   "mimetype": "text/x-python",
   "name": "python",
   "nbconvert_exporter": "python",
   "pygments_lexer": "ipython3",
   "version": "3.7.4"
  }
 },
 "nbformat": 4,
 "nbformat_minor": 2
}
