{
 "cells": [
  {
   "cell_type": "markdown",
   "metadata": {},
   "source": [
    "# Need to migrate from networkX\n",
    "\n",
    "https://snap.stanford.edu/snappy/doc/tutorial/tutorial.html\n",
    "\n",
    "This package doesn't have very pythonic methods, kind of annoying..."
   ]
  },
  {
   "cell_type": "code",
   "execution_count": 1,
   "metadata": {
    "scrolled": true
   },
   "outputs": [],
   "source": [
    "import snap\n",
    "import random"
   ]
  },
  {
   "cell_type": "code",
   "execution_count": 2,
   "metadata": {},
   "outputs": [],
   "source": [
    "# Graphs have mere topology, networks have associated data.\n",
    "# I'll use a network representation so that I can add weight information\n",
    "# to the edges if I need to"
   ]
  },
  {
   "cell_type": "code",
   "execution_count": 3,
   "metadata": {},
   "outputs": [
    {
     "name": "stdout",
     "output_type": "stream",
     "text": [
      "node: 0, out-degree 5, in-degree 5\n",
      "node: 1, out-degree 1, in-degree 1\n",
      "node: 2, out-degree 4, in-degree 4\n",
      "node: 3, out-degree 2, in-degree 2\n",
      "node: 4, out-degree 6, in-degree 6\n",
      "node: 5, out-degree 6, in-degree 6\n",
      "node: 6, out-degree 3, in-degree 3\n",
      "node: 7, out-degree 2, in-degree 2\n",
      "node: 8, out-degree 2, in-degree 2\n",
      "node: 9, out-degree 4, in-degree 4\n"
     ]
    }
   ],
   "source": [
    "G1 = snap.TUNGraph.New()\n",
    "\n",
    "# Add 10 indexed nodes\n",
    "for i in range(10):\n",
    "    G1.AddNode(i)\n",
    "\n",
    "# Add 20 entirely random edges\n",
    "for i in range(20):\n",
    "    G1.AddEdge(random.randint(0, 9), random.randint(0, 9))\n",
    "    \n",
    "# Lets have a look at the degrees of the nodes\n",
    "for NI in G1.Nodes():\n",
    "    print(\"node: %d, out-degree %d, in-degree %d\" % ( NI.GetId(), NI.GetOutDeg(), NI.GetInDeg()))"
   ]
  },
  {
   "cell_type": "code",
   "execution_count": 4,
   "metadata": {},
   "outputs": [
    {
     "data": {
      "text/plain": [
       "0.4633333333333334"
      ]
     },
     "execution_count": 4,
     "metadata": {},
     "output_type": "execute_result"
    }
   ],
   "source": [
    "# Get the clustering coefficient (what's a clustering coefficient?)\n",
    "cf = snap.GetClustCf(G1)\n",
    "cf"
   ]
  },
  {
   "cell_type": "code",
   "execution_count": 6,
   "metadata": {},
   "outputs": [
    {
     "name": "stdout",
     "output_type": "stream",
     "text": [
      "Community: \n",
      "0\n",
      "3\n",
      "5\n",
      "Community: \n",
      "1\n",
      "2\n",
      "6\n",
      "Community: \n",
      "4\n",
      "7\n",
      "8\n",
      "9\n",
      "The modularity of the network is 0.168981\n"
     ]
    }
   ],
   "source": [
    "CmtyV = snap.TCnComV()\n",
    "modularity = snap.CommunityCNM(G1, CmtyV)\n",
    "for Cmty in CmtyV:\n",
    "    print(\"Community: \")\n",
    "    for NI in Cmty:\n",
    "        print(NI)\n",
    "print(\"The modularity of the network is %f\" % modularity)"
   ]
  },
  {
   "cell_type": "code",
   "execution_count": null,
   "metadata": {},
   "outputs": [],
   "source": [
    "from gensim.test.utils import common_texts, get_tmpfile"
   ]
  },
  {
   "cell_type": "code",
   "execution_count": null,
   "metadata": {},
   "outputs": [],
   "source": []
  }
 ],
 "metadata": {
  "kernelspec": {
   "display_name": "Python 3",
   "language": "python",
   "name": "python3"
  },
  "language_info": {
   "codemirror_mode": {
    "name": "ipython",
    "version": 3
   },
   "file_extension": ".py",
   "mimetype": "text/x-python",
   "name": "python",
   "nbconvert_exporter": "python",
   "pygments_lexer": "ipython3",
   "version": "3.7.6"
  }
 },
 "nbformat": 4,
 "nbformat_minor": 2
}
